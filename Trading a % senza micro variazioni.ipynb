{
 "cells": [
  {
   "cell_type": "code",
   "execution_count": 1,
   "metadata": {},
   "outputs": [],
   "source": [
    "import numpy as np\n",
    "import pandas as pd\n",
    "import plotly.graph_objects as go\n",
    "import matplotlib.pyplot as plt"
   ]
  },
  {
   "cell_type": "code",
   "execution_count": 2,
   "metadata": {},
   "outputs": [],
   "source": [
    "import warnings\n",
    "warnings.simplefilter(action='ignore', category=FutureWarning)\n",
    "\n",
    "# Sopprimi i RuntimeWarning\n",
    "warnings.filterwarnings(\"ignore\", category=RuntimeWarning)"
   ]
  },
  {
   "cell_type": "markdown",
   "metadata": {},
   "source": [
    "## Studio algoritmi per trovare i prezzi di riferimento per il calcolo delle variazioni di prezzo"
   ]
  },
  {
   "cell_type": "code",
   "execution_count": 3,
   "metadata": {},
   "outputs": [],
   "source": [
    "# Funzione per generare prezzi casuali basati su una distribuzione delle variazioni\n",
    "def genera_prezzi(num_giorni, distribuzione_variazioni):\n",
    "    np.random.seed(0)  # Per riproducibilità\n",
    "    prezzi = [100]  # Prezzo iniziale\n",
    "    variazioni = np.random.choice(list(distribuzione_variazioni.keys()), \n",
    "                                  size=num_giorni-1, \n",
    "                                  p=list(distribuzione_variazioni.values()))\n",
    "    \n",
    "    for variazione in variazioni:\n",
    "        prezzi.append(prezzi[-1] * (1 + variazione))\n",
    "    \n",
    "    return pd.DataFrame({'Timestamp': pd.date_range(start='2023-01-01', periods=num_giorni, freq='D'), \n",
    "                         'Price': prezzi})"
   ]
  },
  {
   "cell_type": "code",
   "execution_count": 4,
   "metadata": {},
   "outputs": [
    {
     "data": {
      "application/vnd.plotly.v1+json": {
       "config": {
        "plotlyServerURL": "https://plot.ly"
       },
       "data": [
        {
         "line": {
          "color": "blue",
          "width": 2
         },
         "mode": "lines",
         "name": "Prezzi",
         "type": "scatter",
         "x": [
          "2023-01-01T00:00:00",
          "2023-01-02T00:00:00",
          "2023-01-03T00:00:00",
          "2023-01-04T00:00:00",
          "2023-01-05T00:00:00",
          "2023-01-06T00:00:00",
          "2023-01-07T00:00:00",
          "2023-01-08T00:00:00",
          "2023-01-09T00:00:00",
          "2023-01-10T00:00:00",
          "2023-01-11T00:00:00",
          "2023-01-12T00:00:00",
          "2023-01-13T00:00:00",
          "2023-01-14T00:00:00",
          "2023-01-15T00:00:00",
          "2023-01-16T00:00:00",
          "2023-01-17T00:00:00",
          "2023-01-18T00:00:00",
          "2023-01-19T00:00:00",
          "2023-01-20T00:00:00",
          "2023-01-21T00:00:00",
          "2023-01-22T00:00:00",
          "2023-01-23T00:00:00",
          "2023-01-24T00:00:00",
          "2023-01-25T00:00:00",
          "2023-01-26T00:00:00",
          "2023-01-27T00:00:00",
          "2023-01-28T00:00:00",
          "2023-01-29T00:00:00",
          "2023-01-30T00:00:00",
          "2023-01-31T00:00:00",
          "2023-02-01T00:00:00",
          "2023-02-02T00:00:00",
          "2023-02-03T00:00:00",
          "2023-02-04T00:00:00",
          "2023-02-05T00:00:00",
          "2023-02-06T00:00:00",
          "2023-02-07T00:00:00",
          "2023-02-08T00:00:00",
          "2023-02-09T00:00:00",
          "2023-02-10T00:00:00",
          "2023-02-11T00:00:00",
          "2023-02-12T00:00:00",
          "2023-02-13T00:00:00",
          "2023-02-14T00:00:00",
          "2023-02-15T00:00:00",
          "2023-02-16T00:00:00",
          "2023-02-17T00:00:00",
          "2023-02-18T00:00:00",
          "2023-02-19T00:00:00",
          "2023-02-20T00:00:00",
          "2023-02-21T00:00:00",
          "2023-02-22T00:00:00",
          "2023-02-23T00:00:00",
          "2023-02-24T00:00:00",
          "2023-02-25T00:00:00",
          "2023-02-26T00:00:00",
          "2023-02-27T00:00:00",
          "2023-02-28T00:00:00",
          "2023-03-01T00:00:00",
          "2023-03-02T00:00:00",
          "2023-03-03T00:00:00",
          "2023-03-04T00:00:00",
          "2023-03-05T00:00:00",
          "2023-03-06T00:00:00",
          "2023-03-07T00:00:00",
          "2023-03-08T00:00:00",
          "2023-03-09T00:00:00",
          "2023-03-10T00:00:00",
          "2023-03-11T00:00:00",
          "2023-03-12T00:00:00",
          "2023-03-13T00:00:00",
          "2023-03-14T00:00:00",
          "2023-03-15T00:00:00",
          "2023-03-16T00:00:00",
          "2023-03-17T00:00:00",
          "2023-03-18T00:00:00",
          "2023-03-19T00:00:00",
          "2023-03-20T00:00:00",
          "2023-03-21T00:00:00",
          "2023-03-22T00:00:00",
          "2023-03-23T00:00:00",
          "2023-03-24T00:00:00",
          "2023-03-25T00:00:00",
          "2023-03-26T00:00:00",
          "2023-03-27T00:00:00",
          "2023-03-28T00:00:00",
          "2023-03-29T00:00:00",
          "2023-03-30T00:00:00",
          "2023-03-31T00:00:00",
          "2023-04-01T00:00:00",
          "2023-04-02T00:00:00",
          "2023-04-03T00:00:00",
          "2023-04-04T00:00:00",
          "2023-04-05T00:00:00",
          "2023-04-06T00:00:00",
          "2023-04-07T00:00:00",
          "2023-04-08T00:00:00",
          "2023-04-09T00:00:00",
          "2023-04-10T00:00:00"
         ],
         "y": [
          100,
          101,
          103.02,
          104.0502,
          105.09070200000001,
          104.03979498000001,
          105.0801929298,
          104.029391000502,
          106.10997882051204,
          111.41547776153764,
          110.30132298392226,
          112.5073494436007,
          113.63242293803671,
          114.76874716741708,
          120.50718452578793,
          114.48182529949854,
          108.75773403452361,
          103.31984733279742,
          105.38624427945338,
          107.49396916504244,
          109.6438485483433,
          115.12604097576047,
          117.42856179527568,
          116.25427617732292,
          118.57936170086938,
          116.207774466852,
          117.36985221152052,
          115.0224551672901,
          120.77357792565462,
          121.98131370491117,
          120.76150056786206,
          118.34627055650482,
          120.71319596763492,
          119.50606400795857,
          120.70112464803816,
          114.66606841563625,
          115.8127290997926,
          116.97085639079053,
          118.14056495469843,
          124.04759320243336,
          125.2880691344577,
          124.03518844311313,
          122.794836558682,
          124.02278492426882,
          117.82164567805538,
          118.99986213483594,
          120.1898607561843,
          117.78606354106061,
          115.4303422702394,
          114.276038847537,
          113.13327845906163,
          114.26461124365224,
          113.12196513121572,
          118.77806338777651,
          116.40250212002098,
          114.07445207762056,
          111.79296303606814,
          112.91089266642882,
          110.65267481310025,
          109.54614806496924,
          107.35522510366985,
          105.20812060159645,
          103.10395818956452,
          104.13499777146016,
          102.05229781603096,
          100.01125185971034,
          99.01113934111324,
          100.9913621279355,
          95.94179402153873,
          97.8606299019695,
          92.96759840687102,
          97.61597832721458,
          96.63981854394243,
          101.47180947113955,
          102.48652756585095,
          104.53625811716798,
          99.30944521130957,
          97.32325630708337,
          95.3767911809417,
          93.46925535732287,
          91.59987025017641,
          90.68387154767464,
          89.77703283219789,
          85.28818119058799,
          86.14106300249387,
          87.0024736325188,
          85.26242415986842,
          86.1150484014671,
          81.80929598139375,
          82.62738894120768,
          86.75875838826808,
          85.8911708043854,
          86.75008251242924,
          85.01508086218065,
          86.71538247942426,
          84.98107482983578,
          83.28145333323906,
          84.11426786657145,
          79.90855447324287,
          81.50672556270773
         ]
        },
        {
         "hoverinfo": "text+name",
         "marker": {
          "color": "green",
          "size": 10
         },
         "mode": "markers+text",
         "name": "Riferimento Discesa",
         "text": [
          "86.76"
         ],
         "textposition": "top center",
         "type": "scatter",
         "x": [
          "2023-04-01T00:00:00"
         ],
         "y": [
          86.75875838826808
         ]
        },
        {
         "hoverinfo": "text+name",
         "marker": {
          "color": "green",
          "size": 10
         },
         "mode": "markers+text",
         "name": "Riferimento Discesa",
         "text": [
          "104.54"
         ],
         "textposition": "top center",
         "type": "scatter",
         "x": [
          "2023-03-17T00:00:00"
         ],
         "y": [
          104.53625811716798
         ]
        },
        {
         "hoverinfo": "text+name",
         "marker": {
          "color": "green",
          "size": 10
         },
         "mode": "markers+text",
         "name": "Riferimento Discesa",
         "text": [
          "97.62"
         ],
         "textposition": "top center",
         "type": "scatter",
         "x": [
          "2023-03-13T00:00:00"
         ],
         "y": [
          97.61597832721458
         ]
        },
        {
         "hoverinfo": "text+name",
         "marker": {
          "color": "green",
          "size": 10
         },
         "mode": "markers+text",
         "name": "Riferimento Discesa",
         "text": [
          "118.78"
         ],
         "textposition": "top center",
         "type": "scatter",
         "x": [
          "2023-02-23T00:00:00"
         ],
         "y": [
          118.77806338777651
         ]
        },
        {
         "hoverinfo": "text+name",
         "marker": {
          "color": "green",
          "size": 10
         },
         "mode": "markers+text",
         "name": "Riferimento Discesa",
         "text": [
          "125.29"
         ],
         "textposition": "top center",
         "type": "scatter",
         "x": [
          "2023-02-10T00:00:00"
         ],
         "y": [
          125.2880691344577
         ]
        },
        {
         "hoverinfo": "text+name",
         "marker": {
          "color": "green",
          "size": 10
         },
         "mode": "markers+text",
         "name": "Riferimento Discesa",
         "text": [
          "121.98"
         ],
         "textposition": "top center",
         "type": "scatter",
         "x": [
          "2023-01-30T00:00:00"
         ],
         "y": [
          121.98131370491117
         ]
        },
        {
         "hoverinfo": "text+name",
         "marker": {
          "color": "green",
          "size": 10
         },
         "mode": "markers+text",
         "name": "Riferimento Discesa",
         "text": [
          "117.43"
         ],
         "textposition": "top center",
         "type": "scatter",
         "x": [
          "2023-01-23T00:00:00"
         ],
         "y": [
          117.42856179527568
         ]
        },
        {
         "hoverinfo": "text+name",
         "marker": {
          "color": "green",
          "size": 10
         },
         "mode": "markers+text",
         "name": "Riferimento Discesa",
         "text": [
          "120.51"
         ],
         "textposition": "top center",
         "type": "scatter",
         "x": [
          "2023-01-15T00:00:00"
         ],
         "y": [
          120.50718452578793
         ]
        },
        {
         "hoverinfo": "text+name",
         "marker": {
          "color": "green",
          "size": 10
         },
         "mode": "markers+text",
         "name": "Riferimento Discesa",
         "text": [
          "111.42"
         ],
         "textposition": "top center",
         "type": "scatter",
         "x": [
          "2023-01-10T00:00:00"
         ],
         "y": [
          111.41547776153764
         ]
        },
        {
         "hoverinfo": "text+name",
         "marker": {
          "color": "green",
          "size": 10
         },
         "mode": "markers+text",
         "name": "Riferimento Discesa",
         "text": [
          "105.09"
         ],
         "textposition": "top center",
         "type": "scatter",
         "x": [
          "2023-01-05T00:00:00"
         ],
         "y": [
          105.09070200000001
         ]
        },
        {
         "hoverinfo": "text+name",
         "marker": {
          "color": "red",
          "size": 10
         },
         "mode": "markers+text",
         "name": "Riferimento Salita",
         "text": [
          "79.91"
         ],
         "textposition": "top center",
         "type": "scatter",
         "x": [
          "2023-04-09T00:00:00"
         ],
         "y": [
          79.90855447324287
         ]
        },
        {
         "hoverinfo": "text+name",
         "marker": {
          "color": "red",
          "size": 10
         },
         "mode": "markers+text",
         "name": "Riferimento Salita",
         "text": [
          "81.81"
         ],
         "textposition": "top center",
         "type": "scatter",
         "x": [
          "2023-03-30T00:00:00"
         ],
         "y": [
          81.80929598139375
         ]
        },
        {
         "hoverinfo": "text+name",
         "marker": {
          "color": "red",
          "size": 10
         },
         "mode": "markers+text",
         "name": "Riferimento Salita",
         "text": [
          "85.29"
         ],
         "textposition": "top center",
         "type": "scatter",
         "x": [
          "2023-03-25T00:00:00"
         ],
         "y": [
          85.28818119058799
         ]
        },
        {
         "hoverinfo": "text+name",
         "marker": {
          "color": "red",
          "size": 10
         },
         "mode": "markers+text",
         "name": "Riferimento Salita",
         "text": [
          "92.97"
         ],
         "textposition": "top center",
         "type": "scatter",
         "x": [
          "2023-03-12T00:00:00"
         ],
         "y": [
          92.96759840687102
         ]
        },
        {
         "hoverinfo": "text+name",
         "marker": {
          "color": "red",
          "size": 10
         },
         "mode": "markers+text",
         "name": "Riferimento Salita",
         "text": [
          "95.94"
         ],
         "textposition": "top center",
         "type": "scatter",
         "x": [
          "2023-03-10T00:00:00"
         ],
         "y": [
          95.94179402153873
         ]
        },
        {
         "hoverinfo": "text+name",
         "marker": {
          "color": "red",
          "size": 10
         },
         "mode": "markers+text",
         "name": "Riferimento Salita",
         "text": [
          "103.10"
         ],
         "textposition": "top center",
         "type": "scatter",
         "x": [
          "2023-03-04T00:00:00"
         ],
         "y": [
          103.10395818956452
         ]
        },
        {
         "hoverinfo": "text+name",
         "marker": {
          "color": "red",
          "size": 10
         },
         "mode": "markers+text",
         "name": "Riferimento Salita",
         "text": [
          "111.79"
         ],
         "textposition": "top center",
         "type": "scatter",
         "x": [
          "2023-02-26T00:00:00"
         ],
         "y": [
          111.79296303606814
         ]
        },
        {
         "hoverinfo": "text+name",
         "marker": {
          "color": "red",
          "size": 10
         },
         "mode": "markers+text",
         "name": "Riferimento Salita",
         "text": [
          "113.13"
         ],
         "textposition": "top center",
         "type": "scatter",
         "x": [
          "2023-02-20T00:00:00"
         ],
         "y": [
          113.13327845906163
         ]
        },
        {
         "hoverinfo": "text+name",
         "marker": {
          "color": "red",
          "size": 10
         },
         "mode": "markers+text",
         "name": "Riferimento Salita",
         "text": [
          "117.82"
         ],
         "textposition": "top center",
         "type": "scatter",
         "x": [
          "2023-02-14T00:00:00"
         ],
         "y": [
          117.82164567805538
         ]
        },
        {
         "hoverinfo": "text+name",
         "marker": {
          "color": "red",
          "size": 10
         },
         "mode": "markers+text",
         "name": "Riferimento Salita",
         "text": [
          "114.67"
         ],
         "textposition": "top center",
         "type": "scatter",
         "x": [
          "2023-02-05T00:00:00"
         ],
         "y": [
          114.66606841563625
         ]
        },
        {
         "hoverinfo": "text+name",
         "marker": {
          "color": "red",
          "size": 10
         },
         "mode": "markers+text",
         "name": "Riferimento Salita",
         "text": [
          "103.32"
         ],
         "textposition": "top center",
         "type": "scatter",
         "x": [
          "2023-01-18T00:00:00"
         ],
         "y": [
          103.31984733279742
         ]
        }
       ],
       "layout": {
        "height": 1120,
        "hovermode": "closest",
        "showlegend": false,
        "template": {
         "data": {
          "bar": [
           {
            "error_x": {
             "color": "#2a3f5f"
            },
            "error_y": {
             "color": "#2a3f5f"
            },
            "marker": {
             "line": {
              "color": "white",
              "width": 0.5
             },
             "pattern": {
              "fillmode": "overlay",
              "size": 10,
              "solidity": 0.2
             }
            },
            "type": "bar"
           }
          ],
          "barpolar": [
           {
            "marker": {
             "line": {
              "color": "white",
              "width": 0.5
             },
             "pattern": {
              "fillmode": "overlay",
              "size": 10,
              "solidity": 0.2
             }
            },
            "type": "barpolar"
           }
          ],
          "carpet": [
           {
            "aaxis": {
             "endlinecolor": "#2a3f5f",
             "gridcolor": "#C8D4E3",
             "linecolor": "#C8D4E3",
             "minorgridcolor": "#C8D4E3",
             "startlinecolor": "#2a3f5f"
            },
            "baxis": {
             "endlinecolor": "#2a3f5f",
             "gridcolor": "#C8D4E3",
             "linecolor": "#C8D4E3",
             "minorgridcolor": "#C8D4E3",
             "startlinecolor": "#2a3f5f"
            },
            "type": "carpet"
           }
          ],
          "choropleth": [
           {
            "colorbar": {
             "outlinewidth": 0,
             "ticks": ""
            },
            "type": "choropleth"
           }
          ],
          "contour": [
           {
            "colorbar": {
             "outlinewidth": 0,
             "ticks": ""
            },
            "colorscale": [
             [
              0,
              "#0d0887"
             ],
             [
              0.1111111111111111,
              "#46039f"
             ],
             [
              0.2222222222222222,
              "#7201a8"
             ],
             [
              0.3333333333333333,
              "#9c179e"
             ],
             [
              0.4444444444444444,
              "#bd3786"
             ],
             [
              0.5555555555555556,
              "#d8576b"
             ],
             [
              0.6666666666666666,
              "#ed7953"
             ],
             [
              0.7777777777777778,
              "#fb9f3a"
             ],
             [
              0.8888888888888888,
              "#fdca26"
             ],
             [
              1,
              "#f0f921"
             ]
            ],
            "type": "contour"
           }
          ],
          "contourcarpet": [
           {
            "colorbar": {
             "outlinewidth": 0,
             "ticks": ""
            },
            "type": "contourcarpet"
           }
          ],
          "heatmap": [
           {
            "colorbar": {
             "outlinewidth": 0,
             "ticks": ""
            },
            "colorscale": [
             [
              0,
              "#0d0887"
             ],
             [
              0.1111111111111111,
              "#46039f"
             ],
             [
              0.2222222222222222,
              "#7201a8"
             ],
             [
              0.3333333333333333,
              "#9c179e"
             ],
             [
              0.4444444444444444,
              "#bd3786"
             ],
             [
              0.5555555555555556,
              "#d8576b"
             ],
             [
              0.6666666666666666,
              "#ed7953"
             ],
             [
              0.7777777777777778,
              "#fb9f3a"
             ],
             [
              0.8888888888888888,
              "#fdca26"
             ],
             [
              1,
              "#f0f921"
             ]
            ],
            "type": "heatmap"
           }
          ],
          "heatmapgl": [
           {
            "colorbar": {
             "outlinewidth": 0,
             "ticks": ""
            },
            "colorscale": [
             [
              0,
              "#0d0887"
             ],
             [
              0.1111111111111111,
              "#46039f"
             ],
             [
              0.2222222222222222,
              "#7201a8"
             ],
             [
              0.3333333333333333,
              "#9c179e"
             ],
             [
              0.4444444444444444,
              "#bd3786"
             ],
             [
              0.5555555555555556,
              "#d8576b"
             ],
             [
              0.6666666666666666,
              "#ed7953"
             ],
             [
              0.7777777777777778,
              "#fb9f3a"
             ],
             [
              0.8888888888888888,
              "#fdca26"
             ],
             [
              1,
              "#f0f921"
             ]
            ],
            "type": "heatmapgl"
           }
          ],
          "histogram": [
           {
            "marker": {
             "pattern": {
              "fillmode": "overlay",
              "size": 10,
              "solidity": 0.2
             }
            },
            "type": "histogram"
           }
          ],
          "histogram2d": [
           {
            "colorbar": {
             "outlinewidth": 0,
             "ticks": ""
            },
            "colorscale": [
             [
              0,
              "#0d0887"
             ],
             [
              0.1111111111111111,
              "#46039f"
             ],
             [
              0.2222222222222222,
              "#7201a8"
             ],
             [
              0.3333333333333333,
              "#9c179e"
             ],
             [
              0.4444444444444444,
              "#bd3786"
             ],
             [
              0.5555555555555556,
              "#d8576b"
             ],
             [
              0.6666666666666666,
              "#ed7953"
             ],
             [
              0.7777777777777778,
              "#fb9f3a"
             ],
             [
              0.8888888888888888,
              "#fdca26"
             ],
             [
              1,
              "#f0f921"
             ]
            ],
            "type": "histogram2d"
           }
          ],
          "histogram2dcontour": [
           {
            "colorbar": {
             "outlinewidth": 0,
             "ticks": ""
            },
            "colorscale": [
             [
              0,
              "#0d0887"
             ],
             [
              0.1111111111111111,
              "#46039f"
             ],
             [
              0.2222222222222222,
              "#7201a8"
             ],
             [
              0.3333333333333333,
              "#9c179e"
             ],
             [
              0.4444444444444444,
              "#bd3786"
             ],
             [
              0.5555555555555556,
              "#d8576b"
             ],
             [
              0.6666666666666666,
              "#ed7953"
             ],
             [
              0.7777777777777778,
              "#fb9f3a"
             ],
             [
              0.8888888888888888,
              "#fdca26"
             ],
             [
              1,
              "#f0f921"
             ]
            ],
            "type": "histogram2dcontour"
           }
          ],
          "mesh3d": [
           {
            "colorbar": {
             "outlinewidth": 0,
             "ticks": ""
            },
            "type": "mesh3d"
           }
          ],
          "parcoords": [
           {
            "line": {
             "colorbar": {
              "outlinewidth": 0,
              "ticks": ""
             }
            },
            "type": "parcoords"
           }
          ],
          "pie": [
           {
            "automargin": true,
            "type": "pie"
           }
          ],
          "scatter": [
           {
            "fillpattern": {
             "fillmode": "overlay",
             "size": 10,
             "solidity": 0.2
            },
            "type": "scatter"
           }
          ],
          "scatter3d": [
           {
            "line": {
             "colorbar": {
              "outlinewidth": 0,
              "ticks": ""
             }
            },
            "marker": {
             "colorbar": {
              "outlinewidth": 0,
              "ticks": ""
             }
            },
            "type": "scatter3d"
           }
          ],
          "scattercarpet": [
           {
            "marker": {
             "colorbar": {
              "outlinewidth": 0,
              "ticks": ""
             }
            },
            "type": "scattercarpet"
           }
          ],
          "scattergeo": [
           {
            "marker": {
             "colorbar": {
              "outlinewidth": 0,
              "ticks": ""
             }
            },
            "type": "scattergeo"
           }
          ],
          "scattergl": [
           {
            "marker": {
             "colorbar": {
              "outlinewidth": 0,
              "ticks": ""
             }
            },
            "type": "scattergl"
           }
          ],
          "scattermapbox": [
           {
            "marker": {
             "colorbar": {
              "outlinewidth": 0,
              "ticks": ""
             }
            },
            "type": "scattermapbox"
           }
          ],
          "scatterpolar": [
           {
            "marker": {
             "colorbar": {
              "outlinewidth": 0,
              "ticks": ""
             }
            },
            "type": "scatterpolar"
           }
          ],
          "scatterpolargl": [
           {
            "marker": {
             "colorbar": {
              "outlinewidth": 0,
              "ticks": ""
             }
            },
            "type": "scatterpolargl"
           }
          ],
          "scatterternary": [
           {
            "marker": {
             "colorbar": {
              "outlinewidth": 0,
              "ticks": ""
             }
            },
            "type": "scatterternary"
           }
          ],
          "surface": [
           {
            "colorbar": {
             "outlinewidth": 0,
             "ticks": ""
            },
            "colorscale": [
             [
              0,
              "#0d0887"
             ],
             [
              0.1111111111111111,
              "#46039f"
             ],
             [
              0.2222222222222222,
              "#7201a8"
             ],
             [
              0.3333333333333333,
              "#9c179e"
             ],
             [
              0.4444444444444444,
              "#bd3786"
             ],
             [
              0.5555555555555556,
              "#d8576b"
             ],
             [
              0.6666666666666666,
              "#ed7953"
             ],
             [
              0.7777777777777778,
              "#fb9f3a"
             ],
             [
              0.8888888888888888,
              "#fdca26"
             ],
             [
              1,
              "#f0f921"
             ]
            ],
            "type": "surface"
           }
          ],
          "table": [
           {
            "cells": {
             "fill": {
              "color": "#EBF0F8"
             },
             "line": {
              "color": "white"
             }
            },
            "header": {
             "fill": {
              "color": "#C8D4E3"
             },
             "line": {
              "color": "white"
             }
            },
            "type": "table"
           }
          ]
         },
         "layout": {
          "annotationdefaults": {
           "arrowcolor": "#2a3f5f",
           "arrowhead": 0,
           "arrowwidth": 1
          },
          "autotypenumbers": "strict",
          "coloraxis": {
           "colorbar": {
            "outlinewidth": 0,
            "ticks": ""
           }
          },
          "colorscale": {
           "diverging": [
            [
             0,
             "#8e0152"
            ],
            [
             0.1,
             "#c51b7d"
            ],
            [
             0.2,
             "#de77ae"
            ],
            [
             0.3,
             "#f1b6da"
            ],
            [
             0.4,
             "#fde0ef"
            ],
            [
             0.5,
             "#f7f7f7"
            ],
            [
             0.6,
             "#e6f5d0"
            ],
            [
             0.7,
             "#b8e186"
            ],
            [
             0.8,
             "#7fbc41"
            ],
            [
             0.9,
             "#4d9221"
            ],
            [
             1,
             "#276419"
            ]
           ],
           "sequential": [
            [
             0,
             "#0d0887"
            ],
            [
             0.1111111111111111,
             "#46039f"
            ],
            [
             0.2222222222222222,
             "#7201a8"
            ],
            [
             0.3333333333333333,
             "#9c179e"
            ],
            [
             0.4444444444444444,
             "#bd3786"
            ],
            [
             0.5555555555555556,
             "#d8576b"
            ],
            [
             0.6666666666666666,
             "#ed7953"
            ],
            [
             0.7777777777777778,
             "#fb9f3a"
            ],
            [
             0.8888888888888888,
             "#fdca26"
            ],
            [
             1,
             "#f0f921"
            ]
           ],
           "sequentialminus": [
            [
             0,
             "#0d0887"
            ],
            [
             0.1111111111111111,
             "#46039f"
            ],
            [
             0.2222222222222222,
             "#7201a8"
            ],
            [
             0.3333333333333333,
             "#9c179e"
            ],
            [
             0.4444444444444444,
             "#bd3786"
            ],
            [
             0.5555555555555556,
             "#d8576b"
            ],
            [
             0.6666666666666666,
             "#ed7953"
            ],
            [
             0.7777777777777778,
             "#fb9f3a"
            ],
            [
             0.8888888888888888,
             "#fdca26"
            ],
            [
             1,
             "#f0f921"
            ]
           ]
          },
          "colorway": [
           "#636efa",
           "#EF553B",
           "#00cc96",
           "#ab63fa",
           "#FFA15A",
           "#19d3f3",
           "#FF6692",
           "#B6E880",
           "#FF97FF",
           "#FECB52"
          ],
          "font": {
           "color": "#2a3f5f"
          },
          "geo": {
           "bgcolor": "white",
           "lakecolor": "white",
           "landcolor": "white",
           "showlakes": true,
           "showland": true,
           "subunitcolor": "#C8D4E3"
          },
          "hoverlabel": {
           "align": "left"
          },
          "hovermode": "closest",
          "mapbox": {
           "style": "light"
          },
          "paper_bgcolor": "white",
          "plot_bgcolor": "white",
          "polar": {
           "angularaxis": {
            "gridcolor": "#EBF0F8",
            "linecolor": "#EBF0F8",
            "ticks": ""
           },
           "bgcolor": "white",
           "radialaxis": {
            "gridcolor": "#EBF0F8",
            "linecolor": "#EBF0F8",
            "ticks": ""
           }
          },
          "scene": {
           "xaxis": {
            "backgroundcolor": "white",
            "gridcolor": "#DFE8F3",
            "gridwidth": 2,
            "linecolor": "#EBF0F8",
            "showbackground": true,
            "ticks": "",
            "zerolinecolor": "#EBF0F8"
           },
           "yaxis": {
            "backgroundcolor": "white",
            "gridcolor": "#DFE8F3",
            "gridwidth": 2,
            "linecolor": "#EBF0F8",
            "showbackground": true,
            "ticks": "",
            "zerolinecolor": "#EBF0F8"
           },
           "zaxis": {
            "backgroundcolor": "white",
            "gridcolor": "#DFE8F3",
            "gridwidth": 2,
            "linecolor": "#EBF0F8",
            "showbackground": true,
            "ticks": "",
            "zerolinecolor": "#EBF0F8"
           }
          },
          "shapedefaults": {
           "line": {
            "color": "#2a3f5f"
           }
          },
          "ternary": {
           "aaxis": {
            "gridcolor": "#DFE8F3",
            "linecolor": "#A2B1C6",
            "ticks": ""
           },
           "baxis": {
            "gridcolor": "#DFE8F3",
            "linecolor": "#A2B1C6",
            "ticks": ""
           },
           "bgcolor": "white",
           "caxis": {
            "gridcolor": "#DFE8F3",
            "linecolor": "#A2B1C6",
            "ticks": ""
           }
          },
          "title": {
           "x": 0.05
          },
          "xaxis": {
           "automargin": true,
           "gridcolor": "#EBF0F8",
           "linecolor": "#EBF0F8",
           "ticks": "",
           "title": {
            "standoff": 15
           },
           "zerolinecolor": "#EBF0F8",
           "zerolinewidth": 2
          },
          "yaxis": {
           "automargin": true,
           "gridcolor": "#EBF0F8",
           "linecolor": "#EBF0F8",
           "ticks": "",
           "title": {
            "standoff": 15
           },
           "zerolinecolor": "#EBF0F8",
           "zerolinewidth": 2
          }
         }
        },
        "title": {
         "text": "Prezzi generati con punti di riferimento per le discese (in verde) e per le salite (in rosso)"
        },
        "width": 1600,
        "xaxis": {
         "rangeslider": {
          "visible": true
         },
         "title": {
          "text": "Data"
         },
         "type": "date"
        },
        "yaxis": {
         "title": {
          "text": "Prezzo"
         }
        }
       }
      }
     },
     "metadata": {},
     "output_type": "display_data"
    }
   ],
   "source": [
    "# Distribuzione delle variazioni (esempio)\n",
    "distribuzione_variazioni = {\n",
    "    -0.05: 0.1,\n",
    "    -0.02: 0.2,\n",
    "    -0.01: 0.2,\n",
    "    0.01: 0.2,\n",
    "    0.02: 0.2,\n",
    "    0.05: 0.1\n",
    "}\n",
    "\n",
    "# Genera prezzi\n",
    "num_giorni = 100\n",
    "dati = genera_prezzi(num_giorni, distribuzione_variazioni)\n",
    "\n",
    "# Calcola variazioni\n",
    "dati['Variazione'] = dati['Price'] / dati['Price'].shift(1)\n",
    "\n",
    "# Parametri\n",
    "soglia_calcolo_variazioni_discesa = 0.05\n",
    "soglia_calcolo_variazioni_salita = 0.05\n",
    "\n",
    "prezzi_riferimento_discesa = []\n",
    "variazione_cumulata = 1\n",
    "gia_trovato = False\n",
    "cont = 0\n",
    "for j in range(len(dati), 0, -1):\n",
    "    variazione_giorno_precedente = dati['Variazione'].iloc[j-1]\n",
    "    if pd.isna(variazione_giorno_precedente):\n",
    "        continue\n",
    "    if variazione_giorno_precedente < 1:\n",
    "        variazione_cumulata = 1\n",
    "        cont = 0\n",
    "        gia_trovato = False\n",
    "        continue\n",
    "    else:\n",
    "        variazione_cumulata *= variazione_giorno_precedente\n",
    "        if variazione_cumulata != variazione_giorno_precedente:\n",
    "            cont += 1\n",
    "        if variazione_cumulata - 1 >= soglia_calcolo_variazioni_discesa and not gia_trovato:\n",
    "            prezzo_riferimento = dati['Price'].iloc[j+cont-1]\n",
    "            prezzi_riferimento_discesa.append((dati['Timestamp'].iloc[j+cont-1], prezzo_riferimento))\n",
    "            variazione_cumulata = 1\n",
    "            cont = 0\n",
    "            gia_trovato = True\n",
    "\n",
    "prezzi_riferimento_salita = []\n",
    "variazione_cumulata = 1\n",
    "gia_trovato = False\n",
    "cont = 0\n",
    "for j in range(len(dati), 0, -1):\n",
    "    variazione_giorno_precedente = dati['Variazione'].iloc[j-1]\n",
    "    if pd.isna(variazione_giorno_precedente):\n",
    "        continue\n",
    "    if variazione_giorno_precedente > 1:\n",
    "        variazione_cumulata = 1\n",
    "        cont = 0\n",
    "        gia_trovato = False\n",
    "        continue\n",
    "    else:\n",
    "        variazione_cumulata *= variazione_giorno_precedente\n",
    "        if variazione_cumulata != variazione_giorno_precedente:\n",
    "            cont += 1\n",
    "        if 1 - variazione_cumulata >= soglia_calcolo_variazioni_salita and not gia_trovato:\n",
    "            prezzo_riferimento = dati['Price'].iloc[j+cont-1]\n",
    "            prezzi_riferimento_salita.append((dati['Timestamp'].iloc[j+cont-1], prezzo_riferimento))\n",
    "            variazione_cumulata = 1\n",
    "            cont = 0\n",
    "            gia_trovato = True\n",
    "\n",
    "\n",
    "\n",
    "\n",
    "# Creazione del grafico con Plotly\n",
    "fig = go.Figure()\n",
    "\n",
    "# Linea dell'andamento dei prezzi\n",
    "fig.add_trace(go.Scatter(x=dati['Timestamp'], y=dati['Price'], \n",
    "                         mode='lines', name='Prezzi',\n",
    "                         line=dict(color='blue', width=2)))\n",
    "\n",
    "# Aggiungi punti di riferimento discesa (in verde)\n",
    "for timestamp, prezzo_riferimento in prezzi_riferimento_discesa:\n",
    "    fig.add_trace(go.Scatter(\n",
    "        x=[timestamp], y=[prezzo_riferimento],\n",
    "        mode='markers+text', name='Riferimento Discesa',\n",
    "        marker=dict(color='green', size=10),\n",
    "        text=[f'{prezzo_riferimento:.2f}'],\n",
    "        textposition='top center',\n",
    "        hoverinfo='text+name'  # Mostra testo e nome al passaggio del mouse\n",
    "    ))\n",
    "\n",
    "# Aggiungi punti di riferimento salita (in rosso)\n",
    "for timestamp, prezzo_riferimento in prezzi_riferimento_salita:\n",
    "    fig.add_trace(go.Scatter(\n",
    "        x=[timestamp], y=[prezzo_riferimento],\n",
    "        mode='markers+text', name='Riferimento Salita',\n",
    "        marker=dict(color='red', size=10),\n",
    "        text=[f'{prezzo_riferimento:.2f}'],\n",
    "        textposition='top center',\n",
    "        hoverinfo='text+name'  # Mostra testo e nome al passaggio del mouse\n",
    "    ))\n",
    "\n",
    "# Configurazione del layout del grafico\n",
    "fig.update_layout(\n",
    "    title='Prezzi generati con punti di riferimento per le discese (in verde) e per le salite (in rosso)',\n",
    "    xaxis_title='Data',\n",
    "    yaxis_title='Prezzo',\n",
    "    hovermode='closest',\n",
    "    template='plotly_white',\n",
    "    width=1600,\n",
    "    height=7/10 * 1600,\n",
    "    showlegend=False,\n",
    "    # legend=dict(yanchor=\"top\", y=0.99, xanchor=\"left\", x=0.01),\n",
    "    \n",
    "    # Aggiungi il range slider per l'asse X\n",
    "    xaxis=dict(\n",
    "        rangeslider=dict(visible=True),\n",
    "        type=\"date\"\n",
    "    )\n",
    ")\n",
    "\n",
    "# Mostra il grafico\n",
    "fig.show()"
   ]
  },
  {
   "cell_type": "code",
   "execution_count": 5,
   "metadata": {},
   "outputs": [
    {
     "data": {
      "text/html": [
       "<div>\n",
       "<style scoped>\n",
       "    .dataframe tbody tr th:only-of-type {\n",
       "        vertical-align: middle;\n",
       "    }\n",
       "\n",
       "    .dataframe tbody tr th {\n",
       "        vertical-align: top;\n",
       "    }\n",
       "\n",
       "    .dataframe thead th {\n",
       "        text-align: right;\n",
       "    }\n",
       "</style>\n",
       "<table border=\"1\" class=\"dataframe\">\n",
       "  <thead>\n",
       "    <tr style=\"text-align: right;\">\n",
       "      <th></th>\n",
       "      <th>Timestamp</th>\n",
       "      <th>Price</th>\n",
       "      <th>Variazione</th>\n",
       "    </tr>\n",
       "  </thead>\n",
       "  <tbody>\n",
       "    <tr>\n",
       "      <th>0</th>\n",
       "      <td>2023-01-01</td>\n",
       "      <td>100.000000</td>\n",
       "      <td>NaN</td>\n",
       "    </tr>\n",
       "    <tr>\n",
       "      <th>1</th>\n",
       "      <td>2023-01-02</td>\n",
       "      <td>101.000000</td>\n",
       "      <td>1.01</td>\n",
       "    </tr>\n",
       "    <tr>\n",
       "      <th>2</th>\n",
       "      <td>2023-01-03</td>\n",
       "      <td>103.020000</td>\n",
       "      <td>1.02</td>\n",
       "    </tr>\n",
       "    <tr>\n",
       "      <th>3</th>\n",
       "      <td>2023-01-04</td>\n",
       "      <td>104.050200</td>\n",
       "      <td>1.01</td>\n",
       "    </tr>\n",
       "    <tr>\n",
       "      <th>4</th>\n",
       "      <td>2023-01-05</td>\n",
       "      <td>105.090702</td>\n",
       "      <td>1.01</td>\n",
       "    </tr>\n",
       "    <tr>\n",
       "      <th>5</th>\n",
       "      <td>2023-01-06</td>\n",
       "      <td>104.039795</td>\n",
       "      <td>0.99</td>\n",
       "    </tr>\n",
       "    <tr>\n",
       "      <th>6</th>\n",
       "      <td>2023-01-07</td>\n",
       "      <td>105.080193</td>\n",
       "      <td>1.01</td>\n",
       "    </tr>\n",
       "    <tr>\n",
       "      <th>7</th>\n",
       "      <td>2023-01-08</td>\n",
       "      <td>104.029391</td>\n",
       "      <td>0.99</td>\n",
       "    </tr>\n",
       "    <tr>\n",
       "      <th>8</th>\n",
       "      <td>2023-01-09</td>\n",
       "      <td>106.109979</td>\n",
       "      <td>1.02</td>\n",
       "    </tr>\n",
       "    <tr>\n",
       "      <th>9</th>\n",
       "      <td>2023-01-10</td>\n",
       "      <td>111.415478</td>\n",
       "      <td>1.05</td>\n",
       "    </tr>\n",
       "    <tr>\n",
       "      <th>10</th>\n",
       "      <td>2023-01-11</td>\n",
       "      <td>110.301323</td>\n",
       "      <td>0.99</td>\n",
       "    </tr>\n",
       "    <tr>\n",
       "      <th>11</th>\n",
       "      <td>2023-01-12</td>\n",
       "      <td>112.507349</td>\n",
       "      <td>1.02</td>\n",
       "    </tr>\n",
       "    <tr>\n",
       "      <th>12</th>\n",
       "      <td>2023-01-13</td>\n",
       "      <td>113.632423</td>\n",
       "      <td>1.01</td>\n",
       "    </tr>\n",
       "    <tr>\n",
       "      <th>13</th>\n",
       "      <td>2023-01-14</td>\n",
       "      <td>114.768747</td>\n",
       "      <td>1.01</td>\n",
       "    </tr>\n",
       "    <tr>\n",
       "      <th>14</th>\n",
       "      <td>2023-01-15</td>\n",
       "      <td>120.507185</td>\n",
       "      <td>1.05</td>\n",
       "    </tr>\n",
       "    <tr>\n",
       "      <th>15</th>\n",
       "      <td>2023-01-16</td>\n",
       "      <td>114.481825</td>\n",
       "      <td>0.95</td>\n",
       "    </tr>\n",
       "    <tr>\n",
       "      <th>16</th>\n",
       "      <td>2023-01-17</td>\n",
       "      <td>108.757734</td>\n",
       "      <td>0.95</td>\n",
       "    </tr>\n",
       "    <tr>\n",
       "      <th>17</th>\n",
       "      <td>2023-01-18</td>\n",
       "      <td>103.319847</td>\n",
       "      <td>0.95</td>\n",
       "    </tr>\n",
       "    <tr>\n",
       "      <th>18</th>\n",
       "      <td>2023-01-19</td>\n",
       "      <td>105.386244</td>\n",
       "      <td>1.02</td>\n",
       "    </tr>\n",
       "    <tr>\n",
       "      <th>19</th>\n",
       "      <td>2023-01-20</td>\n",
       "      <td>107.493969</td>\n",
       "      <td>1.02</td>\n",
       "    </tr>\n",
       "  </tbody>\n",
       "</table>\n",
       "</div>"
      ],
      "text/plain": [
       "    Timestamp       Price  Variazione\n",
       "0  2023-01-01  100.000000         NaN\n",
       "1  2023-01-02  101.000000        1.01\n",
       "2  2023-01-03  103.020000        1.02\n",
       "3  2023-01-04  104.050200        1.01\n",
       "4  2023-01-05  105.090702        1.01\n",
       "5  2023-01-06  104.039795        0.99\n",
       "6  2023-01-07  105.080193        1.01\n",
       "7  2023-01-08  104.029391        0.99\n",
       "8  2023-01-09  106.109979        1.02\n",
       "9  2023-01-10  111.415478        1.05\n",
       "10 2023-01-11  110.301323        0.99\n",
       "11 2023-01-12  112.507349        1.02\n",
       "12 2023-01-13  113.632423        1.01\n",
       "13 2023-01-14  114.768747        1.01\n",
       "14 2023-01-15  120.507185        1.05\n",
       "15 2023-01-16  114.481825        0.95\n",
       "16 2023-01-17  108.757734        0.95\n",
       "17 2023-01-18  103.319847        0.95\n",
       "18 2023-01-19  105.386244        1.02\n",
       "19 2023-01-20  107.493969        1.02"
      ]
     },
     "execution_count": 5,
     "metadata": {},
     "output_type": "execute_result"
    }
   ],
   "source": [
    "dati[:20]"
   ]
  },
  {
   "cell_type": "markdown",
   "metadata": {},
   "source": [
    "## Lettura dati Bitcoin"
   ]
  },
  {
   "cell_type": "code",
   "execution_count": 6,
   "metadata": {},
   "outputs": [
    {
     "data": {
      "text/html": [
       "<div>\n",
       "<style scoped>\n",
       "    .dataframe tbody tr th:only-of-type {\n",
       "        vertical-align: middle;\n",
       "    }\n",
       "\n",
       "    .dataframe tbody tr th {\n",
       "        vertical-align: top;\n",
       "    }\n",
       "\n",
       "    .dataframe thead th {\n",
       "        text-align: right;\n",
       "    }\n",
       "</style>\n",
       "<table border=\"1\" class=\"dataframe\">\n",
       "  <thead>\n",
       "    <tr style=\"text-align: right;\">\n",
       "      <th></th>\n",
       "      <th>Timestamp</th>\n",
       "      <th>Price</th>\n",
       "    </tr>\n",
       "  </thead>\n",
       "  <tbody>\n",
       "    <tr>\n",
       "      <th>0</th>\n",
       "      <td>2014-09-17</td>\n",
       "      <td>355.957367</td>\n",
       "    </tr>\n",
       "    <tr>\n",
       "      <th>1</th>\n",
       "      <td>2014-09-18</td>\n",
       "      <td>328.539368</td>\n",
       "    </tr>\n",
       "    <tr>\n",
       "      <th>2</th>\n",
       "      <td>2014-09-19</td>\n",
       "      <td>307.761139</td>\n",
       "    </tr>\n",
       "    <tr>\n",
       "      <th>3</th>\n",
       "      <td>2014-09-20</td>\n",
       "      <td>318.758972</td>\n",
       "    </tr>\n",
       "    <tr>\n",
       "      <th>4</th>\n",
       "      <td>2014-09-21</td>\n",
       "      <td>310.632446</td>\n",
       "    </tr>\n",
       "    <tr>\n",
       "      <th>...</th>\n",
       "      <td>...</td>\n",
       "      <td>...</td>\n",
       "    </tr>\n",
       "    <tr>\n",
       "      <th>3503</th>\n",
       "      <td>2024-04-20</td>\n",
       "      <td>59876.710938</td>\n",
       "    </tr>\n",
       "    <tr>\n",
       "      <th>3504</th>\n",
       "      <td>2024-04-21</td>\n",
       "      <td>60956.074219</td>\n",
       "    </tr>\n",
       "    <tr>\n",
       "      <th>3505</th>\n",
       "      <td>2024-04-22</td>\n",
       "      <td>60919.242188</td>\n",
       "    </tr>\n",
       "    <tr>\n",
       "      <th>3506</th>\n",
       "      <td>2024-04-23</td>\n",
       "      <td>62729.296875</td>\n",
       "    </tr>\n",
       "    <tr>\n",
       "      <th>3507</th>\n",
       "      <td>2024-04-24</td>\n",
       "      <td>62048.164062</td>\n",
       "    </tr>\n",
       "  </tbody>\n",
       "</table>\n",
       "<p>3508 rows × 2 columns</p>\n",
       "</div>"
      ],
      "text/plain": [
       "      Timestamp         Price\n",
       "0    2014-09-17    355.957367\n",
       "1    2014-09-18    328.539368\n",
       "2    2014-09-19    307.761139\n",
       "3    2014-09-20    318.758972\n",
       "4    2014-09-21    310.632446\n",
       "...         ...           ...\n",
       "3503 2024-04-20  59876.710938\n",
       "3504 2024-04-21  60956.074219\n",
       "3505 2024-04-22  60919.242188\n",
       "3506 2024-04-23  62729.296875\n",
       "3507 2024-04-24  62048.164062\n",
       "\n",
       "[3508 rows x 2 columns]"
      ]
     },
     "execution_count": 6,
     "metadata": {},
     "output_type": "execute_result"
    }
   ],
   "source": [
    "dati = pd.read_csv('Bitcoin (€) da yfinance dal 17-09-2014 al 24-04-2024.csv')\n",
    "dati = dati[['Date', 'Close']]\n",
    "dati = dati.rename(columns = {'Date':'Timestamp', 'Close': 'Price'})\n",
    "dati['Timestamp'] = pd.to_datetime(dati['Timestamp'])\n",
    "dati['Timestamp'] = dati['Timestamp'].dt.strftime('%Y-%m-%d')\n",
    "dati['Timestamp'] = pd.to_datetime(dati['Timestamp'], format='%Y-%m-%d')\n",
    "dati"
   ]
  },
  {
   "cell_type": "code",
   "execution_count": 7,
   "metadata": {},
   "outputs": [],
   "source": [
    "# dati = pd.read_csv('Bitcoin (€) da yfinance dal 06-05-2022 alle 21 al 05-05-2024 alle 19 con granularità oraria.csv')\n",
    "# dati = dati[['Datetime', 'Close']]\n",
    "# dati = dati.rename(columns = {'Datetime':'Timestamp', 'Close': 'Price'})\n",
    "# dati['Timestamp'] = pd.to_datetime(dati['Timestamp'])\n",
    "# dati['Timestamp'] = dati['Timestamp'].dt.strftime('%Y-%m-%d %H')\n",
    "# dati['Timestamp'] = pd.to_datetime(dati['Timestamp'], format='%Y-%m-%d %H')\n",
    "# dati"
   ]
  },
  {
   "cell_type": "code",
   "execution_count": 8,
   "metadata": {},
   "outputs": [
    {
     "data": {
      "text/html": [
       "<div>\n",
       "<style scoped>\n",
       "    .dataframe tbody tr th:only-of-type {\n",
       "        vertical-align: middle;\n",
       "    }\n",
       "\n",
       "    .dataframe tbody tr th {\n",
       "        vertical-align: top;\n",
       "    }\n",
       "\n",
       "    .dataframe thead th {\n",
       "        text-align: right;\n",
       "    }\n",
       "</style>\n",
       "<table border=\"1\" class=\"dataframe\">\n",
       "  <thead>\n",
       "    <tr style=\"text-align: right;\">\n",
       "      <th></th>\n",
       "      <th>Timestamp</th>\n",
       "      <th>Price</th>\n",
       "    </tr>\n",
       "  </thead>\n",
       "  <tbody>\n",
       "    <tr>\n",
       "      <th>0</th>\n",
       "      <td>2020-02-29</td>\n",
       "      <td>7798.025879</td>\n",
       "    </tr>\n",
       "    <tr>\n",
       "      <th>1</th>\n",
       "      <td>2020-03-01</td>\n",
       "      <td>7748.164551</td>\n",
       "    </tr>\n",
       "    <tr>\n",
       "      <th>2</th>\n",
       "      <td>2020-03-02</td>\n",
       "      <td>7959.358398</td>\n",
       "    </tr>\n",
       "    <tr>\n",
       "      <th>3</th>\n",
       "      <td>2020-03-03</td>\n",
       "      <td>7862.485352</td>\n",
       "    </tr>\n",
       "    <tr>\n",
       "      <th>4</th>\n",
       "      <td>2020-03-04</td>\n",
       "      <td>7861.055176</td>\n",
       "    </tr>\n",
       "    <tr>\n",
       "      <th>...</th>\n",
       "      <td>...</td>\n",
       "      <td>...</td>\n",
       "    </tr>\n",
       "    <tr>\n",
       "      <th>181</th>\n",
       "      <td>2020-08-28</td>\n",
       "      <td>9695.468750</td>\n",
       "    </tr>\n",
       "    <tr>\n",
       "      <th>182</th>\n",
       "      <td>2020-08-29</td>\n",
       "      <td>9664.351562</td>\n",
       "    </tr>\n",
       "    <tr>\n",
       "      <th>183</th>\n",
       "      <td>2020-08-30</td>\n",
       "      <td>9824.922852</td>\n",
       "    </tr>\n",
       "    <tr>\n",
       "      <th>184</th>\n",
       "      <td>2020-08-31</td>\n",
       "      <td>9785.023438</td>\n",
       "    </tr>\n",
       "    <tr>\n",
       "      <th>185</th>\n",
       "      <td>2020-09-01</td>\n",
       "      <td>10038.563477</td>\n",
       "    </tr>\n",
       "  </tbody>\n",
       "</table>\n",
       "<p>186 rows × 2 columns</p>\n",
       "</div>"
      ],
      "text/plain": [
       "     Timestamp         Price\n",
       "0   2020-02-29   7798.025879\n",
       "1   2020-03-01   7748.164551\n",
       "2   2020-03-02   7959.358398\n",
       "3   2020-03-03   7862.485352\n",
       "4   2020-03-04   7861.055176\n",
       "..         ...           ...\n",
       "181 2020-08-28   9695.468750\n",
       "182 2020-08-29   9664.351562\n",
       "183 2020-08-30   9824.922852\n",
       "184 2020-08-31   9785.023438\n",
       "185 2020-09-01  10038.563477\n",
       "\n",
       "[186 rows x 2 columns]"
      ]
     },
     "execution_count": 8,
     "metadata": {},
     "output_type": "execute_result"
    }
   ],
   "source": [
    "# Bull market\n",
    "# data_inizio = '2020-12-01'\n",
    "# data_fine = '2021-04-30'\n",
    "\n",
    "# Mercato laterale\n",
    "# data_inizio = '2022-07-01'\n",
    "# data_fine = '2022-10-31'\n",
    "\n",
    "# Bear market\n",
    "# data_inizio = '2021-05-01'\n",
    "# data_fine = '2021-07-31'\n",
    "\n",
    "# Periodo personale\n",
    "data_inizio = '2020-02-29'\n",
    "data_fine = '2020-09-01'\n",
    "\n",
    "indice_inizio = dati[dati['Timestamp'] == data_inizio].index[0]\n",
    "indice_fine = dati[dati['Timestamp'] == data_fine].index[0]\n",
    "dati = dati[indice_inizio:indice_fine + 1].reset_index(drop=True)\n",
    "dati"
   ]
  },
  {
   "cell_type": "code",
   "execution_count": 9,
   "metadata": {},
   "outputs": [],
   "source": [
    "# data_inizio = '2023-06-01 00'\n",
    "# data_fine = '2023-12-01 00'\n",
    "# indice_inizio = dati[dati['Timestamp'] == data_inizio].index[0]\n",
    "# indice_fine = dati[dati['Timestamp'] == data_fine].index[0]\n",
    "# dati = dati[indice_inizio:indice_fine + 1].reset_index(drop=True)\n",
    "# dati"
   ]
  },
  {
   "cell_type": "code",
   "execution_count": 10,
   "metadata": {},
   "outputs": [],
   "source": [
    "dati['Variazione'] = dati['Price'] / dati['Price'].shift(1)"
   ]
  },
  {
   "cell_type": "markdown",
   "metadata": {},
   "source": [
    "### Eventuale cambio dati"
   ]
  },
  {
   "cell_type": "code",
   "execution_count": 11,
   "metadata": {},
   "outputs": [],
   "source": [
    "def calcola_prezzo(t):\n",
    "    return dati['Price'][t] #1000 - t + 100 * math.sin(2*math.pi * t / 4)"
   ]
  },
  {
   "cell_type": "code",
   "execution_count": 12,
   "metadata": {},
   "outputs": [
    {
     "data": {
      "text/html": [
       "<div>\n",
       "<style scoped>\n",
       "    .dataframe tbody tr th:only-of-type {\n",
       "        vertical-align: middle;\n",
       "    }\n",
       "\n",
       "    .dataframe tbody tr th {\n",
       "        vertical-align: top;\n",
       "    }\n",
       "\n",
       "    .dataframe thead th {\n",
       "        text-align: right;\n",
       "    }\n",
       "</style>\n",
       "<table border=\"1\" class=\"dataframe\">\n",
       "  <thead>\n",
       "    <tr style=\"text-align: right;\">\n",
       "      <th></th>\n",
       "      <th>Timestamp</th>\n",
       "      <th>Price</th>\n",
       "      <th>Variazione</th>\n",
       "    </tr>\n",
       "  </thead>\n",
       "  <tbody>\n",
       "    <tr>\n",
       "      <th>0</th>\n",
       "      <td>2020-02-29</td>\n",
       "      <td>7798.025879</td>\n",
       "      <td>NaN</td>\n",
       "    </tr>\n",
       "    <tr>\n",
       "      <th>1</th>\n",
       "      <td>2020-03-01</td>\n",
       "      <td>7748.164551</td>\n",
       "      <td>0.993606</td>\n",
       "    </tr>\n",
       "    <tr>\n",
       "      <th>2</th>\n",
       "      <td>2020-03-02</td>\n",
       "      <td>7959.358398</td>\n",
       "      <td>1.027257</td>\n",
       "    </tr>\n",
       "    <tr>\n",
       "      <th>3</th>\n",
       "      <td>2020-03-03</td>\n",
       "      <td>7862.485352</td>\n",
       "      <td>0.987829</td>\n",
       "    </tr>\n",
       "    <tr>\n",
       "      <th>4</th>\n",
       "      <td>2020-03-04</td>\n",
       "      <td>7861.055176</td>\n",
       "      <td>0.999818</td>\n",
       "    </tr>\n",
       "    <tr>\n",
       "      <th>...</th>\n",
       "      <td>...</td>\n",
       "      <td>...</td>\n",
       "      <td>...</td>\n",
       "    </tr>\n",
       "    <tr>\n",
       "      <th>181</th>\n",
       "      <td>2020-08-28</td>\n",
       "      <td>9695.468750</td>\n",
       "      <td>1.011939</td>\n",
       "    </tr>\n",
       "    <tr>\n",
       "      <th>182</th>\n",
       "      <td>2020-08-29</td>\n",
       "      <td>9664.351562</td>\n",
       "      <td>0.996791</td>\n",
       "    </tr>\n",
       "    <tr>\n",
       "      <th>183</th>\n",
       "      <td>2020-08-30</td>\n",
       "      <td>9824.922852</td>\n",
       "      <td>1.016615</td>\n",
       "    </tr>\n",
       "    <tr>\n",
       "      <th>184</th>\n",
       "      <td>2020-08-31</td>\n",
       "      <td>9785.023438</td>\n",
       "      <td>0.995939</td>\n",
       "    </tr>\n",
       "    <tr>\n",
       "      <th>185</th>\n",
       "      <td>2020-09-01</td>\n",
       "      <td>10038.563477</td>\n",
       "      <td>1.025911</td>\n",
       "    </tr>\n",
       "  </tbody>\n",
       "</table>\n",
       "<p>186 rows × 3 columns</p>\n",
       "</div>"
      ],
      "text/plain": [
       "     Timestamp         Price  Variazione\n",
       "0   2020-02-29   7798.025879         NaN\n",
       "1   2020-03-01   7748.164551    0.993606\n",
       "2   2020-03-02   7959.358398    1.027257\n",
       "3   2020-03-03   7862.485352    0.987829\n",
       "4   2020-03-04   7861.055176    0.999818\n",
       "..         ...           ...         ...\n",
       "181 2020-08-28   9695.468750    1.011939\n",
       "182 2020-08-29   9664.351562    0.996791\n",
       "183 2020-08-30   9824.922852    1.016615\n",
       "184 2020-08-31   9785.023438    0.995939\n",
       "185 2020-09-01  10038.563477    1.025911\n",
       "\n",
       "[186 rows x 3 columns]"
      ]
     },
     "execution_count": 12,
     "metadata": {},
     "output_type": "execute_result"
    }
   ],
   "source": [
    "dati['Price'] = dati.index.map(calcola_prezzo)\n",
    "dati"
   ]
  },
  {
   "cell_type": "markdown",
   "metadata": {},
   "source": [
    "## Algoritmo"
   ]
  },
  {
   "cell_type": "code",
   "execution_count": 13,
   "metadata": {},
   "outputs": [],
   "source": [
    "# Funzione per calcolare l'ultimo prezzo di riferimento discesa\n",
    "def calcola_prezzo_riferimento_discesa(dati, soglia_discesa):\n",
    "    variazione_cumulata = 1\n",
    "    cont = 0\n",
    "\n",
    "    for j in range(len(dati), 0, -1):\n",
    "        variazione_giorno_precedente = dati['Variazione'].iloc[j-1]\n",
    "\n",
    "        if pd.isna(variazione_giorno_precedente):\n",
    "            continue\n",
    "\n",
    "        if variazione_giorno_precedente < 1:  # Prezzo in discesa\n",
    "            variazione_cumulata = 1\n",
    "            cont = 0\n",
    "        else:\n",
    "            variazione_cumulata *= variazione_giorno_precedente\n",
    "            if variazione_cumulata != variazione_giorno_precedente:\n",
    "                cont += 1\n",
    "            if variazione_cumulata - 1 >= soglia_discesa:\n",
    "                # Se la variazione supera la soglia, restituisci il riferimento\n",
    "                if j + cont - 1 == len(dati) - 1:\n",
    "                    # Se il riferimento è l'ultimo giorno, restituisci None\n",
    "                    return None, None\n",
    "                return dati['Timestamp'].iloc[j+cont-1], dati['Price'].iloc[j+cont-1]\n",
    "\n",
    "    # Se non si è trovata una variazione che supera la soglia, ritorna il primo giorno\n",
    "    return dati['Timestamp'].iloc[0], dati['Price'].iloc[0]\n",
    "\n",
    "# Funzione per calcolare l'ultimo prezzo di riferimento salita\n",
    "def calcola_prezzo_riferimento_salita(dati, soglia_salita):\n",
    "    variazione_cumulata = 1\n",
    "    cont = 0\n",
    "\n",
    "    for j in range(len(dati), 0, -1):\n",
    "        variazione_giorno_precedente = dati['Variazione'].iloc[j-1]\n",
    "\n",
    "        if pd.isna(variazione_giorno_precedente):\n",
    "            continue\n",
    "\n",
    "        if variazione_giorno_precedente > 1:  # Prezzo in salita\n",
    "            variazione_cumulata = 1\n",
    "            cont = 0\n",
    "        else:\n",
    "            variazione_cumulata *= variazione_giorno_precedente\n",
    "            if variazione_cumulata != variazione_giorno_precedente:\n",
    "                cont += 1\n",
    "            if 1 - variazione_cumulata >= soglia_salita:\n",
    "                # Se la variazione supera la soglia o il prezzo di riferimento è superiore al prezzo attuale, restituisci il riferimento\n",
    "                if j + cont - 1 == len(dati) - 1:\n",
    "                    # Se il riferimento è l'ultimo giorno, restituisci None\n",
    "                    return None, None\n",
    "                return dati['Timestamp'].iloc[j+cont-1], dati['Price'].iloc[j+cont-1]\n",
    "\n",
    "    # Se non si è trovata una variazione che supera la soglia, ritorna il primo giorno\n",
    "    return dati['Timestamp'].iloc[0], dati['Price'].iloc[0]\n",
    "\n",
    "# def rif_discesa_sbagliato(dati, soglia_calcolo_variazioni_discesa):\n",
    "#     # Cerca il prezzo di riferimento\n",
    "#     prezzo_riferimento = None\n",
    "#     variazione_cumulata = 1\n",
    "#     cont = 0\n",
    "#     for j in range(len(dati), 0, -1):\n",
    "#         variazione_giorno_precedente = dati['Variazione'].iloc[j-1]\n",
    "#         if pd.isna(variazione_giorno_precedente):\n",
    "#             continue\n",
    "#         if variazione_giorno_precedente < 1:\n",
    "#             variazione_cumulata = 1\n",
    "#             cont = 0\n",
    "#         else:\n",
    "#             variazione_cumulata *= variazione_giorno_precedente\n",
    "#             if variazione_cumulata != variazione_giorno_precedente:\n",
    "#                 cont += 1\n",
    "#             if variazione_cumulata - 1 >= soglia_calcolo_variazioni_discesa:\n",
    "#                 prezzo_riferimento = dati['Price'].iloc[j+cont-1]\n",
    "#                 timestamp_riferimento = dati['Timestamp'].iloc[j+cont-1]\n",
    "#                 break\n",
    "#     if prezzo_riferimento is None:\n",
    "#         prezzo_riferimento = dati['Price'].iloc[0]\n",
    "#         timestamp_riferimento = dati['Timestamp'].iloc[0]  # Usa il primo prezzo disponibile se nessun riferimento è trovato\n",
    "#     return timestamp_riferimento, prezzo_riferimento\n",
    "\n",
    "# def rif_salita_sbagliato(dati, soglia_calcolo_variazioni_salita):\n",
    "#     # Cerca il prezzo di riferimento\n",
    "#     prezzo_riferimento = None\n",
    "#     variazione_cumulata = 1\n",
    "#     cont = 0\n",
    "#     for j in range(len(dati), 0, -1):\n",
    "#         variazione_giorno_precedente = dati['Variazione'].iloc[j-1]\n",
    "#         if pd.isna(variazione_giorno_precedente):\n",
    "#             continue\n",
    "#         if variazione_giorno_precedente > 1:\n",
    "#             variazione_cumulata = 1\n",
    "#             cont = 0\n",
    "#         else:\n",
    "#             variazione_cumulata *= variazione_giorno_precedente\n",
    "#             if variazione_cumulata != variazione_giorno_precedente:\n",
    "#                 cont += 1\n",
    "#             if 1 - variazione_cumulata >= soglia_calcolo_variazioni_salita:\n",
    "#                 prezzo_riferimento = dati['Price'].iloc[j+cont-1]\n",
    "#                 timestamp_riferimento = dati['Timestamp'].iloc[j+cont-1]\n",
    "#                 break\n",
    "#     if prezzo_riferimento is None:\n",
    "#         prezzo_riferimento = dati['Price'].iloc[0]\n",
    "#         timestamp_riferimento = dati['Timestamp'].iloc[0]  # Usa il primo prezzo disponibile se nessun riferimento è trovato\n",
    "#     return timestamp_riferimento, prezzo_riferimento\n",
    "\n",
    "\n",
    "def calcola_percentuale(variazione, coefficienti, A, B):\n",
    "    if isinstance(coefficienti, list):\n",
    "        # Se coefficienti è una lista, esegue la somma ponderata delle variazioni\n",
    "        return min(max(sum([c * variazione ** i for i, c in enumerate(coefficienti)]), 0), 1)\n",
    "    \n",
    "    elif isinstance(coefficienti, str) and coefficienti != 'custom_exp':\n",
    "        # Se coefficienti è una stringa, interpreta la stringa come una formula matematica\n",
    "        # Sostituisci 'x' con il valore di variazione\n",
    "        formula = coefficienti.replace('x', str(variazione))\n",
    "        # Usa eval per calcolare il risultato\n",
    "        try:\n",
    "            risultato = eval(formula)\n",
    "        except Exception as e:\n",
    "            raise ValueError(f\"Errore nell'interpretazione della formula: {e}\")\n",
    "        return min(max(risultato, 0), 1)\n",
    "    \n",
    "    elif coefficienti == 'custom_exp':\n",
    "        return eval(f'variazione ** {A} / ({B} + (1 - {B}) * variazione ** {A})')\n",
    "    \n",
    "    else:\n",
    "        raise TypeError(\"Il parametro 'coefficienti' deve essere una lista, una stringa o 'custom_exp'.\")"
   ]
  },
  {
   "cell_type": "code",
   "execution_count": 34,
   "metadata": {},
   "outputs": [],
   "source": [
    "# Define the function\n",
    "def plot_custom_exp(A, B):\n",
    "    # Generate a range of x values (variazione)\n",
    "    variazione = np.linspace(0, 1, 500)\n",
    "    \n",
    "    # Calculate the function's values\n",
    "    # y = variazione ** A / (B + (1 - B) * variazione ** A)\n",
    "    \n",
    "    # Plot the function\n",
    "    plt.figure(figsize=(10, 6))\n",
    "    plt.plot(variazione, calcola_percentuale(variazione, 'custom_exp', A, B), label=f'A={A}, B={B}')\n",
    "    plt.xlabel('Variazione')\n",
    "    plt.ylabel('Funzione')\n",
    "    plt.title(f'Grafico della funzione')\n",
    "    plt.legend()\n",
    "    plt.grid()\n",
    "    plt.show()"
   ]
  },
  {
   "cell_type": "code",
   "execution_count": 14,
   "metadata": {},
   "outputs": [
    {
     "data": {
      "text/html": [
       "<div>\n",
       "<style scoped>\n",
       "    .dataframe tbody tr th:only-of-type {\n",
       "        vertical-align: middle;\n",
       "    }\n",
       "\n",
       "    .dataframe tbody tr th {\n",
       "        vertical-align: top;\n",
       "    }\n",
       "\n",
       "    .dataframe thead th {\n",
       "        text-align: right;\n",
       "    }\n",
       "</style>\n",
       "<table border=\"1\" class=\"dataframe\">\n",
       "  <thead>\n",
       "    <tr style=\"text-align: right;\">\n",
       "      <th></th>\n",
       "      <th>data</th>\n",
       "      <th>prezzo</th>\n",
       "      <th>variazione_giornaliera_prezzo_percentuale</th>\n",
       "      <th>timestamp_riferimento_discesa</th>\n",
       "      <th>prezzo_riferimento_discesa</th>\n",
       "      <th>variazione_rispetto_riferimento_discesa</th>\n",
       "      <th>timestamp_riferimento_salita</th>\n",
       "      <th>prezzo_riferimento_salita</th>\n",
       "      <th>variazione_rispetto_riferimento_salita</th>\n",
       "      <th>azione</th>\n",
       "      <th>Percentuale Liquidità Usata</th>\n",
       "      <th>Percentuale Bitcoin Usata</th>\n",
       "      <th>Percentuale Liquidità Usata rispetto riferimento</th>\n",
       "      <th>Percentuale Bitcoin Usata rispetto riferimento</th>\n",
       "      <th>quantità_euro</th>\n",
       "      <th>Bitcoin Acquistati/Venduti</th>\n",
       "      <th>Liquidità</th>\n",
       "      <th>Bitcoin</th>\n",
       "      <th>valore_totale_portafoglio</th>\n",
       "    </tr>\n",
       "  </thead>\n",
       "  <tbody>\n",
       "    <tr>\n",
       "      <th>0</th>\n",
       "      <td>2020-03-01</td>\n",
       "      <td>7748.164551</td>\n",
       "      <td>-0.64%</td>\n",
       "      <td>2020-02-29</td>\n",
       "      <td>7798.025879</td>\n",
       "      <td>-0.64%</td>\n",
       "      <td>2020-02-29</td>\n",
       "      <td>7798.025879</td>\n",
       "      <td>-0.64%</td>\n",
       "      <td>-</td>\n",
       "      <td>0</td>\n",
       "      <td>0</td>\n",
       "      <td>0</td>\n",
       "      <td>0</td>\n",
       "      <td>0</td>\n",
       "      <td>0</td>\n",
       "      <td>1000</td>\n",
       "      <td>0</td>\n",
       "      <td>1000.000000</td>\n",
       "    </tr>\n",
       "    <tr>\n",
       "      <th>1</th>\n",
       "      <td>2020-03-02</td>\n",
       "      <td>7959.358398</td>\n",
       "      <td>2.73%</td>\n",
       "      <td>2020-02-29</td>\n",
       "      <td>7798.025879</td>\n",
       "      <td>2.07%</td>\n",
       "      <td>2020-02-29</td>\n",
       "      <td>7798.025879</td>\n",
       "      <td>2.07%</td>\n",
       "      <td>-</td>\n",
       "      <td>0</td>\n",
       "      <td>0</td>\n",
       "      <td>0</td>\n",
       "      <td>0</td>\n",
       "      <td>0</td>\n",
       "      <td>0</td>\n",
       "      <td>1000</td>\n",
       "      <td>0</td>\n",
       "      <td>1000.000000</td>\n",
       "    </tr>\n",
       "    <tr>\n",
       "      <th>2</th>\n",
       "      <td>2020-03-03</td>\n",
       "      <td>7862.485352</td>\n",
       "      <td>-1.22%</td>\n",
       "      <td>2020-02-29</td>\n",
       "      <td>7798.025879</td>\n",
       "      <td>0.83%</td>\n",
       "      <td>2020-02-29</td>\n",
       "      <td>7798.025879</td>\n",
       "      <td>0.83%</td>\n",
       "      <td>-</td>\n",
       "      <td>0</td>\n",
       "      <td>0</td>\n",
       "      <td>0</td>\n",
       "      <td>0</td>\n",
       "      <td>0</td>\n",
       "      <td>0</td>\n",
       "      <td>1000</td>\n",
       "      <td>0</td>\n",
       "      <td>1000.000000</td>\n",
       "    </tr>\n",
       "    <tr>\n",
       "      <th>3</th>\n",
       "      <td>2020-03-04</td>\n",
       "      <td>7861.055176</td>\n",
       "      <td>-0.02%</td>\n",
       "      <td>2020-02-29</td>\n",
       "      <td>7798.025879</td>\n",
       "      <td>0.81%</td>\n",
       "      <td>2020-02-29</td>\n",
       "      <td>7798.025879</td>\n",
       "      <td>0.81%</td>\n",
       "      <td>-</td>\n",
       "      <td>0</td>\n",
       "      <td>0</td>\n",
       "      <td>0</td>\n",
       "      <td>0</td>\n",
       "      <td>0</td>\n",
       "      <td>0</td>\n",
       "      <td>1000</td>\n",
       "      <td>0</td>\n",
       "      <td>1000.000000</td>\n",
       "    </tr>\n",
       "    <tr>\n",
       "      <th>4</th>\n",
       "      <td>2020-03-05</td>\n",
       "      <td>8089.786133</td>\n",
       "      <td>2.91%</td>\n",
       "      <td>2020-02-29</td>\n",
       "      <td>7798.025879</td>\n",
       "      <td>3.74%</td>\n",
       "      <td>2020-02-29</td>\n",
       "      <td>7798.025879</td>\n",
       "      <td>3.74%</td>\n",
       "      <td>-</td>\n",
       "      <td>0</td>\n",
       "      <td>0</td>\n",
       "      <td>0</td>\n",
       "      <td>0</td>\n",
       "      <td>0</td>\n",
       "      <td>0</td>\n",
       "      <td>1000</td>\n",
       "      <td>0</td>\n",
       "      <td>1000.000000</td>\n",
       "    </tr>\n",
       "    <tr>\n",
       "      <th>...</th>\n",
       "      <td>...</td>\n",
       "      <td>...</td>\n",
       "      <td>...</td>\n",
       "      <td>...</td>\n",
       "      <td>...</td>\n",
       "      <td>...</td>\n",
       "      <td>...</td>\n",
       "      <td>...</td>\n",
       "      <td>...</td>\n",
       "      <td>...</td>\n",
       "      <td>...</td>\n",
       "      <td>...</td>\n",
       "      <td>...</td>\n",
       "      <td>...</td>\n",
       "      <td>...</td>\n",
       "      <td>...</td>\n",
       "      <td>...</td>\n",
       "      <td>...</td>\n",
       "      <td>...</td>\n",
       "    </tr>\n",
       "    <tr>\n",
       "      <th>180</th>\n",
       "      <td>2020-08-28</td>\n",
       "      <td>9695.468750</td>\n",
       "      <td>1.19%</td>\n",
       "      <td>2020-08-01</td>\n",
       "      <td>9983.694336</td>\n",
       "      <td>-2.89%</td>\n",
       "      <td>2020-08-02</td>\n",
       "      <td>9382.727539</td>\n",
       "      <td>3.33%</td>\n",
       "      <td>-</td>\n",
       "      <td>0</td>\n",
       "      <td>0</td>\n",
       "      <td>0</td>\n",
       "      <td>0</td>\n",
       "      <td>0</td>\n",
       "      <td>0</td>\n",
       "      <td>15.424943</td>\n",
       "      <td>0.221538</td>\n",
       "      <td>2163.343509</td>\n",
       "    </tr>\n",
       "    <tr>\n",
       "      <th>181</th>\n",
       "      <td>2020-08-29</td>\n",
       "      <td>9664.351562</td>\n",
       "      <td>-0.32%</td>\n",
       "      <td>2020-08-01</td>\n",
       "      <td>9983.694336</td>\n",
       "      <td>-3.2%</td>\n",
       "      <td>2020-08-02</td>\n",
       "      <td>9382.727539</td>\n",
       "      <td>3.0%</td>\n",
       "      <td>-</td>\n",
       "      <td>0</td>\n",
       "      <td>0</td>\n",
       "      <td>0</td>\n",
       "      <td>0</td>\n",
       "      <td>0</td>\n",
       "      <td>0</td>\n",
       "      <td>15.424943</td>\n",
       "      <td>0.221538</td>\n",
       "      <td>2156.449857</td>\n",
       "    </tr>\n",
       "    <tr>\n",
       "      <th>182</th>\n",
       "      <td>2020-08-30</td>\n",
       "      <td>9824.922852</td>\n",
       "      <td>1.66%</td>\n",
       "      <td>2020-08-01</td>\n",
       "      <td>9983.694336</td>\n",
       "      <td>-1.59%</td>\n",
       "      <td>2020-08-02</td>\n",
       "      <td>9382.727539</td>\n",
       "      <td>4.71%</td>\n",
       "      <td>-</td>\n",
       "      <td>0</td>\n",
       "      <td>0</td>\n",
       "      <td>0</td>\n",
       "      <td>0</td>\n",
       "      <td>0</td>\n",
       "      <td>0</td>\n",
       "      <td>15.424943</td>\n",
       "      <td>0.221538</td>\n",
       "      <td>2192.022562</td>\n",
       "    </tr>\n",
       "    <tr>\n",
       "      <th>183</th>\n",
       "      <td>2020-08-31</td>\n",
       "      <td>9785.023438</td>\n",
       "      <td>-0.41%</td>\n",
       "      <td>2020-08-01</td>\n",
       "      <td>9983.694336</td>\n",
       "      <td>-1.99%</td>\n",
       "      <td>2020-08-02</td>\n",
       "      <td>9382.727539</td>\n",
       "      <td>4.29%</td>\n",
       "      <td>-</td>\n",
       "      <td>0</td>\n",
       "      <td>0</td>\n",
       "      <td>0</td>\n",
       "      <td>0</td>\n",
       "      <td>0</td>\n",
       "      <td>0</td>\n",
       "      <td>15.424943</td>\n",
       "      <td>0.221538</td>\n",
       "      <td>2183.183310</td>\n",
       "    </tr>\n",
       "    <tr>\n",
       "      <th>184</th>\n",
       "      <td>2020-09-01</td>\n",
       "      <td>10038.563477</td>\n",
       "      <td>2.59%</td>\n",
       "      <td>2020-08-01</td>\n",
       "      <td>9983.694336</td>\n",
       "      <td>0.55%</td>\n",
       "      <td>2020-08-02</td>\n",
       "      <td>9382.727539</td>\n",
       "      <td>6.99%</td>\n",
       "      <td>-</td>\n",
       "      <td>0</td>\n",
       "      <td>0</td>\n",
       "      <td>0</td>\n",
       "      <td>0</td>\n",
       "      <td>0</td>\n",
       "      <td>0</td>\n",
       "      <td>15.424943</td>\n",
       "      <td>0.221538</td>\n",
       "      <td>2239.352163</td>\n",
       "    </tr>\n",
       "  </tbody>\n",
       "</table>\n",
       "<p>185 rows × 19 columns</p>\n",
       "</div>"
      ],
      "text/plain": [
       "          data        prezzo variazione_giornaliera_prezzo_percentuale  \\\n",
       "0   2020-03-01   7748.164551                                    -0.64%   \n",
       "1   2020-03-02   7959.358398                                     2.73%   \n",
       "2   2020-03-03   7862.485352                                    -1.22%   \n",
       "3   2020-03-04   7861.055176                                    -0.02%   \n",
       "4   2020-03-05   8089.786133                                     2.91%   \n",
       "..         ...           ...                                       ...   \n",
       "180 2020-08-28   9695.468750                                     1.19%   \n",
       "181 2020-08-29   9664.351562                                    -0.32%   \n",
       "182 2020-08-30   9824.922852                                     1.66%   \n",
       "183 2020-08-31   9785.023438                                    -0.41%   \n",
       "184 2020-09-01  10038.563477                                     2.59%   \n",
       "\n",
       "    timestamp_riferimento_discesa  prezzo_riferimento_discesa  \\\n",
       "0                      2020-02-29                 7798.025879   \n",
       "1                      2020-02-29                 7798.025879   \n",
       "2                      2020-02-29                 7798.025879   \n",
       "3                      2020-02-29                 7798.025879   \n",
       "4                      2020-02-29                 7798.025879   \n",
       "..                            ...                         ...   \n",
       "180                    2020-08-01                 9983.694336   \n",
       "181                    2020-08-01                 9983.694336   \n",
       "182                    2020-08-01                 9983.694336   \n",
       "183                    2020-08-01                 9983.694336   \n",
       "184                    2020-08-01                 9983.694336   \n",
       "\n",
       "    variazione_rispetto_riferimento_discesa timestamp_riferimento_salita  \\\n",
       "0                                    -0.64%                   2020-02-29   \n",
       "1                                     2.07%                   2020-02-29   \n",
       "2                                     0.83%                   2020-02-29   \n",
       "3                                     0.81%                   2020-02-29   \n",
       "4                                     3.74%                   2020-02-29   \n",
       "..                                      ...                          ...   \n",
       "180                                  -2.89%                   2020-08-02   \n",
       "181                                   -3.2%                   2020-08-02   \n",
       "182                                  -1.59%                   2020-08-02   \n",
       "183                                  -1.99%                   2020-08-02   \n",
       "184                                   0.55%                   2020-08-02   \n",
       "\n",
       "     prezzo_riferimento_salita variazione_rispetto_riferimento_salita azione  \\\n",
       "0                  7798.025879                                 -0.64%      -   \n",
       "1                  7798.025879                                  2.07%      -   \n",
       "2                  7798.025879                                  0.83%      -   \n",
       "3                  7798.025879                                  0.81%      -   \n",
       "4                  7798.025879                                  3.74%      -   \n",
       "..                         ...                                    ...    ...   \n",
       "180                9382.727539                                  3.33%      -   \n",
       "181                9382.727539                                   3.0%      -   \n",
       "182                9382.727539                                  4.71%      -   \n",
       "183                9382.727539                                  4.29%      -   \n",
       "184                9382.727539                                  6.99%      -   \n",
       "\n",
       "    Percentuale Liquidità Usata Percentuale Bitcoin Usata  \\\n",
       "0                             0                         0   \n",
       "1                             0                         0   \n",
       "2                             0                         0   \n",
       "3                             0                         0   \n",
       "4                             0                         0   \n",
       "..                          ...                       ...   \n",
       "180                           0                         0   \n",
       "181                           0                         0   \n",
       "182                           0                         0   \n",
       "183                           0                         0   \n",
       "184                           0                         0   \n",
       "\n",
       "    Percentuale Liquidità Usata rispetto riferimento  \\\n",
       "0                                                  0   \n",
       "1                                                  0   \n",
       "2                                                  0   \n",
       "3                                                  0   \n",
       "4                                                  0   \n",
       "..                                               ...   \n",
       "180                                                0   \n",
       "181                                                0   \n",
       "182                                                0   \n",
       "183                                                0   \n",
       "184                                                0   \n",
       "\n",
       "    Percentuale Bitcoin Usata rispetto riferimento quantità_euro  \\\n",
       "0                                                0             0   \n",
       "1                                                0             0   \n",
       "2                                                0             0   \n",
       "3                                                0             0   \n",
       "4                                                0             0   \n",
       "..                                             ...           ...   \n",
       "180                                              0             0   \n",
       "181                                              0             0   \n",
       "182                                              0             0   \n",
       "183                                              0             0   \n",
       "184                                              0             0   \n",
       "\n",
       "    Bitcoin Acquistati/Venduti  Liquidità   Bitcoin  valore_totale_portafoglio  \n",
       "0                            0       1000         0                1000.000000  \n",
       "1                            0       1000         0                1000.000000  \n",
       "2                            0       1000         0                1000.000000  \n",
       "3                            0       1000         0                1000.000000  \n",
       "4                            0       1000         0                1000.000000  \n",
       "..                         ...        ...       ...                        ...  \n",
       "180                          0  15.424943  0.221538                2163.343509  \n",
       "181                          0  15.424943  0.221538                2156.449857  \n",
       "182                          0  15.424943  0.221538                2192.022562  \n",
       "183                          0  15.424943  0.221538                2183.183310  \n",
       "184                          0  15.424943  0.221538                2239.352163  \n",
       "\n",
       "[185 rows x 19 columns]"
      ]
     },
     "execution_count": 14,
     "metadata": {},
     "output_type": "execute_result"
    }
   ],
   "source": [
    "# Parametri della strategia\n",
    "inverti_riferimento_acquisto = True # Se è True, la variazione percentuale viene calcolata \"dall'alto in basso\" (ad esempio, se il prezzo passa da 80 a 40 la variazione % è considerata del -50%); se è False, la variazione percentuale viene calcolata \"dal basso all'alto\" (ad esempio, se il prezzo passa da 80 a 40 la variazione % è considerata del +100% perchè da 40 a 80 c'è il 100%); la percentuale di acquisto sarà poi una funzione del modulo di questa variazione % attraverso la function calcola_percentuale\n",
    "inverti_riferimento_vendita = True # Se è True, la variazione percentuale viene calcolata \"dal basso all'alto\" (ad esempio, se il prezzo passa da 70 a 140 la variazione % è considerata del +100%); se è False, la variazione percentuale viene calcolata \"dall'alto al basso\" (ad esempio, se il prezzo passa da 70 a 140 la variazione % è considerata del -50% perchè da 140 a 70 c'è il -50%); la percentuale di vendita sarà poi una funzione del modulo di questa variazione % attraverso la function calcola_percentuale\n",
    "acquisto_rispetto_liquidità_iniziale = True\n",
    "vendita_rispetto_massimo_btc_posseduti = True\n",
    "compra_pure = True\n",
    "vendi_pure = True\n",
    "soglia_vendita = 0 # La vendita avviene solo se il prezzo è superiore almeno di questa percentuale rispetto al prezzo medio pesato degli ultimi acquisti consecutivi, dove i pesi sono gli euro spesi\n",
    "A_a = 10 # Scegliere un numero > 0, anche se per una curva convessa conviene > 1\n",
    "B_a = 0.001 # Scegliere un numero > 0\n",
    "A_v = 10 # Scegliere un numero > 0, anche se per una curva convessa conviene > 1\n",
    "B_v = 0.001 # Scegliere un numero > 0\n",
    "coefficienti_acquisto = 'custom_exp' # Scegliere se mandare una lista che rappresenta i coefficienti di un polinomio, una stringa con una funzione in particolare scritta in Python, oppure custom_exp per l'esponenziale personalizzato con i parametri A e B\n",
    "coefficienti_vendita =  'custom_exp' # Scegliere se mandare una lista che rappresenta i coefficienti di un polinomio, una stringa con una funzione in particolare scritta in Python, oppure custom_exp per l'esponenziale personalizzato con i parametri A e B\n",
    "compra_solo_in_discesa = True\n",
    "vendi_solo_in_salita = False\n",
    "soglia_acquisto_rispetto_riferimento = 0 # L'acquisto avviene solo se il prezzo è sceso almeno di questa percentuale rispetto al prezzo_riferimento_discesa\n",
    "soglia_vendita_rispetto_riferimento = 0 # La vendita avviene solo se il prezzo è salito almeno di questa percentuale rispetto al prezzo_riferimento_salita\n",
    "# Parametri per le soglie\n",
    "soglia_calcolo_variazioni_discesa = 0.05\n",
    "soglia_calcolo_variazioni_salita = 0.05\n",
    "\n",
    "perc_relativa = False # Se è False, la percentuale di variazione dei prezzi viene calcolata in senso assoluto (ad esempio, se il prezzo è 50€ e cala del 10% diventa 45€) sia per variazioni positive che per variazioni negative; se è True: se il prezzo_riferimento corrente è prezzo_riferimento_discesa, guardo quanto è sceso il prezzo relativamente al minimo degli ultimi finestra_minimo giorni  (ad esempio, se prezzo_riferimento_discesa era 80€, oggi è 70€ e il minimo è 50€, un calo del 100% sarebbe andato da 80€ a 50€, e quindi in proporzione un calo da 80€ a 70€ corrisponde a un -33.3%), mentre se il prezzo di riferimento è prezzo_riferimento_salita, guardo quanto è salito relativamente al massimo degli ultimi finestra_massimo giorni (ad esempio, se prezzo_riferimento_salita era 20€, quello di oggi è 50€ e il massimo è 90€, la salita relativa in percntuale è 3/7 ~ 42.9%); notare che se perc_relativa è True, sono indifferenti i valori di inverti_riferimento_acquisto nel caso di una discesa e inverti_riferimento_vendita nel caso di una salita, mentre se è False sono ovviamente indifferenti il valore di finestra_minimo e di finestra_massimo\n",
    "finestra_minimo = 30 # Finestra per calcolare il minimo, compreso il giorno attuale\n",
    "finestra_massimo = 30 # Finestra per calcolare il massimo, compreso il giorno attuale\n",
    "nuovi_min_all_in = False # Utile solo se perc_relativa è True, altrimenti è come se non ci fosse: se è False, evita di acquistare il 100% se il prezzo attuale diventa il nuovo minimo, e in quel caso invece acquista come se perc_relativa fosse False (guardando quindi anche inverti_riferimento_acquisto e agendo di conseguenza); se è True, in caso di nuovi minimi acquista subito con il 100% di liquidità appena il prezzo diventa lui stesso il nuovo minimo degli ultimi finestra_minimo giorni\n",
    "nuovi_max_all_in = False # Analogo di nuovi_min_all_in ma per il massimo (evita di vendere il 100%)\n",
    "\n",
    "soglia_acquisti_vicini = 0.05 # Se è 0, è come se questa variabile non esistesse perchè rimane tutto come prima; se è > 0, un acquisto avviene solo se il prezzo attuale è almeno di questa soglia percentuale sopra l'ultimo prezzo di acquisto (ammesso che ci sia un acquisto precedente, e solo se non ci sono state delle vendite tra il giorno di quell'acquisto e oggi): ad esempio, se il prezzo dell'ultimo acquisto era 50€ e questa soglia è 5%, l'eventuale acquisto di oggi avviene solo se il prezzo è sopra 52.5 o sotto 47.5\n",
    "soglia_vendite_vicine = 0.05 # Analogo di soglia_acquisti_vicini, ma con le vendite\n",
    "\n",
    "\n",
    "\n",
    "# Parametri iniziali\n",
    "liquidità_iniziale = 1000  # Euro iniziali\n",
    "bitcoin_iniziali = 0\n",
    "liquidità = liquidità_iniziale\n",
    "bitcoin = bitcoin_iniziali\n",
    "valore_totale_portafoglio = liquidità + bitcoin * dati['Price'][0]\n",
    "\n",
    "# Calcolo variazioni giornaliere\n",
    "dati['Variazione'] = dati['Price'] / dati['Price'].shift(1)\n",
    "\n",
    "# Inizializza la lista delle transazioni\n",
    "df_transazioni = pd.DataFrame(columns=['data', 'prezzo', 'variazione_giornaliera_prezzo_percentuale', 'timestamp_riferimento_discesa', 'prezzo_riferimento_discesa', 'variazione_rispetto_riferimento_discesa', 'timestamp_riferimento_salita', 'prezzo_riferimento_salita', 'variazione_rispetto_riferimento_salita', 'azione', 'Percentuale Liquidità Usata', 'Percentuale Bitcoin Usata', 'Percentuale Liquidità Usata rispetto riferimento', 'Percentuale Bitcoin Usata rispetto riferimento', 'quantità_euro', 'Bitcoin Acquistati/Venduti', 'Liquidità', 'Bitcoin', 'valore_totale_portafoglio'])\n",
    "\n",
    "# Variabili per tenere traccia degli acquisti consecutivi\n",
    "acquisti_consecutivi = []\n",
    "quantità_euro_totale = 0  # Somma totale degli euro spesi negli acquisti consecutivi\n",
    "\n",
    "liquidità_iniziale_in_btc = liquidità_iniziale / dati['Price'].iloc[0]\n",
    "\n",
    "ultimo_prezzo_acquisto = None\n",
    "ultimo_prezzo_vendita = None\n",
    "ultima_azione = None\n",
    "azione = None\n",
    "\n",
    "\n",
    "# Simulazione del trading giorno per giorno\n",
    "for i in range(1, len(dati)):\n",
    "    data_odierna = dati['Timestamp'].iloc[i]\n",
    "    prezzo_attuale = dati['Price'].iloc[i]\n",
    "    variazione_giornaliera_prezzo_percentuale = (dati['Variazione'].iloc[i] - 1) * 100\n",
    "    if perc_relativa:\n",
    "        if finestra_minimo <= i:\n",
    "            minimo_ultimi_giorni = np.min(dati['Price'].iloc[i-finestra_minimo:i+1])\n",
    "\n",
    "        else:\n",
    "            minimo_ultimi_giorni = np.min(dati['Price'].iloc[:i+1])\n",
    "\n",
    "        if finestra_massimo <= i:\n",
    "            massimo_ultimi_giorni = np.max(dati['Price'].iloc[i-finestra_massimo:i+1])\n",
    "\n",
    "        else:\n",
    "            massimo_ultimi_giorni = np.max(dati['Price'].iloc[:i+1])\n",
    "    \n",
    "    # Calcola i prezzi di riferimento discesa e salita\n",
    "    timestamp_riferimento_discesa, prezzo_riferimento_discesa = calcola_prezzo_riferimento_discesa(dati.iloc[:i+1], soglia_calcolo_variazioni_discesa)\n",
    "    timestamp_riferimento_salita, prezzo_riferimento_salita = calcola_prezzo_riferimento_salita(dati.iloc[:i+1], soglia_calcolo_variazioni_salita)\n",
    "    # timestamp_riferimento_discesa, prezzo_riferimento_discesa = rif_discesa_sbagliato(dati.iloc[:i], soglia_calcolo_variazioni_discesa)\n",
    "    # timestamp_riferimento_salita, prezzo_riferimento_salita = rif_salita_sbagliato(dati.iloc[:i], soglia_calcolo_variazioni_salita)\n",
    "\n",
    "    # Scegli il prezzo di riferimento più recente (se esiste)\n",
    "    prezzo_riferimento = None\n",
    "    if prezzo_riferimento_discesa is not None and prezzo_riferimento_salita is not None:\n",
    "        if timestamp_riferimento_discesa > timestamp_riferimento_salita:\n",
    "            prezzo_riferimento = prezzo_riferimento_discesa\n",
    "            tipo_riferimento = 'discesa'\n",
    "        else:\n",
    "            prezzo_riferimento = prezzo_riferimento_salita\n",
    "            tipo_riferimento = 'salita'\n",
    "    elif prezzo_riferimento_discesa is not None:\n",
    "        prezzo_riferimento = prezzo_riferimento_discesa\n",
    "        tipo_riferimento = 'discesa'\n",
    "    elif prezzo_riferimento_salita is not None:\n",
    "        prezzo_riferimento = prezzo_riferimento_salita\n",
    "        tipo_riferimento = 'salita'\n",
    "\n",
    "    # Se nessun riferimento è disponibile, passa al giorno successivo\n",
    "    if prezzo_riferimento is None:\n",
    "        continue\n",
    "\n",
    "    # Variabili per tracciare l'azione e la transazione\n",
    "    azione = '-'\n",
    "    percentuale_liquidità_usata = 0\n",
    "    percentuale_bitcoin_usata = 0\n",
    "    percentuale_liquidità_usata_rispetto_rif = 0\n",
    "    percentuale_bitcoin_usata_rispetto_rif = 0\n",
    "    euro_spesi_o_ricavati = 0\n",
    "    bitcoin_acquistati_o_venduti = 0\n",
    "\n",
    "    # Logica di acquisto o vendita in base al riferimento più recente\n",
    "    if tipo_riferimento == 'discesa':  # Logica di acquisto\n",
    "        if not perc_relativa:\n",
    "            if inverti_riferimento_acquisto:\n",
    "                variazione_percentuale = (prezzo_riferimento_discesa - prezzo_attuale) / prezzo_attuale\n",
    "            else:\n",
    "                variazione_percentuale = (prezzo_riferimento_discesa - prezzo_attuale) / prezzo_riferimento_discesa\n",
    "        else:\n",
    "            den = prezzo_riferimento_discesa - minimo_ultimi_giorni\n",
    "            if den > 0: # Aggiungo questo controllo perchè in generale potrebbe anche accadere che il minimo sia superiore all'ultimo prezzo_riferimento_discesa salvato\n",
    "                num = prezzo_riferimento_discesa - prezzo_attuale\n",
    "                variazione_percentuale = num / den\n",
    "                if not nuovi_min_all_in and variazione_percentuale == 1:\n",
    "                    if inverti_riferimento_acquisto:\n",
    "                        variazione_percentuale = (prezzo_riferimento_discesa - prezzo_attuale) / prezzo_attuale\n",
    "                    else:\n",
    "                        variazione_percentuale = (prezzo_riferimento_discesa - prezzo_attuale) / prezzo_riferimento_discesa\n",
    "            else:\n",
    "                variazione_percentuale = 0\n",
    "\n",
    "\n",
    "        percentuale_acquisto = calcola_percentuale(abs(variazione_percentuale), coefficienti_acquisto, A_a, B_a)\n",
    "        liquidità_da_usare = liquidità_iniziale if acquisto_rispetto_liquidità_iniziale else liquidità\n",
    "        euro_da_spendere = liquidità_da_usare * percentuale_acquisto\n",
    "\n",
    "        if euro_da_spendere > liquidità:\n",
    "            if compra_pure:\n",
    "                euro_da_spendere = liquidità  # Usa tutto\n",
    "            else:\n",
    "                euro_da_spendere = 0  # Non fare niente\n",
    "\n",
    "        if euro_da_spendere > 0 and (compra_solo_in_discesa and variazione_giornaliera_prezzo_percentuale < 0 or not compra_solo_in_discesa) and prezzo_attuale < prezzo_riferimento_discesa * (1 - soglia_acquisto_rispetto_riferimento) and (soglia_acquisti_vicini > 0 and ultimo_prezzo_acquisto is not None and ultima_azione == 'Acquisto' and abs(prezzo_attuale - ultimo_prezzo_acquisto) >= soglia_acquisti_vicini * ultimo_prezzo_acquisto or soglia_acquisti_vicini == 0 or ultima_azione is None):\n",
    "            percentuale_liquidità_usata = euro_da_spendere / liquidità\n",
    "            bitcoin_acquistati = euro_da_spendere / prezzo_attuale\n",
    "            liquidità -= euro_da_spendere\n",
    "            bitcoin += bitcoin_acquistati\n",
    "            azione = 'Acquisto'\n",
    "            ultima_azione = azione\n",
    "            percentuale_liquidità_usata_rispetto_rif = percentuale_acquisto\n",
    "            euro_spesi_o_ricavati = euro_da_spendere\n",
    "            bitcoin_acquistati_o_venduti = bitcoin_acquistati\n",
    "            \n",
    "            # Aggiungi questo acquisto alla lista degli acquisti consecutivi\n",
    "            acquisti_consecutivi.append((prezzo_attuale, euro_da_spendere))\n",
    "            quantità_euro_totale += euro_da_spendere\n",
    "            ultimo_prezzo_acquisto = prezzo_attuale\n",
    "\n",
    "    elif tipo_riferimento == 'salita':  # Logica di vendita\n",
    "        if not perc_relativa:\n",
    "            if inverti_riferimento_vendita:\n",
    "                variazione_percentuale = (prezzo_attuale - prezzo_riferimento_salita) / prezzo_attuale\n",
    "            else:\n",
    "                variazione_percentuale = (prezzo_attuale - prezzo_riferimento_salita) / prezzo_riferimento_salita\n",
    "        else:\n",
    "            den = massimo_ultimi_giorni - prezzo_riferimento_salita\n",
    "            if den > 0: # Aggiungo questo controllo perchè in generale potrebbe anche accadere che il massimo sia inferiore all'ultimo prezzo_riferimento_salita salvato\n",
    "                num = prezzo_attuale - prezzo_riferimento_salita\n",
    "                variazione_percentuale = num / den\n",
    "                if not nuovi_max_all_in and variazione_percentuale == 1:\n",
    "                    if inverti_riferimento_vendita:\n",
    "                        variazione_percentuale = (prezzo_attuale - prezzo_riferimento_salita) / prezzo_attuale\n",
    "                    else:\n",
    "                        variazione_percentuale = (prezzo_attuale - prezzo_riferimento_salita) / prezzo_riferimento_salita\n",
    "            else:\n",
    "                variazione_percentuale = 0\n",
    "\n",
    "        percentuale_vendita = calcola_percentuale(abs(variazione_percentuale), coefficienti_vendita, A_v, B_v)\n",
    "        bitcoin_da_usare = liquidità_iniziale_in_btc if vendita_rispetto_massimo_btc_posseduti else bitcoin\n",
    "        bitcoin_da_vendere = bitcoin_da_usare * percentuale_vendita\n",
    "\n",
    "\n",
    "        # Controllo del prezzo di vendita rispetto alla media pesata degli acquisti consecutivi\n",
    "        if acquisti_consecutivi:\n",
    "            # Calcolo della media pesata dei prezzi di acquisto\n",
    "            somma_pesata = sum(prezzo * euro for prezzo, euro in acquisti_consecutivi)\n",
    "            media_pesata_acquisti = somma_pesata / quantità_euro_totale\n",
    "\n",
    "            # Verifica che il prezzo attuale sia superiore alla soglia rispetto alla media pesata\n",
    "            if prezzo_attuale <= media_pesata_acquisti * (1 + soglia_vendita):\n",
    "                # Se non soddisfa la soglia di vendita, non fare niente\n",
    "                bitcoin_da_vendere = 0\n",
    "\n",
    "        if bitcoin_da_vendere > bitcoin:\n",
    "            if vendi_pure:\n",
    "                bitcoin_da_vendere = bitcoin  # Vendi tutto\n",
    "            else:\n",
    "                bitcoin_da_vendere = 0  # Non fare niente\n",
    "\n",
    "        if bitcoin_da_vendere > 0 and (vendi_solo_in_salita and variazione_giornaliera_prezzo_percentuale > 0 or not vendi_solo_in_salita) and prezzo_attuale > prezzo_riferimento_salita * (1 + soglia_vendita_rispetto_riferimento) and (soglia_vendite_vicine > 0 and ultimo_prezzo_vendita is not None and ultima_azione == 'Vendita' and abs(prezzo_attuale - ultimo_prezzo_vendita) >= soglia_vendite_vicine * ultimo_prezzo_vendita or soglia_vendite_vicine == 0 or ultima_azione is None):\n",
    "            percentuale_bitcoin_usata = bitcoin_da_vendere / bitcoin\n",
    "            euro_ricavati = bitcoin_da_vendere * prezzo_attuale\n",
    "            bitcoin -= bitcoin_da_vendere\n",
    "            liquidità += euro_ricavati\n",
    "            azione = 'Vendita'\n",
    "            ultima_azione = azione\n",
    "            percentuale_bitcoin_usata_rispetto_rif = percentuale_vendita\n",
    "            euro_spesi_o_ricavati = euro_ricavati\n",
    "            bitcoin_acquistati_o_venduti = bitcoin_da_vendere\n",
    "\n",
    "            # Reset degli acquisti consecutivi dopo una vendita\n",
    "            acquisti_consecutivi = []\n",
    "            quantità_euro_totale = 0\n",
    "            ultimo_prezzo_vendita = prezzo_attuale\n",
    "\n",
    "\n",
    "    # Aggiorna il valore totale del portafoglio\n",
    "    valore_totale_portafoglio = liquidità + (bitcoin * prezzo_attuale)\n",
    "\n",
    "    variazione_perc_rispetto_riferimento_discesa = (prezzo_attuale / prezzo_riferimento_discesa - 1) * 100 if prezzo_riferimento_discesa else None\n",
    "    variazione_perc_rispetto_riferimento_salita = (prezzo_attuale / prezzo_riferimento_salita - 1) * 100 if prezzo_riferimento_salita else None\n",
    "\n",
    "    # Aggiungi la transazione al dataframe\n",
    "    nuova_transazione = pd.DataFrame([{\n",
    "        'data': data_odierna,\n",
    "        'prezzo': prezzo_attuale,\n",
    "        'variazione_giornaliera_prezzo_percentuale': str(round(variazione_giornaliera_prezzo_percentuale, 2)) + '%' if variazione_giornaliera_prezzo_percentuale else None,\n",
    "        'timestamp_riferimento_discesa': timestamp_riferimento_discesa,\n",
    "        'prezzo_riferimento_discesa': prezzo_riferimento_discesa,\n",
    "        'variazione_rispetto_riferimento_discesa': str(round(variazione_perc_rispetto_riferimento_discesa, 2)) + '%' if variazione_perc_rispetto_riferimento_discesa else None,\n",
    "        'timestamp_riferimento_salita': timestamp_riferimento_salita,\n",
    "        'prezzo_riferimento_salita': prezzo_riferimento_salita,\n",
    "        'variazione_rispetto_riferimento_salita': str(round(variazione_perc_rispetto_riferimento_salita, 2)) + '%' if variazione_perc_rispetto_riferimento_salita else None,\n",
    "        'azione': azione,\n",
    "        'Percentuale Liquidità Usata': percentuale_liquidità_usata,\n",
    "        'Percentuale Bitcoin Usata': percentuale_bitcoin_usata,\n",
    "        'Percentuale Liquidità Usata rispetto riferimento': percentuale_liquidità_usata_rispetto_rif,\n",
    "        'Percentuale Bitcoin Usata rispetto riferimento': percentuale_bitcoin_usata_rispetto_rif,\n",
    "        'quantità_euro': euro_spesi_o_ricavati,\n",
    "        'Bitcoin Acquistati/Venduti': bitcoin_acquistati_o_venduti,\n",
    "        'Liquidità': liquidità,\n",
    "        'Bitcoin': bitcoin,\n",
    "        'valore_totale_portafoglio': valore_totale_portafoglio\n",
    "    }])\n",
    "\n",
    "    df_transazioni = pd.concat([df_transazioni, nuova_transazione], ignore_index=True)\n",
    "\n",
    "# Visualizza il DataFrame delle transazioni\n",
    "df_transazioni"
   ]
  },
  {
   "cell_type": "code",
   "execution_count": 37,
   "metadata": {},
   "outputs": [
    {
     "data": {
      "image/png": "[encoded data removed]",
      "text/plain": [
       "<Figure size 1000x600 with 1 Axes>"
      ]
     },
     "metadata": {},
     "output_type": "display_data"
    }
   ],
   "source": [
    "plot_custom_exp(A_a, B_a)"
   ]
  },
  {
   "cell_type": "code",
   "execution_count": 15,
   "metadata": {},
   "outputs": [
    {
     "data": {
      "text/html": [
       "<div>\n",
       "<style scoped>\n",
       "    .dataframe tbody tr th:only-of-type {\n",
       "        vertical-align: middle;\n",
       "    }\n",
       "\n",
       "    .dataframe tbody tr th {\n",
       "        vertical-align: top;\n",
       "    }\n",
       "\n",
       "    .dataframe thead th {\n",
       "        text-align: right;\n",
       "    }\n",
       "</style>\n",
       "<table border=\"1\" class=\"dataframe\">\n",
       "  <thead>\n",
       "    <tr style=\"text-align: right;\">\n",
       "      <th></th>\n",
       "      <th>data</th>\n",
       "      <th>prezzo</th>\n",
       "      <th>variazione_giornaliera_prezzo_percentuale</th>\n",
       "      <th>timestamp_riferimento_discesa</th>\n",
       "      <th>prezzo_riferimento_discesa</th>\n",
       "      <th>variazione_rispetto_riferimento_discesa</th>\n",
       "      <th>timestamp_riferimento_salita</th>\n",
       "      <th>prezzo_riferimento_salita</th>\n",
       "      <th>variazione_rispetto_riferimento_salita</th>\n",
       "      <th>azione</th>\n",
       "      <th>Percentuale Liquidità Usata</th>\n",
       "      <th>Percentuale Bitcoin Usata</th>\n",
       "      <th>Percentuale Liquidità Usata rispetto riferimento</th>\n",
       "      <th>Percentuale Bitcoin Usata rispetto riferimento</th>\n",
       "      <th>quantità_euro</th>\n",
       "      <th>Bitcoin Acquistati/Venduti</th>\n",
       "      <th>Liquidità</th>\n",
       "      <th>Bitcoin</th>\n",
       "      <th>valore_totale_portafoglio</th>\n",
       "    </tr>\n",
       "  </thead>\n",
       "  <tbody>\n",
       "    <tr>\n",
       "      <th>0</th>\n",
       "      <td>2020-03-01</td>\n",
       "      <td>7748.164551</td>\n",
       "      <td>-0.64%</td>\n",
       "      <td>2020-02-29</td>\n",
       "      <td>7798.025879</td>\n",
       "      <td>-0.64%</td>\n",
       "      <td>2020-02-29</td>\n",
       "      <td>7798.025879</td>\n",
       "      <td>-0.64%</td>\n",
       "      <td>-</td>\n",
       "      <td>0</td>\n",
       "      <td>0</td>\n",
       "      <td>0</td>\n",
       "      <td>0</td>\n",
       "      <td>0</td>\n",
       "      <td>0</td>\n",
       "      <td>1000</td>\n",
       "      <td>0</td>\n",
       "      <td>1000.000000</td>\n",
       "    </tr>\n",
       "    <tr>\n",
       "      <th>1</th>\n",
       "      <td>2020-03-02</td>\n",
       "      <td>7959.358398</td>\n",
       "      <td>2.73%</td>\n",
       "      <td>2020-02-29</td>\n",
       "      <td>7798.025879</td>\n",
       "      <td>2.07%</td>\n",
       "      <td>2020-02-29</td>\n",
       "      <td>7798.025879</td>\n",
       "      <td>2.07%</td>\n",
       "      <td>-</td>\n",
       "      <td>0</td>\n",
       "      <td>0</td>\n",
       "      <td>0</td>\n",
       "      <td>0</td>\n",
       "      <td>0</td>\n",
       "      <td>0</td>\n",
       "      <td>1000</td>\n",
       "      <td>0</td>\n",
       "      <td>1000.000000</td>\n",
       "    </tr>\n",
       "    <tr>\n",
       "      <th>2</th>\n",
       "      <td>2020-03-03</td>\n",
       "      <td>7862.485352</td>\n",
       "      <td>-1.22%</td>\n",
       "      <td>2020-02-29</td>\n",
       "      <td>7798.025879</td>\n",
       "      <td>0.83%</td>\n",
       "      <td>2020-02-29</td>\n",
       "      <td>7798.025879</td>\n",
       "      <td>0.83%</td>\n",
       "      <td>-</td>\n",
       "      <td>0</td>\n",
       "      <td>0</td>\n",
       "      <td>0</td>\n",
       "      <td>0</td>\n",
       "      <td>0</td>\n",
       "      <td>0</td>\n",
       "      <td>1000</td>\n",
       "      <td>0</td>\n",
       "      <td>1000.000000</td>\n",
       "    </tr>\n",
       "    <tr>\n",
       "      <th>3</th>\n",
       "      <td>2020-03-04</td>\n",
       "      <td>7861.055176</td>\n",
       "      <td>-0.02%</td>\n",
       "      <td>2020-02-29</td>\n",
       "      <td>7798.025879</td>\n",
       "      <td>0.81%</td>\n",
       "      <td>2020-02-29</td>\n",
       "      <td>7798.025879</td>\n",
       "      <td>0.81%</td>\n",
       "      <td>-</td>\n",
       "      <td>0</td>\n",
       "      <td>0</td>\n",
       "      <td>0</td>\n",
       "      <td>0</td>\n",
       "      <td>0</td>\n",
       "      <td>0</td>\n",
       "      <td>1000</td>\n",
       "      <td>0</td>\n",
       "      <td>1000.000000</td>\n",
       "    </tr>\n",
       "    <tr>\n",
       "      <th>4</th>\n",
       "      <td>2020-03-05</td>\n",
       "      <td>8089.786133</td>\n",
       "      <td>2.91%</td>\n",
       "      <td>2020-02-29</td>\n",
       "      <td>7798.025879</td>\n",
       "      <td>3.74%</td>\n",
       "      <td>2020-02-29</td>\n",
       "      <td>7798.025879</td>\n",
       "      <td>3.74%</td>\n",
       "      <td>-</td>\n",
       "      <td>0</td>\n",
       "      <td>0</td>\n",
       "      <td>0</td>\n",
       "      <td>0</td>\n",
       "      <td>0</td>\n",
       "      <td>0</td>\n",
       "      <td>1000</td>\n",
       "      <td>0</td>\n",
       "      <td>1000.000000</td>\n",
       "    </tr>\n",
       "    <tr>\n",
       "      <th>5</th>\n",
       "      <td>2020-03-06</td>\n",
       "      <td>8082.739746</td>\n",
       "      <td>-0.09%</td>\n",
       "      <td>2020-02-29</td>\n",
       "      <td>7798.025879</td>\n",
       "      <td>3.65%</td>\n",
       "      <td>2020-02-29</td>\n",
       "      <td>7798.025879</td>\n",
       "      <td>3.65%</td>\n",
       "      <td>-</td>\n",
       "      <td>0</td>\n",
       "      <td>0</td>\n",
       "      <td>0</td>\n",
       "      <td>0</td>\n",
       "      <td>0</td>\n",
       "      <td>0</td>\n",
       "      <td>1000</td>\n",
       "      <td>0</td>\n",
       "      <td>1000.000000</td>\n",
       "    </tr>\n",
       "    <tr>\n",
       "      <th>6</th>\n",
       "      <td>2020-03-07</td>\n",
       "      <td>7894.343750</td>\n",
       "      <td>-2.33%</td>\n",
       "      <td>2020-02-29</td>\n",
       "      <td>7798.025879</td>\n",
       "      <td>1.24%</td>\n",
       "      <td>2020-02-29</td>\n",
       "      <td>7798.025879</td>\n",
       "      <td>1.24%</td>\n",
       "      <td>-</td>\n",
       "      <td>0</td>\n",
       "      <td>0</td>\n",
       "      <td>0</td>\n",
       "      <td>0</td>\n",
       "      <td>0</td>\n",
       "      <td>0</td>\n",
       "      <td>1000</td>\n",
       "      <td>0</td>\n",
       "      <td>1000.000000</td>\n",
       "    </tr>\n",
       "    <tr>\n",
       "      <th>7</th>\n",
       "      <td>2020-03-08</td>\n",
       "      <td>7121.034180</td>\n",
       "      <td>-9.8%</td>\n",
       "      <td>2020-02-29</td>\n",
       "      <td>7798.025879</td>\n",
       "      <td>-8.68%</td>\n",
       "      <td>NaT</td>\n",
       "      <td>NaN</td>\n",
       "      <td>None</td>\n",
       "      <td>Acquisto</td>\n",
       "      <td>0.0</td>\n",
       "      <td>0</td>\n",
       "      <td>0.0</td>\n",
       "      <td>0</td>\n",
       "      <td>0.00006</td>\n",
       "      <td>0.0</td>\n",
       "      <td>999.99994</td>\n",
       "      <td>0.0</td>\n",
       "      <td>1000.000000</td>\n",
       "    </tr>\n",
       "    <tr>\n",
       "      <th>8</th>\n",
       "      <td>2020-03-09</td>\n",
       "      <td>6952.206055</td>\n",
       "      <td>-2.37%</td>\n",
       "      <td>2020-02-29</td>\n",
       "      <td>7798.025879</td>\n",
       "      <td>-10.85%</td>\n",
       "      <td>NaT</td>\n",
       "      <td>NaN</td>\n",
       "      <td>None</td>\n",
       "      <td>-</td>\n",
       "      <td>0</td>\n",
       "      <td>0</td>\n",
       "      <td>0</td>\n",
       "      <td>0</td>\n",
       "      <td>0</td>\n",
       "      <td>0</td>\n",
       "      <td>999.99994</td>\n",
       "      <td>0.0</td>\n",
       "      <td>999.999999</td>\n",
       "    </tr>\n",
       "    <tr>\n",
       "      <th>9</th>\n",
       "      <td>2020-03-10</td>\n",
       "      <td>6989.210938</td>\n",
       "      <td>0.53%</td>\n",
       "      <td>2020-02-29</td>\n",
       "      <td>7798.025879</td>\n",
       "      <td>-10.37%</td>\n",
       "      <td>2020-03-09</td>\n",
       "      <td>6952.206055</td>\n",
       "      <td>0.53%</td>\n",
       "      <td>-</td>\n",
       "      <td>0</td>\n",
       "      <td>0</td>\n",
       "      <td>0</td>\n",
       "      <td>0</td>\n",
       "      <td>0</td>\n",
       "      <td>0</td>\n",
       "      <td>999.99994</td>\n",
       "      <td>0.0</td>\n",
       "      <td>999.999999</td>\n",
       "    </tr>\n",
       "    <tr>\n",
       "      <th>10</th>\n",
       "      <td>2020-03-11</td>\n",
       "      <td>7024.827637</td>\n",
       "      <td>0.51%</td>\n",
       "      <td>2020-02-29</td>\n",
       "      <td>7798.025879</td>\n",
       "      <td>-9.92%</td>\n",
       "      <td>2020-03-09</td>\n",
       "      <td>6952.206055</td>\n",
       "      <td>1.04%</td>\n",
       "      <td>-</td>\n",
       "      <td>0</td>\n",
       "      <td>0</td>\n",
       "      <td>0</td>\n",
       "      <td>0</td>\n",
       "      <td>0</td>\n",
       "      <td>0</td>\n",
       "      <td>999.99994</td>\n",
       "      <td>0.0</td>\n",
       "      <td>999.999999</td>\n",
       "    </tr>\n",
       "    <tr>\n",
       "      <th>11</th>\n",
       "      <td>2020-03-12</td>\n",
       "      <td>4444.237305</td>\n",
       "      <td>-36.74%</td>\n",
       "      <td>2020-02-29</td>\n",
       "      <td>7798.025879</td>\n",
       "      <td>-43.01%</td>\n",
       "      <td>NaT</td>\n",
       "      <td>NaN</td>\n",
       "      <td>None</td>\n",
       "      <td>Acquisto</td>\n",
       "      <td>0.984546</td>\n",
       "      <td>0</td>\n",
       "      <td>0.984546</td>\n",
       "      <td>0</td>\n",
       "      <td>984.546439</td>\n",
       "      <td>0.221533</td>\n",
       "      <td>15.4535</td>\n",
       "      <td>0.221533</td>\n",
       "      <td>999.999977</td>\n",
       "    </tr>\n",
       "    <tr>\n",
       "      <th>12</th>\n",
       "      <td>2020-03-13</td>\n",
       "      <td>4993.677246</td>\n",
       "      <td>12.36%</td>\n",
       "      <td>NaT</td>\n",
       "      <td>NaN</td>\n",
       "      <td>None</td>\n",
       "      <td>2020-03-12</td>\n",
       "      <td>4444.237305</td>\n",
       "      <td>12.36%</td>\n",
       "      <td>-</td>\n",
       "      <td>0</td>\n",
       "      <td>0</td>\n",
       "      <td>0</td>\n",
       "      <td>0</td>\n",
       "      <td>0</td>\n",
       "      <td>0</td>\n",
       "      <td>15.4535</td>\n",
       "      <td>0.221533</td>\n",
       "      <td>1121.719211</td>\n",
       "    </tr>\n",
       "    <tr>\n",
       "      <th>13</th>\n",
       "      <td>2020-03-14</td>\n",
       "      <td>4666.309570</td>\n",
       "      <td>-6.56%</td>\n",
       "      <td>2020-03-13</td>\n",
       "      <td>4993.677246</td>\n",
       "      <td>-6.56%</td>\n",
       "      <td>NaT</td>\n",
       "      <td>NaN</td>\n",
       "      <td>None</td>\n",
       "      <td>-</td>\n",
       "      <td>0</td>\n",
       "      <td>0</td>\n",
       "      <td>0</td>\n",
       "      <td>0</td>\n",
       "      <td>0</td>\n",
       "      <td>0</td>\n",
       "      <td>15.4535</td>\n",
       "      <td>0.221533</td>\n",
       "      <td>1049.196375</td>\n",
       "    </tr>\n",
       "    <tr>\n",
       "      <th>14</th>\n",
       "      <td>2020-03-15</td>\n",
       "      <td>4834.835938</td>\n",
       "      <td>3.61%</td>\n",
       "      <td>2020-03-13</td>\n",
       "      <td>4993.677246</td>\n",
       "      <td>-3.18%</td>\n",
       "      <td>2020-03-14</td>\n",
       "      <td>4666.309570</td>\n",
       "      <td>3.61%</td>\n",
       "      <td>-</td>\n",
       "      <td>0</td>\n",
       "      <td>0</td>\n",
       "      <td>0</td>\n",
       "      <td>0</td>\n",
       "      <td>0</td>\n",
       "      <td>0</td>\n",
       "      <td>15.4535</td>\n",
       "      <td>0.221533</td>\n",
       "      <td>1086.530574</td>\n",
       "    </tr>\n",
       "    <tr>\n",
       "      <th>15</th>\n",
       "      <td>2020-03-16</td>\n",
       "      <td>4493.089355</td>\n",
       "      <td>-7.07%</td>\n",
       "      <td>2020-03-13</td>\n",
       "      <td>4993.677246</td>\n",
       "      <td>-10.02%</td>\n",
       "      <td>NaT</td>\n",
       "      <td>NaN</td>\n",
       "      <td>None</td>\n",
       "      <td>-</td>\n",
       "      <td>0</td>\n",
       "      <td>0</td>\n",
       "      <td>0</td>\n",
       "      <td>0</td>\n",
       "      <td>0</td>\n",
       "      <td>0</td>\n",
       "      <td>15.4535</td>\n",
       "      <td>0.221533</td>\n",
       "      <td>1010.822332</td>\n",
       "    </tr>\n",
       "    <tr>\n",
       "      <th>16</th>\n",
       "      <td>2020-03-17</td>\n",
       "      <td>4744.934082</td>\n",
       "      <td>5.61%</td>\n",
       "      <td>NaT</td>\n",
       "      <td>NaN</td>\n",
       "      <td>None</td>\n",
       "      <td>2020-03-16</td>\n",
       "      <td>4493.089355</td>\n",
       "      <td>5.61%</td>\n",
       "      <td>-</td>\n",
       "      <td>0</td>\n",
       "      <td>0</td>\n",
       "      <td>0</td>\n",
       "      <td>0</td>\n",
       "      <td>0</td>\n",
       "      <td>0</td>\n",
       "      <td>15.4535</td>\n",
       "      <td>0.221533</td>\n",
       "      <td>1066.614321</td>\n",
       "    </tr>\n",
       "    <tr>\n",
       "      <th>17</th>\n",
       "      <td>2020-03-18</td>\n",
       "      <td>4780.420898</td>\n",
       "      <td>0.75%</td>\n",
       "      <td>NaT</td>\n",
       "      <td>NaN</td>\n",
       "      <td>None</td>\n",
       "      <td>2020-03-16</td>\n",
       "      <td>4493.089355</td>\n",
       "      <td>6.39%</td>\n",
       "      <td>-</td>\n",
       "      <td>0</td>\n",
       "      <td>0</td>\n",
       "      <td>0</td>\n",
       "      <td>0</td>\n",
       "      <td>0</td>\n",
       "      <td>0</td>\n",
       "      <td>15.4535</td>\n",
       "      <td>0.221533</td>\n",
       "      <td>1074.475832</td>\n",
       "    </tr>\n",
       "    <tr>\n",
       "      <th>18</th>\n",
       "      <td>2020-03-19</td>\n",
       "      <td>5808.230469</td>\n",
       "      <td>21.5%</td>\n",
       "      <td>NaT</td>\n",
       "      <td>NaN</td>\n",
       "      <td>None</td>\n",
       "      <td>2020-03-16</td>\n",
       "      <td>4493.089355</td>\n",
       "      <td>29.27%</td>\n",
       "      <td>-</td>\n",
       "      <td>0</td>\n",
       "      <td>0</td>\n",
       "      <td>0</td>\n",
       "      <td>0</td>\n",
       "      <td>0</td>\n",
       "      <td>0</td>\n",
       "      <td>15.4535</td>\n",
       "      <td>0.221533</td>\n",
       "      <td>1302.169860</td>\n",
       "    </tr>\n",
       "    <tr>\n",
       "      <th>19</th>\n",
       "      <td>2020-03-20</td>\n",
       "      <td>5759.606934</td>\n",
       "      <td>-0.84%</td>\n",
       "      <td>2020-03-19</td>\n",
       "      <td>5808.230469</td>\n",
       "      <td>-0.84%</td>\n",
       "      <td>2020-03-16</td>\n",
       "      <td>4493.089355</td>\n",
       "      <td>28.19%</td>\n",
       "      <td>Acquisto</td>\n",
       "      <td>0.0</td>\n",
       "      <td>0</td>\n",
       "      <td>0.0</td>\n",
       "      <td>0</td>\n",
       "      <td>0.0</td>\n",
       "      <td>0.0</td>\n",
       "      <td>15.4535</td>\n",
       "      <td>0.221533</td>\n",
       "      <td>1291.398129</td>\n",
       "    </tr>\n",
       "  </tbody>\n",
       "</table>\n",
       "</div>"
      ],
      "text/plain": [
       "         data       prezzo variazione_giornaliera_prezzo_percentuale  \\\n",
       "0  2020-03-01  7748.164551                                    -0.64%   \n",
       "1  2020-03-02  7959.358398                                     2.73%   \n",
       "2  2020-03-03  7862.485352                                    -1.22%   \n",
       "3  2020-03-04  7861.055176                                    -0.02%   \n",
       "4  2020-03-05  8089.786133                                     2.91%   \n",
       "5  2020-03-06  8082.739746                                    -0.09%   \n",
       "6  2020-03-07  7894.343750                                    -2.33%   \n",
       "7  2020-03-08  7121.034180                                     -9.8%   \n",
       "8  2020-03-09  6952.206055                                    -2.37%   \n",
       "9  2020-03-10  6989.210938                                     0.53%   \n",
       "10 2020-03-11  7024.827637                                     0.51%   \n",
       "11 2020-03-12  4444.237305                                   -36.74%   \n",
       "12 2020-03-13  4993.677246                                    12.36%   \n",
       "13 2020-03-14  4666.309570                                    -6.56%   \n",
       "14 2020-03-15  4834.835938                                     3.61%   \n",
       "15 2020-03-16  4493.089355                                    -7.07%   \n",
       "16 2020-03-17  4744.934082                                     5.61%   \n",
       "17 2020-03-18  4780.420898                                     0.75%   \n",
       "18 2020-03-19  5808.230469                                     21.5%   \n",
       "19 2020-03-20  5759.606934                                    -0.84%   \n",
       "\n",
       "   timestamp_riferimento_discesa  prezzo_riferimento_discesa  \\\n",
       "0                     2020-02-29                 7798.025879   \n",
       "1                     2020-02-29                 7798.025879   \n",
       "2                     2020-02-29                 7798.025879   \n",
       "3                     2020-02-29                 7798.025879   \n",
       "4                     2020-02-29                 7798.025879   \n",
       "5                     2020-02-29                 7798.025879   \n",
       "6                     2020-02-29                 7798.025879   \n",
       "7                     2020-02-29                 7798.025879   \n",
       "8                     2020-02-29                 7798.025879   \n",
       "9                     2020-02-29                 7798.025879   \n",
       "10                    2020-02-29                 7798.025879   \n",
       "11                    2020-02-29                 7798.025879   \n",
       "12                           NaT                         NaN   \n",
       "13                    2020-03-13                 4993.677246   \n",
       "14                    2020-03-13                 4993.677246   \n",
       "15                    2020-03-13                 4993.677246   \n",
       "16                           NaT                         NaN   \n",
       "17                           NaT                         NaN   \n",
       "18                           NaT                         NaN   \n",
       "19                    2020-03-19                 5808.230469   \n",
       "\n",
       "   variazione_rispetto_riferimento_discesa timestamp_riferimento_salita  \\\n",
       "0                                   -0.64%                   2020-02-29   \n",
       "1                                    2.07%                   2020-02-29   \n",
       "2                                    0.83%                   2020-02-29   \n",
       "3                                    0.81%                   2020-02-29   \n",
       "4                                    3.74%                   2020-02-29   \n",
       "5                                    3.65%                   2020-02-29   \n",
       "6                                    1.24%                   2020-02-29   \n",
       "7                                   -8.68%                          NaT   \n",
       "8                                  -10.85%                          NaT   \n",
       "9                                  -10.37%                   2020-03-09   \n",
       "10                                  -9.92%                   2020-03-09   \n",
       "11                                 -43.01%                          NaT   \n",
       "12                                    None                   2020-03-12   \n",
       "13                                  -6.56%                          NaT   \n",
       "14                                  -3.18%                   2020-03-14   \n",
       "15                                 -10.02%                          NaT   \n",
       "16                                    None                   2020-03-16   \n",
       "17                                    None                   2020-03-16   \n",
       "18                                    None                   2020-03-16   \n",
       "19                                  -0.84%                   2020-03-16   \n",
       "\n",
       "    prezzo_riferimento_salita variazione_rispetto_riferimento_salita  \\\n",
       "0                 7798.025879                                 -0.64%   \n",
       "1                 7798.025879                                  2.07%   \n",
       "2                 7798.025879                                  0.83%   \n",
       "3                 7798.025879                                  0.81%   \n",
       "4                 7798.025879                                  3.74%   \n",
       "5                 7798.025879                                  3.65%   \n",
       "6                 7798.025879                                  1.24%   \n",
       "7                         NaN                                   None   \n",
       "8                         NaN                                   None   \n",
       "9                 6952.206055                                  0.53%   \n",
       "10                6952.206055                                  1.04%   \n",
       "11                        NaN                                   None   \n",
       "12                4444.237305                                 12.36%   \n",
       "13                        NaN                                   None   \n",
       "14                4666.309570                                  3.61%   \n",
       "15                        NaN                                   None   \n",
       "16                4493.089355                                  5.61%   \n",
       "17                4493.089355                                  6.39%   \n",
       "18                4493.089355                                 29.27%   \n",
       "19                4493.089355                                 28.19%   \n",
       "\n",
       "      azione Percentuale Liquidità Usata Percentuale Bitcoin Usata  \\\n",
       "0          -                           0                         0   \n",
       "1          -                           0                         0   \n",
       "2          -                           0                         0   \n",
       "3          -                           0                         0   \n",
       "4          -                           0                         0   \n",
       "5          -                           0                         0   \n",
       "6          -                           0                         0   \n",
       "7   Acquisto                         0.0                         0   \n",
       "8          -                           0                         0   \n",
       "9          -                           0                         0   \n",
       "10         -                           0                         0   \n",
       "11  Acquisto                    0.984546                         0   \n",
       "12         -                           0                         0   \n",
       "13         -                           0                         0   \n",
       "14         -                           0                         0   \n",
       "15         -                           0                         0   \n",
       "16         -                           0                         0   \n",
       "17         -                           0                         0   \n",
       "18         -                           0                         0   \n",
       "19  Acquisto                         0.0                         0   \n",
       "\n",
       "   Percentuale Liquidità Usata rispetto riferimento  \\\n",
       "0                                                 0   \n",
       "1                                                 0   \n",
       "2                                                 0   \n",
       "3                                                 0   \n",
       "4                                                 0   \n",
       "5                                                 0   \n",
       "6                                                 0   \n",
       "7                                               0.0   \n",
       "8                                                 0   \n",
       "9                                                 0   \n",
       "10                                                0   \n",
       "11                                         0.984546   \n",
       "12                                                0   \n",
       "13                                                0   \n",
       "14                                                0   \n",
       "15                                                0   \n",
       "16                                                0   \n",
       "17                                                0   \n",
       "18                                                0   \n",
       "19                                              0.0   \n",
       "\n",
       "   Percentuale Bitcoin Usata rispetto riferimento quantità_euro  \\\n",
       "0                                               0             0   \n",
       "1                                               0             0   \n",
       "2                                               0             0   \n",
       "3                                               0             0   \n",
       "4                                               0             0   \n",
       "5                                               0             0   \n",
       "6                                               0             0   \n",
       "7                                               0       0.00006   \n",
       "8                                               0             0   \n",
       "9                                               0             0   \n",
       "10                                              0             0   \n",
       "11                                              0    984.546439   \n",
       "12                                              0             0   \n",
       "13                                              0             0   \n",
       "14                                              0             0   \n",
       "15                                              0             0   \n",
       "16                                              0             0   \n",
       "17                                              0             0   \n",
       "18                                              0             0   \n",
       "19                                              0           0.0   \n",
       "\n",
       "   Bitcoin Acquistati/Venduti  Liquidità   Bitcoin  valore_totale_portafoglio  \n",
       "0                           0       1000         0                1000.000000  \n",
       "1                           0       1000         0                1000.000000  \n",
       "2                           0       1000         0                1000.000000  \n",
       "3                           0       1000         0                1000.000000  \n",
       "4                           0       1000         0                1000.000000  \n",
       "5                           0       1000         0                1000.000000  \n",
       "6                           0       1000         0                1000.000000  \n",
       "7                         0.0  999.99994       0.0                1000.000000  \n",
       "8                           0  999.99994       0.0                 999.999999  \n",
       "9                           0  999.99994       0.0                 999.999999  \n",
       "10                          0  999.99994       0.0                 999.999999  \n",
       "11                   0.221533    15.4535  0.221533                 999.999977  \n",
       "12                          0    15.4535  0.221533                1121.719211  \n",
       "13                          0    15.4535  0.221533                1049.196375  \n",
       "14                          0    15.4535  0.221533                1086.530574  \n",
       "15                          0    15.4535  0.221533                1010.822332  \n",
       "16                          0    15.4535  0.221533                1066.614321  \n",
       "17                          0    15.4535  0.221533                1074.475832  \n",
       "18                          0    15.4535  0.221533                1302.169860  \n",
       "19                        0.0    15.4535  0.221533                1291.398129  "
      ]
     },
     "execution_count": 15,
     "metadata": {},
     "output_type": "execute_result"
    }
   ],
   "source": [
    "df_transazioni[:20]"
   ]
  },
  {
   "cell_type": "code",
   "execution_count": 16,
   "metadata": {},
   "outputs": [
    {
     "data": {
      "text/html": [
       "<div>\n",
       "<style scoped>\n",
       "    .dataframe tbody tr th:only-of-type {\n",
       "        vertical-align: middle;\n",
       "    }\n",
       "\n",
       "    .dataframe tbody tr th {\n",
       "        vertical-align: top;\n",
       "    }\n",
       "\n",
       "    .dataframe thead th {\n",
       "        text-align: right;\n",
       "    }\n",
       "</style>\n",
       "<table border=\"1\" class=\"dataframe\">\n",
       "  <thead>\n",
       "    <tr style=\"text-align: right;\">\n",
       "      <th></th>\n",
       "      <th>data</th>\n",
       "      <th>prezzo</th>\n",
       "      <th>variazione_giornaliera_prezzo_percentuale</th>\n",
       "      <th>timestamp_riferimento_discesa</th>\n",
       "      <th>prezzo_riferimento_discesa</th>\n",
       "      <th>variazione_rispetto_riferimento_discesa</th>\n",
       "      <th>timestamp_riferimento_salita</th>\n",
       "      <th>prezzo_riferimento_salita</th>\n",
       "      <th>variazione_rispetto_riferimento_salita</th>\n",
       "      <th>azione</th>\n",
       "      <th>Percentuale Liquidità Usata</th>\n",
       "      <th>Percentuale Bitcoin Usata</th>\n",
       "      <th>Percentuale Liquidità Usata rispetto riferimento</th>\n",
       "      <th>Percentuale Bitcoin Usata rispetto riferimento</th>\n",
       "      <th>quantità_euro</th>\n",
       "      <th>Bitcoin Acquistati/Venduti</th>\n",
       "      <th>Liquidità</th>\n",
       "      <th>Bitcoin</th>\n",
       "      <th>valore_totale_portafoglio</th>\n",
       "    </tr>\n",
       "  </thead>\n",
       "  <tbody>\n",
       "    <tr>\n",
       "      <th>7</th>\n",
       "      <td>2020-03-08</td>\n",
       "      <td>7121.034180</td>\n",
       "      <td>-9.8%</td>\n",
       "      <td>2020-02-29</td>\n",
       "      <td>7798.025879</td>\n",
       "      <td>-8.68%</td>\n",
       "      <td>NaT</td>\n",
       "      <td>NaN</td>\n",
       "      <td>None</td>\n",
       "      <td>Acquisto</td>\n",
       "      <td>0.0</td>\n",
       "      <td>0</td>\n",
       "      <td>0.0</td>\n",
       "      <td>0</td>\n",
       "      <td>0.00006</td>\n",
       "      <td>0.0</td>\n",
       "      <td>999.99994</td>\n",
       "      <td>0.0</td>\n",
       "      <td>1000.000000</td>\n",
       "    </tr>\n",
       "    <tr>\n",
       "      <th>11</th>\n",
       "      <td>2020-03-12</td>\n",
       "      <td>4444.237305</td>\n",
       "      <td>-36.74%</td>\n",
       "      <td>2020-02-29</td>\n",
       "      <td>7798.025879</td>\n",
       "      <td>-43.01%</td>\n",
       "      <td>NaT</td>\n",
       "      <td>NaN</td>\n",
       "      <td>None</td>\n",
       "      <td>Acquisto</td>\n",
       "      <td>0.984546</td>\n",
       "      <td>0</td>\n",
       "      <td>0.984546</td>\n",
       "      <td>0</td>\n",
       "      <td>984.546439</td>\n",
       "      <td>0.221533</td>\n",
       "      <td>15.4535</td>\n",
       "      <td>0.221533</td>\n",
       "      <td>999.999977</td>\n",
       "    </tr>\n",
       "    <tr>\n",
       "      <th>19</th>\n",
       "      <td>2020-03-20</td>\n",
       "      <td>5759.606934</td>\n",
       "      <td>-0.84%</td>\n",
       "      <td>2020-03-19</td>\n",
       "      <td>5808.230469</td>\n",
       "      <td>-0.84%</td>\n",
       "      <td>2020-03-16</td>\n",
       "      <td>4493.089355</td>\n",
       "      <td>28.19%</td>\n",
       "      <td>Acquisto</td>\n",
       "      <td>0.0</td>\n",
       "      <td>0</td>\n",
       "      <td>0.0</td>\n",
       "      <td>0</td>\n",
       "      <td>0.0</td>\n",
       "      <td>0.0</td>\n",
       "      <td>15.4535</td>\n",
       "      <td>0.221533</td>\n",
       "      <td>1291.398129</td>\n",
       "    </tr>\n",
       "    <tr>\n",
       "      <th>21</th>\n",
       "      <td>2020-03-22</td>\n",
       "      <td>5452.092773</td>\n",
       "      <td>-5.12%</td>\n",
       "      <td>2020-03-19</td>\n",
       "      <td>5808.230469</td>\n",
       "      <td>-6.13%</td>\n",
       "      <td>NaT</td>\n",
       "      <td>NaN</td>\n",
       "      <td>None</td>\n",
       "      <td>Acquisto</td>\n",
       "      <td>0.0</td>\n",
       "      <td>0</td>\n",
       "      <td>0.0</td>\n",
       "      <td>0</td>\n",
       "      <td>0.000001</td>\n",
       "      <td>0.0</td>\n",
       "      <td>15.453499</td>\n",
       "      <td>0.221533</td>\n",
       "      <td>1223.273507</td>\n",
       "    </tr>\n",
       "    <tr>\n",
       "      <th>24</th>\n",
       "      <td>2020-03-25</td>\n",
       "      <td>6135.968750</td>\n",
       "      <td>-1.61%</td>\n",
       "      <td>2020-03-24</td>\n",
       "      <td>6236.596680</td>\n",
       "      <td>-1.61%</td>\n",
       "      <td>2020-03-22</td>\n",
       "      <td>5452.092773</td>\n",
       "      <td>12.54%</td>\n",
       "      <td>Acquisto</td>\n",
       "      <td>0.0</td>\n",
       "      <td>0</td>\n",
       "      <td>0.0</td>\n",
       "      <td>0</td>\n",
       "      <td>0.0</td>\n",
       "      <td>0.0</td>\n",
       "      <td>15.453499</td>\n",
       "      <td>0.221533</td>\n",
       "      <td>1374.774797</td>\n",
       "    </tr>\n",
       "    <tr>\n",
       "      <th>26</th>\n",
       "      <td>2020-03-27</td>\n",
       "      <td>5793.704102</td>\n",
       "      <td>-4.7%</td>\n",
       "      <td>2020-03-24</td>\n",
       "      <td>6236.596680</td>\n",
       "      <td>-7.1%</td>\n",
       "      <td>NaT</td>\n",
       "      <td>NaN</td>\n",
       "      <td>None</td>\n",
       "      <td>Acquisto</td>\n",
       "      <td>0.0</td>\n",
       "      <td>0</td>\n",
       "      <td>0.0</td>\n",
       "      <td>0</td>\n",
       "      <td>0.000007</td>\n",
       "      <td>0.0</td>\n",
       "      <td>15.453492</td>\n",
       "      <td>0.221533</td>\n",
       "      <td>1298.951786</td>\n",
       "    </tr>\n",
       "    <tr>\n",
       "      <th>28</th>\n",
       "      <td>2020-03-29</td>\n",
       "      <td>5315.300293</td>\n",
       "      <td>-4.9%</td>\n",
       "      <td>2020-03-24</td>\n",
       "      <td>6236.596680</td>\n",
       "      <td>-14.77%</td>\n",
       "      <td>NaT</td>\n",
       "      <td>NaN</td>\n",
       "      <td>None</td>\n",
       "      <td>Acquisto</td>\n",
       "      <td>0.001584</td>\n",
       "      <td>0</td>\n",
       "      <td>0.000024</td>\n",
       "      <td>0</td>\n",
       "      <td>0.024474</td>\n",
       "      <td>0.000005</td>\n",
       "      <td>15.429018</td>\n",
       "      <td>0.221538</td>\n",
       "      <td>1192.969420</td>\n",
       "    </tr>\n",
       "    <tr>\n",
       "      <th>33</th>\n",
       "      <td>2020-04-03</td>\n",
       "      <td>6232.120605</td>\n",
       "      <td>-0.52%</td>\n",
       "      <td>2020-04-02</td>\n",
       "      <td>6264.632324</td>\n",
       "      <td>-0.52%</td>\n",
       "      <td>2020-03-29</td>\n",
       "      <td>5315.300293</td>\n",
       "      <td>17.25%</td>\n",
       "      <td>Acquisto</td>\n",
       "      <td>0.0</td>\n",
       "      <td>0</td>\n",
       "      <td>0.0</td>\n",
       "      <td>0</td>\n",
       "      <td>0.0</td>\n",
       "      <td>0.0</td>\n",
       "      <td>15.429018</td>\n",
       "      <td>0.221538</td>\n",
       "      <td>1396.079855</td>\n",
       "    </tr>\n",
       "    <tr>\n",
       "      <th>37</th>\n",
       "      <td>2020-04-07</td>\n",
       "      <td>6586.584961</td>\n",
       "      <td>-2.17%</td>\n",
       "      <td>2020-04-06</td>\n",
       "      <td>6732.447754</td>\n",
       "      <td>-2.17%</td>\n",
       "      <td>2020-03-29</td>\n",
       "      <td>5315.300293</td>\n",
       "      <td>23.92%</td>\n",
       "      <td>Acquisto</td>\n",
       "      <td>0.0</td>\n",
       "      <td>0</td>\n",
       "      <td>0.0</td>\n",
       "      <td>0</td>\n",
       "      <td>0.0</td>\n",
       "      <td>0.0</td>\n",
       "      <td>15.429018</td>\n",
       "      <td>0.221538</td>\n",
       "      <td>1474.607140</td>\n",
       "    </tr>\n",
       "    <tr>\n",
       "      <th>60</th>\n",
       "      <td>2020-04-30</td>\n",
       "      <td>7911.762695</td>\n",
       "      <td>-2.22%</td>\n",
       "      <td>2020-04-29</td>\n",
       "      <td>8091.744629</td>\n",
       "      <td>-2.22%</td>\n",
       "      <td>2020-04-20</td>\n",
       "      <td>6334.223633</td>\n",
       "      <td>24.91%</td>\n",
       "      <td>Acquisto</td>\n",
       "      <td>0.0</td>\n",
       "      <td>0</td>\n",
       "      <td>0.0</td>\n",
       "      <td>0</td>\n",
       "      <td>0.0</td>\n",
       "      <td>0.0</td>\n",
       "      <td>15.429018</td>\n",
       "      <td>0.221538</td>\n",
       "      <td>1768.184217</td>\n",
       "    </tr>\n",
       "    <tr>\n",
       "      <th>68</th>\n",
       "      <td>2020-05-08</td>\n",
       "      <td>8973.578125</td>\n",
       "      <td>-2.29%</td>\n",
       "      <td>2020-05-07</td>\n",
       "      <td>9183.599609</td>\n",
       "      <td>-2.29%</td>\n",
       "      <td>2020-04-20</td>\n",
       "      <td>6334.223633</td>\n",
       "      <td>41.67%</td>\n",
       "      <td>Acquisto</td>\n",
       "      <td>0.0</td>\n",
       "      <td>0</td>\n",
       "      <td>0.0</td>\n",
       "      <td>0</td>\n",
       "      <td>0.0</td>\n",
       "      <td>0.0</td>\n",
       "      <td>15.429018</td>\n",
       "      <td>0.221538</td>\n",
       "      <td>2003.416565</td>\n",
       "    </tr>\n",
       "    <tr>\n",
       "      <th>70</th>\n",
       "      <td>2020-05-10</td>\n",
       "      <td>8078.630859</td>\n",
       "      <td>-7.62%</td>\n",
       "      <td>2020-05-07</td>\n",
       "      <td>9183.599609</td>\n",
       "      <td>-12.03%</td>\n",
       "      <td>NaT</td>\n",
       "      <td>NaN</td>\n",
       "      <td>None</td>\n",
       "      <td>Acquisto</td>\n",
       "      <td>0.000149</td>\n",
       "      <td>0</td>\n",
       "      <td>0.000002</td>\n",
       "      <td>0</td>\n",
       "      <td>0.002292</td>\n",
       "      <td>0.0</td>\n",
       "      <td>15.426726</td>\n",
       "      <td>0.221538</td>\n",
       "      <td>1805.151837</td>\n",
       "    </tr>\n",
       "    <tr>\n",
       "      <th>75</th>\n",
       "      <td>2020-05-15</td>\n",
       "      <td>8619.981445</td>\n",
       "      <td>-4.3%</td>\n",
       "      <td>2020-05-14</td>\n",
       "      <td>9006.835938</td>\n",
       "      <td>-4.3%</td>\n",
       "      <td>2020-05-11</td>\n",
       "      <td>7958.571289</td>\n",
       "      <td>8.31%</td>\n",
       "      <td>Acquisto</td>\n",
       "      <td>0.0</td>\n",
       "      <td>0</td>\n",
       "      <td>0.0</td>\n",
       "      <td>0</td>\n",
       "      <td>0.0</td>\n",
       "      <td>0.0</td>\n",
       "      <td>15.426726</td>\n",
       "      <td>0.221538</td>\n",
       "      <td>1925.081656</td>\n",
       "    </tr>\n",
       "    <tr>\n",
       "      <th>118</th>\n",
       "      <td>2020-06-27</td>\n",
       "      <td>8063.251465</td>\n",
       "      <td>-1.28%</td>\n",
       "      <td>2020-06-01</td>\n",
       "      <td>9138.788086</td>\n",
       "      <td>-11.77%</td>\n",
       "      <td>NaT</td>\n",
       "      <td>NaN</td>\n",
       "      <td>None</td>\n",
       "      <td>Acquisto</td>\n",
       "      <td>0.000116</td>\n",
       "      <td>0</td>\n",
       "      <td>0.000002</td>\n",
       "      <td>0</td>\n",
       "      <td>0.001783</td>\n",
       "      <td>0.0</td>\n",
       "      <td>15.424943</td>\n",
       "      <td>0.221538</td>\n",
       "      <td>1801.744714</td>\n",
       "    </tr>\n",
       "    <tr>\n",
       "      <th>149</th>\n",
       "      <td>2020-07-28</td>\n",
       "      <td>9311.410156</td>\n",
       "      <td>-0.31%</td>\n",
       "      <td>2020-07-27</td>\n",
       "      <td>9340.187500</td>\n",
       "      <td>-0.31%</td>\n",
       "      <td>2020-06-27</td>\n",
       "      <td>8063.251465</td>\n",
       "      <td>15.48%</td>\n",
       "      <td>Acquisto</td>\n",
       "      <td>0.0</td>\n",
       "      <td>0</td>\n",
       "      <td>0.0</td>\n",
       "      <td>0</td>\n",
       "      <td>0.0</td>\n",
       "      <td>0.0</td>\n",
       "      <td>15.424943</td>\n",
       "      <td>0.221538</td>\n",
       "      <td>2078.259785</td>\n",
       "    </tr>\n",
       "  </tbody>\n",
       "</table>\n",
       "</div>"
      ],
      "text/plain": [
       "          data       prezzo variazione_giornaliera_prezzo_percentuale  \\\n",
       "7   2020-03-08  7121.034180                                     -9.8%   \n",
       "11  2020-03-12  4444.237305                                   -36.74%   \n",
       "19  2020-03-20  5759.606934                                    -0.84%   \n",
       "21  2020-03-22  5452.092773                                    -5.12%   \n",
       "24  2020-03-25  6135.968750                                    -1.61%   \n",
       "26  2020-03-27  5793.704102                                     -4.7%   \n",
       "28  2020-03-29  5315.300293                                     -4.9%   \n",
       "33  2020-04-03  6232.120605                                    -0.52%   \n",
       "37  2020-04-07  6586.584961                                    -2.17%   \n",
       "60  2020-04-30  7911.762695                                    -2.22%   \n",
       "68  2020-05-08  8973.578125                                    -2.29%   \n",
       "70  2020-05-10  8078.630859                                    -7.62%   \n",
       "75  2020-05-15  8619.981445                                     -4.3%   \n",
       "118 2020-06-27  8063.251465                                    -1.28%   \n",
       "149 2020-07-28  9311.410156                                    -0.31%   \n",
       "\n",
       "    timestamp_riferimento_discesa  prezzo_riferimento_discesa  \\\n",
       "7                      2020-02-29                 7798.025879   \n",
       "11                     2020-02-29                 7798.025879   \n",
       "19                     2020-03-19                 5808.230469   \n",
       "21                     2020-03-19                 5808.230469   \n",
       "24                     2020-03-24                 6236.596680   \n",
       "26                     2020-03-24                 6236.596680   \n",
       "28                     2020-03-24                 6236.596680   \n",
       "33                     2020-04-02                 6264.632324   \n",
       "37                     2020-04-06                 6732.447754   \n",
       "60                     2020-04-29                 8091.744629   \n",
       "68                     2020-05-07                 9183.599609   \n",
       "70                     2020-05-07                 9183.599609   \n",
       "75                     2020-05-14                 9006.835938   \n",
       "118                    2020-06-01                 9138.788086   \n",
       "149                    2020-07-27                 9340.187500   \n",
       "\n",
       "    variazione_rispetto_riferimento_discesa timestamp_riferimento_salita  \\\n",
       "7                                    -8.68%                          NaT   \n",
       "11                                  -43.01%                          NaT   \n",
       "19                                   -0.84%                   2020-03-16   \n",
       "21                                   -6.13%                          NaT   \n",
       "24                                   -1.61%                   2020-03-22   \n",
       "26                                    -7.1%                          NaT   \n",
       "28                                  -14.77%                          NaT   \n",
       "33                                   -0.52%                   2020-03-29   \n",
       "37                                   -2.17%                   2020-03-29   \n",
       "60                                   -2.22%                   2020-04-20   \n",
       "68                                   -2.29%                   2020-04-20   \n",
       "70                                  -12.03%                          NaT   \n",
       "75                                    -4.3%                   2020-05-11   \n",
       "118                                 -11.77%                          NaT   \n",
       "149                                  -0.31%                   2020-06-27   \n",
       "\n",
       "     prezzo_riferimento_salita variazione_rispetto_riferimento_salita  \\\n",
       "7                          NaN                                   None   \n",
       "11                         NaN                                   None   \n",
       "19                 4493.089355                                 28.19%   \n",
       "21                         NaN                                   None   \n",
       "24                 5452.092773                                 12.54%   \n",
       "26                         NaN                                   None   \n",
       "28                         NaN                                   None   \n",
       "33                 5315.300293                                 17.25%   \n",
       "37                 5315.300293                                 23.92%   \n",
       "60                 6334.223633                                 24.91%   \n",
       "68                 6334.223633                                 41.67%   \n",
       "70                         NaN                                   None   \n",
       "75                 7958.571289                                  8.31%   \n",
       "118                        NaN                                   None   \n",
       "149                8063.251465                                 15.48%   \n",
       "\n",
       "       azione Percentuale Liquidità Usata Percentuale Bitcoin Usata  \\\n",
       "7    Acquisto                         0.0                         0   \n",
       "11   Acquisto                    0.984546                         0   \n",
       "19   Acquisto                         0.0                         0   \n",
       "21   Acquisto                         0.0                         0   \n",
       "24   Acquisto                         0.0                         0   \n",
       "26   Acquisto                         0.0                         0   \n",
       "28   Acquisto                    0.001584                         0   \n",
       "33   Acquisto                         0.0                         0   \n",
       "37   Acquisto                         0.0                         0   \n",
       "60   Acquisto                         0.0                         0   \n",
       "68   Acquisto                         0.0                         0   \n",
       "70   Acquisto                    0.000149                         0   \n",
       "75   Acquisto                         0.0                         0   \n",
       "118  Acquisto                    0.000116                         0   \n",
       "149  Acquisto                         0.0                         0   \n",
       "\n",
       "    Percentuale Liquidità Usata rispetto riferimento  \\\n",
       "7                                                0.0   \n",
       "11                                          0.984546   \n",
       "19                                               0.0   \n",
       "21                                               0.0   \n",
       "24                                               0.0   \n",
       "26                                               0.0   \n",
       "28                                          0.000024   \n",
       "33                                               0.0   \n",
       "37                                               0.0   \n",
       "60                                               0.0   \n",
       "68                                               0.0   \n",
       "70                                          0.000002   \n",
       "75                                               0.0   \n",
       "118                                         0.000002   \n",
       "149                                              0.0   \n",
       "\n",
       "    Percentuale Bitcoin Usata rispetto riferimento quantità_euro  \\\n",
       "7                                                0       0.00006   \n",
       "11                                               0    984.546439   \n",
       "19                                               0           0.0   \n",
       "21                                               0      0.000001   \n",
       "24                                               0           0.0   \n",
       "26                                               0      0.000007   \n",
       "28                                               0      0.024474   \n",
       "33                                               0           0.0   \n",
       "37                                               0           0.0   \n",
       "60                                               0           0.0   \n",
       "68                                               0           0.0   \n",
       "70                                               0      0.002292   \n",
       "75                                               0           0.0   \n",
       "118                                              0      0.001783   \n",
       "149                                              0           0.0   \n",
       "\n",
       "    Bitcoin Acquistati/Venduti  Liquidità   Bitcoin  valore_totale_portafoglio  \n",
       "7                          0.0  999.99994       0.0                1000.000000  \n",
       "11                    0.221533    15.4535  0.221533                 999.999977  \n",
       "19                         0.0    15.4535  0.221533                1291.398129  \n",
       "21                         0.0  15.453499  0.221533                1223.273507  \n",
       "24                         0.0  15.453499  0.221533                1374.774797  \n",
       "26                         0.0  15.453492  0.221533                1298.951786  \n",
       "28                    0.000005  15.429018  0.221538                1192.969420  \n",
       "33                         0.0  15.429018  0.221538                1396.079855  \n",
       "37                         0.0  15.429018  0.221538                1474.607140  \n",
       "60                         0.0  15.429018  0.221538                1768.184217  \n",
       "68                         0.0  15.429018  0.221538                2003.416565  \n",
       "70                         0.0  15.426726  0.221538                1805.151837  \n",
       "75                         0.0  15.426726  0.221538                1925.081656  \n",
       "118                        0.0  15.424943  0.221538                1801.744714  \n",
       "149                        0.0  15.424943  0.221538                2078.259785  "
      ]
     },
     "execution_count": 16,
     "metadata": {},
     "output_type": "execute_result"
    }
   ],
   "source": [
    "df_transazioni[df_transazioni['azione'] != '-']"
   ]
  },
  {
   "cell_type": "markdown",
   "metadata": {},
   "source": [
    "### Risultati"
   ]
  },
  {
   "cell_type": "code",
   "execution_count": null,
   "metadata": {},
   "outputs": [
    {
     "data": {
      "application/vnd.plotly.v1+json": {
       "config": {
        "plotlyServerURL": "https://plot.ly"
       },
       "data": [
        {
         "hoverinfo": "text",
         "line": {
          "color": "blue",
          "width": 2
         },
         "mode": "lines",
         "name": "Prezzi",
         "text": [
          "Timestamp: 2020-03-01 00:00:00<br>Prezzo: 7748.16 €<br>Variazione giornaliera: -0.64%<br>Timestamp riferimento discesa: 2020-02-29 00:00:00<br>Prezzo riferimento discesa: 7798.03<br>Variazione rispetto riferimento discesa: -0.64% %<br>Timestamp riferimento salita: 2020-02-29 00:00:00<br>Prezzo riferimento salita: 7798.03<br>Variazione rispetto riferimento salita: -0.64% %",
          "Timestamp: 2020-03-02 00:00:00<br>Prezzo: 7959.36 €<br>Variazione giornaliera: 2.73%<br>Timestamp riferimento discesa: 2020-02-29 00:00:00<br>Prezzo riferimento discesa: 7798.03<br>Variazione rispetto riferimento discesa: 2.07% %<br>Timestamp riferimento salita: 2020-02-29 00:00:00<br>Prezzo riferimento salita: 7798.03<br>Variazione rispetto riferimento salita: 2.07% %",
          "Timestamp: 2020-03-03 00:00:00<br>Prezzo: 7862.49 €<br>Variazione giornaliera: -1.22%<br>Timestamp riferimento discesa: 2020-02-29 00:00:00<br>Prezzo riferimento discesa: 7798.03<br>Variazione rispetto riferimento discesa: 0.83% %<br>Timestamp riferimento salita: 2020-02-29 00:00:00<br>Prezzo riferimento salita: 7798.03<br>Variazione rispetto riferimento salita: 0.83% %",
          "Timestamp: 2020-03-04 00:00:00<br>Prezzo: 7861.06 €<br>Variazione giornaliera: -0.02%<br>Timestamp riferimento discesa: 2020-02-29 00:00:00<br>Prezzo riferimento discesa: 7798.03<br>Variazione rispetto riferimento discesa: 0.81% %<br>Timestamp riferimento salita: 2020-02-29 00:00:00<br>Prezzo riferimento salita: 7798.03<br>Variazione rispetto riferimento salita: 0.81% %",
          "Timestamp: 2020-03-05 00:00:00<br>Prezzo: 8089.79 €<br>Variazione giornaliera: 2.91%<br>Timestamp riferimento discesa: 2020-02-29 00:00:00<br>Prezzo riferimento discesa: 7798.03<br>Variazione rispetto riferimento discesa: 3.74% %<br>Timestamp riferimento salita: 2020-02-29 00:00:00<br>Prezzo riferimento salita: 7798.03<br>Variazione rispetto riferimento salita: 3.74% %",
          "Timestamp: 2020-03-06 00:00:00<br>Prezzo: 8082.74 €<br>Variazione giornaliera: -0.09%<br>Timestamp riferimento discesa: 2020-02-29 00:00:00<br>Prezzo riferimento discesa: 7798.03<br>Variazione rispetto riferimento discesa: 3.65% %<br>Timestamp riferimento salita: 2020-02-29 00:00:00<br>Prezzo riferimento salita: 7798.03<br>Variazione rispetto riferimento salita: 3.65% %",
          "Timestamp: 2020-03-07 00:00:00<br>Prezzo: 7894.34 €<br>Variazione giornaliera: -2.33%<br>Timestamp riferimento discesa: 2020-02-29 00:00:00<br>Prezzo riferimento discesa: 7798.03<br>Variazione rispetto riferimento discesa: 1.24% %<br>Timestamp riferimento salita: 2020-02-29 00:00:00<br>Prezzo riferimento salita: 7798.03<br>Variazione rispetto riferimento salita: 1.24% %",
          "Timestamp: 2020-03-08 00:00:00<br>Prezzo: 7121.03 €<br>Variazione giornaliera: -9.8%<br>Timestamp riferimento discesa: 2020-02-29 00:00:00<br>Prezzo riferimento discesa: 7798.03<br>Variazione rispetto riferimento discesa: -8.68% %<br>Timestamp riferimento salita: NaT<br>Prezzo riferimento salita: None<br>Variazione rispetto riferimento salita: None %",
          "Timestamp: 2020-03-09 00:00:00<br>Prezzo: 6952.21 €<br>Variazione giornaliera: -2.37%<br>Timestamp riferimento discesa: 2020-02-29 00:00:00<br>Prezzo riferimento discesa: 7798.03<br>Variazione rispetto riferimento discesa: -10.85% %<br>Timestamp riferimento salita: NaT<br>Prezzo riferimento salita: None<br>Variazione rispetto riferimento salita: None %",
          "Timestamp: 2020-03-10 00:00:00<br>Prezzo: 6989.21 €<br>Variazione giornaliera: 0.53%<br>Timestamp riferimento discesa: 2020-02-29 00:00:00<br>Prezzo riferimento discesa: 7798.03<br>Variazione rispetto riferimento discesa: -10.37% %<br>Timestamp riferimento salita: 2020-03-09 00:00:00<br>Prezzo riferimento salita: 6952.21<br>Variazione rispetto riferimento salita: 0.53% %",
          "Timestamp: 2020-03-11 00:00:00<br>Prezzo: 7024.83 €<br>Variazione giornaliera: 0.51%<br>Timestamp riferimento discesa: 2020-02-29 00:00:00<br>Prezzo riferimento discesa: 7798.03<br>Variazione rispetto riferimento discesa: -9.92% %<br>Timestamp riferimento salita: 2020-03-09 00:00:00<br>Prezzo riferimento salita: 6952.21<br>Variazione rispetto riferimento salita: 1.04% %",
          "Timestamp: 2020-03-12 00:00:00<br>Prezzo: 4444.24 €<br>Variazione giornaliera: -36.74%<br>Timestamp riferimento discesa: 2020-02-29 00:00:00<br>Prezzo riferimento discesa: 7798.03<br>Variazione rispetto riferimento discesa: -43.01% %<br>Timestamp riferimento salita: NaT<br>Prezzo riferimento salita: None<br>Variazione rispetto riferimento salita: None %",
          "Timestamp: 2020-03-13 00:00:00<br>Prezzo: 4993.68 €<br>Variazione giornaliera: 12.36%<br>Timestamp riferimento discesa: NaT<br>Prezzo riferimento discesa: None<br>Variazione rispetto riferimento discesa: None %<br>Timestamp riferimento salita: 2020-03-12 00:00:00<br>Prezzo riferimento salita: 4444.24<br>Variazione rispetto riferimento salita: 12.36% %",
          "Timestamp: 2020-03-14 00:00:00<br>Prezzo: 4666.31 €<br>Variazione giornaliera: -6.56%<br>Timestamp riferimento discesa: 2020-03-13 00:00:00<br>Prezzo riferimento discesa: 4993.68<br>Variazione rispetto riferimento discesa: -6.56% %<br>Timestamp riferimento salita: NaT<br>Prezzo riferimento salita: None<br>Variazione rispetto riferimento salita: None %",
          "Timestamp: 2020-03-15 00:00:00<br>Prezzo: 4834.84 €<br>Variazione giornaliera: 3.61%<br>Timestamp riferimento discesa: 2020-03-13 00:00:00<br>Prezzo riferimento discesa: 4993.68<br>Variazione rispetto riferimento discesa: -3.18% %<br>Timestamp riferimento salita: 2020-03-14 00:00:00<br>Prezzo riferimento salita: 4666.31<br>Variazione rispetto riferimento salita: 3.61% %",
          "Timestamp: 2020-03-16 00:00:00<br>Prezzo: 4493.09 €<br>Variazione giornaliera: -7.07%<br>Timestamp riferimento discesa: 2020-03-13 00:00:00<br>Prezzo riferimento discesa: 4993.68<br>Variazione rispetto riferimento discesa: -10.02% %<br>Timestamp riferimento salita: NaT<br>Prezzo riferimento salita: None<br>Variazione rispetto riferimento salita: None %",
          "Timestamp: 2020-03-17 00:00:00<br>Prezzo: 4744.93 €<br>Variazione giornaliera: 5.61%<br>Timestamp riferimento discesa: NaT<br>Prezzo riferimento discesa: None<br>Variazione rispetto riferimento discesa: None %<br>Timestamp riferimento salita: 2020-03-16 00:00:00<br>Prezzo riferimento salita: 4493.09<br>Variazione rispetto riferimento salita: 5.61% %",
          "Timestamp: 2020-03-18 00:00:00<br>Prezzo: 4780.42 €<br>Variazione giornaliera: 0.75%<br>Timestamp riferimento discesa: NaT<br>Prezzo riferimento discesa: None<br>Variazione rispetto riferimento discesa: None %<br>Timestamp riferimento salita: 2020-03-16 00:00:00<br>Prezzo riferimento salita: 4493.09<br>Variazione rispetto riferimento salita: 6.39% %",
          "Timestamp: 2020-03-19 00:00:00<br>Prezzo: 5808.23 €<br>Variazione giornaliera: 21.5%<br>Timestamp riferimento discesa: NaT<br>Prezzo riferimento discesa: None<br>Variazione rispetto riferimento discesa: None %<br>Timestamp riferimento salita: 2020-03-16 00:00:00<br>Prezzo riferimento salita: 4493.09<br>Variazione rispetto riferimento salita: 29.27% %",
          "Timestamp: 2020-03-20 00:00:00<br>Prezzo: 5759.61 €<br>Variazione giornaliera: -0.84%<br>Timestamp riferimento discesa: 2020-03-19 00:00:00<br>Prezzo riferimento discesa: 5808.23<br>Variazione rispetto riferimento discesa: -0.84% %<br>Timestamp riferimento salita: 2020-03-16 00:00:00<br>Prezzo riferimento salita: 4493.09<br>Variazione rispetto riferimento salita: 28.19% %",
          "Timestamp: 2020-03-21 00:00:00<br>Prezzo: 5746.33 €<br>Variazione giornaliera: -0.23%<br>Timestamp riferimento discesa: 2020-03-19 00:00:00<br>Prezzo riferimento discesa: 5808.23<br>Variazione rispetto riferimento discesa: -1.07% %<br>Timestamp riferimento salita: 2020-03-16 00:00:00<br>Prezzo riferimento salita: 4493.09<br>Variazione rispetto riferimento salita: 27.89% %",
          "Timestamp: 2020-03-22 00:00:00<br>Prezzo: 5452.09 €<br>Variazione giornaliera: -5.12%<br>Timestamp riferimento discesa: 2020-03-19 00:00:00<br>Prezzo riferimento discesa: 5808.23<br>Variazione rispetto riferimento discesa: -6.13% %<br>Timestamp riferimento salita: NaT<br>Prezzo riferimento salita: None<br>Variazione rispetto riferimento salita: None %",
          "Timestamp: 2020-03-23 00:00:00<br>Prezzo: 5960.81 €<br>Variazione giornaliera: 9.33%<br>Timestamp riferimento discesa: NaT<br>Prezzo riferimento discesa: None<br>Variazione rispetto riferimento discesa: None %<br>Timestamp riferimento salita: 2020-03-22 00:00:00<br>Prezzo riferimento salita: 5452.09<br>Variazione rispetto riferimento salita: 9.33% %",
          "Timestamp: 2020-03-24 00:00:00<br>Prezzo: 6236.60 €<br>Variazione giornaliera: 4.63%<br>Timestamp riferimento discesa: NaT<br>Prezzo riferimento discesa: None<br>Variazione rispetto riferimento discesa: None %<br>Timestamp riferimento salita: 2020-03-22 00:00:00<br>Prezzo riferimento salita: 5452.09<br>Variazione rispetto riferimento salita: 14.39% %",
          "Timestamp: 2020-03-25 00:00:00<br>Prezzo: 6135.97 €<br>Variazione giornaliera: -1.61%<br>Timestamp riferimento discesa: 2020-03-24 00:00:00<br>Prezzo riferimento discesa: 6236.60<br>Variazione rispetto riferimento discesa: -1.61% %<br>Timestamp riferimento salita: 2020-03-22 00:00:00<br>Prezzo riferimento salita: 5452.09<br>Variazione rispetto riferimento salita: 12.54% %",
          "Timestamp: 2020-03-26 00:00:00<br>Prezzo: 6079.74 €<br>Variazione giornaliera: -0.92%<br>Timestamp riferimento discesa: 2020-03-24 00:00:00<br>Prezzo riferimento discesa: 6236.60<br>Variazione rispetto riferimento discesa: -2.52% %<br>Timestamp riferimento salita: 2020-03-22 00:00:00<br>Prezzo riferimento salita: 5452.09<br>Variazione rispetto riferimento salita: 11.51% %",
          "Timestamp: 2020-03-27 00:00:00<br>Prezzo: 5793.70 €<br>Variazione giornaliera: -4.7%<br>Timestamp riferimento discesa: 2020-03-24 00:00:00<br>Prezzo riferimento discesa: 6236.60<br>Variazione rispetto riferimento discesa: -7.1% %<br>Timestamp riferimento salita: NaT<br>Prezzo riferimento salita: None<br>Variazione rispetto riferimento salita: None %",
          "Timestamp: 2020-03-28 00:00:00<br>Prezzo: 5589.10 €<br>Variazione giornaliera: -3.53%<br>Timestamp riferimento discesa: 2020-03-24 00:00:00<br>Prezzo riferimento discesa: 6236.60<br>Variazione rispetto riferimento discesa: -10.38% %<br>Timestamp riferimento salita: NaT<br>Prezzo riferimento salita: None<br>Variazione rispetto riferimento salita: None %",
          "Timestamp: 2020-03-29 00:00:00<br>Prezzo: 5315.30 €<br>Variazione giornaliera: -4.9%<br>Timestamp riferimento discesa: 2020-03-24 00:00:00<br>Prezzo riferimento discesa: 6236.60<br>Variazione rispetto riferimento discesa: -14.77% %<br>Timestamp riferimento salita: NaT<br>Prezzo riferimento salita: None<br>Variazione rispetto riferimento salita: None %",
          "Timestamp: 2020-03-30 00:00:00<br>Prezzo: 5830.16 €<br>Variazione giornaliera: 9.69%<br>Timestamp riferimento discesa: NaT<br>Prezzo riferimento discesa: None<br>Variazione rispetto riferimento discesa: None %<br>Timestamp riferimento salita: 2020-03-29 00:00:00<br>Prezzo riferimento salita: 5315.30<br>Variazione rispetto riferimento salita: 9.69% %",
          "Timestamp: 2020-03-31 00:00:00<br>Prezzo: 5839.28 €<br>Variazione giornaliera: 0.16%<br>Timestamp riferimento discesa: NaT<br>Prezzo riferimento discesa: None<br>Variazione rispetto riferimento discesa: None %<br>Timestamp riferimento salita: 2020-03-29 00:00:00<br>Prezzo riferimento salita: 5315.30<br>Variazione rispetto riferimento salita: 9.86% %",
          "Timestamp: 2020-04-01 00:00:00<br>Prezzo: 6032.15 €<br>Variazione giornaliera: 3.3%<br>Timestamp riferimento discesa: NaT<br>Prezzo riferimento discesa: None<br>Variazione rispetto riferimento discesa: None %<br>Timestamp riferimento salita: 2020-03-29 00:00:00<br>Prezzo riferimento salita: 5315.30<br>Variazione rispetto riferimento salita: 13.49% %",
          "Timestamp: 2020-04-02 00:00:00<br>Prezzo: 6264.63 €<br>Variazione giornaliera: 3.85%<br>Timestamp riferimento discesa: NaT<br>Prezzo riferimento discesa: None<br>Variazione rispetto riferimento discesa: None %<br>Timestamp riferimento salita: 2020-03-29 00:00:00<br>Prezzo riferimento salita: 5315.30<br>Variazione rispetto riferimento salita: 17.86% %",
          "Timestamp: 2020-04-03 00:00:00<br>Prezzo: 6232.12 €<br>Variazione giornaliera: -0.52%<br>Timestamp riferimento discesa: 2020-04-02 00:00:00<br>Prezzo riferimento discesa: 6264.63<br>Variazione rispetto riferimento discesa: -0.52% %<br>Timestamp riferimento salita: 2020-03-29 00:00:00<br>Prezzo riferimento salita: 5315.30<br>Variazione rispetto riferimento salita: 17.25% %",
          "Timestamp: 2020-04-04 00:00:00<br>Prezzo: 6355.88 €<br>Variazione giornaliera: 1.99%<br>Timestamp riferimento discesa: 2020-04-02 00:00:00<br>Prezzo riferimento discesa: 6264.63<br>Variazione rispetto riferimento discesa: 1.46% %<br>Timestamp riferimento salita: 2020-03-29 00:00:00<br>Prezzo riferimento salita: 5315.30<br>Variazione rispetto riferimento salita: 19.58% %",
          "Timestamp: 2020-04-05 00:00:00<br>Prezzo: 6284.36 €<br>Variazione giornaliera: -1.13%<br>Timestamp riferimento discesa: 2020-04-02 00:00:00<br>Prezzo riferimento discesa: 6264.63<br>Variazione rispetto riferimento discesa: 0.31% %<br>Timestamp riferimento salita: 2020-03-29 00:00:00<br>Prezzo riferimento salita: 5315.30<br>Variazione rispetto riferimento salita: 18.23% %",
          "Timestamp: 2020-04-06 00:00:00<br>Prezzo: 6732.45 €<br>Variazione giornaliera: 7.13%<br>Timestamp riferimento discesa: NaT<br>Prezzo riferimento discesa: None<br>Variazione rispetto riferimento discesa: None %<br>Timestamp riferimento salita: 2020-03-29 00:00:00<br>Prezzo riferimento salita: 5315.30<br>Variazione rispetto riferimento salita: 26.66% %",
          "Timestamp: 2020-04-07 00:00:00<br>Prezzo: 6586.58 €<br>Variazione giornaliera: -2.17%<br>Timestamp riferimento discesa: 2020-04-06 00:00:00<br>Prezzo riferimento discesa: 6732.45<br>Variazione rispetto riferimento discesa: -2.17% %<br>Timestamp riferimento salita: 2020-03-29 00:00:00<br>Prezzo riferimento salita: 5315.30<br>Variazione rispetto riferimento salita: 23.92% %",
          "Timestamp: 2020-04-08 00:00:00<br>Prezzo: 6752.57 €<br>Variazione giornaliera: 2.52%<br>Timestamp riferimento discesa: 2020-04-06 00:00:00<br>Prezzo riferimento discesa: 6732.45<br>Variazione rispetto riferimento discesa: 0.3% %<br>Timestamp riferimento salita: 2020-03-29 00:00:00<br>Prezzo riferimento salita: 5315.30<br>Variazione rispetto riferimento salita: 27.04% %",
          "Timestamp: 2020-04-09 00:00:00<br>Prezzo: 6683.56 €<br>Variazione giornaliera: -1.02%<br>Timestamp riferimento discesa: 2020-04-06 00:00:00<br>Prezzo riferimento discesa: 6732.45<br>Variazione rispetto riferimento discesa: -0.73% %<br>Timestamp riferimento salita: 2020-03-29 00:00:00<br>Prezzo riferimento salita: 5315.30<br>Variazione rispetto riferimento salita: 25.74% %",
          "Timestamp: 2020-04-10 00:00:00<br>Prezzo: 6277.59 €<br>Variazione giornaliera: -6.07%<br>Timestamp riferimento discesa: 2020-04-06 00:00:00<br>Prezzo riferimento discesa: 6732.45<br>Variazione rispetto riferimento discesa: -6.76% %<br>Timestamp riferimento salita: NaT<br>Prezzo riferimento salita: None<br>Variazione rispetto riferimento salita: None %",
          "Timestamp: 2020-04-11 00:00:00<br>Prezzo: 6272.31 €<br>Variazione giornaliera: -0.08%<br>Timestamp riferimento discesa: 2020-04-06 00:00:00<br>Prezzo riferimento discesa: 6732.45<br>Variazione rispetto riferimento discesa: -6.83% %<br>Timestamp riferimento salita: NaT<br>Prezzo riferimento salita: None<br>Variazione rispetto riferimento salita: None %",
          "Timestamp: 2020-04-12 00:00:00<br>Prezzo: 6377.30 €<br>Variazione giornaliera: 1.67%<br>Timestamp riferimento discesa: 2020-04-06 00:00:00<br>Prezzo riferimento discesa: 6732.45<br>Variazione rispetto riferimento discesa: -5.28% %<br>Timestamp riferimento salita: 2020-04-11 00:00:00<br>Prezzo riferimento salita: 6272.31<br>Variazione rispetto riferimento salita: 1.67% %",
          "Timestamp: 2020-04-13 00:00:00<br>Prezzo: 6267.41 €<br>Variazione giornaliera: -1.72%<br>Timestamp riferimento discesa: 2020-04-06 00:00:00<br>Prezzo riferimento discesa: 6732.45<br>Variazione rispetto riferimento discesa: -6.91% %<br>Timestamp riferimento salita: 2020-04-11 00:00:00<br>Prezzo riferimento salita: 6272.31<br>Variazione rispetto riferimento salita: -0.08% %",
          "Timestamp: 2020-04-14 00:00:00<br>Prezzo: 6229.05 €<br>Variazione giornaliera: -0.61%<br>Timestamp riferimento discesa: 2020-04-06 00:00:00<br>Prezzo riferimento discesa: 6732.45<br>Variazione rispetto riferimento discesa: -7.48% %<br>Timestamp riferimento salita: 2020-04-11 00:00:00<br>Prezzo riferimento salita: 6272.31<br>Variazione rispetto riferimento salita: -0.69% %",
          "Timestamp: 2020-04-15 00:00:00<br>Prezzo: 6091.08 €<br>Variazione giornaliera: -2.21%<br>Timestamp riferimento discesa: 2020-04-06 00:00:00<br>Prezzo riferimento discesa: 6732.45<br>Variazione rispetto riferimento discesa: -9.53% %<br>Timestamp riferimento salita: 2020-04-11 00:00:00<br>Prezzo riferimento salita: 6272.31<br>Variazione rispetto riferimento salita: -2.89% %",
          "Timestamp: 2020-04-16 00:00:00<br>Prezzo: 6554.14 €<br>Variazione giornaliera: 7.6%<br>Timestamp riferimento discesa: NaT<br>Prezzo riferimento discesa: None<br>Variazione rispetto riferimento discesa: None %<br>Timestamp riferimento salita: 2020-04-11 00:00:00<br>Prezzo riferimento salita: 6272.31<br>Variazione rispetto riferimento salita: 4.49% %",
          "Timestamp: 2020-04-17 00:00:00<br>Prezzo: 6526.13 €<br>Variazione giornaliera: -0.43%<br>Timestamp riferimento discesa: 2020-04-16 00:00:00<br>Prezzo riferimento discesa: 6554.14<br>Variazione rispetto riferimento discesa: -0.43% %<br>Timestamp riferimento salita: 2020-04-11 00:00:00<br>Prezzo riferimento salita: 6272.31<br>Variazione rispetto riferimento salita: 4.05% %",
          "Timestamp: 2020-04-18 00:00:00<br>Prezzo: 6673.71 €<br>Variazione giornaliera: 2.26%<br>Timestamp riferimento discesa: 2020-04-16 00:00:00<br>Prezzo riferimento discesa: 6554.14<br>Variazione rispetto riferimento discesa: 1.82% %<br>Timestamp riferimento salita: 2020-04-11 00:00:00<br>Prezzo riferimento salita: 6272.31<br>Variazione rispetto riferimento salita: 6.4% %",
          "Timestamp: 2020-04-19 00:00:00<br>Prezzo: 6616.67 €<br>Variazione giornaliera: -0.85%<br>Timestamp riferimento discesa: 2020-04-16 00:00:00<br>Prezzo riferimento discesa: 6554.14<br>Variazione rispetto riferimento discesa: 0.95% %<br>Timestamp riferimento salita: 2020-04-11 00:00:00<br>Prezzo riferimento salita: 6272.31<br>Variazione rispetto riferimento salita: 5.49% %",
          "Timestamp: 2020-04-20 00:00:00<br>Prezzo: 6334.22 €<br>Variazione giornaliera: -4.27%<br>Timestamp riferimento discesa: 2020-04-16 00:00:00<br>Prezzo riferimento discesa: 6554.14<br>Variazione rispetto riferimento discesa: -3.36% %<br>Timestamp riferimento salita: NaT<br>Prezzo riferimento salita: None<br>Variazione rispetto riferimento salita: None %",
          "Timestamp: 2020-04-21 00:00:00<br>Prezzo: 6337.51 €<br>Variazione giornaliera: 0.05%<br>Timestamp riferimento discesa: 2020-04-16 00:00:00<br>Prezzo riferimento discesa: 6554.14<br>Variazione rispetto riferimento discesa: -3.31% %<br>Timestamp riferimento salita: 2020-04-20 00:00:00<br>Prezzo riferimento salita: 6334.22<br>Variazione rispetto riferimento salita: 0.05% %",
          "Timestamp: 2020-04-22 00:00:00<br>Prezzo: 6585.74 €<br>Variazione giornaliera: 3.92%<br>Timestamp riferimento discesa: 2020-04-16 00:00:00<br>Prezzo riferimento discesa: 6554.14<br>Variazione rispetto riferimento discesa: 0.48% %<br>Timestamp riferimento salita: 2020-04-20 00:00:00<br>Prezzo riferimento salita: 6334.22<br>Variazione rispetto riferimento salita: 3.97% %",
          "Timestamp: 2020-04-23 00:00:00<br>Prezzo: 6895.33 €<br>Variazione giornaliera: 4.7%<br>Timestamp riferimento discesa: NaT<br>Prezzo riferimento discesa: None<br>Variazione rispetto riferimento discesa: None %<br>Timestamp riferimento salita: 2020-04-20 00:00:00<br>Prezzo riferimento salita: 6334.22<br>Variazione rispetto riferimento salita: 8.86% %",
          "Timestamp: 2020-04-24 00:00:00<br>Prezzo: 6977.33 €<br>Variazione giornaliera: 1.19%<br>Timestamp riferimento discesa: NaT<br>Prezzo riferimento discesa: None<br>Variazione rispetto riferimento discesa: None %<br>Timestamp riferimento salita: 2020-04-20 00:00:00<br>Prezzo riferimento salita: 6334.22<br>Variazione rispetto riferimento salita: 10.15% %",
          "Timestamp: 2020-04-25 00:00:00<br>Prezzo: 6994.92 €<br>Variazione giornaliera: 0.25%<br>Timestamp riferimento discesa: NaT<br>Prezzo riferimento discesa: None<br>Variazione rispetto riferimento discesa: None %<br>Timestamp riferimento salita: 2020-04-20 00:00:00<br>Prezzo riferimento salita: 6334.22<br>Variazione rispetto riferimento salita: 10.43% %",
          "Timestamp: 2020-04-26 00:00:00<br>Prezzo: 7097.45 €<br>Variazione giornaliera: 1.47%<br>Timestamp riferimento discesa: NaT<br>Prezzo riferimento discesa: None<br>Variazione rispetto riferimento discesa: None %<br>Timestamp riferimento salita: 2020-04-20 00:00:00<br>Prezzo riferimento salita: 6334.22<br>Variazione rispetto riferimento salita: 12.05% %",
          "Timestamp: 2020-04-27 00:00:00<br>Prezzo: 7201.93 €<br>Variazione giornaliera: 1.47%<br>Timestamp riferimento discesa: NaT<br>Prezzo riferimento discesa: None<br>Variazione rispetto riferimento discesa: None %<br>Timestamp riferimento salita: 2020-04-20 00:00:00<br>Prezzo riferimento salita: 6334.22<br>Variazione rispetto riferimento salita: 13.7% %",
          "Timestamp: 2020-04-28 00:00:00<br>Prezzo: 7206.94 €<br>Variazione giornaliera: 0.07%<br>Timestamp riferimento discesa: NaT<br>Prezzo riferimento discesa: None<br>Variazione rispetto riferimento discesa: None %<br>Timestamp riferimento salita: 2020-04-20 00:00:00<br>Prezzo riferimento salita: 6334.22<br>Variazione rispetto riferimento salita: 13.78% %",
          "Timestamp: 2020-04-29 00:00:00<br>Prezzo: 8091.74 €<br>Variazione giornaliera: 12.28%<br>Timestamp riferimento discesa: NaT<br>Prezzo riferimento discesa: None<br>Variazione rispetto riferimento discesa: None %<br>Timestamp riferimento salita: 2020-04-20 00:00:00<br>Prezzo riferimento salita: 6334.22<br>Variazione rispetto riferimento salita: 27.75% %",
          "Timestamp: 2020-04-30 00:00:00<br>Prezzo: 7911.76 €<br>Variazione giornaliera: -2.22%<br>Timestamp riferimento discesa: 2020-04-29 00:00:00<br>Prezzo riferimento discesa: 8091.74<br>Variazione rispetto riferimento discesa: -2.22% %<br>Timestamp riferimento salita: 2020-04-20 00:00:00<br>Prezzo riferimento salita: 6334.22<br>Variazione rispetto riferimento salita: 24.91% %",
          "Timestamp: 2020-05-01 00:00:00<br>Prezzo: 7990.96 €<br>Variazione giornaliera: 1.0%<br>Timestamp riferimento discesa: 2020-04-29 00:00:00<br>Prezzo riferimento discesa: 8091.74<br>Variazione rispetto riferimento discesa: -1.25% %<br>Timestamp riferimento salita: 2020-04-20 00:00:00<br>Prezzo riferimento salita: 6334.22<br>Variazione rispetto riferimento salita: 26.16% %",
          "Timestamp: 2020-05-02 00:00:00<br>Prezzo: 8101.85 €<br>Variazione giornaliera: 1.39%<br>Timestamp riferimento discesa: 2020-04-29 00:00:00<br>Prezzo riferimento discesa: 8091.74<br>Variazione rispetto riferimento discesa: 0.12% %<br>Timestamp riferimento salita: 2020-04-20 00:00:00<br>Prezzo riferimento salita: 6334.22<br>Variazione rispetto riferimento salita: 27.91% %",
          "Timestamp: 2020-05-03 00:00:00<br>Prezzo: 8119.24 €<br>Variazione giornaliera: 0.21%<br>Timestamp riferimento discesa: 2020-04-29 00:00:00<br>Prezzo riferimento discesa: 8091.74<br>Variazione rispetto riferimento discesa: 0.34% %<br>Timestamp riferimento salita: 2020-04-20 00:00:00<br>Prezzo riferimento salita: 6334.22<br>Variazione rispetto riferimento salita: 28.18% %",
          "Timestamp: 2020-05-04 00:00:00<br>Prezzo: 8173.67 €<br>Variazione giornaliera: 0.67%<br>Timestamp riferimento discesa: 2020-04-29 00:00:00<br>Prezzo riferimento discesa: 8091.74<br>Variazione rispetto riferimento discesa: 1.01% %<br>Timestamp riferimento salita: 2020-04-20 00:00:00<br>Prezzo riferimento salita: 6334.22<br>Variazione rispetto riferimento salita: 29.04% %",
          "Timestamp: 2020-05-05 00:00:00<br>Prezzo: 8307.33 €<br>Variazione giornaliera: 1.64%<br>Timestamp riferimento discesa: 2020-04-29 00:00:00<br>Prezzo riferimento discesa: 8091.74<br>Variazione rispetto riferimento discesa: 2.66% %<br>Timestamp riferimento salita: 2020-04-20 00:00:00<br>Prezzo riferimento salita: 6334.22<br>Variazione rispetto riferimento salita: 31.15% %",
          "Timestamp: 2020-05-06 00:00:00<br>Prezzo: 8582.73 €<br>Variazione giornaliera: 3.32%<br>Timestamp riferimento discesa: NaT<br>Prezzo riferimento discesa: None<br>Variazione rispetto riferimento discesa: None %<br>Timestamp riferimento salita: 2020-04-20 00:00:00<br>Prezzo riferimento salita: 6334.22<br>Variazione rispetto riferimento salita: 35.5% %",
          "Timestamp: 2020-05-07 00:00:00<br>Prezzo: 9183.60 €<br>Variazione giornaliera: 7.0%<br>Timestamp riferimento discesa: NaT<br>Prezzo riferimento discesa: None<br>Variazione rispetto riferimento discesa: None %<br>Timestamp riferimento salita: 2020-04-20 00:00:00<br>Prezzo riferimento salita: 6334.22<br>Variazione rispetto riferimento salita: 44.98% %",
          "Timestamp: 2020-05-08 00:00:00<br>Prezzo: 8973.58 €<br>Variazione giornaliera: -2.29%<br>Timestamp riferimento discesa: 2020-05-07 00:00:00<br>Prezzo riferimento discesa: 9183.60<br>Variazione rispetto riferimento discesa: -2.29% %<br>Timestamp riferimento salita: 2020-04-20 00:00:00<br>Prezzo riferimento salita: 6334.22<br>Variazione rispetto riferimento salita: 41.67% %",
          "Timestamp: 2020-05-09 00:00:00<br>Prezzo: 8745.18 €<br>Variazione giornaliera: -2.55%<br>Timestamp riferimento discesa: 2020-05-07 00:00:00<br>Prezzo riferimento discesa: 9183.60<br>Variazione rispetto riferimento discesa: -4.77% %<br>Timestamp riferimento salita: 2020-04-20 00:00:00<br>Prezzo riferimento salita: 6334.22<br>Variazione rispetto riferimento salita: 38.06% %",
          "Timestamp: 2020-05-10 00:00:00<br>Prezzo: 8078.63 €<br>Variazione giornaliera: -7.62%<br>Timestamp riferimento discesa: 2020-05-07 00:00:00<br>Prezzo riferimento discesa: 9183.60<br>Variazione rispetto riferimento discesa: -12.03% %<br>Timestamp riferimento salita: NaT<br>Prezzo riferimento salita: None<br>Variazione rispetto riferimento salita: None %",
          "Timestamp: 2020-05-11 00:00:00<br>Prezzo: 7958.57 €<br>Variazione giornaliera: -1.49%<br>Timestamp riferimento discesa: 2020-05-07 00:00:00<br>Prezzo riferimento discesa: 9183.60<br>Variazione rispetto riferimento discesa: -13.34% %<br>Timestamp riferimento salita: NaT<br>Prezzo riferimento salita: None<br>Variazione rispetto riferimento salita: None %",
          "Timestamp: 2020-05-12 00:00:00<br>Prezzo: 8117.51 €<br>Variazione giornaliera: 2.0%<br>Timestamp riferimento discesa: 2020-05-07 00:00:00<br>Prezzo riferimento discesa: 9183.60<br>Variazione rispetto riferimento discesa: -11.61% %<br>Timestamp riferimento salita: 2020-05-11 00:00:00<br>Prezzo riferimento salita: 7958.57<br>Variazione rispetto riferimento salita: 2.0% %",
          "Timestamp: 2020-05-13 00:00:00<br>Prezzo: 8566.41 €<br>Variazione giornaliera: 5.53%<br>Timestamp riferimento discesa: NaT<br>Prezzo riferimento discesa: None<br>Variazione rispetto riferimento discesa: None %<br>Timestamp riferimento salita: 2020-05-11 00:00:00<br>Prezzo riferimento salita: 7958.57<br>Variazione rispetto riferimento salita: 7.64% %",
          "Timestamp: 2020-05-14 00:00:00<br>Prezzo: 9006.84 €<br>Variazione giornaliera: 5.14%<br>Timestamp riferimento discesa: NaT<br>Prezzo riferimento discesa: None<br>Variazione rispetto riferimento discesa: None %<br>Timestamp riferimento salita: 2020-05-11 00:00:00<br>Prezzo riferimento salita: 7958.57<br>Variazione rispetto riferimento salita: 13.17% %",
          "Timestamp: 2020-05-15 00:00:00<br>Prezzo: 8619.98 €<br>Variazione giornaliera: -4.3%<br>Timestamp riferimento discesa: 2020-05-14 00:00:00<br>Prezzo riferimento discesa: 9006.84<br>Variazione rispetto riferimento discesa: -4.3% %<br>Timestamp riferimento salita: 2020-05-11 00:00:00<br>Prezzo riferimento salita: 7958.57<br>Variazione rispetto riferimento salita: 8.31% %",
          "Timestamp: 2020-05-16 00:00:00<br>Prezzo: 8665.09 €<br>Variazione giornaliera: 0.52%<br>Timestamp riferimento discesa: 2020-05-14 00:00:00<br>Prezzo riferimento discesa: 9006.84<br>Variazione rispetto riferimento discesa: -3.79% %<br>Timestamp riferimento salita: 2020-05-11 00:00:00<br>Prezzo riferimento salita: 7958.57<br>Variazione rispetto riferimento salita: 8.88% %",
          "Timestamp: 2020-05-17 00:00:00<br>Prezzo: 8938.74 €<br>Variazione giornaliera: 3.16%<br>Timestamp riferimento discesa: 2020-05-14 00:00:00<br>Prezzo riferimento discesa: 9006.84<br>Variazione rispetto riferimento discesa: -0.76% %<br>Timestamp riferimento salita: 2020-05-11 00:00:00<br>Prezzo riferimento salita: 7958.57<br>Variazione rispetto riferimento salita: 12.32% %",
          "Timestamp: 2020-05-18 00:00:00<br>Prezzo: 8911.89 €<br>Variazione giornaliera: -0.3%<br>Timestamp riferimento discesa: 2020-05-14 00:00:00<br>Prezzo riferimento discesa: 9006.84<br>Variazione rispetto riferimento discesa: -1.05% %<br>Timestamp riferimento salita: 2020-05-11 00:00:00<br>Prezzo riferimento salita: 7958.57<br>Variazione rispetto riferimento salita: 11.98% %",
          "Timestamp: 2020-05-19 00:00:00<br>Prezzo: 8904.07 €<br>Variazione giornaliera: -0.09%<br>Timestamp riferimento discesa: 2020-05-14 00:00:00<br>Prezzo riferimento discesa: 9006.84<br>Variazione rispetto riferimento discesa: -1.14% %<br>Timestamp riferimento salita: 2020-05-11 00:00:00<br>Prezzo riferimento salita: 7958.57<br>Variazione rispetto riferimento salita: 11.88% %",
          "Timestamp: 2020-05-20 00:00:00<br>Prezzo: 8673.23 €<br>Variazione giornaliera: -2.59%<br>Timestamp riferimento discesa: 2020-05-14 00:00:00<br>Prezzo riferimento discesa: 9006.84<br>Variazione rispetto riferimento discesa: -3.7% %<br>Timestamp riferimento salita: 2020-05-11 00:00:00<br>Prezzo riferimento salita: 7958.57<br>Variazione rispetto riferimento salita: 8.98% %",
          "Timestamp: 2020-05-21 00:00:00<br>Prezzo: 8294.29 €<br>Variazione giornaliera: -4.37%<br>Timestamp riferimento discesa: 2020-05-14 00:00:00<br>Prezzo riferimento discesa: 9006.84<br>Variazione rispetto riferimento discesa: -7.91% %<br>Timestamp riferimento salita: NaT<br>Prezzo riferimento salita: None<br>Variazione rispetto riferimento salita: None %",
          "Timestamp: 2020-05-22 00:00:00<br>Prezzo: 8424.00 €<br>Variazione giornaliera: 1.56%<br>Timestamp riferimento discesa: 2020-05-14 00:00:00<br>Prezzo riferimento discesa: 9006.84<br>Variazione rispetto riferimento discesa: -6.47% %<br>Timestamp riferimento salita: 2020-05-21 00:00:00<br>Prezzo riferimento salita: 8294.29<br>Variazione rispetto riferimento salita: 1.56% %",
          "Timestamp: 2020-05-23 00:00:00<br>Prezzo: 8448.50 €<br>Variazione giornaliera: 0.29%<br>Timestamp riferimento discesa: 2020-05-14 00:00:00<br>Prezzo riferimento discesa: 9006.84<br>Variazione rispetto riferimento discesa: -6.2% %<br>Timestamp riferimento salita: 2020-05-21 00:00:00<br>Prezzo riferimento salita: 8294.29<br>Variazione rispetto riferimento salita: 1.86% %",
          "Timestamp: 2020-05-24 00:00:00<br>Prezzo: 8058.64 €<br>Variazione giornaliera: -4.61%<br>Timestamp riferimento discesa: 2020-05-14 00:00:00<br>Prezzo riferimento discesa: 9006.84<br>Variazione rispetto riferimento discesa: -10.53% %<br>Timestamp riferimento salita: 2020-05-21 00:00:00<br>Prezzo riferimento salita: 8294.29<br>Variazione rispetto riferimento salita: -2.84% %",
          "Timestamp: 2020-05-25 00:00:00<br>Prezzo: 8170.75 €<br>Variazione giornaliera: 1.39%<br>Timestamp riferimento discesa: 2020-05-14 00:00:00<br>Prezzo riferimento discesa: 9006.84<br>Variazione rispetto riferimento discesa: -9.28% %<br>Timestamp riferimento salita: 2020-05-21 00:00:00<br>Prezzo riferimento salita: 8294.29<br>Variazione rispetto riferimento salita: -1.49% %",
          "Timestamp: 2020-05-26 00:00:00<br>Prezzo: 8047.23 €<br>Variazione giornaliera: -1.51%<br>Timestamp riferimento discesa: 2020-05-14 00:00:00<br>Prezzo riferimento discesa: 9006.84<br>Variazione rispetto riferimento discesa: -10.65% %<br>Timestamp riferimento salita: 2020-05-21 00:00:00<br>Prezzo riferimento salita: 8294.29<br>Variazione rispetto riferimento salita: -2.98% %",
          "Timestamp: 2020-05-27 00:00:00<br>Prezzo: 8334.07 €<br>Variazione giornaliera: 3.56%<br>Timestamp riferimento discesa: 2020-05-14 00:00:00<br>Prezzo riferimento discesa: 9006.84<br>Variazione rispetto riferimento discesa: -7.47% %<br>Timestamp riferimento salita: 2020-05-21 00:00:00<br>Prezzo riferimento salita: 8294.29<br>Variazione rispetto riferimento salita: 0.48% %",
          "Timestamp: 2020-05-28 00:00:00<br>Prezzo: 8599.19 €<br>Variazione giornaliera: 3.18%<br>Timestamp riferimento discesa: NaT<br>Prezzo riferimento discesa: None<br>Variazione rispetto riferimento discesa: None %<br>Timestamp riferimento salita: 2020-05-21 00:00:00<br>Prezzo riferimento salita: 8294.29<br>Variazione rispetto riferimento salita: 3.68% %",
          "Timestamp: 2020-05-29 00:00:00<br>Prezzo: 8499.88 €<br>Variazione giornaliera: -1.15%<br>Timestamp riferimento discesa: 2020-05-28 00:00:00<br>Prezzo riferimento discesa: 8599.19<br>Variazione rispetto riferimento discesa: -1.15% %<br>Timestamp riferimento salita: 2020-05-21 00:00:00<br>Prezzo riferimento salita: 8294.29<br>Variazione rispetto riferimento salita: 2.48% %",
          "Timestamp: 2020-05-30 00:00:00<br>Prezzo: 8735.17 €<br>Variazione giornaliera: 2.77%<br>Timestamp riferimento discesa: 2020-05-28 00:00:00<br>Prezzo riferimento discesa: 8599.19<br>Variazione rispetto riferimento discesa: 1.58% %<br>Timestamp riferimento salita: 2020-05-21 00:00:00<br>Prezzo riferimento salita: 8294.29<br>Variazione rispetto riferimento salita: 5.32% %",
          "Timestamp: 2020-05-31 00:00:00<br>Prezzo: 8510.14 €<br>Variazione giornaliera: -2.58%<br>Timestamp riferimento discesa: 2020-05-28 00:00:00<br>Prezzo riferimento discesa: 8599.19<br>Variazione rispetto riferimento discesa: -1.04% %<br>Timestamp riferimento salita: 2020-05-21 00:00:00<br>Prezzo riferimento salita: 8294.29<br>Variazione rispetto riferimento salita: 2.6% %",
          "Timestamp: 2020-06-01 00:00:00<br>Prezzo: 9138.79 €<br>Variazione giornaliera: 7.39%<br>Timestamp riferimento discesa: NaT<br>Prezzo riferimento discesa: None<br>Variazione rispetto riferimento discesa: None %<br>Timestamp riferimento salita: 2020-05-21 00:00:00<br>Prezzo riferimento salita: 8294.29<br>Variazione rispetto riferimento salita: 10.18% %",
          "Timestamp: 2020-06-02 00:00:00<br>Prezzo: 8519.60 €<br>Variazione giornaliera: -6.78%<br>Timestamp riferimento discesa: 2020-06-01 00:00:00<br>Prezzo riferimento discesa: 9138.79<br>Variazione rispetto riferimento discesa: -6.78% %<br>Timestamp riferimento salita: NaT<br>Prezzo riferimento salita: None<br>Variazione rispetto riferimento salita: None %",
          "Timestamp: 2020-06-03 00:00:00<br>Prezzo: 8595.48 €<br>Variazione giornaliera: 0.89%<br>Timestamp riferimento discesa: 2020-06-01 00:00:00<br>Prezzo riferimento discesa: 9138.79<br>Variazione rispetto riferimento discesa: -5.95% %<br>Timestamp riferimento salita: 2020-06-02 00:00:00<br>Prezzo riferimento salita: 8519.60<br>Variazione rispetto riferimento salita: 0.89% %",
          "Timestamp: 2020-06-04 00:00:00<br>Prezzo: 8642.15 €<br>Variazione giornaliera: 0.54%<br>Timestamp riferimento discesa: 2020-06-01 00:00:00<br>Prezzo riferimento discesa: 9138.79<br>Variazione rispetto riferimento discesa: -5.43% %<br>Timestamp riferimento salita: 2020-06-02 00:00:00<br>Prezzo riferimento salita: 8519.60<br>Variazione rispetto riferimento salita: 1.44% %",
          "Timestamp: 2020-06-05 00:00:00<br>Prezzo: 8560.42 €<br>Variazione giornaliera: -0.95%<br>Timestamp riferimento discesa: 2020-06-01 00:00:00<br>Prezzo riferimento discesa: 9138.79<br>Variazione rispetto riferimento discesa: -6.33% %<br>Timestamp riferimento salita: 2020-06-02 00:00:00<br>Prezzo riferimento salita: 8519.60<br>Variazione rispetto riferimento salita: 0.48% %",
          "Timestamp: 2020-06-06 00:00:00<br>Prezzo: 8549.51 €<br>Variazione giornaliera: -0.13%<br>Timestamp riferimento discesa: 2020-06-01 00:00:00<br>Prezzo riferimento discesa: 9138.79<br>Variazione rispetto riferimento discesa: -6.45% %<br>Timestamp riferimento salita: 2020-06-02 00:00:00<br>Prezzo riferimento salita: 8519.60<br>Variazione rispetto riferimento salita: 0.35% %",
          "Timestamp: 2020-06-07 00:00:00<br>Prezzo: 8621.27 €<br>Variazione giornaliera: 0.84%<br>Timestamp riferimento discesa: 2020-06-01 00:00:00<br>Prezzo riferimento discesa: 9138.79<br>Variazione rispetto riferimento discesa: -5.66% %<br>Timestamp riferimento salita: 2020-06-02 00:00:00<br>Prezzo riferimento salita: 8519.60<br>Variazione rispetto riferimento salita: 1.19% %",
          "Timestamp: 2020-06-08 00:00:00<br>Prezzo: 8644.08 €<br>Variazione giornaliera: 0.26%<br>Timestamp riferimento discesa: 2020-06-01 00:00:00<br>Prezzo riferimento discesa: 9138.79<br>Variazione rispetto riferimento discesa: -5.41% %<br>Timestamp riferimento salita: 2020-06-02 00:00:00<br>Prezzo riferimento salita: 8519.60<br>Variazione rispetto riferimento salita: 1.46% %",
          "Timestamp: 2020-06-09 00:00:00<br>Prezzo: 8643.34 €<br>Variazione giornaliera: -0.01%<br>Timestamp riferimento discesa: 2020-06-01 00:00:00<br>Prezzo riferimento discesa: 9138.79<br>Variazione rispetto riferimento discesa: -5.42% %<br>Timestamp riferimento salita: 2020-06-02 00:00:00<br>Prezzo riferimento salita: 8519.60<br>Variazione rispetto riferimento salita: 1.45% %",
          "Timestamp: 2020-06-10 00:00:00<br>Prezzo: 8683.82 €<br>Variazione giornaliera: 0.47%<br>Timestamp riferimento discesa: 2020-06-01 00:00:00<br>Prezzo riferimento discesa: 9138.79<br>Variazione rispetto riferimento discesa: -4.98% %<br>Timestamp riferimento salita: 2020-06-02 00:00:00<br>Prezzo riferimento salita: 8519.60<br>Variazione rispetto riferimento salita: 1.93% %",
          "Timestamp: 2020-06-11 00:00:00<br>Prezzo: 8257.71 €<br>Variazione giornaliera: -4.91%<br>Timestamp riferimento discesa: 2020-06-01 00:00:00<br>Prezzo riferimento discesa: 9138.79<br>Variazione rispetto riferimento discesa: -9.64% %<br>Timestamp riferimento salita: 2020-06-02 00:00:00<br>Prezzo riferimento salita: 8519.60<br>Variazione rispetto riferimento salita: -3.07% %",
          "Timestamp: 2020-06-12 00:00:00<br>Prezzo: 8422.06 €<br>Variazione giornaliera: 1.99%<br>Timestamp riferimento discesa: 2020-06-01 00:00:00<br>Prezzo riferimento discesa: 9138.79<br>Variazione rispetto riferimento discesa: -7.84% %<br>Timestamp riferimento salita: 2020-06-02 00:00:00<br>Prezzo riferimento salita: 8519.60<br>Variazione rispetto riferimento salita: -1.14% %",
          "Timestamp: 2020-06-13 00:00:00<br>Prezzo: 8418.42 €<br>Variazione giornaliera: -0.04%<br>Timestamp riferimento discesa: 2020-06-01 00:00:00<br>Prezzo riferimento discesa: 9138.79<br>Variazione rispetto riferimento discesa: -7.88% %<br>Timestamp riferimento salita: 2020-06-02 00:00:00<br>Prezzo riferimento salita: 8519.60<br>Variazione rispetto riferimento salita: -1.19% %",
          "Timestamp: 2020-06-14 00:00:00<br>Prezzo: 8342.95 €<br>Variazione giornaliera: -0.9%<br>Timestamp riferimento discesa: 2020-06-01 00:00:00<br>Prezzo riferimento discesa: 9138.79<br>Variazione rispetto riferimento discesa: -8.71% %<br>Timestamp riferimento salita: 2020-06-02 00:00:00<br>Prezzo riferimento salita: 8519.60<br>Variazione rispetto riferimento salita: -2.07% %",
          "Timestamp: 2020-06-15 00:00:00<br>Prezzo: 8335.82 €<br>Variazione giornaliera: -0.09%<br>Timestamp riferimento discesa: 2020-06-01 00:00:00<br>Prezzo riferimento discesa: 9138.79<br>Variazione rispetto riferimento discesa: -8.79% %<br>Timestamp riferimento salita: 2020-06-02 00:00:00<br>Prezzo riferimento salita: 8519.60<br>Variazione rispetto riferimento salita: -2.16% %",
          "Timestamp: 2020-06-16 00:00:00<br>Prezzo: 8466.18 €<br>Variazione giornaliera: 1.56%<br>Timestamp riferimento discesa: 2020-06-01 00:00:00<br>Prezzo riferimento discesa: 9138.79<br>Variazione rispetto riferimento discesa: -7.36% %<br>Timestamp riferimento salita: 2020-06-02 00:00:00<br>Prezzo riferimento salita: 8519.60<br>Variazione rispetto riferimento salita: -0.63% %",
          "Timestamp: 2020-06-17 00:00:00<br>Prezzo: 8432.17 €<br>Variazione giornaliera: -0.4%<br>Timestamp riferimento discesa: 2020-06-01 00:00:00<br>Prezzo riferimento discesa: 9138.79<br>Variazione rispetto riferimento discesa: -7.73% %<br>Timestamp riferimento salita: 2020-06-02 00:00:00<br>Prezzo riferimento salita: 8519.60<br>Variazione rispetto riferimento salita: -1.03% %",
          "Timestamp: 2020-06-18 00:00:00<br>Prezzo: 8397.58 €<br>Variazione giornaliera: -0.41%<br>Timestamp riferimento discesa: 2020-06-01 00:00:00<br>Prezzo riferimento discesa: 9138.79<br>Variazione rispetto riferimento discesa: -8.11% %<br>Timestamp riferimento salita: 2020-06-02 00:00:00<br>Prezzo riferimento salita: 8519.60<br>Variazione rispetto riferimento salita: -1.43% %",
          "Timestamp: 2020-06-19 00:00:00<br>Prezzo: 8308.08 €<br>Variazione giornaliera: -1.07%<br>Timestamp riferimento discesa: 2020-06-01 00:00:00<br>Prezzo riferimento discesa: 9138.79<br>Variazione rispetto riferimento discesa: -9.09% %<br>Timestamp riferimento salita: 2020-06-02 00:00:00<br>Prezzo riferimento salita: 8519.60<br>Variazione rispetto riferimento salita: -2.48% %",
          "Timestamp: 2020-06-20 00:00:00<br>Prezzo: 8349.33 €<br>Variazione giornaliera: 0.5%<br>Timestamp riferimento discesa: 2020-06-01 00:00:00<br>Prezzo riferimento discesa: 9138.79<br>Variazione rispetto riferimento discesa: -8.64% %<br>Timestamp riferimento salita: 2020-06-02 00:00:00<br>Prezzo riferimento salita: 8519.60<br>Variazione rispetto riferimento salita: -2.0% %",
          "Timestamp: 2020-06-21 00:00:00<br>Prezzo: 8324.28 €<br>Variazione giornaliera: -0.3%<br>Timestamp riferimento discesa: 2020-06-01 00:00:00<br>Prezzo riferimento discesa: 9138.79<br>Variazione rispetto riferimento discesa: -8.91% %<br>Timestamp riferimento salita: 2020-06-02 00:00:00<br>Prezzo riferimento salita: 8519.60<br>Variazione rispetto riferimento salita: -2.29% %",
          "Timestamp: 2020-06-22 00:00:00<br>Prezzo: 8554.97 €<br>Variazione giornaliera: 2.77%<br>Timestamp riferimento discesa: 2020-06-01 00:00:00<br>Prezzo riferimento discesa: 9138.79<br>Variazione rispetto riferimento discesa: -6.39% %<br>Timestamp riferimento salita: 2020-06-02 00:00:00<br>Prezzo riferimento salita: 8519.60<br>Variazione rispetto riferimento salita: 0.42% %",
          "Timestamp: 2020-06-23 00:00:00<br>Prezzo: 8512.66 €<br>Variazione giornaliera: -0.49%<br>Timestamp riferimento discesa: 2020-06-01 00:00:00<br>Prezzo riferimento discesa: 9138.79<br>Variazione rispetto riferimento discesa: -6.85% %<br>Timestamp riferimento salita: 2020-06-02 00:00:00<br>Prezzo riferimento salita: 8519.60<br>Variazione rispetto riferimento salita: -0.08% %",
          "Timestamp: 2020-06-24 00:00:00<br>Prezzo: 8278.50 €<br>Variazione giornaliera: -2.75%<br>Timestamp riferimento discesa: 2020-06-01 00:00:00<br>Prezzo riferimento discesa: 9138.79<br>Variazione rispetto riferimento discesa: -9.41% %<br>Timestamp riferimento salita: 2020-06-02 00:00:00<br>Prezzo riferimento salita: 8519.60<br>Variazione rispetto riferimento salita: -2.83% %",
          "Timestamp: 2020-06-25 00:00:00<br>Prezzo: 8257.80 €<br>Variazione giornaliera: -0.25%<br>Timestamp riferimento discesa: 2020-06-01 00:00:00<br>Prezzo riferimento discesa: 9138.79<br>Variazione rispetto riferimento discesa: -9.64% %<br>Timestamp riferimento salita: 2020-06-02 00:00:00<br>Prezzo riferimento salita: 8519.60<br>Variazione rispetto riferimento salita: -3.07% %",
          "Timestamp: 2020-06-26 00:00:00<br>Prezzo: 8167.83 €<br>Variazione giornaliera: -1.09%<br>Timestamp riferimento discesa: 2020-06-01 00:00:00<br>Prezzo riferimento discesa: 9138.79<br>Variazione rispetto riferimento discesa: -10.62% %<br>Timestamp riferimento salita: 2020-06-02 00:00:00<br>Prezzo riferimento salita: 8519.60<br>Variazione rispetto riferimento salita: -4.13% %",
          "Timestamp: 2020-06-27 00:00:00<br>Prezzo: 8063.25 €<br>Variazione giornaliera: -1.28%<br>Timestamp riferimento discesa: 2020-06-01 00:00:00<br>Prezzo riferimento discesa: 9138.79<br>Variazione rispetto riferimento discesa: -11.77% %<br>Timestamp riferimento salita: NaT<br>Prezzo riferimento salita: None<br>Variazione rispetto riferimento salita: None %",
          "Timestamp: 2020-06-28 00:00:00<br>Prezzo: 8146.46 €<br>Variazione giornaliera: 1.03%<br>Timestamp riferimento discesa: 2020-06-01 00:00:00<br>Prezzo riferimento discesa: 9138.79<br>Variazione rispetto riferimento discesa: -10.86% %<br>Timestamp riferimento salita: 2020-06-27 00:00:00<br>Prezzo riferimento salita: 8063.25<br>Variazione rispetto riferimento salita: 1.03% %",
          "Timestamp: 2020-06-29 00:00:00<br>Prezzo: 8171.96 €<br>Variazione giornaliera: 0.31%<br>Timestamp riferimento discesa: 2020-06-01 00:00:00<br>Prezzo riferimento discesa: 9138.79<br>Variazione rispetto riferimento discesa: -10.58% %<br>Timestamp riferimento salita: 2020-06-27 00:00:00<br>Prezzo riferimento salita: 8063.25<br>Variazione rispetto riferimento salita: 1.35% %",
          "Timestamp: 2020-06-30 00:00:00<br>Prezzo: 8133.87 €<br>Variazione giornaliera: -0.47%<br>Timestamp riferimento discesa: 2020-06-01 00:00:00<br>Prezzo riferimento discesa: 9138.79<br>Variazione rispetto riferimento discesa: -11.0% %<br>Timestamp riferimento salita: 2020-06-27 00:00:00<br>Prezzo riferimento salita: 8063.25<br>Variazione rispetto riferimento salita: 0.88% %",
          "Timestamp: 2020-07-01 00:00:00<br>Prezzo: 8201.65 €<br>Variazione giornaliera: 0.83%<br>Timestamp riferimento discesa: 2020-06-01 00:00:00<br>Prezzo riferimento discesa: 9138.79<br>Variazione rispetto riferimento discesa: -10.25% %<br>Timestamp riferimento salita: 2020-06-27 00:00:00<br>Prezzo riferimento salita: 8063.25<br>Variazione rispetto riferimento salita: 1.72% %",
          "Timestamp: 2020-07-02 00:00:00<br>Prezzo: 8118.01 €<br>Variazione giornaliera: -1.02%<br>Timestamp riferimento discesa: 2020-06-01 00:00:00<br>Prezzo riferimento discesa: 9138.79<br>Variazione rispetto riferimento discesa: -11.17% %<br>Timestamp riferimento salita: 2020-06-27 00:00:00<br>Prezzo riferimento salita: 8063.25<br>Variazione rispetto riferimento salita: 0.68% %",
          "Timestamp: 2020-07-03 00:00:00<br>Prezzo: 8079.52 €<br>Variazione giornaliera: -0.47%<br>Timestamp riferimento discesa: 2020-06-01 00:00:00<br>Prezzo riferimento discesa: 9138.79<br>Variazione rispetto riferimento discesa: -11.59% %<br>Timestamp riferimento salita: 2020-06-27 00:00:00<br>Prezzo riferimento salita: 8063.25<br>Variazione rispetto riferimento salita: 0.2% %",
          "Timestamp: 2020-07-04 00:00:00<br>Prezzo: 8121.38 €<br>Variazione giornaliera: 0.52%<br>Timestamp riferimento discesa: 2020-06-01 00:00:00<br>Prezzo riferimento discesa: 9138.79<br>Variazione rispetto riferimento discesa: -11.13% %<br>Timestamp riferimento salita: 2020-06-27 00:00:00<br>Prezzo riferimento salita: 8063.25<br>Variazione rispetto riferimento salita: 0.72% %",
          "Timestamp: 2020-07-05 00:00:00<br>Prezzo: 8067.41 €<br>Variazione giornaliera: -0.66%<br>Timestamp riferimento discesa: 2020-06-01 00:00:00<br>Prezzo riferimento discesa: 9138.79<br>Variazione rispetto riferimento discesa: -11.72% %<br>Timestamp riferimento salita: 2020-06-27 00:00:00<br>Prezzo riferimento salita: 8063.25<br>Variazione rispetto riferimento salita: 0.05% %",
          "Timestamp: 2020-07-06 00:00:00<br>Prezzo: 8287.68 €<br>Variazione giornaliera: 2.73%<br>Timestamp riferimento discesa: 2020-06-01 00:00:00<br>Prezzo riferimento discesa: 9138.79<br>Variazione rispetto riferimento discesa: -9.31% %<br>Timestamp riferimento salita: 2020-06-27 00:00:00<br>Prezzo riferimento salita: 8063.25<br>Variazione rispetto riferimento salita: 2.78% %",
          "Timestamp: 2020-07-07 00:00:00<br>Prezzo: 8205.98 €<br>Variazione giornaliera: -0.99%<br>Timestamp riferimento discesa: 2020-06-01 00:00:00<br>Prezzo riferimento discesa: 9138.79<br>Variazione rispetto riferimento discesa: -10.21% %<br>Timestamp riferimento salita: 2020-06-27 00:00:00<br>Prezzo riferimento salita: 8063.25<br>Variazione rispetto riferimento salita: 1.77% %",
          "Timestamp: 2020-07-08 00:00:00<br>Prezzo: 8316.37 €<br>Variazione giornaliera: 1.35%<br>Timestamp riferimento discesa: 2020-06-01 00:00:00<br>Prezzo riferimento discesa: 9138.79<br>Variazione rispetto riferimento discesa: -9.0% %<br>Timestamp riferimento salita: 2020-06-27 00:00:00<br>Prezzo riferimento salita: 8063.25<br>Variazione rispetto riferimento salita: 3.14% %",
          "Timestamp: 2020-07-09 00:00:00<br>Prezzo: 8218.99 €<br>Variazione giornaliera: -1.17%<br>Timestamp riferimento discesa: 2020-06-01 00:00:00<br>Prezzo riferimento discesa: 9138.79<br>Variazione rispetto riferimento discesa: -10.06% %<br>Timestamp riferimento salita: 2020-06-27 00:00:00<br>Prezzo riferimento salita: 8063.25<br>Variazione rispetto riferimento salita: 1.93% %",
          "Timestamp: 2020-07-10 00:00:00<br>Prezzo: 8210.90 €<br>Variazione giornaliera: -0.1%<br>Timestamp riferimento discesa: 2020-06-01 00:00:00<br>Prezzo riferimento discesa: 9138.79<br>Variazione rispetto riferimento discesa: -10.15% %<br>Timestamp riferimento salita: 2020-06-27 00:00:00<br>Prezzo riferimento salita: 8063.25<br>Variazione rispetto riferimento salita: 1.83% %",
          "Timestamp: 2020-07-11 00:00:00<br>Prezzo: 8177.30 €<br>Variazione giornaliera: -0.41%<br>Timestamp riferimento discesa: 2020-06-01 00:00:00<br>Prezzo riferimento discesa: 9138.79<br>Variazione rispetto riferimento discesa: -10.52% %<br>Timestamp riferimento salita: 2020-06-27 00:00:00<br>Prezzo riferimento salita: 8063.25<br>Variazione rispetto riferimento salita: 1.41% %",
          "Timestamp: 2020-07-12 00:00:00<br>Prezzo: 8201.41 €<br>Variazione giornaliera: 0.29%<br>Timestamp riferimento discesa: 2020-06-01 00:00:00<br>Prezzo riferimento discesa: 9138.79<br>Variazione rispetto riferimento discesa: -10.26% %<br>Timestamp riferimento salita: 2020-06-27 00:00:00<br>Prezzo riferimento salita: 8063.25<br>Variazione rispetto riferimento salita: 1.71% %",
          "Timestamp: 2020-07-13 00:00:00<br>Prezzo: 8146.83 €<br>Variazione giornaliera: -0.67%<br>Timestamp riferimento discesa: 2020-06-01 00:00:00<br>Prezzo riferimento discesa: 9138.79<br>Variazione rispetto riferimento discesa: -10.85% %<br>Timestamp riferimento salita: 2020-06-27 00:00:00<br>Prezzo riferimento salita: 8063.25<br>Variazione rispetto riferimento salita: 1.04% %",
          "Timestamp: 2020-07-14 00:00:00<br>Prezzo: 8101.29 €<br>Variazione giornaliera: -0.56%<br>Timestamp riferimento discesa: 2020-06-01 00:00:00<br>Prezzo riferimento discesa: 9138.79<br>Variazione rispetto riferimento discesa: -11.35% %<br>Timestamp riferimento salita: 2020-06-27 00:00:00<br>Prezzo riferimento salita: 8063.25<br>Variazione rispetto riferimento salita: 0.47% %",
          "Timestamp: 2020-07-15 00:00:00<br>Prezzo: 8051.53 €<br>Variazione giornaliera: -0.61%<br>Timestamp riferimento discesa: 2020-06-01 00:00:00<br>Prezzo riferimento discesa: 9138.79<br>Variazione rispetto riferimento discesa: -11.9% %<br>Timestamp riferimento salita: 2020-06-27 00:00:00<br>Prezzo riferimento salita: 8063.25<br>Variazione rispetto riferimento salita: -0.15% %",
          "Timestamp: 2020-07-16 00:00:00<br>Prezzo: 8017.41 €<br>Variazione giornaliera: -0.42%<br>Timestamp riferimento discesa: 2020-06-01 00:00:00<br>Prezzo riferimento discesa: 9138.79<br>Variazione rispetto riferimento discesa: -12.27% %<br>Timestamp riferimento salita: 2020-06-27 00:00:00<br>Prezzo riferimento salita: 8063.25<br>Variazione rispetto riferimento salita: -0.57% %",
          "Timestamp: 2020-07-17 00:00:00<br>Prezzo: 8007.91 €<br>Variazione giornaliera: -0.12%<br>Timestamp riferimento discesa: 2020-06-01 00:00:00<br>Prezzo riferimento discesa: 9138.79<br>Variazione rispetto riferimento discesa: -12.37% %<br>Timestamp riferimento salita: 2020-06-27 00:00:00<br>Prezzo riferimento salita: 8063.25<br>Variazione rispetto riferimento salita: -0.69% %",
          "Timestamp: 2020-07-18 00:00:00<br>Prezzo: 8013.51 €<br>Variazione giornaliera: 0.07%<br>Timestamp riferimento discesa: 2020-06-01 00:00:00<br>Prezzo riferimento discesa: 9138.79<br>Variazione rispetto riferimento discesa: -12.31% %<br>Timestamp riferimento salita: 2020-06-27 00:00:00<br>Prezzo riferimento salita: 8063.25<br>Variazione rispetto riferimento salita: -0.62% %",
          "Timestamp: 2020-07-19 00:00:00<br>Prezzo: 8026.40 €<br>Variazione giornaliera: 0.16%<br>Timestamp riferimento discesa: 2020-06-01 00:00:00<br>Prezzo riferimento discesa: 9138.79<br>Variazione rispetto riferimento discesa: -12.17% %<br>Timestamp riferimento salita: 2020-06-27 00:00:00<br>Prezzo riferimento salita: 8063.25<br>Variazione rispetto riferimento salita: -0.46% %",
          "Timestamp: 2020-07-20 00:00:00<br>Prezzo: 7998.32 €<br>Variazione giornaliera: -0.35%<br>Timestamp riferimento discesa: 2020-06-01 00:00:00<br>Prezzo riferimento discesa: 9138.79<br>Variazione rispetto riferimento discesa: -12.48% %<br>Timestamp riferimento salita: 2020-06-27 00:00:00<br>Prezzo riferimento salita: 8063.25<br>Variazione rispetto riferimento salita: -0.81% %",
          "Timestamp: 2020-07-21 00:00:00<br>Prezzo: 8126.14 €<br>Variazione giornaliera: 1.6%<br>Timestamp riferimento discesa: 2020-06-01 00:00:00<br>Prezzo riferimento discesa: 9138.79<br>Variazione rispetto riferimento discesa: -11.08% %<br>Timestamp riferimento salita: 2020-06-27 00:00:00<br>Prezzo riferimento salita: 8063.25<br>Variazione rispetto riferimento salita: 0.78% %",
          "Timestamp: 2020-07-22 00:00:00<br>Prezzo: 8235.91 €<br>Variazione giornaliera: 1.35%<br>Timestamp riferimento discesa: 2020-06-01 00:00:00<br>Prezzo riferimento discesa: 9138.79<br>Variazione rispetto riferimento discesa: -9.88% %<br>Timestamp riferimento salita: 2020-06-27 00:00:00<br>Prezzo riferimento salita: 8063.25<br>Variazione rispetto riferimento salita: 2.14% %",
          "Timestamp: 2020-07-23 00:00:00<br>Prezzo: 8262.81 €<br>Variazione giornaliera: 0.33%<br>Timestamp riferimento discesa: 2020-06-01 00:00:00<br>Prezzo riferimento discesa: 9138.79<br>Variazione rispetto riferimento discesa: -9.59% %<br>Timestamp riferimento salita: 2020-06-27 00:00:00<br>Prezzo riferimento salita: 8063.25<br>Variazione rispetto riferimento salita: 2.47% %",
          "Timestamp: 2020-07-24 00:00:00<br>Prezzo: 8181.61 €<br>Variazione giornaliera: -0.98%<br>Timestamp riferimento discesa: 2020-06-01 00:00:00<br>Prezzo riferimento discesa: 9138.79<br>Variazione rispetto riferimento discesa: -10.47% %<br>Timestamp riferimento salita: 2020-06-27 00:00:00<br>Prezzo riferimento salita: 8063.25<br>Variazione rispetto riferimento salita: 1.47% %",
          "Timestamp: 2020-07-25 00:00:00<br>Prezzo: 8302.23 €<br>Variazione giornaliera: 1.47%<br>Timestamp riferimento discesa: 2020-06-01 00:00:00<br>Prezzo riferimento discesa: 9138.79<br>Variazione rispetto riferimento discesa: -9.15% %<br>Timestamp riferimento salita: 2020-06-27 00:00:00<br>Prezzo riferimento salita: 8063.25<br>Variazione rispetto riferimento salita: 2.96% %",
          "Timestamp: 2020-07-26 00:00:00<br>Prezzo: 8499.58 €<br>Variazione giornaliera: 2.38%<br>Timestamp riferimento discesa: 2020-06-01 00:00:00<br>Prezzo riferimento discesa: 9138.79<br>Variazione rispetto riferimento discesa: -6.99% %<br>Timestamp riferimento salita: 2020-06-27 00:00:00<br>Prezzo riferimento salita: 8063.25<br>Variazione rispetto riferimento salita: 5.41% %",
          "Timestamp: 2020-07-27 00:00:00<br>Prezzo: 9340.19 €<br>Variazione giornaliera: 9.89%<br>Timestamp riferimento discesa: NaT<br>Prezzo riferimento discesa: None<br>Variazione rispetto riferimento discesa: None %<br>Timestamp riferimento salita: 2020-06-27 00:00:00<br>Prezzo riferimento salita: 8063.25<br>Variazione rispetto riferimento salita: 15.84% %",
          "Timestamp: 2020-07-28 00:00:00<br>Prezzo: 9311.41 €<br>Variazione giornaliera: -0.31%<br>Timestamp riferimento discesa: 2020-07-27 00:00:00<br>Prezzo riferimento discesa: 9340.19<br>Variazione rispetto riferimento discesa: -0.31% %<br>Timestamp riferimento salita: 2020-06-27 00:00:00<br>Prezzo riferimento salita: 8063.25<br>Variazione rispetto riferimento salita: 15.48% %",
          "Timestamp: 2020-07-29 00:00:00<br>Prezzo: 9420.31 €<br>Variazione giornaliera: 1.17%<br>Timestamp riferimento discesa: 2020-07-27 00:00:00<br>Prezzo riferimento discesa: 9340.19<br>Variazione rispetto riferimento discesa: 0.86% %<br>Timestamp riferimento salita: 2020-06-27 00:00:00<br>Prezzo riferimento salita: 8063.25<br>Variazione rispetto riferimento salita: 16.83% %",
          "Timestamp: 2020-07-30 00:00:00<br>Prezzo: 9356.71 €<br>Variazione giornaliera: -0.68%<br>Timestamp riferimento discesa: 2020-07-27 00:00:00<br>Prezzo riferimento discesa: 9340.19<br>Variazione rispetto riferimento discesa: 0.18% %<br>Timestamp riferimento salita: 2020-06-27 00:00:00<br>Prezzo riferimento salita: 8063.25<br>Variazione rispetto riferimento salita: 16.04% %",
          "Timestamp: 2020-07-31 00:00:00<br>Prezzo: 9613.43 €<br>Variazione giornaliera: 2.74%<br>Timestamp riferimento discesa: 2020-07-27 00:00:00<br>Prezzo riferimento discesa: 9340.19<br>Variazione rispetto riferimento discesa: 2.93% %<br>Timestamp riferimento salita: 2020-06-27 00:00:00<br>Prezzo riferimento salita: 8063.25<br>Variazione rispetto riferimento salita: 19.23% %",
          "Timestamp: 2020-08-01 00:00:00<br>Prezzo: 9983.69 €<br>Variazione giornaliera: 3.85%<br>Timestamp riferimento discesa: NaT<br>Prezzo riferimento discesa: None<br>Variazione rispetto riferimento discesa: None %<br>Timestamp riferimento salita: 2020-06-27 00:00:00<br>Prezzo riferimento salita: 8063.25<br>Variazione rispetto riferimento salita: 23.82% %",
          "Timestamp: 2020-08-02 00:00:00<br>Prezzo: 9382.73 €<br>Variazione giornaliera: -6.02%<br>Timestamp riferimento discesa: 2020-08-01 00:00:00<br>Prezzo riferimento discesa: 9983.69<br>Variazione rispetto riferimento discesa: -6.02% %<br>Timestamp riferimento salita: NaT<br>Prezzo riferimento salita: None<br>Variazione rispetto riferimento salita: None %",
          "Timestamp: 2020-08-03 00:00:00<br>Prezzo: 9563.89 €<br>Variazione giornaliera: 1.93%<br>Timestamp riferimento discesa: 2020-08-01 00:00:00<br>Prezzo riferimento discesa: 9983.69<br>Variazione rispetto riferimento discesa: -4.2% %<br>Timestamp riferimento salita: 2020-08-02 00:00:00<br>Prezzo riferimento salita: 9382.73<br>Variazione rispetto riferimento salita: 1.93% %",
          "Timestamp: 2020-08-04 00:00:00<br>Prezzo: 9484.98 €<br>Variazione giornaliera: -0.83%<br>Timestamp riferimento discesa: 2020-08-01 00:00:00<br>Prezzo riferimento discesa: 9983.69<br>Variazione rispetto riferimento discesa: -5.0% %<br>Timestamp riferimento salita: 2020-08-02 00:00:00<br>Prezzo riferimento salita: 9382.73<br>Variazione rispetto riferimento salita: 1.09% %",
          "Timestamp: 2020-08-05 00:00:00<br>Prezzo: 9894.44 €<br>Variazione giornaliera: 4.32%<br>Timestamp riferimento discesa: 2020-08-01 00:00:00<br>Prezzo riferimento discesa: 9983.69<br>Variazione rispetto riferimento discesa: -0.89% %<br>Timestamp riferimento salita: 2020-08-02 00:00:00<br>Prezzo riferimento salita: 9382.73<br>Variazione rispetto riferimento salita: 5.45% %",
          "Timestamp: 2020-08-06 00:00:00<br>Prezzo: 9919.75 €<br>Variazione giornaliera: 0.26%<br>Timestamp riferimento discesa: 2020-08-01 00:00:00<br>Prezzo riferimento discesa: 9983.69<br>Variazione rispetto riferimento discesa: -0.64% %<br>Timestamp riferimento salita: 2020-08-02 00:00:00<br>Prezzo riferimento salita: 9382.73<br>Variazione rispetto riferimento salita: 5.72% %",
          "Timestamp: 2020-08-07 00:00:00<br>Prezzo: 9841.05 €<br>Variazione giornaliera: -0.79%<br>Timestamp riferimento discesa: 2020-08-01 00:00:00<br>Prezzo riferimento discesa: 9983.69<br>Variazione rispetto riferimento discesa: -1.43% %<br>Timestamp riferimento salita: 2020-08-02 00:00:00<br>Prezzo riferimento salita: 9382.73<br>Variazione rispetto riferimento salita: 4.88% %",
          "Timestamp: 2020-08-08 00:00:00<br>Prezzo: 9970.48 €<br>Variazione giornaliera: 1.32%<br>Timestamp riferimento discesa: 2020-08-01 00:00:00<br>Prezzo riferimento discesa: 9983.69<br>Variazione rispetto riferimento discesa: -0.13% %<br>Timestamp riferimento salita: 2020-08-02 00:00:00<br>Prezzo riferimento salita: 9382.73<br>Variazione rispetto riferimento salita: 6.26% %",
          "Timestamp: 2020-08-09 00:00:00<br>Prezzo: 9910.37 €<br>Variazione giornaliera: -0.6%<br>Timestamp riferimento discesa: 2020-08-01 00:00:00<br>Prezzo riferimento discesa: 9983.69<br>Variazione rispetto riferimento discesa: -0.73% %<br>Timestamp riferimento salita: 2020-08-02 00:00:00<br>Prezzo riferimento salita: 9382.73<br>Variazione rispetto riferimento salita: 5.62% %",
          "Timestamp: 2020-08-10 00:00:00<br>Prezzo: 10118.96 €<br>Variazione giornaliera: 2.1%<br>Timestamp riferimento discesa: 2020-08-01 00:00:00<br>Prezzo riferimento discesa: 9983.69<br>Variazione rispetto riferimento discesa: 1.35% %<br>Timestamp riferimento salita: 2020-08-02 00:00:00<br>Prezzo riferimento salita: 9382.73<br>Variazione rispetto riferimento salita: 7.85% %",
          "Timestamp: 2020-08-11 00:00:00<br>Prezzo: 9722.77 €<br>Variazione giornaliera: -3.92%<br>Timestamp riferimento discesa: 2020-08-01 00:00:00<br>Prezzo riferimento discesa: 9983.69<br>Variazione rispetto riferimento discesa: -2.61% %<br>Timestamp riferimento salita: 2020-08-02 00:00:00<br>Prezzo riferimento salita: 9382.73<br>Variazione rispetto riferimento salita: 3.62% %",
          "Timestamp: 2020-08-12 00:00:00<br>Prezzo: 9823.36 €<br>Variazione giornaliera: 1.03%<br>Timestamp riferimento discesa: 2020-08-01 00:00:00<br>Prezzo riferimento discesa: 9983.69<br>Variazione rispetto riferimento discesa: -1.61% %<br>Timestamp riferimento salita: 2020-08-02 00:00:00<br>Prezzo riferimento salita: 9382.73<br>Variazione rispetto riferimento salita: 4.7% %",
          "Timestamp: 2020-08-13 00:00:00<br>Prezzo: 9972.73 €<br>Variazione giornaliera: 1.52%<br>Timestamp riferimento discesa: 2020-08-01 00:00:00<br>Prezzo riferimento discesa: 9983.69<br>Variazione rispetto riferimento discesa: -0.11% %<br>Timestamp riferimento salita: 2020-08-02 00:00:00<br>Prezzo riferimento salita: 9382.73<br>Variazione rispetto riferimento salita: 6.29% %",
          "Timestamp: 2020-08-14 00:00:00<br>Prezzo: 9937.87 €<br>Variazione giornaliera: -0.35%<br>Timestamp riferimento discesa: 2020-08-01 00:00:00<br>Prezzo riferimento discesa: 9983.69<br>Variazione rispetto riferimento discesa: -0.46% %<br>Timestamp riferimento salita: 2020-08-02 00:00:00<br>Prezzo riferimento salita: 9382.73<br>Variazione rispetto riferimento salita: 5.92% %",
          "Timestamp: 2020-08-15 00:00:00<br>Prezzo: 10019.67 €<br>Variazione giornaliera: 0.82%<br>Timestamp riferimento discesa: 2020-08-01 00:00:00<br>Prezzo riferimento discesa: 9983.69<br>Variazione rispetto riferimento discesa: 0.36% %<br>Timestamp riferimento salita: 2020-08-02 00:00:00<br>Prezzo riferimento salita: 9382.73<br>Variazione rispetto riferimento salita: 6.79% %",
          "Timestamp: 2020-08-16 00:00:00<br>Prezzo: 10034.04 €<br>Variazione giornaliera: 0.14%<br>Timestamp riferimento discesa: 2020-08-01 00:00:00<br>Prezzo riferimento discesa: 9983.69<br>Variazione rispetto riferimento discesa: 0.5% %<br>Timestamp riferimento salita: 2020-08-02 00:00:00<br>Prezzo riferimento salita: 9382.73<br>Variazione rispetto riferimento salita: 6.94% %",
          "Timestamp: 2020-08-17 00:00:00<br>Prezzo: 10319.69 €<br>Variazione giornaliera: 2.85%<br>Timestamp riferimento discesa: 2020-08-01 00:00:00<br>Prezzo riferimento discesa: 9983.69<br>Variazione rispetto riferimento discesa: 3.37% %<br>Timestamp riferimento salita: 2020-08-02 00:00:00<br>Prezzo riferimento salita: 9382.73<br>Variazione rispetto riferimento salita: 9.99% %",
          "Timestamp: 2020-08-18 00:00:00<br>Prezzo: 10034.48 €<br>Variazione giornaliera: -2.76%<br>Timestamp riferimento discesa: 2020-08-01 00:00:00<br>Prezzo riferimento discesa: 9983.69<br>Variazione rispetto riferimento discesa: 0.51% %<br>Timestamp riferimento salita: 2020-08-02 00:00:00<br>Prezzo riferimento salita: 9382.73<br>Variazione rispetto riferimento salita: 6.95% %",
          "Timestamp: 2020-08-19 00:00:00<br>Prezzo: 9927.80 €<br>Variazione giornaliera: -1.06%<br>Timestamp riferimento discesa: 2020-08-01 00:00:00<br>Prezzo riferimento discesa: 9983.69<br>Variazione rispetto riferimento discesa: -0.56% %<br>Timestamp riferimento salita: 2020-08-02 00:00:00<br>Prezzo riferimento salita: 9382.73<br>Variazione rispetto riferimento salita: 5.81% %",
          "Timestamp: 2020-08-20 00:00:00<br>Prezzo: 10006.64 €<br>Variazione giornaliera: 0.79%<br>Timestamp riferimento discesa: 2020-08-01 00:00:00<br>Prezzo riferimento discesa: 9983.69<br>Variazione rispetto riferimento discesa: 0.23% %<br>Timestamp riferimento salita: 2020-08-02 00:00:00<br>Prezzo riferimento salita: 9382.73<br>Variazione rispetto riferimento salita: 6.65% %",
          "Timestamp: 2020-08-21 00:00:00<br>Prezzo: 9827.89 €<br>Variazione giornaliera: -1.79%<br>Timestamp riferimento discesa: 2020-08-01 00:00:00<br>Prezzo riferimento discesa: 9983.69<br>Variazione rispetto riferimento discesa: -1.56% %<br>Timestamp riferimento salita: 2020-08-02 00:00:00<br>Prezzo riferimento salita: 9382.73<br>Variazione rispetto riferimento salita: 4.74% %",
          "Timestamp: 2020-08-22 00:00:00<br>Prezzo: 9904.05 €<br>Variazione giornaliera: 0.77%<br>Timestamp riferimento discesa: 2020-08-01 00:00:00<br>Prezzo riferimento discesa: 9983.69<br>Variazione rispetto riferimento discesa: -0.8% %<br>Timestamp riferimento salita: 2020-08-02 00:00:00<br>Prezzo riferimento salita: 9382.73<br>Variazione rispetto riferimento salita: 5.56% %",
          "Timestamp: 2020-08-23 00:00:00<br>Prezzo: 9887.04 €<br>Variazione giornaliera: -0.17%<br>Timestamp riferimento discesa: 2020-08-01 00:00:00<br>Prezzo riferimento discesa: 9983.69<br>Variazione rispetto riferimento discesa: -0.97% %<br>Timestamp riferimento salita: 2020-08-02 00:00:00<br>Prezzo riferimento salita: 9382.73<br>Variazione rispetto riferimento salita: 5.37% %",
          "Timestamp: 2020-08-24 00:00:00<br>Prezzo: 9983.13 €<br>Variazione giornaliera: 0.97%<br>Timestamp riferimento discesa: 2020-08-01 00:00:00<br>Prezzo riferimento discesa: 9983.69<br>Variazione rispetto riferimento discesa: -0.01% %<br>Timestamp riferimento salita: 2020-08-02 00:00:00<br>Prezzo riferimento salita: 9382.73<br>Variazione rispetto riferimento salita: 6.4% %",
          "Timestamp: 2020-08-25 00:00:00<br>Prezzo: 9603.43 €<br>Variazione giornaliera: -3.8%<br>Timestamp riferimento discesa: 2020-08-01 00:00:00<br>Prezzo riferimento discesa: 9983.69<br>Variazione rispetto riferimento discesa: -3.81% %<br>Timestamp riferimento salita: 2020-08-02 00:00:00<br>Prezzo riferimento salita: 9382.73<br>Variazione rispetto riferimento salita: 2.35% %",
          "Timestamp: 2020-08-26 00:00:00<br>Prezzo: 9703.13 €<br>Variazione giornaliera: 1.04%<br>Timestamp riferimento discesa: 2020-08-01 00:00:00<br>Prezzo riferimento discesa: 9983.69<br>Variazione rispetto riferimento discesa: -2.81% %<br>Timestamp riferimento salita: 2020-08-02 00:00:00<br>Prezzo riferimento salita: 9382.73<br>Variazione rispetto riferimento salita: 3.41% %",
          "Timestamp: 2020-08-27 00:00:00<br>Prezzo: 9581.08 €<br>Variazione giornaliera: -1.26%<br>Timestamp riferimento discesa: 2020-08-01 00:00:00<br>Prezzo riferimento discesa: 9983.69<br>Variazione rispetto riferimento discesa: -4.03% %<br>Timestamp riferimento salita: 2020-08-02 00:00:00<br>Prezzo riferimento salita: 9382.73<br>Variazione rispetto riferimento salita: 2.11% %",
          "Timestamp: 2020-08-28 00:00:00<br>Prezzo: 9695.47 €<br>Variazione giornaliera: 1.19%<br>Timestamp riferimento discesa: 2020-08-01 00:00:00<br>Prezzo riferimento discesa: 9983.69<br>Variazione rispetto riferimento discesa: -2.89% %<br>Timestamp riferimento salita: 2020-08-02 00:00:00<br>Prezzo riferimento salita: 9382.73<br>Variazione rispetto riferimento salita: 3.33% %",
          "Timestamp: 2020-08-29 00:00:00<br>Prezzo: 9664.35 €<br>Variazione giornaliera: -0.32%<br>Timestamp riferimento discesa: 2020-08-01 00:00:00<br>Prezzo riferimento discesa: 9983.69<br>Variazione rispetto riferimento discesa: -3.2% %<br>Timestamp riferimento salita: 2020-08-02 00:00:00<br>Prezzo riferimento salita: 9382.73<br>Variazione rispetto riferimento salita: 3.0% %",
          "Timestamp: 2020-08-30 00:00:00<br>Prezzo: 9824.92 €<br>Variazione giornaliera: 1.66%<br>Timestamp riferimento discesa: 2020-08-01 00:00:00<br>Prezzo riferimento discesa: 9983.69<br>Variazione rispetto riferimento discesa: -1.59% %<br>Timestamp riferimento salita: 2020-08-02 00:00:00<br>Prezzo riferimento salita: 9382.73<br>Variazione rispetto riferimento salita: 4.71% %",
          "Timestamp: 2020-08-31 00:00:00<br>Prezzo: 9785.02 €<br>Variazione giornaliera: -0.41%<br>Timestamp riferimento discesa: 2020-08-01 00:00:00<br>Prezzo riferimento discesa: 9983.69<br>Variazione rispetto riferimento discesa: -1.99% %<br>Timestamp riferimento salita: 2020-08-02 00:00:00<br>Prezzo riferimento salita: 9382.73<br>Variazione rispetto riferimento salita: 4.29% %",
          "Timestamp: 2020-09-01 00:00:00<br>Prezzo: 10038.56 €<br>Variazione giornaliera: 2.59%<br>Timestamp riferimento discesa: 2020-08-01 00:00:00<br>Prezzo riferimento discesa: 9983.69<br>Variazione rispetto riferimento discesa: 0.55% %<br>Timestamp riferimento salita: 2020-08-02 00:00:00<br>Prezzo riferimento salita: 9382.73<br>Variazione rispetto riferimento salita: 6.99% %"
         ],
         "type": "scatter",
         "x": [
          "2020-03-01T00:00:00",
          "2020-03-02T00:00:00",
          "2020-03-03T00:00:00",
          "2020-03-04T00:00:00",
          "2020-03-05T00:00:00",
          "2020-03-06T00:00:00",
          "2020-03-07T00:00:00",
          "2020-03-08T00:00:00",
          "2020-03-09T00:00:00",
          "2020-03-10T00:00:00",
          "2020-03-11T00:00:00",
          "2020-03-12T00:00:00",
          "2020-03-13T00:00:00",
          "2020-03-14T00:00:00",
          "2020-03-15T00:00:00",
          "2020-03-16T00:00:00",
          "2020-03-17T00:00:00",
          "2020-03-18T00:00:00",
          "2020-03-19T00:00:00",
          "2020-03-20T00:00:00",
          "2020-03-21T00:00:00",
          "2020-03-22T00:00:00",
          "2020-03-23T00:00:00",
          "2020-03-24T00:00:00",
          "2020-03-25T00:00:00",
          "2020-03-26T00:00:00",
          "2020-03-27T00:00:00",
          "2020-03-28T00:00:00",
          "2020-03-29T00:00:00",
          "2020-03-30T00:00:00",
          "2020-03-31T00:00:00",
          "2020-04-01T00:00:00",
          "2020-04-02T00:00:00",
          "2020-04-03T00:00:00",
          "2020-04-04T00:00:00",
          "2020-04-05T00:00:00",
          "2020-04-06T00:00:00",
          "2020-04-07T00:00:00",
          "2020-04-08T00:00:00",
          "2020-04-09T00:00:00",
          "2020-04-10T00:00:00",
          "2020-04-11T00:00:00",
          "2020-04-12T00:00:00",
          "2020-04-13T00:00:00",
          "2020-04-14T00:00:00",
          "2020-04-15T00:00:00",
          "2020-04-16T00:00:00",
          "2020-04-17T00:00:00",
          "2020-04-18T00:00:00",
          "2020-04-19T00:00:00",
          "2020-04-20T00:00:00",
          "2020-04-21T00:00:00",
          "2020-04-22T00:00:00",
          "2020-04-23T00:00:00",
          "2020-04-24T00:00:00",
          "2020-04-25T00:00:00",
          "2020-04-26T00:00:00",
          "2020-04-27T00:00:00",
          "2020-04-28T00:00:00",
          "2020-04-29T00:00:00",
          "2020-04-30T00:00:00",
          "2020-05-01T00:00:00",
          "2020-05-02T00:00:00",
          "2020-05-03T00:00:00",
          "2020-05-04T00:00:00",
          "2020-05-05T00:00:00",
          "2020-05-06T00:00:00",
          "2020-05-07T00:00:00",
          "2020-05-08T00:00:00",
          "2020-05-09T00:00:00",
          "2020-05-10T00:00:00",
          "2020-05-11T00:00:00",
          "2020-05-12T00:00:00",
          "2020-05-13T00:00:00",
          "2020-05-14T00:00:00",
          "2020-05-15T00:00:00",
          "2020-05-16T00:00:00",
          "2020-05-17T00:00:00",
          "2020-05-18T00:00:00",
          "2020-05-19T00:00:00",
          "2020-05-20T00:00:00",
          "2020-05-21T00:00:00",
          "2020-05-22T00:00:00",
          "2020-05-23T00:00:00",
          "2020-05-24T00:00:00",
          "2020-05-25T00:00:00",
          "2020-05-26T00:00:00",
          "2020-05-27T00:00:00",
          "2020-05-28T00:00:00",
          "2020-05-29T00:00:00",
          "2020-05-30T00:00:00",
          "2020-05-31T00:00:00",
          "2020-06-01T00:00:00",
          "2020-06-02T00:00:00",
          "2020-06-03T00:00:00",
          "2020-06-04T00:00:00",
          "2020-06-05T00:00:00",
          "2020-06-06T00:00:00",
          "2020-06-07T00:00:00",
          "2020-06-08T00:00:00",
          "2020-06-09T00:00:00",
          "2020-06-10T00:00:00",
          "2020-06-11T00:00:00",
          "2020-06-12T00:00:00",
          "2020-06-13T00:00:00",
          "2020-06-14T00:00:00",
          "2020-06-15T00:00:00",
          "2020-06-16T00:00:00",
          "2020-06-17T00:00:00",
          "2020-06-18T00:00:00",
          "2020-06-19T00:00:00",
          "2020-06-20T00:00:00",
          "2020-06-21T00:00:00",
          "2020-06-22T00:00:00",
          "2020-06-23T00:00:00",
          "2020-06-24T00:00:00",
          "2020-06-25T00:00:00",
          "2020-06-26T00:00:00",
          "2020-06-27T00:00:00",
          "2020-06-28T00:00:00",
          "2020-06-29T00:00:00",
          "2020-06-30T00:00:00",
          "2020-07-01T00:00:00",
          "2020-07-02T00:00:00",
          "2020-07-03T00:00:00",
          "2020-07-04T00:00:00",
          "2020-07-05T00:00:00",
          "2020-07-06T00:00:00",
          "2020-07-07T00:00:00",
          "2020-07-08T00:00:00",
          "2020-07-09T00:00:00",
          "2020-07-10T00:00:00",
          "2020-07-11T00:00:00",
          "2020-07-12T00:00:00",
          "2020-07-13T00:00:00",
          "2020-07-14T00:00:00",
          "2020-07-15T00:00:00",
          "2020-07-16T00:00:00",
          "2020-07-17T00:00:00",
          "2020-07-18T00:00:00",
          "2020-07-19T00:00:00",
          "2020-07-20T00:00:00",
          "2020-07-21T00:00:00",
          "2020-07-22T00:00:00",
          "2020-07-23T00:00:00",
          "2020-07-24T00:00:00",
          "2020-07-25T00:00:00",
          "2020-07-26T00:00:00",
          "2020-07-27T00:00:00",
          "2020-07-28T00:00:00",
          "2020-07-29T00:00:00",
          "2020-07-30T00:00:00",
          "2020-07-31T00:00:00",
          "2020-08-01T00:00:00",
          "2020-08-02T00:00:00",
          "2020-08-03T00:00:00",
          "2020-08-04T00:00:00",
          "2020-08-05T00:00:00",
          "2020-08-06T00:00:00",
          "2020-08-07T00:00:00",
          "2020-08-08T00:00:00",
          "2020-08-09T00:00:00",
          "2020-08-10T00:00:00",
          "2020-08-11T00:00:00",
          "2020-08-12T00:00:00",
          "2020-08-13T00:00:00",
          "2020-08-14T00:00:00",
          "2020-08-15T00:00:00",
          "2020-08-16T00:00:00",
          "2020-08-17T00:00:00",
          "2020-08-18T00:00:00",
          "2020-08-19T00:00:00",
          "2020-08-20T00:00:00",
          "2020-08-21T00:00:00",
          "2020-08-22T00:00:00",
          "2020-08-23T00:00:00",
          "2020-08-24T00:00:00",
          "2020-08-25T00:00:00",
          "2020-08-26T00:00:00",
          "2020-08-27T00:00:00",
          "2020-08-28T00:00:00",
          "2020-08-29T00:00:00",
          "2020-08-30T00:00:00",
          "2020-08-31T00:00:00",
          "2020-09-01T00:00:00"
         ],
         "y": [
          7748.16455078125,
          7959.3583984375,
          7862.4853515625,
          7861.05517578125,
          8089.7861328125,
          8082.73974609375,
          7894.34375,
          7121.0341796875,
          6952.2060546875,
          6989.2109375,
          7024.82763671875,
          4444.2373046875,
          4993.67724609375,
          4666.3095703125,
          4834.8359375,
          4493.08935546875,
          4744.93408203125,
          4780.4208984375,
          5808.23046875,
          5759.60693359375,
          5746.3349609375,
          5452.0927734375,
          5960.8076171875,
          6236.5966796875,
          6135.96875,
          6079.7353515625,
          5793.7041015625,
          5589.1044921875,
          5315.30029296875,
          5830.15625,
          5839.27783203125,
          6032.15185546875,
          6264.63232421875,
          6232.12060546875,
          6355.8828125,
          6284.36181640625,
          6732.44775390625,
          6586.5849609375,
          6752.5703125,
          6683.55859375,
          6277.59423828125,
          6272.30908203125,
          6377.30078125,
          6267.4052734375,
          6229.04541015625,
          6091.08056640625,
          6554.13525390625,
          6526.126953125,
          6673.71337890625,
          6616.6650390625,
          6334.2236328125,
          6337.51416015625,
          6585.7373046875,
          6895.33447265625,
          6977.3271484375,
          6994.916015625,
          7097.44921875,
          7201.9345703125,
          7206.9375,
          8091.74462890625,
          7911.7626953125,
          7990.9580078125,
          8101.85302734375,
          8119.24267578125,
          8173.6708984375,
          8307.3310546875,
          8582.734375,
          9183.599609375,
          8973.578125,
          8745.1826171875,
          8078.630859375,
          7958.5712890625,
          8117.50830078125,
          8566.4140625,
          9006.8359375,
          8619.9814453125,
          8665.0927734375,
          8938.7421875,
          8911.88671875,
          8904.07421875,
          8673.2265625,
          8294.2919921875,
          8423.99609375,
          8448.4990234375,
          8058.64013671875,
          8170.75,
          8047.2314453125,
          8334.0693359375,
          8599.1904296875,
          8499.884765625,
          8735.1748046875,
          8510.1376953125,
          9138.7880859375,
          8519.59765625,
          8595.4833984375,
          8642.15234375,
          8560.423828125,
          8549.5107421875,
          8621.2724609375,
          8644.083984375,
          8643.34375,
          8683.8173828125,
          8257.708984375,
          8422.0615234375,
          8418.423828125,
          8342.94921875,
          8335.8212890625,
          8466.1796875,
          8432.1748046875,
          8397.5830078125,
          8308.0771484375,
          8349.328125,
          8324.283203125,
          8554.9677734375,
          8512.65625,
          8278.49609375,
          8257.8017578125,
          8167.833984375,
          8063.25146484375,
          8146.4560546875,
          8171.95654296875,
          8133.865234375,
          8201.646484375,
          8118.01025390625,
          8079.52197265625,
          8121.37548828125,
          8067.40673828125,
          8287.67578125,
          8205.9833984375,
          8316.365234375,
          8218.990234375,
          8210.900390625,
          8177.2998046875,
          8201.4091796875,
          8146.83154296875,
          8101.28857421875,
          8051.5283203125,
          8017.4111328125,
          8007.90771484375,
          8013.509765625,
          8026.4013671875,
          7998.3212890625,
          8126.14306640625,
          8235.9052734375,
          8262.8125,
          8181.6142578125,
          8302.2275390625,
          8499.583984375,
          9340.1875,
          9311.41015625,
          9420.3125,
          9356.708984375,
          9613.4306640625,
          9983.6943359375,
          9382.7275390625,
          9563.89453125,
          9484.9814453125,
          9894.435546875,
          9919.7470703125,
          9841.0537109375,
          9970.4755859375,
          9910.3671875,
          10118.962890625,
          9722.7724609375,
          9823.3642578125,
          9972.7265625,
          9937.8701171875,
          10019.6689453125,
          10034.0419921875,
          10319.689453125,
          10034.4794921875,
          9927.80078125,
          10006.6376953125,
          9827.8916015625,
          9904.05078125,
          9887.0439453125,
          9983.1259765625,
          9603.4296875,
          9703.12890625,
          9581.0771484375,
          9695.46875,
          9664.3515625,
          9824.9228515625,
          9785.0234375,
          10038.5634765625
         ]
        },
        {
         "hoverinfo": "text",
         "marker": {
          "color": "green",
          "opacity": 0.7,
          "size": [
           10.00000245034081,
           50,
           10,
           10.000000057460692,
           10.000000000000057,
           10.000000276850109,
           10.000994325990428,
           10,
           10.000000000001153,
           10.000000000001508,
           10.000000000002004,
           10.00009309901952,
           10.000000001346594,
           10.00007243909128,
           10
          ]
         },
         "mode": "markers",
         "name": "Acquisti",
         "text": [
          "Timestamp: 2020-03-08 00:00:00<br>Prezzo: 7121.03 €<br>Euro usati: 6.031185801066721e-05 €<br>Variazione giornaliera: -9.8%<br>Timestamp riferimento discesa: 2020-02-29 00:00:00<br>Prezzo riferimento discesa: 7798.03<br>Variazione rispetto riferimento discesa: -8.68%<br>Timestamp riferimento salita: NaT<br>Prezzo riferimento salita: None<br>Variazione rispetto riferimento salita: None",
          "Timestamp: 2020-03-12 00:00:00<br>Prezzo: 4444.24 €<br>Euro usati: 984.5464394567138 €<br>Variazione giornaliera: -36.74%<br>Timestamp riferimento discesa: 2020-02-29 00:00:00<br>Prezzo riferimento discesa: 7798.03<br>Variazione rispetto riferimento discesa: -43.01%<br>Timestamp riferimento salita: NaT<br>Prezzo riferimento salita: None<br>Variazione rispetto riferimento salita: None",
          "Timestamp: 2020-03-20 00:00:00<br>Prezzo: 5759.61 €<br>Euro usati: 1.8388099716572887e-15 €<br>Variazione giornaliera: -0.84%<br>Timestamp riferimento discesa: 2020-03-19 00:00:00<br>Prezzo riferimento discesa: 5808.23<br>Variazione rispetto riferimento discesa: -0.84%<br>Timestamp riferimento salita: 2020-03-16 00:00:00<br>Prezzo riferimento salita: 4493.09<br>Variazione rispetto riferimento salita: 28.19%",
          "Timestamp: 2020-03-22 00:00:00<br>Prezzo: 5452.09 €<br>Euro usati: 1.4143179918035671e-06 €<br>Variazione giornaliera: -5.12%<br>Timestamp riferimento discesa: 2020-03-19 00:00:00<br>Prezzo riferimento discesa: 5808.23<br>Variazione rispetto riferimento discesa: -6.13%<br>Timestamp riferimento salita: NaT<br>Prezzo riferimento salita: None<br>Variazione rispetto riferimento salita: None",
          "Timestamp: 2020-03-25 00:00:00<br>Prezzo: 6135.97 €<br>Euro usati: 1.4071940338668486e-12 €<br>Variazione giornaliera: -1.61%<br>Timestamp riferimento discesa: 2020-03-24 00:00:00<br>Prezzo riferimento discesa: 6236.60<br>Variazione rispetto riferimento discesa: -1.61%<br>Timestamp riferimento salita: 2020-03-22 00:00:00<br>Prezzo riferimento salita: 5452.09<br>Variazione rispetto riferimento salita: 12.54%",
          "Timestamp: 2020-03-27 00:00:00<br>Prezzo: 5793.70 €<br>Euro usati: 6.814294718939968e-06 €<br>Variazione giornaliera: -4.7%<br>Timestamp riferimento discesa: 2020-03-24 00:00:00<br>Prezzo riferimento discesa: 6236.60<br>Variazione rispetto riferimento discesa: -7.1%<br>Timestamp riferimento salita: NaT<br>Prezzo riferimento salita: None<br>Variazione rispetto riferimento salita: None",
          "Timestamp: 2020-03-29 00:00:00<br>Prezzo: 5315.30 €<br>Euro usati: 0.0244740028383658 €<br>Variazione giornaliera: -4.9%<br>Timestamp riferimento discesa: 2020-03-24 00:00:00<br>Prezzo riferimento discesa: 6236.60<br>Variazione rispetto riferimento discesa: -14.77%<br>Timestamp riferimento salita: NaT<br>Prezzo riferimento salita: None<br>Variazione rispetto riferimento salita: None",
          "Timestamp: 2020-04-03 00:00:00<br>Prezzo: 6232.12 €<br>Euro usati: 1.4929346576466308e-17 €<br>Variazione giornaliera: -0.52%<br>Timestamp riferimento discesa: 2020-04-02 00:00:00<br>Prezzo riferimento discesa: 6264.63<br>Variazione rispetto riferimento discesa: -0.52%<br>Timestamp riferimento salita: 2020-03-29 00:00:00<br>Prezzo riferimento salita: 5315.30<br>Variazione rispetto riferimento salita: 17.25%",
          "Timestamp: 2020-04-07 00:00:00<br>Prezzo: 6586.58 €<br>Euro usati: 2.83688851726631e-11 €<br>Variazione giornaliera: -2.17%<br>Timestamp riferimento discesa: 2020-04-06 00:00:00<br>Prezzo riferimento discesa: 6732.45<br>Variazione rispetto riferimento discesa: -2.17%<br>Timestamp riferimento salita: 2020-03-29 00:00:00<br>Prezzo riferimento salita: 5315.30<br>Variazione rispetto riferimento salita: 23.92%",
          "Timestamp: 2020-04-30 00:00:00<br>Prezzo: 7911.76 €<br>Euro usati: 3.711561033072821e-11 €<br>Variazione giornaliera: -2.22%<br>Timestamp riferimento discesa: 2020-04-29 00:00:00<br>Prezzo riferimento discesa: 8091.74<br>Variazione rispetto riferimento discesa: -2.22%<br>Timestamp riferimento salita: 2020-04-20 00:00:00<br>Prezzo riferimento salita: 6334.22<br>Variazione rispetto riferimento salita: 24.91%",
          "Timestamp: 2020-05-08 00:00:00<br>Prezzo: 8973.58 €<br>Euro usati: 4.931519497164137e-11 €<br>Variazione giornaliera: -2.29%<br>Timestamp riferimento discesa: 2020-05-07 00:00:00<br>Prezzo riferimento discesa: 9183.60<br>Variazione rispetto riferimento discesa: -2.29%<br>Timestamp riferimento salita: 2020-04-20 00:00:00<br>Prezzo riferimento salita: 6334.22<br>Variazione rispetto riferimento salita: 41.67%",
          "Timestamp: 2020-05-10 00:00:00<br>Prezzo: 8078.63 €<br>Euro usati: 0.0022915077046084392 €<br>Variazione giornaliera: -7.62%<br>Timestamp riferimento discesa: 2020-05-07 00:00:00<br>Prezzo riferimento discesa: 9183.60<br>Variazione rispetto riferimento discesa: -12.03%<br>Timestamp riferimento salita: NaT<br>Prezzo riferimento salita: None<br>Variazione rispetto riferimento salita: None",
          "Timestamp: 2020-05-15 00:00:00<br>Prezzo: 8619.98 €<br>Euro usati: 3.314462676536871e-08 €<br>Variazione giornaliera: -4.3%<br>Timestamp riferimento discesa: 2020-05-14 00:00:00<br>Prezzo riferimento discesa: 9006.84<br>Variazione rispetto riferimento discesa: -4.3%<br>Timestamp riferimento salita: 2020-05-11 00:00:00<br>Prezzo riferimento salita: 7958.57<br>Variazione rispetto riferimento salita: 8.31%",
          "Timestamp: 2020-06-27 00:00:00<br>Prezzo: 8063.25 €<br>Euro usati: 0.0017829912349262072 €<br>Variazione giornaliera: -1.28%<br>Timestamp riferimento discesa: 2020-06-01 00:00:00<br>Prezzo riferimento discesa: 9138.79<br>Variazione rispetto riferimento discesa: -11.77%<br>Timestamp riferimento salita: NaT<br>Prezzo riferimento salita: None<br>Variazione rispetto riferimento salita: None",
          "Timestamp: 2020-07-28 00:00:00<br>Prezzo: 9311.41 €<br>Euro usati: 7.949731730444127e-20 €<br>Variazione giornaliera: -0.31%<br>Timestamp riferimento discesa: 2020-07-27 00:00:00<br>Prezzo riferimento discesa: 9340.19<br>Variazione rispetto riferimento discesa: -0.31%<br>Timestamp riferimento salita: 2020-06-27 00:00:00<br>Prezzo riferimento salita: 8063.25<br>Variazione rispetto riferimento salita: 15.48%"
         ],
         "type": "scatter",
         "x": [
          "2020-03-08T00:00:00",
          "2020-03-12T00:00:00",
          "2020-03-20T00:00:00",
          "2020-03-22T00:00:00",
          "2020-03-25T00:00:00",
          "2020-03-27T00:00:00",
          "2020-03-29T00:00:00",
          "2020-04-03T00:00:00",
          "2020-04-07T00:00:00",
          "2020-04-30T00:00:00",
          "2020-05-08T00:00:00",
          "2020-05-10T00:00:00",
          "2020-05-15T00:00:00",
          "2020-06-27T00:00:00",
          "2020-07-28T00:00:00"
         ],
         "y": [
          7121.0341796875,
          4444.2373046875,
          5759.60693359375,
          5452.0927734375,
          6135.96875,
          5793.7041015625,
          5315.30029296875,
          6232.12060546875,
          6586.5849609375,
          7911.7626953125,
          8973.578125,
          8078.630859375,
          8619.9814453125,
          8063.25146484375,
          9311.41015625
         ]
        }
       ],
       "layout": {
        "height": 1120,
        "hovermode": "closest",
        "legend": {
         "x": 0.01,
         "xanchor": "left",
         "y": 0.99,
         "yanchor": "top"
        },
        "template": {
         "data": {
          "bar": [
           {
            "error_x": {
             "color": "#2a3f5f"
            },
            "error_y": {
             "color": "#2a3f5f"
            },
            "marker": {
             "line": {
              "color": "white",
              "width": 0.5
             },
             "pattern": {
              "fillmode": "overlay",
              "size": 10,
              "solidity": 0.2
             }
            },
            "type": "bar"
           }
          ],
          "barpolar": [
           {
            "marker": {
             "line": {
              "color": "white",
              "width": 0.5
             },
             "pattern": {
              "fillmode": "overlay",
              "size": 10,
              "solidity": 0.2
             }
            },
            "type": "barpolar"
           }
          ],
          "carpet": [
           {
            "aaxis": {
             "endlinecolor": "#2a3f5f",
             "gridcolor": "#C8D4E3",
             "linecolor": "#C8D4E3",
             "minorgridcolor": "#C8D4E3",
             "startlinecolor": "#2a3f5f"
            },
            "baxis": {
             "endlinecolor": "#2a3f5f",
             "gridcolor": "#C8D4E3",
             "linecolor": "#C8D4E3",
             "minorgridcolor": "#C8D4E3",
             "startlinecolor": "#2a3f5f"
            },
            "type": "carpet"
           }
          ],
          "choropleth": [
           {
            "colorbar": {
             "outlinewidth": 0,
             "ticks": ""
            },
            "type": "choropleth"
           }
          ],
          "contour": [
           {
            "colorbar": {
             "outlinewidth": 0,
             "ticks": ""
            },
            "colorscale": [
             [
              0,
              "#0d0887"
             ],
             [
              0.1111111111111111,
              "#46039f"
             ],
             [
              0.2222222222222222,
              "#7201a8"
             ],
             [
              0.3333333333333333,
              "#9c179e"
             ],
             [
              0.4444444444444444,
              "#bd3786"
             ],
             [
              0.5555555555555556,
              "#d8576b"
             ],
             [
              0.6666666666666666,
              "#ed7953"
             ],
             [
              0.7777777777777778,
              "#fb9f3a"
             ],
             [
              0.8888888888888888,
              "#fdca26"
             ],
             [
              1,
              "#f0f921"
             ]
            ],
            "type": "contour"
           }
          ],
          "contourcarpet": [
           {
            "colorbar": {
             "outlinewidth": 0,
             "ticks": ""
            },
            "type": "contourcarpet"
           }
          ],
          "heatmap": [
           {
            "colorbar": {
             "outlinewidth": 0,
             "ticks": ""
            },
            "colorscale": [
             [
              0,
              "#0d0887"
             ],
             [
              0.1111111111111111,
              "#46039f"
             ],
             [
              0.2222222222222222,
              "#7201a8"
             ],
             [
              0.3333333333333333,
              "#9c179e"
             ],
             [
              0.4444444444444444,
              "#bd3786"
             ],
             [
              0.5555555555555556,
              "#d8576b"
             ],
             [
              0.6666666666666666,
              "#ed7953"
             ],
             [
              0.7777777777777778,
              "#fb9f3a"
             ],
             [
              0.8888888888888888,
              "#fdca26"
             ],
             [
              1,
              "#f0f921"
             ]
            ],
            "type": "heatmap"
           }
          ],
          "heatmapgl": [
           {
            "colorbar": {
             "outlinewidth": 0,
             "ticks": ""
            },
            "colorscale": [
             [
              0,
              "#0d0887"
             ],
             [
              0.1111111111111111,
              "#46039f"
             ],
             [
              0.2222222222222222,
              "#7201a8"
             ],
             [
              0.3333333333333333,
              "#9c179e"
             ],
             [
              0.4444444444444444,
              "#bd3786"
             ],
             [
              0.5555555555555556,
              "#d8576b"
             ],
             [
              0.6666666666666666,
              "#ed7953"
             ],
             [
              0.7777777777777778,
              "#fb9f3a"
             ],
             [
              0.8888888888888888,
              "#fdca26"
             ],
             [
              1,
              "#f0f921"
             ]
            ],
            "type": "heatmapgl"
           }
          ],
          "histogram": [
           {
            "marker": {
             "pattern": {
              "fillmode": "overlay",
              "size": 10,
              "solidity": 0.2
             }
            },
            "type": "histogram"
           }
          ],
          "histogram2d": [
           {
            "colorbar": {
             "outlinewidth": 0,
             "ticks": ""
            },
            "colorscale": [
             [
              0,
              "#0d0887"
             ],
             [
              0.1111111111111111,
              "#46039f"
             ],
             [
              0.2222222222222222,
              "#7201a8"
             ],
             [
              0.3333333333333333,
              "#9c179e"
             ],
             [
              0.4444444444444444,
              "#bd3786"
             ],
             [
              0.5555555555555556,
              "#d8576b"
             ],
             [
              0.6666666666666666,
              "#ed7953"
             ],
             [
              0.7777777777777778,
              "#fb9f3a"
             ],
             [
              0.8888888888888888,
              "#fdca26"
             ],
             [
              1,
              "#f0f921"
             ]
            ],
            "type": "histogram2d"
           }
          ],
          "histogram2dcontour": [
           {
            "colorbar": {
             "outlinewidth": 0,
             "ticks": ""
            },
            "colorscale": [
             [
              0,
              "#0d0887"
             ],
             [
              0.1111111111111111,
              "#46039f"
             ],
             [
              0.2222222222222222,
              "#7201a8"
             ],
             [
              0.3333333333333333,
              "#9c179e"
             ],
             [
              0.4444444444444444,
              "#bd3786"
             ],
             [
              0.5555555555555556,
              "#d8576b"
             ],
             [
              0.6666666666666666,
              "#ed7953"
             ],
             [
              0.7777777777777778,
              "#fb9f3a"
             ],
             [
              0.8888888888888888,
              "#fdca26"
             ],
             [
              1,
              "#f0f921"
             ]
            ],
            "type": "histogram2dcontour"
           }
          ],
          "mesh3d": [
           {
            "colorbar": {
             "outlinewidth": 0,
             "ticks": ""
            },
            "type": "mesh3d"
           }
          ],
          "parcoords": [
           {
            "line": {
             "colorbar": {
              "outlinewidth": 0,
              "ticks": ""
             }
            },
            "type": "parcoords"
           }
          ],
          "pie": [
           {
            "automargin": true,
            "type": "pie"
           }
          ],
          "scatter": [
           {
            "fillpattern": {
             "fillmode": "overlay",
             "size": 10,
             "solidity": 0.2
            },
            "type": "scatter"
           }
          ],
          "scatter3d": [
           {
            "line": {
             "colorbar": {
              "outlinewidth": 0,
              "ticks": ""
             }
            },
            "marker": {
             "colorbar": {
              "outlinewidth": 0,
              "ticks": ""
             }
            },
            "type": "scatter3d"
           }
          ],
          "scattercarpet": [
           {
            "marker": {
             "colorbar": {
              "outlinewidth": 0,
              "ticks": ""
             }
            },
            "type": "scattercarpet"
           }
          ],
          "scattergeo": [
           {
            "marker": {
             "colorbar": {
              "outlinewidth": 0,
              "ticks": ""
             }
            },
            "type": "scattergeo"
           }
          ],
          "scattergl": [
           {
            "marker": {
             "colorbar": {
              "outlinewidth": 0,
              "ticks": ""
             }
            },
            "type": "scattergl"
           }
          ],
          "scattermapbox": [
           {
            "marker": {
             "colorbar": {
              "outlinewidth": 0,
              "ticks": ""
             }
            },
            "type": "scattermapbox"
           }
          ],
          "scatterpolar": [
           {
            "marker": {
             "colorbar": {
              "outlinewidth": 0,
              "ticks": ""
             }
            },
            "type": "scatterpolar"
           }
          ],
          "scatterpolargl": [
           {
            "marker": {
             "colorbar": {
              "outlinewidth": 0,
              "ticks": ""
             }
            },
            "type": "scatterpolargl"
           }
          ],
          "scatterternary": [
           {
            "marker": {
             "colorbar": {
              "outlinewidth": 0,
              "ticks": ""
             }
            },
            "type": "scatterternary"
           }
          ],
          "surface": [
           {
            "colorbar": {
             "outlinewidth": 0,
             "ticks": ""
            },
            "colorscale": [
             [
              0,
              "#0d0887"
             ],
             [
              0.1111111111111111,
              "#46039f"
             ],
             [
              0.2222222222222222,
              "#7201a8"
             ],
             [
              0.3333333333333333,
              "#9c179e"
             ],
             [
              0.4444444444444444,
              "#bd3786"
             ],
             [
              0.5555555555555556,
              "#d8576b"
             ],
             [
              0.6666666666666666,
              "#ed7953"
             ],
             [
              0.7777777777777778,
              "#fb9f3a"
             ],
             [
              0.8888888888888888,
              "#fdca26"
             ],
             [
              1,
              "#f0f921"
             ]
            ],
            "type": "surface"
           }
          ],
          "table": [
           {
            "cells": {
             "fill": {
              "color": "#EBF0F8"
             },
             "line": {
              "color": "white"
             }
            },
            "header": {
             "fill": {
              "color": "#C8D4E3"
             },
             "line": {
              "color": "white"
             }
            },
            "type": "table"
           }
          ]
         },
         "layout": {
          "annotationdefaults": {
           "arrowcolor": "#2a3f5f",
           "arrowhead": 0,
           "arrowwidth": 1
          },
          "autotypenumbers": "strict",
          "coloraxis": {
           "colorbar": {
            "outlinewidth": 0,
            "ticks": ""
           }
          },
          "colorscale": {
           "diverging": [
            [
             0,
             "#8e0152"
            ],
            [
             0.1,
             "#c51b7d"
            ],
            [
             0.2,
             "#de77ae"
            ],
            [
             0.3,
             "#f1b6da"
            ],
            [
             0.4,
             "#fde0ef"
            ],
            [
             0.5,
             "#f7f7f7"
            ],
            [
             0.6,
             "#e6f5d0"
            ],
            [
             0.7,
             "#b8e186"
            ],
            [
             0.8,
             "#7fbc41"
            ],
            [
             0.9,
             "#4d9221"
            ],
            [
             1,
             "#276419"
            ]
           ],
           "sequential": [
            [
             0,
             "#0d0887"
            ],
            [
             0.1111111111111111,
             "#46039f"
            ],
            [
             0.2222222222222222,
             "#7201a8"
            ],
            [
             0.3333333333333333,
             "#9c179e"
            ],
            [
             0.4444444444444444,
             "#bd3786"
            ],
            [
             0.5555555555555556,
             "#d8576b"
            ],
            [
             0.6666666666666666,
             "#ed7953"
            ],
            [
             0.7777777777777778,
             "#fb9f3a"
            ],
            [
             0.8888888888888888,
             "#fdca26"
            ],
            [
             1,
             "#f0f921"
            ]
           ],
           "sequentialminus": [
            [
             0,
             "#0d0887"
            ],
            [
             0.1111111111111111,
             "#46039f"
            ],
            [
             0.2222222222222222,
             "#7201a8"
            ],
            [
             0.3333333333333333,
             "#9c179e"
            ],
            [
             0.4444444444444444,
             "#bd3786"
            ],
            [
             0.5555555555555556,
             "#d8576b"
            ],
            [
             0.6666666666666666,
             "#ed7953"
            ],
            [
             0.7777777777777778,
             "#fb9f3a"
            ],
            [
             0.8888888888888888,
             "#fdca26"
            ],
            [
             1,
             "#f0f921"
            ]
           ]
          },
          "colorway": [
           "#636efa",
           "#EF553B",
           "#00cc96",
           "#ab63fa",
           "#FFA15A",
           "#19d3f3",
           "#FF6692",
           "#B6E880",
           "#FF97FF",
           "#FECB52"
          ],
          "font": {
           "color": "#2a3f5f"
          },
          "geo": {
           "bgcolor": "white",
           "lakecolor": "white",
           "landcolor": "white",
           "showlakes": true,
           "showland": true,
           "subunitcolor": "#C8D4E3"
          },
          "hoverlabel": {
           "align": "left"
          },
          "hovermode": "closest",
          "mapbox": {
           "style": "light"
          },
          "paper_bgcolor": "white",
          "plot_bgcolor": "white",
          "polar": {
           "angularaxis": {
            "gridcolor": "#EBF0F8",
            "linecolor": "#EBF0F8",
            "ticks": ""
           },
           "bgcolor": "white",
           "radialaxis": {
            "gridcolor": "#EBF0F8",
            "linecolor": "#EBF0F8",
            "ticks": ""
           }
          },
          "scene": {
           "xaxis": {
            "backgroundcolor": "white",
            "gridcolor": "#DFE8F3",
            "gridwidth": 2,
            "linecolor": "#EBF0F8",
            "showbackground": true,
            "ticks": "",
            "zerolinecolor": "#EBF0F8"
           },
           "yaxis": {
            "backgroundcolor": "white",
            "gridcolor": "#DFE8F3",
            "gridwidth": 2,
            "linecolor": "#EBF0F8",
            "showbackground": true,
            "ticks": "",
            "zerolinecolor": "#EBF0F8"
           },
           "zaxis": {
            "backgroundcolor": "white",
            "gridcolor": "#DFE8F3",
            "gridwidth": 2,
            "linecolor": "#EBF0F8",
            "showbackground": true,
            "ticks": "",
            "zerolinecolor": "#EBF0F8"
           }
          },
          "shapedefaults": {
           "line": {
            "color": "#2a3f5f"
           }
          },
          "ternary": {
           "aaxis": {
            "gridcolor": "#DFE8F3",
            "linecolor": "#A2B1C6",
            "ticks": ""
           },
           "baxis": {
            "gridcolor": "#DFE8F3",
            "linecolor": "#A2B1C6",
            "ticks": ""
           },
           "bgcolor": "white",
           "caxis": {
            "gridcolor": "#DFE8F3",
            "linecolor": "#A2B1C6",
            "ticks": ""
           }
          },
          "title": {
           "x": 0.05
          },
          "xaxis": {
           "automargin": true,
           "gridcolor": "#EBF0F8",
           "linecolor": "#EBF0F8",
           "ticks": "",
           "title": {
            "standoff": 15
           },
           "zerolinecolor": "#EBF0F8",
           "zerolinewidth": 2
          },
          "yaxis": {
           "automargin": true,
           "gridcolor": "#EBF0F8",
           "linecolor": "#EBF0F8",
           "ticks": "",
           "title": {
            "standoff": 15
           },
           "zerolinecolor": "#EBF0F8",
           "zerolinewidth": 2
          }
         }
        },
        "title": {
         "text": "Andamento dei prezzi e transazioni"
        },
        "width": 1600,
        "xaxis": {
         "rangeslider": {
          "visible": true
         },
         "title": {
          "text": "Data"
         },
         "type": "date"
        },
        "yaxis": {
         "title": {
          "text": "Prezzo (€)"
         }
        }
       }
      }
     },
     "metadata": {},
     "output_type": "display_data"
    }
   ],
   "source": [
    "# Preparazione dei dati per il grafico\n",
    "acquisti = df_transazioni[df_transazioni['azione'] == 'Acquisto']\n",
    "vendite = df_transazioni[df_transazioni['azione'] == 'Vendita']\n",
    "\n",
    "# Calcolo delle dimensioni dei punti\n",
    "max_acquisto = acquisti['quantità_euro'].max()\n",
    "max_vendita = vendite['quantità_euro'].max()\n",
    "\n",
    "def calcola_dimensione(quantita, max_quantita, min_size=10, max_size=50):\n",
    "    return min_size + (max_size - min_size) * (quantita / max_quantita) if pd.notna(quantita) and max_quantita != 0 else None\n",
    "\n",
    "# Dimensioni dei punti per acquisti e vendite\n",
    "dimensioni_acquisti = acquisti['quantità_euro'].apply(lambda x: calcola_dimensione(x, max_acquisto))\n",
    "dimensioni_vendite = vendite['quantità_euro'].apply(lambda x: calcola_dimensione(x, max_vendita))\n",
    "\n",
    "# Funzione per formattare in modo sicuro solo i prezzi\n",
    "def safe_format(value, precision=2):\n",
    "    return f\"{value:.{precision}f}\" if pd.notna(value) else \"None\"\n",
    "\n",
    "# Creazione del grafico dei prezzi con le transazioni\n",
    "fig = go.Figure()\n",
    "\n",
    "# Linea dell'andamento dei prezzi\n",
    "fig.add_trace(go.Scatter(\n",
    "    x=df_transazioni['data'], \n",
    "    y=df_transazioni['prezzo'],\n",
    "    mode='lines',\n",
    "    name='Prezzi',\n",
    "    line=dict(color='blue', width=2),\n",
    "    text=[\n",
    "        f\"Timestamp: {data}<br>Prezzo: {safe_format(p)} €<br>Variazione giornaliera: {v or 'None'}<br>Timestamp riferimento discesa: {trd or 'None'}<br>Prezzo riferimento discesa: {safe_format(prd)}<br>Variazione rispetto riferimento discesa: {vrrd or 'None'} %<br>Timestamp riferimento salita: {trs or 'None'}<br>Prezzo riferimento salita: {safe_format(prs)}<br>Variazione rispetto riferimento salita: {vrrs or 'None'} %\"\n",
    "        for data, p, v, trd, prd, vrrd, trs, prs, vrrs in zip(\n",
    "            df_transazioni['data'], \n",
    "            df_transazioni['prezzo'], \n",
    "            df_transazioni['variazione_giornaliera_prezzo_percentuale'], \n",
    "            df_transazioni['timestamp_riferimento_discesa'], \n",
    "            df_transazioni['prezzo_riferimento_discesa'], \n",
    "            df_transazioni['variazione_rispetto_riferimento_discesa'], \n",
    "            df_transazioni['timestamp_riferimento_salita'], \n",
    "            df_transazioni['prezzo_riferimento_salita'], \n",
    "            df_transazioni['variazione_rispetto_riferimento_salita']\n",
    "        )\n",
    "    ],\n",
    "    hoverinfo='text'\n",
    "))\n",
    "\n",
    "if len(acquisti) > 0:\n",
    "    # Scatter plot per gli acquisti\n",
    "    fig.add_trace(go.Scatter(\n",
    "        x=acquisti['data'], \n",
    "        y=acquisti['prezzo'],\n",
    "        mode='markers', \n",
    "        name='Acquisti',\n",
    "        marker=dict(color='green', size=dimensioni_acquisti, opacity=0.7),\n",
    "        text=[\n",
    "            f\"Timestamp: {data}<br>Prezzo: {safe_format(p)} €<br>Euro usati: {e or 'None'} €<br>Variazione giornaliera: {v or 'None'}<br>Timestamp riferimento discesa: {trd or 'None'}<br>Prezzo riferimento discesa: {safe_format(prd)}<br>Variazione rispetto riferimento discesa: {vrrd or 'None'}<br>Timestamp riferimento salita: {trs or 'None'}<br>Prezzo riferimento salita: {safe_format(prs)}<br>Variazione rispetto riferimento salita: {vrrs or 'None'}\"\n",
    "            for data, p, e, v, trd, prd, vrrd, trs, prs, vrrs in zip(\n",
    "                acquisti['data'], \n",
    "                acquisti['prezzo'], \n",
    "                acquisti['quantità_euro'], \n",
    "                acquisti['variazione_giornaliera_prezzo_percentuale'], \n",
    "                acquisti['timestamp_riferimento_discesa'], \n",
    "                acquisti['prezzo_riferimento_discesa'], \n",
    "                acquisti['variazione_rispetto_riferimento_discesa'], \n",
    "                acquisti['timestamp_riferimento_salita'], \n",
    "                acquisti['prezzo_riferimento_salita'], \n",
    "                acquisti['variazione_rispetto_riferimento_salita']\n",
    "            )\n",
    "        ],\n",
    "        hoverinfo='text'\n",
    "    ))\n",
    "\n",
    "if len(vendite) > 0:\n",
    "    # Scatter plot per le vendite\n",
    "    fig.add_trace(go.Scatter(\n",
    "        x=vendite['data'], \n",
    "        y=vendite['prezzo'],\n",
    "        mode='markers', \n",
    "        name='Vendite',\n",
    "        marker=dict(color='red', size=dimensioni_vendite, opacity=0.7),\n",
    "        text=[\n",
    "            f\"Timestamp: {data}<br>Prezzo: {safe_format(p)} €<br>Euro usati: {e or 'None'} €<br>Variazione giornaliera: {v or 'None'}<br>Timestamp riferimento discesa: {trd or 'None'}<br>Prezzo riferimento discesa: {safe_format(prd)}<br>Variazione rispetto riferimento discesa: {vrrd or 'None'}<br>Timestamp riferimento salita: {trs or 'None'}<br>Prezzo riferimento salita: {safe_format(prs)}<br>Variazione rispetto riferimento salita: {vrrs or 'None'}\"\n",
    "            for data, p, e, v, trd, prd, vrrd, trs, prs, vrrs in zip(\n",
    "                vendite['data'], \n",
    "                vendite['prezzo'], \n",
    "                vendite['quantità_euro'], \n",
    "                vendite['variazione_giornaliera_prezzo_percentuale'], \n",
    "                vendite['timestamp_riferimento_discesa'], \n",
    "                vendite['prezzo_riferimento_discesa'], \n",
    "                vendite['variazione_rispetto_riferimento_discesa'], \n",
    "                vendite['timestamp_riferimento_salita'], \n",
    "                vendite['prezzo_riferimento_salita'], \n",
    "                vendite['variazione_rispetto_riferimento_salita']\n",
    "            )\n",
    "        ],\n",
    "        hoverinfo='text'\n",
    "    ))\n",
    "\n",
    "\n",
    "# Configurazione del layout con range slider sull'asse X\n",
    "fig.update_layout(\n",
    "    title='Andamento dei prezzi e transazioni',\n",
    "    xaxis_title='Data',\n",
    "    yaxis_title='Prezzo (€)',\n",
    "    hovermode='closest',\n",
    "    template='plotly_white',\n",
    "    legend=dict(yanchor=\"top\", y=0.99, xanchor=\"left\", x=0.01),\n",
    "    width = 1600,\n",
    "    height = 7/10 * 1600,\n",
    "    \n",
    "    # Aggiunta del range slider\n",
    "    xaxis=dict(\n",
    "        rangeslider=dict(visible=True),  # Abilita il range slider\n",
    "        type=\"date\"  # Imposta l'asse x come asse temporale\n",
    "    )\n",
    ")\n",
    "\n",
    "# Mostra il grafico\n",
    "fig.show()"
   ]
  },
  {
   "cell_type": "code",
   "execution_count": 18,
   "metadata": {},
   "outputs": [
    {
     "data": {
      "text/html": [
       "<div>\n",
       "<style scoped>\n",
       "    .dataframe tbody tr th:only-of-type {\n",
       "        vertical-align: middle;\n",
       "    }\n",
       "\n",
       "    .dataframe tbody tr th {\n",
       "        vertical-align: top;\n",
       "    }\n",
       "\n",
       "    .dataframe thead th {\n",
       "        text-align: right;\n",
       "    }\n",
       "</style>\n",
       "<table border=\"1\" class=\"dataframe\">\n",
       "  <thead>\n",
       "    <tr style=\"text-align: right;\">\n",
       "      <th></th>\n",
       "      <th>Timestamp</th>\n",
       "      <th>Price</th>\n",
       "      <th>Variazione</th>\n",
       "    </tr>\n",
       "  </thead>\n",
       "  <tbody>\n",
       "    <tr>\n",
       "      <th>0</th>\n",
       "      <td>2020-02-29</td>\n",
       "      <td>7798.025879</td>\n",
       "      <td>NaN</td>\n",
       "    </tr>\n",
       "    <tr>\n",
       "      <th>1</th>\n",
       "      <td>2020-03-01</td>\n",
       "      <td>7748.164551</td>\n",
       "      <td>0.993606</td>\n",
       "    </tr>\n",
       "    <tr>\n",
       "      <th>2</th>\n",
       "      <td>2020-03-02</td>\n",
       "      <td>7959.358398</td>\n",
       "      <td>1.027257</td>\n",
       "    </tr>\n",
       "    <tr>\n",
       "      <th>3</th>\n",
       "      <td>2020-03-03</td>\n",
       "      <td>7862.485352</td>\n",
       "      <td>0.987829</td>\n",
       "    </tr>\n",
       "    <tr>\n",
       "      <th>4</th>\n",
       "      <td>2020-03-04</td>\n",
       "      <td>7861.055176</td>\n",
       "      <td>0.999818</td>\n",
       "    </tr>\n",
       "    <tr>\n",
       "      <th>...</th>\n",
       "      <td>...</td>\n",
       "      <td>...</td>\n",
       "      <td>...</td>\n",
       "    </tr>\n",
       "    <tr>\n",
       "      <th>181</th>\n",
       "      <td>2020-08-28</td>\n",
       "      <td>9695.468750</td>\n",
       "      <td>1.011939</td>\n",
       "    </tr>\n",
       "    <tr>\n",
       "      <th>182</th>\n",
       "      <td>2020-08-29</td>\n",
       "      <td>9664.351562</td>\n",
       "      <td>0.996791</td>\n",
       "    </tr>\n",
       "    <tr>\n",
       "      <th>183</th>\n",
       "      <td>2020-08-30</td>\n",
       "      <td>9824.922852</td>\n",
       "      <td>1.016615</td>\n",
       "    </tr>\n",
       "    <tr>\n",
       "      <th>184</th>\n",
       "      <td>2020-08-31</td>\n",
       "      <td>9785.023438</td>\n",
       "      <td>0.995939</td>\n",
       "    </tr>\n",
       "    <tr>\n",
       "      <th>185</th>\n",
       "      <td>2020-09-01</td>\n",
       "      <td>10038.563477</td>\n",
       "      <td>1.025911</td>\n",
       "    </tr>\n",
       "  </tbody>\n",
       "</table>\n",
       "<p>186 rows × 3 columns</p>\n",
       "</div>"
      ],
      "text/plain": [
       "     Timestamp         Price  Variazione\n",
       "0   2020-02-29   7798.025879         NaN\n",
       "1   2020-03-01   7748.164551    0.993606\n",
       "2   2020-03-02   7959.358398    1.027257\n",
       "3   2020-03-03   7862.485352    0.987829\n",
       "4   2020-03-04   7861.055176    0.999818\n",
       "..         ...           ...         ...\n",
       "181 2020-08-28   9695.468750    1.011939\n",
       "182 2020-08-29   9664.351562    0.996791\n",
       "183 2020-08-30   9824.922852    1.016615\n",
       "184 2020-08-31   9785.023438    0.995939\n",
       "185 2020-09-01  10038.563477    1.025911\n",
       "\n",
       "[186 rows x 3 columns]"
      ]
     },
     "execution_count": 18,
     "metadata": {},
     "output_type": "execute_result"
    }
   ],
   "source": [
    "dati"
   ]
  },
  {
   "cell_type": "code",
   "execution_count": 19,
   "metadata": {},
   "outputs": [
    {
     "data": {
      "image/png": "[encoded data removed]",
      "text/plain": [
       "<Figure size 1000x600 with 1 Axes>"
      ]
     },
     "metadata": {},
     "output_type": "display_data"
    }
   ],
   "source": [
    "# Assicurati che la colonna 'Data' sia in formato datetime\n",
    "df_transazioni['data'] = pd.to_datetime(df_transazioni['data'])\n",
    "\n",
    "# Crea il plot dell'equity line\n",
    "plt.figure(figsize=(10, 6))\n",
    "plt.plot(df_transazioni['data'], df_transazioni['valore_totale_portafoglio'], label='Equity Line', color='b', linewidth=2)\n",
    "\n",
    "# Aggiungi titolo e etichette agli assi\n",
    "plt.title('Equity Line del Portafoglio', fontsize=16)\n",
    "plt.xlabel('Data', fontsize=12)\n",
    "plt.ylabel('Valore Totale Portafoglio (€)', fontsize=12)\n",
    "\n",
    "# Aggiungi una griglia per una migliore leggibilità\n",
    "plt.grid(True)\n",
    "\n",
    "# Aggiungi una legenda\n",
    "plt.legend()\n",
    "\n",
    "# Mostra il grafico\n",
    "plt.xticks(rotation=45)  # Ruota le etichette dell'asse x per migliore leggibilità\n",
    "plt.tight_layout()  # Migliora il layout del grafico\n",
    "plt.show()"
   ]
  },
  {
   "cell_type": "code",
   "execution_count": 20,
   "metadata": {},
   "outputs": [],
   "source": [
    "def calcola_rendimento_portafoglio_ideale(capitale_iniziale, bitcoin_iniziali, lista_prezzi, min_acquisto, min_vendita, perc_commissione_acquisto, perc_commissione_vendita):\n",
    "    capitale = capitale_iniziale\n",
    "    bitcoin = bitcoin_iniziali\n",
    "    comprato = False\n",
    "\n",
    "    for i in range(len(lista_prezzi) - 1):\n",
    "        # Compra al minimo\n",
    "        if lista_prezzi[i] < lista_prezzi[i + 1] and not comprato and capitale >= min_acquisto:\n",
    "            bitcoin_acquistati = (capitale * (1 - perc_commissione_acquisto)) / lista_prezzi[i]\n",
    "            bitcoin += bitcoin_acquistati\n",
    "            capitale = 0\n",
    "            comprato = True\n",
    "            # print(f'Bitcoin posseduti: {bitcoin}')\n",
    "        # Vende al massimo\n",
    "        elif lista_prezzi[i] > lista_prezzi[i + 1] and comprato and bitcoin * lista_prezzi[i] >= min_vendita:\n",
    "            capitale_vendita = bitcoin * lista_prezzi[i] * (1 - perc_commissione_vendita)\n",
    "            capitale += capitale_vendita\n",
    "            bitcoin = 0\n",
    "            comprato = False\n",
    "            # print(f'Capitale posseduto: {capitale}')\n",
    "\n",
    "    # Vende i bitcoin rimasti all'ultimo prezzo\n",
    "    if comprato and bitcoin * lista_prezzi.iloc[-1] >= min_vendita:\n",
    "        capitale += bitcoin * lista_prezzi.iloc[-1] * (1 - perc_commissione_vendita)\n",
    "        bitcoin = 0\n",
    "        # print(f'Capitale posseduto: {capitale}')\n",
    "        # print(f'Bitcoin posseduti: {bitcoin}')\n",
    "\n",
    "    valore_iniziale = capitale_iniziale + bitcoin_iniziali * lista_prezzi[0]\n",
    "    valore_finale = capitale + bitcoin * lista_prezzi.iloc[-1]\n",
    "\n",
    "    rendimento = valore_finale / valore_iniziale\n",
    "\n",
    "    return [rendimento, valore_finale]"
   ]
  },
  {
   "cell_type": "code",
   "execution_count": 25,
   "metadata": {},
   "outputs": [
    {
     "name": "stdout",
     "output_type": "stream",
     "text": [
      "Rendimento ideale: 11.157643238313565\n",
      "Portafoglio finale ideale in euro: 11157.643238313565\n",
      "Rendimento del portafoglio: 2.239352162942267\n",
      "Punteggio rendimento: 20.07%\n",
      "Valore finale del portafoglio in euro: 2239.352162942267\n"
     ]
    }
   ],
   "source": [
    "rendimento_ideale, portafoglio_finale_ideale = calcola_rendimento_portafoglio_ideale(liquidità_iniziale, bitcoin_iniziali, dati['Price'], 0, 0, 0, 0)\n",
    "print('Rendimento ideale:', rendimento_ideale)\n",
    "print('Portafoglio finale ideale in euro:', portafoglio_finale_ideale)\n",
    "\n",
    "valore_iniziale = df_transazioni['valore_totale_portafoglio'].iloc[0]\n",
    "valore_finale = df_transazioni['valore_totale_portafoglio'].iloc[-1]\n",
    "rendimento = valore_finale / valore_iniziale\n",
    "\n",
    "print(f\"Rendimento del portafoglio: {rendimento}\")\n",
    "print(f'Punteggio rendimento: {round(rendimento / rendimento_ideale *100, 2)}%')\n",
    "print(f\"Valore finale del portafoglio in euro: {df_transazioni['valore_totale_portafoglio'].iloc[-1]}\")"
   ]
  },
  {
   "cell_type": "code",
   "execution_count": 24,
   "metadata": {},
   "outputs": [],
   "source": [
    "# periodo 1: Dicembre 2020 - Aprile 2021; periodo 2: Maggio 2021 - Luglio 2021; periodo 3: Luglio 2022 - Ottobre 2022\n",
    "\n",
    "# Set 1:\n",
    "# inverti_riferimento_acquisto = False\n",
    "# inverti_riferimento_vendita = True\n",
    "# acquisto_rispetto_liquidità_iniziale = True\n",
    "# compra_pure = False\n",
    "# vendi_pure = True\n",
    "# soglia_vendita = -np.inf (nessuna soglia specifica per la vendita)\n",
    "# coefficienti_acquisto = [0, 1.5] (più conservativo)\n",
    "# coefficienti_vendita = [0, 1.5] (più conservativo)\n",
    "# compra_solo_in_discesa = True (acquisti solo in discesa)\n",
    "# vendi_solo_in_salita = True (vendite solo in salita)\n",
    "# soglia_acquisto_rispetto_riferimento = 0.15 (acquisti solo se sceso almeno del 15% rispetto al riferimento)\n",
    "# soglia_vendita_rispetto_riferimento = 0.1 (vendite se salito del 10% rispetto al riferimento)\n",
    "# soglia_calcolo_variazioni_discesa = 0.1 (soglia per individuare trend ribassisti)\n",
    "# soglia_calcolo_variazioni_salita = 0.1 (soglia per individuare trend rialzisti)\n",
    "\n",
    "# Set 2:\n",
    "# inverti_riferimento_acquisto = True\n",
    "# inverti_riferimento_vendita = False\n",
    "# acquisto_rispetto_liquidità_iniziale = False\n",
    "# compra_pure = True\n",
    "# vendi_pure = True\n",
    "# soglia_vendita = 0.05 (vendite solo se sopra il 5% rispetto alla media degli acquisti)\n",
    "# coefficienti_acquisto = [0, 2.5] (aggressivo, acquisti maggiori)\n",
    "# coefficienti_vendita = [0, 2.5] (aggressivo, vendite maggiori)\n",
    "# compra_solo_in_discesa = False (puoi comprare anche in salita)\n",
    "# vendi_solo_in_salita = False (puoi vendere anche in discesa)\n",
    "# soglia_acquisto_rispetto_riferimento = 0.1 (acquisti se sceso del 10%)\n",
    "# soglia_vendita_rispetto_riferimento = 0.1 (vendite se salito del 10%)\n",
    "# soglia_calcolo_variazioni_discesa = 0.05 (individua trend ribassisti con soglia bassa)\n",
    "# soglia_calcolo_variazioni_salita = 0.05 (trend rialzisti con soglia bassa)\n",
    "\n",
    "# Set 3:\n",
    "# inverti_riferimento_acquisto = False\n",
    "# inverti_riferimento_vendita = True\n",
    "# acquisto_rispetto_liquidità_iniziale = True\n",
    "# compra_pure = True\n",
    "# vendi_pure = False\n",
    "# soglia_vendita = 0.1 (vendite se sopra il 10% rispetto alla media degli acquisti)\n",
    "# coefficienti_acquisto = [0, 2] (bilanciato)\n",
    "# coefficienti_vendita = [0, 2] (bilanciato)\n",
    "# compra_solo_in_discesa = True\n",
    "# vendi_solo_in_salita = True\n",
    "# soglia_acquisto_rispetto_riferimento = 0.05\n",
    "# soglia_vendita_rispetto_riferimento = 0.05\n",
    "# soglia_calcolo_variazioni_discesa = 0.1\n",
    "# soglia_calcolo_variazioni_salita = 0.1\n",
    "\n",
    "# Set 4:\n",
    "# inverti_riferimento_acquisto = True\n",
    "# inverti_riferimento_vendita = True\n",
    "# acquisto_rispetto_liquidità_iniziale = False\n",
    "# compra_pure = True\n",
    "# vendi_pure = True\n",
    "# soglia_vendita = 0.15 (vendite sopra il 15% rispetto alla media degli acquisti)\n",
    "# coefficienti_acquisto = [0, 3] (speculativo, acquisti aggressivi)\n",
    "# coefficienti_vendita = [0, 3] (speculativo, vendite aggressive)\n",
    "# compra_solo_in_discesa = False\n",
    "# vendi_solo_in_salita = False\n",
    "# soglia_acquisto_rispetto_riferimento = 0.15\n",
    "# soglia_vendita_rispetto_riferimento = 0.15\n",
    "# soglia_calcolo_variazioni_discesa = 0.15\n",
    "# soglia_calcolo_variazioni_salita = 0.15\n",
    "\n",
    "# Risultati:\n",
    "# Set 1: 33%, -2%, 7%\n",
    "# Set 2: 44%, -9%, 6%\n",
    "# Set 3: 88%, -5%, 6%\n",
    "# Set 4: 26%, 15%, 0%"
   ]
  },
  {
   "cell_type": "markdown",
   "metadata": {},
   "source": [
    "## Algoritmo con variabili dinamiche tramite grid search integrata"
   ]
  },
  {
   "cell_type": "code",
   "execution_count": null,
   "metadata": {},
   "outputs": [],
   "source": []
  }
 ],
 "metadata": {
  "kernelspec": {
   "display_name": "myenv",
   "language": "python",
   "name": "python3"
  },
  "language_info": {
   "codemirror_mode": {
    "name": "ipython",
    "version": 3
   },
   "file_extension": ".py",
   "mimetype": "text/x-python",
   "name": "python",
   "nbconvert_exporter": "python",
   "pygments_lexer": "ipython3",
   "version": "3.10.9"
  }
 },
 "nbformat": 4,
 "nbformat_minor": 2
}
