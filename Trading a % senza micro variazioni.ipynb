{
 "cells": [
  {
   "cell_type": "code",
   "execution_count": 73,
   "metadata": {},
   "outputs": [],
   "source": [
    "import numpy as np\n",
    "import pandas as pd\n",
    "import plotly.graph_objects as go\n",
    "import matplotlib.pyplot as plt"
   ]
  },
  {
   "cell_type": "code",
   "execution_count": 74,
   "metadata": {},
   "outputs": [],
   "source": [
    "import warnings\n",
    "warnings.simplefilter(action='ignore', category=FutureWarning)\n",
    "\n",
    "# Sopprimi i RuntimeWarning\n",
    "warnings.filterwarnings(\"ignore\", category=RuntimeWarning)"
   ]
  },
  {
   "cell_type": "markdown",
   "metadata": {},
   "source": [
    "## Studio algoritmi per trovare i prezzi di riferimento per il calcolo delle variazioni di prezzo"
   ]
  },
  {
   "cell_type": "code",
   "execution_count": 75,
   "metadata": {},
   "outputs": [],
   "source": [
    "# Funzione per generare prezzi casuali basati su una distribuzione delle variazioni\n",
    "def genera_prezzi(num_giorni, distribuzione_variazioni):\n",
    "    np.random.seed(0)  # Per riproducibilità\n",
    "    prezzi = [100]  # Prezzo iniziale\n",
    "    variazioni = np.random.choice(list(distribuzione_variazioni.keys()), \n",
    "                                  size=num_giorni-1, \n",
    "                                  p=list(distribuzione_variazioni.values()))\n",
    "    \n",
    "    for variazione in variazioni:\n",
    "        prezzi.append(prezzi[-1] * (1 + variazione))\n",
    "    \n",
    "    return pd.DataFrame({'Timestamp': pd.date_range(start='2023-01-01', periods=num_giorni, freq='D'), \n",
    "                         'Price': prezzi})"
   ]
  },
  {
   "cell_type": "code",
   "execution_count": 76,
   "metadata": {},
   "outputs": [
    {
     "data": {
      "application/vnd.plotly.v1+json": {
       "config": {
        "plotlyServerURL": "https://plot.ly"
       },
       "data": [
        {
         "line": {
          "color": "blue",
          "width": 2
         },
         "mode": "lines",
         "name": "Prezzi",
         "type": "scatter",
         "x": [
          "2023-01-01T00:00:00",
          "2023-01-02T00:00:00",
          "2023-01-03T00:00:00",
          "2023-01-04T00:00:00",
          "2023-01-05T00:00:00",
          "2023-01-06T00:00:00",
          "2023-01-07T00:00:00",
          "2023-01-08T00:00:00",
          "2023-01-09T00:00:00",
          "2023-01-10T00:00:00",
          "2023-01-11T00:00:00",
          "2023-01-12T00:00:00",
          "2023-01-13T00:00:00",
          "2023-01-14T00:00:00",
          "2023-01-15T00:00:00",
          "2023-01-16T00:00:00",
          "2023-01-17T00:00:00",
          "2023-01-18T00:00:00",
          "2023-01-19T00:00:00",
          "2023-01-20T00:00:00",
          "2023-01-21T00:00:00",
          "2023-01-22T00:00:00",
          "2023-01-23T00:00:00",
          "2023-01-24T00:00:00",
          "2023-01-25T00:00:00",
          "2023-01-26T00:00:00",
          "2023-01-27T00:00:00",
          "2023-01-28T00:00:00",
          "2023-01-29T00:00:00",
          "2023-01-30T00:00:00",
          "2023-01-31T00:00:00",
          "2023-02-01T00:00:00",
          "2023-02-02T00:00:00",
          "2023-02-03T00:00:00",
          "2023-02-04T00:00:00",
          "2023-02-05T00:00:00",
          "2023-02-06T00:00:00",
          "2023-02-07T00:00:00",
          "2023-02-08T00:00:00",
          "2023-02-09T00:00:00",
          "2023-02-10T00:00:00",
          "2023-02-11T00:00:00",
          "2023-02-12T00:00:00",
          "2023-02-13T00:00:00",
          "2023-02-14T00:00:00",
          "2023-02-15T00:00:00",
          "2023-02-16T00:00:00",
          "2023-02-17T00:00:00",
          "2023-02-18T00:00:00",
          "2023-02-19T00:00:00",
          "2023-02-20T00:00:00",
          "2023-02-21T00:00:00",
          "2023-02-22T00:00:00",
          "2023-02-23T00:00:00",
          "2023-02-24T00:00:00",
          "2023-02-25T00:00:00",
          "2023-02-26T00:00:00",
          "2023-02-27T00:00:00",
          "2023-02-28T00:00:00",
          "2023-03-01T00:00:00",
          "2023-03-02T00:00:00",
          "2023-03-03T00:00:00",
          "2023-03-04T00:00:00",
          "2023-03-05T00:00:00",
          "2023-03-06T00:00:00",
          "2023-03-07T00:00:00",
          "2023-03-08T00:00:00",
          "2023-03-09T00:00:00",
          "2023-03-10T00:00:00",
          "2023-03-11T00:00:00",
          "2023-03-12T00:00:00",
          "2023-03-13T00:00:00",
          "2023-03-14T00:00:00",
          "2023-03-15T00:00:00",
          "2023-03-16T00:00:00",
          "2023-03-17T00:00:00",
          "2023-03-18T00:00:00",
          "2023-03-19T00:00:00",
          "2023-03-20T00:00:00",
          "2023-03-21T00:00:00",
          "2023-03-22T00:00:00",
          "2023-03-23T00:00:00",
          "2023-03-24T00:00:00",
          "2023-03-25T00:00:00",
          "2023-03-26T00:00:00",
          "2023-03-27T00:00:00",
          "2023-03-28T00:00:00",
          "2023-03-29T00:00:00",
          "2023-03-30T00:00:00",
          "2023-03-31T00:00:00",
          "2023-04-01T00:00:00",
          "2023-04-02T00:00:00",
          "2023-04-03T00:00:00",
          "2023-04-04T00:00:00",
          "2023-04-05T00:00:00",
          "2023-04-06T00:00:00",
          "2023-04-07T00:00:00",
          "2023-04-08T00:00:00",
          "2023-04-09T00:00:00",
          "2023-04-10T00:00:00"
         ],
         "y": [
          100,
          101,
          103.02,
          104.0502,
          105.09070200000001,
          104.03979498000001,
          105.0801929298,
          104.029391000502,
          106.10997882051204,
          111.41547776153764,
          110.30132298392226,
          112.5073494436007,
          113.63242293803671,
          114.76874716741708,
          120.50718452578793,
          114.48182529949854,
          108.75773403452361,
          103.31984733279742,
          105.38624427945338,
          107.49396916504244,
          109.6438485483433,
          115.12604097576047,
          117.42856179527568,
          116.25427617732292,
          118.57936170086938,
          116.207774466852,
          117.36985221152052,
          115.0224551672901,
          120.77357792565462,
          121.98131370491117,
          120.76150056786206,
          118.34627055650482,
          120.71319596763492,
          119.50606400795857,
          120.70112464803816,
          114.66606841563625,
          115.8127290997926,
          116.97085639079053,
          118.14056495469843,
          124.04759320243336,
          125.2880691344577,
          124.03518844311313,
          122.794836558682,
          124.02278492426882,
          117.82164567805538,
          118.99986213483594,
          120.1898607561843,
          117.78606354106061,
          115.4303422702394,
          114.276038847537,
          113.13327845906163,
          114.26461124365224,
          113.12196513121572,
          118.77806338777651,
          116.40250212002098,
          114.07445207762056,
          111.79296303606814,
          112.91089266642882,
          110.65267481310025,
          109.54614806496924,
          107.35522510366985,
          105.20812060159645,
          103.10395818956452,
          104.13499777146016,
          102.05229781603096,
          100.01125185971034,
          99.01113934111324,
          100.9913621279355,
          95.94179402153873,
          97.8606299019695,
          92.96759840687102,
          97.61597832721458,
          96.63981854394243,
          101.47180947113955,
          102.48652756585095,
          104.53625811716798,
          99.30944521130957,
          97.32325630708337,
          95.3767911809417,
          93.46925535732287,
          91.59987025017641,
          90.68387154767464,
          89.77703283219789,
          85.28818119058799,
          86.14106300249387,
          87.0024736325188,
          85.26242415986842,
          86.1150484014671,
          81.80929598139375,
          82.62738894120768,
          86.75875838826808,
          85.8911708043854,
          86.75008251242924,
          85.01508086218065,
          86.71538247942426,
          84.98107482983578,
          83.28145333323906,
          84.11426786657145,
          79.90855447324287,
          81.50672556270773
         ]
        },
        {
         "hoverinfo": "text+name",
         "marker": {
          "color": "green",
          "size": 10
         },
         "mode": "markers+text",
         "name": "Riferimento Discesa",
         "text": [
          "86.76"
         ],
         "textposition": "top center",
         "type": "scatter",
         "x": [
          "2023-04-01T00:00:00"
         ],
         "y": [
          86.75875838826808
         ]
        },
        {
         "hoverinfo": "text+name",
         "marker": {
          "color": "green",
          "size": 10
         },
         "mode": "markers+text",
         "name": "Riferimento Discesa",
         "text": [
          "104.54"
         ],
         "textposition": "top center",
         "type": "scatter",
         "x": [
          "2023-03-17T00:00:00"
         ],
         "y": [
          104.53625811716798
         ]
        },
        {
         "hoverinfo": "text+name",
         "marker": {
          "color": "green",
          "size": 10
         },
         "mode": "markers+text",
         "name": "Riferimento Discesa",
         "text": [
          "97.62"
         ],
         "textposition": "top center",
         "type": "scatter",
         "x": [
          "2023-03-13T00:00:00"
         ],
         "y": [
          97.61597832721458
         ]
        },
        {
         "hoverinfo": "text+name",
         "marker": {
          "color": "green",
          "size": 10
         },
         "mode": "markers+text",
         "name": "Riferimento Discesa",
         "text": [
          "118.78"
         ],
         "textposition": "top center",
         "type": "scatter",
         "x": [
          "2023-02-23T00:00:00"
         ],
         "y": [
          118.77806338777651
         ]
        },
        {
         "hoverinfo": "text+name",
         "marker": {
          "color": "green",
          "size": 10
         },
         "mode": "markers+text",
         "name": "Riferimento Discesa",
         "text": [
          "125.29"
         ],
         "textposition": "top center",
         "type": "scatter",
         "x": [
          "2023-02-10T00:00:00"
         ],
         "y": [
          125.2880691344577
         ]
        },
        {
         "hoverinfo": "text+name",
         "marker": {
          "color": "green",
          "size": 10
         },
         "mode": "markers+text",
         "name": "Riferimento Discesa",
         "text": [
          "121.98"
         ],
         "textposition": "top center",
         "type": "scatter",
         "x": [
          "2023-01-30T00:00:00"
         ],
         "y": [
          121.98131370491117
         ]
        },
        {
         "hoverinfo": "text+name",
         "marker": {
          "color": "green",
          "size": 10
         },
         "mode": "markers+text",
         "name": "Riferimento Discesa",
         "text": [
          "117.43"
         ],
         "textposition": "top center",
         "type": "scatter",
         "x": [
          "2023-01-23T00:00:00"
         ],
         "y": [
          117.42856179527568
         ]
        },
        {
         "hoverinfo": "text+name",
         "marker": {
          "color": "green",
          "size": 10
         },
         "mode": "markers+text",
         "name": "Riferimento Discesa",
         "text": [
          "120.51"
         ],
         "textposition": "top center",
         "type": "scatter",
         "x": [
          "2023-01-15T00:00:00"
         ],
         "y": [
          120.50718452578793
         ]
        },
        {
         "hoverinfo": "text+name",
         "marker": {
          "color": "green",
          "size": 10
         },
         "mode": "markers+text",
         "name": "Riferimento Discesa",
         "text": [
          "111.42"
         ],
         "textposition": "top center",
         "type": "scatter",
         "x": [
          "2023-01-10T00:00:00"
         ],
         "y": [
          111.41547776153764
         ]
        },
        {
         "hoverinfo": "text+name",
         "marker": {
          "color": "green",
          "size": 10
         },
         "mode": "markers+text",
         "name": "Riferimento Discesa",
         "text": [
          "105.09"
         ],
         "textposition": "top center",
         "type": "scatter",
         "x": [
          "2023-01-05T00:00:00"
         ],
         "y": [
          105.09070200000001
         ]
        },
        {
         "hoverinfo": "text+name",
         "marker": {
          "color": "red",
          "size": 10
         },
         "mode": "markers+text",
         "name": "Riferimento Salita",
         "text": [
          "79.91"
         ],
         "textposition": "top center",
         "type": "scatter",
         "x": [
          "2023-04-09T00:00:00"
         ],
         "y": [
          79.90855447324287
         ]
        },
        {
         "hoverinfo": "text+name",
         "marker": {
          "color": "red",
          "size": 10
         },
         "mode": "markers+text",
         "name": "Riferimento Salita",
         "text": [
          "81.81"
         ],
         "textposition": "top center",
         "type": "scatter",
         "x": [
          "2023-03-30T00:00:00"
         ],
         "y": [
          81.80929598139375
         ]
        },
        {
         "hoverinfo": "text+name",
         "marker": {
          "color": "red",
          "size": 10
         },
         "mode": "markers+text",
         "name": "Riferimento Salita",
         "text": [
          "85.29"
         ],
         "textposition": "top center",
         "type": "scatter",
         "x": [
          "2023-03-25T00:00:00"
         ],
         "y": [
          85.28818119058799
         ]
        },
        {
         "hoverinfo": "text+name",
         "marker": {
          "color": "red",
          "size": 10
         },
         "mode": "markers+text",
         "name": "Riferimento Salita",
         "text": [
          "92.97"
         ],
         "textposition": "top center",
         "type": "scatter",
         "x": [
          "2023-03-12T00:00:00"
         ],
         "y": [
          92.96759840687102
         ]
        },
        {
         "hoverinfo": "text+name",
         "marker": {
          "color": "red",
          "size": 10
         },
         "mode": "markers+text",
         "name": "Riferimento Salita",
         "text": [
          "95.94"
         ],
         "textposition": "top center",
         "type": "scatter",
         "x": [
          "2023-03-10T00:00:00"
         ],
         "y": [
          95.94179402153873
         ]
        },
        {
         "hoverinfo": "text+name",
         "marker": {
          "color": "red",
          "size": 10
         },
         "mode": "markers+text",
         "name": "Riferimento Salita",
         "text": [
          "103.10"
         ],
         "textposition": "top center",
         "type": "scatter",
         "x": [
          "2023-03-04T00:00:00"
         ],
         "y": [
          103.10395818956452
         ]
        },
        {
         "hoverinfo": "text+name",
         "marker": {
          "color": "red",
          "size": 10
         },
         "mode": "markers+text",
         "name": "Riferimento Salita",
         "text": [
          "111.79"
         ],
         "textposition": "top center",
         "type": "scatter",
         "x": [
          "2023-02-26T00:00:00"
         ],
         "y": [
          111.79296303606814
         ]
        },
        {
         "hoverinfo": "text+name",
         "marker": {
          "color": "red",
          "size": 10
         },
         "mode": "markers+text",
         "name": "Riferimento Salita",
         "text": [
          "113.13"
         ],
         "textposition": "top center",
         "type": "scatter",
         "x": [
          "2023-02-20T00:00:00"
         ],
         "y": [
          113.13327845906163
         ]
        },
        {
         "hoverinfo": "text+name",
         "marker": {
          "color": "red",
          "size": 10
         },
         "mode": "markers+text",
         "name": "Riferimento Salita",
         "text": [
          "117.82"
         ],
         "textposition": "top center",
         "type": "scatter",
         "x": [
          "2023-02-14T00:00:00"
         ],
         "y": [
          117.82164567805538
         ]
        },
        {
         "hoverinfo": "text+name",
         "marker": {
          "color": "red",
          "size": 10
         },
         "mode": "markers+text",
         "name": "Riferimento Salita",
         "text": [
          "114.67"
         ],
         "textposition": "top center",
         "type": "scatter",
         "x": [
          "2023-02-05T00:00:00"
         ],
         "y": [
          114.66606841563625
         ]
        },
        {
         "hoverinfo": "text+name",
         "marker": {
          "color": "red",
          "size": 10
         },
         "mode": "markers+text",
         "name": "Riferimento Salita",
         "text": [
          "103.32"
         ],
         "textposition": "top center",
         "type": "scatter",
         "x": [
          "2023-01-18T00:00:00"
         ],
         "y": [
          103.31984733279742
         ]
        }
       ],
       "layout": {
        "height": 1120,
        "hovermode": "closest",
        "showlegend": false,
        "template": {
         "data": {
          "bar": [
           {
            "error_x": {
             "color": "#2a3f5f"
            },
            "error_y": {
             "color": "#2a3f5f"
            },
            "marker": {
             "line": {
              "color": "white",
              "width": 0.5
             },
             "pattern": {
              "fillmode": "overlay",
              "size": 10,
              "solidity": 0.2
             }
            },
            "type": "bar"
           }
          ],
          "barpolar": [
           {
            "marker": {
             "line": {
              "color": "white",
              "width": 0.5
             },
             "pattern": {
              "fillmode": "overlay",
              "size": 10,
              "solidity": 0.2
             }
            },
            "type": "barpolar"
           }
          ],
          "carpet": [
           {
            "aaxis": {
             "endlinecolor": "#2a3f5f",
             "gridcolor": "#C8D4E3",
             "linecolor": "#C8D4E3",
             "minorgridcolor": "#C8D4E3",
             "startlinecolor": "#2a3f5f"
            },
            "baxis": {
             "endlinecolor": "#2a3f5f",
             "gridcolor": "#C8D4E3",
             "linecolor": "#C8D4E3",
             "minorgridcolor": "#C8D4E3",
             "startlinecolor": "#2a3f5f"
            },
            "type": "carpet"
           }
          ],
          "choropleth": [
           {
            "colorbar": {
             "outlinewidth": 0,
             "ticks": ""
            },
            "type": "choropleth"
           }
          ],
          "contour": [
           {
            "colorbar": {
             "outlinewidth": 0,
             "ticks": ""
            },
            "colorscale": [
             [
              0,
              "#0d0887"
             ],
             [
              0.1111111111111111,
              "#46039f"
             ],
             [
              0.2222222222222222,
              "#7201a8"
             ],
             [
              0.3333333333333333,
              "#9c179e"
             ],
             [
              0.4444444444444444,
              "#bd3786"
             ],
             [
              0.5555555555555556,
              "#d8576b"
             ],
             [
              0.6666666666666666,
              "#ed7953"
             ],
             [
              0.7777777777777778,
              "#fb9f3a"
             ],
             [
              0.8888888888888888,
              "#fdca26"
             ],
             [
              1,
              "#f0f921"
             ]
            ],
            "type": "contour"
           }
          ],
          "contourcarpet": [
           {
            "colorbar": {
             "outlinewidth": 0,
             "ticks": ""
            },
            "type": "contourcarpet"
           }
          ],
          "heatmap": [
           {
            "colorbar": {
             "outlinewidth": 0,
             "ticks": ""
            },
            "colorscale": [
             [
              0,
              "#0d0887"
             ],
             [
              0.1111111111111111,
              "#46039f"
             ],
             [
              0.2222222222222222,
              "#7201a8"
             ],
             [
              0.3333333333333333,
              "#9c179e"
             ],
             [
              0.4444444444444444,
              "#bd3786"
             ],
             [
              0.5555555555555556,
              "#d8576b"
             ],
             [
              0.6666666666666666,
              "#ed7953"
             ],
             [
              0.7777777777777778,
              "#fb9f3a"
             ],
             [
              0.8888888888888888,
              "#fdca26"
             ],
             [
              1,
              "#f0f921"
             ]
            ],
            "type": "heatmap"
           }
          ],
          "heatmapgl": [
           {
            "colorbar": {
             "outlinewidth": 0,
             "ticks": ""
            },
            "colorscale": [
             [
              0,
              "#0d0887"
             ],
             [
              0.1111111111111111,
              "#46039f"
             ],
             [
              0.2222222222222222,
              "#7201a8"
             ],
             [
              0.3333333333333333,
              "#9c179e"
             ],
             [
              0.4444444444444444,
              "#bd3786"
             ],
             [
              0.5555555555555556,
              "#d8576b"
             ],
             [
              0.6666666666666666,
              "#ed7953"
             ],
             [
              0.7777777777777778,
              "#fb9f3a"
             ],
             [
              0.8888888888888888,
              "#fdca26"
             ],
             [
              1,
              "#f0f921"
             ]
            ],
            "type": "heatmapgl"
           }
          ],
          "histogram": [
           {
            "marker": {
             "pattern": {
              "fillmode": "overlay",
              "size": 10,
              "solidity": 0.2
             }
            },
            "type": "histogram"
           }
          ],
          "histogram2d": [
           {
            "colorbar": {
             "outlinewidth": 0,
             "ticks": ""
            },
            "colorscale": [
             [
              0,
              "#0d0887"
             ],
             [
              0.1111111111111111,
              "#46039f"
             ],
             [
              0.2222222222222222,
              "#7201a8"
             ],
             [
              0.3333333333333333,
              "#9c179e"
             ],
             [
              0.4444444444444444,
              "#bd3786"
             ],
             [
              0.5555555555555556,
              "#d8576b"
             ],
             [
              0.6666666666666666,
              "#ed7953"
             ],
             [
              0.7777777777777778,
              "#fb9f3a"
             ],
             [
              0.8888888888888888,
              "#fdca26"
             ],
             [
              1,
              "#f0f921"
             ]
            ],
            "type": "histogram2d"
           }
          ],
          "histogram2dcontour": [
           {
            "colorbar": {
             "outlinewidth": 0,
             "ticks": ""
            },
            "colorscale": [
             [
              0,
              "#0d0887"
             ],
             [
              0.1111111111111111,
              "#46039f"
             ],
             [
              0.2222222222222222,
              "#7201a8"
             ],
             [
              0.3333333333333333,
              "#9c179e"
             ],
             [
              0.4444444444444444,
              "#bd3786"
             ],
             [
              0.5555555555555556,
              "#d8576b"
             ],
             [
              0.6666666666666666,
              "#ed7953"
             ],
             [
              0.7777777777777778,
              "#fb9f3a"
             ],
             [
              0.8888888888888888,
              "#fdca26"
             ],
             [
              1,
              "#f0f921"
             ]
            ],
            "type": "histogram2dcontour"
           }
          ],
          "mesh3d": [
           {
            "colorbar": {
             "outlinewidth": 0,
             "ticks": ""
            },
            "type": "mesh3d"
           }
          ],
          "parcoords": [
           {
            "line": {
             "colorbar": {
              "outlinewidth": 0,
              "ticks": ""
             }
            },
            "type": "parcoords"
           }
          ],
          "pie": [
           {
            "automargin": true,
            "type": "pie"
           }
          ],
          "scatter": [
           {
            "fillpattern": {
             "fillmode": "overlay",
             "size": 10,
             "solidity": 0.2
            },
            "type": "scatter"
           }
          ],
          "scatter3d": [
           {
            "line": {
             "colorbar": {
              "outlinewidth": 0,
              "ticks": ""
             }
            },
            "marker": {
             "colorbar": {
              "outlinewidth": 0,
              "ticks": ""
             }
            },
            "type": "scatter3d"
           }
          ],
          "scattercarpet": [
           {
            "marker": {
             "colorbar": {
              "outlinewidth": 0,
              "ticks": ""
             }
            },
            "type": "scattercarpet"
           }
          ],
          "scattergeo": [
           {
            "marker": {
             "colorbar": {
              "outlinewidth": 0,
              "ticks": ""
             }
            },
            "type": "scattergeo"
           }
          ],
          "scattergl": [
           {
            "marker": {
             "colorbar": {
              "outlinewidth": 0,
              "ticks": ""
             }
            },
            "type": "scattergl"
           }
          ],
          "scattermapbox": [
           {
            "marker": {
             "colorbar": {
              "outlinewidth": 0,
              "ticks": ""
             }
            },
            "type": "scattermapbox"
           }
          ],
          "scatterpolar": [
           {
            "marker": {
             "colorbar": {
              "outlinewidth": 0,
              "ticks": ""
             }
            },
            "type": "scatterpolar"
           }
          ],
          "scatterpolargl": [
           {
            "marker": {
             "colorbar": {
              "outlinewidth": 0,
              "ticks": ""
             }
            },
            "type": "scatterpolargl"
           }
          ],
          "scatterternary": [
           {
            "marker": {
             "colorbar": {
              "outlinewidth": 0,
              "ticks": ""
             }
            },
            "type": "scatterternary"
           }
          ],
          "surface": [
           {
            "colorbar": {
             "outlinewidth": 0,
             "ticks": ""
            },
            "colorscale": [
             [
              0,
              "#0d0887"
             ],
             [
              0.1111111111111111,
              "#46039f"
             ],
             [
              0.2222222222222222,
              "#7201a8"
             ],
             [
              0.3333333333333333,
              "#9c179e"
             ],
             [
              0.4444444444444444,
              "#bd3786"
             ],
             [
              0.5555555555555556,
              "#d8576b"
             ],
             [
              0.6666666666666666,
              "#ed7953"
             ],
             [
              0.7777777777777778,
              "#fb9f3a"
             ],
             [
              0.8888888888888888,
              "#fdca26"
             ],
             [
              1,
              "#f0f921"
             ]
            ],
            "type": "surface"
           }
          ],
          "table": [
           {
            "cells": {
             "fill": {
              "color": "#EBF0F8"
             },
             "line": {
              "color": "white"
             }
            },
            "header": {
             "fill": {
              "color": "#C8D4E3"
             },
             "line": {
              "color": "white"
             }
            },
            "type": "table"
           }
          ]
         },
         "layout": {
          "annotationdefaults": {
           "arrowcolor": "#2a3f5f",
           "arrowhead": 0,
           "arrowwidth": 1
          },
          "autotypenumbers": "strict",
          "coloraxis": {
           "colorbar": {
            "outlinewidth": 0,
            "ticks": ""
           }
          },
          "colorscale": {
           "diverging": [
            [
             0,
             "#8e0152"
            ],
            [
             0.1,
             "#c51b7d"
            ],
            [
             0.2,
             "#de77ae"
            ],
            [
             0.3,
             "#f1b6da"
            ],
            [
             0.4,
             "#fde0ef"
            ],
            [
             0.5,
             "#f7f7f7"
            ],
            [
             0.6,
             "#e6f5d0"
            ],
            [
             0.7,
             "#b8e186"
            ],
            [
             0.8,
             "#7fbc41"
            ],
            [
             0.9,
             "#4d9221"
            ],
            [
             1,
             "#276419"
            ]
           ],
           "sequential": [
            [
             0,
             "#0d0887"
            ],
            [
             0.1111111111111111,
             "#46039f"
            ],
            [
             0.2222222222222222,
             "#7201a8"
            ],
            [
             0.3333333333333333,
             "#9c179e"
            ],
            [
             0.4444444444444444,
             "#bd3786"
            ],
            [
             0.5555555555555556,
             "#d8576b"
            ],
            [
             0.6666666666666666,
             "#ed7953"
            ],
            [
             0.7777777777777778,
             "#fb9f3a"
            ],
            [
             0.8888888888888888,
             "#fdca26"
            ],
            [
             1,
             "#f0f921"
            ]
           ],
           "sequentialminus": [
            [
             0,
             "#0d0887"
            ],
            [
             0.1111111111111111,
             "#46039f"
            ],
            [
             0.2222222222222222,
             "#7201a8"
            ],
            [
             0.3333333333333333,
             "#9c179e"
            ],
            [
             0.4444444444444444,
             "#bd3786"
            ],
            [
             0.5555555555555556,
             "#d8576b"
            ],
            [
             0.6666666666666666,
             "#ed7953"
            ],
            [
             0.7777777777777778,
             "#fb9f3a"
            ],
            [
             0.8888888888888888,
             "#fdca26"
            ],
            [
             1,
             "#f0f921"
            ]
           ]
          },
          "colorway": [
           "#636efa",
           "#EF553B",
           "#00cc96",
           "#ab63fa",
           "#FFA15A",
           "#19d3f3",
           "#FF6692",
           "#B6E880",
           "#FF97FF",
           "#FECB52"
          ],
          "font": {
           "color": "#2a3f5f"
          },
          "geo": {
           "bgcolor": "white",
           "lakecolor": "white",
           "landcolor": "white",
           "showlakes": true,
           "showland": true,
           "subunitcolor": "#C8D4E3"
          },
          "hoverlabel": {
           "align": "left"
          },
          "hovermode": "closest",
          "mapbox": {
           "style": "light"
          },
          "paper_bgcolor": "white",
          "plot_bgcolor": "white",
          "polar": {
           "angularaxis": {
            "gridcolor": "#EBF0F8",
            "linecolor": "#EBF0F8",
            "ticks": ""
           },
           "bgcolor": "white",
           "radialaxis": {
            "gridcolor": "#EBF0F8",
            "linecolor": "#EBF0F8",
            "ticks": ""
           }
          },
          "scene": {
           "xaxis": {
            "backgroundcolor": "white",
            "gridcolor": "#DFE8F3",
            "gridwidth": 2,
            "linecolor": "#EBF0F8",
            "showbackground": true,
            "ticks": "",
            "zerolinecolor": "#EBF0F8"
           },
           "yaxis": {
            "backgroundcolor": "white",
            "gridcolor": "#DFE8F3",
            "gridwidth": 2,
            "linecolor": "#EBF0F8",
            "showbackground": true,
            "ticks": "",
            "zerolinecolor": "#EBF0F8"
           },
           "zaxis": {
            "backgroundcolor": "white",
            "gridcolor": "#DFE8F3",
            "gridwidth": 2,
            "linecolor": "#EBF0F8",
            "showbackground": true,
            "ticks": "",
            "zerolinecolor": "#EBF0F8"
           }
          },
          "shapedefaults": {
           "line": {
            "color": "#2a3f5f"
           }
          },
          "ternary": {
           "aaxis": {
            "gridcolor": "#DFE8F3",
            "linecolor": "#A2B1C6",
            "ticks": ""
           },
           "baxis": {
            "gridcolor": "#DFE8F3",
            "linecolor": "#A2B1C6",
            "ticks": ""
           },
           "bgcolor": "white",
           "caxis": {
            "gridcolor": "#DFE8F3",
            "linecolor": "#A2B1C6",
            "ticks": ""
           }
          },
          "title": {
           "x": 0.05
          },
          "xaxis": {
           "automargin": true,
           "gridcolor": "#EBF0F8",
           "linecolor": "#EBF0F8",
           "ticks": "",
           "title": {
            "standoff": 15
           },
           "zerolinecolor": "#EBF0F8",
           "zerolinewidth": 2
          },
          "yaxis": {
           "automargin": true,
           "gridcolor": "#EBF0F8",
           "linecolor": "#EBF0F8",
           "ticks": "",
           "title": {
            "standoff": 15
           },
           "zerolinecolor": "#EBF0F8",
           "zerolinewidth": 2
          }
         }
        },
        "title": {
         "text": "Prezzi generati con punti di riferimento per le discese (in verde) e per le salite (in rosso)"
        },
        "width": 1600,
        "xaxis": {
         "rangeslider": {
          "visible": true
         },
         "title": {
          "text": "Data"
         },
         "type": "date"
        },
        "yaxis": {
         "title": {
          "text": "Prezzo"
         }
        }
       }
      }
     },
     "metadata": {},
     "output_type": "display_data"
    }
   ],
   "source": [
    "# Distribuzione delle variazioni (esempio)\n",
    "distribuzione_variazioni = {\n",
    "    -0.05: 0.1,\n",
    "    -0.02: 0.2,\n",
    "    -0.01: 0.2,\n",
    "    0.01: 0.2,\n",
    "    0.02: 0.2,\n",
    "    0.05: 0.1\n",
    "}\n",
    "\n",
    "# Genera prezzi\n",
    "num_giorni = 100\n",
    "dati = genera_prezzi(num_giorni, distribuzione_variazioni)\n",
    "\n",
    "# Calcola variazioni\n",
    "dati['Variazione'] = dati['Price'] / dati['Price'].shift(1)\n",
    "\n",
    "# Parametri\n",
    "soglia_calcolo_variazioni_discesa = 0.05\n",
    "soglia_calcolo_variazioni_salita = 0.05\n",
    "\n",
    "prezzi_riferimento_discesa = []\n",
    "variazione_cumulata = 1\n",
    "gia_trovato = False\n",
    "cont = 0\n",
    "for j in range(len(dati), 0, -1):\n",
    "    variazione_giorno_precedente = dati['Variazione'].iloc[j-1]\n",
    "    if pd.isna(variazione_giorno_precedente):\n",
    "        continue\n",
    "    if variazione_giorno_precedente < 1:\n",
    "        variazione_cumulata = 1\n",
    "        cont = 0\n",
    "        gia_trovato = False\n",
    "        continue\n",
    "    else:\n",
    "        variazione_cumulata *= variazione_giorno_precedente\n",
    "        if variazione_cumulata != variazione_giorno_precedente:\n",
    "            cont += 1\n",
    "        if variazione_cumulata - 1 >= soglia_calcolo_variazioni_discesa and not gia_trovato:\n",
    "            prezzo_riferimento = dati['Price'].iloc[j+cont-1]\n",
    "            prezzi_riferimento_discesa.append((dati['Timestamp'].iloc[j+cont-1], prezzo_riferimento))\n",
    "            variazione_cumulata = 1\n",
    "            cont = 0\n",
    "            gia_trovato = True\n",
    "\n",
    "prezzi_riferimento_salita = []\n",
    "variazione_cumulata = 1\n",
    "gia_trovato = False\n",
    "cont = 0\n",
    "for j in range(len(dati), 0, -1):\n",
    "    variazione_giorno_precedente = dati['Variazione'].iloc[j-1]\n",
    "    if pd.isna(variazione_giorno_precedente):\n",
    "        continue\n",
    "    if variazione_giorno_precedente > 1:\n",
    "        variazione_cumulata = 1\n",
    "        cont = 0\n",
    "        gia_trovato = False\n",
    "        continue\n",
    "    else:\n",
    "        variazione_cumulata *= variazione_giorno_precedente\n",
    "        if variazione_cumulata != variazione_giorno_precedente:\n",
    "            cont += 1\n",
    "        if 1 - variazione_cumulata >= soglia_calcolo_variazioni_salita and not gia_trovato:\n",
    "            prezzo_riferimento = dati['Price'].iloc[j+cont-1]\n",
    "            prezzi_riferimento_salita.append((dati['Timestamp'].iloc[j+cont-1], prezzo_riferimento))\n",
    "            variazione_cumulata = 1\n",
    "            cont = 0\n",
    "            gia_trovato = True\n",
    "\n",
    "\n",
    "\n",
    "\n",
    "# Creazione del grafico con Plotly\n",
    "fig = go.Figure()\n",
    "\n",
    "# Linea dell'andamento dei prezzi\n",
    "fig.add_trace(go.Scatter(x=dati['Timestamp'], y=dati['Price'], \n",
    "                         mode='lines', name='Prezzi',\n",
    "                         line=dict(color='blue', width=2)))\n",
    "\n",
    "# Aggiungi punti di riferimento discesa (in verde)\n",
    "for timestamp, prezzo_riferimento in prezzi_riferimento_discesa:\n",
    "    fig.add_trace(go.Scatter(\n",
    "        x=[timestamp], y=[prezzo_riferimento],\n",
    "        mode='markers+text', name='Riferimento Discesa',\n",
    "        marker=dict(color='green', size=10),\n",
    "        text=[f'{prezzo_riferimento:.2f}'],\n",
    "        textposition='top center',\n",
    "        hoverinfo='text+name'  # Mostra testo e nome al passaggio del mouse\n",
    "    ))\n",
    "\n",
    "# Aggiungi punti di riferimento salita (in rosso)\n",
    "for timestamp, prezzo_riferimento in prezzi_riferimento_salita:\n",
    "    fig.add_trace(go.Scatter(\n",
    "        x=[timestamp], y=[prezzo_riferimento],\n",
    "        mode='markers+text', name='Riferimento Salita',\n",
    "        marker=dict(color='red', size=10),\n",
    "        text=[f'{prezzo_riferimento:.2f}'],\n",
    "        textposition='top center',\n",
    "        hoverinfo='text+name'  # Mostra testo e nome al passaggio del mouse\n",
    "    ))\n",
    "\n",
    "# Configurazione del layout del grafico\n",
    "fig.update_layout(\n",
    "    title='Prezzi generati con punti di riferimento per le discese (in verde) e per le salite (in rosso)',\n",
    "    xaxis_title='Data',\n",
    "    yaxis_title='Prezzo',\n",
    "    hovermode='closest',\n",
    "    template='plotly_white',\n",
    "    width=1600,\n",
    "    height=7/10 * 1600,\n",
    "    showlegend=False,\n",
    "    # legend=dict(yanchor=\"top\", y=0.99, xanchor=\"left\", x=0.01),\n",
    "    \n",
    "    # Aggiungi il range slider per l'asse X\n",
    "    xaxis=dict(\n",
    "        rangeslider=dict(visible=True),\n",
    "        type=\"date\"\n",
    "    )\n",
    ")\n",
    "\n",
    "# Mostra il grafico\n",
    "fig.show()"
   ]
  },
  {
   "cell_type": "code",
   "execution_count": 77,
   "metadata": {},
   "outputs": [
    {
     "data": {
      "text/html": [
       "<div>\n",
       "<style scoped>\n",
       "    .dataframe tbody tr th:only-of-type {\n",
       "        vertical-align: middle;\n",
       "    }\n",
       "\n",
       "    .dataframe tbody tr th {\n",
       "        vertical-align: top;\n",
       "    }\n",
       "\n",
       "    .dataframe thead th {\n",
       "        text-align: right;\n",
       "    }\n",
       "</style>\n",
       "<table border=\"1\" class=\"dataframe\">\n",
       "  <thead>\n",
       "    <tr style=\"text-align: right;\">\n",
       "      <th></th>\n",
       "      <th>Timestamp</th>\n",
       "      <th>Price</th>\n",
       "      <th>Variazione</th>\n",
       "    </tr>\n",
       "  </thead>\n",
       "  <tbody>\n",
       "    <tr>\n",
       "      <th>0</th>\n",
       "      <td>2023-01-01</td>\n",
       "      <td>100.000000</td>\n",
       "      <td>NaN</td>\n",
       "    </tr>\n",
       "    <tr>\n",
       "      <th>1</th>\n",
       "      <td>2023-01-02</td>\n",
       "      <td>101.000000</td>\n",
       "      <td>1.01</td>\n",
       "    </tr>\n",
       "    <tr>\n",
       "      <th>2</th>\n",
       "      <td>2023-01-03</td>\n",
       "      <td>103.020000</td>\n",
       "      <td>1.02</td>\n",
       "    </tr>\n",
       "    <tr>\n",
       "      <th>3</th>\n",
       "      <td>2023-01-04</td>\n",
       "      <td>104.050200</td>\n",
       "      <td>1.01</td>\n",
       "    </tr>\n",
       "    <tr>\n",
       "      <th>4</th>\n",
       "      <td>2023-01-05</td>\n",
       "      <td>105.090702</td>\n",
       "      <td>1.01</td>\n",
       "    </tr>\n",
       "    <tr>\n",
       "      <th>5</th>\n",
       "      <td>2023-01-06</td>\n",
       "      <td>104.039795</td>\n",
       "      <td>0.99</td>\n",
       "    </tr>\n",
       "    <tr>\n",
       "      <th>6</th>\n",
       "      <td>2023-01-07</td>\n",
       "      <td>105.080193</td>\n",
       "      <td>1.01</td>\n",
       "    </tr>\n",
       "    <tr>\n",
       "      <th>7</th>\n",
       "      <td>2023-01-08</td>\n",
       "      <td>104.029391</td>\n",
       "      <td>0.99</td>\n",
       "    </tr>\n",
       "    <tr>\n",
       "      <th>8</th>\n",
       "      <td>2023-01-09</td>\n",
       "      <td>106.109979</td>\n",
       "      <td>1.02</td>\n",
       "    </tr>\n",
       "    <tr>\n",
       "      <th>9</th>\n",
       "      <td>2023-01-10</td>\n",
       "      <td>111.415478</td>\n",
       "      <td>1.05</td>\n",
       "    </tr>\n",
       "    <tr>\n",
       "      <th>10</th>\n",
       "      <td>2023-01-11</td>\n",
       "      <td>110.301323</td>\n",
       "      <td>0.99</td>\n",
       "    </tr>\n",
       "    <tr>\n",
       "      <th>11</th>\n",
       "      <td>2023-01-12</td>\n",
       "      <td>112.507349</td>\n",
       "      <td>1.02</td>\n",
       "    </tr>\n",
       "    <tr>\n",
       "      <th>12</th>\n",
       "      <td>2023-01-13</td>\n",
       "      <td>113.632423</td>\n",
       "      <td>1.01</td>\n",
       "    </tr>\n",
       "    <tr>\n",
       "      <th>13</th>\n",
       "      <td>2023-01-14</td>\n",
       "      <td>114.768747</td>\n",
       "      <td>1.01</td>\n",
       "    </tr>\n",
       "    <tr>\n",
       "      <th>14</th>\n",
       "      <td>2023-01-15</td>\n",
       "      <td>120.507185</td>\n",
       "      <td>1.05</td>\n",
       "    </tr>\n",
       "    <tr>\n",
       "      <th>15</th>\n",
       "      <td>2023-01-16</td>\n",
       "      <td>114.481825</td>\n",
       "      <td>0.95</td>\n",
       "    </tr>\n",
       "    <tr>\n",
       "      <th>16</th>\n",
       "      <td>2023-01-17</td>\n",
       "      <td>108.757734</td>\n",
       "      <td>0.95</td>\n",
       "    </tr>\n",
       "    <tr>\n",
       "      <th>17</th>\n",
       "      <td>2023-01-18</td>\n",
       "      <td>103.319847</td>\n",
       "      <td>0.95</td>\n",
       "    </tr>\n",
       "    <tr>\n",
       "      <th>18</th>\n",
       "      <td>2023-01-19</td>\n",
       "      <td>105.386244</td>\n",
       "      <td>1.02</td>\n",
       "    </tr>\n",
       "    <tr>\n",
       "      <th>19</th>\n",
       "      <td>2023-01-20</td>\n",
       "      <td>107.493969</td>\n",
       "      <td>1.02</td>\n",
       "    </tr>\n",
       "  </tbody>\n",
       "</table>\n",
       "</div>"
      ],
      "text/plain": [
       "    Timestamp       Price  Variazione\n",
       "0  2023-01-01  100.000000         NaN\n",
       "1  2023-01-02  101.000000        1.01\n",
       "2  2023-01-03  103.020000        1.02\n",
       "3  2023-01-04  104.050200        1.01\n",
       "4  2023-01-05  105.090702        1.01\n",
       "5  2023-01-06  104.039795        0.99\n",
       "6  2023-01-07  105.080193        1.01\n",
       "7  2023-01-08  104.029391        0.99\n",
       "8  2023-01-09  106.109979        1.02\n",
       "9  2023-01-10  111.415478        1.05\n",
       "10 2023-01-11  110.301323        0.99\n",
       "11 2023-01-12  112.507349        1.02\n",
       "12 2023-01-13  113.632423        1.01\n",
       "13 2023-01-14  114.768747        1.01\n",
       "14 2023-01-15  120.507185        1.05\n",
       "15 2023-01-16  114.481825        0.95\n",
       "16 2023-01-17  108.757734        0.95\n",
       "17 2023-01-18  103.319847        0.95\n",
       "18 2023-01-19  105.386244        1.02\n",
       "19 2023-01-20  107.493969        1.02"
      ]
     },
     "execution_count": 77,
     "metadata": {},
     "output_type": "execute_result"
    }
   ],
   "source": [
    "dati[:20]"
   ]
  },
  {
   "cell_type": "markdown",
   "metadata": {},
   "source": [
    "## Lettura dati Bitcoin"
   ]
  },
  {
   "cell_type": "code",
   "execution_count": 78,
   "metadata": {},
   "outputs": [
    {
     "data": {
      "text/html": [
       "<div>\n",
       "<style scoped>\n",
       "    .dataframe tbody tr th:only-of-type {\n",
       "        vertical-align: middle;\n",
       "    }\n",
       "\n",
       "    .dataframe tbody tr th {\n",
       "        vertical-align: top;\n",
       "    }\n",
       "\n",
       "    .dataframe thead th {\n",
       "        text-align: right;\n",
       "    }\n",
       "</style>\n",
       "<table border=\"1\" class=\"dataframe\">\n",
       "  <thead>\n",
       "    <tr style=\"text-align: right;\">\n",
       "      <th></th>\n",
       "      <th>Timestamp</th>\n",
       "      <th>Price</th>\n",
       "    </tr>\n",
       "  </thead>\n",
       "  <tbody>\n",
       "    <tr>\n",
       "      <th>0</th>\n",
       "      <td>2014-09-17</td>\n",
       "      <td>355.957367</td>\n",
       "    </tr>\n",
       "    <tr>\n",
       "      <th>1</th>\n",
       "      <td>2014-09-18</td>\n",
       "      <td>328.539368</td>\n",
       "    </tr>\n",
       "    <tr>\n",
       "      <th>2</th>\n",
       "      <td>2014-09-19</td>\n",
       "      <td>307.761139</td>\n",
       "    </tr>\n",
       "    <tr>\n",
       "      <th>3</th>\n",
       "      <td>2014-09-20</td>\n",
       "      <td>318.758972</td>\n",
       "    </tr>\n",
       "    <tr>\n",
       "      <th>4</th>\n",
       "      <td>2014-09-21</td>\n",
       "      <td>310.632446</td>\n",
       "    </tr>\n",
       "    <tr>\n",
       "      <th>...</th>\n",
       "      <td>...</td>\n",
       "      <td>...</td>\n",
       "    </tr>\n",
       "    <tr>\n",
       "      <th>3503</th>\n",
       "      <td>2024-04-20</td>\n",
       "      <td>59876.710938</td>\n",
       "    </tr>\n",
       "    <tr>\n",
       "      <th>3504</th>\n",
       "      <td>2024-04-21</td>\n",
       "      <td>60956.074219</td>\n",
       "    </tr>\n",
       "    <tr>\n",
       "      <th>3505</th>\n",
       "      <td>2024-04-22</td>\n",
       "      <td>60919.242188</td>\n",
       "    </tr>\n",
       "    <tr>\n",
       "      <th>3506</th>\n",
       "      <td>2024-04-23</td>\n",
       "      <td>62729.296875</td>\n",
       "    </tr>\n",
       "    <tr>\n",
       "      <th>3507</th>\n",
       "      <td>2024-04-24</td>\n",
       "      <td>62048.164062</td>\n",
       "    </tr>\n",
       "  </tbody>\n",
       "</table>\n",
       "<p>3508 rows × 2 columns</p>\n",
       "</div>"
      ],
      "text/plain": [
       "      Timestamp         Price\n",
       "0    2014-09-17    355.957367\n",
       "1    2014-09-18    328.539368\n",
       "2    2014-09-19    307.761139\n",
       "3    2014-09-20    318.758972\n",
       "4    2014-09-21    310.632446\n",
       "...         ...           ...\n",
       "3503 2024-04-20  59876.710938\n",
       "3504 2024-04-21  60956.074219\n",
       "3505 2024-04-22  60919.242188\n",
       "3506 2024-04-23  62729.296875\n",
       "3507 2024-04-24  62048.164062\n",
       "\n",
       "[3508 rows x 2 columns]"
      ]
     },
     "execution_count": 78,
     "metadata": {},
     "output_type": "execute_result"
    }
   ],
   "source": [
    "dati = pd.read_csv('Bitcoin (€) da yfinance dal 17-09-2014 al 24-04-2024.csv')\n",
    "dati = dati[['Date', 'Close']]\n",
    "dati = dati.rename(columns = {'Date':'Timestamp', 'Close': 'Price'})\n",
    "dati['Timestamp'] = pd.to_datetime(dati['Timestamp'])\n",
    "dati['Timestamp'] = dati['Timestamp'].dt.strftime('%Y-%m-%d')\n",
    "dati['Timestamp'] = pd.to_datetime(dati['Timestamp'], format='%Y-%m-%d')\n",
    "dati"
   ]
  },
  {
   "cell_type": "code",
   "execution_count": 79,
   "metadata": {},
   "outputs": [],
   "source": [
    "# dati = pd.read_csv('Bitcoin (€) da yfinance dal 06-05-2022 alle 21 al 05-05-2024 alle 19 con granularità oraria.csv')\n",
    "# dati = dati[['Datetime', 'Close']]\n",
    "# dati = dati.rename(columns = {'Datetime':'Timestamp', 'Close': 'Price'})\n",
    "# dati['Timestamp'] = pd.to_datetime(dati['Timestamp'])\n",
    "# dati['Timestamp'] = dati['Timestamp'].dt.strftime('%Y-%m-%d %H')\n",
    "# dati['Timestamp'] = pd.to_datetime(dati['Timestamp'], format='%Y-%m-%d %H')\n",
    "# dati"
   ]
  },
  {
   "cell_type": "code",
   "execution_count": 80,
   "metadata": {},
   "outputs": [
    {
     "data": {
      "text/html": [
       "<div>\n",
       "<style scoped>\n",
       "    .dataframe tbody tr th:only-of-type {\n",
       "        vertical-align: middle;\n",
       "    }\n",
       "\n",
       "    .dataframe tbody tr th {\n",
       "        vertical-align: top;\n",
       "    }\n",
       "\n",
       "    .dataframe thead th {\n",
       "        text-align: right;\n",
       "    }\n",
       "</style>\n",
       "<table border=\"1\" class=\"dataframe\">\n",
       "  <thead>\n",
       "    <tr style=\"text-align: right;\">\n",
       "      <th></th>\n",
       "      <th>Timestamp</th>\n",
       "      <th>Price</th>\n",
       "    </tr>\n",
       "  </thead>\n",
       "  <tbody>\n",
       "    <tr>\n",
       "      <th>0</th>\n",
       "      <td>2021-02-01</td>\n",
       "      <td>27790.582031</td>\n",
       "    </tr>\n",
       "    <tr>\n",
       "      <th>1</th>\n",
       "      <td>2021-02-02</td>\n",
       "      <td>29501.521484</td>\n",
       "    </tr>\n",
       "    <tr>\n",
       "      <th>2</th>\n",
       "      <td>2021-02-03</td>\n",
       "      <td>31119.447266</td>\n",
       "    </tr>\n",
       "    <tr>\n",
       "      <th>3</th>\n",
       "      <td>2021-02-04</td>\n",
       "      <td>30859.554688</td>\n",
       "    </tr>\n",
       "    <tr>\n",
       "      <th>4</th>\n",
       "      <td>2021-02-05</td>\n",
       "      <td>31658.248047</td>\n",
       "    </tr>\n",
       "    <tr>\n",
       "      <th>...</th>\n",
       "      <td>...</td>\n",
       "      <td>...</td>\n",
       "    </tr>\n",
       "    <tr>\n",
       "      <th>146</th>\n",
       "      <td>2021-06-27</td>\n",
       "      <td>29013.742188</td>\n",
       "    </tr>\n",
       "    <tr>\n",
       "      <th>147</th>\n",
       "      <td>2021-06-28</td>\n",
       "      <td>28866.302734</td>\n",
       "    </tr>\n",
       "    <tr>\n",
       "      <th>148</th>\n",
       "      <td>2021-06-29</td>\n",
       "      <td>30139.980469</td>\n",
       "    </tr>\n",
       "    <tr>\n",
       "      <th>149</th>\n",
       "      <td>2021-06-30</td>\n",
       "      <td>29555.054688</td>\n",
       "    </tr>\n",
       "    <tr>\n",
       "      <th>150</th>\n",
       "      <td>2021-07-01</td>\n",
       "      <td>28341.414062</td>\n",
       "    </tr>\n",
       "  </tbody>\n",
       "</table>\n",
       "<p>151 rows × 2 columns</p>\n",
       "</div>"
      ],
      "text/plain": [
       "     Timestamp         Price\n",
       "0   2021-02-01  27790.582031\n",
       "1   2021-02-02  29501.521484\n",
       "2   2021-02-03  31119.447266\n",
       "3   2021-02-04  30859.554688\n",
       "4   2021-02-05  31658.248047\n",
       "..         ...           ...\n",
       "146 2021-06-27  29013.742188\n",
       "147 2021-06-28  28866.302734\n",
       "148 2021-06-29  30139.980469\n",
       "149 2021-06-30  29555.054688\n",
       "150 2021-07-01  28341.414062\n",
       "\n",
       "[151 rows x 2 columns]"
      ]
     },
     "execution_count": 80,
     "metadata": {},
     "output_type": "execute_result"
    }
   ],
   "source": [
    "# Bull market\n",
    "# data_inizio = '2020-12-01'\n",
    "# data_fine = '2021-04-30'\n",
    "\n",
    "# Mercato laterale\n",
    "# data_inizio = '2022-07-01'\n",
    "# data_fine = '2022-10-31'\n",
    "\n",
    "# Bear market\n",
    "# data_inizio = '2021-05-01'\n",
    "# data_fine = '2021-07-31'\n",
    "\n",
    "# Periodo personale\n",
    "data_inizio = '2021-02-01'\n",
    "data_fine = '2021-07-01'\n",
    "\n",
    "indice_inizio = dati[dati['Timestamp'] == data_inizio].index[0]\n",
    "indice_fine = dati[dati['Timestamp'] == data_fine].index[0]\n",
    "dati = dati[indice_inizio:indice_fine + 1].reset_index(drop=True)\n",
    "dati"
   ]
  },
  {
   "cell_type": "code",
   "execution_count": 81,
   "metadata": {},
   "outputs": [],
   "source": [
    "# data_inizio = '2023-06-01 00'\n",
    "# data_fine = '2023-12-01 00'\n",
    "# indice_inizio = dati[dati['Timestamp'] == data_inizio].index[0]\n",
    "# indice_fine = dati[dati['Timestamp'] == data_fine].index[0]\n",
    "# dati = dati[indice_inizio:indice_fine + 1].reset_index(drop=True)\n",
    "# dati"
   ]
  },
  {
   "cell_type": "code",
   "execution_count": 82,
   "metadata": {},
   "outputs": [],
   "source": [
    "dati['Variazione'] = dati['Price'] / dati['Price'].shift(1)"
   ]
  },
  {
   "cell_type": "markdown",
   "metadata": {},
   "source": [
    "### Eventuale cambio dati"
   ]
  },
  {
   "cell_type": "code",
   "execution_count": 83,
   "metadata": {},
   "outputs": [],
   "source": [
    "def calcola_prezzo(t):\n",
    "    return dati['Price'][t] #1000 - t + 100 * math.sin(2*math.pi * t / 4)"
   ]
  },
  {
   "cell_type": "code",
   "execution_count": 84,
   "metadata": {},
   "outputs": [
    {
     "data": {
      "text/html": [
       "<div>\n",
       "<style scoped>\n",
       "    .dataframe tbody tr th:only-of-type {\n",
       "        vertical-align: middle;\n",
       "    }\n",
       "\n",
       "    .dataframe tbody tr th {\n",
       "        vertical-align: top;\n",
       "    }\n",
       "\n",
       "    .dataframe thead th {\n",
       "        text-align: right;\n",
       "    }\n",
       "</style>\n",
       "<table border=\"1\" class=\"dataframe\">\n",
       "  <thead>\n",
       "    <tr style=\"text-align: right;\">\n",
       "      <th></th>\n",
       "      <th>Timestamp</th>\n",
       "      <th>Price</th>\n",
       "      <th>Variazione</th>\n",
       "    </tr>\n",
       "  </thead>\n",
       "  <tbody>\n",
       "    <tr>\n",
       "      <th>0</th>\n",
       "      <td>2021-02-01</td>\n",
       "      <td>27790.582031</td>\n",
       "      <td>NaN</td>\n",
       "    </tr>\n",
       "    <tr>\n",
       "      <th>1</th>\n",
       "      <td>2021-02-02</td>\n",
       "      <td>29501.521484</td>\n",
       "      <td>1.061565</td>\n",
       "    </tr>\n",
       "    <tr>\n",
       "      <th>2</th>\n",
       "      <td>2021-02-03</td>\n",
       "      <td>31119.447266</td>\n",
       "      <td>1.054842</td>\n",
       "    </tr>\n",
       "    <tr>\n",
       "      <th>3</th>\n",
       "      <td>2021-02-04</td>\n",
       "      <td>30859.554688</td>\n",
       "      <td>0.991649</td>\n",
       "    </tr>\n",
       "    <tr>\n",
       "      <th>4</th>\n",
       "      <td>2021-02-05</td>\n",
       "      <td>31658.248047</td>\n",
       "      <td>1.025882</td>\n",
       "    </tr>\n",
       "    <tr>\n",
       "      <th>...</th>\n",
       "      <td>...</td>\n",
       "      <td>...</td>\n",
       "      <td>...</td>\n",
       "    </tr>\n",
       "    <tr>\n",
       "      <th>146</th>\n",
       "      <td>2021-06-27</td>\n",
       "      <td>29013.742188</td>\n",
       "      <td>1.075958</td>\n",
       "    </tr>\n",
       "    <tr>\n",
       "      <th>147</th>\n",
       "      <td>2021-06-28</td>\n",
       "      <td>28866.302734</td>\n",
       "      <td>0.994918</td>\n",
       "    </tr>\n",
       "    <tr>\n",
       "      <th>148</th>\n",
       "      <td>2021-06-29</td>\n",
       "      <td>30139.980469</td>\n",
       "      <td>1.044123</td>\n",
       "    </tr>\n",
       "    <tr>\n",
       "      <th>149</th>\n",
       "      <td>2021-06-30</td>\n",
       "      <td>29555.054688</td>\n",
       "      <td>0.980593</td>\n",
       "    </tr>\n",
       "    <tr>\n",
       "      <th>150</th>\n",
       "      <td>2021-07-01</td>\n",
       "      <td>28341.414062</td>\n",
       "      <td>0.958936</td>\n",
       "    </tr>\n",
       "  </tbody>\n",
       "</table>\n",
       "<p>151 rows × 3 columns</p>\n",
       "</div>"
      ],
      "text/plain": [
       "     Timestamp         Price  Variazione\n",
       "0   2021-02-01  27790.582031         NaN\n",
       "1   2021-02-02  29501.521484    1.061565\n",
       "2   2021-02-03  31119.447266    1.054842\n",
       "3   2021-02-04  30859.554688    0.991649\n",
       "4   2021-02-05  31658.248047    1.025882\n",
       "..         ...           ...         ...\n",
       "146 2021-06-27  29013.742188    1.075958\n",
       "147 2021-06-28  28866.302734    0.994918\n",
       "148 2021-06-29  30139.980469    1.044123\n",
       "149 2021-06-30  29555.054688    0.980593\n",
       "150 2021-07-01  28341.414062    0.958936\n",
       "\n",
       "[151 rows x 3 columns]"
      ]
     },
     "execution_count": 84,
     "metadata": {},
     "output_type": "execute_result"
    }
   ],
   "source": [
    "dati['Price'] = dati.index.map(calcola_prezzo)\n",
    "dati"
   ]
  },
  {
   "cell_type": "markdown",
   "metadata": {},
   "source": [
    "## Algoritmo"
   ]
  },
  {
   "cell_type": "code",
   "execution_count": 85,
   "metadata": {},
   "outputs": [],
   "source": [
    "# Funzione per calcolare l'ultimo prezzo di riferimento discesa\n",
    "def calcola_prezzo_riferimento_discesa(dati, soglia_discesa):\n",
    "    variazione_cumulata = 1\n",
    "    cont = 0\n",
    "\n",
    "    for j in range(len(dati), 0, -1):\n",
    "        variazione_giorno_precedente = dati['Variazione'].iloc[j-1]\n",
    "\n",
    "        if pd.isna(variazione_giorno_precedente):\n",
    "            continue\n",
    "\n",
    "        if variazione_giorno_precedente < 1:  # Prezzo in discesa\n",
    "            variazione_cumulata = 1\n",
    "            cont = 0\n",
    "        else:\n",
    "            variazione_cumulata *= variazione_giorno_precedente\n",
    "            if variazione_cumulata != variazione_giorno_precedente:\n",
    "                cont += 1\n",
    "            if variazione_cumulata - 1 >= soglia_discesa:\n",
    "                # Se la variazione supera la soglia, restituisci il riferimento\n",
    "                if j + cont - 1 == len(dati) - 1:\n",
    "                    # Se il riferimento è l'ultimo giorno, restituisci None\n",
    "                    return None, None\n",
    "                return dati['Timestamp'].iloc[j+cont-1], dati['Price'].iloc[j+cont-1]\n",
    "\n",
    "    # Se non si è trovata una variazione che supera la soglia, ritorna il primo giorno\n",
    "    return dati['Timestamp'].iloc[0], dati['Price'].iloc[0]\n",
    "\n",
    "# Funzione per calcolare l'ultimo prezzo di riferimento salita\n",
    "def calcola_prezzo_riferimento_salita(dati, soglia_salita):\n",
    "    variazione_cumulata = 1\n",
    "    cont = 0\n",
    "\n",
    "    for j in range(len(dati), 0, -1):\n",
    "        variazione_giorno_precedente = dati['Variazione'].iloc[j-1]\n",
    "\n",
    "        if pd.isna(variazione_giorno_precedente):\n",
    "            continue\n",
    "\n",
    "        if variazione_giorno_precedente > 1:  # Prezzo in salita\n",
    "            variazione_cumulata = 1\n",
    "            cont = 0\n",
    "        else:\n",
    "            variazione_cumulata *= variazione_giorno_precedente\n",
    "            if variazione_cumulata != variazione_giorno_precedente:\n",
    "                cont += 1\n",
    "            if 1 - variazione_cumulata >= soglia_salita:\n",
    "                # Se la variazione supera la soglia o il prezzo di riferimento è superiore al prezzo attuale, restituisci il riferimento\n",
    "                if j + cont - 1 == len(dati) - 1:\n",
    "                    # Se il riferimento è l'ultimo giorno, restituisci None\n",
    "                    return None, None\n",
    "                return dati['Timestamp'].iloc[j+cont-1], dati['Price'].iloc[j+cont-1]\n",
    "\n",
    "    # Se non si è trovata una variazione che supera la soglia, ritorna il primo giorno\n",
    "    return dati['Timestamp'].iloc[0], dati['Price'].iloc[0]\n",
    "\n",
    "# def rif_discesa_sbagliato(dati, soglia_calcolo_variazioni_discesa):\n",
    "#     # Cerca il prezzo di riferimento\n",
    "#     prezzo_riferimento = None\n",
    "#     variazione_cumulata = 1\n",
    "#     cont = 0\n",
    "#     for j in range(len(dati), 0, -1):\n",
    "#         variazione_giorno_precedente = dati['Variazione'].iloc[j-1]\n",
    "#         if pd.isna(variazione_giorno_precedente):\n",
    "#             continue\n",
    "#         if variazione_giorno_precedente < 1:\n",
    "#             variazione_cumulata = 1\n",
    "#             cont = 0\n",
    "#         else:\n",
    "#             variazione_cumulata *= variazione_giorno_precedente\n",
    "#             if variazione_cumulata != variazione_giorno_precedente:\n",
    "#                 cont += 1\n",
    "#             if variazione_cumulata - 1 >= soglia_calcolo_variazioni_discesa:\n",
    "#                 prezzo_riferimento = dati['Price'].iloc[j+cont-1]\n",
    "#                 timestamp_riferimento = dati['Timestamp'].iloc[j+cont-1]\n",
    "#                 break\n",
    "#     if prezzo_riferimento is None:\n",
    "#         prezzo_riferimento = dati['Price'].iloc[0]\n",
    "#         timestamp_riferimento = dati['Timestamp'].iloc[0]  # Usa il primo prezzo disponibile se nessun riferimento è trovato\n",
    "#     return timestamp_riferimento, prezzo_riferimento\n",
    "\n",
    "# def rif_salita_sbagliato(dati, soglia_calcolo_variazioni_salita):\n",
    "#     # Cerca il prezzo di riferimento\n",
    "#     prezzo_riferimento = None\n",
    "#     variazione_cumulata = 1\n",
    "#     cont = 0\n",
    "#     for j in range(len(dati), 0, -1):\n",
    "#         variazione_giorno_precedente = dati['Variazione'].iloc[j-1]\n",
    "#         if pd.isna(variazione_giorno_precedente):\n",
    "#             continue\n",
    "#         if variazione_giorno_precedente > 1:\n",
    "#             variazione_cumulata = 1\n",
    "#             cont = 0\n",
    "#         else:\n",
    "#             variazione_cumulata *= variazione_giorno_precedente\n",
    "#             if variazione_cumulata != variazione_giorno_precedente:\n",
    "#                 cont += 1\n",
    "#             if 1 - variazione_cumulata >= soglia_calcolo_variazioni_salita:\n",
    "#                 prezzo_riferimento = dati['Price'].iloc[j+cont-1]\n",
    "#                 timestamp_riferimento = dati['Timestamp'].iloc[j+cont-1]\n",
    "#                 break\n",
    "#     if prezzo_riferimento is None:\n",
    "#         prezzo_riferimento = dati['Price'].iloc[0]\n",
    "#         timestamp_riferimento = dati['Timestamp'].iloc[0]  # Usa il primo prezzo disponibile se nessun riferimento è trovato\n",
    "#     return timestamp_riferimento, prezzo_riferimento\n",
    "\n",
    "\n",
    "def calcola_percentuale(variazione, coefficienti, A, B):\n",
    "    if isinstance(coefficienti, list):\n",
    "        # Se coefficienti è una lista, esegue la somma ponderata delle variazioni\n",
    "        return min(max(sum([c * variazione ** i for i, c in enumerate(coefficienti)]), 0), 1)\n",
    "    \n",
    "    elif isinstance(coefficienti, str) and coefficienti != 'custom_exp':\n",
    "        # Se coefficienti è una stringa, interpreta la stringa come una formula matematica\n",
    "        # Sostituisci 'x' con il valore di variazione\n",
    "        formula = coefficienti.replace('x', str(variazione))\n",
    "        # Usa eval per calcolare il risultato\n",
    "        try:\n",
    "            risultato = eval(formula)\n",
    "        except Exception as e:\n",
    "            raise ValueError(f\"Errore nell'interpretazione della formula: {e}\")\n",
    "        return min(max(risultato, 0), 1)\n",
    "    \n",
    "    elif coefficienti == 'custom_exp':\n",
    "        return eval(f'variazione ** {A} / ({B} + (1 - {B}) * variazione ** {A})')\n",
    "    \n",
    "    else:\n",
    "        raise TypeError(\"Il parametro 'coefficienti' deve essere una lista, una stringa o 'custom_exp'.\")"
   ]
  },
  {
   "cell_type": "code",
   "execution_count": 86,
   "metadata": {},
   "outputs": [],
   "source": [
    "# Define the function\n",
    "def plot_custom_exp(A, B):\n",
    "    # Generate a range of x values (variazione)\n",
    "    variazione = np.linspace(0, 1, 500)\n",
    "    \n",
    "    # Calculate the function's values\n",
    "    # y = variazione ** A / (B + (1 - B) * variazione ** A)\n",
    "    \n",
    "    # Plot the function\n",
    "    plt.figure(figsize=(10, 6))\n",
    "    plt.plot(variazione, calcola_percentuale(variazione, 'custom_exp', A, B), label=f'A={A}, B={B}')\n",
    "    plt.xlabel('Variazione')\n",
    "    plt.ylabel('Funzione')\n",
    "    plt.title(f'Grafico della funzione')\n",
    "    plt.legend()\n",
    "    plt.grid()\n",
    "    plt.show()"
   ]
  },
  {
   "cell_type": "code",
   "execution_count": 87,
   "metadata": {},
   "outputs": [
    {
     "data": {
      "text/html": [
       "<div>\n",
       "<style scoped>\n",
       "    .dataframe tbody tr th:only-of-type {\n",
       "        vertical-align: middle;\n",
       "    }\n",
       "\n",
       "    .dataframe tbody tr th {\n",
       "        vertical-align: top;\n",
       "    }\n",
       "\n",
       "    .dataframe thead th {\n",
       "        text-align: right;\n",
       "    }\n",
       "</style>\n",
       "<table border=\"1\" class=\"dataframe\">\n",
       "  <thead>\n",
       "    <tr style=\"text-align: right;\">\n",
       "      <th></th>\n",
       "      <th>data</th>\n",
       "      <th>prezzo</th>\n",
       "      <th>variazione_giornaliera_prezzo_percentuale</th>\n",
       "      <th>timestamp_riferimento_discesa</th>\n",
       "      <th>prezzo_riferimento_discesa</th>\n",
       "      <th>variazione_rispetto_riferimento_discesa</th>\n",
       "      <th>timestamp_riferimento_salita</th>\n",
       "      <th>prezzo_riferimento_salita</th>\n",
       "      <th>variazione_rispetto_riferimento_salita</th>\n",
       "      <th>azione</th>\n",
       "      <th>Percentuale Liquidità Usata</th>\n",
       "      <th>Percentuale Bitcoin Usata</th>\n",
       "      <th>Percentuale Liquidità Usata rispetto riferimento</th>\n",
       "      <th>Percentuale Bitcoin Usata rispetto riferimento</th>\n",
       "      <th>quantità_euro</th>\n",
       "      <th>Bitcoin Acquistati/Venduti</th>\n",
       "      <th>Liquidità</th>\n",
       "      <th>Bitcoin</th>\n",
       "      <th>valore_totale_portafoglio</th>\n",
       "    </tr>\n",
       "  </thead>\n",
       "  <tbody>\n",
       "    <tr>\n",
       "      <th>0</th>\n",
       "      <td>2021-02-02</td>\n",
       "      <td>29501.521484</td>\n",
       "      <td>6.16%</td>\n",
       "      <td>NaT</td>\n",
       "      <td>NaN</td>\n",
       "      <td>None</td>\n",
       "      <td>2021-02-01</td>\n",
       "      <td>27790.582031</td>\n",
       "      <td>6.16%</td>\n",
       "      <td>-</td>\n",
       "      <td>0</td>\n",
       "      <td>0</td>\n",
       "      <td>0</td>\n",
       "      <td>0</td>\n",
       "      <td>0</td>\n",
       "      <td>0</td>\n",
       "      <td>0</td>\n",
       "      <td>0.024781</td>\n",
       "      <td>731.090775</td>\n",
       "    </tr>\n",
       "    <tr>\n",
       "      <th>1</th>\n",
       "      <td>2021-02-03</td>\n",
       "      <td>31119.447266</td>\n",
       "      <td>5.48%</td>\n",
       "      <td>NaT</td>\n",
       "      <td>NaN</td>\n",
       "      <td>None</td>\n",
       "      <td>2021-02-01</td>\n",
       "      <td>27790.582031</td>\n",
       "      <td>11.98%</td>\n",
       "      <td>-</td>\n",
       "      <td>0</td>\n",
       "      <td>0</td>\n",
       "      <td>0</td>\n",
       "      <td>0</td>\n",
       "      <td>0</td>\n",
       "      <td>0</td>\n",
       "      <td>0</td>\n",
       "      <td>0.024781</td>\n",
       "      <td>771.185338</td>\n",
       "    </tr>\n",
       "    <tr>\n",
       "      <th>2</th>\n",
       "      <td>2021-02-04</td>\n",
       "      <td>30859.554688</td>\n",
       "      <td>-0.84%</td>\n",
       "      <td>2021-02-03</td>\n",
       "      <td>31119.447266</td>\n",
       "      <td>-0.84%</td>\n",
       "      <td>2021-02-01</td>\n",
       "      <td>27790.582031</td>\n",
       "      <td>11.04%</td>\n",
       "      <td>-</td>\n",
       "      <td>0</td>\n",
       "      <td>0</td>\n",
       "      <td>0</td>\n",
       "      <td>0</td>\n",
       "      <td>0</td>\n",
       "      <td>0</td>\n",
       "      <td>0</td>\n",
       "      <td>0.024781</td>\n",
       "      <td>764.744820</td>\n",
       "    </tr>\n",
       "    <tr>\n",
       "      <th>3</th>\n",
       "      <td>2021-02-05</td>\n",
       "      <td>31658.248047</td>\n",
       "      <td>2.59%</td>\n",
       "      <td>2021-02-03</td>\n",
       "      <td>31119.447266</td>\n",
       "      <td>1.73%</td>\n",
       "      <td>2021-02-01</td>\n",
       "      <td>27790.582031</td>\n",
       "      <td>13.92%</td>\n",
       "      <td>-</td>\n",
       "      <td>0</td>\n",
       "      <td>0</td>\n",
       "      <td>0</td>\n",
       "      <td>0</td>\n",
       "      <td>0</td>\n",
       "      <td>0</td>\n",
       "      <td>0</td>\n",
       "      <td>0.024781</td>\n",
       "      <td>784.537608</td>\n",
       "    </tr>\n",
       "    <tr>\n",
       "      <th>4</th>\n",
       "      <td>2021-02-06</td>\n",
       "      <td>32588.472656</td>\n",
       "      <td>2.94%</td>\n",
       "      <td>NaT</td>\n",
       "      <td>NaN</td>\n",
       "      <td>None</td>\n",
       "      <td>2021-02-01</td>\n",
       "      <td>27790.582031</td>\n",
       "      <td>17.26%</td>\n",
       "      <td>-</td>\n",
       "      <td>0</td>\n",
       "      <td>0</td>\n",
       "      <td>0</td>\n",
       "      <td>0</td>\n",
       "      <td>0</td>\n",
       "      <td>0</td>\n",
       "      <td>0</td>\n",
       "      <td>0.024781</td>\n",
       "      <td>807.589932</td>\n",
       "    </tr>\n",
       "    <tr>\n",
       "      <th>...</th>\n",
       "      <td>...</td>\n",
       "      <td>...</td>\n",
       "      <td>...</td>\n",
       "      <td>...</td>\n",
       "      <td>...</td>\n",
       "      <td>...</td>\n",
       "      <td>...</td>\n",
       "      <td>...</td>\n",
       "      <td>...</td>\n",
       "      <td>...</td>\n",
       "      <td>...</td>\n",
       "      <td>...</td>\n",
       "      <td>...</td>\n",
       "      <td>...</td>\n",
       "      <td>...</td>\n",
       "      <td>...</td>\n",
       "      <td>...</td>\n",
       "      <td>...</td>\n",
       "      <td>...</td>\n",
       "    </tr>\n",
       "    <tr>\n",
       "      <th>145</th>\n",
       "      <td>2021-06-27</td>\n",
       "      <td>29013.742188</td>\n",
       "      <td>7.6%</td>\n",
       "      <td>NaT</td>\n",
       "      <td>NaN</td>\n",
       "      <td>None</td>\n",
       "      <td>2021-06-25</td>\n",
       "      <td>26502.841797</td>\n",
       "      <td>9.47%</td>\n",
       "      <td>-</td>\n",
       "      <td>0</td>\n",
       "      <td>0</td>\n",
       "      <td>0</td>\n",
       "      <td>0</td>\n",
       "      <td>0</td>\n",
       "      <td>0</td>\n",
       "      <td>0</td>\n",
       "      <td>0.024781</td>\n",
       "      <td>719.002891</td>\n",
       "    </tr>\n",
       "    <tr>\n",
       "      <th>146</th>\n",
       "      <td>2021-06-28</td>\n",
       "      <td>28866.302734</td>\n",
       "      <td>-0.51%</td>\n",
       "      <td>2021-06-27</td>\n",
       "      <td>29013.742188</td>\n",
       "      <td>-0.51%</td>\n",
       "      <td>2021-06-25</td>\n",
       "      <td>26502.841797</td>\n",
       "      <td>8.92%</td>\n",
       "      <td>-</td>\n",
       "      <td>0</td>\n",
       "      <td>0</td>\n",
       "      <td>0</td>\n",
       "      <td>0</td>\n",
       "      <td>0</td>\n",
       "      <td>0</td>\n",
       "      <td>0</td>\n",
       "      <td>0.024781</td>\n",
       "      <td>715.349127</td>\n",
       "    </tr>\n",
       "    <tr>\n",
       "      <th>147</th>\n",
       "      <td>2021-06-29</td>\n",
       "      <td>30139.980469</td>\n",
       "      <td>4.41%</td>\n",
       "      <td>2021-06-27</td>\n",
       "      <td>29013.742188</td>\n",
       "      <td>3.88%</td>\n",
       "      <td>2021-06-25</td>\n",
       "      <td>26502.841797</td>\n",
       "      <td>13.72%</td>\n",
       "      <td>-</td>\n",
       "      <td>0</td>\n",
       "      <td>0</td>\n",
       "      <td>0</td>\n",
       "      <td>0</td>\n",
       "      <td>0</td>\n",
       "      <td>0</td>\n",
       "      <td>0</td>\n",
       "      <td>0.024781</td>\n",
       "      <td>746.912720</td>\n",
       "    </tr>\n",
       "    <tr>\n",
       "      <th>148</th>\n",
       "      <td>2021-06-30</td>\n",
       "      <td>29555.054688</td>\n",
       "      <td>-1.94%</td>\n",
       "      <td>2021-06-27</td>\n",
       "      <td>29013.742188</td>\n",
       "      <td>1.87%</td>\n",
       "      <td>2021-06-25</td>\n",
       "      <td>26502.841797</td>\n",
       "      <td>11.52%</td>\n",
       "      <td>-</td>\n",
       "      <td>0</td>\n",
       "      <td>0</td>\n",
       "      <td>0</td>\n",
       "      <td>0</td>\n",
       "      <td>0</td>\n",
       "      <td>0</td>\n",
       "      <td>0</td>\n",
       "      <td>0.024781</td>\n",
       "      <td>732.417406</td>\n",
       "    </tr>\n",
       "    <tr>\n",
       "      <th>149</th>\n",
       "      <td>2021-07-01</td>\n",
       "      <td>28341.414062</td>\n",
       "      <td>-4.11%</td>\n",
       "      <td>2021-06-27</td>\n",
       "      <td>29013.742188</td>\n",
       "      <td>-2.32%</td>\n",
       "      <td>NaT</td>\n",
       "      <td>NaN</td>\n",
       "      <td>None</td>\n",
       "      <td>-</td>\n",
       "      <td>0</td>\n",
       "      <td>0</td>\n",
       "      <td>0</td>\n",
       "      <td>0</td>\n",
       "      <td>0</td>\n",
       "      <td>0</td>\n",
       "      <td>0</td>\n",
       "      <td>0.024781</td>\n",
       "      <td>702.341619</td>\n",
       "    </tr>\n",
       "  </tbody>\n",
       "</table>\n",
       "<p>150 rows × 19 columns</p>\n",
       "</div>"
      ],
      "text/plain": [
       "          data        prezzo variazione_giornaliera_prezzo_percentuale  \\\n",
       "0   2021-02-02  29501.521484                                     6.16%   \n",
       "1   2021-02-03  31119.447266                                     5.48%   \n",
       "2   2021-02-04  30859.554688                                    -0.84%   \n",
       "3   2021-02-05  31658.248047                                     2.59%   \n",
       "4   2021-02-06  32588.472656                                     2.94%   \n",
       "..         ...           ...                                       ...   \n",
       "145 2021-06-27  29013.742188                                      7.6%   \n",
       "146 2021-06-28  28866.302734                                    -0.51%   \n",
       "147 2021-06-29  30139.980469                                     4.41%   \n",
       "148 2021-06-30  29555.054688                                    -1.94%   \n",
       "149 2021-07-01  28341.414062                                    -4.11%   \n",
       "\n",
       "    timestamp_riferimento_discesa  prezzo_riferimento_discesa  \\\n",
       "0                             NaT                         NaN   \n",
       "1                             NaT                         NaN   \n",
       "2                      2021-02-03                31119.447266   \n",
       "3                      2021-02-03                31119.447266   \n",
       "4                             NaT                         NaN   \n",
       "..                            ...                         ...   \n",
       "145                           NaT                         NaN   \n",
       "146                    2021-06-27                29013.742188   \n",
       "147                    2021-06-27                29013.742188   \n",
       "148                    2021-06-27                29013.742188   \n",
       "149                    2021-06-27                29013.742188   \n",
       "\n",
       "    variazione_rispetto_riferimento_discesa timestamp_riferimento_salita  \\\n",
       "0                                      None                   2021-02-01   \n",
       "1                                      None                   2021-02-01   \n",
       "2                                    -0.84%                   2021-02-01   \n",
       "3                                     1.73%                   2021-02-01   \n",
       "4                                      None                   2021-02-01   \n",
       "..                                      ...                          ...   \n",
       "145                                    None                   2021-06-25   \n",
       "146                                  -0.51%                   2021-06-25   \n",
       "147                                   3.88%                   2021-06-25   \n",
       "148                                   1.87%                   2021-06-25   \n",
       "149                                  -2.32%                          NaT   \n",
       "\n",
       "     prezzo_riferimento_salita variazione_rispetto_riferimento_salita azione  \\\n",
       "0                 27790.582031                                  6.16%      -   \n",
       "1                 27790.582031                                 11.98%      -   \n",
       "2                 27790.582031                                 11.04%      -   \n",
       "3                 27790.582031                                 13.92%      -   \n",
       "4                 27790.582031                                 17.26%      -   \n",
       "..                         ...                                    ...    ...   \n",
       "145               26502.841797                                  9.47%      -   \n",
       "146               26502.841797                                  8.92%      -   \n",
       "147               26502.841797                                 13.72%      -   \n",
       "148               26502.841797                                 11.52%      -   \n",
       "149                        NaN                                   None      -   \n",
       "\n",
       "    Percentuale Liquidità Usata Percentuale Bitcoin Usata  \\\n",
       "0                             0                         0   \n",
       "1                             0                         0   \n",
       "2                             0                         0   \n",
       "3                             0                         0   \n",
       "4                             0                         0   \n",
       "..                          ...                       ...   \n",
       "145                           0                         0   \n",
       "146                           0                         0   \n",
       "147                           0                         0   \n",
       "148                           0                         0   \n",
       "149                           0                         0   \n",
       "\n",
       "    Percentuale Liquidità Usata rispetto riferimento  \\\n",
       "0                                                  0   \n",
       "1                                                  0   \n",
       "2                                                  0   \n",
       "3                                                  0   \n",
       "4                                                  0   \n",
       "..                                               ...   \n",
       "145                                                0   \n",
       "146                                                0   \n",
       "147                                                0   \n",
       "148                                                0   \n",
       "149                                                0   \n",
       "\n",
       "    Percentuale Bitcoin Usata rispetto riferimento quantità_euro  \\\n",
       "0                                                0             0   \n",
       "1                                                0             0   \n",
       "2                                                0             0   \n",
       "3                                                0             0   \n",
       "4                                                0             0   \n",
       "..                                             ...           ...   \n",
       "145                                              0             0   \n",
       "146                                              0             0   \n",
       "147                                              0             0   \n",
       "148                                              0             0   \n",
       "149                                              0             0   \n",
       "\n",
       "    Bitcoin Acquistati/Venduti Liquidità   Bitcoin  valore_totale_portafoglio  \n",
       "0                            0         0  0.024781                 731.090775  \n",
       "1                            0         0  0.024781                 771.185338  \n",
       "2                            0         0  0.024781                 764.744820  \n",
       "3                            0         0  0.024781                 784.537608  \n",
       "4                            0         0  0.024781                 807.589932  \n",
       "..                         ...       ...       ...                        ...  \n",
       "145                          0         0  0.024781                 719.002891  \n",
       "146                          0         0  0.024781                 715.349127  \n",
       "147                          0         0  0.024781                 746.912720  \n",
       "148                          0         0  0.024781                 732.417406  \n",
       "149                          0         0  0.024781                 702.341619  \n",
       "\n",
       "[150 rows x 19 columns]"
      ]
     },
     "execution_count": 87,
     "metadata": {},
     "output_type": "execute_result"
    }
   ],
   "source": [
    "# Parametri della strategia\n",
    "inverti_riferimento_acquisto = True # Se è True, la variazione percentuale viene calcolata \"dall'alto in basso\" (ad esempio, se il prezzo passa da 80 a 40 la variazione % è considerata del -50%); se è False, la variazione percentuale viene calcolata \"dal basso all'alto\" (ad esempio, se il prezzo passa da 80 a 40 la variazione % è considerata del +100% perchè da 40 a 80 c'è il 100%); la percentuale di acquisto sarà poi una funzione del modulo di questa variazione % attraverso la function calcola_percentuale\n",
    "inverti_riferimento_vendita = True # Se è True, la variazione percentuale viene calcolata \"dal basso all'alto\" (ad esempio, se il prezzo passa da 70 a 140 la variazione % è considerata del +100%); se è False, la variazione percentuale viene calcolata \"dall'alto al basso\" (ad esempio, se il prezzo passa da 70 a 140 la variazione % è considerata del -50% perchè da 140 a 70 c'è il -50%); la percentuale di vendita sarà poi una funzione del modulo di questa variazione % attraverso la function calcola_percentuale\n",
    "acquisto_rispetto_liquidità_iniziale = False\n",
    "vendita_rispetto_massimo_btc_posseduti = True\n",
    "compra_pure = False\n",
    "vendi_pure = False\n",
    "soglia_vendita = 0 # La vendita avviene solo se il prezzo è superiore almeno di questa percentuale rispetto al prezzo medio pesato degli ultimi acquisti consecutivi, dove i pesi sono gli euro spesi\n",
    "A_a = 10 # Scegliere un numero > 0, anche se per una curva convessa conviene > 1\n",
    "B_a = 0.001 # Scegliere un numero > 0\n",
    "A_v = 10 # Scegliere un numero > 0, anche se per una curva convessa conviene > 1\n",
    "B_v = 0.001 # Scegliere un numero > 0\n",
    "coefficienti_acquisto = 'custom_exp' # Scegliere se mandare una lista che rappresenta i coefficienti di un polinomio, una stringa con una funzione in particolare scritta in Python, oppure custom_exp per l'esponenziale personalizzato con i parametri A e B\n",
    "coefficienti_vendita =  'custom_exp' # Scegliere se mandare una lista che rappresenta i coefficienti di un polinomio, una stringa con una funzione in particolare scritta in Python, oppure custom_exp per l'esponenziale personalizzato con i parametri A e B\n",
    "compra_solo_in_discesa = False\n",
    "vendi_solo_in_salita = False\n",
    "soglia_acquisto_rispetto_riferimento = 0 # L'acquisto avviene solo se il prezzo è sceso almeno di questa percentuale rispetto al prezzo_riferimento_discesa\n",
    "soglia_vendita_rispetto_riferimento = 0 # La vendita avviene solo se il prezzo è salito almeno di questa percentuale rispetto al prezzo_riferimento_salita\n",
    "# Parametri per le soglie\n",
    "soglia_calcolo_variazioni_discesa = 0.05\n",
    "soglia_calcolo_variazioni_salita = 0.05\n",
    "\n",
    "perc_relativa = True # Se è False, la percentuale di variazione dei prezzi viene calcolata in senso assoluto (ad esempio, se il prezzo è 50€ e cala del 10% diventa 45€) sia per variazioni positive che per variazioni negative; se è True: se il prezzo_riferimento corrente è prezzo_riferimento_discesa, guardo quanto è sceso il prezzo relativamente al minimo degli ultimi finestra_minimo giorni  (ad esempio, se prezzo_riferimento_discesa era 80€, oggi è 70€ e il minimo è 50€, un calo del 100% sarebbe andato da 80€ a 50€, e quindi in proporzione un calo da 80€ a 70€ corrisponde a un -33.3%), mentre se il prezzo di riferimento è prezzo_riferimento_salita, guardo quanto è salito relativamente al massimo degli ultimi finestra_massimo giorni (ad esempio, se prezzo_riferimento_salita era 20€, quello di oggi è 50€ e il massimo è 90€, la salita relativa in percntuale è 3/7 ~ 42.9%); notare che se perc_relativa è True, sono indifferenti i valori di inverti_riferimento_acquisto nel caso di una discesa e inverti_riferimento_vendita nel caso di una salita, mentre se è False sono ovviamente indifferenti il valore di finestra_minimo e di finestra_massimo\n",
    "finestra_minimo = 30 # Finestra per calcolare il minimo, compreso il giorno attuale\n",
    "finestra_massimo = 30 # Finestra per calcolare il massimo, compreso il giorno attuale\n",
    "nuovi_min_all_in = True # Utile solo se perc_relativa è True, altrimenti è come se non ci fosse: se è False, evita di acquistare il 100% se il prezzo attuale diventa il nuovo minimo, e in quel caso invece acquista come se perc_relativa fosse False (guardando quindi anche inverti_riferimento_acquisto e agendo di conseguenza); se è True, in caso di nuovi minimi acquista subito con il 100% di liquidità appena il prezzo diventa lui stesso il nuovo minimo degli ultimi finestra_minimo giorni\n",
    "nuovi_max_all_in = True # Analogo di nuovi_min_all_in ma per il massimo (evita di vendere il 100%)\n",
    "\n",
    "soglia_acquisti_vicini = 0.05 # Se è 0, è come se questa variabile non esistesse perchè rimane tutto come prima; se è > 0, un acquisto avviene solo se il prezzo attuale è almeno di questa soglia percentuale sopra l'ultimo prezzo di acquisto (ammesso che ci sia un acquisto precedente, e solo se non ci sono state delle vendite tra il giorno di quell'acquisto e oggi): ad esempio, se il prezzo dell'ultimo acquisto era 50€ e questa soglia è 5%, l'eventuale acquisto di oggi avviene solo se il prezzo è sopra 52.5 o sotto 47.5\n",
    "soglia_vendite_vicine = 0.05 # Analogo di soglia_acquisti_vicini, ma con le vendite\n",
    "\n",
    "\n",
    "\n",
    "# Parametri iniziali\n",
    "liquidità_iniziale = 0  # Euro iniziali\n",
    "bitcoin_iniziali = 0.02478146\n",
    "liquidità = liquidità_iniziale\n",
    "bitcoin = bitcoin_iniziali\n",
    "valore_totale_portafoglio = liquidità + bitcoin * dati['Price'][0]\n",
    "\n",
    "# Calcolo variazioni giornaliere\n",
    "dati['Variazione'] = dati['Price'] / dati['Price'].shift(1)\n",
    "\n",
    "# Inizializza la lista delle transazioni\n",
    "df_transazioni = pd.DataFrame(columns=['data', 'prezzo', 'variazione_giornaliera_prezzo_percentuale', 'timestamp_riferimento_discesa', 'prezzo_riferimento_discesa', 'variazione_rispetto_riferimento_discesa', 'timestamp_riferimento_salita', 'prezzo_riferimento_salita', 'variazione_rispetto_riferimento_salita', 'azione', 'Percentuale Liquidità Usata', 'Percentuale Bitcoin Usata', 'Percentuale Liquidità Usata rispetto riferimento', 'Percentuale Bitcoin Usata rispetto riferimento', 'quantità_euro', 'Bitcoin Acquistati/Venduti', 'Liquidità', 'Bitcoin', 'valore_totale_portafoglio'])\n",
    "\n",
    "# Variabili per tenere traccia degli acquisti consecutivi\n",
    "acquisti_consecutivi = []\n",
    "quantità_euro_totale = 0  # Somma totale degli euro spesi negli acquisti consecutivi\n",
    "\n",
    "liquidità_iniziale_in_btc = liquidità_iniziale / dati['Price'].iloc[0]\n",
    "\n",
    "ultimo_prezzo_acquisto = None\n",
    "ultimo_prezzo_vendita = None\n",
    "ultima_azione = None\n",
    "azione = None\n",
    "\n",
    "\n",
    "# Simulazione del trading giorno per giorno\n",
    "for i in range(1, len(dati)):\n",
    "    data_odierna = dati['Timestamp'].iloc[i]\n",
    "    prezzo_attuale = dati['Price'].iloc[i]\n",
    "    variazione_giornaliera_prezzo_percentuale = (dati['Variazione'].iloc[i] - 1) * 100\n",
    "    if perc_relativa:\n",
    "        if finestra_minimo <= i:\n",
    "            minimo_ultimi_giorni = np.min(dati['Price'].iloc[i-finestra_minimo:i+1])\n",
    "\n",
    "        else:\n",
    "            minimo_ultimi_giorni = np.min(dati['Price'].iloc[:i+1])\n",
    "\n",
    "        if finestra_massimo <= i:\n",
    "            massimo_ultimi_giorni = np.max(dati['Price'].iloc[i-finestra_massimo:i+1])\n",
    "\n",
    "        else:\n",
    "            massimo_ultimi_giorni = np.max(dati['Price'].iloc[:i+1])\n",
    "    \n",
    "    # Calcola i prezzi di riferimento discesa e salita\n",
    "    timestamp_riferimento_discesa, prezzo_riferimento_discesa = calcola_prezzo_riferimento_discesa(dati.iloc[:i+1], soglia_calcolo_variazioni_discesa)\n",
    "    timestamp_riferimento_salita, prezzo_riferimento_salita = calcola_prezzo_riferimento_salita(dati.iloc[:i+1], soglia_calcolo_variazioni_salita)\n",
    "    # timestamp_riferimento_discesa, prezzo_riferimento_discesa = rif_discesa_sbagliato(dati.iloc[:i], soglia_calcolo_variazioni_discesa)\n",
    "    # timestamp_riferimento_salita, prezzo_riferimento_salita = rif_salita_sbagliato(dati.iloc[:i], soglia_calcolo_variazioni_salita)\n",
    "\n",
    "    # Scegli il prezzo di riferimento più recente (se esiste)\n",
    "    prezzo_riferimento = None\n",
    "    if prezzo_riferimento_discesa is not None and prezzo_riferimento_salita is not None:\n",
    "        if timestamp_riferimento_discesa > timestamp_riferimento_salita:\n",
    "            prezzo_riferimento = prezzo_riferimento_discesa\n",
    "            tipo_riferimento = 'discesa'\n",
    "        else:\n",
    "            prezzo_riferimento = prezzo_riferimento_salita\n",
    "            tipo_riferimento = 'salita'\n",
    "    elif prezzo_riferimento_discesa is not None:\n",
    "        prezzo_riferimento = prezzo_riferimento_discesa\n",
    "        tipo_riferimento = 'discesa'\n",
    "    elif prezzo_riferimento_salita is not None:\n",
    "        prezzo_riferimento = prezzo_riferimento_salita\n",
    "        tipo_riferimento = 'salita'\n",
    "\n",
    "    # Se nessun riferimento è disponibile, passa al giorno successivo\n",
    "    if prezzo_riferimento is None:\n",
    "        continue\n",
    "\n",
    "    # Variabili per tracciare l'azione e la transazione\n",
    "    azione = '-'\n",
    "    percentuale_liquidità_usata = 0\n",
    "    percentuale_bitcoin_usata = 0\n",
    "    percentuale_liquidità_usata_rispetto_rif = 0\n",
    "    percentuale_bitcoin_usata_rispetto_rif = 0\n",
    "    euro_spesi_o_ricavati = 0\n",
    "    bitcoin_acquistati_o_venduti = 0\n",
    "\n",
    "    # Logica di acquisto o vendita in base al riferimento più recente\n",
    "    if tipo_riferimento == 'discesa':  # Logica di acquisto\n",
    "        if not perc_relativa:\n",
    "            if inverti_riferimento_acquisto:\n",
    "                variazione_percentuale = (prezzo_riferimento_discesa - prezzo_attuale) / prezzo_attuale\n",
    "            else:\n",
    "                variazione_percentuale = (prezzo_riferimento_discesa - prezzo_attuale) / prezzo_riferimento_discesa\n",
    "        else:\n",
    "            den = prezzo_riferimento_discesa - minimo_ultimi_giorni\n",
    "            if den > 0: # Aggiungo questo controllo perchè in generale potrebbe anche accadere che il minimo sia superiore all'ultimo prezzo_riferimento_discesa salvato\n",
    "                num = prezzo_riferimento_discesa - prezzo_attuale\n",
    "                variazione_percentuale = num / den\n",
    "                if not nuovi_min_all_in and variazione_percentuale == 1:\n",
    "                    if inverti_riferimento_acquisto:\n",
    "                        variazione_percentuale = (prezzo_riferimento_discesa - prezzo_attuale) / prezzo_attuale\n",
    "                    else:\n",
    "                        variazione_percentuale = (prezzo_riferimento_discesa - prezzo_attuale) / prezzo_riferimento_discesa\n",
    "            else:\n",
    "                variazione_percentuale = 0\n",
    "\n",
    "\n",
    "        percentuale_acquisto = calcola_percentuale(abs(variazione_percentuale), coefficienti_acquisto, A_a, B_a)\n",
    "        liquidità_da_usare = liquidità_iniziale if acquisto_rispetto_liquidità_iniziale else liquidità\n",
    "        euro_da_spendere = liquidità_da_usare * percentuale_acquisto\n",
    "\n",
    "        if euro_da_spendere > liquidità:\n",
    "            if compra_pure:\n",
    "                euro_da_spendere = liquidità  # Usa tutto\n",
    "            else:\n",
    "                euro_da_spendere = 0  # Non fare niente\n",
    "\n",
    "        if euro_da_spendere > 0 and (compra_solo_in_discesa and variazione_giornaliera_prezzo_percentuale < 0 or not compra_solo_in_discesa) and prezzo_attuale < prezzo_riferimento_discesa * (1 - soglia_acquisto_rispetto_riferimento) and (soglia_acquisti_vicini > 0 and ultimo_prezzo_acquisto is not None and ultima_azione == 'Acquisto' and abs(prezzo_attuale - ultimo_prezzo_acquisto) >= soglia_acquisti_vicini * ultimo_prezzo_acquisto or soglia_acquisti_vicini == 0 or ultima_azione is None):\n",
    "            percentuale_liquidità_usata = euro_da_spendere / liquidità\n",
    "            bitcoin_acquistati = euro_da_spendere / prezzo_attuale\n",
    "            liquidità -= euro_da_spendere\n",
    "            bitcoin += bitcoin_acquistati\n",
    "            azione = 'Acquisto'\n",
    "            ultima_azione = azione\n",
    "            percentuale_liquidità_usata_rispetto_rif = percentuale_acquisto\n",
    "            euro_spesi_o_ricavati = euro_da_spendere\n",
    "            bitcoin_acquistati_o_venduti = bitcoin_acquistati\n",
    "            \n",
    "            # Aggiungi questo acquisto alla lista degli acquisti consecutivi\n",
    "            acquisti_consecutivi.append((prezzo_attuale, euro_da_spendere))\n",
    "            quantità_euro_totale += euro_da_spendere\n",
    "            ultimo_prezzo_acquisto = prezzo_attuale\n",
    "\n",
    "    elif tipo_riferimento == 'salita':  # Logica di vendita\n",
    "        if not perc_relativa:\n",
    "            if inverti_riferimento_vendita:\n",
    "                variazione_percentuale = (prezzo_attuale - prezzo_riferimento_salita) / prezzo_attuale\n",
    "            else:\n",
    "                variazione_percentuale = (prezzo_attuale - prezzo_riferimento_salita) / prezzo_riferimento_salita\n",
    "        else:\n",
    "            den = massimo_ultimi_giorni - prezzo_riferimento_salita\n",
    "            if den > 0: # Aggiungo questo controllo perchè in generale potrebbe anche accadere che il massimo sia inferiore all'ultimo prezzo_riferimento_salita salvato\n",
    "                num = prezzo_attuale - prezzo_riferimento_salita\n",
    "                variazione_percentuale = num / den\n",
    "                if not nuovi_max_all_in and variazione_percentuale == 1:\n",
    "                    if inverti_riferimento_vendita:\n",
    "                        variazione_percentuale = (prezzo_attuale - prezzo_riferimento_salita) / prezzo_attuale\n",
    "                    else:\n",
    "                        variazione_percentuale = (prezzo_attuale - prezzo_riferimento_salita) / prezzo_riferimento_salita\n",
    "            else:\n",
    "                variazione_percentuale = 0\n",
    "\n",
    "        percentuale_vendita = calcola_percentuale(abs(variazione_percentuale), coefficienti_vendita, A_v, B_v)\n",
    "        bitcoin_da_usare = liquidità_iniziale_in_btc if vendita_rispetto_massimo_btc_posseduti else bitcoin\n",
    "        bitcoin_da_vendere = bitcoin_da_usare * percentuale_vendita\n",
    "\n",
    "\n",
    "        # Controllo del prezzo di vendita rispetto alla media pesata degli acquisti consecutivi\n",
    "        if acquisti_consecutivi:\n",
    "            # Calcolo della media pesata dei prezzi di acquisto\n",
    "            somma_pesata = sum(prezzo * euro for prezzo, euro in acquisti_consecutivi)\n",
    "            media_pesata_acquisti = somma_pesata / quantità_euro_totale\n",
    "\n",
    "            # Verifica che il prezzo attuale sia superiore alla soglia rispetto alla media pesata\n",
    "            if prezzo_attuale <= media_pesata_acquisti * (1 + soglia_vendita):\n",
    "                # Se non soddisfa la soglia di vendita, non fare niente\n",
    "                bitcoin_da_vendere = 0\n",
    "\n",
    "        if bitcoin_da_vendere > bitcoin:\n",
    "            if vendi_pure:\n",
    "                bitcoin_da_vendere = bitcoin  # Vendi tutto\n",
    "            else:\n",
    "                bitcoin_da_vendere = 0  # Non fare niente\n",
    "\n",
    "        if bitcoin_da_vendere > 0 and (vendi_solo_in_salita and variazione_giornaliera_prezzo_percentuale > 0 or not vendi_solo_in_salita) and prezzo_attuale > prezzo_riferimento_salita * (1 + soglia_vendita_rispetto_riferimento) and (soglia_vendite_vicine > 0 and ultimo_prezzo_vendita is not None and ultima_azione == 'Vendita' and abs(prezzo_attuale - ultimo_prezzo_vendita) >= soglia_vendite_vicine * ultimo_prezzo_vendita or soglia_vendite_vicine == 0 or ultima_azione is None):\n",
    "            percentuale_bitcoin_usata = bitcoin_da_vendere / bitcoin\n",
    "            euro_ricavati = bitcoin_da_vendere * prezzo_attuale\n",
    "            bitcoin -= bitcoin_da_vendere\n",
    "            liquidità += euro_ricavati\n",
    "            azione = 'Vendita'\n",
    "            ultima_azione = azione\n",
    "            percentuale_bitcoin_usata_rispetto_rif = percentuale_vendita\n",
    "            euro_spesi_o_ricavati = euro_ricavati\n",
    "            bitcoin_acquistati_o_venduti = bitcoin_da_vendere\n",
    "\n",
    "            # Reset degli acquisti consecutivi dopo una vendita\n",
    "            acquisti_consecutivi = []\n",
    "            quantità_euro_totale = 0\n",
    "            ultimo_prezzo_vendita = prezzo_attuale\n",
    "\n",
    "\n",
    "    # Aggiorna il valore totale del portafoglio\n",
    "    valore_totale_portafoglio = liquidità + (bitcoin * prezzo_attuale)\n",
    "\n",
    "    variazione_perc_rispetto_riferimento_discesa = (prezzo_attuale / prezzo_riferimento_discesa - 1) * 100 if prezzo_riferimento_discesa else None\n",
    "    variazione_perc_rispetto_riferimento_salita = (prezzo_attuale / prezzo_riferimento_salita - 1) * 100 if prezzo_riferimento_salita else None\n",
    "\n",
    "    # Aggiungi la transazione al dataframe\n",
    "    nuova_transazione = pd.DataFrame([{\n",
    "        'data': data_odierna,\n",
    "        'prezzo': prezzo_attuale,\n",
    "        'variazione_giornaliera_prezzo_percentuale': str(round(variazione_giornaliera_prezzo_percentuale, 2)) + '%' if variazione_giornaliera_prezzo_percentuale else None,\n",
    "        'timestamp_riferimento_discesa': timestamp_riferimento_discesa,\n",
    "        'prezzo_riferimento_discesa': prezzo_riferimento_discesa,\n",
    "        'variazione_rispetto_riferimento_discesa': str(round(variazione_perc_rispetto_riferimento_discesa, 2)) + '%' if variazione_perc_rispetto_riferimento_discesa else None,\n",
    "        'timestamp_riferimento_salita': timestamp_riferimento_salita,\n",
    "        'prezzo_riferimento_salita': prezzo_riferimento_salita,\n",
    "        'variazione_rispetto_riferimento_salita': str(round(variazione_perc_rispetto_riferimento_salita, 2)) + '%' if variazione_perc_rispetto_riferimento_salita else None,\n",
    "        'azione': azione,\n",
    "        'Percentuale Liquidità Usata': percentuale_liquidità_usata,\n",
    "        'Percentuale Bitcoin Usata': percentuale_bitcoin_usata,\n",
    "        'Percentuale Liquidità Usata rispetto riferimento': percentuale_liquidità_usata_rispetto_rif,\n",
    "        'Percentuale Bitcoin Usata rispetto riferimento': percentuale_bitcoin_usata_rispetto_rif,\n",
    "        'quantità_euro': euro_spesi_o_ricavati,\n",
    "        'Bitcoin Acquistati/Venduti': bitcoin_acquistati_o_venduti,\n",
    "        'Liquidità': liquidità,\n",
    "        'Bitcoin': bitcoin,\n",
    "        'valore_totale_portafoglio': valore_totale_portafoglio\n",
    "    }])\n",
    "\n",
    "    df_transazioni = pd.concat([df_transazioni, nuova_transazione], ignore_index=True)\n",
    "\n",
    "# Visualizza il DataFrame delle transazioni\n",
    "df_transazioni"
   ]
  },
  {
   "cell_type": "code",
   "execution_count": 88,
   "metadata": {},
   "outputs": [
    {
     "data": {
      "image/png": "[encoded data removed]",
      "text/plain": [
       "<Figure size 1000x600 with 1 Axes>"
      ]
     },
     "metadata": {},
     "output_type": "display_data"
    }
   ],
   "source": [
    "plot_custom_exp(A_a, B_a)"
   ]
  },
  {
   "cell_type": "code",
   "execution_count": 89,
   "metadata": {},
   "outputs": [
    {
     "data": {
      "text/html": [
       "<div>\n",
       "<style scoped>\n",
       "    .dataframe tbody tr th:only-of-type {\n",
       "        vertical-align: middle;\n",
       "    }\n",
       "\n",
       "    .dataframe tbody tr th {\n",
       "        vertical-align: top;\n",
       "    }\n",
       "\n",
       "    .dataframe thead th {\n",
       "        text-align: right;\n",
       "    }\n",
       "</style>\n",
       "<table border=\"1\" class=\"dataframe\">\n",
       "  <thead>\n",
       "    <tr style=\"text-align: right;\">\n",
       "      <th></th>\n",
       "      <th>data</th>\n",
       "      <th>prezzo</th>\n",
       "      <th>variazione_giornaliera_prezzo_percentuale</th>\n",
       "      <th>timestamp_riferimento_discesa</th>\n",
       "      <th>prezzo_riferimento_discesa</th>\n",
       "      <th>variazione_rispetto_riferimento_discesa</th>\n",
       "      <th>timestamp_riferimento_salita</th>\n",
       "      <th>prezzo_riferimento_salita</th>\n",
       "      <th>variazione_rispetto_riferimento_salita</th>\n",
       "      <th>azione</th>\n",
       "      <th>Percentuale Liquidità Usata</th>\n",
       "      <th>Percentuale Bitcoin Usata</th>\n",
       "      <th>Percentuale Liquidità Usata rispetto riferimento</th>\n",
       "      <th>Percentuale Bitcoin Usata rispetto riferimento</th>\n",
       "      <th>quantità_euro</th>\n",
       "      <th>Bitcoin Acquistati/Venduti</th>\n",
       "      <th>Liquidità</th>\n",
       "      <th>Bitcoin</th>\n",
       "      <th>valore_totale_portafoglio</th>\n",
       "    </tr>\n",
       "  </thead>\n",
       "  <tbody>\n",
       "    <tr>\n",
       "      <th>0</th>\n",
       "      <td>2021-02-02</td>\n",
       "      <td>29501.521484</td>\n",
       "      <td>6.16%</td>\n",
       "      <td>NaT</td>\n",
       "      <td>NaN</td>\n",
       "      <td>None</td>\n",
       "      <td>2021-02-01</td>\n",
       "      <td>27790.582031</td>\n",
       "      <td>6.16%</td>\n",
       "      <td>-</td>\n",
       "      <td>0</td>\n",
       "      <td>0</td>\n",
       "      <td>0</td>\n",
       "      <td>0</td>\n",
       "      <td>0</td>\n",
       "      <td>0</td>\n",
       "      <td>0</td>\n",
       "      <td>0.024781</td>\n",
       "      <td>731.090775</td>\n",
       "    </tr>\n",
       "    <tr>\n",
       "      <th>1</th>\n",
       "      <td>2021-02-03</td>\n",
       "      <td>31119.447266</td>\n",
       "      <td>5.48%</td>\n",
       "      <td>NaT</td>\n",
       "      <td>NaN</td>\n",
       "      <td>None</td>\n",
       "      <td>2021-02-01</td>\n",
       "      <td>27790.582031</td>\n",
       "      <td>11.98%</td>\n",
       "      <td>-</td>\n",
       "      <td>0</td>\n",
       "      <td>0</td>\n",
       "      <td>0</td>\n",
       "      <td>0</td>\n",
       "      <td>0</td>\n",
       "      <td>0</td>\n",
       "      <td>0</td>\n",
       "      <td>0.024781</td>\n",
       "      <td>771.185338</td>\n",
       "    </tr>\n",
       "    <tr>\n",
       "      <th>2</th>\n",
       "      <td>2021-02-04</td>\n",
       "      <td>30859.554688</td>\n",
       "      <td>-0.84%</td>\n",
       "      <td>2021-02-03</td>\n",
       "      <td>31119.447266</td>\n",
       "      <td>-0.84%</td>\n",
       "      <td>2021-02-01</td>\n",
       "      <td>27790.582031</td>\n",
       "      <td>11.04%</td>\n",
       "      <td>-</td>\n",
       "      <td>0</td>\n",
       "      <td>0</td>\n",
       "      <td>0</td>\n",
       "      <td>0</td>\n",
       "      <td>0</td>\n",
       "      <td>0</td>\n",
       "      <td>0</td>\n",
       "      <td>0.024781</td>\n",
       "      <td>764.744820</td>\n",
       "    </tr>\n",
       "    <tr>\n",
       "      <th>3</th>\n",
       "      <td>2021-02-05</td>\n",
       "      <td>31658.248047</td>\n",
       "      <td>2.59%</td>\n",
       "      <td>2021-02-03</td>\n",
       "      <td>31119.447266</td>\n",
       "      <td>1.73%</td>\n",
       "      <td>2021-02-01</td>\n",
       "      <td>27790.582031</td>\n",
       "      <td>13.92%</td>\n",
       "      <td>-</td>\n",
       "      <td>0</td>\n",
       "      <td>0</td>\n",
       "      <td>0</td>\n",
       "      <td>0</td>\n",
       "      <td>0</td>\n",
       "      <td>0</td>\n",
       "      <td>0</td>\n",
       "      <td>0.024781</td>\n",
       "      <td>784.537608</td>\n",
       "    </tr>\n",
       "    <tr>\n",
       "      <th>4</th>\n",
       "      <td>2021-02-06</td>\n",
       "      <td>32588.472656</td>\n",
       "      <td>2.94%</td>\n",
       "      <td>NaT</td>\n",
       "      <td>NaN</td>\n",
       "      <td>None</td>\n",
       "      <td>2021-02-01</td>\n",
       "      <td>27790.582031</td>\n",
       "      <td>17.26%</td>\n",
       "      <td>-</td>\n",
       "      <td>0</td>\n",
       "      <td>0</td>\n",
       "      <td>0</td>\n",
       "      <td>0</td>\n",
       "      <td>0</td>\n",
       "      <td>0</td>\n",
       "      <td>0</td>\n",
       "      <td>0.024781</td>\n",
       "      <td>807.589932</td>\n",
       "    </tr>\n",
       "    <tr>\n",
       "      <th>5</th>\n",
       "      <td>2021-02-07</td>\n",
       "      <td>32288.650391</td>\n",
       "      <td>-0.92%</td>\n",
       "      <td>2021-02-06</td>\n",
       "      <td>32588.472656</td>\n",
       "      <td>-0.92%</td>\n",
       "      <td>2021-02-01</td>\n",
       "      <td>27790.582031</td>\n",
       "      <td>16.19%</td>\n",
       "      <td>-</td>\n",
       "      <td>0</td>\n",
       "      <td>0</td>\n",
       "      <td>0</td>\n",
       "      <td>0</td>\n",
       "      <td>0</td>\n",
       "      <td>0</td>\n",
       "      <td>0</td>\n",
       "      <td>0.024781</td>\n",
       "      <td>800.159898</td>\n",
       "    </tr>\n",
       "    <tr>\n",
       "      <th>6</th>\n",
       "      <td>2021-02-08</td>\n",
       "      <td>38329.667969</td>\n",
       "      <td>18.71%</td>\n",
       "      <td>NaT</td>\n",
       "      <td>NaN</td>\n",
       "      <td>None</td>\n",
       "      <td>2021-02-01</td>\n",
       "      <td>27790.582031</td>\n",
       "      <td>37.92%</td>\n",
       "      <td>-</td>\n",
       "      <td>0</td>\n",
       "      <td>0</td>\n",
       "      <td>0</td>\n",
       "      <td>0</td>\n",
       "      <td>0</td>\n",
       "      <td>0</td>\n",
       "      <td>0</td>\n",
       "      <td>0.024781</td>\n",
       "      <td>949.865134</td>\n",
       "    </tr>\n",
       "    <tr>\n",
       "      <th>7</th>\n",
       "      <td>2021-02-09</td>\n",
       "      <td>38362.296875</td>\n",
       "      <td>0.09%</td>\n",
       "      <td>NaT</td>\n",
       "      <td>NaN</td>\n",
       "      <td>None</td>\n",
       "      <td>2021-02-01</td>\n",
       "      <td>27790.582031</td>\n",
       "      <td>38.04%</td>\n",
       "      <td>-</td>\n",
       "      <td>0</td>\n",
       "      <td>0</td>\n",
       "      <td>0</td>\n",
       "      <td>0</td>\n",
       "      <td>0</td>\n",
       "      <td>0</td>\n",
       "      <td>0</td>\n",
       "      <td>0.024781</td>\n",
       "      <td>950.673726</td>\n",
       "    </tr>\n",
       "    <tr>\n",
       "      <th>8</th>\n",
       "      <td>2021-02-10</td>\n",
       "      <td>37065.046875</td>\n",
       "      <td>-3.38%</td>\n",
       "      <td>2021-02-09</td>\n",
       "      <td>38362.296875</td>\n",
       "      <td>-3.38%</td>\n",
       "      <td>2021-02-01</td>\n",
       "      <td>27790.582031</td>\n",
       "      <td>33.37%</td>\n",
       "      <td>-</td>\n",
       "      <td>0</td>\n",
       "      <td>0</td>\n",
       "      <td>0</td>\n",
       "      <td>0</td>\n",
       "      <td>0</td>\n",
       "      <td>0</td>\n",
       "      <td>0</td>\n",
       "      <td>0.024781</td>\n",
       "      <td>918.525977</td>\n",
       "    </tr>\n",
       "    <tr>\n",
       "      <th>9</th>\n",
       "      <td>2021-02-11</td>\n",
       "      <td>39494.441406</td>\n",
       "      <td>6.55%</td>\n",
       "      <td>NaT</td>\n",
       "      <td>NaN</td>\n",
       "      <td>None</td>\n",
       "      <td>2021-02-01</td>\n",
       "      <td>27790.582031</td>\n",
       "      <td>42.11%</td>\n",
       "      <td>-</td>\n",
       "      <td>0</td>\n",
       "      <td>0</td>\n",
       "      <td>0</td>\n",
       "      <td>0</td>\n",
       "      <td>0</td>\n",
       "      <td>0</td>\n",
       "      <td>0</td>\n",
       "      <td>0.024781</td>\n",
       "      <td>978.729920</td>\n",
       "    </tr>\n",
       "    <tr>\n",
       "      <th>10</th>\n",
       "      <td>2021-02-12</td>\n",
       "      <td>39194.921875</td>\n",
       "      <td>-0.76%</td>\n",
       "      <td>2021-02-11</td>\n",
       "      <td>39494.441406</td>\n",
       "      <td>-0.76%</td>\n",
       "      <td>2021-02-01</td>\n",
       "      <td>27790.582031</td>\n",
       "      <td>41.04%</td>\n",
       "      <td>-</td>\n",
       "      <td>0</td>\n",
       "      <td>0</td>\n",
       "      <td>0</td>\n",
       "      <td>0</td>\n",
       "      <td>0</td>\n",
       "      <td>0</td>\n",
       "      <td>0</td>\n",
       "      <td>0.024781</td>\n",
       "      <td>971.307389</td>\n",
       "    </tr>\n",
       "    <tr>\n",
       "      <th>11</th>\n",
       "      <td>2021-02-13</td>\n",
       "      <td>38864.359375</td>\n",
       "      <td>-0.84%</td>\n",
       "      <td>2021-02-11</td>\n",
       "      <td>39494.441406</td>\n",
       "      <td>-1.6%</td>\n",
       "      <td>2021-02-01</td>\n",
       "      <td>27790.582031</td>\n",
       "      <td>39.85%</td>\n",
       "      <td>-</td>\n",
       "      <td>0</td>\n",
       "      <td>0</td>\n",
       "      <td>0</td>\n",
       "      <td>0</td>\n",
       "      <td>0</td>\n",
       "      <td>0</td>\n",
       "      <td>0</td>\n",
       "      <td>0.024781</td>\n",
       "      <td>963.115567</td>\n",
       "    </tr>\n",
       "    <tr>\n",
       "      <th>12</th>\n",
       "      <td>2021-02-14</td>\n",
       "      <td>40194.054688</td>\n",
       "      <td>3.42%</td>\n",
       "      <td>2021-02-11</td>\n",
       "      <td>39494.441406</td>\n",
       "      <td>1.77%</td>\n",
       "      <td>2021-02-01</td>\n",
       "      <td>27790.582031</td>\n",
       "      <td>44.63%</td>\n",
       "      <td>-</td>\n",
       "      <td>0</td>\n",
       "      <td>0</td>\n",
       "      <td>0</td>\n",
       "      <td>0</td>\n",
       "      <td>0</td>\n",
       "      <td>0</td>\n",
       "      <td>0</td>\n",
       "      <td>0.024781</td>\n",
       "      <td>996.067358</td>\n",
       "    </tr>\n",
       "    <tr>\n",
       "      <th>13</th>\n",
       "      <td>2021-02-15</td>\n",
       "      <td>39518.808594</td>\n",
       "      <td>-1.68%</td>\n",
       "      <td>2021-02-11</td>\n",
       "      <td>39494.441406</td>\n",
       "      <td>0.06%</td>\n",
       "      <td>2021-02-01</td>\n",
       "      <td>27790.582031</td>\n",
       "      <td>42.2%</td>\n",
       "      <td>-</td>\n",
       "      <td>0</td>\n",
       "      <td>0</td>\n",
       "      <td>0</td>\n",
       "      <td>0</td>\n",
       "      <td>0</td>\n",
       "      <td>0</td>\n",
       "      <td>0</td>\n",
       "      <td>0.024781</td>\n",
       "      <td>979.333774</td>\n",
       "    </tr>\n",
       "    <tr>\n",
       "      <th>14</th>\n",
       "      <td>2021-02-16</td>\n",
       "      <td>40700.742188</td>\n",
       "      <td>2.99%</td>\n",
       "      <td>2021-02-11</td>\n",
       "      <td>39494.441406</td>\n",
       "      <td>3.05%</td>\n",
       "      <td>2021-02-01</td>\n",
       "      <td>27790.582031</td>\n",
       "      <td>46.46%</td>\n",
       "      <td>-</td>\n",
       "      <td>0</td>\n",
       "      <td>0</td>\n",
       "      <td>0</td>\n",
       "      <td>0</td>\n",
       "      <td>0</td>\n",
       "      <td>0</td>\n",
       "      <td>0</td>\n",
       "      <td>0.024781</td>\n",
       "      <td>1008.623814</td>\n",
       "    </tr>\n",
       "    <tr>\n",
       "      <th>15</th>\n",
       "      <td>2021-02-17</td>\n",
       "      <td>43293.167969</td>\n",
       "      <td>6.37%</td>\n",
       "      <td>NaT</td>\n",
       "      <td>NaN</td>\n",
       "      <td>None</td>\n",
       "      <td>2021-02-01</td>\n",
       "      <td>27790.582031</td>\n",
       "      <td>55.78%</td>\n",
       "      <td>-</td>\n",
       "      <td>0</td>\n",
       "      <td>0</td>\n",
       "      <td>0</td>\n",
       "      <td>0</td>\n",
       "      <td>0</td>\n",
       "      <td>0</td>\n",
       "      <td>0</td>\n",
       "      <td>0.024781</td>\n",
       "      <td>1072.867910</td>\n",
       "    </tr>\n",
       "    <tr>\n",
       "      <th>16</th>\n",
       "      <td>2021-02-18</td>\n",
       "      <td>42739.449219</td>\n",
       "      <td>-1.28%</td>\n",
       "      <td>2021-02-17</td>\n",
       "      <td>43293.167969</td>\n",
       "      <td>-1.28%</td>\n",
       "      <td>2021-02-01</td>\n",
       "      <td>27790.582031</td>\n",
       "      <td>53.79%</td>\n",
       "      <td>-</td>\n",
       "      <td>0</td>\n",
       "      <td>0</td>\n",
       "      <td>0</td>\n",
       "      <td>0</td>\n",
       "      <td>0</td>\n",
       "      <td>0</td>\n",
       "      <td>0</td>\n",
       "      <td>0.024781</td>\n",
       "      <td>1059.145951</td>\n",
       "    </tr>\n",
       "    <tr>\n",
       "      <th>17</th>\n",
       "      <td>2021-02-19</td>\n",
       "      <td>46119.000000</td>\n",
       "      <td>7.91%</td>\n",
       "      <td>NaT</td>\n",
       "      <td>NaN</td>\n",
       "      <td>None</td>\n",
       "      <td>2021-02-01</td>\n",
       "      <td>27790.582031</td>\n",
       "      <td>65.95%</td>\n",
       "      <td>-</td>\n",
       "      <td>0</td>\n",
       "      <td>0</td>\n",
       "      <td>0</td>\n",
       "      <td>0</td>\n",
       "      <td>0</td>\n",
       "      <td>0</td>\n",
       "      <td>0</td>\n",
       "      <td>0.024781</td>\n",
       "      <td>1142.896154</td>\n",
       "    </tr>\n",
       "    <tr>\n",
       "      <th>18</th>\n",
       "      <td>2021-02-20</td>\n",
       "      <td>46293.437500</td>\n",
       "      <td>0.38%</td>\n",
       "      <td>NaT</td>\n",
       "      <td>NaN</td>\n",
       "      <td>None</td>\n",
       "      <td>2021-02-01</td>\n",
       "      <td>27790.582031</td>\n",
       "      <td>66.58%</td>\n",
       "      <td>-</td>\n",
       "      <td>0</td>\n",
       "      <td>0</td>\n",
       "      <td>0</td>\n",
       "      <td>0</td>\n",
       "      <td>0</td>\n",
       "      <td>0</td>\n",
       "      <td>0</td>\n",
       "      <td>0.024781</td>\n",
       "      <td>1147.218970</td>\n",
       "    </tr>\n",
       "    <tr>\n",
       "      <th>19</th>\n",
       "      <td>2021-02-21</td>\n",
       "      <td>47456.125000</td>\n",
       "      <td>2.51%</td>\n",
       "      <td>NaT</td>\n",
       "      <td>NaN</td>\n",
       "      <td>None</td>\n",
       "      <td>2021-02-01</td>\n",
       "      <td>27790.582031</td>\n",
       "      <td>70.76%</td>\n",
       "      <td>-</td>\n",
       "      <td>0</td>\n",
       "      <td>0</td>\n",
       "      <td>0</td>\n",
       "      <td>0</td>\n",
       "      <td>0</td>\n",
       "      <td>0</td>\n",
       "      <td>0</td>\n",
       "      <td>0.024781</td>\n",
       "      <td>1176.032063</td>\n",
       "    </tr>\n",
       "  </tbody>\n",
       "</table>\n",
       "</div>"
      ],
      "text/plain": [
       "         data        prezzo variazione_giornaliera_prezzo_percentuale  \\\n",
       "0  2021-02-02  29501.521484                                     6.16%   \n",
       "1  2021-02-03  31119.447266                                     5.48%   \n",
       "2  2021-02-04  30859.554688                                    -0.84%   \n",
       "3  2021-02-05  31658.248047                                     2.59%   \n",
       "4  2021-02-06  32588.472656                                     2.94%   \n",
       "5  2021-02-07  32288.650391                                    -0.92%   \n",
       "6  2021-02-08  38329.667969                                    18.71%   \n",
       "7  2021-02-09  38362.296875                                     0.09%   \n",
       "8  2021-02-10  37065.046875                                    -3.38%   \n",
       "9  2021-02-11  39494.441406                                     6.55%   \n",
       "10 2021-02-12  39194.921875                                    -0.76%   \n",
       "11 2021-02-13  38864.359375                                    -0.84%   \n",
       "12 2021-02-14  40194.054688                                     3.42%   \n",
       "13 2021-02-15  39518.808594                                    -1.68%   \n",
       "14 2021-02-16  40700.742188                                     2.99%   \n",
       "15 2021-02-17  43293.167969                                     6.37%   \n",
       "16 2021-02-18  42739.449219                                    -1.28%   \n",
       "17 2021-02-19  46119.000000                                     7.91%   \n",
       "18 2021-02-20  46293.437500                                     0.38%   \n",
       "19 2021-02-21  47456.125000                                     2.51%   \n",
       "\n",
       "   timestamp_riferimento_discesa  prezzo_riferimento_discesa  \\\n",
       "0                            NaT                         NaN   \n",
       "1                            NaT                         NaN   \n",
       "2                     2021-02-03                31119.447266   \n",
       "3                     2021-02-03                31119.447266   \n",
       "4                            NaT                         NaN   \n",
       "5                     2021-02-06                32588.472656   \n",
       "6                            NaT                         NaN   \n",
       "7                            NaT                         NaN   \n",
       "8                     2021-02-09                38362.296875   \n",
       "9                            NaT                         NaN   \n",
       "10                    2021-02-11                39494.441406   \n",
       "11                    2021-02-11                39494.441406   \n",
       "12                    2021-02-11                39494.441406   \n",
       "13                    2021-02-11                39494.441406   \n",
       "14                    2021-02-11                39494.441406   \n",
       "15                           NaT                         NaN   \n",
       "16                    2021-02-17                43293.167969   \n",
       "17                           NaT                         NaN   \n",
       "18                           NaT                         NaN   \n",
       "19                           NaT                         NaN   \n",
       "\n",
       "   variazione_rispetto_riferimento_discesa timestamp_riferimento_salita  \\\n",
       "0                                     None                   2021-02-01   \n",
       "1                                     None                   2021-02-01   \n",
       "2                                   -0.84%                   2021-02-01   \n",
       "3                                    1.73%                   2021-02-01   \n",
       "4                                     None                   2021-02-01   \n",
       "5                                   -0.92%                   2021-02-01   \n",
       "6                                     None                   2021-02-01   \n",
       "7                                     None                   2021-02-01   \n",
       "8                                   -3.38%                   2021-02-01   \n",
       "9                                     None                   2021-02-01   \n",
       "10                                  -0.76%                   2021-02-01   \n",
       "11                                   -1.6%                   2021-02-01   \n",
       "12                                   1.77%                   2021-02-01   \n",
       "13                                   0.06%                   2021-02-01   \n",
       "14                                   3.05%                   2021-02-01   \n",
       "15                                    None                   2021-02-01   \n",
       "16                                  -1.28%                   2021-02-01   \n",
       "17                                    None                   2021-02-01   \n",
       "18                                    None                   2021-02-01   \n",
       "19                                    None                   2021-02-01   \n",
       "\n",
       "    prezzo_riferimento_salita variazione_rispetto_riferimento_salita azione  \\\n",
       "0                27790.582031                                  6.16%      -   \n",
       "1                27790.582031                                 11.98%      -   \n",
       "2                27790.582031                                 11.04%      -   \n",
       "3                27790.582031                                 13.92%      -   \n",
       "4                27790.582031                                 17.26%      -   \n",
       "5                27790.582031                                 16.19%      -   \n",
       "6                27790.582031                                 37.92%      -   \n",
       "7                27790.582031                                 38.04%      -   \n",
       "8                27790.582031                                 33.37%      -   \n",
       "9                27790.582031                                 42.11%      -   \n",
       "10               27790.582031                                 41.04%      -   \n",
       "11               27790.582031                                 39.85%      -   \n",
       "12               27790.582031                                 44.63%      -   \n",
       "13               27790.582031                                  42.2%      -   \n",
       "14               27790.582031                                 46.46%      -   \n",
       "15               27790.582031                                 55.78%      -   \n",
       "16               27790.582031                                 53.79%      -   \n",
       "17               27790.582031                                 65.95%      -   \n",
       "18               27790.582031                                 66.58%      -   \n",
       "19               27790.582031                                 70.76%      -   \n",
       "\n",
       "   Percentuale Liquidità Usata Percentuale Bitcoin Usata  \\\n",
       "0                            0                         0   \n",
       "1                            0                         0   \n",
       "2                            0                         0   \n",
       "3                            0                         0   \n",
       "4                            0                         0   \n",
       "5                            0                         0   \n",
       "6                            0                         0   \n",
       "7                            0                         0   \n",
       "8                            0                         0   \n",
       "9                            0                         0   \n",
       "10                           0                         0   \n",
       "11                           0                         0   \n",
       "12                           0                         0   \n",
       "13                           0                         0   \n",
       "14                           0                         0   \n",
       "15                           0                         0   \n",
       "16                           0                         0   \n",
       "17                           0                         0   \n",
       "18                           0                         0   \n",
       "19                           0                         0   \n",
       "\n",
       "   Percentuale Liquidità Usata rispetto riferimento  \\\n",
       "0                                                 0   \n",
       "1                                                 0   \n",
       "2                                                 0   \n",
       "3                                                 0   \n",
       "4                                                 0   \n",
       "5                                                 0   \n",
       "6                                                 0   \n",
       "7                                                 0   \n",
       "8                                                 0   \n",
       "9                                                 0   \n",
       "10                                                0   \n",
       "11                                                0   \n",
       "12                                                0   \n",
       "13                                                0   \n",
       "14                                                0   \n",
       "15                                                0   \n",
       "16                                                0   \n",
       "17                                                0   \n",
       "18                                                0   \n",
       "19                                                0   \n",
       "\n",
       "   Percentuale Bitcoin Usata rispetto riferimento quantità_euro  \\\n",
       "0                                               0             0   \n",
       "1                                               0             0   \n",
       "2                                               0             0   \n",
       "3                                               0             0   \n",
       "4                                               0             0   \n",
       "5                                               0             0   \n",
       "6                                               0             0   \n",
       "7                                               0             0   \n",
       "8                                               0             0   \n",
       "9                                               0             0   \n",
       "10                                              0             0   \n",
       "11                                              0             0   \n",
       "12                                              0             0   \n",
       "13                                              0             0   \n",
       "14                                              0             0   \n",
       "15                                              0             0   \n",
       "16                                              0             0   \n",
       "17                                              0             0   \n",
       "18                                              0             0   \n",
       "19                                              0             0   \n",
       "\n",
       "   Bitcoin Acquistati/Venduti Liquidità   Bitcoin  valore_totale_portafoglio  \n",
       "0                           0         0  0.024781                 731.090775  \n",
       "1                           0         0  0.024781                 771.185338  \n",
       "2                           0         0  0.024781                 764.744820  \n",
       "3                           0         0  0.024781                 784.537608  \n",
       "4                           0         0  0.024781                 807.589932  \n",
       "5                           0         0  0.024781                 800.159898  \n",
       "6                           0         0  0.024781                 949.865134  \n",
       "7                           0         0  0.024781                 950.673726  \n",
       "8                           0         0  0.024781                 918.525977  \n",
       "9                           0         0  0.024781                 978.729920  \n",
       "10                          0         0  0.024781                 971.307389  \n",
       "11                          0         0  0.024781                 963.115567  \n",
       "12                          0         0  0.024781                 996.067358  \n",
       "13                          0         0  0.024781                 979.333774  \n",
       "14                          0         0  0.024781                1008.623814  \n",
       "15                          0         0  0.024781                1072.867910  \n",
       "16                          0         0  0.024781                1059.145951  \n",
       "17                          0         0  0.024781                1142.896154  \n",
       "18                          0         0  0.024781                1147.218970  \n",
       "19                          0         0  0.024781                1176.032063  "
      ]
     },
     "execution_count": 89,
     "metadata": {},
     "output_type": "execute_result"
    }
   ],
   "source": [
    "df_transazioni[:20]"
   ]
  },
  {
   "cell_type": "code",
   "execution_count": 90,
   "metadata": {},
   "outputs": [
    {
     "data": {
      "text/html": [
       "<div>\n",
       "<style scoped>\n",
       "    .dataframe tbody tr th:only-of-type {\n",
       "        vertical-align: middle;\n",
       "    }\n",
       "\n",
       "    .dataframe tbody tr th {\n",
       "        vertical-align: top;\n",
       "    }\n",
       "\n",
       "    .dataframe thead th {\n",
       "        text-align: right;\n",
       "    }\n",
       "</style>\n",
       "<table border=\"1\" class=\"dataframe\">\n",
       "  <thead>\n",
       "    <tr style=\"text-align: right;\">\n",
       "      <th></th>\n",
       "      <th>data</th>\n",
       "      <th>prezzo</th>\n",
       "      <th>variazione_giornaliera_prezzo_percentuale</th>\n",
       "      <th>timestamp_riferimento_discesa</th>\n",
       "      <th>prezzo_riferimento_discesa</th>\n",
       "      <th>variazione_rispetto_riferimento_discesa</th>\n",
       "      <th>timestamp_riferimento_salita</th>\n",
       "      <th>prezzo_riferimento_salita</th>\n",
       "      <th>variazione_rispetto_riferimento_salita</th>\n",
       "      <th>azione</th>\n",
       "      <th>Percentuale Liquidità Usata</th>\n",
       "      <th>Percentuale Bitcoin Usata</th>\n",
       "      <th>Percentuale Liquidità Usata rispetto riferimento</th>\n",
       "      <th>Percentuale Bitcoin Usata rispetto riferimento</th>\n",
       "      <th>quantità_euro</th>\n",
       "      <th>Bitcoin Acquistati/Venduti</th>\n",
       "      <th>Liquidità</th>\n",
       "      <th>Bitcoin</th>\n",
       "      <th>valore_totale_portafoglio</th>\n",
       "    </tr>\n",
       "  </thead>\n",
       "  <tbody>\n",
       "  </tbody>\n",
       "</table>\n",
       "</div>"
      ],
      "text/plain": [
       "Empty DataFrame\n",
       "Columns: [data, prezzo, variazione_giornaliera_prezzo_percentuale, timestamp_riferimento_discesa, prezzo_riferimento_discesa, variazione_rispetto_riferimento_discesa, timestamp_riferimento_salita, prezzo_riferimento_salita, variazione_rispetto_riferimento_salita, azione, Percentuale Liquidità Usata, Percentuale Bitcoin Usata, Percentuale Liquidità Usata rispetto riferimento, Percentuale Bitcoin Usata rispetto riferimento, quantità_euro, Bitcoin Acquistati/Venduti, Liquidità, Bitcoin, valore_totale_portafoglio]\n",
       "Index: []"
      ]
     },
     "execution_count": 90,
     "metadata": {},
     "output_type": "execute_result"
    }
   ],
   "source": [
    "df_transazioni[df_transazioni['azione'] != '-']"
   ]
  },
  {
   "cell_type": "markdown",
   "metadata": {},
   "source": [
    "### Risultati"
   ]
  },
  {
   "cell_type": "code",
   "execution_count": 91,
   "metadata": {},
   "outputs": [
    {
     "data": {
      "application/vnd.plotly.v1+json": {
       "config": {
        "plotlyServerURL": "https://plot.ly"
       },
       "data": [
        {
         "hoverinfo": "text",
         "line": {
          "color": "blue",
          "width": 2
         },
         "mode": "lines",
         "name": "Prezzi",
         "text": [
          "Timestamp: 2021-02-02 00:00:00<br>Prezzo: 29501.52 €<br>Variazione giornaliera: 6.16%<br>Timestamp riferimento discesa: NaT<br>Prezzo riferimento discesa: None<br>Variazione rispetto riferimento discesa: None %<br>Timestamp riferimento salita: 2021-02-01 00:00:00<br>Prezzo riferimento salita: 27790.58<br>Variazione rispetto riferimento salita: 6.16% %",
          "Timestamp: 2021-02-03 00:00:00<br>Prezzo: 31119.45 €<br>Variazione giornaliera: 5.48%<br>Timestamp riferimento discesa: NaT<br>Prezzo riferimento discesa: None<br>Variazione rispetto riferimento discesa: None %<br>Timestamp riferimento salita: 2021-02-01 00:00:00<br>Prezzo riferimento salita: 27790.58<br>Variazione rispetto riferimento salita: 11.98% %",
          "Timestamp: 2021-02-04 00:00:00<br>Prezzo: 30859.55 €<br>Variazione giornaliera: -0.84%<br>Timestamp riferimento discesa: 2021-02-03 00:00:00<br>Prezzo riferimento discesa: 31119.45<br>Variazione rispetto riferimento discesa: -0.84% %<br>Timestamp riferimento salita: 2021-02-01 00:00:00<br>Prezzo riferimento salita: 27790.58<br>Variazione rispetto riferimento salita: 11.04% %",
          "Timestamp: 2021-02-05 00:00:00<br>Prezzo: 31658.25 €<br>Variazione giornaliera: 2.59%<br>Timestamp riferimento discesa: 2021-02-03 00:00:00<br>Prezzo riferimento discesa: 31119.45<br>Variazione rispetto riferimento discesa: 1.73% %<br>Timestamp riferimento salita: 2021-02-01 00:00:00<br>Prezzo riferimento salita: 27790.58<br>Variazione rispetto riferimento salita: 13.92% %",
          "Timestamp: 2021-02-06 00:00:00<br>Prezzo: 32588.47 €<br>Variazione giornaliera: 2.94%<br>Timestamp riferimento discesa: NaT<br>Prezzo riferimento discesa: None<br>Variazione rispetto riferimento discesa: None %<br>Timestamp riferimento salita: 2021-02-01 00:00:00<br>Prezzo riferimento salita: 27790.58<br>Variazione rispetto riferimento salita: 17.26% %",
          "Timestamp: 2021-02-07 00:00:00<br>Prezzo: 32288.65 €<br>Variazione giornaliera: -0.92%<br>Timestamp riferimento discesa: 2021-02-06 00:00:00<br>Prezzo riferimento discesa: 32588.47<br>Variazione rispetto riferimento discesa: -0.92% %<br>Timestamp riferimento salita: 2021-02-01 00:00:00<br>Prezzo riferimento salita: 27790.58<br>Variazione rispetto riferimento salita: 16.19% %",
          "Timestamp: 2021-02-08 00:00:00<br>Prezzo: 38329.67 €<br>Variazione giornaliera: 18.71%<br>Timestamp riferimento discesa: NaT<br>Prezzo riferimento discesa: None<br>Variazione rispetto riferimento discesa: None %<br>Timestamp riferimento salita: 2021-02-01 00:00:00<br>Prezzo riferimento salita: 27790.58<br>Variazione rispetto riferimento salita: 37.92% %",
          "Timestamp: 2021-02-09 00:00:00<br>Prezzo: 38362.30 €<br>Variazione giornaliera: 0.09%<br>Timestamp riferimento discesa: NaT<br>Prezzo riferimento discesa: None<br>Variazione rispetto riferimento discesa: None %<br>Timestamp riferimento salita: 2021-02-01 00:00:00<br>Prezzo riferimento salita: 27790.58<br>Variazione rispetto riferimento salita: 38.04% %",
          "Timestamp: 2021-02-10 00:00:00<br>Prezzo: 37065.05 €<br>Variazione giornaliera: -3.38%<br>Timestamp riferimento discesa: 2021-02-09 00:00:00<br>Prezzo riferimento discesa: 38362.30<br>Variazione rispetto riferimento discesa: -3.38% %<br>Timestamp riferimento salita: 2021-02-01 00:00:00<br>Prezzo riferimento salita: 27790.58<br>Variazione rispetto riferimento salita: 33.37% %",
          "Timestamp: 2021-02-11 00:00:00<br>Prezzo: 39494.44 €<br>Variazione giornaliera: 6.55%<br>Timestamp riferimento discesa: NaT<br>Prezzo riferimento discesa: None<br>Variazione rispetto riferimento discesa: None %<br>Timestamp riferimento salita: 2021-02-01 00:00:00<br>Prezzo riferimento salita: 27790.58<br>Variazione rispetto riferimento salita: 42.11% %",
          "Timestamp: 2021-02-12 00:00:00<br>Prezzo: 39194.92 €<br>Variazione giornaliera: -0.76%<br>Timestamp riferimento discesa: 2021-02-11 00:00:00<br>Prezzo riferimento discesa: 39494.44<br>Variazione rispetto riferimento discesa: -0.76% %<br>Timestamp riferimento salita: 2021-02-01 00:00:00<br>Prezzo riferimento salita: 27790.58<br>Variazione rispetto riferimento salita: 41.04% %",
          "Timestamp: 2021-02-13 00:00:00<br>Prezzo: 38864.36 €<br>Variazione giornaliera: -0.84%<br>Timestamp riferimento discesa: 2021-02-11 00:00:00<br>Prezzo riferimento discesa: 39494.44<br>Variazione rispetto riferimento discesa: -1.6% %<br>Timestamp riferimento salita: 2021-02-01 00:00:00<br>Prezzo riferimento salita: 27790.58<br>Variazione rispetto riferimento salita: 39.85% %",
          "Timestamp: 2021-02-14 00:00:00<br>Prezzo: 40194.05 €<br>Variazione giornaliera: 3.42%<br>Timestamp riferimento discesa: 2021-02-11 00:00:00<br>Prezzo riferimento discesa: 39494.44<br>Variazione rispetto riferimento discesa: 1.77% %<br>Timestamp riferimento salita: 2021-02-01 00:00:00<br>Prezzo riferimento salita: 27790.58<br>Variazione rispetto riferimento salita: 44.63% %",
          "Timestamp: 2021-02-15 00:00:00<br>Prezzo: 39518.81 €<br>Variazione giornaliera: -1.68%<br>Timestamp riferimento discesa: 2021-02-11 00:00:00<br>Prezzo riferimento discesa: 39494.44<br>Variazione rispetto riferimento discesa: 0.06% %<br>Timestamp riferimento salita: 2021-02-01 00:00:00<br>Prezzo riferimento salita: 27790.58<br>Variazione rispetto riferimento salita: 42.2% %",
          "Timestamp: 2021-02-16 00:00:00<br>Prezzo: 40700.74 €<br>Variazione giornaliera: 2.99%<br>Timestamp riferimento discesa: 2021-02-11 00:00:00<br>Prezzo riferimento discesa: 39494.44<br>Variazione rispetto riferimento discesa: 3.05% %<br>Timestamp riferimento salita: 2021-02-01 00:00:00<br>Prezzo riferimento salita: 27790.58<br>Variazione rispetto riferimento salita: 46.46% %",
          "Timestamp: 2021-02-17 00:00:00<br>Prezzo: 43293.17 €<br>Variazione giornaliera: 6.37%<br>Timestamp riferimento discesa: NaT<br>Prezzo riferimento discesa: None<br>Variazione rispetto riferimento discesa: None %<br>Timestamp riferimento salita: 2021-02-01 00:00:00<br>Prezzo riferimento salita: 27790.58<br>Variazione rispetto riferimento salita: 55.78% %",
          "Timestamp: 2021-02-18 00:00:00<br>Prezzo: 42739.45 €<br>Variazione giornaliera: -1.28%<br>Timestamp riferimento discesa: 2021-02-17 00:00:00<br>Prezzo riferimento discesa: 43293.17<br>Variazione rispetto riferimento discesa: -1.28% %<br>Timestamp riferimento salita: 2021-02-01 00:00:00<br>Prezzo riferimento salita: 27790.58<br>Variazione rispetto riferimento salita: 53.79% %",
          "Timestamp: 2021-02-19 00:00:00<br>Prezzo: 46119.00 €<br>Variazione giornaliera: 7.91%<br>Timestamp riferimento discesa: NaT<br>Prezzo riferimento discesa: None<br>Variazione rispetto riferimento discesa: None %<br>Timestamp riferimento salita: 2021-02-01 00:00:00<br>Prezzo riferimento salita: 27790.58<br>Variazione rispetto riferimento salita: 65.95% %",
          "Timestamp: 2021-02-20 00:00:00<br>Prezzo: 46293.44 €<br>Variazione giornaliera: 0.38%<br>Timestamp riferimento discesa: NaT<br>Prezzo riferimento discesa: None<br>Variazione rispetto riferimento discesa: None %<br>Timestamp riferimento salita: 2021-02-01 00:00:00<br>Prezzo riferimento salita: 27790.58<br>Variazione rispetto riferimento salita: 66.58% %",
          "Timestamp: 2021-02-21 00:00:00<br>Prezzo: 47456.12 €<br>Variazione giornaliera: 2.51%<br>Timestamp riferimento discesa: NaT<br>Prezzo riferimento discesa: None<br>Variazione rispetto riferimento discesa: None %<br>Timestamp riferimento salita: 2021-02-01 00:00:00<br>Prezzo riferimento salita: 27790.58<br>Variazione rispetto riferimento salita: 70.76% %",
          "Timestamp: 2021-02-22 00:00:00<br>Prezzo: 44563.24 €<br>Variazione giornaliera: -6.1%<br>Timestamp riferimento discesa: 2021-02-21 00:00:00<br>Prezzo riferimento discesa: 47456.12<br>Variazione rispetto riferimento discesa: -6.1% %<br>Timestamp riferimento salita: NaT<br>Prezzo riferimento salita: None<br>Variazione rispetto riferimento salita: None %",
          "Timestamp: 2021-02-23 00:00:00<br>Prezzo: 40181.33 €<br>Variazione giornaliera: -9.83%<br>Timestamp riferimento discesa: 2021-02-21 00:00:00<br>Prezzo riferimento discesa: 47456.12<br>Variazione rispetto riferimento discesa: -15.33% %<br>Timestamp riferimento salita: NaT<br>Prezzo riferimento salita: None<br>Variazione rispetto riferimento salita: None %",
          "Timestamp: 2021-02-24 00:00:00<br>Prezzo: 40844.41 €<br>Variazione giornaliera: 1.65%<br>Timestamp riferimento discesa: 2021-02-21 00:00:00<br>Prezzo riferimento discesa: 47456.12<br>Variazione rispetto riferimento discesa: -13.93% %<br>Timestamp riferimento salita: 2021-02-23 00:00:00<br>Prezzo riferimento salita: 40181.33<br>Variazione rispetto riferimento salita: 1.65% %",
          "Timestamp: 2021-02-25 00:00:00<br>Prezzo: 38735.16 €<br>Variazione giornaliera: -5.16%<br>Timestamp riferimento discesa: 2021-02-21 00:00:00<br>Prezzo riferimento discesa: 47456.12<br>Variazione rispetto riferimento discesa: -18.38% %<br>Timestamp riferimento salita: NaT<br>Prezzo riferimento salita: None<br>Variazione rispetto riferimento salita: None %",
          "Timestamp: 2021-02-26 00:00:00<br>Prezzo: 38385.91 €<br>Variazione giornaliera: -0.9%<br>Timestamp riferimento discesa: 2021-02-21 00:00:00<br>Prezzo riferimento discesa: 47456.12<br>Variazione rispetto riferimento discesa: -19.11% %<br>Timestamp riferimento salita: NaT<br>Prezzo riferimento salita: None<br>Variazione rispetto riferimento salita: None %",
          "Timestamp: 2021-02-27 00:00:00<br>Prezzo: 38260.48 €<br>Variazione giornaliera: -0.33%<br>Timestamp riferimento discesa: 2021-02-21 00:00:00<br>Prezzo riferimento discesa: 47456.12<br>Variazione rispetto riferimento discesa: -19.38% %<br>Timestamp riferimento salita: NaT<br>Prezzo riferimento salita: None<br>Variazione rispetto riferimento salita: None %",
          "Timestamp: 2021-02-28 00:00:00<br>Prezzo: 37332.50 €<br>Variazione giornaliera: -2.43%<br>Timestamp riferimento discesa: 2021-02-21 00:00:00<br>Prezzo riferimento discesa: 47456.12<br>Variazione rispetto riferimento discesa: -21.33% %<br>Timestamp riferimento salita: NaT<br>Prezzo riferimento salita: None<br>Variazione rispetto riferimento salita: None %",
          "Timestamp: 2021-03-01 00:00:00<br>Prezzo: 41192.19 €<br>Variazione giornaliera: 10.34%<br>Timestamp riferimento discesa: NaT<br>Prezzo riferimento discesa: None<br>Variazione rispetto riferimento discesa: None %<br>Timestamp riferimento salita: 2021-02-28 00:00:00<br>Prezzo riferimento salita: 37332.50<br>Variazione rispetto riferimento salita: 10.34% %",
          "Timestamp: 2021-03-02 00:00:00<br>Prezzo: 40032.70 €<br>Variazione giornaliera: -2.81%<br>Timestamp riferimento discesa: 2021-03-01 00:00:00<br>Prezzo riferimento discesa: 41192.19<br>Variazione rispetto riferimento discesa: -2.81% %<br>Timestamp riferimento salita: 2021-02-28 00:00:00<br>Prezzo riferimento salita: 37332.50<br>Variazione rispetto riferimento salita: 7.23% %",
          "Timestamp: 2021-03-03 00:00:00<br>Prezzo: 41952.80 €<br>Variazione giornaliera: 4.8%<br>Timestamp riferimento discesa: 2021-03-01 00:00:00<br>Prezzo riferimento discesa: 41192.19<br>Variazione rispetto riferimento discesa: 1.85% %<br>Timestamp riferimento salita: 2021-02-28 00:00:00<br>Prezzo riferimento salita: 37332.50<br>Variazione rispetto riferimento salita: 12.38% %",
          "Timestamp: 2021-03-04 00:00:00<br>Prezzo: 40578.54 €<br>Variazione giornaliera: -3.28%<br>Timestamp riferimento discesa: 2021-03-01 00:00:00<br>Prezzo riferimento discesa: 41192.19<br>Variazione rispetto riferimento discesa: -1.49% %<br>Timestamp riferimento salita: 2021-02-28 00:00:00<br>Prezzo riferimento salita: 37332.50<br>Variazione rispetto riferimento salita: 8.69% %",
          "Timestamp: 2021-03-05 00:00:00<br>Prezzo: 41076.53 €<br>Variazione giornaliera: 1.23%<br>Timestamp riferimento discesa: 2021-03-01 00:00:00<br>Prezzo riferimento discesa: 41192.19<br>Variazione rispetto riferimento discesa: -0.28% %<br>Timestamp riferimento salita: 2021-02-28 00:00:00<br>Prezzo riferimento salita: 37332.50<br>Variazione rispetto riferimento salita: 10.03% %",
          "Timestamp: 2021-03-06 00:00:00<br>Prezzo: 41047.32 €<br>Variazione giornaliera: -0.07%<br>Timestamp riferimento discesa: 2021-03-01 00:00:00<br>Prezzo riferimento discesa: 41192.19<br>Variazione rispetto riferimento discesa: -0.35% %<br>Timestamp riferimento salita: 2021-02-28 00:00:00<br>Prezzo riferimento salita: 37332.50<br>Variazione rispetto riferimento salita: 9.95% %",
          "Timestamp: 2021-03-07 00:00:00<br>Prezzo: 42935.99 €<br>Variazione giornaliera: 4.6%<br>Timestamp riferimento discesa: 2021-03-01 00:00:00<br>Prezzo riferimento discesa: 41192.19<br>Variazione rispetto riferimento discesa: 4.23% %<br>Timestamp riferimento salita: 2021-02-28 00:00:00<br>Prezzo riferimento salita: 37332.50<br>Variazione rispetto riferimento salita: 15.01% %",
          "Timestamp: 2021-03-08 00:00:00<br>Prezzo: 44086.50 €<br>Variazione giornaliera: 2.68%<br>Timestamp riferimento discesa: NaT<br>Prezzo riferimento discesa: None<br>Variazione rispetto riferimento discesa: None %<br>Timestamp riferimento salita: 2021-02-28 00:00:00<br>Prezzo riferimento salita: 37332.50<br>Variazione rispetto riferimento salita: 18.09% %",
          "Timestamp: 2021-03-09 00:00:00<br>Prezzo: 46082.25 €<br>Variazione giornaliera: 4.53%<br>Timestamp riferimento discesa: NaT<br>Prezzo riferimento discesa: None<br>Variazione rispetto riferimento discesa: None %<br>Timestamp riferimento salita: 2021-02-28 00:00:00<br>Prezzo riferimento salita: 37332.50<br>Variazione rispetto riferimento salita: 23.44% %",
          "Timestamp: 2021-03-10 00:00:00<br>Prezzo: 46969.33 €<br>Variazione giornaliera: 1.92%<br>Timestamp riferimento discesa: NaT<br>Prezzo riferimento discesa: None<br>Variazione rispetto riferimento discesa: None %<br>Timestamp riferimento salita: 2021-02-28 00:00:00<br>Prezzo riferimento salita: 37332.50<br>Variazione rispetto riferimento salita: 25.81% %",
          "Timestamp: 2021-03-11 00:00:00<br>Prezzo: 48247.39 €<br>Variazione giornaliera: 2.72%<br>Timestamp riferimento discesa: NaT<br>Prezzo riferimento discesa: None<br>Variazione rispetto riferimento discesa: None %<br>Timestamp riferimento salita: 2021-02-28 00:00:00<br>Prezzo riferimento salita: 37332.50<br>Variazione rispetto riferimento salita: 29.24% %",
          "Timestamp: 2021-03-12 00:00:00<br>Prezzo: 47962.94 €<br>Variazione giornaliera: -0.59%<br>Timestamp riferimento discesa: 2021-03-11 00:00:00<br>Prezzo riferimento discesa: 48247.39<br>Variazione rispetto riferimento discesa: -0.59% %<br>Timestamp riferimento salita: 2021-02-28 00:00:00<br>Prezzo riferimento salita: 37332.50<br>Variazione rispetto riferimento salita: 28.48% %",
          "Timestamp: 2021-03-13 00:00:00<br>Prezzo: 51235.54 €<br>Variazione giornaliera: 6.82%<br>Timestamp riferimento discesa: NaT<br>Prezzo riferimento discesa: None<br>Variazione rispetto riferimento discesa: None %<br>Timestamp riferimento salita: 2021-02-28 00:00:00<br>Prezzo riferimento salita: 37332.50<br>Variazione rispetto riferimento salita: 37.24% %",
          "Timestamp: 2021-03-14 00:00:00<br>Prezzo: 49624.30 €<br>Variazione giornaliera: -3.14%<br>Timestamp riferimento discesa: 2021-03-13 00:00:00<br>Prezzo riferimento discesa: 51235.54<br>Variazione rispetto riferimento discesa: -3.14% %<br>Timestamp riferimento salita: 2021-02-28 00:00:00<br>Prezzo riferimento salita: 37332.50<br>Variazione rispetto riferimento salita: 32.93% %",
          "Timestamp: 2021-03-15 00:00:00<br>Prezzo: 46876.45 €<br>Variazione giornaliera: -5.54%<br>Timestamp riferimento discesa: 2021-03-13 00:00:00<br>Prezzo riferimento discesa: 51235.54<br>Variazione rispetto riferimento discesa: -8.51% %<br>Timestamp riferimento salita: NaT<br>Prezzo riferimento salita: None<br>Variazione rispetto riferimento salita: None %",
          "Timestamp: 2021-03-16 00:00:00<br>Prezzo: 47727.08 €<br>Variazione giornaliera: 1.81%<br>Timestamp riferimento discesa: 2021-03-13 00:00:00<br>Prezzo riferimento discesa: 51235.54<br>Variazione rispetto riferimento discesa: -6.85% %<br>Timestamp riferimento salita: 2021-03-15 00:00:00<br>Prezzo riferimento salita: 46876.45<br>Variazione rispetto riferimento salita: 1.81% %",
          "Timestamp: 2021-03-17 00:00:00<br>Prezzo: 49129.88 €<br>Variazione giornaliera: 2.94%<br>Timestamp riferimento discesa: 2021-03-13 00:00:00<br>Prezzo riferimento discesa: 51235.54<br>Variazione rispetto riferimento discesa: -4.11% %<br>Timestamp riferimento salita: 2021-03-15 00:00:00<br>Prezzo riferimento salita: 46876.45<br>Variazione rispetto riferimento salita: 4.81% %",
          "Timestamp: 2021-03-18 00:00:00<br>Prezzo: 48546.07 €<br>Variazione giornaliera: -1.19%<br>Timestamp riferimento discesa: 2021-03-13 00:00:00<br>Prezzo riferimento discesa: 51235.54<br>Variazione rispetto riferimento discesa: -5.25% %<br>Timestamp riferimento salita: 2021-03-15 00:00:00<br>Prezzo riferimento salita: 46876.45<br>Variazione rispetto riferimento salita: 3.56% %",
          "Timestamp: 2021-03-19 00:00:00<br>Prezzo: 48839.94 €<br>Variazione giornaliera: 0.61%<br>Timestamp riferimento discesa: 2021-03-13 00:00:00<br>Prezzo riferimento discesa: 51235.54<br>Variazione rispetto riferimento discesa: -4.68% %<br>Timestamp riferimento salita: 2021-03-15 00:00:00<br>Prezzo riferimento salita: 46876.45<br>Variazione rispetto riferimento salita: 4.19% %",
          "Timestamp: 2021-03-20 00:00:00<br>Prezzo: 48812.31 €<br>Variazione giornaliera: -0.06%<br>Timestamp riferimento discesa: 2021-03-13 00:00:00<br>Prezzo riferimento discesa: 51235.54<br>Variazione rispetto riferimento discesa: -4.73% %<br>Timestamp riferimento salita: 2021-03-15 00:00:00<br>Prezzo riferimento salita: 46876.45<br>Variazione rispetto riferimento salita: 4.13% %",
          "Timestamp: 2021-03-21 00:00:00<br>Prezzo: 48405.21 €<br>Variazione giornaliera: -0.83%<br>Timestamp riferimento discesa: 2021-03-13 00:00:00<br>Prezzo riferimento discesa: 51235.54<br>Variazione rispetto riferimento discesa: -5.52% %<br>Timestamp riferimento salita: 2021-03-15 00:00:00<br>Prezzo riferimento salita: 46876.45<br>Variazione rispetto riferimento salita: 3.26% %",
          "Timestamp: 2021-03-22 00:00:00<br>Prezzo: 45699.41 €<br>Variazione giornaliera: -5.59%<br>Timestamp riferimento discesa: 2021-03-13 00:00:00<br>Prezzo riferimento discesa: 51235.54<br>Variazione rispetto riferimento discesa: -10.81% %<br>Timestamp riferimento salita: NaT<br>Prezzo riferimento salita: None<br>Variazione rispetto riferimento salita: None %",
          "Timestamp: 2021-03-23 00:00:00<br>Prezzo: 46230.27 €<br>Variazione giornaliera: 1.16%<br>Timestamp riferimento discesa: 2021-03-13 00:00:00<br>Prezzo riferimento discesa: 51235.54<br>Variazione rispetto riferimento discesa: -9.77% %<br>Timestamp riferimento salita: 2021-03-22 00:00:00<br>Prezzo riferimento salita: 45699.41<br>Variazione rispetto riferimento salita: 1.16% %",
          "Timestamp: 2021-03-24 00:00:00<br>Prezzo: 44675.63 €<br>Variazione giornaliera: -3.36%<br>Timestamp riferimento discesa: 2021-03-13 00:00:00<br>Prezzo riferimento discesa: 51235.54<br>Variazione rispetto riferimento discesa: -12.8% %<br>Timestamp riferimento salita: 2021-03-22 00:00:00<br>Prezzo riferimento salita: 45699.41<br>Variazione rispetto riferimento salita: -2.24% %",
          "Timestamp: 2021-03-25 00:00:00<br>Prezzo: 43907.33 €<br>Variazione giornaliera: -1.72%<br>Timestamp riferimento discesa: 2021-03-13 00:00:00<br>Prezzo riferimento discesa: 51235.54<br>Variazione rispetto riferimento discesa: -14.3% %<br>Timestamp riferimento salita: NaT<br>Prezzo riferimento salita: None<br>Variazione rispetto riferimento salita: None %",
          "Timestamp: 2021-03-26 00:00:00<br>Prezzo: 46749.44 €<br>Variazione giornaliera: 6.47%<br>Timestamp riferimento discesa: NaT<br>Prezzo riferimento discesa: None<br>Variazione rispetto riferimento discesa: None %<br>Timestamp riferimento salita: 2021-03-25 00:00:00<br>Prezzo riferimento salita: 43907.33<br>Variazione rispetto riferimento salita: 6.47% %",
          "Timestamp: 2021-03-27 00:00:00<br>Prezzo: 47458.43 €<br>Variazione giornaliera: 1.52%<br>Timestamp riferimento discesa: NaT<br>Prezzo riferimento discesa: None<br>Variazione rispetto riferimento discesa: None %<br>Timestamp riferimento salita: 2021-03-25 00:00:00<br>Prezzo riferimento salita: 43907.33<br>Variazione rispetto riferimento salita: 8.09% %",
          "Timestamp: 2021-03-28 00:00:00<br>Prezzo: 47471.80 €<br>Variazione giornaliera: 0.03%<br>Timestamp riferimento discesa: NaT<br>Prezzo riferimento discesa: None<br>Variazione rispetto riferimento discesa: None %<br>Timestamp riferimento salita: 2021-03-25 00:00:00<br>Prezzo riferimento salita: 43907.33<br>Variazione rispetto riferimento salita: 8.12% %",
          "Timestamp: 2021-03-29 00:00:00<br>Prezzo: 49071.79 €<br>Variazione giornaliera: 3.37%<br>Timestamp riferimento discesa: NaT<br>Prezzo riferimento discesa: None<br>Variazione rispetto riferimento discesa: None %<br>Timestamp riferimento salita: 2021-03-25 00:00:00<br>Prezzo riferimento salita: 43907.33<br>Variazione rispetto riferimento salita: 11.76% %",
          "Timestamp: 2021-03-30 00:00:00<br>Prezzo: 50257.09 €<br>Variazione giornaliera: 2.42%<br>Timestamp riferimento discesa: NaT<br>Prezzo riferimento discesa: None<br>Variazione rispetto riferimento discesa: None %<br>Timestamp riferimento salita: 2021-03-25 00:00:00<br>Prezzo riferimento salita: 43907.33<br>Variazione rispetto riferimento salita: 14.46% %",
          "Timestamp: 2021-03-31 00:00:00<br>Prezzo: 50240.56 €<br>Variazione giornaliera: -0.03%<br>Timestamp riferimento discesa: 2021-03-30 00:00:00<br>Prezzo riferimento discesa: 50257.09<br>Variazione rispetto riferimento discesa: -0.03% %<br>Timestamp riferimento salita: 2021-03-25 00:00:00<br>Prezzo riferimento salita: 43907.33<br>Variazione rispetto riferimento salita: 14.42% %",
          "Timestamp: 2021-04-01 00:00:00<br>Prezzo: 50172.64 €<br>Variazione giornaliera: -0.14%<br>Timestamp riferimento discesa: 2021-03-30 00:00:00<br>Prezzo riferimento discesa: 50257.09<br>Variazione rispetto riferimento discesa: -0.17% %<br>Timestamp riferimento salita: 2021-03-25 00:00:00<br>Prezzo riferimento salita: 43907.33<br>Variazione rispetto riferimento salita: 14.27% %",
          "Timestamp: 2021-04-02 00:00:00<br>Prezzo: 50497.27 €<br>Variazione giornaliera: 0.65%<br>Timestamp riferimento discesa: 2021-03-30 00:00:00<br>Prezzo riferimento discesa: 50257.09<br>Variazione rispetto riferimento discesa: 0.48% %<br>Timestamp riferimento salita: 2021-03-25 00:00:00<br>Prezzo riferimento salita: 43907.33<br>Variazione rispetto riferimento salita: 15.01% %",
          "Timestamp: 2021-04-03 00:00:00<br>Prezzo: 48985.83 €<br>Variazione giornaliera: -2.99%<br>Timestamp riferimento discesa: 2021-03-30 00:00:00<br>Prezzo riferimento discesa: 50257.09<br>Variazione rispetto riferimento discesa: -2.53% %<br>Timestamp riferimento salita: 2021-03-25 00:00:00<br>Prezzo riferimento salita: 43907.33<br>Variazione rispetto riferimento salita: 11.57% %",
          "Timestamp: 2021-04-04 00:00:00<br>Prezzo: 49933.20 €<br>Variazione giornaliera: 1.93%<br>Timestamp riferimento discesa: 2021-03-30 00:00:00<br>Prezzo riferimento discesa: 50257.09<br>Variazione rispetto riferimento discesa: -0.64% %<br>Timestamp riferimento salita: 2021-03-25 00:00:00<br>Prezzo riferimento salita: 43907.33<br>Variazione rispetto riferimento salita: 13.72% %",
          "Timestamp: 2021-04-05 00:00:00<br>Prezzo: 49976.84 €<br>Variazione giornaliera: 0.09%<br>Timestamp riferimento discesa: 2021-03-30 00:00:00<br>Prezzo riferimento discesa: 50257.09<br>Variazione rispetto riferimento discesa: -0.56% %<br>Timestamp riferimento salita: 2021-03-25 00:00:00<br>Prezzo riferimento salita: 43907.33<br>Variazione rispetto riferimento salita: 13.82% %",
          "Timestamp: 2021-04-06 00:00:00<br>Prezzo: 49008.61 €<br>Variazione giornaliera: -1.94%<br>Timestamp riferimento discesa: 2021-03-30 00:00:00<br>Prezzo riferimento discesa: 50257.09<br>Variazione rispetto riferimento discesa: -2.48% %<br>Timestamp riferimento salita: 2021-03-25 00:00:00<br>Prezzo riferimento salita: 43907.33<br>Variazione rispetto riferimento salita: 11.62% %",
          "Timestamp: 2021-04-07 00:00:00<br>Prezzo: 47210.02 €<br>Variazione giornaliera: -3.67%<br>Timestamp riferimento discesa: 2021-03-30 00:00:00<br>Prezzo riferimento discesa: 50257.09<br>Variazione rispetto riferimento discesa: -6.06% %<br>Timestamp riferimento salita: NaT<br>Prezzo riferimento salita: None<br>Variazione rispetto riferimento salita: None %",
          "Timestamp: 2021-04-08 00:00:00<br>Prezzo: 48948.38 €<br>Variazione giornaliera: 3.68%<br>Timestamp riferimento discesa: 2021-03-30 00:00:00<br>Prezzo riferimento discesa: 50257.09<br>Variazione rispetto riferimento discesa: -2.6% %<br>Timestamp riferimento salita: 2021-04-07 00:00:00<br>Prezzo riferimento salita: 47210.02<br>Variazione rispetto riferimento salita: 3.68% %",
          "Timestamp: 2021-04-09 00:00:00<br>Prezzo: 48942.11 €<br>Variazione giornaliera: -0.01%<br>Timestamp riferimento discesa: 2021-03-30 00:00:00<br>Prezzo riferimento discesa: 50257.09<br>Variazione rispetto riferimento discesa: -2.62% %<br>Timestamp riferimento salita: 2021-04-07 00:00:00<br>Prezzo riferimento salita: 47210.02<br>Variazione rispetto riferimento salita: 3.67% %",
          "Timestamp: 2021-04-10 00:00:00<br>Prezzo: 50242.22 €<br>Variazione giornaliera: 2.66%<br>Timestamp riferimento discesa: 2021-03-30 00:00:00<br>Prezzo riferimento discesa: 50257.09<br>Variazione rispetto riferimento discesa: -0.03% %<br>Timestamp riferimento salita: 2021-04-07 00:00:00<br>Prezzo riferimento salita: 47210.02<br>Variazione rispetto riferimento salita: 6.42% %",
          "Timestamp: 2021-04-11 00:00:00<br>Prezzo: 50609.20 €<br>Variazione giornaliera: 0.73%<br>Timestamp riferimento discesa: 2021-03-30 00:00:00<br>Prezzo riferimento discesa: 50257.09<br>Variazione rispetto riferimento discesa: 0.7% %<br>Timestamp riferimento salita: 2021-04-07 00:00:00<br>Prezzo riferimento salita: 47210.02<br>Variazione rispetto riferimento salita: 7.2% %",
          "Timestamp: 2021-04-12 00:00:00<br>Prezzo: 50273.61 €<br>Variazione giornaliera: -0.66%<br>Timestamp riferimento discesa: 2021-03-30 00:00:00<br>Prezzo riferimento discesa: 50257.09<br>Variazione rispetto riferimento discesa: 0.03% %<br>Timestamp riferimento salita: 2021-04-07 00:00:00<br>Prezzo riferimento salita: 47210.02<br>Variazione rispetto riferimento salita: 6.49% %",
          "Timestamp: 2021-04-13 00:00:00<br>Prezzo: 53123.63 €<br>Variazione giornaliera: 5.67%<br>Timestamp riferimento discesa: NaT<br>Prezzo riferimento discesa: None<br>Variazione rispetto riferimento discesa: None %<br>Timestamp riferimento salita: 2021-04-07 00:00:00<br>Prezzo riferimento salita: 47210.02<br>Variazione rispetto riferimento salita: 12.53% %",
          "Timestamp: 2021-04-14 00:00:00<br>Prezzo: 52664.09 €<br>Variazione giornaliera: -0.87%<br>Timestamp riferimento discesa: 2021-04-13 00:00:00<br>Prezzo riferimento discesa: 53123.63<br>Variazione rispetto riferimento discesa: -0.87% %<br>Timestamp riferimento salita: 2021-04-07 00:00:00<br>Prezzo riferimento salita: 47210.02<br>Variazione rispetto riferimento salita: 11.55% %",
          "Timestamp: 2021-04-15 00:00:00<br>Prezzo: 52896.39 €<br>Variazione giornaliera: 0.44%<br>Timestamp riferimento discesa: 2021-04-13 00:00:00<br>Prezzo riferimento discesa: 53123.63<br>Variazione rispetto riferimento discesa: -0.43% %<br>Timestamp riferimento salita: 2021-04-07 00:00:00<br>Prezzo riferimento salita: 47210.02<br>Variazione rispetto riferimento salita: 12.04% %",
          "Timestamp: 2021-04-16 00:00:00<br>Prezzo: 51386.25 €<br>Variazione giornaliera: -2.85%<br>Timestamp riferimento discesa: 2021-04-13 00:00:00<br>Prezzo riferimento discesa: 53123.63<br>Variazione rispetto riferimento discesa: -3.27% %<br>Timestamp riferimento salita: 2021-04-07 00:00:00<br>Prezzo riferimento salita: 47210.02<br>Variazione rispetto riferimento salita: 8.85% %",
          "Timestamp: 2021-04-17 00:00:00<br>Prezzo: 50646.05 €<br>Variazione giornaliera: -1.44%<br>Timestamp riferimento discesa: 2021-04-13 00:00:00<br>Prezzo riferimento discesa: 53123.63<br>Variazione rispetto riferimento discesa: -4.66% %<br>Timestamp riferimento salita: 2021-04-07 00:00:00<br>Prezzo riferimento salita: 47210.02<br>Variazione rispetto riferimento salita: 7.28% %",
          "Timestamp: 2021-04-18 00:00:00<br>Prezzo: 46968.79 €<br>Variazione giornaliera: -7.26%<br>Timestamp riferimento discesa: 2021-04-13 00:00:00<br>Prezzo riferimento discesa: 53123.63<br>Variazione rispetto riferimento discesa: -11.59% %<br>Timestamp riferimento salita: NaT<br>Prezzo riferimento salita: None<br>Variazione rispetto riferimento salita: None %",
          "Timestamp: 2021-04-19 00:00:00<br>Prezzo: 46276.83 €<br>Variazione giornaliera: -1.47%<br>Timestamp riferimento discesa: 2021-04-13 00:00:00<br>Prezzo riferimento discesa: 53123.63<br>Variazione rispetto riferimento discesa: -12.89% %<br>Timestamp riferimento salita: NaT<br>Prezzo riferimento salita: None<br>Variazione rispetto riferimento salita: None %",
          "Timestamp: 2021-04-20 00:00:00<br>Prezzo: 46933.72 €<br>Variazione giornaliera: 1.42%<br>Timestamp riferimento discesa: 2021-04-13 00:00:00<br>Prezzo riferimento discesa: 53123.63<br>Variazione rispetto riferimento discesa: -11.65% %<br>Timestamp riferimento salita: 2021-04-19 00:00:00<br>Prezzo riferimento salita: 46276.83<br>Variazione rispetto riferimento salita: 1.42% %",
          "Timestamp: 2021-04-21 00:00:00<br>Prezzo: 44784.21 €<br>Variazione giornaliera: -4.58%<br>Timestamp riferimento discesa: 2021-04-13 00:00:00<br>Prezzo riferimento discesa: 53123.63<br>Variazione rispetto riferimento discesa: -15.7% %<br>Timestamp riferimento salita: 2021-04-19 00:00:00<br>Prezzo riferimento salita: 46276.83<br>Variazione rispetto riferimento salita: -3.23% %",
          "Timestamp: 2021-04-22 00:00:00<br>Prezzo: 43083.34 €<br>Variazione giornaliera: -3.8%<br>Timestamp riferimento discesa: 2021-04-13 00:00:00<br>Prezzo riferimento discesa: 53123.63<br>Variazione rispetto riferimento discesa: -18.9% %<br>Timestamp riferimento salita: NaT<br>Prezzo riferimento salita: None<br>Variazione rispetto riferimento salita: None %",
          "Timestamp: 2021-04-23 00:00:00<br>Prezzo: 42231.41 €<br>Variazione giornaliera: -1.98%<br>Timestamp riferimento discesa: 2021-04-13 00:00:00<br>Prezzo riferimento discesa: 53123.63<br>Variazione rispetto riferimento discesa: -20.5% %<br>Timestamp riferimento salita: NaT<br>Prezzo riferimento salita: None<br>Variazione rispetto riferimento salita: None %",
          "Timestamp: 2021-04-24 00:00:00<br>Prezzo: 41374.10 €<br>Variazione giornaliera: -2.03%<br>Timestamp riferimento discesa: 2021-04-13 00:00:00<br>Prezzo riferimento discesa: 53123.63<br>Variazione rispetto riferimento discesa: -22.12% %<br>Timestamp riferimento salita: NaT<br>Prezzo riferimento salita: None<br>Variazione rispetto riferimento salita: None %",
          "Timestamp: 2021-04-25 00:00:00<br>Prezzo: 40534.26 €<br>Variazione giornaliera: -2.03%<br>Timestamp riferimento discesa: 2021-04-13 00:00:00<br>Prezzo riferimento discesa: 53123.63<br>Variazione rispetto riferimento discesa: -23.7% %<br>Timestamp riferimento salita: NaT<br>Prezzo riferimento salita: None<br>Variazione rispetto riferimento salita: None %",
          "Timestamp: 2021-04-26 00:00:00<br>Prezzo: 44721.86 €<br>Variazione giornaliera: 10.33%<br>Timestamp riferimento discesa: NaT<br>Prezzo riferimento discesa: None<br>Variazione rispetto riferimento discesa: None %<br>Timestamp riferimento salita: 2021-04-25 00:00:00<br>Prezzo riferimento salita: 40534.26<br>Variazione rispetto riferimento salita: 10.33% %",
          "Timestamp: 2021-04-27 00:00:00<br>Prezzo: 45522.52 €<br>Variazione giornaliera: 1.79%<br>Timestamp riferimento discesa: NaT<br>Prezzo riferimento discesa: None<br>Variazione rispetto riferimento discesa: None %<br>Timestamp riferimento salita: 2021-04-25 00:00:00<br>Prezzo riferimento salita: 40534.26<br>Variazione rispetto riferimento salita: 12.31% %",
          "Timestamp: 2021-04-28 00:00:00<br>Prezzo: 45178.68 €<br>Variazione giornaliera: -0.76%<br>Timestamp riferimento discesa: 2021-04-27 00:00:00<br>Prezzo riferimento discesa: 45522.52<br>Variazione rispetto riferimento discesa: -0.76% %<br>Timestamp riferimento salita: 2021-04-25 00:00:00<br>Prezzo riferimento salita: 40534.26<br>Variazione rispetto riferimento salita: 11.46% %",
          "Timestamp: 2021-04-29 00:00:00<br>Prezzo: 44170.97 €<br>Variazione giornaliera: -2.23%<br>Timestamp riferimento discesa: 2021-04-27 00:00:00<br>Prezzo riferimento discesa: 45522.52<br>Variazione rispetto riferimento discesa: -2.97% %<br>Timestamp riferimento salita: 2021-04-25 00:00:00<br>Prezzo riferimento salita: 40534.26<br>Variazione rispetto riferimento salita: 8.97% %",
          "Timestamp: 2021-04-30 00:00:00<br>Prezzo: 48047.05 €<br>Variazione giornaliera: 8.78%<br>Timestamp riferimento discesa: NaT<br>Prezzo riferimento discesa: None<br>Variazione rispetto riferimento discesa: None %<br>Timestamp riferimento salita: 2021-04-25 00:00:00<br>Prezzo riferimento salita: 40534.26<br>Variazione rispetto riferimento salita: 18.53% %",
          "Timestamp: 2021-05-01 00:00:00<br>Prezzo: 48110.05 €<br>Variazione giornaliera: 0.13%<br>Timestamp riferimento discesa: NaT<br>Prezzo riferimento discesa: None<br>Variazione rispetto riferimento discesa: None %<br>Timestamp riferimento salita: 2021-04-25 00:00:00<br>Prezzo riferimento salita: 40534.26<br>Variazione rispetto riferimento salita: 18.69% %",
          "Timestamp: 2021-05-02 00:00:00<br>Prezzo: 47088.57 €<br>Variazione giornaliera: -2.12%<br>Timestamp riferimento discesa: 2021-05-01 00:00:00<br>Prezzo riferimento discesa: 48110.05<br>Variazione rispetto riferimento discesa: -2.12% %<br>Timestamp riferimento salita: 2021-04-25 00:00:00<br>Prezzo riferimento salita: 40534.26<br>Variazione rispetto riferimento salita: 16.17% %",
          "Timestamp: 2021-05-03 00:00:00<br>Prezzo: 47432.77 €<br>Variazione giornaliera: 0.73%<br>Timestamp riferimento discesa: 2021-05-01 00:00:00<br>Prezzo riferimento discesa: 48110.05<br>Variazione rispetto riferimento discesa: -1.41% %<br>Timestamp riferimento salita: 2021-04-25 00:00:00<br>Prezzo riferimento salita: 40534.26<br>Variazione rispetto riferimento salita: 17.02% %",
          "Timestamp: 2021-05-04 00:00:00<br>Prezzo: 44387.26 €<br>Variazione giornaliera: -6.42%<br>Timestamp riferimento discesa: 2021-05-01 00:00:00<br>Prezzo riferimento discesa: 48110.05<br>Variazione rispetto riferimento discesa: -7.74% %<br>Timestamp riferimento salita: NaT<br>Prezzo riferimento salita: None<br>Variazione rispetto riferimento salita: None %",
          "Timestamp: 2021-05-05 00:00:00<br>Prezzo: 47823.06 €<br>Variazione giornaliera: 7.74%<br>Timestamp riferimento discesa: NaT<br>Prezzo riferimento discesa: None<br>Variazione rispetto riferimento discesa: None %<br>Timestamp riferimento salita: 2021-05-04 00:00:00<br>Prezzo riferimento salita: 44387.26<br>Variazione rispetto riferimento salita: 7.74% %",
          "Timestamp: 2021-05-06 00:00:00<br>Prezzo: 46742.56 €<br>Variazione giornaliera: -2.26%<br>Timestamp riferimento discesa: 2021-05-05 00:00:00<br>Prezzo riferimento discesa: 47823.06<br>Variazione rispetto riferimento discesa: -2.26% %<br>Timestamp riferimento salita: 2021-05-04 00:00:00<br>Prezzo riferimento salita: 44387.26<br>Variazione rispetto riferimento salita: 5.31% %",
          "Timestamp: 2021-05-07 00:00:00<br>Prezzo: 47155.51 €<br>Variazione giornaliera: 0.88%<br>Timestamp riferimento discesa: 2021-05-05 00:00:00<br>Prezzo riferimento discesa: 47823.06<br>Variazione rispetto riferimento discesa: -1.4% %<br>Timestamp riferimento salita: 2021-05-04 00:00:00<br>Prezzo riferimento salita: 44387.26<br>Variazione rispetto riferimento salita: 6.24% %",
          "Timestamp: 2021-05-08 00:00:00<br>Prezzo: 48345.46 €<br>Variazione giornaliera: 2.52%<br>Timestamp riferimento discesa: 2021-05-05 00:00:00<br>Prezzo riferimento discesa: 47823.06<br>Variazione rispetto riferimento discesa: 1.09% %<br>Timestamp riferimento salita: 2021-05-04 00:00:00<br>Prezzo riferimento salita: 44387.26<br>Variazione rispetto riferimento salita: 8.92% %",
          "Timestamp: 2021-05-09 00:00:00<br>Prezzo: 47846.52 €<br>Variazione giornaliera: -1.03%<br>Timestamp riferimento discesa: 2021-05-05 00:00:00<br>Prezzo riferimento discesa: 47823.06<br>Variazione rispetto riferimento discesa: 0.05% %<br>Timestamp riferimento salita: 2021-05-04 00:00:00<br>Prezzo riferimento salita: 44387.26<br>Variazione rispetto riferimento salita: 7.79% %",
          "Timestamp: 2021-05-10 00:00:00<br>Prezzo: 46010.48 €<br>Variazione giornaliera: -3.84%<br>Timestamp riferimento discesa: 2021-05-05 00:00:00<br>Prezzo riferimento discesa: 47823.06<br>Variazione rispetto riferimento discesa: -3.79% %<br>Timestamp riferimento salita: 2021-05-04 00:00:00<br>Prezzo riferimento salita: 44387.26<br>Variazione rispetto riferimento salita: 3.66% %",
          "Timestamp: 2021-05-11 00:00:00<br>Prezzo: 46692.53 €<br>Variazione giornaliera: 1.48%<br>Timestamp riferimento discesa: 2021-05-05 00:00:00<br>Prezzo riferimento discesa: 47823.06<br>Variazione rispetto riferimento discesa: -2.36% %<br>Timestamp riferimento salita: 2021-05-04 00:00:00<br>Prezzo riferimento salita: 44387.26<br>Variazione rispetto riferimento salita: 5.19% %",
          "Timestamp: 2021-05-12 00:00:00<br>Prezzo: 40695.51 €<br>Variazione giornaliera: -12.84%<br>Timestamp riferimento discesa: 2021-05-05 00:00:00<br>Prezzo riferimento discesa: 47823.06<br>Variazione rispetto riferimento discesa: -14.9% %<br>Timestamp riferimento salita: NaT<br>Prezzo riferimento salita: None<br>Variazione rispetto riferimento salita: None %",
          "Timestamp: 2021-05-13 00:00:00<br>Prezzo: 41166.70 €<br>Variazione giornaliera: 1.16%<br>Timestamp riferimento discesa: 2021-05-05 00:00:00<br>Prezzo riferimento discesa: 47823.06<br>Variazione rispetto riferimento discesa: -13.92% %<br>Timestamp riferimento salita: 2021-05-12 00:00:00<br>Prezzo riferimento salita: 40695.51<br>Variazione rispetto riferimento salita: 1.16% %",
          "Timestamp: 2021-05-14 00:00:00<br>Prezzo: 41072.78 €<br>Variazione giornaliera: -0.23%<br>Timestamp riferimento discesa: 2021-05-05 00:00:00<br>Prezzo riferimento discesa: 47823.06<br>Variazione rispetto riferimento discesa: -14.12% %<br>Timestamp riferimento salita: 2021-05-12 00:00:00<br>Prezzo riferimento salita: 40695.51<br>Variazione rispetto riferimento salita: 0.93% %",
          "Timestamp: 2021-05-15 00:00:00<br>Prezzo: 38498.74 €<br>Variazione giornaliera: -6.27%<br>Timestamp riferimento discesa: 2021-05-05 00:00:00<br>Prezzo riferimento discesa: 47823.06<br>Variazione rispetto riferimento discesa: -19.5% %<br>Timestamp riferimento salita: NaT<br>Prezzo riferimento salita: None<br>Variazione rispetto riferimento salita: None %",
          "Timestamp: 2021-05-16 00:00:00<br>Prezzo: 38235.89 €<br>Variazione giornaliera: -0.68%<br>Timestamp riferimento discesa: 2021-05-05 00:00:00<br>Prezzo riferimento discesa: 47823.06<br>Variazione rispetto riferimento discesa: -20.05% %<br>Timestamp riferimento salita: NaT<br>Prezzo riferimento salita: None<br>Variazione rispetto riferimento salita: None %",
          "Timestamp: 2021-05-17 00:00:00<br>Prezzo: 35814.09 €<br>Variazione giornaliera: -6.33%<br>Timestamp riferimento discesa: 2021-05-05 00:00:00<br>Prezzo riferimento discesa: 47823.06<br>Variazione rispetto riferimento discesa: -25.11% %<br>Timestamp riferimento salita: NaT<br>Prezzo riferimento salita: None<br>Variazione rispetto riferimento salita: None %",
          "Timestamp: 2021-05-18 00:00:00<br>Prezzo: 35106.80 €<br>Variazione giornaliera: -1.97%<br>Timestamp riferimento discesa: 2021-05-05 00:00:00<br>Prezzo riferimento discesa: 47823.06<br>Variazione rispetto riferimento discesa: -26.59% %<br>Timestamp riferimento salita: NaT<br>Prezzo riferimento salita: None<br>Variazione rispetto riferimento salita: None %",
          "Timestamp: 2021-05-19 00:00:00<br>Prezzo: 30403.20 €<br>Variazione giornaliera: -13.4%<br>Timestamp riferimento discesa: 2021-05-05 00:00:00<br>Prezzo riferimento discesa: 47823.06<br>Variazione rispetto riferimento discesa: -36.43% %<br>Timestamp riferimento salita: NaT<br>Prezzo riferimento salita: None<br>Variazione rispetto riferimento salita: None %",
          "Timestamp: 2021-05-20 00:00:00<br>Prezzo: 33359.14 €<br>Variazione giornaliera: 9.72%<br>Timestamp riferimento discesa: NaT<br>Prezzo riferimento discesa: None<br>Variazione rispetto riferimento discesa: None %<br>Timestamp riferimento salita: 2021-05-19 00:00:00<br>Prezzo riferimento salita: 30403.20<br>Variazione rispetto riferimento salita: 9.72% %",
          "Timestamp: 2021-05-21 00:00:00<br>Prezzo: 30627.82 €<br>Variazione giornaliera: -8.19%<br>Timestamp riferimento discesa: 2021-05-20 00:00:00<br>Prezzo riferimento discesa: 33359.14<br>Variazione rispetto riferimento discesa: -8.19% %<br>Timestamp riferimento salita: NaT<br>Prezzo riferimento salita: None<br>Variazione rispetto riferimento salita: None %",
          "Timestamp: 2021-05-22 00:00:00<br>Prezzo: 30818.25 €<br>Variazione giornaliera: 0.62%<br>Timestamp riferimento discesa: 2021-05-20 00:00:00<br>Prezzo riferimento discesa: 33359.14<br>Variazione rispetto riferimento discesa: -7.62% %<br>Timestamp riferimento salita: 2021-05-21 00:00:00<br>Prezzo riferimento salita: 30627.82<br>Variazione rispetto riferimento salita: 0.62% %",
          "Timestamp: 2021-05-23 00:00:00<br>Prezzo: 28545.54 €<br>Variazione giornaliera: -7.37%<br>Timestamp riferimento discesa: 2021-05-20 00:00:00<br>Prezzo riferimento discesa: 33359.14<br>Variazione rispetto riferimento discesa: -14.43% %<br>Timestamp riferimento salita: NaT<br>Prezzo riferimento salita: None<br>Variazione rispetto riferimento salita: None %",
          "Timestamp: 2021-05-24 00:00:00<br>Prezzo: 31689.20 €<br>Variazione giornaliera: 11.01%<br>Timestamp riferimento discesa: NaT<br>Prezzo riferimento discesa: None<br>Variazione rispetto riferimento discesa: None %<br>Timestamp riferimento salita: 2021-05-23 00:00:00<br>Prezzo riferimento salita: 28545.54<br>Variazione rispetto riferimento salita: 11.01% %",
          "Timestamp: 2021-05-25 00:00:00<br>Prezzo: 31356.95 €<br>Variazione giornaliera: -1.05%<br>Timestamp riferimento discesa: 2021-05-24 00:00:00<br>Prezzo riferimento discesa: 31689.20<br>Variazione rispetto riferimento discesa: -1.05% %<br>Timestamp riferimento salita: 2021-05-23 00:00:00<br>Prezzo riferimento salita: 28545.54<br>Variazione rispetto riferimento salita: 9.85% %",
          "Timestamp: 2021-05-26 00:00:00<br>Prezzo: 32229.53 €<br>Variazione giornaliera: 2.78%<br>Timestamp riferimento discesa: 2021-05-24 00:00:00<br>Prezzo riferimento discesa: 31689.20<br>Variazione rispetto riferimento discesa: 1.71% %<br>Timestamp riferimento salita: 2021-05-23 00:00:00<br>Prezzo riferimento salita: 28545.54<br>Variazione rispetto riferimento salita: 12.91% %",
          "Timestamp: 2021-05-27 00:00:00<br>Prezzo: 31524.04 €<br>Variazione giornaliera: -2.19%<br>Timestamp riferimento discesa: 2021-05-24 00:00:00<br>Prezzo riferimento discesa: 31689.20<br>Variazione rispetto riferimento discesa: -0.52% %<br>Timestamp riferimento salita: 2021-05-23 00:00:00<br>Prezzo riferimento salita: 28545.54<br>Variazione rispetto riferimento salita: 10.43% %",
          "Timestamp: 2021-05-28 00:00:00<br>Prezzo: 29278.32 €<br>Variazione giornaliera: -7.12%<br>Timestamp riferimento discesa: 2021-05-24 00:00:00<br>Prezzo riferimento discesa: 31689.20<br>Variazione rispetto riferimento discesa: -7.61% %<br>Timestamp riferimento salita: NaT<br>Prezzo riferimento salita: None<br>Variazione rispetto riferimento salita: None %",
          "Timestamp: 2021-05-29 00:00:00<br>Prezzo: 28391.16 €<br>Variazione giornaliera: -3.03%<br>Timestamp riferimento discesa: 2021-05-24 00:00:00<br>Prezzo riferimento discesa: 31689.20<br>Variazione rispetto riferimento discesa: -10.41% %<br>Timestamp riferimento salita: NaT<br>Prezzo riferimento salita: None<br>Variazione rispetto riferimento salita: None %",
          "Timestamp: 2021-05-30 00:00:00<br>Prezzo: 29269.52 €<br>Variazione giornaliera: 3.09%<br>Timestamp riferimento discesa: 2021-05-24 00:00:00<br>Prezzo riferimento discesa: 31689.20<br>Variazione rispetto riferimento discesa: -7.64% %<br>Timestamp riferimento salita: 2021-05-29 00:00:00<br>Prezzo riferimento salita: 28391.16<br>Variazione rispetto riferimento salita: 3.09% %",
          "Timestamp: 2021-05-31 00:00:00<br>Prezzo: 30519.31 €<br>Variazione giornaliera: 4.27%<br>Timestamp riferimento discesa: NaT<br>Prezzo riferimento discesa: None<br>Variazione rispetto riferimento discesa: None %<br>Timestamp riferimento salita: 2021-05-29 00:00:00<br>Prezzo riferimento salita: 28391.16<br>Variazione rispetto riferimento salita: 7.5% %",
          "Timestamp: 2021-06-01 00:00:00<br>Prezzo: 30026.79 €<br>Variazione giornaliera: -1.61%<br>Timestamp riferimento discesa: 2021-05-31 00:00:00<br>Prezzo riferimento discesa: 30519.31<br>Variazione rispetto riferimento discesa: -1.61% %<br>Timestamp riferimento salita: 2021-05-29 00:00:00<br>Prezzo riferimento salita: 28391.16<br>Variazione rispetto riferimento salita: 5.76% %",
          "Timestamp: 2021-06-02 00:00:00<br>Prezzo: 30775.01 €<br>Variazione giornaliera: 2.49%<br>Timestamp riferimento discesa: 2021-05-31 00:00:00<br>Prezzo riferimento discesa: 30519.31<br>Variazione rispetto riferimento discesa: 0.84% %<br>Timestamp riferimento salita: 2021-05-29 00:00:00<br>Prezzo riferimento salita: 28391.16<br>Variazione rispetto riferimento salita: 8.4% %",
          "Timestamp: 2021-06-03 00:00:00<br>Prezzo: 32321.55 €<br>Variazione giornaliera: 5.03%<br>Timestamp riferimento discesa: NaT<br>Prezzo riferimento discesa: None<br>Variazione rispetto riferimento discesa: None %<br>Timestamp riferimento salita: 2021-05-29 00:00:00<br>Prezzo riferimento salita: 28391.16<br>Variazione rispetto riferimento salita: 13.84% %",
          "Timestamp: 2021-06-04 00:00:00<br>Prezzo: 30322.70 €<br>Variazione giornaliera: -6.18%<br>Timestamp riferimento discesa: 2021-06-03 00:00:00<br>Prezzo riferimento discesa: 32321.55<br>Variazione rispetto riferimento discesa: -6.18% %<br>Timestamp riferimento salita: NaT<br>Prezzo riferimento salita: None<br>Variazione rispetto riferimento salita: None %",
          "Timestamp: 2021-06-05 00:00:00<br>Prezzo: 29221.08 €<br>Variazione giornaliera: -3.63%<br>Timestamp riferimento discesa: 2021-06-03 00:00:00<br>Prezzo riferimento discesa: 32321.55<br>Variazione rispetto riferimento discesa: -9.59% %<br>Timestamp riferimento salita: NaT<br>Prezzo riferimento salita: None<br>Variazione rispetto riferimento salita: None %",
          "Timestamp: 2021-06-06 00:00:00<br>Prezzo: 29474.39 €<br>Variazione giornaliera: 0.87%<br>Timestamp riferimento discesa: 2021-06-03 00:00:00<br>Prezzo riferimento discesa: 32321.55<br>Variazione rispetto riferimento discesa: -8.81% %<br>Timestamp riferimento salita: 2021-06-05 00:00:00<br>Prezzo riferimento salita: 29221.08<br>Variazione rispetto riferimento salita: 0.87% %",
          "Timestamp: 2021-06-07 00:00:00<br>Prezzo: 27526.49 €<br>Variazione giornaliera: -6.61%<br>Timestamp riferimento discesa: 2021-06-03 00:00:00<br>Prezzo riferimento discesa: 32321.55<br>Variazione rispetto riferimento discesa: -14.84% %<br>Timestamp riferimento salita: NaT<br>Prezzo riferimento salita: None<br>Variazione rispetto riferimento salita: None %",
          "Timestamp: 2021-06-08 00:00:00<br>Prezzo: 27497.93 €<br>Variazione giornaliera: -0.1%<br>Timestamp riferimento discesa: 2021-06-03 00:00:00<br>Prezzo riferimento discesa: 32321.55<br>Variazione rispetto riferimento discesa: -14.92% %<br>Timestamp riferimento salita: NaT<br>Prezzo riferimento salita: None<br>Variazione rispetto riferimento salita: None %",
          "Timestamp: 2021-06-09 00:00:00<br>Prezzo: 30664.53 €<br>Variazione giornaliera: 11.52%<br>Timestamp riferimento discesa: NaT<br>Prezzo riferimento discesa: None<br>Variazione rispetto riferimento discesa: None %<br>Timestamp riferimento salita: 2021-06-08 00:00:00<br>Prezzo riferimento salita: 27497.93<br>Variazione rispetto riferimento salita: 11.52% %",
          "Timestamp: 2021-06-10 00:00:00<br>Prezzo: 30150.49 €<br>Variazione giornaliera: -1.68%<br>Timestamp riferimento discesa: 2021-06-09 00:00:00<br>Prezzo riferimento discesa: 30664.53<br>Variazione rispetto riferimento discesa: -1.68% %<br>Timestamp riferimento salita: 2021-06-08 00:00:00<br>Prezzo riferimento salita: 27497.93<br>Variazione rispetto riferimento salita: 9.65% %",
          "Timestamp: 2021-06-11 00:00:00<br>Prezzo: 30832.05 €<br>Variazione giornaliera: 2.26%<br>Timestamp riferimento discesa: 2021-06-09 00:00:00<br>Prezzo riferimento discesa: 30664.53<br>Variazione rispetto riferimento discesa: 0.55% %<br>Timestamp riferimento salita: 2021-06-08 00:00:00<br>Prezzo riferimento salita: 27497.93<br>Variazione rispetto riferimento salita: 12.12% %",
          "Timestamp: 2021-06-12 00:00:00<br>Prezzo: 29360.51 €<br>Variazione giornaliera: -4.77%<br>Timestamp riferimento discesa: 2021-06-09 00:00:00<br>Prezzo riferimento discesa: 30664.53<br>Variazione rispetto riferimento discesa: -4.25% %<br>Timestamp riferimento salita: 2021-06-08 00:00:00<br>Prezzo riferimento salita: 27497.93<br>Variazione rispetto riferimento salita: 6.77% %",
          "Timestamp: 2021-06-13 00:00:00<br>Prezzo: 32286.51 €<br>Variazione giornaliera: 9.97%<br>Timestamp riferimento discesa: NaT<br>Prezzo riferimento discesa: None<br>Variazione rispetto riferimento discesa: None %<br>Timestamp riferimento salita: 2021-06-08 00:00:00<br>Prezzo riferimento salita: 27497.93<br>Variazione rispetto riferimento salita: 17.41% %",
          "Timestamp: 2021-06-14 00:00:00<br>Prezzo: 33178.52 €<br>Variazione giornaliera: 2.76%<br>Timestamp riferimento discesa: NaT<br>Prezzo riferimento discesa: None<br>Variazione rispetto riferimento discesa: None %<br>Timestamp riferimento salita: 2021-06-08 00:00:00<br>Prezzo riferimento salita: 27497.93<br>Variazione rispetto riferimento salita: 20.66% %",
          "Timestamp: 2021-06-15 00:00:00<br>Prezzo: 33325.59 €<br>Variazione giornaliera: 0.44%<br>Timestamp riferimento discesa: NaT<br>Prezzo riferimento discesa: None<br>Variazione rispetto riferimento discesa: None %<br>Timestamp riferimento salita: 2021-06-08 00:00:00<br>Prezzo riferimento salita: 27497.93<br>Variazione rispetto riferimento salita: 21.19% %",
          "Timestamp: 2021-06-16 00:00:00<br>Prezzo: 31969.33 €<br>Variazione giornaliera: -4.07%<br>Timestamp riferimento discesa: 2021-06-15 00:00:00<br>Prezzo riferimento discesa: 33325.59<br>Variazione rispetto riferimento discesa: -4.07% %<br>Timestamp riferimento salita: 2021-06-08 00:00:00<br>Prezzo riferimento salita: 27497.93<br>Variazione rispetto riferimento salita: 16.26% %",
          "Timestamp: 2021-06-17 00:00:00<br>Prezzo: 31943.06 €<br>Variazione giornaliera: -0.08%<br>Timestamp riferimento discesa: 2021-06-15 00:00:00<br>Prezzo riferimento discesa: 33325.59<br>Variazione rispetto riferimento discesa: -4.15% %<br>Timestamp riferimento salita: 2021-06-08 00:00:00<br>Prezzo riferimento salita: 27497.93<br>Variazione rispetto riferimento salita: 16.17% %",
          "Timestamp: 2021-06-18 00:00:00<br>Prezzo: 30165.86 €<br>Variazione giornaliera: -5.56%<br>Timestamp riferimento discesa: 2021-06-15 00:00:00<br>Prezzo riferimento discesa: 33325.59<br>Variazione rispetto riferimento discesa: -9.48% %<br>Timestamp riferimento salita: NaT<br>Prezzo riferimento salita: None<br>Variazione rispetto riferimento salita: None %",
          "Timestamp: 2021-06-19 00:00:00<br>Prezzo: 30019.23 €<br>Variazione giornaliera: -0.49%<br>Timestamp riferimento discesa: 2021-06-15 00:00:00<br>Prezzo riferimento discesa: 33325.59<br>Variazione rispetto riferimento discesa: -9.92% %<br>Timestamp riferimento salita: NaT<br>Prezzo riferimento salita: None<br>Variazione rispetto riferimento salita: None %",
          "Timestamp: 2021-06-20 00:00:00<br>Prezzo: 30071.78 €<br>Variazione giornaliera: 0.18%<br>Timestamp riferimento discesa: 2021-06-15 00:00:00<br>Prezzo riferimento discesa: 33325.59<br>Variazione rispetto riferimento discesa: -9.76% %<br>Timestamp riferimento salita: 2021-06-19 00:00:00<br>Prezzo riferimento salita: 30019.23<br>Variazione rispetto riferimento salita: 0.18% %",
          "Timestamp: 2021-06-21 00:00:00<br>Prezzo: 26591.06 €<br>Variazione giornaliera: -11.57%<br>Timestamp riferimento discesa: 2021-06-15 00:00:00<br>Prezzo riferimento discesa: 33325.59<br>Variazione rispetto riferimento discesa: -20.21% %<br>Timestamp riferimento salita: NaT<br>Prezzo riferimento salita: None<br>Variazione rispetto riferimento salita: None %",
          "Timestamp: 2021-06-22 00:00:00<br>Prezzo: 27232.40 €<br>Variazione giornaliera: 2.41%<br>Timestamp riferimento discesa: 2021-06-15 00:00:00<br>Prezzo riferimento discesa: 33325.59<br>Variazione rispetto riferimento discesa: -18.28% %<br>Timestamp riferimento salita: 2021-06-21 00:00:00<br>Prezzo riferimento salita: 26591.06<br>Variazione rispetto riferimento salita: 2.41% %",
          "Timestamp: 2021-06-23 00:00:00<br>Prezzo: 28266.58 €<br>Variazione giornaliera: 3.8%<br>Timestamp riferimento discesa: NaT<br>Prezzo riferimento discesa: None<br>Variazione rispetto riferimento discesa: None %<br>Timestamp riferimento salita: 2021-06-21 00:00:00<br>Prezzo riferimento salita: 26591.06<br>Variazione rispetto riferimento salita: 6.3% %",
          "Timestamp: 2021-06-24 00:00:00<br>Prezzo: 29059.70 €<br>Variazione giornaliera: 2.81%<br>Timestamp riferimento discesa: NaT<br>Prezzo riferimento discesa: None<br>Variazione rispetto riferimento discesa: None %<br>Timestamp riferimento salita: 2021-06-21 00:00:00<br>Prezzo riferimento salita: 26591.06<br>Variazione rispetto riferimento salita: 9.28% %",
          "Timestamp: 2021-06-25 00:00:00<br>Prezzo: 26502.84 €<br>Variazione giornaliera: -8.8%<br>Timestamp riferimento discesa: 2021-06-24 00:00:00<br>Prezzo riferimento discesa: 29059.70<br>Variazione rispetto riferimento discesa: -8.8% %<br>Timestamp riferimento salita: NaT<br>Prezzo riferimento salita: None<br>Variazione rispetto riferimento salita: None %",
          "Timestamp: 2021-06-26 00:00:00<br>Prezzo: 26965.50 €<br>Variazione giornaliera: 1.75%<br>Timestamp riferimento discesa: 2021-06-24 00:00:00<br>Prezzo riferimento discesa: 29059.70<br>Variazione rispetto riferimento discesa: -7.21% %<br>Timestamp riferimento salita: 2021-06-25 00:00:00<br>Prezzo riferimento salita: 26502.84<br>Variazione rispetto riferimento salita: 1.75% %",
          "Timestamp: 2021-06-27 00:00:00<br>Prezzo: 29013.74 €<br>Variazione giornaliera: 7.6%<br>Timestamp riferimento discesa: NaT<br>Prezzo riferimento discesa: None<br>Variazione rispetto riferimento discesa: None %<br>Timestamp riferimento salita: 2021-06-25 00:00:00<br>Prezzo riferimento salita: 26502.84<br>Variazione rispetto riferimento salita: 9.47% %",
          "Timestamp: 2021-06-28 00:00:00<br>Prezzo: 28866.30 €<br>Variazione giornaliera: -0.51%<br>Timestamp riferimento discesa: 2021-06-27 00:00:00<br>Prezzo riferimento discesa: 29013.74<br>Variazione rispetto riferimento discesa: -0.51% %<br>Timestamp riferimento salita: 2021-06-25 00:00:00<br>Prezzo riferimento salita: 26502.84<br>Variazione rispetto riferimento salita: 8.92% %",
          "Timestamp: 2021-06-29 00:00:00<br>Prezzo: 30139.98 €<br>Variazione giornaliera: 4.41%<br>Timestamp riferimento discesa: 2021-06-27 00:00:00<br>Prezzo riferimento discesa: 29013.74<br>Variazione rispetto riferimento discesa: 3.88% %<br>Timestamp riferimento salita: 2021-06-25 00:00:00<br>Prezzo riferimento salita: 26502.84<br>Variazione rispetto riferimento salita: 13.72% %",
          "Timestamp: 2021-06-30 00:00:00<br>Prezzo: 29555.05 €<br>Variazione giornaliera: -1.94%<br>Timestamp riferimento discesa: 2021-06-27 00:00:00<br>Prezzo riferimento discesa: 29013.74<br>Variazione rispetto riferimento discesa: 1.87% %<br>Timestamp riferimento salita: 2021-06-25 00:00:00<br>Prezzo riferimento salita: 26502.84<br>Variazione rispetto riferimento salita: 11.52% %",
          "Timestamp: 2021-07-01 00:00:00<br>Prezzo: 28341.41 €<br>Variazione giornaliera: -4.11%<br>Timestamp riferimento discesa: 2021-06-27 00:00:00<br>Prezzo riferimento discesa: 29013.74<br>Variazione rispetto riferimento discesa: -2.32% %<br>Timestamp riferimento salita: NaT<br>Prezzo riferimento salita: None<br>Variazione rispetto riferimento salita: None %"
         ],
         "type": "scatter",
         "x": [
          "2021-02-02T00:00:00",
          "2021-02-03T00:00:00",
          "2021-02-04T00:00:00",
          "2021-02-05T00:00:00",
          "2021-02-06T00:00:00",
          "2021-02-07T00:00:00",
          "2021-02-08T00:00:00",
          "2021-02-09T00:00:00",
          "2021-02-10T00:00:00",
          "2021-02-11T00:00:00",
          "2021-02-12T00:00:00",
          "2021-02-13T00:00:00",
          "2021-02-14T00:00:00",
          "2021-02-15T00:00:00",
          "2021-02-16T00:00:00",
          "2021-02-17T00:00:00",
          "2021-02-18T00:00:00",
          "2021-02-19T00:00:00",
          "2021-02-20T00:00:00",
          "2021-02-21T00:00:00",
          "2021-02-22T00:00:00",
          "2021-02-23T00:00:00",
          "2021-02-24T00:00:00",
          "2021-02-25T00:00:00",
          "2021-02-26T00:00:00",
          "2021-02-27T00:00:00",
          "2021-02-28T00:00:00",
          "2021-03-01T00:00:00",
          "2021-03-02T00:00:00",
          "2021-03-03T00:00:00",
          "2021-03-04T00:00:00",
          "2021-03-05T00:00:00",
          "2021-03-06T00:00:00",
          "2021-03-07T00:00:00",
          "2021-03-08T00:00:00",
          "2021-03-09T00:00:00",
          "2021-03-10T00:00:00",
          "2021-03-11T00:00:00",
          "2021-03-12T00:00:00",
          "2021-03-13T00:00:00",
          "2021-03-14T00:00:00",
          "2021-03-15T00:00:00",
          "2021-03-16T00:00:00",
          "2021-03-17T00:00:00",
          "2021-03-18T00:00:00",
          "2021-03-19T00:00:00",
          "2021-03-20T00:00:00",
          "2021-03-21T00:00:00",
          "2021-03-22T00:00:00",
          "2021-03-23T00:00:00",
          "2021-03-24T00:00:00",
          "2021-03-25T00:00:00",
          "2021-03-26T00:00:00",
          "2021-03-27T00:00:00",
          "2021-03-28T00:00:00",
          "2021-03-29T00:00:00",
          "2021-03-30T00:00:00",
          "2021-03-31T00:00:00",
          "2021-04-01T00:00:00",
          "2021-04-02T00:00:00",
          "2021-04-03T00:00:00",
          "2021-04-04T00:00:00",
          "2021-04-05T00:00:00",
          "2021-04-06T00:00:00",
          "2021-04-07T00:00:00",
          "2021-04-08T00:00:00",
          "2021-04-09T00:00:00",
          "2021-04-10T00:00:00",
          "2021-04-11T00:00:00",
          "2021-04-12T00:00:00",
          "2021-04-13T00:00:00",
          "2021-04-14T00:00:00",
          "2021-04-15T00:00:00",
          "2021-04-16T00:00:00",
          "2021-04-17T00:00:00",
          "2021-04-18T00:00:00",
          "2021-04-19T00:00:00",
          "2021-04-20T00:00:00",
          "2021-04-21T00:00:00",
          "2021-04-22T00:00:00",
          "2021-04-23T00:00:00",
          "2021-04-24T00:00:00",
          "2021-04-25T00:00:00",
          "2021-04-26T00:00:00",
          "2021-04-27T00:00:00",
          "2021-04-28T00:00:00",
          "2021-04-29T00:00:00",
          "2021-04-30T00:00:00",
          "2021-05-01T00:00:00",
          "2021-05-02T00:00:00",
          "2021-05-03T00:00:00",
          "2021-05-04T00:00:00",
          "2021-05-05T00:00:00",
          "2021-05-06T00:00:00",
          "2021-05-07T00:00:00",
          "2021-05-08T00:00:00",
          "2021-05-09T00:00:00",
          "2021-05-10T00:00:00",
          "2021-05-11T00:00:00",
          "2021-05-12T00:00:00",
          "2021-05-13T00:00:00",
          "2021-05-14T00:00:00",
          "2021-05-15T00:00:00",
          "2021-05-16T00:00:00",
          "2021-05-17T00:00:00",
          "2021-05-18T00:00:00",
          "2021-05-19T00:00:00",
          "2021-05-20T00:00:00",
          "2021-05-21T00:00:00",
          "2021-05-22T00:00:00",
          "2021-05-23T00:00:00",
          "2021-05-24T00:00:00",
          "2021-05-25T00:00:00",
          "2021-05-26T00:00:00",
          "2021-05-27T00:00:00",
          "2021-05-28T00:00:00",
          "2021-05-29T00:00:00",
          "2021-05-30T00:00:00",
          "2021-05-31T00:00:00",
          "2021-06-01T00:00:00",
          "2021-06-02T00:00:00",
          "2021-06-03T00:00:00",
          "2021-06-04T00:00:00",
          "2021-06-05T00:00:00",
          "2021-06-06T00:00:00",
          "2021-06-07T00:00:00",
          "2021-06-08T00:00:00",
          "2021-06-09T00:00:00",
          "2021-06-10T00:00:00",
          "2021-06-11T00:00:00",
          "2021-06-12T00:00:00",
          "2021-06-13T00:00:00",
          "2021-06-14T00:00:00",
          "2021-06-15T00:00:00",
          "2021-06-16T00:00:00",
          "2021-06-17T00:00:00",
          "2021-06-18T00:00:00",
          "2021-06-19T00:00:00",
          "2021-06-20T00:00:00",
          "2021-06-21T00:00:00",
          "2021-06-22T00:00:00",
          "2021-06-23T00:00:00",
          "2021-06-24T00:00:00",
          "2021-06-25T00:00:00",
          "2021-06-26T00:00:00",
          "2021-06-27T00:00:00",
          "2021-06-28T00:00:00",
          "2021-06-29T00:00:00",
          "2021-06-30T00:00:00",
          "2021-07-01T00:00:00"
         ],
         "y": [
          29501.521484375,
          31119.447265625,
          30859.5546875,
          31658.248046875,
          32588.47265625,
          32288.650390625,
          38329.66796875,
          38362.296875,
          37065.046875,
          39494.44140625,
          39194.921875,
          38864.359375,
          40194.0546875,
          39518.80859375,
          40700.7421875,
          43293.16796875,
          42739.44921875,
          46119,
          46293.4375,
          47456.125,
          44563.2421875,
          40181.33203125,
          40844.4140625,
          38735.1640625,
          38385.91015625,
          38260.48046875,
          37332.50390625,
          41192.19140625,
          40032.6953125,
          41952.8046875,
          40578.53515625,
          41076.52734375,
          41047.3203125,
          42935.9921875,
          44086.50390625,
          46082.24609375,
          46969.328125,
          48247.39453125,
          47962.9375,
          51235.53515625,
          49624.296875,
          46876.453125,
          47727.08203125,
          49129.87890625,
          48546.06640625,
          48839.94140625,
          48812.30859375,
          48405.2109375,
          45699.40625,
          46230.26953125,
          44675.62890625,
          43907.328125,
          46749.44140625,
          47458.4296875,
          47471.80078125,
          49071.7890625,
          50257.0859375,
          50240.55859375,
          50172.63671875,
          50497.2734375,
          48985.828125,
          49933.19921875,
          49976.84375,
          49008.61328125,
          47210.01953125,
          48948.37890625,
          48942.109375,
          50242.22265625,
          50609.1953125,
          50273.60546875,
          53123.62890625,
          52664.09375,
          52896.38671875,
          51386.25,
          50646.05078125,
          46968.79296875,
          46276.83203125,
          46933.71875,
          44784.20703125,
          43083.34375,
          42231.40625,
          41374.1015625,
          40534.26171875,
          44721.85546875,
          45522.515625,
          45178.68359375,
          44170.96875,
          48047.05078125,
          48110.046875,
          47088.5703125,
          47432.76953125,
          44387.26171875,
          47823.05859375,
          46742.55859375,
          47155.5078125,
          48345.46484375,
          47846.5234375,
          46010.484375,
          46692.53125,
          40695.51171875,
          41166.6953125,
          41072.77734375,
          38498.73828125,
          38235.890625,
          35814.0859375,
          35106.796875,
          30403.203125,
          33359.13671875,
          30627.822265625,
          30818.25,
          28545.537109375,
          31689.203125,
          31356.951171875,
          32229.533203125,
          31524.041015625,
          29278.3203125,
          28391.1640625,
          29269.517578125,
          30519.30859375,
          30026.794921875,
          30775.01171875,
          32321.55078125,
          30322.69921875,
          29221.080078125,
          29474.392578125,
          27526.4921875,
          27497.93359375,
          30664.52734375,
          30150.48828125,
          30832.0546875,
          29360.513671875,
          32286.505859375,
          33178.515625,
          33325.59375,
          31969.333984375,
          31943.0625,
          30165.85546875,
          30019.2265625,
          30071.78125,
          26591.064453125,
          27232.396484375,
          28266.576171875,
          29059.703125,
          26502.841796875,
          26965.501953125,
          29013.7421875,
          28866.302734375,
          30139.98046875,
          29555.0546875,
          28341.4140625
         ]
        }
       ],
       "layout": {
        "height": 1120,
        "hovermode": "closest",
        "legend": {
         "x": 0.01,
         "xanchor": "left",
         "y": 0.99,
         "yanchor": "top"
        },
        "template": {
         "data": {
          "bar": [
           {
            "error_x": {
             "color": "#2a3f5f"
            },
            "error_y": {
             "color": "#2a3f5f"
            },
            "marker": {
             "line": {
              "color": "white",
              "width": 0.5
             },
             "pattern": {
              "fillmode": "overlay",
              "size": 10,
              "solidity": 0.2
             }
            },
            "type": "bar"
           }
          ],
          "barpolar": [
           {
            "marker": {
             "line": {
              "color": "white",
              "width": 0.5
             },
             "pattern": {
              "fillmode": "overlay",
              "size": 10,
              "solidity": 0.2
             }
            },
            "type": "barpolar"
           }
          ],
          "carpet": [
           {
            "aaxis": {
             "endlinecolor": "#2a3f5f",
             "gridcolor": "#C8D4E3",
             "linecolor": "#C8D4E3",
             "minorgridcolor": "#C8D4E3",
             "startlinecolor": "#2a3f5f"
            },
            "baxis": {
             "endlinecolor": "#2a3f5f",
             "gridcolor": "#C8D4E3",
             "linecolor": "#C8D4E3",
             "minorgridcolor": "#C8D4E3",
             "startlinecolor": "#2a3f5f"
            },
            "type": "carpet"
           }
          ],
          "choropleth": [
           {
            "colorbar": {
             "outlinewidth": 0,
             "ticks": ""
            },
            "type": "choropleth"
           }
          ],
          "contour": [
           {
            "colorbar": {
             "outlinewidth": 0,
             "ticks": ""
            },
            "colorscale": [
             [
              0,
              "#0d0887"
             ],
             [
              0.1111111111111111,
              "#46039f"
             ],
             [
              0.2222222222222222,
              "#7201a8"
             ],
             [
              0.3333333333333333,
              "#9c179e"
             ],
             [
              0.4444444444444444,
              "#bd3786"
             ],
             [
              0.5555555555555556,
              "#d8576b"
             ],
             [
              0.6666666666666666,
              "#ed7953"
             ],
             [
              0.7777777777777778,
              "#fb9f3a"
             ],
             [
              0.8888888888888888,
              "#fdca26"
             ],
             [
              1,
              "#f0f921"
             ]
            ],
            "type": "contour"
           }
          ],
          "contourcarpet": [
           {
            "colorbar": {
             "outlinewidth": 0,
             "ticks": ""
            },
            "type": "contourcarpet"
           }
          ],
          "heatmap": [
           {
            "colorbar": {
             "outlinewidth": 0,
             "ticks": ""
            },
            "colorscale": [
             [
              0,
              "#0d0887"
             ],
             [
              0.1111111111111111,
              "#46039f"
             ],
             [
              0.2222222222222222,
              "#7201a8"
             ],
             [
              0.3333333333333333,
              "#9c179e"
             ],
             [
              0.4444444444444444,
              "#bd3786"
             ],
             [
              0.5555555555555556,
              "#d8576b"
             ],
             [
              0.6666666666666666,
              "#ed7953"
             ],
             [
              0.7777777777777778,
              "#fb9f3a"
             ],
             [
              0.8888888888888888,
              "#fdca26"
             ],
             [
              1,
              "#f0f921"
             ]
            ],
            "type": "heatmap"
           }
          ],
          "heatmapgl": [
           {
            "colorbar": {
             "outlinewidth": 0,
             "ticks": ""
            },
            "colorscale": [
             [
              0,
              "#0d0887"
             ],
             [
              0.1111111111111111,
              "#46039f"
             ],
             [
              0.2222222222222222,
              "#7201a8"
             ],
             [
              0.3333333333333333,
              "#9c179e"
             ],
             [
              0.4444444444444444,
              "#bd3786"
             ],
             [
              0.5555555555555556,
              "#d8576b"
             ],
             [
              0.6666666666666666,
              "#ed7953"
             ],
             [
              0.7777777777777778,
              "#fb9f3a"
             ],
             [
              0.8888888888888888,
              "#fdca26"
             ],
             [
              1,
              "#f0f921"
             ]
            ],
            "type": "heatmapgl"
           }
          ],
          "histogram": [
           {
            "marker": {
             "pattern": {
              "fillmode": "overlay",
              "size": 10,
              "solidity": 0.2
             }
            },
            "type": "histogram"
           }
          ],
          "histogram2d": [
           {
            "colorbar": {
             "outlinewidth": 0,
             "ticks": ""
            },
            "colorscale": [
             [
              0,
              "#0d0887"
             ],
             [
              0.1111111111111111,
              "#46039f"
             ],
             [
              0.2222222222222222,
              "#7201a8"
             ],
             [
              0.3333333333333333,
              "#9c179e"
             ],
             [
              0.4444444444444444,
              "#bd3786"
             ],
             [
              0.5555555555555556,
              "#d8576b"
             ],
             [
              0.6666666666666666,
              "#ed7953"
             ],
             [
              0.7777777777777778,
              "#fb9f3a"
             ],
             [
              0.8888888888888888,
              "#fdca26"
             ],
             [
              1,
              "#f0f921"
             ]
            ],
            "type": "histogram2d"
           }
          ],
          "histogram2dcontour": [
           {
            "colorbar": {
             "outlinewidth": 0,
             "ticks": ""
            },
            "colorscale": [
             [
              0,
              "#0d0887"
             ],
             [
              0.1111111111111111,
              "#46039f"
             ],
             [
              0.2222222222222222,
              "#7201a8"
             ],
             [
              0.3333333333333333,
              "#9c179e"
             ],
             [
              0.4444444444444444,
              "#bd3786"
             ],
             [
              0.5555555555555556,
              "#d8576b"
             ],
             [
              0.6666666666666666,
              "#ed7953"
             ],
             [
              0.7777777777777778,
              "#fb9f3a"
             ],
             [
              0.8888888888888888,
              "#fdca26"
             ],
             [
              1,
              "#f0f921"
             ]
            ],
            "type": "histogram2dcontour"
           }
          ],
          "mesh3d": [
           {
            "colorbar": {
             "outlinewidth": 0,
             "ticks": ""
            },
            "type": "mesh3d"
           }
          ],
          "parcoords": [
           {
            "line": {
             "colorbar": {
              "outlinewidth": 0,
              "ticks": ""
             }
            },
            "type": "parcoords"
           }
          ],
          "pie": [
           {
            "automargin": true,
            "type": "pie"
           }
          ],
          "scatter": [
           {
            "fillpattern": {
             "fillmode": "overlay",
             "size": 10,
             "solidity": 0.2
            },
            "type": "scatter"
           }
          ],
          "scatter3d": [
           {
            "line": {
             "colorbar": {
              "outlinewidth": 0,
              "ticks": ""
             }
            },
            "marker": {
             "colorbar": {
              "outlinewidth": 0,
              "ticks": ""
             }
            },
            "type": "scatter3d"
           }
          ],
          "scattercarpet": [
           {
            "marker": {
             "colorbar": {
              "outlinewidth": 0,
              "ticks": ""
             }
            },
            "type": "scattercarpet"
           }
          ],
          "scattergeo": [
           {
            "marker": {
             "colorbar": {
              "outlinewidth": 0,
              "ticks": ""
             }
            },
            "type": "scattergeo"
           }
          ],
          "scattergl": [
           {
            "marker": {
             "colorbar": {
              "outlinewidth": 0,
              "ticks": ""
             }
            },
            "type": "scattergl"
           }
          ],
          "scattermapbox": [
           {
            "marker": {
             "colorbar": {
              "outlinewidth": 0,
              "ticks": ""
             }
            },
            "type": "scattermapbox"
           }
          ],
          "scatterpolar": [
           {
            "marker": {
             "colorbar": {
              "outlinewidth": 0,
              "ticks": ""
             }
            },
            "type": "scatterpolar"
           }
          ],
          "scatterpolargl": [
           {
            "marker": {
             "colorbar": {
              "outlinewidth": 0,
              "ticks": ""
             }
            },
            "type": "scatterpolargl"
           }
          ],
          "scatterternary": [
           {
            "marker": {
             "colorbar": {
              "outlinewidth": 0,
              "ticks": ""
             }
            },
            "type": "scatterternary"
           }
          ],
          "surface": [
           {
            "colorbar": {
             "outlinewidth": 0,
             "ticks": ""
            },
            "colorscale": [
             [
              0,
              "#0d0887"
             ],
             [
              0.1111111111111111,
              "#46039f"
             ],
             [
              0.2222222222222222,
              "#7201a8"
             ],
             [
              0.3333333333333333,
              "#9c179e"
             ],
             [
              0.4444444444444444,
              "#bd3786"
             ],
             [
              0.5555555555555556,
              "#d8576b"
             ],
             [
              0.6666666666666666,
              "#ed7953"
             ],
             [
              0.7777777777777778,
              "#fb9f3a"
             ],
             [
              0.8888888888888888,
              "#fdca26"
             ],
             [
              1,
              "#f0f921"
             ]
            ],
            "type": "surface"
           }
          ],
          "table": [
           {
            "cells": {
             "fill": {
              "color": "#EBF0F8"
             },
             "line": {
              "color": "white"
             }
            },
            "header": {
             "fill": {
              "color": "#C8D4E3"
             },
             "line": {
              "color": "white"
             }
            },
            "type": "table"
           }
          ]
         },
         "layout": {
          "annotationdefaults": {
           "arrowcolor": "#2a3f5f",
           "arrowhead": 0,
           "arrowwidth": 1
          },
          "autotypenumbers": "strict",
          "coloraxis": {
           "colorbar": {
            "outlinewidth": 0,
            "ticks": ""
           }
          },
          "colorscale": {
           "diverging": [
            [
             0,
             "#8e0152"
            ],
            [
             0.1,
             "#c51b7d"
            ],
            [
             0.2,
             "#de77ae"
            ],
            [
             0.3,
             "#f1b6da"
            ],
            [
             0.4,
             "#fde0ef"
            ],
            [
             0.5,
             "#f7f7f7"
            ],
            [
             0.6,
             "#e6f5d0"
            ],
            [
             0.7,
             "#b8e186"
            ],
            [
             0.8,
             "#7fbc41"
            ],
            [
             0.9,
             "#4d9221"
            ],
            [
             1,
             "#276419"
            ]
           ],
           "sequential": [
            [
             0,
             "#0d0887"
            ],
            [
             0.1111111111111111,
             "#46039f"
            ],
            [
             0.2222222222222222,
             "#7201a8"
            ],
            [
             0.3333333333333333,
             "#9c179e"
            ],
            [
             0.4444444444444444,
             "#bd3786"
            ],
            [
             0.5555555555555556,
             "#d8576b"
            ],
            [
             0.6666666666666666,
             "#ed7953"
            ],
            [
             0.7777777777777778,
             "#fb9f3a"
            ],
            [
             0.8888888888888888,
             "#fdca26"
            ],
            [
             1,
             "#f0f921"
            ]
           ],
           "sequentialminus": [
            [
             0,
             "#0d0887"
            ],
            [
             0.1111111111111111,
             "#46039f"
            ],
            [
             0.2222222222222222,
             "#7201a8"
            ],
            [
             0.3333333333333333,
             "#9c179e"
            ],
            [
             0.4444444444444444,
             "#bd3786"
            ],
            [
             0.5555555555555556,
             "#d8576b"
            ],
            [
             0.6666666666666666,
             "#ed7953"
            ],
            [
             0.7777777777777778,
             "#fb9f3a"
            ],
            [
             0.8888888888888888,
             "#fdca26"
            ],
            [
             1,
             "#f0f921"
            ]
           ]
          },
          "colorway": [
           "#636efa",
           "#EF553B",
           "#00cc96",
           "#ab63fa",
           "#FFA15A",
           "#19d3f3",
           "#FF6692",
           "#B6E880",
           "#FF97FF",
           "#FECB52"
          ],
          "font": {
           "color": "#2a3f5f"
          },
          "geo": {
           "bgcolor": "white",
           "lakecolor": "white",
           "landcolor": "white",
           "showlakes": true,
           "showland": true,
           "subunitcolor": "#C8D4E3"
          },
          "hoverlabel": {
           "align": "left"
          },
          "hovermode": "closest",
          "mapbox": {
           "style": "light"
          },
          "paper_bgcolor": "white",
          "plot_bgcolor": "white",
          "polar": {
           "angularaxis": {
            "gridcolor": "#EBF0F8",
            "linecolor": "#EBF0F8",
            "ticks": ""
           },
           "bgcolor": "white",
           "radialaxis": {
            "gridcolor": "#EBF0F8",
            "linecolor": "#EBF0F8",
            "ticks": ""
           }
          },
          "scene": {
           "xaxis": {
            "backgroundcolor": "white",
            "gridcolor": "#DFE8F3",
            "gridwidth": 2,
            "linecolor": "#EBF0F8",
            "showbackground": true,
            "ticks": "",
            "zerolinecolor": "#EBF0F8"
           },
           "yaxis": {
            "backgroundcolor": "white",
            "gridcolor": "#DFE8F3",
            "gridwidth": 2,
            "linecolor": "#EBF0F8",
            "showbackground": true,
            "ticks": "",
            "zerolinecolor": "#EBF0F8"
           },
           "zaxis": {
            "backgroundcolor": "white",
            "gridcolor": "#DFE8F3",
            "gridwidth": 2,
            "linecolor": "#EBF0F8",
            "showbackground": true,
            "ticks": "",
            "zerolinecolor": "#EBF0F8"
           }
          },
          "shapedefaults": {
           "line": {
            "color": "#2a3f5f"
           }
          },
          "ternary": {
           "aaxis": {
            "gridcolor": "#DFE8F3",
            "linecolor": "#A2B1C6",
            "ticks": ""
           },
           "baxis": {
            "gridcolor": "#DFE8F3",
            "linecolor": "#A2B1C6",
            "ticks": ""
           },
           "bgcolor": "white",
           "caxis": {
            "gridcolor": "#DFE8F3",
            "linecolor": "#A2B1C6",
            "ticks": ""
           }
          },
          "title": {
           "x": 0.05
          },
          "xaxis": {
           "automargin": true,
           "gridcolor": "#EBF0F8",
           "linecolor": "#EBF0F8",
           "ticks": "",
           "title": {
            "standoff": 15
           },
           "zerolinecolor": "#EBF0F8",
           "zerolinewidth": 2
          },
          "yaxis": {
           "automargin": true,
           "gridcolor": "#EBF0F8",
           "linecolor": "#EBF0F8",
           "ticks": "",
           "title": {
            "standoff": 15
           },
           "zerolinecolor": "#EBF0F8",
           "zerolinewidth": 2
          }
         }
        },
        "title": {
         "text": "Andamento dei prezzi e transazioni"
        },
        "width": 1600,
        "xaxis": {
         "rangeslider": {
          "visible": true
         },
         "title": {
          "text": "Data"
         },
         "type": "date"
        },
        "yaxis": {
         "title": {
          "text": "Prezzo (€)"
         }
        }
       }
      }
     },
     "metadata": {},
     "output_type": "display_data"
    }
   ],
   "source": [
    "# Preparazione dei dati per il grafico\n",
    "acquisti = df_transazioni[df_transazioni['azione'] == 'Acquisto']\n",
    "vendite = df_transazioni[df_transazioni['azione'] == 'Vendita']\n",
    "\n",
    "# Calcolo delle dimensioni dei punti\n",
    "max_acquisto = acquisti['quantità_euro'].max()\n",
    "max_vendita = vendite['quantità_euro'].max()\n",
    "\n",
    "def calcola_dimensione(quantita, max_quantita, min_size=10, max_size=50):\n",
    "    return min_size + (max_size - min_size) * (quantita / max_quantita) if pd.notna(quantita) and max_quantita != 0 else None\n",
    "\n",
    "# Dimensioni dei punti per acquisti e vendite\n",
    "dimensioni_acquisti = acquisti['quantità_euro'].apply(lambda x: calcola_dimensione(x, max_acquisto))\n",
    "dimensioni_vendite = vendite['quantità_euro'].apply(lambda x: calcola_dimensione(x, max_vendita))\n",
    "\n",
    "# Funzione per formattare in modo sicuro solo i prezzi\n",
    "def safe_format(value, precision=2):\n",
    "    return f\"{value:.{precision}f}\" if pd.notna(value) else \"None\"\n",
    "\n",
    "# Creazione del grafico dei prezzi con le transazioni\n",
    "fig = go.Figure()\n",
    "\n",
    "# Linea dell'andamento dei prezzi\n",
    "fig.add_trace(go.Scatter(\n",
    "    x=df_transazioni['data'], \n",
    "    y=df_transazioni['prezzo'],\n",
    "    mode='lines',\n",
    "    name='Prezzi',\n",
    "    line=dict(color='blue', width=2),\n",
    "    text=[\n",
    "        f\"Timestamp: {data}<br>Prezzo: {safe_format(p)} €<br>Variazione giornaliera: {v or 'None'}<br>Timestamp riferimento discesa: {trd or 'None'}<br>Prezzo riferimento discesa: {safe_format(prd)}<br>Variazione rispetto riferimento discesa: {vrrd or 'None'} %<br>Timestamp riferimento salita: {trs or 'None'}<br>Prezzo riferimento salita: {safe_format(prs)}<br>Variazione rispetto riferimento salita: {vrrs or 'None'} %\"\n",
    "        for data, p, v, trd, prd, vrrd, trs, prs, vrrs in zip(\n",
    "            df_transazioni['data'], \n",
    "            df_transazioni['prezzo'], \n",
    "            df_transazioni['variazione_giornaliera_prezzo_percentuale'], \n",
    "            df_transazioni['timestamp_riferimento_discesa'], \n",
    "            df_transazioni['prezzo_riferimento_discesa'], \n",
    "            df_transazioni['variazione_rispetto_riferimento_discesa'], \n",
    "            df_transazioni['timestamp_riferimento_salita'], \n",
    "            df_transazioni['prezzo_riferimento_salita'], \n",
    "            df_transazioni['variazione_rispetto_riferimento_salita']\n",
    "        )\n",
    "    ],\n",
    "    hoverinfo='text'\n",
    "))\n",
    "\n",
    "if len(acquisti) > 0:\n",
    "    # Scatter plot per gli acquisti\n",
    "    fig.add_trace(go.Scatter(\n",
    "        x=acquisti['data'], \n",
    "        y=acquisti['prezzo'],\n",
    "        mode='markers', \n",
    "        name='Acquisti',\n",
    "        marker=dict(color='green', size=dimensioni_acquisti, opacity=0.7),\n",
    "        text=[\n",
    "            f\"Timestamp: {data}<br>Prezzo: {safe_format(p)} €<br>Euro usati: {e or 'None'} €<br>Variazione giornaliera: {v or 'None'}<br>Timestamp riferimento discesa: {trd or 'None'}<br>Prezzo riferimento discesa: {safe_format(prd)}<br>Variazione rispetto riferimento discesa: {vrrd or 'None'}<br>Timestamp riferimento salita: {trs or 'None'}<br>Prezzo riferimento salita: {safe_format(prs)}<br>Variazione rispetto riferimento salita: {vrrs or 'None'}\"\n",
    "            for data, p, e, v, trd, prd, vrrd, trs, prs, vrrs in zip(\n",
    "                acquisti['data'], \n",
    "                acquisti['prezzo'], \n",
    "                acquisti['quantità_euro'], \n",
    "                acquisti['variazione_giornaliera_prezzo_percentuale'], \n",
    "                acquisti['timestamp_riferimento_discesa'], \n",
    "                acquisti['prezzo_riferimento_discesa'], \n",
    "                acquisti['variazione_rispetto_riferimento_discesa'], \n",
    "                acquisti['timestamp_riferimento_salita'], \n",
    "                acquisti['prezzo_riferimento_salita'], \n",
    "                acquisti['variazione_rispetto_riferimento_salita']\n",
    "            )\n",
    "        ],\n",
    "        hoverinfo='text'\n",
    "    ))\n",
    "\n",
    "if len(vendite) > 0:\n",
    "    # Scatter plot per le vendite\n",
    "    fig.add_trace(go.Scatter(\n",
    "        x=vendite['data'], \n",
    "        y=vendite['prezzo'],\n",
    "        mode='markers', \n",
    "        name='Vendite',\n",
    "        marker=dict(color='red', size=dimensioni_vendite, opacity=0.7),\n",
    "        text=[\n",
    "            f\"Timestamp: {data}<br>Prezzo: {safe_format(p)} €<br>Euro usati: {e or 'None'} €<br>Variazione giornaliera: {v or 'None'}<br>Timestamp riferimento discesa: {trd or 'None'}<br>Prezzo riferimento discesa: {safe_format(prd)}<br>Variazione rispetto riferimento discesa: {vrrd or 'None'}<br>Timestamp riferimento salita: {trs or 'None'}<br>Prezzo riferimento salita: {safe_format(prs)}<br>Variazione rispetto riferimento salita: {vrrs or 'None'}\"\n",
    "            for data, p, e, v, trd, prd, vrrd, trs, prs, vrrs in zip(\n",
    "                vendite['data'], \n",
    "                vendite['prezzo'], \n",
    "                vendite['quantità_euro'], \n",
    "                vendite['variazione_giornaliera_prezzo_percentuale'], \n",
    "                vendite['timestamp_riferimento_discesa'], \n",
    "                vendite['prezzo_riferimento_discesa'], \n",
    "                vendite['variazione_rispetto_riferimento_discesa'], \n",
    "                vendite['timestamp_riferimento_salita'], \n",
    "                vendite['prezzo_riferimento_salita'], \n",
    "                vendite['variazione_rispetto_riferimento_salita']\n",
    "            )\n",
    "        ],\n",
    "        hoverinfo='text'\n",
    "    ))\n",
    "\n",
    "\n",
    "# Configurazione del layout con range slider sull'asse X\n",
    "fig.update_layout(\n",
    "    title='Andamento dei prezzi e transazioni',\n",
    "    xaxis_title='Data',\n",
    "    yaxis_title='Prezzo (€)',\n",
    "    hovermode='closest',\n",
    "    template='plotly_white',\n",
    "    legend=dict(yanchor=\"top\", y=0.99, xanchor=\"left\", x=0.01),\n",
    "    width = 1600,\n",
    "    height = 7/10 * 1600,\n",
    "    \n",
    "    # Aggiunta del range slider\n",
    "    xaxis=dict(\n",
    "        rangeslider=dict(visible=True),  # Abilita il range slider\n",
    "        type=\"date\"  # Imposta l'asse x come asse temporale\n",
    "    )\n",
    ")\n",
    "\n",
    "# Mostra il grafico\n",
    "fig.show()"
   ]
  },
  {
   "cell_type": "code",
   "execution_count": 92,
   "metadata": {},
   "outputs": [
    {
     "data": {
      "text/html": [
       "<div>\n",
       "<style scoped>\n",
       "    .dataframe tbody tr th:only-of-type {\n",
       "        vertical-align: middle;\n",
       "    }\n",
       "\n",
       "    .dataframe tbody tr th {\n",
       "        vertical-align: top;\n",
       "    }\n",
       "\n",
       "    .dataframe thead th {\n",
       "        text-align: right;\n",
       "    }\n",
       "</style>\n",
       "<table border=\"1\" class=\"dataframe\">\n",
       "  <thead>\n",
       "    <tr style=\"text-align: right;\">\n",
       "      <th></th>\n",
       "      <th>Timestamp</th>\n",
       "      <th>Price</th>\n",
       "      <th>Variazione</th>\n",
       "    </tr>\n",
       "  </thead>\n",
       "  <tbody>\n",
       "    <tr>\n",
       "      <th>0</th>\n",
       "      <td>2021-02-01</td>\n",
       "      <td>27790.582031</td>\n",
       "      <td>NaN</td>\n",
       "    </tr>\n",
       "    <tr>\n",
       "      <th>1</th>\n",
       "      <td>2021-02-02</td>\n",
       "      <td>29501.521484</td>\n",
       "      <td>1.061565</td>\n",
       "    </tr>\n",
       "    <tr>\n",
       "      <th>2</th>\n",
       "      <td>2021-02-03</td>\n",
       "      <td>31119.447266</td>\n",
       "      <td>1.054842</td>\n",
       "    </tr>\n",
       "    <tr>\n",
       "      <th>3</th>\n",
       "      <td>2021-02-04</td>\n",
       "      <td>30859.554688</td>\n",
       "      <td>0.991649</td>\n",
       "    </tr>\n",
       "    <tr>\n",
       "      <th>4</th>\n",
       "      <td>2021-02-05</td>\n",
       "      <td>31658.248047</td>\n",
       "      <td>1.025882</td>\n",
       "    </tr>\n",
       "    <tr>\n",
       "      <th>...</th>\n",
       "      <td>...</td>\n",
       "      <td>...</td>\n",
       "      <td>...</td>\n",
       "    </tr>\n",
       "    <tr>\n",
       "      <th>146</th>\n",
       "      <td>2021-06-27</td>\n",
       "      <td>29013.742188</td>\n",
       "      <td>1.075958</td>\n",
       "    </tr>\n",
       "    <tr>\n",
       "      <th>147</th>\n",
       "      <td>2021-06-28</td>\n",
       "      <td>28866.302734</td>\n",
       "      <td>0.994918</td>\n",
       "    </tr>\n",
       "    <tr>\n",
       "      <th>148</th>\n",
       "      <td>2021-06-29</td>\n",
       "      <td>30139.980469</td>\n",
       "      <td>1.044123</td>\n",
       "    </tr>\n",
       "    <tr>\n",
       "      <th>149</th>\n",
       "      <td>2021-06-30</td>\n",
       "      <td>29555.054688</td>\n",
       "      <td>0.980593</td>\n",
       "    </tr>\n",
       "    <tr>\n",
       "      <th>150</th>\n",
       "      <td>2021-07-01</td>\n",
       "      <td>28341.414062</td>\n",
       "      <td>0.958936</td>\n",
       "    </tr>\n",
       "  </tbody>\n",
       "</table>\n",
       "<p>151 rows × 3 columns</p>\n",
       "</div>"
      ],
      "text/plain": [
       "     Timestamp         Price  Variazione\n",
       "0   2021-02-01  27790.582031         NaN\n",
       "1   2021-02-02  29501.521484    1.061565\n",
       "2   2021-02-03  31119.447266    1.054842\n",
       "3   2021-02-04  30859.554688    0.991649\n",
       "4   2021-02-05  31658.248047    1.025882\n",
       "..         ...           ...         ...\n",
       "146 2021-06-27  29013.742188    1.075958\n",
       "147 2021-06-28  28866.302734    0.994918\n",
       "148 2021-06-29  30139.980469    1.044123\n",
       "149 2021-06-30  29555.054688    0.980593\n",
       "150 2021-07-01  28341.414062    0.958936\n",
       "\n",
       "[151 rows x 3 columns]"
      ]
     },
     "execution_count": 92,
     "metadata": {},
     "output_type": "execute_result"
    }
   ],
   "source": [
    "dati"
   ]
  },
  {
   "cell_type": "code",
   "execution_count": 93,
   "metadata": {},
   "outputs": [
    {
     "data": {
      "image/png": "[encoded data removed]",
      "text/plain": [
       "<Figure size 1000x600 with 1 Axes>"
      ]
     },
     "metadata": {},
     "output_type": "display_data"
    }
   ],
   "source": [
    "# Assicurati che la colonna 'Data' sia in formato datetime\n",
    "df_transazioni['data'] = pd.to_datetime(df_transazioni['data'])\n",
    "\n",
    "# Crea il plot dell'equity line\n",
    "plt.figure(figsize=(10, 6))\n",
    "plt.plot(df_transazioni['data'], df_transazioni['valore_totale_portafoglio'], label='Equity Line', color='b', linewidth=2)\n",
    "\n",
    "# Aggiungi titolo e etichette agli assi\n",
    "plt.title('Equity Line del Portafoglio', fontsize=16)\n",
    "plt.xlabel('Data', fontsize=12)\n",
    "plt.ylabel('Valore Totale Portafoglio (€)', fontsize=12)\n",
    "\n",
    "# Aggiungi una griglia per una migliore leggibilità\n",
    "plt.grid(True)\n",
    "\n",
    "# Aggiungi una legenda\n",
    "plt.legend()\n",
    "\n",
    "# Mostra il grafico\n",
    "plt.xticks(rotation=45)  # Ruota le etichette dell'asse x per migliore leggibilità\n",
    "plt.tight_layout()  # Migliora il layout del grafico\n",
    "plt.show()"
   ]
  },
  {
   "cell_type": "code",
   "execution_count": 94,
   "metadata": {},
   "outputs": [],
   "source": [
    "def calcola_rendimento_portafoglio_ideale(capitale_iniziale, bitcoin_iniziali, lista_prezzi, min_acquisto, min_vendita, perc_commissione_acquisto, perc_commissione_vendita):\n",
    "    capitale = capitale_iniziale\n",
    "    bitcoin = bitcoin_iniziali\n",
    "    comprato = False\n",
    "\n",
    "    for i in range(len(lista_prezzi) - 1):\n",
    "        # Compra al minimo\n",
    "        if lista_prezzi[i] < lista_prezzi[i + 1] and not comprato and capitale >= min_acquisto:\n",
    "            bitcoin_acquistati = (capitale * (1 - perc_commissione_acquisto)) / lista_prezzi[i]\n",
    "            bitcoin += bitcoin_acquistati\n",
    "            capitale = 0\n",
    "            comprato = True\n",
    "            # print(f'Bitcoin posseduti: {bitcoin}')\n",
    "        # Vende al massimo\n",
    "        elif lista_prezzi[i] > lista_prezzi[i + 1] and comprato and bitcoin * lista_prezzi[i] >= min_vendita:\n",
    "            capitale_vendita = bitcoin * lista_prezzi[i] * (1 - perc_commissione_vendita)\n",
    "            capitale += capitale_vendita\n",
    "            bitcoin = 0\n",
    "            comprato = False\n",
    "            # print(f'Capitale posseduto: {capitale}')\n",
    "\n",
    "    # Vende i bitcoin rimasti all'ultimo prezzo\n",
    "    if comprato and bitcoin * lista_prezzi.iloc[-1] >= min_vendita:\n",
    "        capitale += bitcoin * lista_prezzi.iloc[-1] * (1 - perc_commissione_vendita)\n",
    "        bitcoin = 0\n",
    "        # print(f'Capitale posseduto: {capitale}')\n",
    "        # print(f'Bitcoin posseduti: {bitcoin}')\n",
    "\n",
    "    valore_iniziale = capitale_iniziale + bitcoin_iniziali * lista_prezzi[0]\n",
    "    valore_finale = capitale + bitcoin * lista_prezzi.iloc[-1]\n",
    "\n",
    "    rendimento = valore_finale / valore_iniziale\n",
    "\n",
    "    return [rendimento, valore_finale]"
   ]
  },
  {
   "cell_type": "code",
   "execution_count": 95,
   "metadata": {},
   "outputs": [
    {
     "name": "stdout",
     "output_type": "stream",
     "text": [
      "Rendimento ideale: 13.664566891503478\n",
      "Portafoglio finale ideale in euro: 9410.666928779388\n",
      "Rendimento del portafoglio: 0.9606763528284658\n",
      "Punteggio rendimento: 7.03%\n",
      "Valore finale del portafoglio in euro: 702.3416189332813\n"
     ]
    }
   ],
   "source": [
    "rendimento_ideale, portafoglio_finale_ideale = calcola_rendimento_portafoglio_ideale(liquidità_iniziale, bitcoin_iniziali, dati['Price'], 0, 0, 0, 0)\n",
    "print('Rendimento ideale:', rendimento_ideale)\n",
    "print('Portafoglio finale ideale in euro:', portafoglio_finale_ideale)\n",
    "\n",
    "valore_iniziale = df_transazioni['valore_totale_portafoglio'].iloc[0]\n",
    "valore_finale = df_transazioni['valore_totale_portafoglio'].iloc[-1]\n",
    "rendimento = valore_finale / valore_iniziale\n",
    "\n",
    "print(f\"Rendimento del portafoglio: {rendimento}\")\n",
    "print(f'Punteggio rendimento: {round(rendimento / rendimento_ideale *100, 2)}%')\n",
    "print(f\"Valore finale del portafoglio in euro: {df_transazioni['valore_totale_portafoglio'].iloc[-1]}\")"
   ]
  },
  {
   "cell_type": "code",
   "execution_count": 96,
   "metadata": {},
   "outputs": [],
   "source": [
    "# periodo 1: Dicembre 2020 - Aprile 2021; periodo 2: Maggio 2021 - Luglio 2021; periodo 3: Luglio 2022 - Ottobre 2022\n",
    "\n",
    "# Set 1:\n",
    "# inverti_riferimento_acquisto = False\n",
    "# inverti_riferimento_vendita = True\n",
    "# acquisto_rispetto_liquidità_iniziale = True\n",
    "# compra_pure = False\n",
    "# vendi_pure = True\n",
    "# soglia_vendita = -np.inf (nessuna soglia specifica per la vendita)\n",
    "# coefficienti_acquisto = [0, 1.5] (più conservativo)\n",
    "# coefficienti_vendita = [0, 1.5] (più conservativo)\n",
    "# compra_solo_in_discesa = True (acquisti solo in discesa)\n",
    "# vendi_solo_in_salita = True (vendite solo in salita)\n",
    "# soglia_acquisto_rispetto_riferimento = 0.15 (acquisti solo se sceso almeno del 15% rispetto al riferimento)\n",
    "# soglia_vendita_rispetto_riferimento = 0.1 (vendite se salito del 10% rispetto al riferimento)\n",
    "# soglia_calcolo_variazioni_discesa = 0.1 (soglia per individuare trend ribassisti)\n",
    "# soglia_calcolo_variazioni_salita = 0.1 (soglia per individuare trend rialzisti)\n",
    "\n",
    "# Set 2:\n",
    "# inverti_riferimento_acquisto = True\n",
    "# inverti_riferimento_vendita = False\n",
    "# acquisto_rispetto_liquidità_iniziale = False\n",
    "# compra_pure = True\n",
    "# vendi_pure = True\n",
    "# soglia_vendita = 0.05 (vendite solo se sopra il 5% rispetto alla media degli acquisti)\n",
    "# coefficienti_acquisto = [0, 2.5] (aggressivo, acquisti maggiori)\n",
    "# coefficienti_vendita = [0, 2.5] (aggressivo, vendite maggiori)\n",
    "# compra_solo_in_discesa = False (puoi comprare anche in salita)\n",
    "# vendi_solo_in_salita = False (puoi vendere anche in discesa)\n",
    "# soglia_acquisto_rispetto_riferimento = 0.1 (acquisti se sceso del 10%)\n",
    "# soglia_vendita_rispetto_riferimento = 0.1 (vendite se salito del 10%)\n",
    "# soglia_calcolo_variazioni_discesa = 0.05 (individua trend ribassisti con soglia bassa)\n",
    "# soglia_calcolo_variazioni_salita = 0.05 (trend rialzisti con soglia bassa)\n",
    "\n",
    "# Set 3:\n",
    "# inverti_riferimento_acquisto = False\n",
    "# inverti_riferimento_vendita = True\n",
    "# acquisto_rispetto_liquidità_iniziale = True\n",
    "# compra_pure = True\n",
    "# vendi_pure = False\n",
    "# soglia_vendita = 0.1 (vendite se sopra il 10% rispetto alla media degli acquisti)\n",
    "# coefficienti_acquisto = [0, 2] (bilanciato)\n",
    "# coefficienti_vendita = [0, 2] (bilanciato)\n",
    "# compra_solo_in_discesa = True\n",
    "# vendi_solo_in_salita = True\n",
    "# soglia_acquisto_rispetto_riferimento = 0.05\n",
    "# soglia_vendita_rispetto_riferimento = 0.05\n",
    "# soglia_calcolo_variazioni_discesa = 0.1\n",
    "# soglia_calcolo_variazioni_salita = 0.1\n",
    "\n",
    "# Set 4:\n",
    "# inverti_riferimento_acquisto = True\n",
    "# inverti_riferimento_vendita = True\n",
    "# acquisto_rispetto_liquidità_iniziale = False\n",
    "# compra_pure = True\n",
    "# vendi_pure = True\n",
    "# soglia_vendita = 0.15 (vendite sopra il 15% rispetto alla media degli acquisti)\n",
    "# coefficienti_acquisto = [0, 3] (speculativo, acquisti aggressivi)\n",
    "# coefficienti_vendita = [0, 3] (speculativo, vendite aggressive)\n",
    "# compra_solo_in_discesa = False\n",
    "# vendi_solo_in_salita = False\n",
    "# soglia_acquisto_rispetto_riferimento = 0.15\n",
    "# soglia_vendita_rispetto_riferimento = 0.15\n",
    "# soglia_calcolo_variazioni_discesa = 0.15\n",
    "# soglia_calcolo_variazioni_salita = 0.15\n",
    "\n",
    "# Risultati:\n",
    "# Set 1: 33%, -2%, 7%\n",
    "# Set 2: 44%, -9%, 6%\n",
    "# Set 3: 88%, -5%, 6%\n",
    "# Set 4: 26%, 15%, 0%"
   ]
  },
  {
   "cell_type": "markdown",
   "metadata": {},
   "source": [
    "## Algoritmo con variabili dinamiche tramite grid search integrata"
   ]
  },
  {
   "cell_type": "code",
   "execution_count": null,
   "metadata": {},
   "outputs": [],
   "source": []
  }
 ],
 "metadata": {
  "kernelspec": {
   "display_name": "myenv",
   "language": "python",
   "name": "python3"
  },
  "language_info": {
   "codemirror_mode": {
    "name": "ipython",
    "version": 3
   },
   "file_extension": ".py",
   "mimetype": "text/x-python",
   "name": "python",
   "nbconvert_exporter": "python",
   "pygments_lexer": "ipython3",
   "version": "3.10.9"
  }
 },
 "nbformat": 4,
 "nbformat_minor": 2
}
