{
 "cells": [
  {
   "cell_type": "code",
   "execution_count": 2,
   "metadata": {},
   "outputs": [],
   "source": [
    "from ipywidgets import interact\n",
    "import plotly.graph_objects as go\n",
    "import numpy as np"
   ]
  },
  {
   "cell_type": "code",
   "execution_count": 3,
   "metadata": {},
   "outputs": [],
   "source": [
    "def mappatura_discesa_vendita(x, A, B):\n",
    "    return x ** A / (B + (1 - B) * x ** A)"
   ]
  },
  {
   "cell_type": "code",
   "execution_count": 4,
   "metadata": {},
   "outputs": [],
   "source": [
    "# Funzione per generare il grafico interattivo\n",
    "def grafico_interattivo(A, B):\n",
    "    # Definisci il range di x (percentuale_discesa_relativa)\n",
    "    x = np.linspace(0, 1, 100)  # da 0% a 100% di discesa relativa\n",
    "\n",
    "    # Calcola i valori y in base ai parametri A e B\n",
    "    y = mappatura_discesa_vendita(x, A, B)\n",
    "\n",
    "    # Crea il grafico\n",
    "    fig = go.Figure()\n",
    "    fig.add_trace(go.Scatter(\n",
    "        x=x,\n",
    "        y=y,\n",
    "        mode='lines',\n",
    "        line=dict(color='blue', width=2),\n",
    "        name=f\"Curva con A={A}, B={B}\"\n",
    "    ))\n",
    "\n",
    "    # Aggiunge dettagli al layout\n",
    "    fig.update_layout(\n",
    "        title=f\"Funzione con A={A} e B={B}\",\n",
    "        xaxis_title=\"x\",\n",
    "        yaxis_title=\"y\",\n",
    "        template=\"plotly_white\",\n",
    "        yaxis=dict(range=[0, 1]),  # Imposta il range y per una scala uniforme\n",
    "        xaxis=dict(range=[0, 1])   # Imposta il range x per percentuali da 0 a 1\n",
    "    )\n",
    "\n",
    "    # Mostra il grafico\n",
    "    fig.show()"
   ]
  },
  {
   "cell_type": "code",
   "execution_count": null,
   "metadata": {},
   "outputs": [],
   "source": [
    "# Usa interattività per gli slider\n",
    "interact(grafico_interattivo, A=(0.1, 10.0, 0.1), B=(0.0, 10.0, 0.05))"
   ]
  }
 ],
 "metadata": {
  "kernelspec": {
   "display_name": "myenv",
   "language": "python",
   "name": "python3"
  },
  "language_info": {
   "codemirror_mode": {
    "name": "ipython",
    "version": 3
   },
   "file_extension": ".py",
   "mimetype": "text/x-python",
   "name": "python",
   "nbconvert_exporter": "python",
   "pygments_lexer": "ipython3",
   "version": "3.10.9"
  }
 },
 "nbformat": 4,
 "nbformat_minor": 2
}
