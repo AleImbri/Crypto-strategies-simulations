{
 "cells": [
  {
   "cell_type": "markdown",
   "metadata": {},
   "source": [
    "# Importazione librerie"
   ]
  },
  {
   "cell_type": "code",
   "execution_count": 130,
   "metadata": {},
   "outputs": [],
   "source": [
    "import pandas as pd\n",
    "import matplotlib.pyplot as plt\n",
    "import plotly.graph_objects as go"
   ]
  },
  {
   "cell_type": "markdown",
   "metadata": {},
   "source": [
    "# Lettura dati Bitcoin"
   ]
  },
  {
   "cell_type": "code",
   "execution_count": 131,
   "metadata": {},
   "outputs": [
    {
     "data": {
      "text/html": [
       "<div>\n",
       "<style scoped>\n",
       "    .dataframe tbody tr th:only-of-type {\n",
       "        vertical-align: middle;\n",
       "    }\n",
       "\n",
       "    .dataframe tbody tr th {\n",
       "        vertical-align: top;\n",
       "    }\n",
       "\n",
       "    .dataframe thead th {\n",
       "        text-align: right;\n",
       "    }\n",
       "</style>\n",
       "<table border=\"1\" class=\"dataframe\">\n",
       "  <thead>\n",
       "    <tr style=\"text-align: right;\">\n",
       "      <th></th>\n",
       "      <th>Timestamp</th>\n",
       "      <th>Price</th>\n",
       "    </tr>\n",
       "  </thead>\n",
       "  <tbody>\n",
       "    <tr>\n",
       "      <th>0</th>\n",
       "      <td>2014-09-17</td>\n",
       "      <td>355.957367</td>\n",
       "    </tr>\n",
       "    <tr>\n",
       "      <th>1</th>\n",
       "      <td>2014-09-18</td>\n",
       "      <td>328.539368</td>\n",
       "    </tr>\n",
       "    <tr>\n",
       "      <th>2</th>\n",
       "      <td>2014-09-19</td>\n",
       "      <td>307.761139</td>\n",
       "    </tr>\n",
       "    <tr>\n",
       "      <th>3</th>\n",
       "      <td>2014-09-20</td>\n",
       "      <td>318.758972</td>\n",
       "    </tr>\n",
       "    <tr>\n",
       "      <th>4</th>\n",
       "      <td>2014-09-21</td>\n",
       "      <td>310.632446</td>\n",
       "    </tr>\n",
       "    <tr>\n",
       "      <th>...</th>\n",
       "      <td>...</td>\n",
       "      <td>...</td>\n",
       "    </tr>\n",
       "    <tr>\n",
       "      <th>3503</th>\n",
       "      <td>2024-04-20</td>\n",
       "      <td>59876.710938</td>\n",
       "    </tr>\n",
       "    <tr>\n",
       "      <th>3504</th>\n",
       "      <td>2024-04-21</td>\n",
       "      <td>60956.074219</td>\n",
       "    </tr>\n",
       "    <tr>\n",
       "      <th>3505</th>\n",
       "      <td>2024-04-22</td>\n",
       "      <td>60919.242188</td>\n",
       "    </tr>\n",
       "    <tr>\n",
       "      <th>3506</th>\n",
       "      <td>2024-04-23</td>\n",
       "      <td>62729.296875</td>\n",
       "    </tr>\n",
       "    <tr>\n",
       "      <th>3507</th>\n",
       "      <td>2024-04-24</td>\n",
       "      <td>62048.164062</td>\n",
       "    </tr>\n",
       "  </tbody>\n",
       "</table>\n",
       "<p>3508 rows × 2 columns</p>\n",
       "</div>"
      ],
      "text/plain": [
       "      Timestamp         Price\n",
       "0    2014-09-17    355.957367\n",
       "1    2014-09-18    328.539368\n",
       "2    2014-09-19    307.761139\n",
       "3    2014-09-20    318.758972\n",
       "4    2014-09-21    310.632446\n",
       "...         ...           ...\n",
       "3503 2024-04-20  59876.710938\n",
       "3504 2024-04-21  60956.074219\n",
       "3505 2024-04-22  60919.242188\n",
       "3506 2024-04-23  62729.296875\n",
       "3507 2024-04-24  62048.164062\n",
       "\n",
       "[3508 rows x 2 columns]"
      ]
     },
     "execution_count": 131,
     "metadata": {},
     "output_type": "execute_result"
    }
   ],
   "source": [
    "dati = pd.read_csv('Bitcoin (€) da yfinance dal 17-09-2014 al 24-04-2024.csv')\n",
    "dati = dati[['Date', 'Close']]\n",
    "dati = dati.rename(columns = {'Date':'Timestamp', 'Close': 'Price'})\n",
    "dati['Timestamp'] = pd.to_datetime(dati['Timestamp'])\n",
    "dati['Timestamp'] = dati['Timestamp'].dt.strftime('%Y-%m-%d')\n",
    "dati['Timestamp'] = pd.to_datetime(dati['Timestamp'], format='%Y-%m-%d')\n",
    "dati"
   ]
  },
  {
   "cell_type": "code",
   "execution_count": 132,
   "metadata": {},
   "outputs": [
    {
     "data": {
      "text/html": [
       "<div>\n",
       "<style scoped>\n",
       "    .dataframe tbody tr th:only-of-type {\n",
       "        vertical-align: middle;\n",
       "    }\n",
       "\n",
       "    .dataframe tbody tr th {\n",
       "        vertical-align: top;\n",
       "    }\n",
       "\n",
       "    .dataframe thead th {\n",
       "        text-align: right;\n",
       "    }\n",
       "</style>\n",
       "<table border=\"1\" class=\"dataframe\">\n",
       "  <thead>\n",
       "    <tr style=\"text-align: right;\">\n",
       "      <th></th>\n",
       "      <th>Timestamp</th>\n",
       "      <th>Price</th>\n",
       "    </tr>\n",
       "  </thead>\n",
       "  <tbody>\n",
       "    <tr>\n",
       "      <th>0</th>\n",
       "      <td>2021-05-01</td>\n",
       "      <td>48110.046875</td>\n",
       "    </tr>\n",
       "    <tr>\n",
       "      <th>1</th>\n",
       "      <td>2021-05-02</td>\n",
       "      <td>47088.570312</td>\n",
       "    </tr>\n",
       "    <tr>\n",
       "      <th>2</th>\n",
       "      <td>2021-05-03</td>\n",
       "      <td>47432.769531</td>\n",
       "    </tr>\n",
       "    <tr>\n",
       "      <th>3</th>\n",
       "      <td>2021-05-04</td>\n",
       "      <td>44387.261719</td>\n",
       "    </tr>\n",
       "    <tr>\n",
       "      <th>4</th>\n",
       "      <td>2021-05-05</td>\n",
       "      <td>47823.058594</td>\n",
       "    </tr>\n",
       "    <tr>\n",
       "      <th>...</th>\n",
       "      <td>...</td>\n",
       "      <td>...</td>\n",
       "    </tr>\n",
       "    <tr>\n",
       "      <th>87</th>\n",
       "      <td>2021-07-27</td>\n",
       "      <td>33336.066406</td>\n",
       "    </tr>\n",
       "    <tr>\n",
       "      <th>88</th>\n",
       "      <td>2021-07-28</td>\n",
       "      <td>33764.222656</td>\n",
       "    </tr>\n",
       "    <tr>\n",
       "      <th>89</th>\n",
       "      <td>2021-07-29</td>\n",
       "      <td>33643.082031</td>\n",
       "    </tr>\n",
       "    <tr>\n",
       "      <th>90</th>\n",
       "      <td>2021-07-30</td>\n",
       "      <td>35590.078125</td>\n",
       "    </tr>\n",
       "    <tr>\n",
       "      <th>91</th>\n",
       "      <td>2021-07-31</td>\n",
       "      <td>35077.269531</td>\n",
       "    </tr>\n",
       "  </tbody>\n",
       "</table>\n",
       "<p>92 rows × 2 columns</p>\n",
       "</div>"
      ],
      "text/plain": [
       "    Timestamp         Price\n",
       "0  2021-05-01  48110.046875\n",
       "1  2021-05-02  47088.570312\n",
       "2  2021-05-03  47432.769531\n",
       "3  2021-05-04  44387.261719\n",
       "4  2021-05-05  47823.058594\n",
       "..        ...           ...\n",
       "87 2021-07-27  33336.066406\n",
       "88 2021-07-28  33764.222656\n",
       "89 2021-07-29  33643.082031\n",
       "90 2021-07-30  35590.078125\n",
       "91 2021-07-31  35077.269531\n",
       "\n",
       "[92 rows x 2 columns]"
      ]
     },
     "execution_count": 132,
     "metadata": {},
     "output_type": "execute_result"
    }
   ],
   "source": [
    "# Bull market\n",
    "# data_inizio = '2020-12-01'\n",
    "# data_fine = '2021-04-30'\n",
    "\n",
    "# Mercato laterale\n",
    "# data_inizio = '2022-07-01'\n",
    "# data_fine = '2022-10-31'\n",
    "\n",
    "# Bear market\n",
    "data_inizio = '2021-05-01'\n",
    "data_fine = '2021-07-31'\n",
    "\n",
    "# Periodo personale\n",
    "# data_inizio = '2020-02-29'\n",
    "# data_fine = '2021-12-01'\n",
    "\n",
    "indice_inizio = dati[dati['Timestamp'] == data_inizio].index[0]\n",
    "indice_fine = dati[dati['Timestamp'] == data_fine].index[0]\n",
    "dati = dati[indice_inizio:indice_fine + 1].reset_index(drop=True)\n",
    "dati"
   ]
  },
  {
   "cell_type": "code",
   "execution_count": 133,
   "metadata": {},
   "outputs": [
    {
     "data": {
      "text/plain": [
       "[<matplotlib.lines.Line2D at 0x1d1180a4df0>]"
      ]
     },
     "execution_count": 133,
     "metadata": {},
     "output_type": "execute_result"
    },
    {
     "data": {
      "image/png": "[encoded data removed]",
      "text/plain": [
       "<Figure size 640x480 with 1 Axes>"
      ]
     },
     "metadata": {},
     "output_type": "display_data"
    }
   ],
   "source": [
    "plt.plot(dati['Timestamp'], dati['Price'])"
   ]
  },
  {
   "cell_type": "markdown",
   "metadata": {},
   "source": [
    "# Strategia"
   ]
  },
  {
   "cell_type": "code",
   "execution_count": null,
   "metadata": {},
   "outputs": [],
   "source": [
    "def quanto_comprare(liquidità, n):\n",
    "    # Acquista il 50% della liquidità posseduta\n",
    "    return max(min(liquidità * 2 ** (-4 + n), liquidità), 0)\n",
    "\n",
    "def quanto_vendere(bitcoin_posseduti):\n",
    "    # Vendi il 100% dei bitcoin posseduti\n",
    "    return bitcoin_posseduti\n",
    "\n",
    "def trading_algoritmo(dati, liquidità_iniziale, bitcoin_iniziali, perc_primo_acquisto):\n",
    "    # Inizializza variabili\n",
    "    liquidità = liquidità_iniziale\n",
    "    bitcoin_posseduti = bitcoin_iniziali\n",
    "    prezzo_medio_pesato = 0\n",
    "    totale_liquidità_usata = 0\n",
    "    prezzo_minimo_acquisto = float('inf')\n",
    "    ultima_azione = None\n",
    "    transazioni = []\n",
    "    n = 0\n",
    "    \n",
    "    for index, row in dati.iterrows():\n",
    "        timestamp = row['Timestamp']\n",
    "        prezzo = row['Price']\n",
    "        \n",
    "        # Scenario iniziale: Giorno 0 o nuovo primo acquisto\n",
    "        if (ultima_azione is None or ultima_azione == 'Vendita') and liquidità > 0:\n",
    "            spesa = liquidità * perc_primo_acquisto\n",
    "            if spesa > 0:\n",
    "                n += 1\n",
    "                bitcoin_acquistati = spesa / prezzo\n",
    "                liquidità -= spesa\n",
    "                prezzo_medio_pesato = prezzo\n",
    "                totale_liquidità_usata = spesa\n",
    "                prezzo_minimo_acquisto = prezzo\n",
    "                ultima_azione = 'Acquisto'\n",
    "                transazioni.append([\n",
    "                    timestamp, prezzo, 'Acquisto', ultima_azione, prezzo_minimo_acquisto, prezzo_medio_pesato, spesa, bitcoin_acquistati, \n",
    "                    liquidità, bitcoin_posseduti + bitcoin_acquistati, liquidità + (bitcoin_posseduti + bitcoin_acquistati) * prezzo\n",
    "                ])\n",
    "                bitcoin_posseduti += bitcoin_acquistati\n",
    "            else:\n",
    "                transazioni.append([\n",
    "                    timestamp, prezzo, '-', ultima_azione, prezzo_minimo_acquisto, prezzo_medio_pesato, 0, 0,\n",
    "                    liquidità, bitcoin_posseduti, liquidità + bitcoin_posseduti * prezzo\n",
    "                ])\n",
    "            continue\n",
    "        \n",
    "        # Scenario 1: Prezzo sotto il minimo\n",
    "        if prezzo < prezzo_minimo_acquisto and liquidità > 0:\n",
    "            spesa = quanto_comprare(liquidità, n)\n",
    "            if spesa > 0:\n",
    "                bitcoin_venduti = 0\n",
    "                n += 1\n",
    "                bitcoin_acquistati = spesa / prezzo\n",
    "                bitcoin_posseduti += bitcoin_acquistati\n",
    "                liquidità -= spesa\n",
    "                totale_liquidità_usata += spesa\n",
    "                prezzo_medio_pesato = (\n",
    "                    (prezzo_medio_pesato * (totale_liquidità_usata - spesa) + prezzo * spesa) / totale_liquidità_usata\n",
    "                )\n",
    "                prezzo_minimo_acquisto = min(prezzo_minimo_acquisto, prezzo)\n",
    "                ultima_azione = 'Acquisto'\n",
    "            else:\n",
    "                bitcoin_acquistati = 0\n",
    "                bitcoin_venduti = 0\n",
    "\n",
    "        # Scenario 3: Prezzo sopra la media pesata\n",
    "        elif prezzo > prezzo_medio_pesato and bitcoin_posseduti > 0:\n",
    "            bitcoin_venduti = quanto_vendere(bitcoin_posseduti)\n",
    "            if bitcoin_venduti > 0:\n",
    "                spesa = 0\n",
    "                bitcoin_acquistati = 0\n",
    "                n = 0\n",
    "                guadagno = bitcoin_venduti * prezzo\n",
    "                liquidità += guadagno\n",
    "                bitcoin_posseduti -= bitcoin_venduti\n",
    "                ultima_azione = 'Vendita'\n",
    "                prezzo_minimo_acquisto = float('inf')\n",
    "            else:\n",
    "                bitcoin_venduti = 0\n",
    "                bitcoin_acquistati = 0\n",
    "                spesa = 0\n",
    "        else:\n",
    "            # Scenario 2: prezzo tra attuale minimo e attuale media pesata (estremi inclusi)\n",
    "            transazioni.append([\n",
    "                timestamp, prezzo, '-', ultima_azione, prezzo_minimo_acquisto, prezzo_medio_pesato, 0, 0, \n",
    "                liquidità, bitcoin_posseduti, liquidità + bitcoin_posseduti * prezzo\n",
    "            ])\n",
    "            # spesa = 0\n",
    "            # bitcoin_venduti = 0\n",
    "            # bitcoin_acquistati = 0\n",
    "            continue\n",
    "\n",
    "        # Registra la transazione\n",
    "        transazioni.append([\n",
    "            timestamp, prezzo, \n",
    "            'Acquisto' if spesa > 0 else 'Vendita' if bitcoin_venduti > 0 else '-', \n",
    "            ultima_azione, \n",
    "            prezzo_minimo_acquisto, \n",
    "            prezzo_medio_pesato, \n",
    "            spesa if spesa > 0 else -guadagno if bitcoin_venduti > 0 else 0, \n",
    "            bitcoin_acquistati if spesa > 0 else -bitcoin_venduti if bitcoin_venduti > 0 else 0, \n",
    "            liquidità, \n",
    "            bitcoin_posseduti, \n",
    "            liquidità + bitcoin_posseduti * prezzo\n",
    "        ])\n",
    "    \n",
    "    # Ritorna un dataframe delle transazioni\n",
    "    return pd.DataFrame(transazioni, columns=[\n",
    "        'timestamp', 'prezzo', 'azione', 'ultima_azione', 'prezzo_minimo_acquisto', 'prezzo_medio_pesato', \n",
    "        'liquidità_spesa_o_guadagnata', 'bitcoin_comprati_o_venduti', \n",
    "        'liquidità_posseduta', 'bitcoin_posseduti', 'valore_totale_portafoglio'\n",
    "    ])"
   ]
  },
  {
   "cell_type": "code",
   "execution_count": 135,
   "metadata": {},
   "outputs": [
    {
     "name": "stdout",
     "output_type": "stream",
     "text": [
      "2021-05-02 00:00:00 112.5\n",
      "2021-05-04 00:00:00 196.875\n",
      "2021-05-09 00:00:00 114.44572195384161\n",
      "2021-05-10 00:00:00 200.28001341922283\n",
      "2021-05-12 00:00:00 300.42002012883427\n",
      "2021-05-15 00:00:00 300.42002012883427\n"
     ]
    },
    {
     "data": {
      "text/html": [
       "<div>\n",
       "<style scoped>\n",
       "    .dataframe tbody tr th:only-of-type {\n",
       "        vertical-align: middle;\n",
       "    }\n",
       "\n",
       "    .dataframe tbody tr th {\n",
       "        vertical-align: top;\n",
       "    }\n",
       "\n",
       "    .dataframe thead th {\n",
       "        text-align: right;\n",
       "    }\n",
       "</style>\n",
       "<table border=\"1\" class=\"dataframe\">\n",
       "  <thead>\n",
       "    <tr style=\"text-align: right;\">\n",
       "      <th></th>\n",
       "      <th>timestamp</th>\n",
       "      <th>prezzo</th>\n",
       "      <th>azione</th>\n",
       "      <th>ultima_azione</th>\n",
       "      <th>prezzo_minimo</th>\n",
       "      <th>prezzo_medio_pesato</th>\n",
       "      <th>liquidità_spesa_o_guadagnata</th>\n",
       "      <th>bitcoin_comprati_o_venduti</th>\n",
       "      <th>liquidità_posseduta</th>\n",
       "      <th>bitcoin_posseduti</th>\n",
       "      <th>valore_totale_portafoglio</th>\n",
       "    </tr>\n",
       "  </thead>\n",
       "  <tbody>\n",
       "    <tr>\n",
       "      <th>0</th>\n",
       "      <td>2021-05-01</td>\n",
       "      <td>48110.046875</td>\n",
       "      <td>Acquisto</td>\n",
       "      <td>Acquisto</td>\n",
       "      <td>4.811005e+04</td>\n",
       "      <td>48110.046875</td>\n",
       "      <td>100.000000</td>\n",
       "      <td>0.002079</td>\n",
       "      <td>900.000000</td>\n",
       "      <td>0.002079</td>\n",
       "      <td>1000.000000</td>\n",
       "    </tr>\n",
       "    <tr>\n",
       "      <th>1</th>\n",
       "      <td>2021-05-02</td>\n",
       "      <td>47088.570312</td>\n",
       "      <td>Acquisto</td>\n",
       "      <td>Acquisto</td>\n",
       "      <td>4.708857e+04</td>\n",
       "      <td>47569.265165</td>\n",
       "      <td>112.500000</td>\n",
       "      <td>0.002389</td>\n",
       "      <td>787.500000</td>\n",
       "      <td>0.004468</td>\n",
       "      <td>997.876792</td>\n",
       "    </tr>\n",
       "    <tr>\n",
       "      <th>2</th>\n",
       "      <td>2021-05-03</td>\n",
       "      <td>47432.769531</td>\n",
       "      <td>-</td>\n",
       "      <td>Acquisto</td>\n",
       "      <td>4.708857e+04</td>\n",
       "      <td>47569.265165</td>\n",
       "      <td>0.000000</td>\n",
       "      <td>0.000000</td>\n",
       "      <td>787.500000</td>\n",
       "      <td>0.004468</td>\n",
       "      <td>999.414564</td>\n",
       "    </tr>\n",
       "    <tr>\n",
       "      <th>3</th>\n",
       "      <td>2021-05-04</td>\n",
       "      <td>44387.261719</td>\n",
       "      <td>Acquisto</td>\n",
       "      <td>Acquisto</td>\n",
       "      <td>4.438726e+04</td>\n",
       "      <td>46038.988699</td>\n",
       "      <td>196.875000</td>\n",
       "      <td>0.004435</td>\n",
       "      <td>590.625000</td>\n",
       "      <td>0.008903</td>\n",
       "      <td>985.808202</td>\n",
       "    </tr>\n",
       "    <tr>\n",
       "      <th>4</th>\n",
       "      <td>2021-05-05</td>\n",
       "      <td>47823.058594</td>\n",
       "      <td>Vendita</td>\n",
       "      <td>Vendita</td>\n",
       "      <td>inf</td>\n",
       "      <td>46038.988699</td>\n",
       "      <td>-425.772365</td>\n",
       "      <td>-0.008903</td>\n",
       "      <td>1016.397365</td>\n",
       "      <td>0.000000</td>\n",
       "      <td>1016.397365</td>\n",
       "    </tr>\n",
       "    <tr>\n",
       "      <th>...</th>\n",
       "      <td>...</td>\n",
       "      <td>...</td>\n",
       "      <td>...</td>\n",
       "      <td>...</td>\n",
       "      <td>...</td>\n",
       "      <td>...</td>\n",
       "      <td>...</td>\n",
       "      <td>...</td>\n",
       "      <td>...</td>\n",
       "      <td>...</td>\n",
       "      <td>...</td>\n",
       "    </tr>\n",
       "    <tr>\n",
       "      <th>87</th>\n",
       "      <td>2021-07-27</td>\n",
       "      <td>33336.066406</td>\n",
       "      <td>-</td>\n",
       "      <td>Acquisto</td>\n",
       "      <td>3.849874e+04</td>\n",
       "      <td>42662.646436</td>\n",
       "      <td>0.000000</td>\n",
       "      <td>0.000000</td>\n",
       "      <td>0.000000</td>\n",
       "      <td>0.024035</td>\n",
       "      <td>801.218701</td>\n",
       "    </tr>\n",
       "    <tr>\n",
       "      <th>88</th>\n",
       "      <td>2021-07-28</td>\n",
       "      <td>33764.222656</td>\n",
       "      <td>-</td>\n",
       "      <td>Acquisto</td>\n",
       "      <td>3.849874e+04</td>\n",
       "      <td>42662.646436</td>\n",
       "      <td>0.000000</td>\n",
       "      <td>0.000000</td>\n",
       "      <td>0.000000</td>\n",
       "      <td>0.024035</td>\n",
       "      <td>811.509261</td>\n",
       "    </tr>\n",
       "    <tr>\n",
       "      <th>89</th>\n",
       "      <td>2021-07-29</td>\n",
       "      <td>33643.082031</td>\n",
       "      <td>-</td>\n",
       "      <td>Acquisto</td>\n",
       "      <td>3.849874e+04</td>\n",
       "      <td>42662.646436</td>\n",
       "      <td>0.000000</td>\n",
       "      <td>0.000000</td>\n",
       "      <td>0.000000</td>\n",
       "      <td>0.024035</td>\n",
       "      <td>808.597696</td>\n",
       "    </tr>\n",
       "    <tr>\n",
       "      <th>90</th>\n",
       "      <td>2021-07-30</td>\n",
       "      <td>35590.078125</td>\n",
       "      <td>-</td>\n",
       "      <td>Acquisto</td>\n",
       "      <td>3.849874e+04</td>\n",
       "      <td>42662.646436</td>\n",
       "      <td>0.000000</td>\n",
       "      <td>0.000000</td>\n",
       "      <td>0.000000</td>\n",
       "      <td>0.024035</td>\n",
       "      <td>855.392949</td>\n",
       "    </tr>\n",
       "    <tr>\n",
       "      <th>91</th>\n",
       "      <td>2021-07-31</td>\n",
       "      <td>35077.269531</td>\n",
       "      <td>-</td>\n",
       "      <td>Acquisto</td>\n",
       "      <td>3.849874e+04</td>\n",
       "      <td>42662.646436</td>\n",
       "      <td>0.000000</td>\n",
       "      <td>0.000000</td>\n",
       "      <td>0.000000</td>\n",
       "      <td>0.024035</td>\n",
       "      <td>843.067805</td>\n",
       "    </tr>\n",
       "  </tbody>\n",
       "</table>\n",
       "<p>92 rows × 11 columns</p>\n",
       "</div>"
      ],
      "text/plain": [
       "    timestamp        prezzo    azione ultima_azione  prezzo_minimo  \\\n",
       "0  2021-05-01  48110.046875  Acquisto      Acquisto   4.811005e+04   \n",
       "1  2021-05-02  47088.570312  Acquisto      Acquisto   4.708857e+04   \n",
       "2  2021-05-03  47432.769531         -      Acquisto   4.708857e+04   \n",
       "3  2021-05-04  44387.261719  Acquisto      Acquisto   4.438726e+04   \n",
       "4  2021-05-05  47823.058594   Vendita       Vendita            inf   \n",
       "..        ...           ...       ...           ...            ...   \n",
       "87 2021-07-27  33336.066406         -      Acquisto   3.849874e+04   \n",
       "88 2021-07-28  33764.222656         -      Acquisto   3.849874e+04   \n",
       "89 2021-07-29  33643.082031         -      Acquisto   3.849874e+04   \n",
       "90 2021-07-30  35590.078125         -      Acquisto   3.849874e+04   \n",
       "91 2021-07-31  35077.269531         -      Acquisto   3.849874e+04   \n",
       "\n",
       "    prezzo_medio_pesato  liquidità_spesa_o_guadagnata  \\\n",
       "0          48110.046875                    100.000000   \n",
       "1          47569.265165                    112.500000   \n",
       "2          47569.265165                      0.000000   \n",
       "3          46038.988699                    196.875000   \n",
       "4          46038.988699                   -425.772365   \n",
       "..                  ...                           ...   \n",
       "87         42662.646436                      0.000000   \n",
       "88         42662.646436                      0.000000   \n",
       "89         42662.646436                      0.000000   \n",
       "90         42662.646436                      0.000000   \n",
       "91         42662.646436                      0.000000   \n",
       "\n",
       "    bitcoin_comprati_o_venduti  liquidità_posseduta  bitcoin_posseduti  \\\n",
       "0                     0.002079           900.000000           0.002079   \n",
       "1                     0.002389           787.500000           0.004468   \n",
       "2                     0.000000           787.500000           0.004468   \n",
       "3                     0.004435           590.625000           0.008903   \n",
       "4                    -0.008903          1016.397365           0.000000   \n",
       "..                         ...                  ...                ...   \n",
       "87                    0.000000             0.000000           0.024035   \n",
       "88                    0.000000             0.000000           0.024035   \n",
       "89                    0.000000             0.000000           0.024035   \n",
       "90                    0.000000             0.000000           0.024035   \n",
       "91                    0.000000             0.000000           0.024035   \n",
       "\n",
       "    valore_totale_portafoglio  \n",
       "0                 1000.000000  \n",
       "1                  997.876792  \n",
       "2                  999.414564  \n",
       "3                  985.808202  \n",
       "4                 1016.397365  \n",
       "..                        ...  \n",
       "87                 801.218701  \n",
       "88                 811.509261  \n",
       "89                 808.597696  \n",
       "90                 855.392949  \n",
       "91                 843.067805  \n",
       "\n",
       "[92 rows x 11 columns]"
      ]
     },
     "execution_count": 135,
     "metadata": {},
     "output_type": "execute_result"
    }
   ],
   "source": [
    "df_transazioni = trading_algoritmo(dati, liquidità_iniziale=1000, bitcoin_iniziali=0, perc_primo_acquisto=0.1)\n",
    "df_transazioni"
   ]
  },
  {
   "cell_type": "code",
   "execution_count": 136,
   "metadata": {},
   "outputs": [
    {
     "data": {
      "text/plain": [
       "np.float64(0.8430678046767849)"
      ]
     },
     "execution_count": 136,
     "metadata": {},
     "output_type": "execute_result"
    }
   ],
   "source": [
    "df_transazioni['valore_totale_portafoglio'].iloc[-1] / df_transazioni['valore_totale_portafoglio'].iloc[0]"
   ]
  },
  {
   "cell_type": "code",
   "execution_count": 137,
   "metadata": {},
   "outputs": [
    {
     "data": {
      "text/plain": [
       "[<matplotlib.lines.Line2D at 0x1d119280e20>]"
      ]
     },
     "execution_count": 137,
     "metadata": {},
     "output_type": "execute_result"
    },
    {
     "data": {
      "image/png": "[encoded data removed]",
      "text/plain": [
       "<Figure size 640x480 with 1 Axes>"
      ]
     },
     "metadata": {},
     "output_type": "display_data"
    }
   ],
   "source": [
    "plt.title('Equity Line')\n",
    "plt.grid()\n",
    "plt.plot(df_transazioni['timestamp'], df_transazioni['valore_totale_portafoglio'])\n",
    "plt.plot(df_transazioni['timestamp'], df_transazioni['liquidità_posseduta'])"
   ]
  },
  {
   "cell_type": "code",
   "execution_count": 138,
   "metadata": {},
   "outputs": [],
   "source": [
    "# Funzione per creare il grafico delle transazioni\n",
    "def crea_grafico_transazioni(df_transazioni):\n",
    "    # Gestione NaN per sicurezza\n",
    "    df_transazioni['bitcoin_comprati_o_venduti'] = pd.to_numeric(df_transazioni['bitcoin_comprati_o_venduti'], errors='coerce')\n",
    "    df_transazioni['liquidità_spesa_o_guadagnata'] = pd.to_numeric(df_transazioni['liquidità_spesa_o_guadagnata'], errors='coerce')\n",
    "\n",
    "    # Filtra solo le transazioni di vendita e acquisto\n",
    "    vendite = df_transazioni[df_transazioni['azione'] == 'Vendita']\n",
    "    acquisti = df_transazioni[df_transazioni['azione'] == 'Acquisto']\n",
    "\n",
    "    # Calcolo della dimensione dei punti per le vendite e gli acquisti\n",
    "    max_quantita_vendita = vendite['bitcoin_comprati_o_venduti'].abs().max()\n",
    "    max_quantita_acquisto = acquisti['liquidità_spesa_o_guadagnata'].max()\n",
    "\n",
    "    def calcola_dimensione(quantita, max_quantita, min_size=10, max_size=50):\n",
    "        return min_size + (max_size - min_size) * (quantita / max_quantita) if max_quantita != 0 else min_size\n",
    "\n",
    "    # Applica la funzione di dimensione per ogni punto vendita e acquisto\n",
    "    dimensioni_vendite = vendite['bitcoin_comprati_o_venduti'].abs().apply(lambda x: calcola_dimensione(x, max_quantita_vendita))\n",
    "    dimensioni_acquisti = acquisti['liquidità_spesa_o_guadagnata'].apply(lambda x: calcola_dimensione(x, max_quantita_acquisto))\n",
    "\n",
    "    # Funzione per formattare in modo sicuro i valori\n",
    "    def safe_format(value, precision=2):\n",
    "        return f\"{float(value):.{precision}f}\" if pd.notna(value) else \"None\"\n",
    "\n",
    "    # Creazione del grafico\n",
    "    fig = go.Figure()\n",
    "\n",
    "    # Linea dell'andamento dei prezzi\n",
    "    fig.add_trace(go.Scatter(\n",
    "        x=df_transazioni['timestamp'],\n",
    "        y=df_transazioni['prezzo'],\n",
    "        mode='lines',\n",
    "        name='Prezzi Bitcoin',\n",
    "        line=dict(color='blue', width=2),\n",
    "        hoverinfo='x+y'\n",
    "    ))\n",
    "\n",
    "    # Scatter plot per le vendite\n",
    "    fig.add_trace(go.Scatter(\n",
    "        x=vendite['timestamp'],\n",
    "        y=vendite['prezzo'],\n",
    "        mode='markers',\n",
    "        name='Vendite',\n",
    "        marker=dict(color='red', size=dimensioni_vendite, opacity=0.7),\n",
    "        text=[\n",
    "            f\"Timestamp: {timestamp}<br>Prezzo: {safe_format(prezzo)} €<br>Bitcoin venduti: {safe_format(btc_venduti, 4)}<br>Liquidità guadagnata: {safe_format(liquid_guad, 2)} €<br>Valore totale portafoglio: {safe_format(val_port, 2)} €\"\n",
    "            for timestamp, prezzo, btc_venduti, liquid_guad, val_port in zip(\n",
    "                vendite['timestamp'],\n",
    "                vendite['prezzo'],\n",
    "                vendite['bitcoin_comprati_o_venduti'],\n",
    "                vendite['liquidità_spesa_o_guadagnata'],\n",
    "                vendite['valore_totale_portafoglio']\n",
    "            )\n",
    "        ],\n",
    "        hoverinfo='text'\n",
    "    ))\n",
    "\n",
    "    # Scatter plot per gli acquisti\n",
    "    fig.add_trace(go.Scatter(\n",
    "        x=acquisti['timestamp'],\n",
    "        y=acquisti['prezzo'],\n",
    "        mode='markers',\n",
    "        name='Acquisti',\n",
    "        marker=dict(color='green', size=dimensioni_acquisti, opacity=0.7),\n",
    "        text=[\n",
    "            f\"Timestamp: {timestamp}<br>Prezzo: {safe_format(prezzo)} €<br>Liquidità spesa: {safe_format(liquid_spesa, 2)} €<br>Bitcoin comprati: {safe_format(btc_comprati, 4)}<br>Valore totale portafoglio: {safe_format(val_port, 2)} €\"\n",
    "            for timestamp, prezzo, liquid_spesa, btc_comprati, val_port in zip(\n",
    "                acquisti['timestamp'],\n",
    "                acquisti['prezzo'],\n",
    "                acquisti['liquidità_spesa_o_guadagnata'],\n",
    "                acquisti['bitcoin_comprati_o_venduti'],\n",
    "                acquisti['valore_totale_portafoglio']\n",
    "            )\n",
    "        ],\n",
    "        hoverinfo='text'\n",
    "    ))\n",
    "\n",
    "    # Configurazione del layout\n",
    "    fig.update_layout(\n",
    "        title='Andamento Prezzi Bitcoin, Transazioni di Vendita e Acquisto',\n",
    "        xaxis_title='Data',\n",
    "        yaxis_title='Prezzo (€)',\n",
    "        hovermode='closest',\n",
    "        template='plotly_white',\n",
    "        legend=dict(yanchor=\"top\", y=0.99, xanchor=\"left\", x=0.01),\n",
    "        width=1200,\n",
    "        height=800,\n",
    "        xaxis=dict(\n",
    "            rangeslider=dict(visible=True),  # Abilita il range slider\n",
    "            type=\"date\"  # Imposta l'asse x come asse temporale\n",
    "        )\n",
    "    )\n",
    "\n",
    "    # Mostra il grafico\n",
    "    fig.show()"
   ]
  },
  {
   "cell_type": "code",
   "execution_count": 139,
   "metadata": {},
   "outputs": [
    {
     "data": {
      "application/vnd.plotly.v1+json": {
       "config": {
        "plotlyServerURL": "https://plot.ly"
       },
       "data": [
        {
         "hoverinfo": "x+y",
         "line": {
          "color": "blue",
          "width": 2
         },
         "mode": "lines",
         "name": "Prezzi Bitcoin",
         "type": "scatter",
         "x": [
          "2021-05-01T00:00:00",
          "2021-05-02T00:00:00",
          "2021-05-03T00:00:00",
          "2021-05-04T00:00:00",
          "2021-05-05T00:00:00",
          "2021-05-06T00:00:00",
          "2021-05-07T00:00:00",
          "2021-05-08T00:00:00",
          "2021-05-09T00:00:00",
          "2021-05-10T00:00:00",
          "2021-05-11T00:00:00",
          "2021-05-12T00:00:00",
          "2021-05-13T00:00:00",
          "2021-05-14T00:00:00",
          "2021-05-15T00:00:00",
          "2021-05-16T00:00:00",
          "2021-05-17T00:00:00",
          "2021-05-18T00:00:00",
          "2021-05-19T00:00:00",
          "2021-05-20T00:00:00",
          "2021-05-21T00:00:00",
          "2021-05-22T00:00:00",
          "2021-05-23T00:00:00",
          "2021-05-24T00:00:00",
          "2021-05-25T00:00:00",
          "2021-05-26T00:00:00",
          "2021-05-27T00:00:00",
          "2021-05-28T00:00:00",
          "2021-05-29T00:00:00",
          "2021-05-30T00:00:00",
          "2021-05-31T00:00:00",
          "2021-06-01T00:00:00",
          "2021-06-02T00:00:00",
          "2021-06-03T00:00:00",
          "2021-06-04T00:00:00",
          "2021-06-05T00:00:00",
          "2021-06-06T00:00:00",
          "2021-06-07T00:00:00",
          "2021-06-08T00:00:00",
          "2021-06-09T00:00:00",
          "2021-06-10T00:00:00",
          "2021-06-11T00:00:00",
          "2021-06-12T00:00:00",
          "2021-06-13T00:00:00",
          "2021-06-14T00:00:00",
          "2021-06-15T00:00:00",
          "2021-06-16T00:00:00",
          "2021-06-17T00:00:00",
          "2021-06-18T00:00:00",
          "2021-06-19T00:00:00",
          "2021-06-20T00:00:00",
          "2021-06-21T00:00:00",
          "2021-06-22T00:00:00",
          "2021-06-23T00:00:00",
          "2021-06-24T00:00:00",
          "2021-06-25T00:00:00",
          "2021-06-26T00:00:00",
          "2021-06-27T00:00:00",
          "2021-06-28T00:00:00",
          "2021-06-29T00:00:00",
          "2021-06-30T00:00:00",
          "2021-07-01T00:00:00",
          "2021-07-02T00:00:00",
          "2021-07-03T00:00:00",
          "2021-07-04T00:00:00",
          "2021-07-05T00:00:00",
          "2021-07-06T00:00:00",
          "2021-07-07T00:00:00",
          "2021-07-08T00:00:00",
          "2021-07-09T00:00:00",
          "2021-07-10T00:00:00",
          "2021-07-11T00:00:00",
          "2021-07-12T00:00:00",
          "2021-07-13T00:00:00",
          "2021-07-14T00:00:00",
          "2021-07-15T00:00:00",
          "2021-07-16T00:00:00",
          "2021-07-17T00:00:00",
          "2021-07-18T00:00:00",
          "2021-07-19T00:00:00",
          "2021-07-20T00:00:00",
          "2021-07-21T00:00:00",
          "2021-07-22T00:00:00",
          "2021-07-23T00:00:00",
          "2021-07-24T00:00:00",
          "2021-07-25T00:00:00",
          "2021-07-26T00:00:00",
          "2021-07-27T00:00:00",
          "2021-07-28T00:00:00",
          "2021-07-29T00:00:00",
          "2021-07-30T00:00:00",
          "2021-07-31T00:00:00"
         ],
         "y": [
          48110.046875,
          47088.5703125,
          47432.76953125,
          44387.26171875,
          47823.05859375,
          46742.55859375,
          47155.5078125,
          48345.46484375,
          47846.5234375,
          46010.484375,
          46692.53125,
          40695.51171875,
          41166.6953125,
          41072.77734375,
          38498.73828125,
          38235.890625,
          35814.0859375,
          35106.796875,
          30403.203125,
          33359.13671875,
          30627.822265625,
          30818.25,
          28545.537109375,
          31689.203125,
          31356.951171875,
          32229.533203125,
          31524.041015625,
          29278.3203125,
          28391.1640625,
          29269.517578125,
          30519.30859375,
          30026.794921875,
          30775.01171875,
          32321.55078125,
          30322.69921875,
          29221.080078125,
          29474.392578125,
          27526.4921875,
          27497.93359375,
          30664.52734375,
          30150.48828125,
          30832.0546875,
          29360.513671875,
          32286.505859375,
          33178.515625,
          33325.59375,
          31969.333984375,
          31943.0625,
          30165.85546875,
          30019.2265625,
          30071.78125,
          26591.064453125,
          27232.396484375,
          28266.576171875,
          29059.703125,
          26502.841796875,
          26965.501953125,
          29013.7421875,
          28866.302734375,
          30139.98046875,
          29555.0546875,
          28341.4140625,
          28569.314453125,
          29219.5546875,
          29764.078125,
          28444.033203125,
          28957.701171875,
          28707.89453125,
          27752.7109375,
          28454.8828125,
          28223.0703125,
          28840.88671875,
          27948.556640625,
          27772.1953125,
          27737.478515625,
          26906.45703125,
          26616.2421875,
          26710.71484375,
          26917.8125,
          26134.5390625,
          25299.8515625,
          27227.458984375,
          27447.947265625,
          28527.830078125,
          29132.255859375,
          30026.51953125,
          31628.84765625,
          33336.06640625,
          33764.22265625,
          33643.08203125,
          35590.078125,
          35077.26953125
         ]
        },
        {
         "hoverinfo": "text",
         "marker": {
          "color": "red",
          "opacity": 0.7,
          "size": [
           50,
           19.76946809983947
          ]
         },
         "mode": "markers",
         "name": "Vendite",
         "text": [
          "Timestamp: 2021-05-05 00:00:00<br>Prezzo: 47823.06 €<br>Bitcoin venduti: -0.0089<br>Liquidità guadagnata: -425.77 €<br>Valore totale portafoglio: 1016.40 €",
          "Timestamp: 2021-05-07 00:00:00<br>Prezzo: 47155.51 €<br>Bitcoin venduti: -0.0022<br>Liquidità guadagnata: -102.54 €<br>Valore totale portafoglio: 1017.30 €"
         ],
         "type": "scatter",
         "x": [
          "2021-05-05T00:00:00",
          "2021-05-07T00:00:00"
         ],
         "y": [
          47823.05859375,
          47155.5078125
         ]
        },
        {
         "hoverinfo": "text",
         "marker": {
          "color": "green",
          "opacity": 0.7,
          "size": [
           23.314691871349357,
           24.979028355268028,
           36.213299621719045,
           23.533017740089882,
           23.544973544973544,
           25.238095238095237,
           36.666666666666664,
           50,
           50
          ]
         },
         "mode": "markers",
         "name": "Acquisti",
         "text": [
          "Timestamp: 2021-05-01 00:00:00<br>Prezzo: 48110.05 €<br>Liquidità spesa: 100.00 €<br>Bitcoin comprati: 0.0021<br>Valore totale portafoglio: 1000.00 €",
          "Timestamp: 2021-05-02 00:00:00<br>Prezzo: 47088.57 €<br>Liquidità spesa: 112.50 €<br>Bitcoin comprati: 0.0024<br>Valore totale portafoglio: 997.88 €",
          "Timestamp: 2021-05-04 00:00:00<br>Prezzo: 44387.26 €<br>Liquidità spesa: 196.88 €<br>Bitcoin comprati: 0.0044<br>Valore totale portafoglio: 985.81 €",
          "Timestamp: 2021-05-06 00:00:00<br>Prezzo: 46742.56 €<br>Liquidità spesa: 101.64 €<br>Bitcoin comprati: 0.0022<br>Valore totale portafoglio: 1016.40 €",
          "Timestamp: 2021-05-08 00:00:00<br>Prezzo: 48345.46 €<br>Liquidità spesa: 101.73 €<br>Bitcoin comprati: 0.0021<br>Valore totale portafoglio: 1017.30 €",
          "Timestamp: 2021-05-09 00:00:00<br>Prezzo: 47846.52 €<br>Liquidità spesa: 114.45 €<br>Bitcoin comprati: 0.0024<br>Valore totale portafoglio: 1016.25 €",
          "Timestamp: 2021-05-10 00:00:00<br>Prezzo: 46010.48 €<br>Liquidità spesa: 200.28 €<br>Bitcoin comprati: 0.0044<br>Valore totale portafoglio: 1007.99 €",
          "Timestamp: 2021-05-12 00:00:00<br>Prezzo: 40695.51 €<br>Liquidità spesa: 300.42 €<br>Bitcoin comprati: 0.0074<br>Valore totale portafoglio: 960.96 €",
          "Timestamp: 2021-05-15 00:00:00<br>Prezzo: 38498.74 €<br>Liquidità spesa: 300.42 €<br>Bitcoin comprati: 0.0078<br>Valore totale portafoglio: 925.30 €"
         ],
         "type": "scatter",
         "x": [
          "2021-05-01T00:00:00",
          "2021-05-02T00:00:00",
          "2021-05-04T00:00:00",
          "2021-05-06T00:00:00",
          "2021-05-08T00:00:00",
          "2021-05-09T00:00:00",
          "2021-05-10T00:00:00",
          "2021-05-12T00:00:00",
          "2021-05-15T00:00:00"
         ],
         "y": [
          48110.046875,
          47088.5703125,
          44387.26171875,
          46742.55859375,
          48345.46484375,
          47846.5234375,
          46010.484375,
          40695.51171875,
          38498.73828125
         ]
        }
       ],
       "layout": {
        "height": 800,
        "hovermode": "closest",
        "legend": {
         "x": 0.01,
         "xanchor": "left",
         "y": 0.99,
         "yanchor": "top"
        },
        "template": {
         "data": {
          "bar": [
           {
            "error_x": {
             "color": "#2a3f5f"
            },
            "error_y": {
             "color": "#2a3f5f"
            },
            "marker": {
             "line": {
              "color": "white",
              "width": 0.5
             },
             "pattern": {
              "fillmode": "overlay",
              "size": 10,
              "solidity": 0.2
             }
            },
            "type": "bar"
           }
          ],
          "barpolar": [
           {
            "marker": {
             "line": {
              "color": "white",
              "width": 0.5
             },
             "pattern": {
              "fillmode": "overlay",
              "size": 10,
              "solidity": 0.2
             }
            },
            "type": "barpolar"
           }
          ],
          "carpet": [
           {
            "aaxis": {
             "endlinecolor": "#2a3f5f",
             "gridcolor": "#C8D4E3",
             "linecolor": "#C8D4E3",
             "minorgridcolor": "#C8D4E3",
             "startlinecolor": "#2a3f5f"
            },
            "baxis": {
             "endlinecolor": "#2a3f5f",
             "gridcolor": "#C8D4E3",
             "linecolor": "#C8D4E3",
             "minorgridcolor": "#C8D4E3",
             "startlinecolor": "#2a3f5f"
            },
            "type": "carpet"
           }
          ],
          "choropleth": [
           {
            "colorbar": {
             "outlinewidth": 0,
             "ticks": ""
            },
            "type": "choropleth"
           }
          ],
          "contour": [
           {
            "colorbar": {
             "outlinewidth": 0,
             "ticks": ""
            },
            "colorscale": [
             [
              0,
              "#0d0887"
             ],
             [
              0.1111111111111111,
              "#46039f"
             ],
             [
              0.2222222222222222,
              "#7201a8"
             ],
             [
              0.3333333333333333,
              "#9c179e"
             ],
             [
              0.4444444444444444,
              "#bd3786"
             ],
             [
              0.5555555555555556,
              "#d8576b"
             ],
             [
              0.6666666666666666,
              "#ed7953"
             ],
             [
              0.7777777777777778,
              "#fb9f3a"
             ],
             [
              0.8888888888888888,
              "#fdca26"
             ],
             [
              1,
              "#f0f921"
             ]
            ],
            "type": "contour"
           }
          ],
          "contourcarpet": [
           {
            "colorbar": {
             "outlinewidth": 0,
             "ticks": ""
            },
            "type": "contourcarpet"
           }
          ],
          "heatmap": [
           {
            "colorbar": {
             "outlinewidth": 0,
             "ticks": ""
            },
            "colorscale": [
             [
              0,
              "#0d0887"
             ],
             [
              0.1111111111111111,
              "#46039f"
             ],
             [
              0.2222222222222222,
              "#7201a8"
             ],
             [
              0.3333333333333333,
              "#9c179e"
             ],
             [
              0.4444444444444444,
              "#bd3786"
             ],
             [
              0.5555555555555556,
              "#d8576b"
             ],
             [
              0.6666666666666666,
              "#ed7953"
             ],
             [
              0.7777777777777778,
              "#fb9f3a"
             ],
             [
              0.8888888888888888,
              "#fdca26"
             ],
             [
              1,
              "#f0f921"
             ]
            ],
            "type": "heatmap"
           }
          ],
          "heatmapgl": [
           {
            "colorbar": {
             "outlinewidth": 0,
             "ticks": ""
            },
            "colorscale": [
             [
              0,
              "#0d0887"
             ],
             [
              0.1111111111111111,
              "#46039f"
             ],
             [
              0.2222222222222222,
              "#7201a8"
             ],
             [
              0.3333333333333333,
              "#9c179e"
             ],
             [
              0.4444444444444444,
              "#bd3786"
             ],
             [
              0.5555555555555556,
              "#d8576b"
             ],
             [
              0.6666666666666666,
              "#ed7953"
             ],
             [
              0.7777777777777778,
              "#fb9f3a"
             ],
             [
              0.8888888888888888,
              "#fdca26"
             ],
             [
              1,
              "#f0f921"
             ]
            ],
            "type": "heatmapgl"
           }
          ],
          "histogram": [
           {
            "marker": {
             "pattern": {
              "fillmode": "overlay",
              "size": 10,
              "solidity": 0.2
             }
            },
            "type": "histogram"
           }
          ],
          "histogram2d": [
           {
            "colorbar": {
             "outlinewidth": 0,
             "ticks": ""
            },
            "colorscale": [
             [
              0,
              "#0d0887"
             ],
             [
              0.1111111111111111,
              "#46039f"
             ],
             [
              0.2222222222222222,
              "#7201a8"
             ],
             [
              0.3333333333333333,
              "#9c179e"
             ],
             [
              0.4444444444444444,
              "#bd3786"
             ],
             [
              0.5555555555555556,
              "#d8576b"
             ],
             [
              0.6666666666666666,
              "#ed7953"
             ],
             [
              0.7777777777777778,
              "#fb9f3a"
             ],
             [
              0.8888888888888888,
              "#fdca26"
             ],
             [
              1,
              "#f0f921"
             ]
            ],
            "type": "histogram2d"
           }
          ],
          "histogram2dcontour": [
           {
            "colorbar": {
             "outlinewidth": 0,
             "ticks": ""
            },
            "colorscale": [
             [
              0,
              "#0d0887"
             ],
             [
              0.1111111111111111,
              "#46039f"
             ],
             [
              0.2222222222222222,
              "#7201a8"
             ],
             [
              0.3333333333333333,
              "#9c179e"
             ],
             [
              0.4444444444444444,
              "#bd3786"
             ],
             [
              0.5555555555555556,
              "#d8576b"
             ],
             [
              0.6666666666666666,
              "#ed7953"
             ],
             [
              0.7777777777777778,
              "#fb9f3a"
             ],
             [
              0.8888888888888888,
              "#fdca26"
             ],
             [
              1,
              "#f0f921"
             ]
            ],
            "type": "histogram2dcontour"
           }
          ],
          "mesh3d": [
           {
            "colorbar": {
             "outlinewidth": 0,
             "ticks": ""
            },
            "type": "mesh3d"
           }
          ],
          "parcoords": [
           {
            "line": {
             "colorbar": {
              "outlinewidth": 0,
              "ticks": ""
             }
            },
            "type": "parcoords"
           }
          ],
          "pie": [
           {
            "automargin": true,
            "type": "pie"
           }
          ],
          "scatter": [
           {
            "fillpattern": {
             "fillmode": "overlay",
             "size": 10,
             "solidity": 0.2
            },
            "type": "scatter"
           }
          ],
          "scatter3d": [
           {
            "line": {
             "colorbar": {
              "outlinewidth": 0,
              "ticks": ""
             }
            },
            "marker": {
             "colorbar": {
              "outlinewidth": 0,
              "ticks": ""
             }
            },
            "type": "scatter3d"
           }
          ],
          "scattercarpet": [
           {
            "marker": {
             "colorbar": {
              "outlinewidth": 0,
              "ticks": ""
             }
            },
            "type": "scattercarpet"
           }
          ],
          "scattergeo": [
           {
            "marker": {
             "colorbar": {
              "outlinewidth": 0,
              "ticks": ""
             }
            },
            "type": "scattergeo"
           }
          ],
          "scattergl": [
           {
            "marker": {
             "colorbar": {
              "outlinewidth": 0,
              "ticks": ""
             }
            },
            "type": "scattergl"
           }
          ],
          "scattermapbox": [
           {
            "marker": {
             "colorbar": {
              "outlinewidth": 0,
              "ticks": ""
             }
            },
            "type": "scattermapbox"
           }
          ],
          "scatterpolar": [
           {
            "marker": {
             "colorbar": {
              "outlinewidth": 0,
              "ticks": ""
             }
            },
            "type": "scatterpolar"
           }
          ],
          "scatterpolargl": [
           {
            "marker": {
             "colorbar": {
              "outlinewidth": 0,
              "ticks": ""
             }
            },
            "type": "scatterpolargl"
           }
          ],
          "scatterternary": [
           {
            "marker": {
             "colorbar": {
              "outlinewidth": 0,
              "ticks": ""
             }
            },
            "type": "scatterternary"
           }
          ],
          "surface": [
           {
            "colorbar": {
             "outlinewidth": 0,
             "ticks": ""
            },
            "colorscale": [
             [
              0,
              "#0d0887"
             ],
             [
              0.1111111111111111,
              "#46039f"
             ],
             [
              0.2222222222222222,
              "#7201a8"
             ],
             [
              0.3333333333333333,
              "#9c179e"
             ],
             [
              0.4444444444444444,
              "#bd3786"
             ],
             [
              0.5555555555555556,
              "#d8576b"
             ],
             [
              0.6666666666666666,
              "#ed7953"
             ],
             [
              0.7777777777777778,
              "#fb9f3a"
             ],
             [
              0.8888888888888888,
              "#fdca26"
             ],
             [
              1,
              "#f0f921"
             ]
            ],
            "type": "surface"
           }
          ],
          "table": [
           {
            "cells": {
             "fill": {
              "color": "#EBF0F8"
             },
             "line": {
              "color": "white"
             }
            },
            "header": {
             "fill": {
              "color": "#C8D4E3"
             },
             "line": {
              "color": "white"
             }
            },
            "type": "table"
           }
          ]
         },
         "layout": {
          "annotationdefaults": {
           "arrowcolor": "#2a3f5f",
           "arrowhead": 0,
           "arrowwidth": 1
          },
          "autotypenumbers": "strict",
          "coloraxis": {
           "colorbar": {
            "outlinewidth": 0,
            "ticks": ""
           }
          },
          "colorscale": {
           "diverging": [
            [
             0,
             "#8e0152"
            ],
            [
             0.1,
             "#c51b7d"
            ],
            [
             0.2,
             "#de77ae"
            ],
            [
             0.3,
             "#f1b6da"
            ],
            [
             0.4,
             "#fde0ef"
            ],
            [
             0.5,
             "#f7f7f7"
            ],
            [
             0.6,
             "#e6f5d0"
            ],
            [
             0.7,
             "#b8e186"
            ],
            [
             0.8,
             "#7fbc41"
            ],
            [
             0.9,
             "#4d9221"
            ],
            [
             1,
             "#276419"
            ]
           ],
           "sequential": [
            [
             0,
             "#0d0887"
            ],
            [
             0.1111111111111111,
             "#46039f"
            ],
            [
             0.2222222222222222,
             "#7201a8"
            ],
            [
             0.3333333333333333,
             "#9c179e"
            ],
            [
             0.4444444444444444,
             "#bd3786"
            ],
            [
             0.5555555555555556,
             "#d8576b"
            ],
            [
             0.6666666666666666,
             "#ed7953"
            ],
            [
             0.7777777777777778,
             "#fb9f3a"
            ],
            [
             0.8888888888888888,
             "#fdca26"
            ],
            [
             1,
             "#f0f921"
            ]
           ],
           "sequentialminus": [
            [
             0,
             "#0d0887"
            ],
            [
             0.1111111111111111,
             "#46039f"
            ],
            [
             0.2222222222222222,
             "#7201a8"
            ],
            [
             0.3333333333333333,
             "#9c179e"
            ],
            [
             0.4444444444444444,
             "#bd3786"
            ],
            [
             0.5555555555555556,
             "#d8576b"
            ],
            [
             0.6666666666666666,
             "#ed7953"
            ],
            [
             0.7777777777777778,
             "#fb9f3a"
            ],
            [
             0.8888888888888888,
             "#fdca26"
            ],
            [
             1,
             "#f0f921"
            ]
           ]
          },
          "colorway": [
           "#636efa",
           "#EF553B",
           "#00cc96",
           "#ab63fa",
           "#FFA15A",
           "#19d3f3",
           "#FF6692",
           "#B6E880",
           "#FF97FF",
           "#FECB52"
          ],
          "font": {
           "color": "#2a3f5f"
          },
          "geo": {
           "bgcolor": "white",
           "lakecolor": "white",
           "landcolor": "white",
           "showlakes": true,
           "showland": true,
           "subunitcolor": "#C8D4E3"
          },
          "hoverlabel": {
           "align": "left"
          },
          "hovermode": "closest",
          "mapbox": {
           "style": "light"
          },
          "paper_bgcolor": "white",
          "plot_bgcolor": "white",
          "polar": {
           "angularaxis": {
            "gridcolor": "#EBF0F8",
            "linecolor": "#EBF0F8",
            "ticks": ""
           },
           "bgcolor": "white",
           "radialaxis": {
            "gridcolor": "#EBF0F8",
            "linecolor": "#EBF0F8",
            "ticks": ""
           }
          },
          "scene": {
           "xaxis": {
            "backgroundcolor": "white",
            "gridcolor": "#DFE8F3",
            "gridwidth": 2,
            "linecolor": "#EBF0F8",
            "showbackground": true,
            "ticks": "",
            "zerolinecolor": "#EBF0F8"
           },
           "yaxis": {
            "backgroundcolor": "white",
            "gridcolor": "#DFE8F3",
            "gridwidth": 2,
            "linecolor": "#EBF0F8",
            "showbackground": true,
            "ticks": "",
            "zerolinecolor": "#EBF0F8"
           },
           "zaxis": {
            "backgroundcolor": "white",
            "gridcolor": "#DFE8F3",
            "gridwidth": 2,
            "linecolor": "#EBF0F8",
            "showbackground": true,
            "ticks": "",
            "zerolinecolor": "#EBF0F8"
           }
          },
          "shapedefaults": {
           "line": {
            "color": "#2a3f5f"
           }
          },
          "ternary": {
           "aaxis": {
            "gridcolor": "#DFE8F3",
            "linecolor": "#A2B1C6",
            "ticks": ""
           },
           "baxis": {
            "gridcolor": "#DFE8F3",
            "linecolor": "#A2B1C6",
            "ticks": ""
           },
           "bgcolor": "white",
           "caxis": {
            "gridcolor": "#DFE8F3",
            "linecolor": "#A2B1C6",
            "ticks": ""
           }
          },
          "title": {
           "x": 0.05
          },
          "xaxis": {
           "automargin": true,
           "gridcolor": "#EBF0F8",
           "linecolor": "#EBF0F8",
           "ticks": "",
           "title": {
            "standoff": 15
           },
           "zerolinecolor": "#EBF0F8",
           "zerolinewidth": 2
          },
          "yaxis": {
           "automargin": true,
           "gridcolor": "#EBF0F8",
           "linecolor": "#EBF0F8",
           "ticks": "",
           "title": {
            "standoff": 15
           },
           "zerolinecolor": "#EBF0F8",
           "zerolinewidth": 2
          }
         }
        },
        "title": {
         "text": "Andamento Prezzi Bitcoin, Transazioni di Vendita e Acquisto"
        },
        "width": 1200,
        "xaxis": {
         "rangeslider": {
          "visible": true
         },
         "title": {
          "text": "Data"
         },
         "type": "date"
        },
        "yaxis": {
         "title": {
          "text": "Prezzo (€)"
         }
        }
       }
      }
     },
     "metadata": {},
     "output_type": "display_data"
    }
   ],
   "source": [
    "crea_grafico_transazioni(df_transazioni)"
   ]
  }
 ],
 "metadata": {
  "kernelspec": {
   "display_name": "myenv",
   "language": "python",
   "name": "python3"
  },
  "language_info": {
   "codemirror_mode": {
    "name": "ipython",
    "version": 3
   },
   "file_extension": ".py",
   "mimetype": "text/x-python",
   "name": "python",
   "nbconvert_exporter": "python",
   "pygments_lexer": "ipython3",
   "version": "3.10.9"
  }
 },
 "nbformat": 4,
 "nbformat_minor": 2
}
