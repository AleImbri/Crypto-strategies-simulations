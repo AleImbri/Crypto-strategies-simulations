{
 "cells": [
  {
   "cell_type": "markdown",
   "metadata": {},
   "source": [
    "# Importazione librerie"
   ]
  },
  {
   "cell_type": "code",
   "execution_count": 9,
   "metadata": {},
   "outputs": [],
   "source": [
    "import pandas as pd\n",
    "import matplotlib.pyplot as plt\n",
    "import plotly.graph_objects as go"
   ]
  },
  {
   "cell_type": "markdown",
   "metadata": {},
   "source": [
    "# Lettura dati Bitcoin"
   ]
  },
  {
   "cell_type": "code",
   "execution_count": 10,
   "metadata": {},
   "outputs": [
    {
     "data": {
      "text/html": [
       "<div>\n",
       "<style scoped>\n",
       "    .dataframe tbody tr th:only-of-type {\n",
       "        vertical-align: middle;\n",
       "    }\n",
       "\n",
       "    .dataframe tbody tr th {\n",
       "        vertical-align: top;\n",
       "    }\n",
       "\n",
       "    .dataframe thead th {\n",
       "        text-align: right;\n",
       "    }\n",
       "</style>\n",
       "<table border=\"1\" class=\"dataframe\">\n",
       "  <thead>\n",
       "    <tr style=\"text-align: right;\">\n",
       "      <th></th>\n",
       "      <th>Timestamp</th>\n",
       "      <th>Price</th>\n",
       "    </tr>\n",
       "  </thead>\n",
       "  <tbody>\n",
       "    <tr>\n",
       "      <th>0</th>\n",
       "      <td>2014-09-17</td>\n",
       "      <td>355.957367</td>\n",
       "    </tr>\n",
       "    <tr>\n",
       "      <th>1</th>\n",
       "      <td>2014-09-18</td>\n",
       "      <td>328.539368</td>\n",
       "    </tr>\n",
       "    <tr>\n",
       "      <th>2</th>\n",
       "      <td>2014-09-19</td>\n",
       "      <td>307.761139</td>\n",
       "    </tr>\n",
       "    <tr>\n",
       "      <th>3</th>\n",
       "      <td>2014-09-20</td>\n",
       "      <td>318.758972</td>\n",
       "    </tr>\n",
       "    <tr>\n",
       "      <th>4</th>\n",
       "      <td>2014-09-21</td>\n",
       "      <td>310.632446</td>\n",
       "    </tr>\n",
       "    <tr>\n",
       "      <th>...</th>\n",
       "      <td>...</td>\n",
       "      <td>...</td>\n",
       "    </tr>\n",
       "    <tr>\n",
       "      <th>3503</th>\n",
       "      <td>2024-04-20</td>\n",
       "      <td>59876.710938</td>\n",
       "    </tr>\n",
       "    <tr>\n",
       "      <th>3504</th>\n",
       "      <td>2024-04-21</td>\n",
       "      <td>60956.074219</td>\n",
       "    </tr>\n",
       "    <tr>\n",
       "      <th>3505</th>\n",
       "      <td>2024-04-22</td>\n",
       "      <td>60919.242188</td>\n",
       "    </tr>\n",
       "    <tr>\n",
       "      <th>3506</th>\n",
       "      <td>2024-04-23</td>\n",
       "      <td>62729.296875</td>\n",
       "    </tr>\n",
       "    <tr>\n",
       "      <th>3507</th>\n",
       "      <td>2024-04-24</td>\n",
       "      <td>62048.164062</td>\n",
       "    </tr>\n",
       "  </tbody>\n",
       "</table>\n",
       "<p>3508 rows × 2 columns</p>\n",
       "</div>"
      ],
      "text/plain": [
       "      Timestamp         Price\n",
       "0    2014-09-17    355.957367\n",
       "1    2014-09-18    328.539368\n",
       "2    2014-09-19    307.761139\n",
       "3    2014-09-20    318.758972\n",
       "4    2014-09-21    310.632446\n",
       "...         ...           ...\n",
       "3503 2024-04-20  59876.710938\n",
       "3504 2024-04-21  60956.074219\n",
       "3505 2024-04-22  60919.242188\n",
       "3506 2024-04-23  62729.296875\n",
       "3507 2024-04-24  62048.164062\n",
       "\n",
       "[3508 rows x 2 columns]"
      ]
     },
     "execution_count": 10,
     "metadata": {},
     "output_type": "execute_result"
    }
   ],
   "source": [
    "dati = pd.read_csv('Bitcoin (€) da yfinance dal 17-09-2014 al 24-04-2024.csv')\n",
    "dati = dati[['Date', 'Close']]\n",
    "dati = dati.rename(columns = {'Date':'Timestamp', 'Close': 'Price'})\n",
    "dati['Timestamp'] = pd.to_datetime(dati['Timestamp'])\n",
    "dati['Timestamp'] = dati['Timestamp'].dt.strftime('%Y-%m-%d')\n",
    "dati['Timestamp'] = pd.to_datetime(dati['Timestamp'], format='%Y-%m-%d')\n",
    "dati"
   ]
  },
  {
   "cell_type": "code",
   "execution_count": 11,
   "metadata": {},
   "outputs": [
    {
     "data": {
      "text/html": [
       "<div>\n",
       "<style scoped>\n",
       "    .dataframe tbody tr th:only-of-type {\n",
       "        vertical-align: middle;\n",
       "    }\n",
       "\n",
       "    .dataframe tbody tr th {\n",
       "        vertical-align: top;\n",
       "    }\n",
       "\n",
       "    .dataframe thead th {\n",
       "        text-align: right;\n",
       "    }\n",
       "</style>\n",
       "<table border=\"1\" class=\"dataframe\">\n",
       "  <thead>\n",
       "    <tr style=\"text-align: right;\">\n",
       "      <th></th>\n",
       "      <th>Timestamp</th>\n",
       "      <th>Price</th>\n",
       "    </tr>\n",
       "  </thead>\n",
       "  <tbody>\n",
       "    <tr>\n",
       "      <th>0</th>\n",
       "      <td>2021-05-01</td>\n",
       "      <td>48110.046875</td>\n",
       "    </tr>\n",
       "    <tr>\n",
       "      <th>1</th>\n",
       "      <td>2021-05-02</td>\n",
       "      <td>47088.570312</td>\n",
       "    </tr>\n",
       "    <tr>\n",
       "      <th>2</th>\n",
       "      <td>2021-05-03</td>\n",
       "      <td>47432.769531</td>\n",
       "    </tr>\n",
       "    <tr>\n",
       "      <th>3</th>\n",
       "      <td>2021-05-04</td>\n",
       "      <td>44387.261719</td>\n",
       "    </tr>\n",
       "    <tr>\n",
       "      <th>4</th>\n",
       "      <td>2021-05-05</td>\n",
       "      <td>47823.058594</td>\n",
       "    </tr>\n",
       "    <tr>\n",
       "      <th>...</th>\n",
       "      <td>...</td>\n",
       "      <td>...</td>\n",
       "    </tr>\n",
       "    <tr>\n",
       "      <th>87</th>\n",
       "      <td>2021-07-27</td>\n",
       "      <td>33336.066406</td>\n",
       "    </tr>\n",
       "    <tr>\n",
       "      <th>88</th>\n",
       "      <td>2021-07-28</td>\n",
       "      <td>33764.222656</td>\n",
       "    </tr>\n",
       "    <tr>\n",
       "      <th>89</th>\n",
       "      <td>2021-07-29</td>\n",
       "      <td>33643.082031</td>\n",
       "    </tr>\n",
       "    <tr>\n",
       "      <th>90</th>\n",
       "      <td>2021-07-30</td>\n",
       "      <td>35590.078125</td>\n",
       "    </tr>\n",
       "    <tr>\n",
       "      <th>91</th>\n",
       "      <td>2021-07-31</td>\n",
       "      <td>35077.269531</td>\n",
       "    </tr>\n",
       "  </tbody>\n",
       "</table>\n",
       "<p>92 rows × 2 columns</p>\n",
       "</div>"
      ],
      "text/plain": [
       "    Timestamp         Price\n",
       "0  2021-05-01  48110.046875\n",
       "1  2021-05-02  47088.570312\n",
       "2  2021-05-03  47432.769531\n",
       "3  2021-05-04  44387.261719\n",
       "4  2021-05-05  47823.058594\n",
       "..        ...           ...\n",
       "87 2021-07-27  33336.066406\n",
       "88 2021-07-28  33764.222656\n",
       "89 2021-07-29  33643.082031\n",
       "90 2021-07-30  35590.078125\n",
       "91 2021-07-31  35077.269531\n",
       "\n",
       "[92 rows x 2 columns]"
      ]
     },
     "execution_count": 11,
     "metadata": {},
     "output_type": "execute_result"
    }
   ],
   "source": [
    "# Bull market\n",
    "# data_inizio = '2020-12-01'\n",
    "# data_fine = '2021-04-30'\n",
    "\n",
    "# Mercato laterale\n",
    "# data_inizio = '2022-07-01'\n",
    "# data_fine = '2022-10-31'\n",
    "\n",
    "# Bear market\n",
    "data_inizio = '2021-05-01'\n",
    "data_fine = '2021-07-31'\n",
    "\n",
    "# Periodo personale\n",
    "# data_inizio = '2020-02-29'\n",
    "# data_fine = '2021-12-01'\n",
    "\n",
    "indice_inizio = dati[dati['Timestamp'] == data_inizio].index[0]\n",
    "indice_fine = dati[dati['Timestamp'] == data_fine].index[0]\n",
    "dati = dati[indice_inizio:indice_fine + 1].reset_index(drop=True)\n",
    "dati"
   ]
  },
  {
   "cell_type": "code",
   "execution_count": 12,
   "metadata": {},
   "outputs": [
    {
     "data": {
      "text/plain": [
       "[<matplotlib.lines.Line2D at 0x231e5de9030>]"
      ]
     },
     "execution_count": 12,
     "metadata": {},
     "output_type": "execute_result"
    },
    {
     "data": {
      "image/png": "[encoded data removed]",
      "text/plain": [
       "<Figure size 640x480 with 1 Axes>"
      ]
     },
     "metadata": {},
     "output_type": "display_data"
    }
   ],
   "source": [
    "plt.plot(dati['Timestamp'], dati['Price'])"
   ]
  },
  {
   "cell_type": "markdown",
   "metadata": {},
   "source": [
    "# Strategia"
   ]
  },
  {
   "cell_type": "code",
   "execution_count": 102,
   "metadata": {},
   "outputs": [],
   "source": [
    "# Funzione helper per calcolare quanto acquistare\n",
    "def quanto_acquistare(A_a, B_a, variazione_perc, liquidità_attuale, max_liquidità, spesa_primo_acquisto):\n",
    "    return min(\n",
    "        spesa_primo_acquisto + max_liquidità * abs(variazione_perc) ** A_a / (B_a + (1 - B_a) * abs(variazione_perc) ** A_a),\n",
    "        liquidità_attuale\n",
    "    )\n",
    "\n",
    "# Funzione helper per calcolare quanto vendere\n",
    "def quanto_vendere(A_v, B_v, variazione_vendite_inversa, bitcoin, max_bitcoin, bitcoin_venduti_prima_vendita):\n",
    "    return min(\n",
    "        bitcoin_venduti_prima_vendita + max_bitcoin * abs(variazione_vendite_inversa) ** A_v / (B_v + (1 - B_v) * abs(variazione_vendite_inversa) ** A_v),\n",
    "        bitcoin\n",
    "    )\n",
    "\n",
    "# Funzione per calcolare la variazione percentuale per gli acquisti\n",
    "def calcola_variazione_percentuale(prezzo_attuale, prezzo_riferimento):\n",
    "    return (prezzo_attuale - prezzo_riferimento) / prezzo_riferimento\n",
    "\n",
    "# Funzione per calcolare la variazione percentuale inversa per le vendite\n",
    "def calcola_variazione_percentuale_inversa(prezzo_prima_vendita, prezzo_attuale):\n",
    "    return (prezzo_prima_vendita - prezzo_attuale) / prezzo_attuale\n",
    "\n",
    "# Funzione principale della strategia\n",
    "def trading_semplificato(dati, min_acquisto, min_vendita, perc_commissione_acquisto, perc_commissione_vendita, \n",
    "                      liquidità_iniziale, bitcoin_iniziali, perc_primo_acquisto, perc_prima_vendita, \n",
    "                      A_a, B_a, A_v, B_v, compra_solo_sotto_ultimo):\n",
    "    # Stato iniziale\n",
    "    liquidità = liquidità_iniziale\n",
    "    bitcoin = bitcoin_iniziali\n",
    "    prezzo_medio_pesato_acquisti = None\n",
    "    prezzo_medio_pesato_vendite = None\n",
    "    spesa_totale_acquisti = 0\n",
    "    guadagno_totale_vendite_euro = 0\n",
    "    max_liquidità = liquidità\n",
    "    max_bitcoin = bitcoin\n",
    "    prezzo_prima_vendita = None\n",
    "    prezzo_primo_acquisto = None\n",
    "    prezzo_ultimo_acquisto = None\n",
    "    transazioni = []  # Registro delle transazioni\n",
    "\n",
    "    # Flag per identificare l'inizio di un nuovo ciclo\n",
    "    nuovo_ciclo = True\n",
    "\n",
    "    for i, row in dati.iterrows():\n",
    "        timestamp = row['Timestamp']\n",
    "        prezzo = row['Price']\n",
    "        azione = '-'  # azione di default\n",
    "\n",
    "        # Reset ciclo se necessario\n",
    "        if i > 0 and prezzo < dati.iloc[i - 1]['Price'] and prezzo_prima_vendita is not None or i==0:\n",
    "            nuovo_ciclo = True\n",
    "            prezzo_medio_pesato_acquisti = None\n",
    "            prezzo_medio_pesato_vendite = None\n",
    "            prezzo_prima_vendita = None\n",
    "            spesa_totale_acquisti = 0\n",
    "            guadagno_totale_vendite_euro = 0\n",
    "            max_liquidità = liquidità\n",
    "            max_bitcoin = bitcoin\n",
    "        else:\n",
    "            nuovo_ciclo = False\n",
    "\n",
    "        # Primo acquisto di un ciclo\n",
    "        if nuovo_ciclo:\n",
    "            spesa = liquidità * perc_primo_acquisto\n",
    "            if spesa > 0 and spesa >= min_acquisto:\n",
    "                commissione = spesa * perc_commissione_acquisto / prezzo  # Commissione in bitcoin\n",
    "                bitcoin_acquistati = spesa / prezzo - commissione\n",
    "                liquidità -= spesa\n",
    "                bitcoin += bitcoin_acquistati\n",
    "                prezzo_primo_acquisto = prezzo\n",
    "                prezzo_ultimo_acquisto = prezzo\n",
    "                prezzo_medio_pesato_acquisti = prezzo\n",
    "                spesa_totale_acquisti = spesa\n",
    "                max_liquidità = max(max_liquidità, liquidità)\n",
    "                max_bitcoin = max(max_bitcoin, bitcoin)\n",
    "                spesa_primo_acquisto = spesa\n",
    "                azione = 'Primo acquisto'\n",
    "            transazioni.append([\n",
    "                timestamp, prezzo, azione, bitcoin_acquistati, spesa, liquidità, bitcoin, max_liquidità, max_bitcoin,\n",
    "                prezzo_medio_pesato_acquisti, prezzo_medio_pesato_vendite, bitcoin*prezzo+liquidità\n",
    "            ])\n",
    "            continue\n",
    "        # Calcola variazione percentuale rispetto al primo acquisto del ciclo\n",
    "        variazione_perc = calcola_variazione_percentuale(prezzo, prezzo_primo_acquisto)\n",
    "\n",
    "        # Scenario 1: prezzo < prezzo medio pesato di acquisto\n",
    "        if prezzo <= prezzo_medio_pesato_acquisti:\n",
    "            if (compra_solo_sotto_ultimo and prezzo < prezzo_ultimo_acquisto) or not compra_solo_sotto_ultimo:\n",
    "                spesa = quanto_acquistare(A_a, B_a, variazione_perc, liquidità, max_liquidità, spesa_primo_acquisto)\n",
    "                if spesa > 0 and spesa >= min_acquisto:\n",
    "                    commissione = spesa * perc_commissione_acquisto / prezzo  # Commissione in bitcoin\n",
    "                    bitcoin_acquistati = spesa / prezzo - commissione\n",
    "                    liquidità -= spesa\n",
    "                    bitcoin += bitcoin_acquistati\n",
    "                    spesa_totale_acquisti += spesa\n",
    "                    prezzo_medio_pesato_acquisti = (\n",
    "                        (prezzo_medio_pesato_acquisti * (spesa_totale_acquisti - spesa) + prezzo * spesa) /\n",
    "                        spesa_totale_acquisti\n",
    "                    )\n",
    "                    prezzo_ultimo_acquisto = prezzo\n",
    "                    azione = 'Acquisto'\n",
    "\n",
    "        # Scenario 2: prezzo > prezzo medio pesato di acquisto\n",
    "        elif prezzo > prezzo_medio_pesato_acquisti:\n",
    "            if prezzo_medio_pesato_vendite is None:  # Prima vendita del ciclo\n",
    "                vendita = bitcoin * perc_prima_vendita\n",
    "                if vendita > 0 and vendita >= min_vendita/prezzo:\n",
    "                    vendita_euro = vendita * prezzo\n",
    "                    commissione = vendita_euro * perc_commissione_vendita  # Commissione in euro\n",
    "                    guadagno = vendita_euro - commissione\n",
    "                    liquidità += guadagno\n",
    "                    bitcoin -= vendita\n",
    "                    prezzo_prima_vendita = prezzo\n",
    "                    prezzo_medio_pesato_vendite = prezzo\n",
    "                    guadagno_totale_vendite_euro = guadagno\n",
    "                    bitcoin_venduti_prima_vendita = vendita\n",
    "                    azione = 'Vendita'\n",
    "            else:\n",
    "                variazione_vendite_inversa = calcola_variazione_percentuale_inversa(prezzo_prima_vendita, prezzo)\n",
    "                vendita = quanto_vendere(A_v, B_v, variazione_vendite_inversa, bitcoin, max_bitcoin, bitcoin_venduti_prima_vendita)\n",
    "                if vendita > 0 and vendita >= min_vendita/prezzo:\n",
    "                    vendita_euro = vendita * prezzo\n",
    "                    commissione = vendita_euro * perc_commissione_vendita  # Commissione in euro\n",
    "                    guadagno = vendita_euro - commissione\n",
    "                    liquidità += guadagno\n",
    "                    bitcoin -= vendita\n",
    "                    prezzo_medio_pesato_vendite = (\n",
    "                        (prezzo_medio_pesato_vendite * (guadagno_totale_vendite_euro - vendita_euro) + prezzo * vendita_euro) /\n",
    "                        guadagno_totale_vendite_euro\n",
    "                    )\n",
    "                    guadagno_totale_vendite_euro += guadagno\n",
    "                    azione = 'Vendita'\n",
    "\n",
    "        # Aggiorna stato massimo\n",
    "        max_liquidità = max(max_liquidità, liquidità)\n",
    "        max_bitcoin = max(max_bitcoin, bitcoin)\n",
    "        bitcoin_comprati_o_venduti = bitcoin_acquistati if azione=='Acquisto' else vendita if azione=='Vendita' else 0\n",
    "        liquidità_spesa_o_guadagnata = spesa if azione=='Acquisto' else guadagno if azione=='Vendita' else 0\n",
    "\n",
    "        # Registra l'azione del giorno\n",
    "        transazioni.append([\n",
    "            timestamp, prezzo, azione, bitcoin_comprati_o_venduti, liquidità_spesa_o_guadagnata, liquidità, bitcoin, max_liquidità, max_bitcoin,\n",
    "            prezzo_medio_pesato_acquisti, prezzo_medio_pesato_vendite, bitcoin*prezzo+liquidità\n",
    "        ])\n",
    "\n",
    "    # Ritorna il dataframe delle transazioni\n",
    "    return pd.DataFrame(transazioni, columns=[\n",
    "        'timestamp', 'prezzo', 'azione', 'bitcoin_comprati_o_venduti', 'liquidità_spesa_o_guadagnata', 'liquidità', 'bitcoin', \n",
    "        'Max liquidità', 'Max bitcoin', 'prezzo Medio Pesato Acquisto', 'prezzo Medio Pesato Vendita', 'valore_totale_portafoglio'\n",
    "    ])"
   ]
  },
  {
   "cell_type": "code",
   "execution_count": 103,
   "metadata": {},
   "outputs": [
    {
     "data": {
      "text/html": [
       "<div>\n",
       "<style scoped>\n",
       "    .dataframe tbody tr th:only-of-type {\n",
       "        vertical-align: middle;\n",
       "    }\n",
       "\n",
       "    .dataframe tbody tr th {\n",
       "        vertical-align: top;\n",
       "    }\n",
       "\n",
       "    .dataframe thead th {\n",
       "        text-align: right;\n",
       "    }\n",
       "</style>\n",
       "<table border=\"1\" class=\"dataframe\">\n",
       "  <thead>\n",
       "    <tr style=\"text-align: right;\">\n",
       "      <th></th>\n",
       "      <th>timestamp</th>\n",
       "      <th>prezzo</th>\n",
       "      <th>azione</th>\n",
       "      <th>bitcoin_comprati_o_venduti</th>\n",
       "      <th>liquidità_spesa_o_guadagnata</th>\n",
       "      <th>liquidità</th>\n",
       "      <th>bitcoin</th>\n",
       "      <th>Max liquidità</th>\n",
       "      <th>Max bitcoin</th>\n",
       "      <th>prezzo Medio Pesato Acquisto</th>\n",
       "      <th>prezzo Medio Pesato Vendita</th>\n",
       "      <th>valore_totale_portafoglio</th>\n",
       "    </tr>\n",
       "  </thead>\n",
       "  <tbody>\n",
       "    <tr>\n",
       "      <th>0</th>\n",
       "      <td>2021-05-01</td>\n",
       "      <td>48110.046875</td>\n",
       "      <td>Primo acquisto</td>\n",
       "      <td>0.000208</td>\n",
       "      <td>10.000000</td>\n",
       "      <td>990.000000</td>\n",
       "      <td>0.000208</td>\n",
       "      <td>1000.000000</td>\n",
       "      <td>0.000208</td>\n",
       "      <td>48110.046875</td>\n",
       "      <td>NaN</td>\n",
       "      <td>999.990000</td>\n",
       "    </tr>\n",
       "    <tr>\n",
       "      <th>1</th>\n",
       "      <td>2021-05-02</td>\n",
       "      <td>47088.570312</td>\n",
       "      <td>Acquisto</td>\n",
       "      <td>0.000568</td>\n",
       "      <td>26.770540</td>\n",
       "      <td>963.229460</td>\n",
       "      <td>0.000776</td>\n",
       "      <td>1000.000000</td>\n",
       "      <td>0.000776</td>\n",
       "      <td>47366.367851</td>\n",
       "      <td>NaN</td>\n",
       "      <td>999.751121</td>\n",
       "    </tr>\n",
       "    <tr>\n",
       "      <th>2</th>\n",
       "      <td>2021-05-03</td>\n",
       "      <td>47432.769531</td>\n",
       "      <td>Vendita</td>\n",
       "      <td>0.000776</td>\n",
       "      <td>36.751832</td>\n",
       "      <td>999.981292</td>\n",
       "      <td>0.000000</td>\n",
       "      <td>1000.000000</td>\n",
       "      <td>0.000776</td>\n",
       "      <td>47366.367851</td>\n",
       "      <td>47432.769531</td>\n",
       "      <td>999.981292</td>\n",
       "    </tr>\n",
       "    <tr>\n",
       "      <th>3</th>\n",
       "      <td>2021-05-04</td>\n",
       "      <td>44387.261719</td>\n",
       "      <td>Primo acquisto</td>\n",
       "      <td>0.000225</td>\n",
       "      <td>9.999813</td>\n",
       "      <td>989.981479</td>\n",
       "      <td>0.000225</td>\n",
       "      <td>999.981292</td>\n",
       "      <td>0.000225</td>\n",
       "      <td>44387.261719</td>\n",
       "      <td>NaN</td>\n",
       "      <td>999.971292</td>\n",
       "    </tr>\n",
       "    <tr>\n",
       "      <th>4</th>\n",
       "      <td>2021-05-05</td>\n",
       "      <td>47823.058594</td>\n",
       "      <td>Vendita</td>\n",
       "      <td>0.000225</td>\n",
       "      <td>10.752312</td>\n",
       "      <td>1000.733790</td>\n",
       "      <td>0.000000</td>\n",
       "      <td>1000.733790</td>\n",
       "      <td>0.000225</td>\n",
       "      <td>44387.261719</td>\n",
       "      <td>47823.058594</td>\n",
       "      <td>1000.733790</td>\n",
       "    </tr>\n",
       "    <tr>\n",
       "      <th>...</th>\n",
       "      <td>...</td>\n",
       "      <td>...</td>\n",
       "      <td>...</td>\n",
       "      <td>...</td>\n",
       "      <td>...</td>\n",
       "      <td>...</td>\n",
       "      <td>...</td>\n",
       "      <td>...</td>\n",
       "      <td>...</td>\n",
       "      <td>...</td>\n",
       "      <td>...</td>\n",
       "      <td>...</td>\n",
       "    </tr>\n",
       "    <tr>\n",
       "      <th>87</th>\n",
       "      <td>2021-07-27</td>\n",
       "      <td>33336.066406</td>\n",
       "      <td>-</td>\n",
       "      <td>0.000000</td>\n",
       "      <td>0.000000</td>\n",
       "      <td>1036.566439</td>\n",
       "      <td>0.000000</td>\n",
       "      <td>1036.566439</td>\n",
       "      <td>0.008330</td>\n",
       "      <td>26505.488291</td>\n",
       "      <td>27227.458984</td>\n",
       "      <td>1036.566439</td>\n",
       "    </tr>\n",
       "    <tr>\n",
       "      <th>88</th>\n",
       "      <td>2021-07-28</td>\n",
       "      <td>33764.222656</td>\n",
       "      <td>-</td>\n",
       "      <td>0.000000</td>\n",
       "      <td>0.000000</td>\n",
       "      <td>1036.566439</td>\n",
       "      <td>0.000000</td>\n",
       "      <td>1036.566439</td>\n",
       "      <td>0.008330</td>\n",
       "      <td>26505.488291</td>\n",
       "      <td>27227.458984</td>\n",
       "      <td>1036.566439</td>\n",
       "    </tr>\n",
       "    <tr>\n",
       "      <th>89</th>\n",
       "      <td>2021-07-29</td>\n",
       "      <td>33643.082031</td>\n",
       "      <td>Primo acquisto</td>\n",
       "      <td>0.000308</td>\n",
       "      <td>10.365664</td>\n",
       "      <td>1026.200774</td>\n",
       "      <td>0.000308</td>\n",
       "      <td>1036.566439</td>\n",
       "      <td>0.000308</td>\n",
       "      <td>33643.082031</td>\n",
       "      <td>NaN</td>\n",
       "      <td>1036.556073</td>\n",
       "    </tr>\n",
       "    <tr>\n",
       "      <th>90</th>\n",
       "      <td>2021-07-30</td>\n",
       "      <td>35590.078125</td>\n",
       "      <td>Vendita</td>\n",
       "      <td>0.000308</td>\n",
       "      <td>10.943627</td>\n",
       "      <td>1037.144401</td>\n",
       "      <td>0.000000</td>\n",
       "      <td>1037.144401</td>\n",
       "      <td>0.000308</td>\n",
       "      <td>33643.082031</td>\n",
       "      <td>35590.078125</td>\n",
       "      <td>1037.144401</td>\n",
       "    </tr>\n",
       "    <tr>\n",
       "      <th>91</th>\n",
       "      <td>2021-07-31</td>\n",
       "      <td>35077.269531</td>\n",
       "      <td>Primo acquisto</td>\n",
       "      <td>0.000295</td>\n",
       "      <td>10.371444</td>\n",
       "      <td>1026.772957</td>\n",
       "      <td>0.000295</td>\n",
       "      <td>1037.144401</td>\n",
       "      <td>0.000295</td>\n",
       "      <td>35077.269531</td>\n",
       "      <td>NaN</td>\n",
       "      <td>1037.134030</td>\n",
       "    </tr>\n",
       "  </tbody>\n",
       "</table>\n",
       "<p>92 rows × 12 columns</p>\n",
       "</div>"
      ],
      "text/plain": [
       "    timestamp        prezzo          azione  bitcoin_comprati_o_venduti  \\\n",
       "0  2021-05-01  48110.046875  Primo acquisto                    0.000208   \n",
       "1  2021-05-02  47088.570312        Acquisto                    0.000568   \n",
       "2  2021-05-03  47432.769531         Vendita                    0.000776   \n",
       "3  2021-05-04  44387.261719  Primo acquisto                    0.000225   \n",
       "4  2021-05-05  47823.058594         Vendita                    0.000225   \n",
       "..        ...           ...             ...                         ...   \n",
       "87 2021-07-27  33336.066406               -                    0.000000   \n",
       "88 2021-07-28  33764.222656               -                    0.000000   \n",
       "89 2021-07-29  33643.082031  Primo acquisto                    0.000308   \n",
       "90 2021-07-30  35590.078125         Vendita                    0.000308   \n",
       "91 2021-07-31  35077.269531  Primo acquisto                    0.000295   \n",
       "\n",
       "    liquidità_spesa_o_guadagnata    liquidità   bitcoin  Max liquidità  \\\n",
       "0                      10.000000   990.000000  0.000208    1000.000000   \n",
       "1                      26.770540   963.229460  0.000776    1000.000000   \n",
       "2                      36.751832   999.981292  0.000000    1000.000000   \n",
       "3                       9.999813   989.981479  0.000225     999.981292   \n",
       "4                      10.752312  1000.733790  0.000000    1000.733790   \n",
       "..                           ...          ...       ...            ...   \n",
       "87                      0.000000  1036.566439  0.000000    1036.566439   \n",
       "88                      0.000000  1036.566439  0.000000    1036.566439   \n",
       "89                     10.365664  1026.200774  0.000308    1036.566439   \n",
       "90                     10.943627  1037.144401  0.000000    1037.144401   \n",
       "91                     10.371444  1026.772957  0.000295    1037.144401   \n",
       "\n",
       "    Max bitcoin  prezzo Medio Pesato Acquisto  prezzo Medio Pesato Vendita  \\\n",
       "0      0.000208                  48110.046875                          NaN   \n",
       "1      0.000776                  47366.367851                          NaN   \n",
       "2      0.000776                  47366.367851                 47432.769531   \n",
       "3      0.000225                  44387.261719                          NaN   \n",
       "4      0.000225                  44387.261719                 47823.058594   \n",
       "..          ...                           ...                          ...   \n",
       "87     0.008330                  26505.488291                 27227.458984   \n",
       "88     0.008330                  26505.488291                 27227.458984   \n",
       "89     0.000308                  33643.082031                          NaN   \n",
       "90     0.000308                  33643.082031                 35590.078125   \n",
       "91     0.000295                  35077.269531                          NaN   \n",
       "\n",
       "    valore_totale_portafoglio  \n",
       "0                  999.990000  \n",
       "1                  999.751121  \n",
       "2                  999.981292  \n",
       "3                  999.971292  \n",
       "4                 1000.733790  \n",
       "..                        ...  \n",
       "87                1036.566439  \n",
       "88                1036.566439  \n",
       "89                1036.556073  \n",
       "90                1037.144401  \n",
       "91                1037.134030  \n",
       "\n",
       "[92 rows x 12 columns]"
      ]
     },
     "execution_count": 103,
     "metadata": {},
     "output_type": "execute_result"
    }
   ],
   "source": [
    "min_acquisto = 5\n",
    "min_vendita = 5\n",
    "perc_commissione_acquisto = 0.001\n",
    "perc_commissione_vendita = 0.001\n",
    "liquidità_iniziale = 1000\n",
    "bitcoin_iniziali = 0\n",
    "perc_primo_acquisto = 0.01\n",
    "perc_prima_vendita = 1\n",
    "A_a = 0.5\n",
    "B_a = 10\n",
    "A_v = 0.2\n",
    "B_v = 10\n",
    "compra_solo_sotto_ultimo = True\n",
    "\n",
    "df_transazioni = trading_semplificato(dati, min_acquisto, min_vendita, perc_commissione_acquisto, perc_commissione_vendita, liquidità_iniziale, bitcoin_iniziali, perc_primo_acquisto, perc_prima_vendita, A_a, B_a, A_v, B_v, compra_solo_sotto_ultimo)\n",
    "df_transazioni"
   ]
  },
  {
   "cell_type": "code",
   "execution_count": 104,
   "metadata": {},
   "outputs": [
    {
     "data": {
      "text/html": [
       "<div>\n",
       "<style scoped>\n",
       "    .dataframe tbody tr th:only-of-type {\n",
       "        vertical-align: middle;\n",
       "    }\n",
       "\n",
       "    .dataframe tbody tr th {\n",
       "        vertical-align: top;\n",
       "    }\n",
       "\n",
       "    .dataframe thead th {\n",
       "        text-align: right;\n",
       "    }\n",
       "</style>\n",
       "<table border=\"1\" class=\"dataframe\">\n",
       "  <thead>\n",
       "    <tr style=\"text-align: right;\">\n",
       "      <th></th>\n",
       "      <th>timestamp</th>\n",
       "      <th>prezzo</th>\n",
       "      <th>azione</th>\n",
       "      <th>bitcoin_comprati_o_venduti</th>\n",
       "      <th>liquidità_spesa_o_guadagnata</th>\n",
       "      <th>liquidità</th>\n",
       "      <th>bitcoin</th>\n",
       "      <th>Max liquidità</th>\n",
       "      <th>Max bitcoin</th>\n",
       "      <th>prezzo Medio Pesato Acquisto</th>\n",
       "      <th>prezzo Medio Pesato Vendita</th>\n",
       "      <th>valore_totale_portafoglio</th>\n",
       "    </tr>\n",
       "  </thead>\n",
       "  <tbody>\n",
       "    <tr>\n",
       "      <th>0</th>\n",
       "      <td>2021-05-01</td>\n",
       "      <td>48110.046875</td>\n",
       "      <td>Primo acquisto</td>\n",
       "      <td>0.000208</td>\n",
       "      <td>10.000000</td>\n",
       "      <td>990.000000</td>\n",
       "      <td>0.000208</td>\n",
       "      <td>1000.000000</td>\n",
       "      <td>0.000208</td>\n",
       "      <td>48110.046875</td>\n",
       "      <td>NaN</td>\n",
       "      <td>999.990000</td>\n",
       "    </tr>\n",
       "    <tr>\n",
       "      <th>3</th>\n",
       "      <td>2021-05-04</td>\n",
       "      <td>44387.261719</td>\n",
       "      <td>Primo acquisto</td>\n",
       "      <td>0.000225</td>\n",
       "      <td>9.999813</td>\n",
       "      <td>989.981479</td>\n",
       "      <td>0.000225</td>\n",
       "      <td>999.981292</td>\n",
       "      <td>0.000225</td>\n",
       "      <td>44387.261719</td>\n",
       "      <td>NaN</td>\n",
       "      <td>999.971292</td>\n",
       "    </tr>\n",
       "    <tr>\n",
       "      <th>5</th>\n",
       "      <td>2021-05-06</td>\n",
       "      <td>46742.558594</td>\n",
       "      <td>Primo acquisto</td>\n",
       "      <td>0.000214</td>\n",
       "      <td>10.007338</td>\n",
       "      <td>990.726452</td>\n",
       "      <td>0.000214</td>\n",
       "      <td>1000.733790</td>\n",
       "      <td>0.000214</td>\n",
       "      <td>46742.558594</td>\n",
       "      <td>NaN</td>\n",
       "      <td>1000.723783</td>\n",
       "    </tr>\n",
       "    <tr>\n",
       "      <th>8</th>\n",
       "      <td>2021-05-09</td>\n",
       "      <td>47846.523438</td>\n",
       "      <td>Primo acquisto</td>\n",
       "      <td>0.000209</td>\n",
       "      <td>10.008020</td>\n",
       "      <td>990.793999</td>\n",
       "      <td>0.000209</td>\n",
       "      <td>1000.802019</td>\n",
       "      <td>0.000209</td>\n",
       "      <td>47846.523438</td>\n",
       "      <td>NaN</td>\n",
       "      <td>1000.792011</td>\n",
       "    </tr>\n",
       "    <tr>\n",
       "      <th>11</th>\n",
       "      <td>2021-05-12</td>\n",
       "      <td>40695.511719</td>\n",
       "      <td>Primo acquisto</td>\n",
       "      <td>0.000246</td>\n",
       "      <td>10.009737</td>\n",
       "      <td>990.963969</td>\n",
       "      <td>0.000246</td>\n",
       "      <td>1000.973706</td>\n",
       "      <td>0.000246</td>\n",
       "      <td>40695.511719</td>\n",
       "      <td>NaN</td>\n",
       "      <td>1000.963697</td>\n",
       "    </tr>\n",
       "    <tr>\n",
       "      <th>13</th>\n",
       "      <td>2021-05-14</td>\n",
       "      <td>41072.777344</td>\n",
       "      <td>Primo acquisto</td>\n",
       "      <td>0.000243</td>\n",
       "      <td>10.010694</td>\n",
       "      <td>991.058667</td>\n",
       "      <td>0.000243</td>\n",
       "      <td>1001.069361</td>\n",
       "      <td>0.000243</td>\n",
       "      <td>41072.777344</td>\n",
       "      <td>NaN</td>\n",
       "      <td>1001.059350</td>\n",
       "    </tr>\n",
       "    <tr>\n",
       "      <th>34</th>\n",
       "      <td>2021-06-04</td>\n",
       "      <td>30322.699219</td>\n",
       "      <td>Primo acquisto</td>\n",
       "      <td>0.000333</td>\n",
       "      <td>10.117951</td>\n",
       "      <td>1001.677174</td>\n",
       "      <td>0.000333</td>\n",
       "      <td>1011.795125</td>\n",
       "      <td>0.000333</td>\n",
       "      <td>30322.699219</td>\n",
       "      <td>NaN</td>\n",
       "      <td>1011.785007</td>\n",
       "    </tr>\n",
       "    <tr>\n",
       "      <th>40</th>\n",
       "      <td>2021-06-10</td>\n",
       "      <td>30150.488281</td>\n",
       "      <td>Primo acquisto</td>\n",
       "      <td>0.000340</td>\n",
       "      <td>10.252759</td>\n",
       "      <td>1015.023168</td>\n",
       "      <td>0.000340</td>\n",
       "      <td>1025.275927</td>\n",
       "      <td>0.000340</td>\n",
       "      <td>30150.488281</td>\n",
       "      <td>NaN</td>\n",
       "      <td>1025.265674</td>\n",
       "    </tr>\n",
       "    <tr>\n",
       "      <th>42</th>\n",
       "      <td>2021-06-12</td>\n",
       "      <td>29360.513672</td>\n",
       "      <td>Primo acquisto</td>\n",
       "      <td>0.000349</td>\n",
       "      <td>10.254867</td>\n",
       "      <td>1015.231870</td>\n",
       "      <td>0.000349</td>\n",
       "      <td>1025.486737</td>\n",
       "      <td>0.000349</td>\n",
       "      <td>29360.513672</td>\n",
       "      <td>NaN</td>\n",
       "      <td>1025.476482</td>\n",
       "    </tr>\n",
       "    <tr>\n",
       "      <th>46</th>\n",
       "      <td>2021-06-16</td>\n",
       "      <td>31969.333984</td>\n",
       "      <td>Primo acquisto</td>\n",
       "      <td>0.000321</td>\n",
       "      <td>10.264862</td>\n",
       "      <td>1016.221307</td>\n",
       "      <td>0.000321</td>\n",
       "      <td>1026.486168</td>\n",
       "      <td>0.000321</td>\n",
       "      <td>31969.333984</td>\n",
       "      <td>NaN</td>\n",
       "      <td>1026.475903</td>\n",
       "    </tr>\n",
       "    <tr>\n",
       "      <th>55</th>\n",
       "      <td>2021-06-25</td>\n",
       "      <td>26502.841797</td>\n",
       "      <td>Primo acquisto</td>\n",
       "      <td>0.000388</td>\n",
       "      <td>10.282445</td>\n",
       "      <td>1017.962079</td>\n",
       "      <td>0.000388</td>\n",
       "      <td>1028.244524</td>\n",
       "      <td>0.000388</td>\n",
       "      <td>26502.841797</td>\n",
       "      <td>NaN</td>\n",
       "      <td>1028.234242</td>\n",
       "    </tr>\n",
       "    <tr>\n",
       "      <th>58</th>\n",
       "      <td>2021-06-28</td>\n",
       "      <td>28866.302734</td>\n",
       "      <td>Primo acquisto</td>\n",
       "      <td>0.000356</td>\n",
       "      <td>10.284031</td>\n",
       "      <td>1018.119080</td>\n",
       "      <td>0.000356</td>\n",
       "      <td>1028.403111</td>\n",
       "      <td>0.000356</td>\n",
       "      <td>28866.302734</td>\n",
       "      <td>NaN</td>\n",
       "      <td>1028.392827</td>\n",
       "    </tr>\n",
       "    <tr>\n",
       "      <th>60</th>\n",
       "      <td>2021-06-30</td>\n",
       "      <td>29555.054688</td>\n",
       "      <td>Primo acquisto</td>\n",
       "      <td>0.000348</td>\n",
       "      <td>10.288354</td>\n",
       "      <td>1018.547058</td>\n",
       "      <td>0.000348</td>\n",
       "      <td>1028.835412</td>\n",
       "      <td>0.000348</td>\n",
       "      <td>29555.054688</td>\n",
       "      <td>NaN</td>\n",
       "      <td>1028.825124</td>\n",
       "    </tr>\n",
       "    <tr>\n",
       "      <th>65</th>\n",
       "      <td>2021-07-05</td>\n",
       "      <td>28444.033203</td>\n",
       "      <td>Primo acquisto</td>\n",
       "      <td>0.000362</td>\n",
       "      <td>10.297334</td>\n",
       "      <td>1019.436047</td>\n",
       "      <td>0.000362</td>\n",
       "      <td>1029.733380</td>\n",
       "      <td>0.000362</td>\n",
       "      <td>28444.033203</td>\n",
       "      <td>NaN</td>\n",
       "      <td>1029.723083</td>\n",
       "    </tr>\n",
       "    <tr>\n",
       "      <th>67</th>\n",
       "      <td>2021-07-07</td>\n",
       "      <td>28707.894531</td>\n",
       "      <td>Primo acquisto</td>\n",
       "      <td>0.000358</td>\n",
       "      <td>10.298984</td>\n",
       "      <td>1019.599399</td>\n",
       "      <td>0.000358</td>\n",
       "      <td>1029.898383</td>\n",
       "      <td>0.000358</td>\n",
       "      <td>28707.894531</td>\n",
       "      <td>NaN</td>\n",
       "      <td>1029.888084</td>\n",
       "    </tr>\n",
       "    <tr>\n",
       "      <th>70</th>\n",
       "      <td>2021-07-10</td>\n",
       "      <td>28223.070312</td>\n",
       "      <td>Primo acquisto</td>\n",
       "      <td>0.000365</td>\n",
       "      <td>10.305493</td>\n",
       "      <td>1020.243780</td>\n",
       "      <td>0.000365</td>\n",
       "      <td>1030.549272</td>\n",
       "      <td>0.000365</td>\n",
       "      <td>28223.070312</td>\n",
       "      <td>NaN</td>\n",
       "      <td>1030.538967</td>\n",
       "    </tr>\n",
       "    <tr>\n",
       "      <th>72</th>\n",
       "      <td>2021-07-12</td>\n",
       "      <td>27948.556641</td>\n",
       "      <td>Primo acquisto</td>\n",
       "      <td>0.000368</td>\n",
       "      <td>10.307538</td>\n",
       "      <td>1020.446275</td>\n",
       "      <td>0.000368</td>\n",
       "      <td>1030.753813</td>\n",
       "      <td>0.000368</td>\n",
       "      <td>27948.556641</td>\n",
       "      <td>NaN</td>\n",
       "      <td>1030.743505</td>\n",
       "    </tr>\n",
       "    <tr>\n",
       "      <th>89</th>\n",
       "      <td>2021-07-29</td>\n",
       "      <td>33643.082031</td>\n",
       "      <td>Primo acquisto</td>\n",
       "      <td>0.000308</td>\n",
       "      <td>10.365664</td>\n",
       "      <td>1026.200774</td>\n",
       "      <td>0.000308</td>\n",
       "      <td>1036.566439</td>\n",
       "      <td>0.000308</td>\n",
       "      <td>33643.082031</td>\n",
       "      <td>NaN</td>\n",
       "      <td>1036.556073</td>\n",
       "    </tr>\n",
       "    <tr>\n",
       "      <th>91</th>\n",
       "      <td>2021-07-31</td>\n",
       "      <td>35077.269531</td>\n",
       "      <td>Primo acquisto</td>\n",
       "      <td>0.000295</td>\n",
       "      <td>10.371444</td>\n",
       "      <td>1026.772957</td>\n",
       "      <td>0.000295</td>\n",
       "      <td>1037.144401</td>\n",
       "      <td>0.000295</td>\n",
       "      <td>35077.269531</td>\n",
       "      <td>NaN</td>\n",
       "      <td>1037.134030</td>\n",
       "    </tr>\n",
       "  </tbody>\n",
       "</table>\n",
       "</div>"
      ],
      "text/plain": [
       "    timestamp        prezzo          azione  bitcoin_comprati_o_venduti  \\\n",
       "0  2021-05-01  48110.046875  Primo acquisto                    0.000208   \n",
       "3  2021-05-04  44387.261719  Primo acquisto                    0.000225   \n",
       "5  2021-05-06  46742.558594  Primo acquisto                    0.000214   \n",
       "8  2021-05-09  47846.523438  Primo acquisto                    0.000209   \n",
       "11 2021-05-12  40695.511719  Primo acquisto                    0.000246   \n",
       "13 2021-05-14  41072.777344  Primo acquisto                    0.000243   \n",
       "34 2021-06-04  30322.699219  Primo acquisto                    0.000333   \n",
       "40 2021-06-10  30150.488281  Primo acquisto                    0.000340   \n",
       "42 2021-06-12  29360.513672  Primo acquisto                    0.000349   \n",
       "46 2021-06-16  31969.333984  Primo acquisto                    0.000321   \n",
       "55 2021-06-25  26502.841797  Primo acquisto                    0.000388   \n",
       "58 2021-06-28  28866.302734  Primo acquisto                    0.000356   \n",
       "60 2021-06-30  29555.054688  Primo acquisto                    0.000348   \n",
       "65 2021-07-05  28444.033203  Primo acquisto                    0.000362   \n",
       "67 2021-07-07  28707.894531  Primo acquisto                    0.000358   \n",
       "70 2021-07-10  28223.070312  Primo acquisto                    0.000365   \n",
       "72 2021-07-12  27948.556641  Primo acquisto                    0.000368   \n",
       "89 2021-07-29  33643.082031  Primo acquisto                    0.000308   \n",
       "91 2021-07-31  35077.269531  Primo acquisto                    0.000295   \n",
       "\n",
       "    liquidità_spesa_o_guadagnata    liquidità   bitcoin  Max liquidità  \\\n",
       "0                      10.000000   990.000000  0.000208    1000.000000   \n",
       "3                       9.999813   989.981479  0.000225     999.981292   \n",
       "5                      10.007338   990.726452  0.000214    1000.733790   \n",
       "8                      10.008020   990.793999  0.000209    1000.802019   \n",
       "11                     10.009737   990.963969  0.000246    1000.973706   \n",
       "13                     10.010694   991.058667  0.000243    1001.069361   \n",
       "34                     10.117951  1001.677174  0.000333    1011.795125   \n",
       "40                     10.252759  1015.023168  0.000340    1025.275927   \n",
       "42                     10.254867  1015.231870  0.000349    1025.486737   \n",
       "46                     10.264862  1016.221307  0.000321    1026.486168   \n",
       "55                     10.282445  1017.962079  0.000388    1028.244524   \n",
       "58                     10.284031  1018.119080  0.000356    1028.403111   \n",
       "60                     10.288354  1018.547058  0.000348    1028.835412   \n",
       "65                     10.297334  1019.436047  0.000362    1029.733380   \n",
       "67                     10.298984  1019.599399  0.000358    1029.898383   \n",
       "70                     10.305493  1020.243780  0.000365    1030.549272   \n",
       "72                     10.307538  1020.446275  0.000368    1030.753813   \n",
       "89                     10.365664  1026.200774  0.000308    1036.566439   \n",
       "91                     10.371444  1026.772957  0.000295    1037.144401   \n",
       "\n",
       "    Max bitcoin  prezzo Medio Pesato Acquisto  prezzo Medio Pesato Vendita  \\\n",
       "0      0.000208                  48110.046875                          NaN   \n",
       "3      0.000225                  44387.261719                          NaN   \n",
       "5      0.000214                  46742.558594                          NaN   \n",
       "8      0.000209                  47846.523438                          NaN   \n",
       "11     0.000246                  40695.511719                          NaN   \n",
       "13     0.000243                  41072.777344                          NaN   \n",
       "34     0.000333                  30322.699219                          NaN   \n",
       "40     0.000340                  30150.488281                          NaN   \n",
       "42     0.000349                  29360.513672                          NaN   \n",
       "46     0.000321                  31969.333984                          NaN   \n",
       "55     0.000388                  26502.841797                          NaN   \n",
       "58     0.000356                  28866.302734                          NaN   \n",
       "60     0.000348                  29555.054688                          NaN   \n",
       "65     0.000362                  28444.033203                          NaN   \n",
       "67     0.000358                  28707.894531                          NaN   \n",
       "70     0.000365                  28223.070312                          NaN   \n",
       "72     0.000368                  27948.556641                          NaN   \n",
       "89     0.000308                  33643.082031                          NaN   \n",
       "91     0.000295                  35077.269531                          NaN   \n",
       "\n",
       "    valore_totale_portafoglio  \n",
       "0                  999.990000  \n",
       "3                  999.971292  \n",
       "5                 1000.723783  \n",
       "8                 1000.792011  \n",
       "11                1000.963697  \n",
       "13                1001.059350  \n",
       "34                1011.785007  \n",
       "40                1025.265674  \n",
       "42                1025.476482  \n",
       "46                1026.475903  \n",
       "55                1028.234242  \n",
       "58                1028.392827  \n",
       "60                1028.825124  \n",
       "65                1029.723083  \n",
       "67                1029.888084  \n",
       "70                1030.538967  \n",
       "72                1030.743505  \n",
       "89                1036.556073  \n",
       "91                1037.134030  "
      ]
     },
     "execution_count": 104,
     "metadata": {},
     "output_type": "execute_result"
    }
   ],
   "source": [
    "df_transazioni[df_transazioni['azione'] == 'Primo acquisto']"
   ]
  },
  {
   "cell_type": "code",
   "execution_count": 105,
   "metadata": {},
   "outputs": [
    {
     "data": {
      "text/plain": [
       "np.float64(1.0371444012360358)"
      ]
     },
     "execution_count": 105,
     "metadata": {},
     "output_type": "execute_result"
    }
   ],
   "source": [
    "df_transazioni['valore_totale_portafoglio'].iloc[-1] / df_transazioni['valore_totale_portafoglio'].iloc[0]"
   ]
  },
  {
   "cell_type": "code",
   "execution_count": 106,
   "metadata": {},
   "outputs": [
    {
     "data": {
      "text/plain": [
       "[<matplotlib.lines.Line2D at 0x231eae91900>]"
      ]
     },
     "execution_count": 106,
     "metadata": {},
     "output_type": "execute_result"
    },
    {
     "data": {
      "image/png": "[encoded data removed]",
      "text/plain": [
       "<Figure size 640x480 with 1 Axes>"
      ]
     },
     "metadata": {},
     "output_type": "display_data"
    }
   ],
   "source": [
    "plt.title('Equity Line')\n",
    "plt.grid()\n",
    "plt.plot(df_transazioni['timestamp'], df_transazioni['valore_totale_portafoglio'])\n",
    "plt.plot(df_transazioni['timestamp'], df_transazioni['liquidità'])"
   ]
  },
  {
   "cell_type": "code",
   "execution_count": 107,
   "metadata": {},
   "outputs": [],
   "source": [
    "# Funzione per creare il grafico delle transazioni\n",
    "def crea_grafico_transazioni(df_transazioni):\n",
    "    # Gestione NaN per sicurezza\n",
    "    df_transazioni['bitcoin_comprati_o_venduti'] = pd.to_numeric(df_transazioni['bitcoin_comprati_o_venduti'], errors='coerce')\n",
    "    df_transazioni['liquidità_spesa_o_guadagnata'] = pd.to_numeric(df_transazioni['liquidità_spesa_o_guadagnata'], errors='coerce')\n",
    "\n",
    "    # Filtra solo le transazioni di vendita e acquisto\n",
    "    vendite = df_transazioni[df_transazioni['azione'] == 'Vendita']\n",
    "    acquisti = df_transazioni[(df_transazioni['azione'] == 'Acquisto') | (df_transazioni['azione'] == 'Primo acquisto')]\n",
    "\n",
    "    # Calcolo della dimensione dei punti per le vendite e gli acquisti\n",
    "    max_quantita_vendita = vendite['bitcoin_comprati_o_venduti'].abs().max()\n",
    "    max_quantita_acquisto = acquisti['liquidità_spesa_o_guadagnata'].max()\n",
    "\n",
    "    def calcola_dimensione(quantita, max_quantita, min_size=10, max_size=50):\n",
    "        return min_size + (max_size - min_size) * (quantita / max_quantita) if max_quantita != 0 else min_size\n",
    "\n",
    "    # Applica la funzione di dimensione per ogni punto vendita e acquisto\n",
    "    dimensioni_vendite = vendite['bitcoin_comprati_o_venduti'].abs().apply(lambda x: calcola_dimensione(x, max_quantita_vendita))\n",
    "    dimensioni_acquisti = acquisti['liquidità_spesa_o_guadagnata'].apply(lambda x: calcola_dimensione(x, max_quantita_acquisto))\n",
    "\n",
    "    # Funzione per creare una stringa di hover con tutte le colonne\n",
    "    def crea_hover_text(df):\n",
    "        hover_texts = []\n",
    "        for _, row in df.iterrows():\n",
    "            hover_text = \"<br>\".join([f\"{col}: {row[col]}\" for col in df.columns])\n",
    "            hover_texts.append(hover_text)\n",
    "        return hover_texts\n",
    "\n",
    "    # Creazione del grafico\n",
    "    fig = go.Figure()\n",
    "\n",
    "    # Linea dell'andamento dei prezzi\n",
    "    fig.add_trace(go.Scatter(\n",
    "        x=df_transazioni['timestamp'],\n",
    "        y=df_transazioni['prezzo'],\n",
    "        mode='lines',\n",
    "        name='Prezzi Bitcoin',\n",
    "        line=dict(color='blue', width=2),\n",
    "        hoverinfo='x+y'\n",
    "    ))\n",
    "\n",
    "    # Scatter plot per le vendite\n",
    "    fig.add_trace(go.Scatter(\n",
    "        x=vendite['timestamp'],\n",
    "        y=vendite['prezzo'],\n",
    "        mode='markers',\n",
    "        name='Vendite',\n",
    "        marker=dict(color='red', size=dimensioni_vendite, opacity=0.7),\n",
    "        text=crea_hover_text(vendite),\n",
    "        hoverinfo='text'\n",
    "    ))\n",
    "\n",
    "    # Scatter plot per gli acquisti\n",
    "    fig.add_trace(go.Scatter(\n",
    "        x=acquisti['timestamp'],\n",
    "        y=acquisti['prezzo'],\n",
    "        mode='markers',\n",
    "        name='Acquisti',\n",
    "        marker=dict(color='green', size=dimensioni_acquisti, opacity=0.7),\n",
    "        text=crea_hover_text(acquisti),\n",
    "        hoverinfo='text'\n",
    "    ))\n",
    "\n",
    "    # Configurazione del layout\n",
    "    fig.update_layout(\n",
    "        title='Andamento Prezzi Bitcoin, Transazioni di Vendita e Acquisto',\n",
    "        xaxis_title='Data',\n",
    "        yaxis_title='Prezzo (€)',\n",
    "        hovermode='closest',\n",
    "        template='plotly_white',\n",
    "        legend=dict(yanchor=\"top\", y=0.99, xanchor=\"left\", x=0.01),\n",
    "        width=1200,\n",
    "        height=800,\n",
    "        xaxis=dict(\n",
    "            rangeslider=dict(visible=True),  # Abilita il range slider\n",
    "            type=\"date\"  # Imposta l'asse x come asse temporale\n",
    "        )\n",
    "    )\n",
    "\n",
    "    # Mostra il grafico\n",
    "    fig.show()"
   ]
  },
  {
   "cell_type": "code",
   "execution_count": 108,
   "metadata": {},
   "outputs": [
    {
     "data": {
      "application/vnd.plotly.v1+json": {
       "config": {
        "plotlyServerURL": "https://plot.ly"
       },
       "data": [
        {
         "hoverinfo": "x+y",
         "line": {
          "color": "blue",
          "width": 2
         },
         "mode": "lines",
         "name": "Prezzi Bitcoin",
         "type": "scatter",
         "x": [
          "2021-05-01T00:00:00",
          "2021-05-02T00:00:00",
          "2021-05-03T00:00:00",
          "2021-05-04T00:00:00",
          "2021-05-05T00:00:00",
          "2021-05-06T00:00:00",
          "2021-05-07T00:00:00",
          "2021-05-08T00:00:00",
          "2021-05-09T00:00:00",
          "2021-05-10T00:00:00",
          "2021-05-11T00:00:00",
          "2021-05-12T00:00:00",
          "2021-05-13T00:00:00",
          "2021-05-14T00:00:00",
          "2021-05-15T00:00:00",
          "2021-05-16T00:00:00",
          "2021-05-17T00:00:00",
          "2021-05-18T00:00:00",
          "2021-05-19T00:00:00",
          "2021-05-20T00:00:00",
          "2021-05-21T00:00:00",
          "2021-05-22T00:00:00",
          "2021-05-23T00:00:00",
          "2021-05-24T00:00:00",
          "2021-05-25T00:00:00",
          "2021-05-26T00:00:00",
          "2021-05-27T00:00:00",
          "2021-05-28T00:00:00",
          "2021-05-29T00:00:00",
          "2021-05-30T00:00:00",
          "2021-05-31T00:00:00",
          "2021-06-01T00:00:00",
          "2021-06-02T00:00:00",
          "2021-06-03T00:00:00",
          "2021-06-04T00:00:00",
          "2021-06-05T00:00:00",
          "2021-06-06T00:00:00",
          "2021-06-07T00:00:00",
          "2021-06-08T00:00:00",
          "2021-06-09T00:00:00",
          "2021-06-10T00:00:00",
          "2021-06-11T00:00:00",
          "2021-06-12T00:00:00",
          "2021-06-13T00:00:00",
          "2021-06-14T00:00:00",
          "2021-06-15T00:00:00",
          "2021-06-16T00:00:00",
          "2021-06-17T00:00:00",
          "2021-06-18T00:00:00",
          "2021-06-19T00:00:00",
          "2021-06-20T00:00:00",
          "2021-06-21T00:00:00",
          "2021-06-22T00:00:00",
          "2021-06-23T00:00:00",
          "2021-06-24T00:00:00",
          "2021-06-25T00:00:00",
          "2021-06-26T00:00:00",
          "2021-06-27T00:00:00",
          "2021-06-28T00:00:00",
          "2021-06-29T00:00:00",
          "2021-06-30T00:00:00",
          "2021-07-01T00:00:00",
          "2021-07-02T00:00:00",
          "2021-07-03T00:00:00",
          "2021-07-04T00:00:00",
          "2021-07-05T00:00:00",
          "2021-07-06T00:00:00",
          "2021-07-07T00:00:00",
          "2021-07-08T00:00:00",
          "2021-07-09T00:00:00",
          "2021-07-10T00:00:00",
          "2021-07-11T00:00:00",
          "2021-07-12T00:00:00",
          "2021-07-13T00:00:00",
          "2021-07-14T00:00:00",
          "2021-07-15T00:00:00",
          "2021-07-16T00:00:00",
          "2021-07-17T00:00:00",
          "2021-07-18T00:00:00",
          "2021-07-19T00:00:00",
          "2021-07-20T00:00:00",
          "2021-07-21T00:00:00",
          "2021-07-22T00:00:00",
          "2021-07-23T00:00:00",
          "2021-07-24T00:00:00",
          "2021-07-25T00:00:00",
          "2021-07-26T00:00:00",
          "2021-07-27T00:00:00",
          "2021-07-28T00:00:00",
          "2021-07-29T00:00:00",
          "2021-07-30T00:00:00",
          "2021-07-31T00:00:00"
         ],
         "y": [
          48110.046875,
          47088.5703125,
          47432.76953125,
          44387.26171875,
          47823.05859375,
          46742.55859375,
          47155.5078125,
          48345.46484375,
          47846.5234375,
          46010.484375,
          46692.53125,
          40695.51171875,
          41166.6953125,
          41072.77734375,
          38498.73828125,
          38235.890625,
          35814.0859375,
          35106.796875,
          30403.203125,
          33359.13671875,
          30627.822265625,
          30818.25,
          28545.537109375,
          31689.203125,
          31356.951171875,
          32229.533203125,
          31524.041015625,
          29278.3203125,
          28391.1640625,
          29269.517578125,
          30519.30859375,
          30026.794921875,
          30775.01171875,
          32321.55078125,
          30322.69921875,
          29221.080078125,
          29474.392578125,
          27526.4921875,
          27497.93359375,
          30664.52734375,
          30150.48828125,
          30832.0546875,
          29360.513671875,
          32286.505859375,
          33178.515625,
          33325.59375,
          31969.333984375,
          31943.0625,
          30165.85546875,
          30019.2265625,
          30071.78125,
          26591.064453125,
          27232.396484375,
          28266.576171875,
          29059.703125,
          26502.841796875,
          26965.501953125,
          29013.7421875,
          28866.302734375,
          30139.98046875,
          29555.0546875,
          28341.4140625,
          28569.314453125,
          29219.5546875,
          29764.078125,
          28444.033203125,
          28957.701171875,
          28707.89453125,
          27752.7109375,
          28454.8828125,
          28223.0703125,
          28840.88671875,
          27948.556640625,
          27772.1953125,
          27737.478515625,
          26906.45703125,
          26616.2421875,
          26710.71484375,
          26917.8125,
          26134.5390625,
          25299.8515625,
          27227.458984375,
          27447.947265625,
          28527.830078125,
          29132.255859375,
          30026.51953125,
          31628.84765625,
          33336.06640625,
          33764.22265625,
          33643.08203125,
          35590.078125,
          35077.26953125
         ]
        },
        {
         "hoverinfo": "text",
         "marker": {
          "color": "red",
          "opacity": 0.7,
          "size": [
           11.71535047340642,
           10.497756402360245,
           10.473030797227088,
           12.08567602358798,
           10.54344987040071,
           50,
           21.702249740568774,
           10.75132829476302,
           10.771702189302442,
           24.204356309620856,
           10.857210130751737,
           10.787146472824382,
           13.5590400362922,
           10.79986546891322,
           13.401912759891289,
           10.806766464131602,
           28.422105549103577,
           10.680745380031217
          ]
         },
         "mode": "markers",
         "name": "Vendite",
         "text": [
          "timestamp: 2021-05-03 00:00:00<br>prezzo: 47432.76953125<br>azione: Vendita<br>bitcoin_comprati_o_venduti: 0.0007755950365668202<br>liquidità_spesa_o_guadagnata: 36.751831998436344<br>liquidità: 999.9812915241522<br>bitcoin: 0.0<br>Max liquidità: 1000.0<br>Max bitcoin: 0.0007755950365668202<br>prezzo Medio Pesato Acquisto: 47366.36785078051<br>prezzo Medio Pesato Vendita: 47432.76953125<br>valore_totale_portafoglio: 999.9812915241522",
          "timestamp: 2021-05-05 00:00:00<br>prezzo: 47823.05859375<br>azione: Vendita<br>bitcoin_comprati_o_venduti: 0.00022506036001104343<br>liquidità_spesa_o_guadagnata: 10.752311709154661<br>liquidità: 1000.7337903180654<br>bitcoin: 0.0<br>Max liquidità: 1000.7337903180654<br>Max bitcoin: 0.00022506036001104343<br>prezzo Medio Pesato Acquisto: 44387.26171875<br>prezzo Medio Pesato Vendita: 47823.05859375<br>valore_totale_portafoglio: 1000.7337903180654",
          "timestamp: 2021-05-07 00:00:00<br>prezzo: 47155.5078125<br>azione: Vendita<br>bitcoin_comprati_o_venduti: 0.00021388068745158994<br>liquidità_spesa_o_guadagnata: 10.075566775638254<br>liquidità: 1000.802019190523<br>bitcoin: 0.0<br>Max liquidità: 1000.802019190523<br>Max bitcoin: 0.00021388068745158994<br>prezzo Medio Pesato Acquisto: 46742.55859375<br>prezzo Medio Pesato Vendita: 47155.5078125<br>valore_totale_portafoglio: 1000.802019190523",
          "timestamp: 2021-05-11 00:00:00<br>prezzo: 46692.53125<br>azione: Vendita<br>bitcoin_comprati_o_venduti: 0.0009430375872802699<br>liquidità_spesa_o_guadagnata: 43.988779201994596<br>liquidità: 1000.9737063022468<br>bitcoin: 0.0<br>Max liquidità: 1000.9737063022468<br>Max bitcoin: 0.0009430375872802699<br>prezzo Medio Pesato Acquisto: 46429.84392475676<br>prezzo Medio Pesato Vendita: 46692.53125<br>valore_totale_portafoglio: 1000.9737063022468",
          "timestamp: 2021-05-13 00:00:00<br>prezzo: 41166.6953125<br>azione: Vendita<br>bitcoin_comprati_o_venduti: 0.00024572064347214444<br>liquidità_spesa_o_guadagnata: 10.105391354947404<br>liquidità: 1001.0693605941717<br>bitcoin: 0.0<br>Max liquidità: 1001.0693605941717<br>Max bitcoin: 0.00024572064347214444<br>prezzo Medio Pesato Acquisto: 40695.51171875<br>prezzo Medio Pesato Vendita: 41166.6953125<br>valore_totale_portafoglio: 1001.0693605941717",
          "timestamp: 2021-06-03 00:00:00<br>prezzo: 32321.55078125<br>azione: Vendita<br>bitcoin_comprati_o_venduti: 0.018085984143557745<br>liquidità_spesa_o_guadagnata: 583.9824878699591<br>liquidità: 1011.7951252775124<br>bitcoin: 0.0<br>Max liquidità: 1011.7951252775124<br>Max bitcoin: 0.018085984143557745<br>prezzo Medio Pesato Acquisto: 32132.839383453676<br>prezzo Medio Pesato Vendita: 32321.55078125<br>valore_totale_portafoglio: 1011.7951252775124",
          "timestamp: 2021-06-09 00:00:00<br>prezzo: 30664.52734375<br>azione: Vendita<br>bitcoin_comprati_o_venduti: 0.005291167581296989<br>liquidità_spesa_o_guadagnata: 162.08890182406805<br>liquidità: 1025.2759272522605<br>bitcoin: 0.0<br>Max liquidità: 1025.2759272522605<br>Max bitcoin: 0.005291167581296989<br>prezzo Medio Pesato Acquisto: 28087.566427607253<br>prezzo Medio Pesato Vendita: 30664.52734375<br>valore_totale_portafoglio: 1025.2759272522605",
          "timestamp: 2021-06-11 00:00:00<br>prezzo: 30832.0546875<br>azione: Vendita<br>bitcoin_comprati_o_venduti: 0.0003397127906422563<br>liquidità_spesa_o_guadagnata: 10.46356929578616<br>liquidità: 1025.486737275524<br>bitcoin: 0.0<br>Max liquidità: 1025.486737275524<br>Max bitcoin: 0.0003397127906422563<br>prezzo Medio Pesato Acquisto: 30150.48828125<br>prezzo Medio Pesato Vendita: 30832.0546875<br>valore_totale_portafoglio: 1025.486737275524",
          "timestamp: 2021-06-13 00:00:00<br>prezzo: 32286.505859375<br>azione: Vendita<br>bitcoin_comprati_o_venduti: 0.0003489248389818192<br>liquidità_spesa_o_guadagnata: 11.254298294409717<br>liquidità: 1026.4861681971786<br>bitcoin: 0.0<br>Max liquidità: 1026.4861681971786<br>Max bitcoin: 0.0003489248389818192<br>prezzo Medio Pesato Acquisto: 29360.513671875<br>prezzo Medio Pesato Vendita: 32286.505859375<br>valore_totale_portafoglio: 1026.4861681971786",
          "timestamp: 2021-06-24 00:00:00<br>prezzo: 29059.703125<br>azione: Vendita<br>bitcoin_comprati_o_venduti: 0.006422494074631179<br>liquidità_spesa_o_guadagnata: 186.4491353597228<br>liquidità: 1028.2445240907155<br>bitcoin: 0.0<br>Max liquidità: 1028.2445240907155<br>Max bitcoin: 0.006422494074631179<br>prezzo Medio Pesato Acquisto: 28869.453697139397<br>prezzo Medio Pesato Vendita: 29059.703125<br>valore_totale_portafoglio: 1028.2445240907155",
          "timestamp: 2021-06-26 00:00:00<br>prezzo: 26965.501953125<br>azione: Vendita<br>bitcoin_comprati_o_venduti: 0.00038758722081182466<br>liquidità_spesa_o_guadagnata: 10.441032475847742<br>liquidità: 1028.403111325656<br>bitcoin: 0.0<br>Max liquidità: 1028.403111325656<br>Max bitcoin: 0.00038758722081182466<br>prezzo Medio Pesato Acquisto: 26502.841796875<br>prezzo Medio Pesato Vendita: 26965.501953125<br>valore_totale_portafoglio: 1028.403111325656",
          "timestamp: 2021-06-29 00:00:00<br>prezzo: 30139.98046875<br>azione: Vendita<br>bitcoin_comprati_o_venduti: 0.00035590796565397923<br>liquidità_spesa_o_guadagnata: 10.716332074349996<br>liquidità: 1028.8354122867495<br>bitcoin: 0.0<br>Max liquidità: 1028.8354122867495<br>Max bitcoin: 0.00035590796565397923<br>prezzo Medio Pesato Acquisto: 28866.302734375<br>prezzo Medio Pesato Vendita: 30139.98046875<br>valore_totale_portafoglio: 1028.8354122867495",
          "timestamp: 2021-07-03 00:00:00<br>prezzo: 29219.5546875<br>azione: Vendita<br>bitcoin_comprati_o_venduti: 0.0016092185415666979<br>liquidità_spesa_o_guadagnata: 46.973628530267675<br>liquidità: 1029.733380491375<br>bitcoin: 0.0<br>Max liquidità: 1029.733380491375<br>Max bitcoin: 0.0016092185415666979<br>prezzo Medio Pesato Acquisto: 28612.41103659978<br>prezzo Medio Pesato Vendita: 29219.5546875<br>valore_totale_portafoglio: 1029.733380491375",
          "timestamp: 2021-07-06 00:00:00<br>prezzo: 28957.701171875<br>azione: Vendita<br>bitcoin_comprati_o_venduti: 0.00036165885469359715<br>liquidità_spesa_o_guadagnata: 10.46233623133937<br>liquidità: 1029.8983829178007<br>bitcoin: 0.0<br>Max liquidità: 1029.8983829178007<br>Max bitcoin: 0.00036165885469359715<br>prezzo Medio Pesato Acquisto: 28444.033203125<br>prezzo Medio Pesato Vendita: 28957.701171875<br>valore_totale_portafoglio: 1029.8983829178007",
          "timestamp: 2021-07-09 00:00:00<br>prezzo: 28454.8828125<br>azione: Vendita<br>bitcoin_comprati_o_venduti: 0.0015381735058290153<br>liquidità_spesa_o_guadagnata: 43.72477830680326<br>liquidità: 1030.5492723282098<br>bitcoin: 0.0<br>Max liquidità: 1030.5492723282098<br>Max bitcoin: 0.0015381735058290153<br>prezzo Medio Pesato Acquisto: 27981.095711616625<br>prezzo Medio Pesato Vendita: 28454.8828125<br>valore_totale_portafoglio: 1030.5492723282098",
          "timestamp: 2021-07-11 00:00:00<br>prezzo: 28840.88671875<br>azione: Vendita<br>bitcoin_comprati_o_venduti: 0.0003647791369459572<br>liquidità_spesa_o_guadagnata: 10.510033212255724<br>liquidità: 1030.7538128171834<br>bitcoin: 0.0<br>Max liquidità: 1030.7538128171834<br>Max bitcoin: 0.0003647791369459572<br>prezzo Medio Pesato Acquisto: 28223.0703125<br>prezzo Medio Pesato Vendita: 28840.88671875<br>valore_totale_portafoglio: 1030.7538128171834",
          "timestamp: 2021-07-21 00:00:00<br>prezzo: 27227.458984375<br>azione: Vendita<br>bitcoin_comprati_o_venduti: 0.00832954772130086<br>liquidità_spesa_o_guadagnata: 226.56562652117333<br>liquidità: 1036.5664385109471<br>bitcoin: 0.0<br>Max liquidità: 1036.5664385109471<br>Max bitcoin: 0.00832954772130086<br>prezzo Medio Pesato Acquisto: 26505.488291320125<br>prezzo Medio Pesato Vendita: 27227.458984375<br>valore_totale_portafoglio: 1036.5664385109471",
          "timestamp: 2021-07-30 00:00:00<br>prezzo: 35590.078125<br>azione: Vendita<br>bitcoin_comprati_o_venduti: 0.00030779875372611974<br>liquidità_spesa_o_guadagnata: 10.943627110198346<br>liquidità: 1037.144401236036<br>bitcoin: 0.0<br>Max liquidità: 1037.144401236036<br>Max bitcoin: 0.00030779875372611974<br>prezzo Medio Pesato Acquisto: 33643.08203125<br>prezzo Medio Pesato Vendita: 35590.078125<br>valore_totale_portafoglio: 1037.144401236036"
         ],
         "type": "scatter",
         "x": [
          "2021-05-03T00:00:00",
          "2021-05-05T00:00:00",
          "2021-05-07T00:00:00",
          "2021-05-11T00:00:00",
          "2021-05-13T00:00:00",
          "2021-06-03T00:00:00",
          "2021-06-09T00:00:00",
          "2021-06-11T00:00:00",
          "2021-06-13T00:00:00",
          "2021-06-24T00:00:00",
          "2021-06-26T00:00:00",
          "2021-06-29T00:00:00",
          "2021-07-03T00:00:00",
          "2021-07-06T00:00:00",
          "2021-07-09T00:00:00",
          "2021-07-11T00:00:00",
          "2021-07-21T00:00:00",
          "2021-07-30T00:00:00"
         ],
         "y": [
          47432.76953125,
          47823.05859375,
          47155.5078125,
          46692.53125,
          41166.6953125,
          32321.55078125,
          30664.52734375,
          30832.0546875,
          32286.505859375,
          29059.703125,
          26965.501953125,
          30139.98046875,
          29219.5546875,
          28957.701171875,
          28454.8828125,
          28840.88671875,
          27227.458984375,
          35590.078125
         ]
        },
        {
         "hoverinfo": "text",
         "marker": {
          "color": "green",
          "opacity": 0.7,
          "size": [
           13.298071240622265,
           18.829114963415094,
           13.298009538736117,
           13.300491333366924,
           13.300716357048957,
           21.150472770013003,
           13.30128259337452,
           13.30159806804376,
           23.970620370386136,
           24.666776566785934,
           30.726860412498272,
           32.454258771615834,
           44.38949859474283,
           49.55453843944176,
           50,
           13.336972404079567,
           21.014382216307283,
           27.281363200132425,
           27.379292203137137,
           13.381433049373008,
           13.382128315847968,
           13.385424510227665,
           14.381610605958508,
           23.612418149987217,
           24.136543117037466,
           35.396338433342876,
           13.391223693230918,
           13.391746725229606,
           13.39317248459668,
           21.80290853667136,
           13.39613404770735,
           13.396678237464577,
           20.80939718163102,
           13.398824917109872,
           13.399499506214099,
           16.307884288223715,
           16.60449033199489,
           21.34457290634451,
           22.63698282241347,
           24.636866908870054,
           27.87561556693356,
           13.418669959847204,
           13.42057612208897
          ]
         },
         "mode": "markers",
         "name": "Acquisti",
         "text": [
          "timestamp: 2021-05-01 00:00:00<br>prezzo: 48110.046875<br>azione: Primo acquisto<br>bitcoin_comprati_o_venduti: 0.00020764893507495673<br>liquidità_spesa_o_guadagnata: 10.0<br>liquidità: 990.0<br>bitcoin: 0.00020764893507495673<br>Max liquidità: 1000.0<br>Max bitcoin: 0.00020764893507495673<br>prezzo Medio Pesato Acquisto: 48110.046875<br>prezzo Medio Pesato Vendita: nan<br>valore_totale_portafoglio: 999.99",
          "timestamp: 2021-05-02 00:00:00<br>prezzo: 47088.5703125<br>azione: Acquisto<br>bitcoin_comprati_o_venduti: 0.0005679461014918635<br>liquidità_spesa_o_guadagnata: 26.770540474284154<br>liquidità: 963.2294595257158<br>bitcoin: 0.0007755950365668202<br>Max liquidità: 1000.0<br>Max bitcoin: 0.0007755950365668202<br>prezzo Medio Pesato Acquisto: 47366.36785078051<br>prezzo Medio Pesato Vendita: nan<br>valore_totale_portafoglio: 999.7511209391186",
          "timestamp: 2021-05-04 00:00:00<br>prezzo: 44387.26171875<br>azione: Primo acquisto<br>bitcoin_comprati_o_venduti: 0.00022506036001104343<br>liquidità_spesa_o_guadagnata: 9.999812915241522<br>liquidità: 989.9814786089107<br>bitcoin: 0.00022506036001104343<br>Max liquidità: 999.9812915241522<br>Max bitcoin: 0.00022506036001104343<br>prezzo Medio Pesato Acquisto: 44387.26171875<br>prezzo Medio Pesato Vendita: nan<br>valore_totale_portafoglio: 999.971291711237",
          "timestamp: 2021-05-06 00:00:00<br>prezzo: 46742.55859375<br>azione: Primo acquisto<br>bitcoin_comprati_o_venduti: 0.00021388068745158994<br>liquidità_spesa_o_guadagnata: 10.007337903180654<br>liquidità: 990.7264524148848<br>bitcoin: 0.00021388068745158994<br>Max liquidità: 1000.7337903180654<br>Max bitcoin: 0.00021388068745158994<br>prezzo Medio Pesato Acquisto: 46742.55859375<br>prezzo Medio Pesato Vendita: nan<br>valore_totale_portafoglio: 1000.7237829801622",
          "timestamp: 2021-05-09 00:00:00<br>prezzo: 47846.5234375<br>azione: Primo acquisto<br>bitcoin_comprati_o_venduti: 0.00020896005505548023<br>liquidità_spesa_o_guadagnata: 10.00802019190523<br>liquidità: 990.7939989986178<br>bitcoin: 0.00020896005505548023<br>Max liquidità: 1000.802019190523<br>Max bitcoin: 0.00020896005505548023<br>prezzo Medio Pesato Acquisto: 47846.5234375<br>prezzo Medio Pesato Vendita: nan<br>valore_totale_portafoglio: 1000.7920111703311",
          "timestamp: 2021-05-10 00:00:00<br>prezzo: 46010.484375<br>azione: Acquisto<br>bitcoin_comprati_o_venduti: 0.0007340775322247896<br>liquidità_spesa_o_guadagnata: 33.80907189836561<br>liquidità: 956.9849271002522<br>bitcoin: 0.0009430375872802699<br>Max liquidità: 1000.802019190523<br>Max bitcoin: 0.0009430375872802699<br>prezzo Medio Pesato Acquisto: 46429.84392475676<br>prezzo Medio Pesato Vendita: nan<br>valore_totale_portafoglio: 1000.3745432748487",
          "timestamp: 2021-05-12 00:00:00<br>prezzo: 40695.51171875<br>azione: Primo acquisto<br>bitcoin_comprati_o_venduti: 0.00024572064347214444<br>liquidità_spesa_o_guadagnata: 10.009737063022468<br>liquidità: 990.9639692392243<br>bitcoin: 0.00024572064347214444<br>Max liquidità: 1000.9737063022468<br>Max bitcoin: 0.00024572064347214444<br>prezzo Medio Pesato Acquisto: 40695.51171875<br>prezzo Medio Pesato Vendita: nan<br>valore_totale_portafoglio: 1000.9636965651838",
          "timestamp: 2021-05-14 00:00:00<br>prezzo: 41072.77734375<br>azione: Primo acquisto<br>bitcoin_comprati_o_venduti: 0.00024348689227020508<br>liquidità_spesa_o_guadagnata: 10.010693605941718<br>liquidità: 991.05866698823<br>bitcoin: 0.00024348689227020508<br>Max liquidità: 1001.0693605941717<br>Max bitcoin: 0.00024348689227020508<br>prezzo Medio Pesato Acquisto: 41072.77734375<br>prezzo Medio Pesato Vendita: nan<br>valore_totale_portafoglio: 1001.0593499005658",
          "timestamp: 2021-05-15 00:00:00<br>prezzo: 38498.73828125<br>azione: Acquisto<br>bitcoin_comprati_o_venduti: 0.0010991947632941835<br>liquidità_spesa_o_guadagnata: 42.35997148366698<br>liquidità: 948.698695504563<br>bitcoin: 0.0013426816555643884<br>Max liquidità: 1001.0693605941717<br>Max bitcoin: 0.0013426816555643884<br>prezzo Medio Pesato Acquisto: 38990.7678619384<br>prezzo Medio Pesato Vendita: nan<br>valore_totale_portafoglio: 1000.3902451571719",
          "timestamp: 2021-05-16 00:00:00<br>prezzo: 38235.890625<br>azione: Acquisto<br>bitcoin_comprati_o_venduti: 0.001161900453291472<br>liquidità_spesa_o_guadagnata: 44.47076941860926<br>liquidità: 904.2279260859538<br>bitcoin: 0.0025045821088558605<br>Max liquidità: 1001.0693605941717<br>Max bitcoin: 0.0025045821088558605<br>prezzo Medio Pesato Acquisto: 38644.11901567006<br>prezzo Medio Pesato Vendita: nan<br>valore_totale_portafoglio: 999.9928536614983",
          "timestamp: 2021-05-17 00:00:00<br>prezzo: 35814.0859375<br>azione: Acquisto<br>bitcoin_comprati_o_venduti: 0.0017530128798202073<br>liquidità_spesa_o_guadagnata: 62.845399326752016<br>liquidità: 841.3825267592017<br>bitcoin: 0.004257594988676068<br>Max liquidità: 1001.0693605941717<br>Max bitcoin: 0.004257594988676068<br>prezzo Medio Pesato Acquisto: 37530.348051375535<br>prezzo Medio Pesato Vendita: nan<br>valore_totale_portafoglio: 993.8643995707157",
          "timestamp: 2021-05-18 00:00:00<br>prezzo: 35106.796875<br>azione: Acquisto<br>bitcoin_comprati_o_venduti: 0.0019373717939698866<br>liquidità_spesa_o_guadagnata: 68.08300104329845<br>liquidità: 773.2995257159032<br>bitcoin: 0.006194966782645955<br>Max liquidità: 1001.0693605941717<br>Max bitcoin: 0.006194966782645955<br>prezzo Medio Pesato Acquisto: 36805.9209675264<br>prezzo Medio Pesato Vendita: nan<br>valore_totale_portafoglio: 990.784966201627",
          "timestamp: 2021-05-19 00:00:00<br>prezzo: 30403.203125<br>azione: Acquisto<br>bitcoin_comprati_o_venduti: 0.0034261940652543983<br>liquidità_spesa_o_guadagnata: 104.27154565725624<br>liquidità: 669.027980058647<br>bitcoin: 0.009621160847900352<br>Max liquidità: 1001.0693605941717<br>Max bitcoin: 0.009621160847900352<br>prezzo Medio Pesato Acquisto: 34795.26408864352<br>prezzo Medio Pesato Vendita: nan<br>valore_totale_portafoglio: 961.5420876156586",
          "timestamp: 2021-05-23 00:00:00<br>prezzo: 28545.537109375<br>azione: Acquisto<br>bitcoin_comprati_o_venduti: 0.004197237629741469<br>liquidità_spesa_o_guadagnata: 119.93233485150179<br>liquidità: 549.0956452071453<br>bitcoin: 0.013818398477641821<br>Max liquidità: 1001.0693605941717<br>Max bitcoin: 0.013818398477641821<br>prezzo Medio Pesato Acquisto: 33136.883693300704<br>prezzo Medio Pesato Vendita: nan<br>valore_totale_portafoglio: 943.5492517428008",
          "timestamp: 2021-05-29 00:00:00<br>prezzo: 28391.1640625<br>azione: Acquisto<br>bitcoin_comprati_o_venduti: 0.004267585665915924<br>liquidità_spesa_o_guadagnata: 121.2830077995919<br>liquidità: 427.8126374075533<br>bitcoin: 0.018085984143557745<br>Max liquidità: 1001.0693605941717<br>Max bitcoin: 0.018085984143557745<br>prezzo Medio Pesato Acquisto: 32132.839383453676<br>prezzo Medio Pesato Vendita: nan<br>valore_totale_portafoglio: 941.2947804590748",
          "timestamp: 2021-06-04 00:00:00<br>prezzo: 30322.69921875<br>azione: Primo acquisto<br>bitcoin_comprati_o_venduti: 0.0003333421351642793<br>liquidità_spesa_o_guadagnata: 10.117951252775125<br>liquidità: 1001.6771740247373<br>bitcoin: 0.0003333421351642793<br>Max liquidità: 1011.7951252775124<br>Max bitcoin: 0.0003333421351642793<br>prezzo Medio Pesato Acquisto: 30322.69921875<br>prezzo Medio Pesato Vendita: nan<br>valore_totale_portafoglio: 1011.7850073262596",
          "timestamp: 2021-06-05 00:00:00<br>prezzo: 29221.080078125<br>azione: Acquisto<br>bitcoin_comprati_o_venduti: 0.001141745567990539<br>liquidità_spesa_o_guadagnata: 33.396435106202055<br>liquidità: 968.2807389185352<br>bitcoin: 0.0014750877031548182<br>Max liquidità: 1011.7951252775124<br>Max bitcoin: 0.0014750877031548182<br>prezzo Medio Pesato Acquisto: 29477.228209734083<br>prezzo Medio Pesato Vendita: nan<br>valore_totale_portafoglio: 1011.3843948146797",
          "timestamp: 2021-06-07 00:00:00<br>prezzo: 27526.4921875<br>azione: Acquisto<br>bitcoin_comprati_o_venduti: 0.0019016587346282732<br>liquidità_spesa_o_guadagnata: 52.39839269473103<br>liquidità: 915.8823462238042<br>bitcoin: 0.0033767464377830914<br>Max liquidità: 1011.7951252775124<br>Max bitcoin: 0.0033767464377830914<br>prezzo Medio Pesato Acquisto: 28411.51587040606<br>prezzo Medio Pesato Vendita: nan<br>valore_totale_portafoglio: 1008.8323306626089",
          "timestamp: 2021-06-08 00:00:00<br>prezzo: 27497.93359375<br>azione: Acquisto<br>bitcoin_comprati_o_venduti: 0.0019144211435138975<br>liquidità_spesa_o_guadagnata: 52.69532079561171<br>liquidità: 863.1870254281926<br>bitcoin: 0.005291167581296989<br>Max liquidità: 1011.7951252775124<br>Max bitcoin: 0.005291167581296989<br>prezzo Medio Pesato Acquisto: 28087.566427607253<br>prezzo Medio Pesato Vendita: nan<br>valore_totale_portafoglio: 1008.6832002121",
          "timestamp: 2021-06-10 00:00:00<br>prezzo: 30150.48828125<br>azione: Primo acquisto<br>bitcoin_comprati_o_venduti: 0.0003397127906422563<br>liquidità_spesa_o_guadagnata: 10.252759272522606<br>liquidità: 1015.023167979738<br>bitcoin: 0.0003397127906422563<br>Max liquidità: 1025.2759272522605<br>Max bitcoin: 0.0003397127906422563<br>prezzo Medio Pesato Acquisto: 30150.48828125<br>prezzo Medio Pesato Vendita: nan<br>valore_totale_portafoglio: 1025.2656744929882",
          "timestamp: 2021-06-12 00:00:00<br>prezzo: 29360.513671875<br>azione: Primo acquisto<br>bitcoin_comprati_o_venduti: 0.0003489248389818192<br>liquidità_spesa_o_guadagnata: 10.25486737275524<br>liquidità: 1015.2318699027688<br>bitcoin: 0.0003489248389818192<br>Max liquidità: 1025.486737275524<br>Max bitcoin: 0.0003489248389818192<br>prezzo Medio Pesato Acquisto: 29360.513671875<br>prezzo Medio Pesato Vendita: nan<br>valore_totale_portafoglio: 1025.4764824081512",
          "timestamp: 2021-06-16 00:00:00<br>prezzo: 31969.333984375<br>azione: Primo acquisto<br>bitcoin_comprati_o_venduti: 0.00032076354250300444<br>liquidità_spesa_o_guadagnata: 10.264861681971786<br>liquidità: 1016.2213065152068<br>bitcoin: 0.00032076354250300444<br>Max liquidità: 1026.4861681971786<br>Max bitcoin: 0.00032076354250300444<br>prezzo Medio Pesato Acquisto: 31969.333984375<br>prezzo Medio Pesato Vendita: nan<br>valore_totale_portafoglio: 1026.4759033354967",
          "timestamp: 2021-06-17 00:00:00<br>prezzo: 31943.0625<br>azione: Acquisto<br>bitcoin_comprati_o_venduti: 0.0004154920167594631<br>liquidità_spesa_o_guadagnata: 13.285372832431008<br>liquidità: 1002.9359336827758<br>bitcoin: 0.0007362555592624676<br>Max liquidità: 1026.4861681971786<br>Max bitcoin: 0.0007362555592624676<br>prezzo Medio Pesato Acquisto: 31954.51347528114<br>prezzo Medio Pesato Vendita: nan<br>valore_totale_portafoglio: 1026.4541910282694",
          "timestamp: 2021-06-18 00:00:00<br>prezzo: 30165.85546875<br>azione: Acquisto<br>bitcoin_comprati_o_venduti: 0.0013668633261106494<br>liquidità_spesa_o_guadagnata: 41.273875416405154<br>liquidità: 961.6620582663707<br>bitcoin: 0.002103118885373117<br>Max liquidità: 1026.4861681971786<br>Max bitcoin: 0.002103118885373117<br>prezzo Medio Pesato Acquisto: 30815.664861656962<br>prezzo Medio Pesato Vendita: nan<br>valore_totale_portafoglio: 1025.1044385961347",
          "timestamp: 2021-06-19 00:00:00<br>prezzo: 30019.2265625<br>azione: Acquisto<br>bitcoin_comprati_o_venduti: 0.0014264257800644321<br>liquidità_spesa_o_guadagnata: 42.863061728073056<br>liquidità: 918.7989965382976<br>bitcoin: 0.003529544665437549<br>Max liquidità: 1026.4861681971786<br>Max bitcoin: 0.003529544665437549<br>prezzo Medio Pesato Acquisto: 30498.6560345749<br>prezzo Medio Pesato Vendita: nan<br>valore_totale_portafoglio: 1024.7531975125307",
          "timestamp: 2021-06-21 00:00:00<br>prezzo: 26591.064453125<br>azione: Acquisto<br>bitcoin_comprati_o_venduti: 0.002892949409193629<br>liquidità_spesa_o_guadagnata: 77.00360780730499<br>liquidità: 841.7953887309926<br>bitcoin: 0.006422494074631179<br>Max liquidità: 1026.4861681971786<br>Max bitcoin: 0.006422494074631179<br>prezzo Medio Pesato Acquisto: 28869.453697139397<br>prezzo Medio Pesato Vendita: nan<br>valore_totale_portafoglio: 1012.5763426193237",
          "timestamp: 2021-06-25 00:00:00<br>prezzo: 26502.841796875<br>azione: Primo acquisto<br>bitcoin_comprati_o_venduti: 0.00038758722081182466<br>liquidità_spesa_o_guadagnata: 10.282445240907155<br>liquidità: 1017.9620788498083<br>bitcoin: 0.00038758722081182466<br>Max liquidità: 1028.2445240907155<br>Max bitcoin: 0.00038758722081182466<br>prezzo Medio Pesato Acquisto: 26502.841796875<br>prezzo Medio Pesato Vendita: nan<br>valore_totale_portafoglio: 1028.2342416454746",
          "timestamp: 2021-06-28 00:00:00<br>prezzo: 28866.302734375<br>azione: Primo acquisto<br>bitcoin_comprati_o_venduti: 0.00035590796565397923<br>liquidità_spesa_o_guadagnata: 10.28403111325656<br>liquidità: 1018.1190802123995<br>bitcoin: 0.00035590796565397923<br>Max liquidità: 1028.403111325656<br>Max bitcoin: 0.00035590796565397923<br>prezzo Medio Pesato Acquisto: 28866.302734375<br>prezzo Medio Pesato Vendita: nan<br>valore_totale_portafoglio: 1028.3928272945427",
          "timestamp: 2021-06-30 00:00:00<br>prezzo: 29555.0546875<br>azione: Primo acquisto<br>bitcoin_comprati_o_venduti: 0.00034775999832920723<br>liquidità_spesa_o_guadagnata: 10.288354122867496<br>liquidità: 1018.547058163882<br>bitcoin: 0.00034775999832920723<br>Max liquidità: 1028.8354122867495<br>Max bitcoin: 0.00034775999832920723<br>prezzo Medio Pesato Acquisto: 29555.0546875<br>prezzo Medio Pesato Vendita: nan<br>valore_totale_portafoglio: 1028.8251239326266",
          "timestamp: 2021-07-01 00:00:00<br>prezzo: 28341.4140625<br>azione: Acquisto<br>bitcoin_comprati_o_venduti: 0.0012614585432374906<br>liquidità_spesa_o_guadagnata: 35.78730620277456<br>liquidità: 982.7597519611074<br>bitcoin: 0.0016092185415666979<br>Max liquidità: 1028.8354122867495<br>Max bitcoin: 0.0016092185415666979<br>prezzo Medio Pesato Acquisto: 28612.41103659978<br>prezzo Medio Pesato Vendita: nan<br>valore_totale_portafoglio: 1028.3672809647016",
          "timestamp: 2021-07-05 00:00:00<br>prezzo: 28444.033203125<br>azione: Primo acquisto<br>bitcoin_comprati_o_venduti: 0.00036165885469359715<br>liquidità_spesa_o_guadagnata: 10.297333804913752<br>liquidità: 1019.4360466864614<br>bitcoin: 0.00036165885469359715<br>Max liquidità: 1029.733380491375<br>Max bitcoin: 0.00036165885469359715<br>prezzo Medio Pesato Acquisto: 28444.033203125<br>prezzo Medio Pesato Vendita: nan<br>valore_totale_portafoglio: 1029.7230831575703",
          "timestamp: 2021-07-07 00:00:00<br>prezzo: 28707.89453125<br>azione: Primo acquisto<br>bitcoin_comprati_o_venduti: 0.00035839217794774445<br>liquidità_spesa_o_guadagnata: 10.298983829178008<br>liquidità: 1019.5993990886227<br>bitcoin: 0.00035839217794774445<br>Max liquidità: 1029.8983829178007<br>Max bitcoin: 0.00035839217794774445<br>prezzo Medio Pesato Acquisto: 28707.89453125<br>prezzo Medio Pesato Vendita: nan<br>valore_totale_portafoglio: 1029.8880839339715",
          "timestamp: 2021-07-08 00:00:00<br>prezzo: 27752.7109375<br>azione: Acquisto<br>bitcoin_comprati_o_venduti: 0.001179781327881271<br>liquidità_spesa_o_guadagnata: 32.77490506721604<br>liquidità: 986.8244940214066<br>bitcoin: 0.0015381735058290153<br>Max liquidità: 1029.8983829178007<br>Max bitcoin: 0.0015381735058290153<br>prezzo Medio Pesato Acquisto: 27981.095711616625<br>prezzo Medio Pesato Vendita: nan<br>valore_totale_portafoglio: 1029.5129787004003",
          "timestamp: 2021-07-10 00:00:00<br>prezzo: 28223.0703125<br>azione: Primo acquisto<br>bitcoin_comprati_o_venduti: 0.0003647791369459572<br>liquidità_spesa_o_guadagnata: 10.305492723282098<br>liquidità: 1020.2437796049277<br>bitcoin: 0.0003647791369459572<br>Max liquidità: 1030.5492723282098<br>Max bitcoin: 0.0003647791369459572<br>prezzo Medio Pesato Acquisto: 28223.0703125<br>prezzo Medio Pesato Vendita: nan<br>valore_totale_portafoglio: 1030.5389668354865",
          "timestamp: 2021-07-12 00:00:00<br>prezzo: 27948.556640625<br>azione: Primo acquisto<br>bitcoin_comprati_o_venduti: 0.0003684351475623605<br>liquidità_spesa_o_guadagnata: 10.307538128171835<br>liquidità: 1020.4462746890116<br>bitcoin: 0.0003684351475623605<br>Max liquidità: 1030.7538128171834<br>Max bitcoin: 0.0003684351475623605<br>prezzo Medio Pesato Acquisto: 27948.556640625<br>prezzo Medio Pesato Vendita: nan<br>valore_totale_portafoglio: 1030.7435052790552",
          "timestamp: 2021-07-13 00:00:00<br>prezzo: 27772.1953125<br>azione: Acquisto<br>bitcoin_comprati_o_venduti: 0.0006879849896167912<br>liquidità_spesa_o_guadagnata: 19.125979483189<br>liquidità: 1001.3202952058226<br>bitcoin: 0.0010564201371791517<br>Max liquidità: 1030.7538128171834<br>Max bitcoin: 0.0010564201371791517<br>prezzo Medio Pesato Acquisto: 27833.956571823004<br>prezzo Medio Pesato Vendita: nan<br>valore_totale_portafoglio: 1030.65940158762",
          "timestamp: 2021-07-14 00:00:00<br>prezzo: 27737.478515625<br>azione: Acquisto<br>bitcoin_comprati_o_venduti: 0.0007212366469652648<br>liquidità_spesa_o_guadagnata: 20.025311311191636<br>liquidità: 981.294983894631<br>bitcoin: 0.0017776567841444164<br>Max liquidità: 1030.7538128171834<br>Max bitcoin: 0.0017776567841444164<br>prezzo Medio Pesato Acquisto: 27794.89371586479<br>prezzo Medio Pesato Vendita: nan<br>valore_totale_portafoglio: 1030.6027007529917",
          "timestamp: 2021-07-15 00:00:00<br>prezzo: 26906.45703125<br>azione: Acquisto<br>bitcoin_comprati_o_venduti: 0.001277135836541501<br>liquidità_spesa_o_guadagnata: 34.3975981070805<br>liquidità: 946.8973857875504<br>bitcoin: 0.0030547926206859173<br>Max liquidità: 1030.7538128171834<br>Max bitcoin: 0.0030547926206859173<br>prezzo Medio Pesato Acquisto: 27430.460253774072<br>prezzo Medio Pesato Vendita: nan<br>valore_totale_portafoglio: 1029.0910321754156",
          "timestamp: 2021-07-16 00:00:00<br>prezzo: 26616.2421875<br>azione: Acquisto<br>bitcoin_comprati_o_venduti: 0.001438143130932791<br>liquidità_spesa_o_guadagnata: 38.31628215535204<br>liquidità: 908.5811036321984<br>bitcoin: 0.004492935751618708<br>Max liquidità: 1030.7538128171834<br>Max bitcoin: 0.004492935751618708<br>prezzo Medio Pesato Acquisto: 27175.102004198834<br>prezzo Medio Pesato Vendita: nan<br>valore_totale_portafoglio: 1028.1661697301593",
          "timestamp: 2021-07-19 00:00:00<br>prezzo: 26134.5390625<br>azione: Acquisto<br>bitcoin_comprati_o_venduti: 0.0016964409014307688<br>liquidità_spesa_o_guadagnata: 44.38008108675189<br>liquidità: 864.2010225454464<br>bitcoin: 0.006189376653049477<br>Max liquidità: 1030.7538128171834<br>Max bitcoin: 0.006189376653049477<br>prezzo Medio Pesato Acquisto: 26897.83095005967<br>prezzo Medio Pesato Vendita: nan<br>valore_totale_portafoglio: 1025.9575284570935",
          "timestamp: 2021-07-20 00:00:00<br>prezzo: 25299.8515625<br>azione: Acquisto<br>bitcoin_comprati_o_venduti: 0.002140171068251384<br>liquidità_spesa_o_guadagnata: 54.20021055567274<br>liquidità: 810.0008119897738<br>bitcoin: 0.00832954772130086<br>Max liquidità: 1030.7538128171834<br>Max bitcoin: 0.00832954772130086<br>prezzo Medio Pesato Acquisto: 26505.488291320125<br>prezzo Medio Pesato Vendita: nan<br>valore_totale_portafoglio: 1020.7371329214457",
          "timestamp: 2021-07-29 00:00:00<br>prezzo: 33643.08203125<br>azione: Primo acquisto<br>bitcoin_comprati_o_venduti: 0.00030779875372611974<br>liquidità_spesa_o_guadagnata: 10.365664385109472<br>liquidità: 1026.2007741258376<br>bitcoin: 0.00030779875372611974<br>Max liquidità: 1036.5664385109471<br>Max bitcoin: 0.00030779875372611974<br>prezzo Medio Pesato Acquisto: 33643.08203125<br>prezzo Medio Pesato Vendita: nan<br>valore_totale_portafoglio: 1036.556072846562",
          "timestamp: 2021-07-31 00:00:00<br>prezzo: 35077.26953125<br>azione: Primo acquisto<br>bitcoin_comprati_o_venduti: 0.00029537853734930595<br>liquidità_spesa_o_guadagnata: 10.37144401236036<br>liquidità: 1026.7729572236756<br>bitcoin: 0.00029537853734930595<br>Max liquidità: 1037.144401236036<br>Max bitcoin: 0.00029537853734930595<br>prezzo Medio Pesato Acquisto: 35077.26953125<br>prezzo Medio Pesato Vendita: nan<br>valore_totale_portafoglio: 1037.1340297920235"
         ],
         "type": "scatter",
         "x": [
          "2021-05-01T00:00:00",
          "2021-05-02T00:00:00",
          "2021-05-04T00:00:00",
          "2021-05-06T00:00:00",
          "2021-05-09T00:00:00",
          "2021-05-10T00:00:00",
          "2021-05-12T00:00:00",
          "2021-05-14T00:00:00",
          "2021-05-15T00:00:00",
          "2021-05-16T00:00:00",
          "2021-05-17T00:00:00",
          "2021-05-18T00:00:00",
          "2021-05-19T00:00:00",
          "2021-05-23T00:00:00",
          "2021-05-29T00:00:00",
          "2021-06-04T00:00:00",
          "2021-06-05T00:00:00",
          "2021-06-07T00:00:00",
          "2021-06-08T00:00:00",
          "2021-06-10T00:00:00",
          "2021-06-12T00:00:00",
          "2021-06-16T00:00:00",
          "2021-06-17T00:00:00",
          "2021-06-18T00:00:00",
          "2021-06-19T00:00:00",
          "2021-06-21T00:00:00",
          "2021-06-25T00:00:00",
          "2021-06-28T00:00:00",
          "2021-06-30T00:00:00",
          "2021-07-01T00:00:00",
          "2021-07-05T00:00:00",
          "2021-07-07T00:00:00",
          "2021-07-08T00:00:00",
          "2021-07-10T00:00:00",
          "2021-07-12T00:00:00",
          "2021-07-13T00:00:00",
          "2021-07-14T00:00:00",
          "2021-07-15T00:00:00",
          "2021-07-16T00:00:00",
          "2021-07-19T00:00:00",
          "2021-07-20T00:00:00",
          "2021-07-29T00:00:00",
          "2021-07-31T00:00:00"
         ],
         "y": [
          48110.046875,
          47088.5703125,
          44387.26171875,
          46742.55859375,
          47846.5234375,
          46010.484375,
          40695.51171875,
          41072.77734375,
          38498.73828125,
          38235.890625,
          35814.0859375,
          35106.796875,
          30403.203125,
          28545.537109375,
          28391.1640625,
          30322.69921875,
          29221.080078125,
          27526.4921875,
          27497.93359375,
          30150.48828125,
          29360.513671875,
          31969.333984375,
          31943.0625,
          30165.85546875,
          30019.2265625,
          26591.064453125,
          26502.841796875,
          28866.302734375,
          29555.0546875,
          28341.4140625,
          28444.033203125,
          28707.89453125,
          27752.7109375,
          28223.0703125,
          27948.556640625,
          27772.1953125,
          27737.478515625,
          26906.45703125,
          26616.2421875,
          26134.5390625,
          25299.8515625,
          33643.08203125,
          35077.26953125
         ]
        }
       ],
       "layout": {
        "height": 800,
        "hovermode": "closest",
        "legend": {
         "x": 0.01,
         "xanchor": "left",
         "y": 0.99,
         "yanchor": "top"
        },
        "template": {
         "data": {
          "bar": [
           {
            "error_x": {
             "color": "#2a3f5f"
            },
            "error_y": {
             "color": "#2a3f5f"
            },
            "marker": {
             "line": {
              "color": "white",
              "width": 0.5
             },
             "pattern": {
              "fillmode": "overlay",
              "size": 10,
              "solidity": 0.2
             }
            },
            "type": "bar"
           }
          ],
          "barpolar": [
           {
            "marker": {
             "line": {
              "color": "white",
              "width": 0.5
             },
             "pattern": {
              "fillmode": "overlay",
              "size": 10,
              "solidity": 0.2
             }
            },
            "type": "barpolar"
           }
          ],
          "carpet": [
           {
            "aaxis": {
             "endlinecolor": "#2a3f5f",
             "gridcolor": "#C8D4E3",
             "linecolor": "#C8D4E3",
             "minorgridcolor": "#C8D4E3",
             "startlinecolor": "#2a3f5f"
            },
            "baxis": {
             "endlinecolor": "#2a3f5f",
             "gridcolor": "#C8D4E3",
             "linecolor": "#C8D4E3",
             "minorgridcolor": "#C8D4E3",
             "startlinecolor": "#2a3f5f"
            },
            "type": "carpet"
           }
          ],
          "choropleth": [
           {
            "colorbar": {
             "outlinewidth": 0,
             "ticks": ""
            },
            "type": "choropleth"
           }
          ],
          "contour": [
           {
            "colorbar": {
             "outlinewidth": 0,
             "ticks": ""
            },
            "colorscale": [
             [
              0,
              "#0d0887"
             ],
             [
              0.1111111111111111,
              "#46039f"
             ],
             [
              0.2222222222222222,
              "#7201a8"
             ],
             [
              0.3333333333333333,
              "#9c179e"
             ],
             [
              0.4444444444444444,
              "#bd3786"
             ],
             [
              0.5555555555555556,
              "#d8576b"
             ],
             [
              0.6666666666666666,
              "#ed7953"
             ],
             [
              0.7777777777777778,
              "#fb9f3a"
             ],
             [
              0.8888888888888888,
              "#fdca26"
             ],
             [
              1,
              "#f0f921"
             ]
            ],
            "type": "contour"
           }
          ],
          "contourcarpet": [
           {
            "colorbar": {
             "outlinewidth": 0,
             "ticks": ""
            },
            "type": "contourcarpet"
           }
          ],
          "heatmap": [
           {
            "colorbar": {
             "outlinewidth": 0,
             "ticks": ""
            },
            "colorscale": [
             [
              0,
              "#0d0887"
             ],
             [
              0.1111111111111111,
              "#46039f"
             ],
             [
              0.2222222222222222,
              "#7201a8"
             ],
             [
              0.3333333333333333,
              "#9c179e"
             ],
             [
              0.4444444444444444,
              "#bd3786"
             ],
             [
              0.5555555555555556,
              "#d8576b"
             ],
             [
              0.6666666666666666,
              "#ed7953"
             ],
             [
              0.7777777777777778,
              "#fb9f3a"
             ],
             [
              0.8888888888888888,
              "#fdca26"
             ],
             [
              1,
              "#f0f921"
             ]
            ],
            "type": "heatmap"
           }
          ],
          "heatmapgl": [
           {
            "colorbar": {
             "outlinewidth": 0,
             "ticks": ""
            },
            "colorscale": [
             [
              0,
              "#0d0887"
             ],
             [
              0.1111111111111111,
              "#46039f"
             ],
             [
              0.2222222222222222,
              "#7201a8"
             ],
             [
              0.3333333333333333,
              "#9c179e"
             ],
             [
              0.4444444444444444,
              "#bd3786"
             ],
             [
              0.5555555555555556,
              "#d8576b"
             ],
             [
              0.6666666666666666,
              "#ed7953"
             ],
             [
              0.7777777777777778,
              "#fb9f3a"
             ],
             [
              0.8888888888888888,
              "#fdca26"
             ],
             [
              1,
              "#f0f921"
             ]
            ],
            "type": "heatmapgl"
           }
          ],
          "histogram": [
           {
            "marker": {
             "pattern": {
              "fillmode": "overlay",
              "size": 10,
              "solidity": 0.2
             }
            },
            "type": "histogram"
           }
          ],
          "histogram2d": [
           {
            "colorbar": {
             "outlinewidth": 0,
             "ticks": ""
            },
            "colorscale": [
             [
              0,
              "#0d0887"
             ],
             [
              0.1111111111111111,
              "#46039f"
             ],
             [
              0.2222222222222222,
              "#7201a8"
             ],
             [
              0.3333333333333333,
              "#9c179e"
             ],
             [
              0.4444444444444444,
              "#bd3786"
             ],
             [
              0.5555555555555556,
              "#d8576b"
             ],
             [
              0.6666666666666666,
              "#ed7953"
             ],
             [
              0.7777777777777778,
              "#fb9f3a"
             ],
             [
              0.8888888888888888,
              "#fdca26"
             ],
             [
              1,
              "#f0f921"
             ]
            ],
            "type": "histogram2d"
           }
          ],
          "histogram2dcontour": [
           {
            "colorbar": {
             "outlinewidth": 0,
             "ticks": ""
            },
            "colorscale": [
             [
              0,
              "#0d0887"
             ],
             [
              0.1111111111111111,
              "#46039f"
             ],
             [
              0.2222222222222222,
              "#7201a8"
             ],
             [
              0.3333333333333333,
              "#9c179e"
             ],
             [
              0.4444444444444444,
              "#bd3786"
             ],
             [
              0.5555555555555556,
              "#d8576b"
             ],
             [
              0.6666666666666666,
              "#ed7953"
             ],
             [
              0.7777777777777778,
              "#fb9f3a"
             ],
             [
              0.8888888888888888,
              "#fdca26"
             ],
             [
              1,
              "#f0f921"
             ]
            ],
            "type": "histogram2dcontour"
           }
          ],
          "mesh3d": [
           {
            "colorbar": {
             "outlinewidth": 0,
             "ticks": ""
            },
            "type": "mesh3d"
           }
          ],
          "parcoords": [
           {
            "line": {
             "colorbar": {
              "outlinewidth": 0,
              "ticks": ""
             }
            },
            "type": "parcoords"
           }
          ],
          "pie": [
           {
            "automargin": true,
            "type": "pie"
           }
          ],
          "scatter": [
           {
            "fillpattern": {
             "fillmode": "overlay",
             "size": 10,
             "solidity": 0.2
            },
            "type": "scatter"
           }
          ],
          "scatter3d": [
           {
            "line": {
             "colorbar": {
              "outlinewidth": 0,
              "ticks": ""
             }
            },
            "marker": {
             "colorbar": {
              "outlinewidth": 0,
              "ticks": ""
             }
            },
            "type": "scatter3d"
           }
          ],
          "scattercarpet": [
           {
            "marker": {
             "colorbar": {
              "outlinewidth": 0,
              "ticks": ""
             }
            },
            "type": "scattercarpet"
           }
          ],
          "scattergeo": [
           {
            "marker": {
             "colorbar": {
              "outlinewidth": 0,
              "ticks": ""
             }
            },
            "type": "scattergeo"
           }
          ],
          "scattergl": [
           {
            "marker": {
             "colorbar": {
              "outlinewidth": 0,
              "ticks": ""
             }
            },
            "type": "scattergl"
           }
          ],
          "scattermapbox": [
           {
            "marker": {
             "colorbar": {
              "outlinewidth": 0,
              "ticks": ""
             }
            },
            "type": "scattermapbox"
           }
          ],
          "scatterpolar": [
           {
            "marker": {
             "colorbar": {
              "outlinewidth": 0,
              "ticks": ""
             }
            },
            "type": "scatterpolar"
           }
          ],
          "scatterpolargl": [
           {
            "marker": {
             "colorbar": {
              "outlinewidth": 0,
              "ticks": ""
             }
            },
            "type": "scatterpolargl"
           }
          ],
          "scatterternary": [
           {
            "marker": {
             "colorbar": {
              "outlinewidth": 0,
              "ticks": ""
             }
            },
            "type": "scatterternary"
           }
          ],
          "surface": [
           {
            "colorbar": {
             "outlinewidth": 0,
             "ticks": ""
            },
            "colorscale": [
             [
              0,
              "#0d0887"
             ],
             [
              0.1111111111111111,
              "#46039f"
             ],
             [
              0.2222222222222222,
              "#7201a8"
             ],
             [
              0.3333333333333333,
              "#9c179e"
             ],
             [
              0.4444444444444444,
              "#bd3786"
             ],
             [
              0.5555555555555556,
              "#d8576b"
             ],
             [
              0.6666666666666666,
              "#ed7953"
             ],
             [
              0.7777777777777778,
              "#fb9f3a"
             ],
             [
              0.8888888888888888,
              "#fdca26"
             ],
             [
              1,
              "#f0f921"
             ]
            ],
            "type": "surface"
           }
          ],
          "table": [
           {
            "cells": {
             "fill": {
              "color": "#EBF0F8"
             },
             "line": {
              "color": "white"
             }
            },
            "header": {
             "fill": {
              "color": "#C8D4E3"
             },
             "line": {
              "color": "white"
             }
            },
            "type": "table"
           }
          ]
         },
         "layout": {
          "annotationdefaults": {
           "arrowcolor": "#2a3f5f",
           "arrowhead": 0,
           "arrowwidth": 1
          },
          "autotypenumbers": "strict",
          "coloraxis": {
           "colorbar": {
            "outlinewidth": 0,
            "ticks": ""
           }
          },
          "colorscale": {
           "diverging": [
            [
             0,
             "#8e0152"
            ],
            [
             0.1,
             "#c51b7d"
            ],
            [
             0.2,
             "#de77ae"
            ],
            [
             0.3,
             "#f1b6da"
            ],
            [
             0.4,
             "#fde0ef"
            ],
            [
             0.5,
             "#f7f7f7"
            ],
            [
             0.6,
             "#e6f5d0"
            ],
            [
             0.7,
             "#b8e186"
            ],
            [
             0.8,
             "#7fbc41"
            ],
            [
             0.9,
             "#4d9221"
            ],
            [
             1,
             "#276419"
            ]
           ],
           "sequential": [
            [
             0,
             "#0d0887"
            ],
            [
             0.1111111111111111,
             "#46039f"
            ],
            [
             0.2222222222222222,
             "#7201a8"
            ],
            [
             0.3333333333333333,
             "#9c179e"
            ],
            [
             0.4444444444444444,
             "#bd3786"
            ],
            [
             0.5555555555555556,
             "#d8576b"
            ],
            [
             0.6666666666666666,
             "#ed7953"
            ],
            [
             0.7777777777777778,
             "#fb9f3a"
            ],
            [
             0.8888888888888888,
             "#fdca26"
            ],
            [
             1,
             "#f0f921"
            ]
           ],
           "sequentialminus": [
            [
             0,
             "#0d0887"
            ],
            [
             0.1111111111111111,
             "#46039f"
            ],
            [
             0.2222222222222222,
             "#7201a8"
            ],
            [
             0.3333333333333333,
             "#9c179e"
            ],
            [
             0.4444444444444444,
             "#bd3786"
            ],
            [
             0.5555555555555556,
             "#d8576b"
            ],
            [
             0.6666666666666666,
             "#ed7953"
            ],
            [
             0.7777777777777778,
             "#fb9f3a"
            ],
            [
             0.8888888888888888,
             "#fdca26"
            ],
            [
             1,
             "#f0f921"
            ]
           ]
          },
          "colorway": [
           "#636efa",
           "#EF553B",
           "#00cc96",
           "#ab63fa",
           "#FFA15A",
           "#19d3f3",
           "#FF6692",
           "#B6E880",
           "#FF97FF",
           "#FECB52"
          ],
          "font": {
           "color": "#2a3f5f"
          },
          "geo": {
           "bgcolor": "white",
           "lakecolor": "white",
           "landcolor": "white",
           "showlakes": true,
           "showland": true,
           "subunitcolor": "#C8D4E3"
          },
          "hoverlabel": {
           "align": "left"
          },
          "hovermode": "closest",
          "mapbox": {
           "style": "light"
          },
          "paper_bgcolor": "white",
          "plot_bgcolor": "white",
          "polar": {
           "angularaxis": {
            "gridcolor": "#EBF0F8",
            "linecolor": "#EBF0F8",
            "ticks": ""
           },
           "bgcolor": "white",
           "radialaxis": {
            "gridcolor": "#EBF0F8",
            "linecolor": "#EBF0F8",
            "ticks": ""
           }
          },
          "scene": {
           "xaxis": {
            "backgroundcolor": "white",
            "gridcolor": "#DFE8F3",
            "gridwidth": 2,
            "linecolor": "#EBF0F8",
            "showbackground": true,
            "ticks": "",
            "zerolinecolor": "#EBF0F8"
           },
           "yaxis": {
            "backgroundcolor": "white",
            "gridcolor": "#DFE8F3",
            "gridwidth": 2,
            "linecolor": "#EBF0F8",
            "showbackground": true,
            "ticks": "",
            "zerolinecolor": "#EBF0F8"
           },
           "zaxis": {
            "backgroundcolor": "white",
            "gridcolor": "#DFE8F3",
            "gridwidth": 2,
            "linecolor": "#EBF0F8",
            "showbackground": true,
            "ticks": "",
            "zerolinecolor": "#EBF0F8"
           }
          },
          "shapedefaults": {
           "line": {
            "color": "#2a3f5f"
           }
          },
          "ternary": {
           "aaxis": {
            "gridcolor": "#DFE8F3",
            "linecolor": "#A2B1C6",
            "ticks": ""
           },
           "baxis": {
            "gridcolor": "#DFE8F3",
            "linecolor": "#A2B1C6",
            "ticks": ""
           },
           "bgcolor": "white",
           "caxis": {
            "gridcolor": "#DFE8F3",
            "linecolor": "#A2B1C6",
            "ticks": ""
           }
          },
          "title": {
           "x": 0.05
          },
          "xaxis": {
           "automargin": true,
           "gridcolor": "#EBF0F8",
           "linecolor": "#EBF0F8",
           "ticks": "",
           "title": {
            "standoff": 15
           },
           "zerolinecolor": "#EBF0F8",
           "zerolinewidth": 2
          },
          "yaxis": {
           "automargin": true,
           "gridcolor": "#EBF0F8",
           "linecolor": "#EBF0F8",
           "ticks": "",
           "title": {
            "standoff": 15
           },
           "zerolinecolor": "#EBF0F8",
           "zerolinewidth": 2
          }
         }
        },
        "title": {
         "text": "Andamento Prezzi Bitcoin, Transazioni di Vendita e Acquisto"
        },
        "width": 1200,
        "xaxis": {
         "rangeslider": {
          "visible": true
         },
         "title": {
          "text": "Data"
         },
         "type": "date"
        },
        "yaxis": {
         "title": {
          "text": "Prezzo (€)"
         }
        }
       }
      }
     },
     "metadata": {},
     "output_type": "display_data"
    }
   ],
   "source": [
    "crea_grafico_transazioni(df_transazioni)"
   ]
  },
  {
   "cell_type": "code",
   "execution_count": null,
   "metadata": {},
   "outputs": [],
   "source": []
  }
 ],
 "metadata": {
  "kernelspec": {
   "display_name": "myenv",
   "language": "python",
   "name": "python3"
  },
  "language_info": {
   "codemirror_mode": {
    "name": "ipython",
    "version": 3
   },
   "file_extension": ".py",
   "mimetype": "text/x-python",
   "name": "python",
   "nbconvert_exporter": "python",
   "pygments_lexer": "ipython3",
   "version": "3.10.9"
  }
 },
 "nbformat": 4,
 "nbformat_minor": 2
}
