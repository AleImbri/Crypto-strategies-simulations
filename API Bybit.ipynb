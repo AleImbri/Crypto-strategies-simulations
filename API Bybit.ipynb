{
 "cells": [
  {
   "cell_type": "code",
   "execution_count": 1,
   "metadata": {},
   "outputs": [],
   "source": [
    "import ccxt\n",
    "import config_API_Bybit as cab\n",
    "from telegram import Bot\n",
    "import asyncio"
   ]
  },
  {
   "cell_type": "code",
   "execution_count": 2,
   "metadata": {},
   "outputs": [],
   "source": [
    "# Inizializza il bot di Telegram\n",
    "telegram_bot = Bot(token=cab.token_telegram)\n",
    "TOKEN_TELEGRAM = cab.token_telegram\n",
    "CHAT_ID_TELEGRAM = cab.id_chat_mio_gruppo"
   ]
  },
  {
   "cell_type": "code",
   "execution_count": 3,
   "metadata": {},
   "outputs": [
    {
     "ename": "InvalidNonce",
     "evalue": "bybit {\"retCode\":10002,\"retMsg\":\"invalid request, please check your server timestamp or recv_window param. req_timestamp[1734722778668],server_timestamp[1734722777548],recv_window[5000]\",\"result\":{},\"retExtInfo\":{},\"time\":1734722777548}",
     "output_type": "error",
     "traceback": [
      "\u001b[1;31m---------------------------------------------------------------------------\u001b[0m",
      "\u001b[1;31mInvalidNonce\u001b[0m                              Traceback (most recent call last)",
      "Cell \u001b[1;32mIn[3], line 15\u001b[0m\n\u001b[0;32m     12\u001b[0m exchange\u001b[38;5;241m.\u001b[39mset_sandbox_mode(\u001b[38;5;28;01mFalse\u001b[39;00m)\n\u001b[0;32m     14\u001b[0m \u001b[38;5;66;03m# Carica i mercati\u001b[39;00m\n\u001b[1;32m---> 15\u001b[0m \u001b[43mexchange\u001b[49m\u001b[38;5;241;43m.\u001b[39;49m\u001b[43mload_markets\u001b[49m\u001b[43m(\u001b[49m\u001b[43m)\u001b[49m\n\u001b[0;32m     17\u001b[0m \u001b[38;5;28;01mdef\u001b[39;00m \u001b[38;5;21mget_balance\u001b[39m(crypto_symbol, account_type):\n\u001b[0;32m     18\u001b[0m \u001b[38;5;250m    \u001b[39m\u001b[38;5;124;03m\"\"\"\u001b[39;00m\n\u001b[0;32m     19\u001b[0m \u001b[38;5;124;03m    Recupera il saldo di una specifica criptovaluta in un determinato account.\u001b[39;00m\n\u001b[0;32m     20\u001b[0m \n\u001b[1;32m   (...)\u001b[0m\n\u001b[0;32m     23\u001b[0m \u001b[38;5;124;03m    :return: Dizionario con i saldi 'free', 'used' e 'total'\u001b[39;00m\n\u001b[0;32m     24\u001b[0m \u001b[38;5;124;03m    \"\"\"\u001b[39;00m\n",
      "File \u001b[1;32mc:\\Users\\Alessandro\\Desktop\\Cartelle\\Mie\\Programmi personali in Python\\Giochi e simulazioni\\Simulazioni\\Simulatore di compravendita\\Analisi Bitcoin\\myenv\\lib\\site-packages\\ccxt\\base\\exchange.py:1513\u001b[0m, in \u001b[0;36mExchange.load_markets\u001b[1;34m(self, reload, params)\u001b[0m\n\u001b[0;32m   1511\u001b[0m currencies \u001b[38;5;241m=\u001b[39m \u001b[38;5;28;01mNone\u001b[39;00m\n\u001b[0;32m   1512\u001b[0m \u001b[38;5;28;01mif\u001b[39;00m \u001b[38;5;28mself\u001b[39m\u001b[38;5;241m.\u001b[39mhas[\u001b[38;5;124m'\u001b[39m\u001b[38;5;124mfetchCurrencies\u001b[39m\u001b[38;5;124m'\u001b[39m] \u001b[38;5;129;01mis\u001b[39;00m \u001b[38;5;28;01mTrue\u001b[39;00m:\n\u001b[1;32m-> 1513\u001b[0m     currencies \u001b[38;5;241m=\u001b[39m \u001b[38;5;28;43mself\u001b[39;49m\u001b[38;5;241;43m.\u001b[39;49m\u001b[43mfetch_currencies\u001b[49m\u001b[43m(\u001b[49m\u001b[43m)\u001b[49m\n\u001b[0;32m   1514\u001b[0m markets \u001b[38;5;241m=\u001b[39m \u001b[38;5;28mself\u001b[39m\u001b[38;5;241m.\u001b[39mfetch_markets(params)\n\u001b[0;32m   1515\u001b[0m \u001b[38;5;28;01mreturn\u001b[39;00m \u001b[38;5;28mself\u001b[39m\u001b[38;5;241m.\u001b[39mset_markets(markets, currencies)\n",
      "File \u001b[1;32mc:\\Users\\Alessandro\\Desktop\\Cartelle\\Mie\\Programmi personali in Python\\Giochi e simulazioni\\Simulazioni\\Simulatore di compravendita\\Analisi Bitcoin\\myenv\\lib\\site-packages\\ccxt\\bybit.py:1375\u001b[0m, in \u001b[0;36mbybit.fetch_currencies\u001b[1;34m(self, params)\u001b[0m\n\u001b[0;32m   1373\u001b[0m \u001b[38;5;28;01mif\u001b[39;00m \u001b[38;5;28mself\u001b[39m\u001b[38;5;241m.\u001b[39moptions[\u001b[38;5;124m'\u001b[39m\u001b[38;5;124menableDemoTrading\u001b[39m\u001b[38;5;124m'\u001b[39m]:\n\u001b[0;32m   1374\u001b[0m     \u001b[38;5;28;01mreturn\u001b[39;00m \u001b[38;5;28;01mNone\u001b[39;00m\n\u001b[1;32m-> 1375\u001b[0m response \u001b[38;5;241m=\u001b[39m \u001b[38;5;28;43mself\u001b[39;49m\u001b[38;5;241;43m.\u001b[39;49m\u001b[43mprivateGetV5AssetCoinQueryInfo\u001b[49m\u001b[43m(\u001b[49m\u001b[43mparams\u001b[49m\u001b[43m)\u001b[49m\n\u001b[0;32m   1376\u001b[0m \u001b[38;5;66;03m#\u001b[39;00m\n\u001b[0;32m   1377\u001b[0m \u001b[38;5;66;03m#     {\u001b[39;00m\n\u001b[0;32m   1378\u001b[0m \u001b[38;5;66;03m#         \"retCode\": 0,\u001b[39;00m\n\u001b[1;32m   (...)\u001b[0m\n\u001b[0;32m   1404\u001b[0m \u001b[38;5;66;03m#     }\u001b[39;00m\n\u001b[0;32m   1405\u001b[0m \u001b[38;5;66;03m#\u001b[39;00m\n\u001b[0;32m   1406\u001b[0m data \u001b[38;5;241m=\u001b[39m \u001b[38;5;28mself\u001b[39m\u001b[38;5;241m.\u001b[39msafe_dict(response, \u001b[38;5;124m'\u001b[39m\u001b[38;5;124mresult\u001b[39m\u001b[38;5;124m'\u001b[39m, {})\n",
      "File \u001b[1;32mc:\\Users\\Alessandro\\Desktop\\Cartelle\\Mie\\Programmi personali in Python\\Giochi e simulazioni\\Simulazioni\\Simulatore di compravendita\\Analisi Bitcoin\\myenv\\lib\\site-packages\\ccxt\\base\\types.py:35\u001b[0m, in \u001b[0;36mEntry.__init__.<locals>.unbound_method\u001b[1;34m(_self, params)\u001b[0m\n\u001b[0;32m     34\u001b[0m \u001b[38;5;28;01mdef\u001b[39;00m \u001b[38;5;21munbound_method\u001b[39m(_self, params\u001b[38;5;241m=\u001b[39m{}):\n\u001b[1;32m---> 35\u001b[0m     \u001b[38;5;28;01mreturn\u001b[39;00m \u001b[43m_self\u001b[49m\u001b[38;5;241;43m.\u001b[39;49m\u001b[43mrequest\u001b[49m\u001b[43m(\u001b[49m\u001b[38;5;28;43mself\u001b[39;49m\u001b[38;5;241;43m.\u001b[39;49m\u001b[43mpath\u001b[49m\u001b[43m,\u001b[49m\u001b[43m \u001b[49m\u001b[38;5;28;43mself\u001b[39;49m\u001b[38;5;241;43m.\u001b[39;49m\u001b[43mapi\u001b[49m\u001b[43m,\u001b[49m\u001b[43m \u001b[49m\u001b[38;5;28;43mself\u001b[39;49m\u001b[38;5;241;43m.\u001b[39;49m\u001b[43mmethod\u001b[49m\u001b[43m,\u001b[49m\u001b[43m \u001b[49m\u001b[43mparams\u001b[49m\u001b[43m,\u001b[49m\u001b[43m \u001b[49m\u001b[43mconfig\u001b[49m\u001b[38;5;241;43m=\u001b[39;49m\u001b[38;5;28;43mself\u001b[39;49m\u001b[38;5;241;43m.\u001b[39;49m\u001b[43mconfig\u001b[49m\u001b[43m)\u001b[49m\n",
      "File \u001b[1;32mc:\\Users\\Alessandro\\Desktop\\Cartelle\\Mie\\Programmi personali in Python\\Giochi e simulazioni\\Simulazioni\\Simulatore di compravendita\\Analisi Bitcoin\\myenv\\lib\\site-packages\\ccxt\\base\\exchange.py:4137\u001b[0m, in \u001b[0;36mExchange.request\u001b[1;34m(self, path, api, method, params, headers, body, config)\u001b[0m\n\u001b[0;32m   4136\u001b[0m \u001b[38;5;28;01mdef\u001b[39;00m \u001b[38;5;21mrequest\u001b[39m(\u001b[38;5;28mself\u001b[39m, path, api: Any \u001b[38;5;241m=\u001b[39m \u001b[38;5;124m'\u001b[39m\u001b[38;5;124mpublic\u001b[39m\u001b[38;5;124m'\u001b[39m, method\u001b[38;5;241m=\u001b[39m\u001b[38;5;124m'\u001b[39m\u001b[38;5;124mGET\u001b[39m\u001b[38;5;124m'\u001b[39m, params\u001b[38;5;241m=\u001b[39m{}, headers: Any \u001b[38;5;241m=\u001b[39m \u001b[38;5;28;01mNone\u001b[39;00m, body: Any \u001b[38;5;241m=\u001b[39m \u001b[38;5;28;01mNone\u001b[39;00m, config\u001b[38;5;241m=\u001b[39m{}):\n\u001b[1;32m-> 4137\u001b[0m     \u001b[38;5;28;01mreturn\u001b[39;00m \u001b[38;5;28;43mself\u001b[39;49m\u001b[38;5;241;43m.\u001b[39;49m\u001b[43mfetch2\u001b[49m\u001b[43m(\u001b[49m\u001b[43mpath\u001b[49m\u001b[43m,\u001b[49m\u001b[43m \u001b[49m\u001b[43mapi\u001b[49m\u001b[43m,\u001b[49m\u001b[43m \u001b[49m\u001b[43mmethod\u001b[49m\u001b[43m,\u001b[49m\u001b[43m \u001b[49m\u001b[43mparams\u001b[49m\u001b[43m,\u001b[49m\u001b[43m \u001b[49m\u001b[43mheaders\u001b[49m\u001b[43m,\u001b[49m\u001b[43m \u001b[49m\u001b[43mbody\u001b[49m\u001b[43m,\u001b[49m\u001b[43m \u001b[49m\u001b[43mconfig\u001b[49m\u001b[43m)\u001b[49m\n",
      "File \u001b[1;32mc:\\Users\\Alessandro\\Desktop\\Cartelle\\Mie\\Programmi personali in Python\\Giochi e simulazioni\\Simulazioni\\Simulatore di compravendita\\Analisi Bitcoin\\myenv\\lib\\site-packages\\ccxt\\base\\exchange.py:4133\u001b[0m, in \u001b[0;36mExchange.fetch2\u001b[1;34m(self, path, api, method, params, headers, body, config)\u001b[0m\n\u001b[0;32m   4131\u001b[0m                     \u001b[38;5;28mself\u001b[39m\u001b[38;5;241m.\u001b[39msleep(retryDelay)\n\u001b[0;32m   4132\u001b[0m                 \u001b[38;5;28;01mcontinue\u001b[39;00m\n\u001b[1;32m-> 4133\u001b[0m         \u001b[38;5;28;01mraise\u001b[39;00m e\n\u001b[0;32m   4134\u001b[0m \u001b[38;5;28;01mreturn\u001b[39;00m \u001b[38;5;28;01mNone\u001b[39;00m\n",
      "File \u001b[1;32mc:\\Users\\Alessandro\\Desktop\\Cartelle\\Mie\\Programmi personali in Python\\Giochi e simulazioni\\Simulazioni\\Simulatore di compravendita\\Analisi Bitcoin\\myenv\\lib\\site-packages\\ccxt\\base\\exchange.py:4124\u001b[0m, in \u001b[0;36mExchange.fetch2\u001b[1;34m(self, path, api, method, params, headers, body, config)\u001b[0m\n\u001b[0;32m   4122\u001b[0m \u001b[38;5;28;01mfor\u001b[39;00m i \u001b[38;5;129;01min\u001b[39;00m \u001b[38;5;28mrange\u001b[39m(\u001b[38;5;241m0\u001b[39m, retries \u001b[38;5;241m+\u001b[39m \u001b[38;5;241m1\u001b[39m):\n\u001b[0;32m   4123\u001b[0m     \u001b[38;5;28;01mtry\u001b[39;00m:\n\u001b[1;32m-> 4124\u001b[0m         \u001b[38;5;28;01mreturn\u001b[39;00m \u001b[38;5;28;43mself\u001b[39;49m\u001b[38;5;241;43m.\u001b[39;49m\u001b[43mfetch\u001b[49m\u001b[43m(\u001b[49m\u001b[43mrequest\u001b[49m\u001b[43m[\u001b[49m\u001b[38;5;124;43m'\u001b[39;49m\u001b[38;5;124;43murl\u001b[39;49m\u001b[38;5;124;43m'\u001b[39;49m\u001b[43m]\u001b[49m\u001b[43m,\u001b[49m\u001b[43m \u001b[49m\u001b[43mrequest\u001b[49m\u001b[43m[\u001b[49m\u001b[38;5;124;43m'\u001b[39;49m\u001b[38;5;124;43mmethod\u001b[39;49m\u001b[38;5;124;43m'\u001b[39;49m\u001b[43m]\u001b[49m\u001b[43m,\u001b[49m\u001b[43m \u001b[49m\u001b[43mrequest\u001b[49m\u001b[43m[\u001b[49m\u001b[38;5;124;43m'\u001b[39;49m\u001b[38;5;124;43mheaders\u001b[39;49m\u001b[38;5;124;43m'\u001b[39;49m\u001b[43m]\u001b[49m\u001b[43m,\u001b[49m\u001b[43m \u001b[49m\u001b[43mrequest\u001b[49m\u001b[43m[\u001b[49m\u001b[38;5;124;43m'\u001b[39;49m\u001b[38;5;124;43mbody\u001b[39;49m\u001b[38;5;124;43m'\u001b[39;49m\u001b[43m]\u001b[49m\u001b[43m)\u001b[49m\n\u001b[0;32m   4125\u001b[0m     \u001b[38;5;28;01mexcept\u001b[39;00m \u001b[38;5;167;01mException\u001b[39;00m \u001b[38;5;28;01mas\u001b[39;00m e:\n\u001b[0;32m   4126\u001b[0m         \u001b[38;5;28;01mif\u001b[39;00m \u001b[38;5;28misinstance\u001b[39m(e, NetworkError):\n",
      "File \u001b[1;32mc:\\Users\\Alessandro\\Desktop\\Cartelle\\Mie\\Programmi personali in Python\\Giochi e simulazioni\\Simulazioni\\Simulatore di compravendita\\Analisi Bitcoin\\myenv\\lib\\site-packages\\ccxt\\base\\exchange.py:622\u001b[0m, in \u001b[0;36mExchange.fetch\u001b[1;34m(self, url, method, headers, body)\u001b[0m\n\u001b[0;32m    619\u001b[0m     \u001b[38;5;28;01melse\u001b[39;00m:\n\u001b[0;32m    620\u001b[0m         \u001b[38;5;28;01mraise\u001b[39;00m ExchangeError(details) \u001b[38;5;28;01mfrom\u001b[39;00m \u001b[38;5;21;01me\u001b[39;00m\n\u001b[1;32m--> 622\u001b[0m \u001b[38;5;28;43mself\u001b[39;49m\u001b[38;5;241;43m.\u001b[39;49m\u001b[43mhandle_errors\u001b[49m\u001b[43m(\u001b[49m\u001b[43mhttp_status_code\u001b[49m\u001b[43m,\u001b[49m\u001b[43m \u001b[49m\u001b[43mhttp_status_text\u001b[49m\u001b[43m,\u001b[49m\u001b[43m \u001b[49m\u001b[43murl\u001b[49m\u001b[43m,\u001b[49m\u001b[43m \u001b[49m\u001b[43mmethod\u001b[49m\u001b[43m,\u001b[49m\u001b[43m \u001b[49m\u001b[43mheaders\u001b[49m\u001b[43m,\u001b[49m\u001b[43m \u001b[49m\u001b[43mhttp_response\u001b[49m\u001b[43m,\u001b[49m\u001b[43m \u001b[49m\u001b[43mjson_response\u001b[49m\u001b[43m,\u001b[49m\u001b[43m \u001b[49m\u001b[43mrequest_headers\u001b[49m\u001b[43m,\u001b[49m\u001b[43m \u001b[49m\u001b[43mrequest_body\u001b[49m\u001b[43m)\u001b[49m\n\u001b[0;32m    623\u001b[0m \u001b[38;5;28;01mif\u001b[39;00m json_response \u001b[38;5;129;01mis\u001b[39;00m \u001b[38;5;129;01mnot\u001b[39;00m \u001b[38;5;28;01mNone\u001b[39;00m:\n\u001b[0;32m    624\u001b[0m     \u001b[38;5;28;01mreturn\u001b[39;00m json_response\n",
      "File \u001b[1;32mc:\\Users\\Alessandro\\Desktop\\Cartelle\\Mie\\Programmi personali in Python\\Giochi e simulazioni\\Simulazioni\\Simulatore di compravendita\\Analisi Bitcoin\\myenv\\lib\\site-packages\\ccxt\\bybit.py:8513\u001b[0m, in \u001b[0;36mbybit.handle_errors\u001b[1;34m(self, httpCode, reason, url, method, headers, body, response, requestHeaders, requestBody)\u001b[0m\n\u001b[0;32m   8511\u001b[0m         feedback \u001b[38;5;241m=\u001b[39m \u001b[38;5;28mself\u001b[39m\u001b[38;5;241m.\u001b[39mid \u001b[38;5;241m+\u001b[39m \u001b[38;5;124m'\u001b[39m\u001b[38;5;124m \u001b[39m\u001b[38;5;124m'\u001b[39m \u001b[38;5;241m+\u001b[39m body\n\u001b[0;32m   8512\u001b[0m     \u001b[38;5;28mself\u001b[39m\u001b[38;5;241m.\u001b[39mthrow_broadly_matched_exception(\u001b[38;5;28mself\u001b[39m\u001b[38;5;241m.\u001b[39mexceptions[\u001b[38;5;124m'\u001b[39m\u001b[38;5;124mbroad\u001b[39m\u001b[38;5;124m'\u001b[39m], body, feedback)\n\u001b[1;32m-> 8513\u001b[0m     \u001b[38;5;28;43mself\u001b[39;49m\u001b[38;5;241;43m.\u001b[39;49m\u001b[43mthrow_exactly_matched_exception\u001b[49m\u001b[43m(\u001b[49m\u001b[38;5;28;43mself\u001b[39;49m\u001b[38;5;241;43m.\u001b[39;49m\u001b[43mexceptions\u001b[49m\u001b[43m[\u001b[49m\u001b[38;5;124;43m'\u001b[39;49m\u001b[38;5;124;43mexact\u001b[39;49m\u001b[38;5;124;43m'\u001b[39;49m\u001b[43m]\u001b[49m\u001b[43m,\u001b[49m\u001b[43m \u001b[49m\u001b[43merrorCode\u001b[49m\u001b[43m,\u001b[49m\u001b[43m \u001b[49m\u001b[43mfeedback\u001b[49m\u001b[43m)\u001b[49m\n\u001b[0;32m   8514\u001b[0m     \u001b[38;5;28;01mraise\u001b[39;00m ExchangeError(feedback)  \u001b[38;5;66;03m# unknown message\u001b[39;00m\n\u001b[0;32m   8515\u001b[0m \u001b[38;5;28;01mreturn\u001b[39;00m \u001b[38;5;28;01mNone\u001b[39;00m\n",
      "File \u001b[1;32mc:\\Users\\Alessandro\\Desktop\\Cartelle\\Mie\\Programmi personali in Python\\Giochi e simulazioni\\Simulazioni\\Simulatore di compravendita\\Analisi Bitcoin\\myenv\\lib\\site-packages\\ccxt\\base\\exchange.py:4516\u001b[0m, in \u001b[0;36mExchange.throw_exactly_matched_exception\u001b[1;34m(self, exact, string, message)\u001b[0m\n\u001b[0;32m   4514\u001b[0m     \u001b[38;5;28;01mreturn\u001b[39;00m\n\u001b[0;32m   4515\u001b[0m \u001b[38;5;28;01mif\u001b[39;00m string \u001b[38;5;129;01min\u001b[39;00m exact:\n\u001b[1;32m-> 4516\u001b[0m     \u001b[38;5;28;01mraise\u001b[39;00m exact[string](message)\n",
      "\u001b[1;31mInvalidNonce\u001b[0m: bybit {\"retCode\":10002,\"retMsg\":\"invalid request, please check your server timestamp or recv_window param. req_timestamp[1734722778668],server_timestamp[1734722777548],recv_window[5000]\",\"result\":{},\"retExtInfo\":{},\"time\":1734722777548}"
     ]
    }
   ],
   "source": [
    "# Inizializza l'exchange Bybit\n",
    "exchange = ccxt.bybit({\n",
    "    'apiKey': cab.api_key,\n",
    "    'secret': cab.api_secret,\n",
    "    'enableRateLimit': True,\n",
    "    'options': {\n",
    "        'adjustForTimeDifference': True,\n",
    "    },\n",
    "})\n",
    "\n",
    "# Disabilita la modalità sandbox per l'ambiente live\n",
    "exchange.set_sandbox_mode(False)\n",
    "\n",
    "# Carica i mercati\n",
    "exchange.load_markets()\n",
    "\n",
    "def get_balance(crypto_symbol, account_type):\n",
    "    \"\"\"\n",
    "    Recupera il saldo di una specifica criptovaluta in un determinato account.\n",
    "\n",
    "    :param crypto_symbol: Simbolo della criptovaluta (es. 'FOXY')\n",
    "    :param account_type: Tipo di account (es. 'spot', 'funding', 'unified')\n",
    "    :return: Dizionario con i saldi 'free', 'used' e 'total'\n",
    "    \"\"\"\n",
    "    try:\n",
    "        # Recupera il saldo per il tipo di account specificato\n",
    "        balance = exchange.fetch_balance({'type': account_type, 'recvWindow': 20000}) # 10 secondi\n",
    "        # Ottieni il saldo della criptovaluta specificata\n",
    "        crypto_balance = balance.get(crypto_symbol, {'free': 0, 'used': 0, 'total': 0})\n",
    "        return crypto_balance\n",
    "    except Exception as e:\n",
    "        print(f\"Errore durante il recupero del saldo per {crypto_symbol} nell'account {account_type}: {e}\")\n",
    "        return None\n",
    "\n",
    "# Esempio di utilizzo\n",
    "crypto = 'USDT'\n",
    "account_types = ['spot', 'funding', 'unified']\n",
    "\n",
    "for account in account_types:\n",
    "    balance = get_balance(crypto, account)\n",
    "    if balance:\n",
    "        print(f\"Saldo di {crypto} nell'account {account}:\")\n",
    "        print(f\"  Disponibile: {balance['free']}\")\n",
    "        print(f\"  In uso: {balance['used']}\")\n",
    "        print(f\"  Totale: {balance['total']}\\n\")"
   ]
  },
  {
   "cell_type": "code",
   "execution_count": 3,
   "metadata": {},
   "outputs": [],
   "source": [
    "def invia_messaggio_telegram(token, chat_id, messaggio):\n",
    "    try:\n",
    "        async def _invia():\n",
    "            bot = Bot(token=token)\n",
    "            await bot.send_message(chat_id=chat_id, text=messaggio)\n",
    "        \n",
    "        loop = asyncio.get_event_loop()\n",
    "        if loop.is_running():\n",
    "            loop.create_task(_invia())\n",
    "        else:\n",
    "            loop.run_until_complete(_invia())\n",
    "    except Exception as e:\n",
    "        print(f\"Errore nell'invio del messaggio Telegram: {e}\")\n",
    "\n",
    "invia_messaggio_telegram(TOKEN_TELEGRAM, CHAT_ID_TELEGRAM, 'ciao di prova')"
   ]
  },
  {
   "cell_type": "code",
   "execution_count": 5,
   "metadata": {},
   "outputs": [],
   "source": [
    "def buy_crypto(symbol, amount, api_key, api_secret):\n",
    "    exchange = ccxt.bybit({\n",
    "        'apiKey': api_key,\n",
    "        'secret': api_secret,\n",
    "        'enableRateLimit': True,\n",
    "    })\n",
    "    exchange.set_sandbox_mode(False)  # Imposta a True per il testnet\n",
    "    exchange.load_markets()\n",
    "    order = exchange.create_market_buy_order(symbol, amount)\n",
    "    return order"
   ]
  },
  {
   "cell_type": "code",
   "execution_count": 6,
   "metadata": {},
   "outputs": [],
   "source": [
    "def sell_crypto(symbol, amount, api_key, api_secret):\n",
    "    exchange = ccxt.bybit({\n",
    "        'apiKey': api_key,\n",
    "        'secret': api_secret,\n",
    "        'enableRateLimit': True,\n",
    "    })\n",
    "    exchange.set_sandbox_mode(False)\n",
    "    exchange.load_markets()\n",
    "    order = exchange.create_market_sell_order(symbol, amount)\n",
    "    return order"
   ]
  },
  {
   "cell_type": "code",
   "execution_count": 7,
   "metadata": {},
   "outputs": [],
   "source": [
    "def set_trailing_stop(symbol, side, amount, trailing_stop, api_key, api_secret):\n",
    "    exchange = ccxt.bybit({\n",
    "        'apiKey': api_key,\n",
    "        'secret': api_secret,\n",
    "        'enableRateLimit': True,\n",
    "    })\n",
    "    exchange.set_sandbox_mode(False)\n",
    "    exchange.load_markets()\n",
    "    params = {\n",
    "        'stop_loss': trailing_stop,\n",
    "    }\n",
    "    order = exchange.create_order(symbol, 'market', side, amount, None, params)\n",
    "    return order"
   ]
  },
  {
   "cell_type": "code",
   "execution_count": 8,
   "metadata": {},
   "outputs": [],
   "source": [
    "def get_average_buy_price(symbol, api_key, api_secret):\n",
    "    exchange = ccxt.bybit({\n",
    "        'apiKey': api_key,\n",
    "        'secret': api_secret,\n",
    "        'enableRateLimit': True,\n",
    "    })\n",
    "    exchange.set_sandbox_mode(False)\n",
    "    exchange.load_markets()\n",
    "    orders = exchange.fetch_closed_orders(symbol)\n",
    "    total_cost = 0\n",
    "    total_amount = 0\n",
    "    for order in orders:\n",
    "        if order['side'] == 'buy':\n",
    "            total_cost += order['cost']\n",
    "            total_amount += order['filled']\n",
    "    if total_amount > 0:\n",
    "        return total_cost / total_amount\n",
    "    else:\n",
    "        return 0"
   ]
  },
  {
   "cell_type": "code",
   "execution_count": 9,
   "metadata": {},
   "outputs": [],
   "source": [
    "def cancel_trailing_stop_orders(symbol, api_key, api_secret):\n",
    "    exchange = ccxt.bybit({\n",
    "        'apiKey': api_key,\n",
    "        'secret': api_secret,\n",
    "        'enableRateLimit': True,\n",
    "    })\n",
    "    exchange.set_sandbox_mode(False)\n",
    "    exchange.load_markets()\n",
    "    orders = exchange.fetch_open_orders(symbol)\n",
    "    for order in orders:\n",
    "        if 'trailing' in order['info']:\n",
    "            exchange.cancel_order(order['id'], symbol)"
   ]
  },
  {
   "cell_type": "code",
   "execution_count": 10,
   "metadata": {},
   "outputs": [],
   "source": [
    "def get_available_usdt(api_key, api_secret):\n",
    "    exchange = ccxt.bybit({\n",
    "        'apiKey': api_key,\n",
    "        'secret': api_secret,\n",
    "        'enableRateLimit': True,\n",
    "    })\n",
    "    exchange.set_sandbox_mode(False)\n",
    "    balance = exchange.fetch_balance()\n",
    "    return balance['USDT']['free']"
   ]
  },
  {
   "cell_type": "code",
   "execution_count": null,
   "metadata": {},
   "outputs": [],
   "source": [
    "def execute_trade():\n",
    "    try:\n",
    "        # Esegui operazioni di trading\n",
    "        order = buy_crypto('BTC/USDT', 0.01, cab.api_key, cab.api_secret)\n",
    "        # Altre operazioni...\n",
    "    except Exception as e:\n",
    "        error_message = f\"Errore durante l'esecuzione del trade: {str(e)}\"\n",
    "        invia_messaggio_telegram(TOKEN_TELEGRAM, CHAT_ID_TELEGRAM, error_message)"
   ]
  },
  {
   "cell_type": "code",
   "execution_count": null,
   "metadata": {},
   "outputs": [],
   "source": [
    "# invia_messaggio_telegram(TOKEN_TELEGRAM, CHAT_ID_TELEGRAM, 'Altra prova')"
   ]
  }
 ],
 "metadata": {
  "kernelspec": {
   "display_name": "myenv",
   "language": "python",
   "name": "python3"
  },
  "language_info": {
   "codemirror_mode": {
    "name": "ipython",
    "version": 3
   },
   "file_extension": ".py",
   "mimetype": "text/x-python",
   "name": "python",
   "nbconvert_exporter": "python",
   "pygments_lexer": "ipython3",
   "version": "3.10.9"
  }
 },
 "nbformat": 4,
 "nbformat_minor": 2
}
