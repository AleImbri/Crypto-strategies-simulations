{
 "cells": [
  {
   "cell_type": "code",
   "execution_count": 2,
   "metadata": {},
   "outputs": [],
   "source": [
    "import ccxt\n",
    "import config_API_Bybit as cab\n",
    "from telegram import Bot\n",
    "import asyncio"
   ]
  },
  {
   "cell_type": "code",
   "execution_count": 2,
   "metadata": {},
   "outputs": [],
   "source": [
    "# Inizializza il bot di Telegram\n",
    "telegram_bot = Bot(token=cab.token_telegram)\n",
    "chat_id = cab.id_chat_mio_gruppo  # ID della chat o del canale Telegram"
   ]
  },
  {
   "cell_type": "code",
   "execution_count": 3,
   "metadata": {},
   "outputs": [
    {
     "name": "stdout",
     "output_type": "stream",
     "text": [
      "Saldo di USDT nell'account spot:\n",
      "  Disponibile: 70.60821679\n",
      "  In uso: 0.0\n",
      "  Totale: 70.60821679\n",
      "\n",
      "Saldo di USDT nell'account funding:\n",
      "  Disponibile: 0.7349\n",
      "  In uso: 0.0\n",
      "  Totale: 0.7349\n",
      "\n",
      "Saldo di USDT nell'account unified:\n",
      "  Disponibile: 70.60821679\n",
      "  In uso: 0.0\n",
      "  Totale: 70.60821679\n",
      "\n"
     ]
    }
   ],
   "source": [
    "# Inizializza l'exchange Bybit\n",
    "exchange = ccxt.bybit({\n",
    "    'apiKey': cab.api_key,\n",
    "    'secret': cab.api_secret,\n",
    "    'enableRateLimit': True,\n",
    "    'options': {\n",
    "        'adjustForTimeDifference': True,\n",
    "    },\n",
    "})\n",
    "\n",
    "# Disabilita la modalità sandbox per l'ambiente live\n",
    "exchange.set_sandbox_mode(False)\n",
    "\n",
    "# Carica i mercati\n",
    "exchange.load_markets()\n",
    "\n",
    "def get_balance(crypto_symbol, account_type):\n",
    "    \"\"\"\n",
    "    Recupera il saldo di una specifica criptovaluta in un determinato account.\n",
    "\n",
    "    :param crypto_symbol: Simbolo della criptovaluta (es. 'FOXY')\n",
    "    :param account_type: Tipo di account (es. 'spot', 'funding', 'unified')\n",
    "    :return: Dizionario con i saldi 'free', 'used' e 'total'\n",
    "    \"\"\"\n",
    "    try:\n",
    "        # Recupera il saldo per il tipo di account specificato\n",
    "        balance = exchange.fetch_balance({'type': account_type, 'recvWindow': 20000}) # 10 secondi\n",
    "        # Ottieni il saldo della criptovaluta specificata\n",
    "        crypto_balance = balance.get(crypto_symbol, {'free': 0, 'used': 0, 'total': 0})\n",
    "        return crypto_balance\n",
    "    except Exception as e:\n",
    "        print(f\"Errore durante il recupero del saldo per {crypto_symbol} nell'account {account_type}: {e}\")\n",
    "        return None\n",
    "\n",
    "# Esempio di utilizzo\n",
    "crypto = 'USDT'\n",
    "account_types = ['spot', 'funding', 'unified']\n",
    "\n",
    "for account in account_types:\n",
    "    balance = get_balance(crypto, account)\n",
    "    if balance:\n",
    "        print(f\"Saldo di {crypto} nell'account {account}:\")\n",
    "        print(f\"  Disponibile: {balance['free']}\")\n",
    "        print(f\"  In uso: {balance['used']}\")\n",
    "        print(f\"  Totale: {balance['total']}\\n\")"
   ]
  },
  {
   "cell_type": "code",
   "execution_count": null,
   "metadata": {},
   "outputs": [],
   "source": [
    "def invia_messaggio_telegram(token, chat_id, messaggio):\n",
    "    try:\n",
    "        async def _invia():\n",
    "            bot = Bot(token=token)\n",
    "            await bot.send_message(chat_id=chat_id, text=messaggio)\n",
    "        \n",
    "        loop = asyncio.get_event_loop()\n",
    "        if loop.is_running():\n",
    "            loop.create_task(_invia())\n",
    "        else:\n",
    "            loop.run_until_complete(_invia())\n",
    "    except Exception as e:\n",
    "        print(f\"Errore nell'invio del messaggio Telegram: {e}\")\n",
    "\n",
    "# Esempio di utilizzo\n",
    "TOKEN = cab.token_telegram\n",
    "CHAT_ID = cab.id_chat_mio_gruppo\n",
    "MESSAGGIO = 'Messaggio di prova'\n",
    "\n",
    "# invia_messaggio_telegram(TOKEN, CHAT_ID, MESSAGGIO)"
   ]
  },
  {
   "cell_type": "code",
   "execution_count": null,
   "metadata": {},
   "outputs": [],
   "source": [
    "def buy_crypto(symbol, amount, api_key, api_secret):\n",
    "    exchange = ccxt.bybit({\n",
    "        'apiKey': api_key,\n",
    "        'secret': api_secret,\n",
    "        'enableRateLimit': True,\n",
    "    })\n",
    "    exchange.set_sandbox_mode(False)  # Imposta a True per il testnet\n",
    "    exchange.load_markets()\n",
    "    order = exchange.create_market_buy_order(symbol, amount)\n",
    "    return order"
   ]
  },
  {
   "cell_type": "code",
   "execution_count": null,
   "metadata": {},
   "outputs": [],
   "source": [
    "def sell_crypto(symbol, amount, api_key, api_secret):\n",
    "    exchange = ccxt.bybit({\n",
    "        'apiKey': api_key,\n",
    "        'secret': api_secret,\n",
    "        'enableRateLimit': True,\n",
    "    })\n",
    "    exchange.set_sandbox_mode(False)\n",
    "    exchange.load_markets()\n",
    "    order = exchange.create_market_sell_order(symbol, amount)\n",
    "    return order"
   ]
  },
  {
   "cell_type": "code",
   "execution_count": null,
   "metadata": {},
   "outputs": [],
   "source": [
    "def set_trailing_stop(symbol, side, amount, trailing_stop, api_key, api_secret):\n",
    "    exchange = ccxt.bybit({\n",
    "        'apiKey': api_key,\n",
    "        'secret': api_secret,\n",
    "        'enableRateLimit': True,\n",
    "    })\n",
    "    exchange.set_sandbox_mode(False)\n",
    "    exchange.load_markets()\n",
    "    params = {\n",
    "        'stop_loss': trailing_stop,\n",
    "    }\n",
    "    order = exchange.create_order(symbol, 'market', side, amount, None, params)\n",
    "    return order"
   ]
  },
  {
   "cell_type": "code",
   "execution_count": null,
   "metadata": {},
   "outputs": [],
   "source": [
    "def get_average_buy_price(symbol, api_key, api_secret):\n",
    "    exchange = ccxt.bybit({\n",
    "        'apiKey': api_key,\n",
    "        'secret': api_secret,\n",
    "        'enableRateLimit': True,\n",
    "    })\n",
    "    exchange.set_sandbox_mode(False)\n",
    "    exchange.load_markets()\n",
    "    orders = exchange.fetch_closed_orders(symbol)\n",
    "    total_cost = 0\n",
    "    total_amount = 0\n",
    "    for order in orders:\n",
    "        if order['side'] == 'buy':\n",
    "            total_cost += order['cost']\n",
    "            total_amount += order['filled']\n",
    "    if total_amount > 0:\n",
    "        return total_cost / total_amount\n",
    "    else:\n",
    "        return 0"
   ]
  },
  {
   "cell_type": "code",
   "execution_count": null,
   "metadata": {},
   "outputs": [],
   "source": [
    "def cancel_trailing_stop_orders(symbol, api_key, api_secret):\n",
    "    exchange = ccxt.bybit({\n",
    "        'apiKey': api_key,\n",
    "        'secret': api_secret,\n",
    "        'enableRateLimit': True,\n",
    "    })\n",
    "    exchange.set_sandbox_mode(False)\n",
    "    exchange.load_markets()\n",
    "    orders = exchange.fetch_open_orders(symbol)\n",
    "    for order in orders:\n",
    "        if 'trailing' in order['info']:\n",
    "            exchange.cancel_order(order['id'], symbol)"
   ]
  },
  {
   "cell_type": "code",
   "execution_count": null,
   "metadata": {},
   "outputs": [],
   "source": [
    "def get_available_usdt(api_key, api_secret):\n",
    "    exchange = ccxt.bybit({\n",
    "        'apiKey': api_key,\n",
    "        'secret': api_secret,\n",
    "        'enableRateLimit': True,\n",
    "    })\n",
    "    exchange.set_sandbox_mode(False)\n",
    "    balance = exchange.fetch_balance()\n",
    "    return balance['USDT']['free']"
   ]
  },
  {
   "cell_type": "code",
   "execution_count": null,
   "metadata": {},
   "outputs": [],
   "source": [
    "def execute_trade():\n",
    "    try:\n",
    "        # Esegui operazioni di trading\n",
    "        order = buy_crypto('BTC/USDT', 0.01, cab.api_key, cab.api_secret)\n",
    "        # Altre operazioni...\n",
    "    except Exception as e:\n",
    "        error_message = f\"Errore durante l'esecuzione del trade: {str(e)}\"\n",
    "        message = 'Errore incontrato'\n",
    "        invia_messaggio_telegram(TOKEN, CHAT_ID, message)"
   ]
  }
 ],
 "metadata": {
  "kernelspec": {
   "display_name": "myenv",
   "language": "python",
   "name": "python3"
  },
  "language_info": {
   "codemirror_mode": {
    "name": "ipython",
    "version": 3
   },
   "file_extension": ".py",
   "mimetype": "text/x-python",
   "name": "python",
   "nbconvert_exporter": "python",
   "pygments_lexer": "ipython3",
   "version": "3.10.9"
  }
 },
 "nbformat": 4,
 "nbformat_minor": 2
}
