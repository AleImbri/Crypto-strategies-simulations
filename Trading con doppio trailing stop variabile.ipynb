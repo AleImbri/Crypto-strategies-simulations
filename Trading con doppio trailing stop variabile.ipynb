{
 "cells": [
  {
   "cell_type": "markdown",
   "metadata": {},
   "source": [
    "# Importazione librerie"
   ]
  },
  {
   "cell_type": "code",
   "execution_count": 63,
   "metadata": {},
   "outputs": [],
   "source": [
    "import pandas as pd\n",
    "import matplotlib.pyplot as plt\n",
    "import plotly.graph_objects as go"
   ]
  },
  {
   "cell_type": "markdown",
   "metadata": {},
   "source": [
    "# Lettura dati Bitcoin"
   ]
  },
  {
   "cell_type": "code",
   "execution_count": 64,
   "metadata": {},
   "outputs": [
    {
     "data": {
      "text/html": [
       "<div>\n",
       "<style scoped>\n",
       "    .dataframe tbody tr th:only-of-type {\n",
       "        vertical-align: middle;\n",
       "    }\n",
       "\n",
       "    .dataframe tbody tr th {\n",
       "        vertical-align: top;\n",
       "    }\n",
       "\n",
       "    .dataframe thead th {\n",
       "        text-align: right;\n",
       "    }\n",
       "</style>\n",
       "<table border=\"1\" class=\"dataframe\">\n",
       "  <thead>\n",
       "    <tr style=\"text-align: right;\">\n",
       "      <th></th>\n",
       "      <th>Timestamp</th>\n",
       "      <th>Price</th>\n",
       "    </tr>\n",
       "  </thead>\n",
       "  <tbody>\n",
       "    <tr>\n",
       "      <th>0</th>\n",
       "      <td>2014-09-17</td>\n",
       "      <td>355.957367</td>\n",
       "    </tr>\n",
       "    <tr>\n",
       "      <th>1</th>\n",
       "      <td>2014-09-18</td>\n",
       "      <td>328.539368</td>\n",
       "    </tr>\n",
       "    <tr>\n",
       "      <th>2</th>\n",
       "      <td>2014-09-19</td>\n",
       "      <td>307.761139</td>\n",
       "    </tr>\n",
       "    <tr>\n",
       "      <th>3</th>\n",
       "      <td>2014-09-20</td>\n",
       "      <td>318.758972</td>\n",
       "    </tr>\n",
       "    <tr>\n",
       "      <th>4</th>\n",
       "      <td>2014-09-21</td>\n",
       "      <td>310.632446</td>\n",
       "    </tr>\n",
       "    <tr>\n",
       "      <th>...</th>\n",
       "      <td>...</td>\n",
       "      <td>...</td>\n",
       "    </tr>\n",
       "    <tr>\n",
       "      <th>3503</th>\n",
       "      <td>2024-04-20</td>\n",
       "      <td>59876.710938</td>\n",
       "    </tr>\n",
       "    <tr>\n",
       "      <th>3504</th>\n",
       "      <td>2024-04-21</td>\n",
       "      <td>60956.074219</td>\n",
       "    </tr>\n",
       "    <tr>\n",
       "      <th>3505</th>\n",
       "      <td>2024-04-22</td>\n",
       "      <td>60919.242188</td>\n",
       "    </tr>\n",
       "    <tr>\n",
       "      <th>3506</th>\n",
       "      <td>2024-04-23</td>\n",
       "      <td>62729.296875</td>\n",
       "    </tr>\n",
       "    <tr>\n",
       "      <th>3507</th>\n",
       "      <td>2024-04-24</td>\n",
       "      <td>62048.164062</td>\n",
       "    </tr>\n",
       "  </tbody>\n",
       "</table>\n",
       "<p>3508 rows × 2 columns</p>\n",
       "</div>"
      ],
      "text/plain": [
       "      Timestamp         Price\n",
       "0    2014-09-17    355.957367\n",
       "1    2014-09-18    328.539368\n",
       "2    2014-09-19    307.761139\n",
       "3    2014-09-20    318.758972\n",
       "4    2014-09-21    310.632446\n",
       "...         ...           ...\n",
       "3503 2024-04-20  59876.710938\n",
       "3504 2024-04-21  60956.074219\n",
       "3505 2024-04-22  60919.242188\n",
       "3506 2024-04-23  62729.296875\n",
       "3507 2024-04-24  62048.164062\n",
       "\n",
       "[3508 rows x 2 columns]"
      ]
     },
     "execution_count": 64,
     "metadata": {},
     "output_type": "execute_result"
    }
   ],
   "source": [
    "dati = pd.read_csv('Bitcoin (€) da yfinance dal 17-09-2014 al 24-04-2024.csv')\n",
    "dati = dati[['Date', 'Close']]\n",
    "dati = dati.rename(columns = {'Date':'Timestamp', 'Close': 'Price'})\n",
    "dati['Timestamp'] = pd.to_datetime(dati['Timestamp'])\n",
    "dati['Timestamp'] = dati['Timestamp'].dt.strftime('%Y-%m-%d')\n",
    "dati['Timestamp'] = pd.to_datetime(dati['Timestamp'], format='%Y-%m-%d')\n",
    "dati"
   ]
  },
  {
   "cell_type": "code",
   "execution_count": 65,
   "metadata": {},
   "outputs": [
    {
     "data": {
      "text/html": [
       "<div>\n",
       "<style scoped>\n",
       "    .dataframe tbody tr th:only-of-type {\n",
       "        vertical-align: middle;\n",
       "    }\n",
       "\n",
       "    .dataframe tbody tr th {\n",
       "        vertical-align: top;\n",
       "    }\n",
       "\n",
       "    .dataframe thead th {\n",
       "        text-align: right;\n",
       "    }\n",
       "</style>\n",
       "<table border=\"1\" class=\"dataframe\">\n",
       "  <thead>\n",
       "    <tr style=\"text-align: right;\">\n",
       "      <th></th>\n",
       "      <th>Timestamp</th>\n",
       "      <th>Price</th>\n",
       "    </tr>\n",
       "  </thead>\n",
       "  <tbody>\n",
       "    <tr>\n",
       "      <th>0</th>\n",
       "      <td>2021-02-01</td>\n",
       "      <td>27790.582031</td>\n",
       "    </tr>\n",
       "    <tr>\n",
       "      <th>1</th>\n",
       "      <td>2021-02-02</td>\n",
       "      <td>29501.521484</td>\n",
       "    </tr>\n",
       "    <tr>\n",
       "      <th>2</th>\n",
       "      <td>2021-02-03</td>\n",
       "      <td>31119.447266</td>\n",
       "    </tr>\n",
       "    <tr>\n",
       "      <th>3</th>\n",
       "      <td>2021-02-04</td>\n",
       "      <td>30859.554688</td>\n",
       "    </tr>\n",
       "    <tr>\n",
       "      <th>4</th>\n",
       "      <td>2021-02-05</td>\n",
       "      <td>31658.248047</td>\n",
       "    </tr>\n",
       "    <tr>\n",
       "      <th>...</th>\n",
       "      <td>...</td>\n",
       "      <td>...</td>\n",
       "    </tr>\n",
       "    <tr>\n",
       "      <th>146</th>\n",
       "      <td>2021-06-27</td>\n",
       "      <td>29013.742188</td>\n",
       "    </tr>\n",
       "    <tr>\n",
       "      <th>147</th>\n",
       "      <td>2021-06-28</td>\n",
       "      <td>28866.302734</td>\n",
       "    </tr>\n",
       "    <tr>\n",
       "      <th>148</th>\n",
       "      <td>2021-06-29</td>\n",
       "      <td>30139.980469</td>\n",
       "    </tr>\n",
       "    <tr>\n",
       "      <th>149</th>\n",
       "      <td>2021-06-30</td>\n",
       "      <td>29555.054688</td>\n",
       "    </tr>\n",
       "    <tr>\n",
       "      <th>150</th>\n",
       "      <td>2021-07-01</td>\n",
       "      <td>28341.414062</td>\n",
       "    </tr>\n",
       "  </tbody>\n",
       "</table>\n",
       "<p>151 rows × 2 columns</p>\n",
       "</div>"
      ],
      "text/plain": [
       "     Timestamp         Price\n",
       "0   2021-02-01  27790.582031\n",
       "1   2021-02-02  29501.521484\n",
       "2   2021-02-03  31119.447266\n",
       "3   2021-02-04  30859.554688\n",
       "4   2021-02-05  31658.248047\n",
       "..         ...           ...\n",
       "146 2021-06-27  29013.742188\n",
       "147 2021-06-28  28866.302734\n",
       "148 2021-06-29  30139.980469\n",
       "149 2021-06-30  29555.054688\n",
       "150 2021-07-01  28341.414062\n",
       "\n",
       "[151 rows x 2 columns]"
      ]
     },
     "execution_count": 65,
     "metadata": {},
     "output_type": "execute_result"
    }
   ],
   "source": [
    "# Bull market\n",
    "# data_inizio = '2020-12-01'\n",
    "# data_fine = '2021-04-30'\n",
    "\n",
    "# Mercato laterale\n",
    "# data_inizio = '2022-07-01'\n",
    "# data_fine = '2022-10-31'\n",
    "\n",
    "# Bear market\n",
    "# data_inizio = '2021-05-01'\n",
    "# data_fine = '2021-07-31'\n",
    "\n",
    "# Periodo personale\n",
    "data_inizio = '2021-02-01'\n",
    "data_fine = '2021-07-01'\n",
    "\n",
    "indice_inizio = dati[dati['Timestamp'] == data_inizio].index[0]\n",
    "indice_fine = dati[dati['Timestamp'] == data_fine].index[0]\n",
    "dati = dati[indice_inizio:indice_fine + 1].reset_index(drop=True)\n",
    "dati"
   ]
  },
  {
   "cell_type": "code",
   "execution_count": 66,
   "metadata": {},
   "outputs": [
    {
     "data": {
      "text/plain": [
       "[<matplotlib.lines.Line2D at 0x1e42e3792a0>]"
      ]
     },
     "execution_count": 66,
     "metadata": {},
     "output_type": "execute_result"
    },
    {
     "data": {
      "image/png": "[encoded data removed]",
      "text/plain": [
       "<Figure size 640x480 with 1 Axes>"
      ]
     },
     "metadata": {},
     "output_type": "display_data"
    }
   ],
   "source": [
    "plt.plot(dati['Timestamp'], dati['Price'])"
   ]
  },
  {
   "cell_type": "markdown",
   "metadata": {},
   "source": [
    "# Strategia"
   ]
  },
  {
   "cell_type": "code",
   "execution_count": 67,
   "metadata": {},
   "outputs": [],
   "source": [
    "# Funzioni di supporto\n",
    "def aggiorna_trailing_stop(prezzo, prezzo_TS, perc_TS):\n",
    "    return (1 - perc_TS) * prezzo + perc_TS * prezzo_TS\n",
    "\n",
    "def quanto_acquistare(liquidità_attuale):\n",
    "    return 0.2 * liquidità_attuale\n",
    "\n",
    "def quanto_vendere(bitcoin_posseduti):\n",
    "    return bitcoin_posseduti"
   ]
  },
  {
   "cell_type": "code",
   "execution_count": 68,
   "metadata": {},
   "outputs": [],
   "source": [
    "def strategia_trading(\n",
    "    dati, \n",
    "    liquidità_iniziale, \n",
    "    bitcoin_iniziali, \n",
    "    perc_primo_acquisto, \n",
    "    perc_TS, \n",
    "    perc_TS_inverso_setting\n",
    "):\n",
    "\n",
    "    # Dati iniziali\n",
    "    liquidità = liquidità_iniziale\n",
    "    bitcoin = bitcoin_iniziali\n",
    "    prezzo_TS = None\n",
    "    prezzo_TS_inverso = None\n",
    "    prezzo_minimo = None\n",
    "\n",
    "    # Variabili di supporto\n",
    "    prezzo_medio_acquisti = 0  # Media pesata dei prezzi degli acquisti\n",
    "    quantità_acquisti = 0  # Quantità totale di BTC acquistati nella scia attuale\n",
    "    valore_totale_acquisti = 0  # Valore totale degli acquisti effettuati\n",
    "    in_scia_acquisti = False  # Flag per controllare se siamo in una scia di acquisti\n",
    "    ultima_azione = \"-\"\n",
    "    oltre_TS = False\n",
    "\n",
    "    # Lista per registrare le transazioni\n",
    "    transazioni = []\n",
    "\n",
    "    # Itera sui dati\n",
    "    for _, row in dati.iterrows():\n",
    "        prezzo = row[\"Price\"]\n",
    "        timestamp = row[\"Timestamp\"]\n",
    "        azione = \"-\"\n",
    "        liquidità_spesa_o_guadagnata = 0\n",
    "        bitcoin_comprati_o_venduti = 0\n",
    "\n",
    "        # Aggiorna il prezzo minimo nella scia corrente\n",
    "        if in_scia_acquisti:\n",
    "            if prezzo_minimo is None or prezzo < prezzo_minimo:\n",
    "                prezzo_minimo = prezzo\n",
    "                prezzo_TS_inverso = min(\n",
    "                    prezzo * (1 + perc_TS_inverso_setting),\n",
    "                    prezzo_medio_acquisti\n",
    "                )\n",
    "\n",
    "        # Controlla se l'acquisto è un \"primo acquisto\"\n",
    "        if ultima_azione == \"Vendita\" or ultima_azione == \"-\":\n",
    "            # Primo acquisto\n",
    "            quantità_acquisto = perc_primo_acquisto * liquidità / prezzo\n",
    "            liquidità_spesa_o_guadagnata = quantità_acquisto * prezzo\n",
    "            liquidità -= liquidità_spesa_o_guadagnata\n",
    "            bitcoin_comprati_o_venduti = quantità_acquisto\n",
    "            bitcoin += bitcoin_comprati_o_venduti\n",
    "            prezzo_medio_acquisti = prezzo\n",
    "            valore_totale_acquisti = quantità_acquisto * prezzo\n",
    "            quantità_acquisti = quantità_acquisto\n",
    "            prezzo_TS = prezzo_medio_acquisti * (1 + perc_TS)\n",
    "            prezzo_minimo = prezzo\n",
    "            prezzo_TS_inverso = min(prezzo_minimo * (1 + perc_TS_inverso_setting), prezzo_medio_acquisti) # in realtà al primo acquisto è ovvio che venga uguale a prezzo_medio_acquisti, quindi il calcolo del minimo è superfluo\n",
    "            in_scia_acquisti = True\n",
    "            ultima_azione = \"Acquisto\"\n",
    "            azione = \"Acquisto\"\n",
    "\n",
    "        elif in_scia_acquisti:\n",
    "            # Controlla se effettuare un acquisto in scia\n",
    "            if prezzo < prezzo_medio_acquisti:\n",
    "                if prezzo < prezzo_TS and prezzo >= prezzo_TS_inverso:\n",
    "                    # Acquisto in scia\n",
    "                    quantità_acquisto = quanto_acquistare(liquidità) / prezzo\n",
    "                    liquidità_spesa_o_guadagnata = quantità_acquisto * prezzo\n",
    "                    liquidità -= liquidità_spesa_o_guadagnata\n",
    "                    bitcoin_comprati_o_venduti = quantità_acquisto\n",
    "                    bitcoin += bitcoin_comprati_o_venduti\n",
    "                    valore_totale_acquisti += liquidità_spesa_o_guadagnata\n",
    "                    quantità_acquisti += quantità_acquisto\n",
    "                    prezzo_medio_acquisti = valore_totale_acquisti / quantità_acquisti\n",
    "                    prezzo_TS = prezzo_medio_acquisti * (1 + perc_TS)\n",
    "                    azione = \"Acquisto\"\n",
    "\n",
    "        # Controlla se effettuare una vendita\n",
    "        if prezzo > prezzo_TS:\n",
    "            prezzo_TS = aggiorna_trailing_stop(prezzo, prezzo_TS, perc_TS)\n",
    "            oltre_TS = True\n",
    "        elif oltre_TS:\n",
    "            # Vendita\n",
    "            quantità_vendita = quanto_vendere(bitcoin)\n",
    "            liquidità_spesa_o_guadagnata = quantità_vendita * prezzo\n",
    "            liquidità += liquidità_spesa_o_guadagnata\n",
    "            bitcoin_comprati_o_venduti = -quantità_vendita\n",
    "            bitcoin += bitcoin_comprati_o_venduti\n",
    "            azione = \"Vendita\"\n",
    "            prezzo_TS = None\n",
    "            prezzo_TS_inverso = None\n",
    "            prezzo_minimo = None\n",
    "            prezzo_medio_acquisti = 0\n",
    "            quantità_acquisti = 0\n",
    "            valore_totale_acquisti = 0\n",
    "            in_scia_acquisti = False\n",
    "            ultima_azione = \"Vendita\"\n",
    "            oltre_TS = False\n",
    "\n",
    "        # Valore totale del portafoglio\n",
    "        valore_totale_portafoglio = liquidità + bitcoin * prezzo\n",
    "\n",
    "        # Registra la transazione\n",
    "        transazioni.append({\n",
    "            \"timestamp\": timestamp,\n",
    "            \"prezzo\": prezzo,\n",
    "            \"prezzo_TS\": prezzo_TS,\n",
    "            \"prezzo_TS_inverso\": prezzo_TS_inverso,\n",
    "            \"ultima_azione\": ultima_azione,\n",
    "            \"azione\": azione,\n",
    "            \"liquidità_spesa_o_guadagnata\": liquidità_spesa_o_guadagnata,\n",
    "            \"bitcoin_comprati_o_venduti\": bitcoin_comprati_o_venduti,\n",
    "            \"liquidità_posseduta\": liquidità,\n",
    "            \"bitcoin_posseduti\": bitcoin,\n",
    "            \"valore_totale_portafoglio\": valore_totale_portafoglio,\n",
    "        })\n",
    "\n",
    "    # Converti la lista di transazioni in un dataframe\n",
    "    df_transazioni = pd.DataFrame(transazioni)\n",
    "    return df_transazioni"
   ]
  },
  {
   "cell_type": "code",
   "execution_count": 69,
   "metadata": {},
   "outputs": [
    {
     "data": {
      "text/html": [
       "<div>\n",
       "<style scoped>\n",
       "    .dataframe tbody tr th:only-of-type {\n",
       "        vertical-align: middle;\n",
       "    }\n",
       "\n",
       "    .dataframe tbody tr th {\n",
       "        vertical-align: top;\n",
       "    }\n",
       "\n",
       "    .dataframe thead th {\n",
       "        text-align: right;\n",
       "    }\n",
       "</style>\n",
       "<table border=\"1\" class=\"dataframe\">\n",
       "  <thead>\n",
       "    <tr style=\"text-align: right;\">\n",
       "      <th></th>\n",
       "      <th>timestamp</th>\n",
       "      <th>prezzo</th>\n",
       "      <th>prezzo_TS</th>\n",
       "      <th>prezzo_TS_inverso</th>\n",
       "      <th>ultima_azione</th>\n",
       "      <th>azione</th>\n",
       "      <th>liquidità_spesa_o_guadagnata</th>\n",
       "      <th>bitcoin_comprati_o_venduti</th>\n",
       "      <th>liquidità_posseduta</th>\n",
       "      <th>bitcoin_posseduti</th>\n",
       "      <th>valore_totale_portafoglio</th>\n",
       "    </tr>\n",
       "  </thead>\n",
       "  <tbody>\n",
       "    <tr>\n",
       "      <th>0</th>\n",
       "      <td>2021-02-01</td>\n",
       "      <td>27790.582031</td>\n",
       "      <td>27790.582031</td>\n",
       "      <td>27790.582031</td>\n",
       "      <td>Acquisto</td>\n",
       "      <td>Acquisto</td>\n",
       "      <td>0.001000</td>\n",
       "      <td>3.598341e-08</td>\n",
       "      <td>0.009000</td>\n",
       "      <td>0.024781</td>\n",
       "      <td>688.701197</td>\n",
       "    </tr>\n",
       "    <tr>\n",
       "      <th>1</th>\n",
       "      <td>2021-02-02</td>\n",
       "      <td>29501.521484</td>\n",
       "      <td>29501.521484</td>\n",
       "      <td>27790.582031</td>\n",
       "      <td>Acquisto</td>\n",
       "      <td>-</td>\n",
       "      <td>0.000000</td>\n",
       "      <td>0.000000e+00</td>\n",
       "      <td>0.009000</td>\n",
       "      <td>0.024781</td>\n",
       "      <td>731.100836</td>\n",
       "    </tr>\n",
       "    <tr>\n",
       "      <th>2</th>\n",
       "      <td>2021-02-03</td>\n",
       "      <td>31119.447266</td>\n",
       "      <td>31119.447266</td>\n",
       "      <td>27790.582031</td>\n",
       "      <td>Acquisto</td>\n",
       "      <td>-</td>\n",
       "      <td>0.000000</td>\n",
       "      <td>0.000000e+00</td>\n",
       "      <td>0.009000</td>\n",
       "      <td>0.024781</td>\n",
       "      <td>771.195457</td>\n",
       "    </tr>\n",
       "    <tr>\n",
       "      <th>3</th>\n",
       "      <td>2021-02-04</td>\n",
       "      <td>30859.554688</td>\n",
       "      <td>NaN</td>\n",
       "      <td>NaN</td>\n",
       "      <td>Vendita</td>\n",
       "      <td>Vendita</td>\n",
       "      <td>764.745931</td>\n",
       "      <td>-2.478150e-02</td>\n",
       "      <td>764.754931</td>\n",
       "      <td>0.000000</td>\n",
       "      <td>764.754931</td>\n",
       "    </tr>\n",
       "    <tr>\n",
       "      <th>4</th>\n",
       "      <td>2021-02-05</td>\n",
       "      <td>31658.248047</td>\n",
       "      <td>31658.248047</td>\n",
       "      <td>31658.248047</td>\n",
       "      <td>Acquisto</td>\n",
       "      <td>Acquisto</td>\n",
       "      <td>76.475493</td>\n",
       "      <td>2.415658e-03</td>\n",
       "      <td>688.279437</td>\n",
       "      <td>0.002416</td>\n",
       "      <td>764.754931</td>\n",
       "    </tr>\n",
       "    <tr>\n",
       "      <th>...</th>\n",
       "      <td>...</td>\n",
       "      <td>...</td>\n",
       "      <td>...</td>\n",
       "      <td>...</td>\n",
       "      <td>...</td>\n",
       "      <td>...</td>\n",
       "      <td>...</td>\n",
       "      <td>...</td>\n",
       "      <td>...</td>\n",
       "      <td>...</td>\n",
       "      <td>...</td>\n",
       "    </tr>\n",
       "    <tr>\n",
       "      <th>146</th>\n",
       "      <td>2021-06-27</td>\n",
       "      <td>29013.742188</td>\n",
       "      <td>29265.597942</td>\n",
       "      <td>27827.983887</td>\n",
       "      <td>Acquisto</td>\n",
       "      <td>Acquisto</td>\n",
       "      <td>90.658611</td>\n",
       "      <td>3.124678e-03</td>\n",
       "      <td>362.634444</td>\n",
       "      <td>0.014499</td>\n",
       "      <td>783.315359</td>\n",
       "    </tr>\n",
       "    <tr>\n",
       "      <th>147</th>\n",
       "      <td>2021-06-28</td>\n",
       "      <td>28866.302734</td>\n",
       "      <td>29206.625417</td>\n",
       "      <td>27827.983887</td>\n",
       "      <td>Acquisto</td>\n",
       "      <td>Acquisto</td>\n",
       "      <td>72.526889</td>\n",
       "      <td>2.512510e-03</td>\n",
       "      <td>290.107555</td>\n",
       "      <td>0.017012</td>\n",
       "      <td>781.177580</td>\n",
       "    </tr>\n",
       "    <tr>\n",
       "      <th>148</th>\n",
       "      <td>2021-06-29</td>\n",
       "      <td>30139.980469</td>\n",
       "      <td>30139.980469</td>\n",
       "      <td>27827.983887</td>\n",
       "      <td>Acquisto</td>\n",
       "      <td>-</td>\n",
       "      <td>0.000000</td>\n",
       "      <td>0.000000e+00</td>\n",
       "      <td>290.107555</td>\n",
       "      <td>0.017012</td>\n",
       "      <td>802.845231</td>\n",
       "    </tr>\n",
       "    <tr>\n",
       "      <th>149</th>\n",
       "      <td>2021-06-30</td>\n",
       "      <td>29555.054688</td>\n",
       "      <td>NaN</td>\n",
       "      <td>NaN</td>\n",
       "      <td>Vendita</td>\n",
       "      <td>Vendita</td>\n",
       "      <td>502.786990</td>\n",
       "      <td>-1.701188e-02</td>\n",
       "      <td>792.894545</td>\n",
       "      <td>0.000000</td>\n",
       "      <td>792.894545</td>\n",
       "    </tr>\n",
       "    <tr>\n",
       "      <th>150</th>\n",
       "      <td>2021-07-01</td>\n",
       "      <td>28341.414062</td>\n",
       "      <td>28341.414062</td>\n",
       "      <td>28341.414062</td>\n",
       "      <td>Acquisto</td>\n",
       "      <td>Acquisto</td>\n",
       "      <td>79.289454</td>\n",
       "      <td>2.797653e-03</td>\n",
       "      <td>713.605090</td>\n",
       "      <td>0.002798</td>\n",
       "      <td>792.894545</td>\n",
       "    </tr>\n",
       "  </tbody>\n",
       "</table>\n",
       "<p>151 rows × 11 columns</p>\n",
       "</div>"
      ],
      "text/plain": [
       "     timestamp        prezzo     prezzo_TS  prezzo_TS_inverso ultima_azione  \\\n",
       "0   2021-02-01  27790.582031  27790.582031       27790.582031      Acquisto   \n",
       "1   2021-02-02  29501.521484  29501.521484       27790.582031      Acquisto   \n",
       "2   2021-02-03  31119.447266  31119.447266       27790.582031      Acquisto   \n",
       "3   2021-02-04  30859.554688           NaN                NaN       Vendita   \n",
       "4   2021-02-05  31658.248047  31658.248047       31658.248047      Acquisto   \n",
       "..         ...           ...           ...                ...           ...   \n",
       "146 2021-06-27  29013.742188  29265.597942       27827.983887      Acquisto   \n",
       "147 2021-06-28  28866.302734  29206.625417       27827.983887      Acquisto   \n",
       "148 2021-06-29  30139.980469  30139.980469       27827.983887      Acquisto   \n",
       "149 2021-06-30  29555.054688           NaN                NaN       Vendita   \n",
       "150 2021-07-01  28341.414062  28341.414062       28341.414062      Acquisto   \n",
       "\n",
       "       azione  liquidità_spesa_o_guadagnata  bitcoin_comprati_o_venduti  \\\n",
       "0    Acquisto                      0.001000                3.598341e-08   \n",
       "1           -                      0.000000                0.000000e+00   \n",
       "2           -                      0.000000                0.000000e+00   \n",
       "3     Vendita                    764.745931               -2.478150e-02   \n",
       "4    Acquisto                     76.475493                2.415658e-03   \n",
       "..        ...                           ...                         ...   \n",
       "146  Acquisto                     90.658611                3.124678e-03   \n",
       "147  Acquisto                     72.526889                2.512510e-03   \n",
       "148         -                      0.000000                0.000000e+00   \n",
       "149   Vendita                    502.786990               -1.701188e-02   \n",
       "150  Acquisto                     79.289454                2.797653e-03   \n",
       "\n",
       "     liquidità_posseduta  bitcoin_posseduti  valore_totale_portafoglio  \n",
       "0               0.009000           0.024781                 688.701197  \n",
       "1               0.009000           0.024781                 731.100836  \n",
       "2               0.009000           0.024781                 771.195457  \n",
       "3             764.754931           0.000000                 764.754931  \n",
       "4             688.279437           0.002416                 764.754931  \n",
       "..                   ...                ...                        ...  \n",
       "146           362.634444           0.014499                 783.315359  \n",
       "147           290.107555           0.017012                 781.177580  \n",
       "148           290.107555           0.017012                 802.845231  \n",
       "149           792.894545           0.000000                 792.894545  \n",
       "150           713.605090           0.002798                 792.894545  \n",
       "\n",
       "[151 rows x 11 columns]"
      ]
     },
     "execution_count": 69,
     "metadata": {},
     "output_type": "execute_result"
    }
   ],
   "source": [
    "df_transazioni = strategia_trading(\n",
    "    dati,\n",
    "    liquidità_iniziale=0.01,\n",
    "    bitcoin_iniziali=0.02478146,\n",
    "    perc_primo_acquisto=0.1,\n",
    "    perc_TS=0,\n",
    "    perc_TS_inverso_setting=0.05\n",
    ")\n",
    "\n",
    "df_transazioni"
   ]
  },
  {
   "cell_type": "code",
   "execution_count": 70,
   "metadata": {},
   "outputs": [
    {
     "data": {
      "text/plain": [
       "np.float64(1.1512896278341151)"
      ]
     },
     "execution_count": 70,
     "metadata": {},
     "output_type": "execute_result"
    }
   ],
   "source": [
    "df_transazioni['valore_totale_portafoglio'].iloc[-1] / df_transazioni['valore_totale_portafoglio'].iloc[0]"
   ]
  },
  {
   "cell_type": "code",
   "execution_count": 71,
   "metadata": {},
   "outputs": [],
   "source": [
    "# Funzione per creare il grafico delle transazioni\n",
    "def crea_grafico_transazioni(df_transazioni):\n",
    "    # Gestione NaN per sicurezza\n",
    "    df_transazioni['bitcoin_comprati_o_venduti'] = pd.to_numeric(df_transazioni['bitcoin_comprati_o_venduti'], errors='coerce')\n",
    "    df_transazioni['liquidità_spesa_o_guadagnata'] = pd.to_numeric(df_transazioni['liquidità_spesa_o_guadagnata'], errors='coerce')\n",
    "\n",
    "    # Filtra solo le transazioni di vendita e acquisto\n",
    "    vendite = df_transazioni[df_transazioni['azione'] == 'Vendita']\n",
    "    acquisti = df_transazioni[df_transazioni['azione'] == 'Acquisto']\n",
    "\n",
    "    # Calcolo della dimensione dei punti per le vendite e gli acquisti\n",
    "    max_quantita_vendita = vendite['bitcoin_comprati_o_venduti'].abs().max()\n",
    "    max_quantita_acquisto = acquisti['liquidità_spesa_o_guadagnata'].max()\n",
    "\n",
    "    def calcola_dimensione(quantita, max_quantita, min_size=10, max_size=50):\n",
    "        return min_size + (max_size - min_size) * (quantita / max_quantita) if max_quantita != 0 else min_size\n",
    "\n",
    "    # Applica la funzione di dimensione per ogni punto vendita e acquisto\n",
    "    dimensioni_vendite = vendite['bitcoin_comprati_o_venduti'].abs().apply(lambda x: calcola_dimensione(x, max_quantita_vendita))\n",
    "    dimensioni_acquisti = acquisti['liquidità_spesa_o_guadagnata'].apply(lambda x: calcola_dimensione(x, max_quantita_acquisto))\n",
    "\n",
    "    # Funzione per formattare in modo sicuro i valori\n",
    "    def safe_format(value, precision=2):\n",
    "        return f\"{float(value):.{precision}f}\" if pd.notna(value) else \"None\"\n",
    "\n",
    "    # Creazione del grafico\n",
    "    fig = go.Figure()\n",
    "\n",
    "    # Linea dell'andamento dei prezzi\n",
    "    fig.add_trace(go.Scatter(\n",
    "        x=df_transazioni['timestamp'],\n",
    "        y=df_transazioni['prezzo'],\n",
    "        mode='lines',\n",
    "        name='Prezzi Bitcoin',\n",
    "        line=dict(color='blue', width=2),\n",
    "        hoverinfo='x+y'\n",
    "    ))\n",
    "\n",
    "    # Scatter plot per le vendite\n",
    "    fig.add_trace(go.Scatter(\n",
    "        x=vendite['timestamp'],\n",
    "        y=vendite['prezzo'],\n",
    "        mode='markers',\n",
    "        name='Vendite',\n",
    "        marker=dict(color='red', size=dimensioni_vendite, opacity=0.7),\n",
    "        text=[\n",
    "            f\"Timestamp: {timestamp}<br>Prezzo: {safe_format(prezzo)} €<br>Bitcoin venduti: {safe_format(btc_venduti, 4)}<br>Liquidità guadagnata: {safe_format(liquid_guad, 2)} €<br>Valore totale portafoglio: {safe_format(val_port, 2)} €\"\n",
    "            for timestamp, prezzo, btc_venduti, liquid_guad, val_port in zip(\n",
    "                vendite['timestamp'],\n",
    "                vendite['prezzo'],\n",
    "                vendite['bitcoin_comprati_o_venduti'],\n",
    "                vendite['liquidità_spesa_o_guadagnata'],\n",
    "                vendite['valore_totale_portafoglio']\n",
    "            )\n",
    "        ],\n",
    "        hoverinfo='text'\n",
    "    ))\n",
    "\n",
    "    # Scatter plot per gli acquisti\n",
    "    fig.add_trace(go.Scatter(\n",
    "        x=acquisti['timestamp'],\n",
    "        y=acquisti['prezzo'],\n",
    "        mode='markers',\n",
    "        name='Acquisti',\n",
    "        marker=dict(color='green', size=dimensioni_acquisti, opacity=0.7),\n",
    "        text=[\n",
    "            f\"Timestamp: {timestamp}<br>Prezzo: {safe_format(prezzo)} €<br>Liquidità spesa: {safe_format(liquid_spesa, 2)} €<br>Bitcoin comprati: {safe_format(btc_comprati, 4)}<br>Valore totale portafoglio: {safe_format(val_port, 2)} €\"\n",
    "            for timestamp, prezzo, liquid_spesa, btc_comprati, val_port in zip(\n",
    "                acquisti['timestamp'],\n",
    "                acquisti['prezzo'],\n",
    "                acquisti['liquidità_spesa_o_guadagnata'],\n",
    "                acquisti['bitcoin_comprati_o_venduti'],\n",
    "                acquisti['valore_totale_portafoglio']\n",
    "            )\n",
    "        ],\n",
    "        hoverinfo='text'\n",
    "    ))\n",
    "\n",
    "    # Configurazione del layout\n",
    "    fig.update_layout(\n",
    "        title='Andamento Prezzi Bitcoin, Transazioni di Vendita e Acquisto',\n",
    "        xaxis_title='Data',\n",
    "        yaxis_title='Prezzo (€)',\n",
    "        hovermode='closest',\n",
    "        template='plotly_white',\n",
    "        legend=dict(yanchor=\"top\", y=0.99, xanchor=\"left\", x=0.01),\n",
    "        width=1200,\n",
    "        height=800,\n",
    "        xaxis=dict(\n",
    "            rangeslider=dict(visible=True),  # Abilita il range slider\n",
    "            type=\"date\"  # Imposta l'asse x come asse temporale\n",
    "        )\n",
    "    )\n",
    "\n",
    "    # Mostra il grafico\n",
    "    fig.show()"
   ]
  },
  {
   "cell_type": "code",
   "execution_count": 72,
   "metadata": {},
   "outputs": [
    {
     "data": {
      "application/vnd.plotly.v1+json": {
       "config": {
        "plotlyServerURL": "https://plot.ly"
       },
       "data": [
        {
         "hoverinfo": "x+y",
         "line": {
          "color": "blue",
          "width": 2
         },
         "mode": "lines",
         "name": "Prezzi Bitcoin",
         "type": "scatter",
         "x": [
          "2021-02-01T00:00:00",
          "2021-02-02T00:00:00",
          "2021-02-03T00:00:00",
          "2021-02-04T00:00:00",
          "2021-02-05T00:00:00",
          "2021-02-06T00:00:00",
          "2021-02-07T00:00:00",
          "2021-02-08T00:00:00",
          "2021-02-09T00:00:00",
          "2021-02-10T00:00:00",
          "2021-02-11T00:00:00",
          "2021-02-12T00:00:00",
          "2021-02-13T00:00:00",
          "2021-02-14T00:00:00",
          "2021-02-15T00:00:00",
          "2021-02-16T00:00:00",
          "2021-02-17T00:00:00",
          "2021-02-18T00:00:00",
          "2021-02-19T00:00:00",
          "2021-02-20T00:00:00",
          "2021-02-21T00:00:00",
          "2021-02-22T00:00:00",
          "2021-02-23T00:00:00",
          "2021-02-24T00:00:00",
          "2021-02-25T00:00:00",
          "2021-02-26T00:00:00",
          "2021-02-27T00:00:00",
          "2021-02-28T00:00:00",
          "2021-03-01T00:00:00",
          "2021-03-02T00:00:00",
          "2021-03-03T00:00:00",
          "2021-03-04T00:00:00",
          "2021-03-05T00:00:00",
          "2021-03-06T00:00:00",
          "2021-03-07T00:00:00",
          "2021-03-08T00:00:00",
          "2021-03-09T00:00:00",
          "2021-03-10T00:00:00",
          "2021-03-11T00:00:00",
          "2021-03-12T00:00:00",
          "2021-03-13T00:00:00",
          "2021-03-14T00:00:00",
          "2021-03-15T00:00:00",
          "2021-03-16T00:00:00",
          "2021-03-17T00:00:00",
          "2021-03-18T00:00:00",
          "2021-03-19T00:00:00",
          "2021-03-20T00:00:00",
          "2021-03-21T00:00:00",
          "2021-03-22T00:00:00",
          "2021-03-23T00:00:00",
          "2021-03-24T00:00:00",
          "2021-03-25T00:00:00",
          "2021-03-26T00:00:00",
          "2021-03-27T00:00:00",
          "2021-03-28T00:00:00",
          "2021-03-29T00:00:00",
          "2021-03-30T00:00:00",
          "2021-03-31T00:00:00",
          "2021-04-01T00:00:00",
          "2021-04-02T00:00:00",
          "2021-04-03T00:00:00",
          "2021-04-04T00:00:00",
          "2021-04-05T00:00:00",
          "2021-04-06T00:00:00",
          "2021-04-07T00:00:00",
          "2021-04-08T00:00:00",
          "2021-04-09T00:00:00",
          "2021-04-10T00:00:00",
          "2021-04-11T00:00:00",
          "2021-04-12T00:00:00",
          "2021-04-13T00:00:00",
          "2021-04-14T00:00:00",
          "2021-04-15T00:00:00",
          "2021-04-16T00:00:00",
          "2021-04-17T00:00:00",
          "2021-04-18T00:00:00",
          "2021-04-19T00:00:00",
          "2021-04-20T00:00:00",
          "2021-04-21T00:00:00",
          "2021-04-22T00:00:00",
          "2021-04-23T00:00:00",
          "2021-04-24T00:00:00",
          "2021-04-25T00:00:00",
          "2021-04-26T00:00:00",
          "2021-04-27T00:00:00",
          "2021-04-28T00:00:00",
          "2021-04-29T00:00:00",
          "2021-04-30T00:00:00",
          "2021-05-01T00:00:00",
          "2021-05-02T00:00:00",
          "2021-05-03T00:00:00",
          "2021-05-04T00:00:00",
          "2021-05-05T00:00:00",
          "2021-05-06T00:00:00",
          "2021-05-07T00:00:00",
          "2021-05-08T00:00:00",
          "2021-05-09T00:00:00",
          "2021-05-10T00:00:00",
          "2021-05-11T00:00:00",
          "2021-05-12T00:00:00",
          "2021-05-13T00:00:00",
          "2021-05-14T00:00:00",
          "2021-05-15T00:00:00",
          "2021-05-16T00:00:00",
          "2021-05-17T00:00:00",
          "2021-05-18T00:00:00",
          "2021-05-19T00:00:00",
          "2021-05-20T00:00:00",
          "2021-05-21T00:00:00",
          "2021-05-22T00:00:00",
          "2021-05-23T00:00:00",
          "2021-05-24T00:00:00",
          "2021-05-25T00:00:00",
          "2021-05-26T00:00:00",
          "2021-05-27T00:00:00",
          "2021-05-28T00:00:00",
          "2021-05-29T00:00:00",
          "2021-05-30T00:00:00",
          "2021-05-31T00:00:00",
          "2021-06-01T00:00:00",
          "2021-06-02T00:00:00",
          "2021-06-03T00:00:00",
          "2021-06-04T00:00:00",
          "2021-06-05T00:00:00",
          "2021-06-06T00:00:00",
          "2021-06-07T00:00:00",
          "2021-06-08T00:00:00",
          "2021-06-09T00:00:00",
          "2021-06-10T00:00:00",
          "2021-06-11T00:00:00",
          "2021-06-12T00:00:00",
          "2021-06-13T00:00:00",
          "2021-06-14T00:00:00",
          "2021-06-15T00:00:00",
          "2021-06-16T00:00:00",
          "2021-06-17T00:00:00",
          "2021-06-18T00:00:00",
          "2021-06-19T00:00:00",
          "2021-06-20T00:00:00",
          "2021-06-21T00:00:00",
          "2021-06-22T00:00:00",
          "2021-06-23T00:00:00",
          "2021-06-24T00:00:00",
          "2021-06-25T00:00:00",
          "2021-06-26T00:00:00",
          "2021-06-27T00:00:00",
          "2021-06-28T00:00:00",
          "2021-06-29T00:00:00",
          "2021-06-30T00:00:00",
          "2021-07-01T00:00:00"
         ],
         "y": [
          27790.58203125,
          29501.521484375,
          31119.447265625,
          30859.5546875,
          31658.248046875,
          32588.47265625,
          32288.650390625,
          38329.66796875,
          38362.296875,
          37065.046875,
          39494.44140625,
          39194.921875,
          38864.359375,
          40194.0546875,
          39518.80859375,
          40700.7421875,
          43293.16796875,
          42739.44921875,
          46119,
          46293.4375,
          47456.125,
          44563.2421875,
          40181.33203125,
          40844.4140625,
          38735.1640625,
          38385.91015625,
          38260.48046875,
          37332.50390625,
          41192.19140625,
          40032.6953125,
          41952.8046875,
          40578.53515625,
          41076.52734375,
          41047.3203125,
          42935.9921875,
          44086.50390625,
          46082.24609375,
          46969.328125,
          48247.39453125,
          47962.9375,
          51235.53515625,
          49624.296875,
          46876.453125,
          47727.08203125,
          49129.87890625,
          48546.06640625,
          48839.94140625,
          48812.30859375,
          48405.2109375,
          45699.40625,
          46230.26953125,
          44675.62890625,
          43907.328125,
          46749.44140625,
          47458.4296875,
          47471.80078125,
          49071.7890625,
          50257.0859375,
          50240.55859375,
          50172.63671875,
          50497.2734375,
          48985.828125,
          49933.19921875,
          49976.84375,
          49008.61328125,
          47210.01953125,
          48948.37890625,
          48942.109375,
          50242.22265625,
          50609.1953125,
          50273.60546875,
          53123.62890625,
          52664.09375,
          52896.38671875,
          51386.25,
          50646.05078125,
          46968.79296875,
          46276.83203125,
          46933.71875,
          44784.20703125,
          43083.34375,
          42231.40625,
          41374.1015625,
          40534.26171875,
          44721.85546875,
          45522.515625,
          45178.68359375,
          44170.96875,
          48047.05078125,
          48110.046875,
          47088.5703125,
          47432.76953125,
          44387.26171875,
          47823.05859375,
          46742.55859375,
          47155.5078125,
          48345.46484375,
          47846.5234375,
          46010.484375,
          46692.53125,
          40695.51171875,
          41166.6953125,
          41072.77734375,
          38498.73828125,
          38235.890625,
          35814.0859375,
          35106.796875,
          30403.203125,
          33359.13671875,
          30627.822265625,
          30818.25,
          28545.537109375,
          31689.203125,
          31356.951171875,
          32229.533203125,
          31524.041015625,
          29278.3203125,
          28391.1640625,
          29269.517578125,
          30519.30859375,
          30026.794921875,
          30775.01171875,
          32321.55078125,
          30322.69921875,
          29221.080078125,
          29474.392578125,
          27526.4921875,
          27497.93359375,
          30664.52734375,
          30150.48828125,
          30832.0546875,
          29360.513671875,
          32286.505859375,
          33178.515625,
          33325.59375,
          31969.333984375,
          31943.0625,
          30165.85546875,
          30019.2265625,
          30071.78125,
          26591.064453125,
          27232.396484375,
          28266.576171875,
          29059.703125,
          26502.841796875,
          26965.501953125,
          29013.7421875,
          28866.302734375,
          30139.98046875,
          29555.0546875,
          28341.4140625
         ]
        },
        {
         "hoverinfo": "text",
         "marker": {
          "color": "red",
          "opacity": 0.7,
          "size": [
           50,
           13.899131476385922,
           13.226886121470553,
           13.121385956956237,
           13.029060260253686,
           12.686583346734597,
           13.073182590585958,
           13.205346329986538,
           12.945404695553826,
           24.116870736502356,
           12.564740566703682,
           12.57094304240633,
           12.714205726040918,
           12.559755985226424,
           27.6291994787536,
           17.772271362023204,
           12.761852218175777,
           12.834731994816742,
           48.711797791958894,
           37.45900116734646
          ]
         },
         "mode": "markers",
         "name": "Vendite",
         "text": [
          "Timestamp: 2021-02-04 00:00:00<br>Prezzo: 30859.55 €<br>Bitcoin venduti: -0.0248<br>Liquidità guadagnata: 764.75 €<br>Valore totale portafoglio: 764.75 €",
          "Timestamp: 2021-02-07 00:00:00<br>Prezzo: 32288.65 €<br>Bitcoin venduti: -0.0024<br>Liquidità guadagnata: 78.00 €<br>Valore totale portafoglio: 766.28 €",
          "Timestamp: 2021-02-10 00:00:00<br>Prezzo: 37065.05 €<br>Bitcoin venduti: -0.0020<br>Liquidità guadagnata: 74.10 €<br>Valore totale portafoglio: 763.75 €",
          "Timestamp: 2021-02-15 00:00:00<br>Prezzo: 39518.81 €<br>Bitcoin venduti: -0.0019<br>Liquidità guadagnata: 76.42 €<br>Valore totale portafoglio: 763.80 €",
          "Timestamp: 2021-02-18 00:00:00<br>Prezzo: 42739.45 €<br>Bitcoin venduti: -0.0019<br>Liquidità guadagnata: 80.21 €<br>Valore totale portafoglio: 767.62 €",
          "Timestamp: 2021-02-22 00:00:00<br>Prezzo: 44563.24 €<br>Bitcoin venduti: -0.0017<br>Liquidità guadagnata: 74.17 €<br>Valore totale portafoglio: 765.03 €",
          "Timestamp: 2021-02-25 00:00:00<br>Prezzo: 38735.16 €<br>Bitcoin venduti: -0.0019<br>Liquidità guadagnata: 73.75 €<br>Valore totale portafoglio: 762.28 €",
          "Timestamp: 2021-03-02 00:00:00<br>Prezzo: 40032.70 €<br>Bitcoin venduti: -0.0020<br>Liquidità guadagnata: 79.50 €<br>Valore totale portafoglio: 765.55 €",
          "Timestamp: 2021-03-12 00:00:00<br>Prezzo: 47962.94 €<br>Bitcoin venduti: -0.0018<br>Liquidità guadagnata: 87.52 €<br>Valore totale portafoglio: 776.52 €",
          "Timestamp: 2021-03-31 00:00:00<br>Prezzo: 50240.56 €<br>Bitcoin venduti: -0.0087<br>Liquidità guadagnata: 439.40 €<br>Valore totale portafoglio: 797.22 €",
          "Timestamp: 2021-04-03 00:00:00<br>Prezzo: 48985.83 €<br>Bitcoin venduti: -0.0016<br>Liquidità guadagnata: 77.84 €<br>Valore totale portafoglio: 795.33 €",
          "Timestamp: 2021-04-06 00:00:00<br>Prezzo: 49008.61 €<br>Bitcoin venduti: -0.0016<br>Liquidità guadagnata: 78.06 €<br>Valore totale portafoglio: 793.86 €",
          "Timestamp: 2021-04-09 00:00:00<br>Prezzo: 48942.11 €<br>Bitcoin venduti: -0.0017<br>Liquidità guadagnata: 82.30 €<br>Valore totale portafoglio: 796.77 €",
          "Timestamp: 2021-04-12 00:00:00<br>Prezzo: 50273.61 €<br>Bitcoin venduti: -0.0016<br>Liquidità guadagnata: 79.73 €<br>Valore totale portafoglio: 796.82 €",
          "Timestamp: 2021-05-02 00:00:00<br>Prezzo: 47088.57 €<br>Bitcoin venduti: -0.0109<br>Liquidità guadagnata: 514.30 €<br>Valore totale portafoglio: 808.04 €",
          "Timestamp: 2021-05-06 00:00:00<br>Prezzo: 46742.56 €<br>Bitcoin venduti: -0.0048<br>Liquidità guadagnata: 225.08 €<br>Valore totale portafoglio: 806.86 €",
          "Timestamp: 2021-05-09 00:00:00<br>Prezzo: 47846.52 €<br>Bitcoin venduti: -0.0017<br>Liquidità guadagnata: 81.87 €<br>Valore totale portafoglio: 808.05 €",
          "Timestamp: 2021-05-12 00:00:00<br>Prezzo: 40695.51 €<br>Bitcoin venduti: -0.0018<br>Liquidità guadagnata: 71.47 €<br>Valore totale portafoglio: 798.71 €",
          "Timestamp: 2021-06-16 00:00:00<br>Prezzo: 31969.33 €<br>Bitcoin venduti: -0.0240<br>Liquidità guadagnata: 766.73 €<br>Valore totale portafoglio: 786.97 €",
          "Timestamp: 2021-06-30 00:00:00<br>Prezzo: 29555.05 €<br>Bitcoin venduti: -0.0170<br>Liquidità guadagnata: 502.79 €<br>Valore totale portafoglio: 792.89 €"
         ],
         "type": "scatter",
         "x": [
          "2021-02-04T00:00:00",
          "2021-02-07T00:00:00",
          "2021-02-10T00:00:00",
          "2021-02-15T00:00:00",
          "2021-02-18T00:00:00",
          "2021-02-22T00:00:00",
          "2021-02-25T00:00:00",
          "2021-03-02T00:00:00",
          "2021-03-12T00:00:00",
          "2021-03-31T00:00:00",
          "2021-04-03T00:00:00",
          "2021-04-06T00:00:00",
          "2021-04-09T00:00:00",
          "2021-04-12T00:00:00",
          "2021-05-02T00:00:00",
          "2021-05-06T00:00:00",
          "2021-05-09T00:00:00",
          "2021-05-12T00:00:00",
          "2021-06-16T00:00:00",
          "2021-06-30T00:00:00"
         ],
         "y": [
          30859.5546875,
          32288.650390625,
          37065.046875,
          39518.80859375,
          42739.44921875,
          44563.2421875,
          38735.1640625,
          40032.6953125,
          47962.9375,
          50240.55859375,
          48985.828125,
          49008.61328125,
          48942.109375,
          50273.60546875,
          47088.5703125,
          46742.55859375,
          47846.5234375,
          40695.51171875,
          31969.333984375,
          29555.0546875
         ]
        },
        {
         "hoverinfo": "text",
         "marker": {
          "color": "green",
          "opacity": 0.7,
          "size": [
           10.0002782256518,
           31.277443901605636,
           31.319813114471494,
           31.249472078902517,
           31.250783123829315,
           31.357228654415792,
           31.285183130157993,
           31.208575540275522,
           31.299561965353803,
           31.604698170700267,
           48.88845670726048,
           41.11076536580838,
           34.8886122926467,
           32.180690568308776,
           32.12822325563924,
           32.087249626141976,
           32.168285603533356,
           32.16967030172894,
           49.90540654311209,
           41.92432523448967,
           35.53946018759173,
           30.43156815007339,
           32.48174290855484,
           32.44902893253595,
           32.48192568304947,
           32.22222222222222,
           50,
           42,
           35.6,
           30.48,
           26.384000000000004,
           23.1072,
           20.48576,
           18.388608,
           16.7108864,
           15.36870912,
           14.294967296,
           13.435973836799999,
           12.74877906944,
           12.199023255552,
           11.7592186044416,
           31.895443669740597,
           49.41179860553308,
           41.529438884426455,
           35.22355110754117,
           30.17884088603293,
           32.06036015256386
          ]
         },
         "mode": "markers",
         "name": "Acquisti",
         "text": [
          "Timestamp: 2021-02-01 00:00:00<br>Prezzo: 27790.58 €<br>Liquidità spesa: 0.00 €<br>Bitcoin comprati: 0.0000<br>Valore totale portafoglio: 688.70 €",
          "Timestamp: 2021-02-05 00:00:00<br>Prezzo: 31658.25 €<br>Liquidità spesa: 76.48 €<br>Bitcoin comprati: 0.0024<br>Valore totale portafoglio: 764.75 €",
          "Timestamp: 2021-02-08 00:00:00<br>Prezzo: 38329.67 €<br>Liquidità spesa: 76.63 €<br>Bitcoin comprati: 0.0020<br>Valore totale portafoglio: 766.28 €",
          "Timestamp: 2021-02-11 00:00:00<br>Prezzo: 39494.44 €<br>Liquidità spesa: 76.37 €<br>Bitcoin comprati: 0.0019<br>Valore totale portafoglio: 763.75 €",
          "Timestamp: 2021-02-16 00:00:00<br>Prezzo: 40700.74 €<br>Liquidità spesa: 76.38 €<br>Bitcoin comprati: 0.0019<br>Valore totale portafoglio: 763.80 €",
          "Timestamp: 2021-02-19 00:00:00<br>Prezzo: 46119.00 €<br>Liquidità spesa: 76.76 €<br>Bitcoin comprati: 0.0017<br>Valore totale portafoglio: 767.62 €",
          "Timestamp: 2021-02-23 00:00:00<br>Prezzo: 40181.33 €<br>Liquidità spesa: 76.50 €<br>Bitcoin comprati: 0.0019<br>Valore totale portafoglio: 765.03 €",
          "Timestamp: 2021-02-26 00:00:00<br>Prezzo: 38385.91 €<br>Liquidità spesa: 76.23 €<br>Bitcoin comprati: 0.0020<br>Valore totale portafoglio: 762.28 €",
          "Timestamp: 2021-03-03 00:00:00<br>Prezzo: 41952.80 €<br>Liquidità spesa: 76.55 €<br>Bitcoin comprati: 0.0018<br>Valore totale portafoglio: 765.55 €",
          "Timestamp: 2021-03-13 00:00:00<br>Prezzo: 51235.54 €<br>Liquidità spesa: 77.65 €<br>Bitcoin comprati: 0.0015<br>Valore totale portafoglio: 776.52 €",
          "Timestamp: 2021-03-26 00:00:00<br>Prezzo: 46749.44 €<br>Liquidità spesa: 139.77 €<br>Bitcoin comprati: 0.0030<br>Valore totale portafoglio: 769.72 €",
          "Timestamp: 2021-03-27 00:00:00<br>Prezzo: 47458.43 €<br>Liquidità spesa: 111.82 €<br>Bitcoin comprati: 0.0024<br>Valore totale portafoglio: 772.91 €",
          "Timestamp: 2021-03-28 00:00:00<br>Prezzo: 47471.80 €<br>Liquidità spesa: 89.45 €<br>Bitcoin comprati: 0.0019<br>Valore totale portafoglio: 773.00 €",
          "Timestamp: 2021-04-01 00:00:00<br>Prezzo: 50172.64 €<br>Liquidità spesa: 79.72 €<br>Bitcoin comprati: 0.0016<br>Valore totale portafoglio: 797.22 €",
          "Timestamp: 2021-04-04 00:00:00<br>Prezzo: 49933.20 €<br>Liquidità spesa: 79.53 €<br>Bitcoin comprati: 0.0016<br>Valore totale portafoglio: 795.33 €",
          "Timestamp: 2021-04-07 00:00:00<br>Prezzo: 47210.02 €<br>Liquidità spesa: 79.39 €<br>Bitcoin comprati: 0.0017<br>Valore totale portafoglio: 793.86 €",
          "Timestamp: 2021-04-10 00:00:00<br>Prezzo: 50242.22 €<br>Liquidità spesa: 79.68 €<br>Bitcoin comprati: 0.0016<br>Valore totale portafoglio: 796.77 €",
          "Timestamp: 2021-04-13 00:00:00<br>Prezzo: 53123.63 €<br>Liquidità spesa: 79.68 €<br>Bitcoin comprati: 0.0015<br>Valore totale portafoglio: 796.82 €",
          "Timestamp: 2021-04-26 00:00:00<br>Prezzo: 44721.86 €<br>Liquidità spesa: 143.43 €<br>Bitcoin comprati: 0.0032<br>Valore totale portafoglio: 784.22 €",
          "Timestamp: 2021-04-27 00:00:00<br>Prezzo: 45522.52 €<br>Liquidità spesa: 114.74 €<br>Bitcoin comprati: 0.0025<br>Valore totale portafoglio: 787.99 €",
          "Timestamp: 2021-04-28 00:00:00<br>Prezzo: 45178.68 €<br>Liquidità spesa: 91.79 €<br>Bitcoin comprati: 0.0020<br>Valore totale portafoglio: 785.50 €",
          "Timestamp: 2021-04-29 00:00:00<br>Prezzo: 44170.97 €<br>Liquidità spesa: 73.44 €<br>Bitcoin comprati: 0.0017<br>Valore totale portafoglio: 776.17 €",
          "Timestamp: 2021-05-03 00:00:00<br>Prezzo: 47432.77 €<br>Liquidità spesa: 80.80 €<br>Bitcoin comprati: 0.0017<br>Valore totale portafoglio: 808.04 €",
          "Timestamp: 2021-05-07 00:00:00<br>Prezzo: 47155.51 €<br>Liquidità spesa: 80.69 €<br>Bitcoin comprati: 0.0017<br>Valore totale portafoglio: 806.86 €",
          "Timestamp: 2021-05-10 00:00:00<br>Prezzo: 46010.48 €<br>Liquidità spesa: 80.80 €<br>Bitcoin comprati: 0.0018<br>Valore totale portafoglio: 808.05 €",
          "Timestamp: 2021-05-13 00:00:00<br>Prezzo: 41166.70 €<br>Liquidità spesa: 79.87 €<br>Bitcoin comprati: 0.0019<br>Valore totale portafoglio: 798.71 €",
          "Timestamp: 2021-05-20 00:00:00<br>Prezzo: 33359.14 €<br>Liquidità spesa: 143.77 €<br>Bitcoin comprati: 0.0043<br>Valore totale portafoglio: 783.56 €",
          "Timestamp: 2021-05-24 00:00:00<br>Prezzo: 31689.20 €<br>Liquidità spesa: 115.01 €<br>Bitcoin comprati: 0.0036<br>Valore totale portafoglio: 773.13 €",
          "Timestamp: 2021-05-25 00:00:00<br>Prezzo: 31356.95 €<br>Liquidità spesa: 92.01 €<br>Bitcoin comprati: 0.0029<br>Valore totale portafoglio: 769.84 €",
          "Timestamp: 2021-05-26 00:00:00<br>Prezzo: 32229.53 €<br>Liquidità spesa: 73.61 €<br>Bitcoin comprati: 0.0023<br>Valore totale portafoglio: 781.03 €",
          "Timestamp: 2021-05-27 00:00:00<br>Prezzo: 31524.04 €<br>Liquidità spesa: 58.89 €<br>Bitcoin comprati: 0.0019<br>Valore totale portafoglio: 770.37 €",
          "Timestamp: 2021-05-31 00:00:00<br>Prezzo: 30519.31 €<br>Liquidità spesa: 47.11 €<br>Bitcoin comprati: 0.0015<br>Valore totale portafoglio: 753.33 €",
          "Timestamp: 2021-06-01 00:00:00<br>Prezzo: 30026.79 €<br>Liquidità spesa: 37.69 €<br>Bitcoin comprati: 0.0013<br>Valore totale portafoglio: 744.21 €",
          "Timestamp: 2021-06-02 00:00:00<br>Prezzo: 30775.01 €<br>Liquidità spesa: 30.15 €<br>Bitcoin comprati: 0.0010<br>Valore totale portafoglio: 759.00 €",
          "Timestamp: 2021-06-03 00:00:00<br>Prezzo: 32321.55 €<br>Liquidità spesa: 24.12 €<br>Bitcoin comprati: 0.0007<br>Valore totale portafoglio: 791.08 €",
          "Timestamp: 2021-06-04 00:00:00<br>Prezzo: 30322.70 €<br>Liquidità spesa: 19.30 €<br>Bitcoin comprati: 0.0006<br>Valore totale portafoglio: 748.13 €",
          "Timestamp: 2021-06-09 00:00:00<br>Prezzo: 30664.53 €<br>Liquidità spesa: 15.44 €<br>Bitcoin comprati: 0.0005<br>Valore totale portafoglio: 755.69 €",
          "Timestamp: 2021-06-10 00:00:00<br>Prezzo: 30150.49 €<br>Liquidità spesa: 12.35 €<br>Bitcoin comprati: 0.0004<br>Valore totale portafoglio: 744.06 €",
          "Timestamp: 2021-06-11 00:00:00<br>Prezzo: 30832.05 €<br>Liquidità spesa: 9.88 €<br>Bitcoin comprati: 0.0003<br>Valore totale portafoglio: 759.76 €",
          "Timestamp: 2021-06-12 00:00:00<br>Prezzo: 29360.51 €<br>Liquidità spesa: 7.90 €<br>Bitcoin comprati: 0.0003<br>Valore totale portafoglio: 725.38 €",
          "Timestamp: 2021-06-13 00:00:00<br>Prezzo: 32286.51 €<br>Liquidità spesa: 6.32 €<br>Bitcoin comprati: 0.0002<br>Valore totale portafoglio: 794.52 €",
          "Timestamp: 2021-06-17 00:00:00<br>Prezzo: 31943.06 €<br>Liquidità spesa: 78.70 €<br>Bitcoin comprati: 0.0025<br>Valore totale portafoglio: 786.97 €",
          "Timestamp: 2021-06-23 00:00:00<br>Prezzo: 28266.58 €<br>Liquidità spesa: 141.65 €<br>Bitcoin comprati: 0.0050<br>Valore totale portafoglio: 777.91 €",
          "Timestamp: 2021-06-24 00:00:00<br>Prezzo: 29059.70 €<br>Liquidità spesa: 113.32 €<br>Bitcoin comprati: 0.0039<br>Valore totale portafoglio: 783.84 €",
          "Timestamp: 2021-06-27 00:00:00<br>Prezzo: 29013.74 €<br>Liquidità spesa: 90.66 €<br>Bitcoin comprati: 0.0031<br>Valore totale portafoglio: 783.32 €",
          "Timestamp: 2021-06-28 00:00:00<br>Prezzo: 28866.30 €<br>Liquidità spesa: 72.53 €<br>Bitcoin comprati: 0.0025<br>Valore totale portafoglio: 781.18 €",
          "Timestamp: 2021-07-01 00:00:00<br>Prezzo: 28341.41 €<br>Liquidità spesa: 79.29 €<br>Bitcoin comprati: 0.0028<br>Valore totale portafoglio: 792.89 €"
         ],
         "type": "scatter",
         "x": [
          "2021-02-01T00:00:00",
          "2021-02-05T00:00:00",
          "2021-02-08T00:00:00",
          "2021-02-11T00:00:00",
          "2021-02-16T00:00:00",
          "2021-02-19T00:00:00",
          "2021-02-23T00:00:00",
          "2021-02-26T00:00:00",
          "2021-03-03T00:00:00",
          "2021-03-13T00:00:00",
          "2021-03-26T00:00:00",
          "2021-03-27T00:00:00",
          "2021-03-28T00:00:00",
          "2021-04-01T00:00:00",
          "2021-04-04T00:00:00",
          "2021-04-07T00:00:00",
          "2021-04-10T00:00:00",
          "2021-04-13T00:00:00",
          "2021-04-26T00:00:00",
          "2021-04-27T00:00:00",
          "2021-04-28T00:00:00",
          "2021-04-29T00:00:00",
          "2021-05-03T00:00:00",
          "2021-05-07T00:00:00",
          "2021-05-10T00:00:00",
          "2021-05-13T00:00:00",
          "2021-05-20T00:00:00",
          "2021-05-24T00:00:00",
          "2021-05-25T00:00:00",
          "2021-05-26T00:00:00",
          "2021-05-27T00:00:00",
          "2021-05-31T00:00:00",
          "2021-06-01T00:00:00",
          "2021-06-02T00:00:00",
          "2021-06-03T00:00:00",
          "2021-06-04T00:00:00",
          "2021-06-09T00:00:00",
          "2021-06-10T00:00:00",
          "2021-06-11T00:00:00",
          "2021-06-12T00:00:00",
          "2021-06-13T00:00:00",
          "2021-06-17T00:00:00",
          "2021-06-23T00:00:00",
          "2021-06-24T00:00:00",
          "2021-06-27T00:00:00",
          "2021-06-28T00:00:00",
          "2021-07-01T00:00:00"
         ],
         "y": [
          27790.58203125,
          31658.248046875,
          38329.66796875,
          39494.44140625,
          40700.7421875,
          46119,
          40181.33203125,
          38385.91015625,
          41952.8046875,
          51235.53515625,
          46749.44140625,
          47458.4296875,
          47471.80078125,
          50172.63671875,
          49933.19921875,
          47210.01953125,
          50242.22265625,
          53123.62890625,
          44721.85546875,
          45522.515625,
          45178.68359375,
          44170.96875,
          47432.76953125,
          47155.5078125,
          46010.484375,
          41166.6953125,
          33359.13671875,
          31689.203125,
          31356.951171875,
          32229.533203125,
          31524.041015625,
          30519.30859375,
          30026.794921875,
          30775.01171875,
          32321.55078125,
          30322.69921875,
          30664.52734375,
          30150.48828125,
          30832.0546875,
          29360.513671875,
          32286.505859375,
          31943.0625,
          28266.576171875,
          29059.703125,
          29013.7421875,
          28866.302734375,
          28341.4140625
         ]
        }
       ],
       "layout": {
        "height": 800,
        "hovermode": "closest",
        "legend": {
         "x": 0.01,
         "xanchor": "left",
         "y": 0.99,
         "yanchor": "top"
        },
        "template": {
         "data": {
          "bar": [
           {
            "error_x": {
             "color": "#2a3f5f"
            },
            "error_y": {
             "color": "#2a3f5f"
            },
            "marker": {
             "line": {
              "color": "white",
              "width": 0.5
             },
             "pattern": {
              "fillmode": "overlay",
              "size": 10,
              "solidity": 0.2
             }
            },
            "type": "bar"
           }
          ],
          "barpolar": [
           {
            "marker": {
             "line": {
              "color": "white",
              "width": 0.5
             },
             "pattern": {
              "fillmode": "overlay",
              "size": 10,
              "solidity": 0.2
             }
            },
            "type": "barpolar"
           }
          ],
          "carpet": [
           {
            "aaxis": {
             "endlinecolor": "#2a3f5f",
             "gridcolor": "#C8D4E3",
             "linecolor": "#C8D4E3",
             "minorgridcolor": "#C8D4E3",
             "startlinecolor": "#2a3f5f"
            },
            "baxis": {
             "endlinecolor": "#2a3f5f",
             "gridcolor": "#C8D4E3",
             "linecolor": "#C8D4E3",
             "minorgridcolor": "#C8D4E3",
             "startlinecolor": "#2a3f5f"
            },
            "type": "carpet"
           }
          ],
          "choropleth": [
           {
            "colorbar": {
             "outlinewidth": 0,
             "ticks": ""
            },
            "type": "choropleth"
           }
          ],
          "contour": [
           {
            "colorbar": {
             "outlinewidth": 0,
             "ticks": ""
            },
            "colorscale": [
             [
              0,
              "#0d0887"
             ],
             [
              0.1111111111111111,
              "#46039f"
             ],
             [
              0.2222222222222222,
              "#7201a8"
             ],
             [
              0.3333333333333333,
              "#9c179e"
             ],
             [
              0.4444444444444444,
              "#bd3786"
             ],
             [
              0.5555555555555556,
              "#d8576b"
             ],
             [
              0.6666666666666666,
              "#ed7953"
             ],
             [
              0.7777777777777778,
              "#fb9f3a"
             ],
             [
              0.8888888888888888,
              "#fdca26"
             ],
             [
              1,
              "#f0f921"
             ]
            ],
            "type": "contour"
           }
          ],
          "contourcarpet": [
           {
            "colorbar": {
             "outlinewidth": 0,
             "ticks": ""
            },
            "type": "contourcarpet"
           }
          ],
          "heatmap": [
           {
            "colorbar": {
             "outlinewidth": 0,
             "ticks": ""
            },
            "colorscale": [
             [
              0,
              "#0d0887"
             ],
             [
              0.1111111111111111,
              "#46039f"
             ],
             [
              0.2222222222222222,
              "#7201a8"
             ],
             [
              0.3333333333333333,
              "#9c179e"
             ],
             [
              0.4444444444444444,
              "#bd3786"
             ],
             [
              0.5555555555555556,
              "#d8576b"
             ],
             [
              0.6666666666666666,
              "#ed7953"
             ],
             [
              0.7777777777777778,
              "#fb9f3a"
             ],
             [
              0.8888888888888888,
              "#fdca26"
             ],
             [
              1,
              "#f0f921"
             ]
            ],
            "type": "heatmap"
           }
          ],
          "heatmapgl": [
           {
            "colorbar": {
             "outlinewidth": 0,
             "ticks": ""
            },
            "colorscale": [
             [
              0,
              "#0d0887"
             ],
             [
              0.1111111111111111,
              "#46039f"
             ],
             [
              0.2222222222222222,
              "#7201a8"
             ],
             [
              0.3333333333333333,
              "#9c179e"
             ],
             [
              0.4444444444444444,
              "#bd3786"
             ],
             [
              0.5555555555555556,
              "#d8576b"
             ],
             [
              0.6666666666666666,
              "#ed7953"
             ],
             [
              0.7777777777777778,
              "#fb9f3a"
             ],
             [
              0.8888888888888888,
              "#fdca26"
             ],
             [
              1,
              "#f0f921"
             ]
            ],
            "type": "heatmapgl"
           }
          ],
          "histogram": [
           {
            "marker": {
             "pattern": {
              "fillmode": "overlay",
              "size": 10,
              "solidity": 0.2
             }
            },
            "type": "histogram"
           }
          ],
          "histogram2d": [
           {
            "colorbar": {
             "outlinewidth": 0,
             "ticks": ""
            },
            "colorscale": [
             [
              0,
              "#0d0887"
             ],
             [
              0.1111111111111111,
              "#46039f"
             ],
             [
              0.2222222222222222,
              "#7201a8"
             ],
             [
              0.3333333333333333,
              "#9c179e"
             ],
             [
              0.4444444444444444,
              "#bd3786"
             ],
             [
              0.5555555555555556,
              "#d8576b"
             ],
             [
              0.6666666666666666,
              "#ed7953"
             ],
             [
              0.7777777777777778,
              "#fb9f3a"
             ],
             [
              0.8888888888888888,
              "#fdca26"
             ],
             [
              1,
              "#f0f921"
             ]
            ],
            "type": "histogram2d"
           }
          ],
          "histogram2dcontour": [
           {
            "colorbar": {
             "outlinewidth": 0,
             "ticks": ""
            },
            "colorscale": [
             [
              0,
              "#0d0887"
             ],
             [
              0.1111111111111111,
              "#46039f"
             ],
             [
              0.2222222222222222,
              "#7201a8"
             ],
             [
              0.3333333333333333,
              "#9c179e"
             ],
             [
              0.4444444444444444,
              "#bd3786"
             ],
             [
              0.5555555555555556,
              "#d8576b"
             ],
             [
              0.6666666666666666,
              "#ed7953"
             ],
             [
              0.7777777777777778,
              "#fb9f3a"
             ],
             [
              0.8888888888888888,
              "#fdca26"
             ],
             [
              1,
              "#f0f921"
             ]
            ],
            "type": "histogram2dcontour"
           }
          ],
          "mesh3d": [
           {
            "colorbar": {
             "outlinewidth": 0,
             "ticks": ""
            },
            "type": "mesh3d"
           }
          ],
          "parcoords": [
           {
            "line": {
             "colorbar": {
              "outlinewidth": 0,
              "ticks": ""
             }
            },
            "type": "parcoords"
           }
          ],
          "pie": [
           {
            "automargin": true,
            "type": "pie"
           }
          ],
          "scatter": [
           {
            "fillpattern": {
             "fillmode": "overlay",
             "size": 10,
             "solidity": 0.2
            },
            "type": "scatter"
           }
          ],
          "scatter3d": [
           {
            "line": {
             "colorbar": {
              "outlinewidth": 0,
              "ticks": ""
             }
            },
            "marker": {
             "colorbar": {
              "outlinewidth": 0,
              "ticks": ""
             }
            },
            "type": "scatter3d"
           }
          ],
          "scattercarpet": [
           {
            "marker": {
             "colorbar": {
              "outlinewidth": 0,
              "ticks": ""
             }
            },
            "type": "scattercarpet"
           }
          ],
          "scattergeo": [
           {
            "marker": {
             "colorbar": {
              "outlinewidth": 0,
              "ticks": ""
             }
            },
            "type": "scattergeo"
           }
          ],
          "scattergl": [
           {
            "marker": {
             "colorbar": {
              "outlinewidth": 0,
              "ticks": ""
             }
            },
            "type": "scattergl"
           }
          ],
          "scattermapbox": [
           {
            "marker": {
             "colorbar": {
              "outlinewidth": 0,
              "ticks": ""
             }
            },
            "type": "scattermapbox"
           }
          ],
          "scatterpolar": [
           {
            "marker": {
             "colorbar": {
              "outlinewidth": 0,
              "ticks": ""
             }
            },
            "type": "scatterpolar"
           }
          ],
          "scatterpolargl": [
           {
            "marker": {
             "colorbar": {
              "outlinewidth": 0,
              "ticks": ""
             }
            },
            "type": "scatterpolargl"
           }
          ],
          "scatterternary": [
           {
            "marker": {
             "colorbar": {
              "outlinewidth": 0,
              "ticks": ""
             }
            },
            "type": "scatterternary"
           }
          ],
          "surface": [
           {
            "colorbar": {
             "outlinewidth": 0,
             "ticks": ""
            },
            "colorscale": [
             [
              0,
              "#0d0887"
             ],
             [
              0.1111111111111111,
              "#46039f"
             ],
             [
              0.2222222222222222,
              "#7201a8"
             ],
             [
              0.3333333333333333,
              "#9c179e"
             ],
             [
              0.4444444444444444,
              "#bd3786"
             ],
             [
              0.5555555555555556,
              "#d8576b"
             ],
             [
              0.6666666666666666,
              "#ed7953"
             ],
             [
              0.7777777777777778,
              "#fb9f3a"
             ],
             [
              0.8888888888888888,
              "#fdca26"
             ],
             [
              1,
              "#f0f921"
             ]
            ],
            "type": "surface"
           }
          ],
          "table": [
           {
            "cells": {
             "fill": {
              "color": "#EBF0F8"
             },
             "line": {
              "color": "white"
             }
            },
            "header": {
             "fill": {
              "color": "#C8D4E3"
             },
             "line": {
              "color": "white"
             }
            },
            "type": "table"
           }
          ]
         },
         "layout": {
          "annotationdefaults": {
           "arrowcolor": "#2a3f5f",
           "arrowhead": 0,
           "arrowwidth": 1
          },
          "autotypenumbers": "strict",
          "coloraxis": {
           "colorbar": {
            "outlinewidth": 0,
            "ticks": ""
           }
          },
          "colorscale": {
           "diverging": [
            [
             0,
             "#8e0152"
            ],
            [
             0.1,
             "#c51b7d"
            ],
            [
             0.2,
             "#de77ae"
            ],
            [
             0.3,
             "#f1b6da"
            ],
            [
             0.4,
             "#fde0ef"
            ],
            [
             0.5,
             "#f7f7f7"
            ],
            [
             0.6,
             "#e6f5d0"
            ],
            [
             0.7,
             "#b8e186"
            ],
            [
             0.8,
             "#7fbc41"
            ],
            [
             0.9,
             "#4d9221"
            ],
            [
             1,
             "#276419"
            ]
           ],
           "sequential": [
            [
             0,
             "#0d0887"
            ],
            [
             0.1111111111111111,
             "#46039f"
            ],
            [
             0.2222222222222222,
             "#7201a8"
            ],
            [
             0.3333333333333333,
             "#9c179e"
            ],
            [
             0.4444444444444444,
             "#bd3786"
            ],
            [
             0.5555555555555556,
             "#d8576b"
            ],
            [
             0.6666666666666666,
             "#ed7953"
            ],
            [
             0.7777777777777778,
             "#fb9f3a"
            ],
            [
             0.8888888888888888,
             "#fdca26"
            ],
            [
             1,
             "#f0f921"
            ]
           ],
           "sequentialminus": [
            [
             0,
             "#0d0887"
            ],
            [
             0.1111111111111111,
             "#46039f"
            ],
            [
             0.2222222222222222,
             "#7201a8"
            ],
            [
             0.3333333333333333,
             "#9c179e"
            ],
            [
             0.4444444444444444,
             "#bd3786"
            ],
            [
             0.5555555555555556,
             "#d8576b"
            ],
            [
             0.6666666666666666,
             "#ed7953"
            ],
            [
             0.7777777777777778,
             "#fb9f3a"
            ],
            [
             0.8888888888888888,
             "#fdca26"
            ],
            [
             1,
             "#f0f921"
            ]
           ]
          },
          "colorway": [
           "#636efa",
           "#EF553B",
           "#00cc96",
           "#ab63fa",
           "#FFA15A",
           "#19d3f3",
           "#FF6692",
           "#B6E880",
           "#FF97FF",
           "#FECB52"
          ],
          "font": {
           "color": "#2a3f5f"
          },
          "geo": {
           "bgcolor": "white",
           "lakecolor": "white",
           "landcolor": "white",
           "showlakes": true,
           "showland": true,
           "subunitcolor": "#C8D4E3"
          },
          "hoverlabel": {
           "align": "left"
          },
          "hovermode": "closest",
          "mapbox": {
           "style": "light"
          },
          "paper_bgcolor": "white",
          "plot_bgcolor": "white",
          "polar": {
           "angularaxis": {
            "gridcolor": "#EBF0F8",
            "linecolor": "#EBF0F8",
            "ticks": ""
           },
           "bgcolor": "white",
           "radialaxis": {
            "gridcolor": "#EBF0F8",
            "linecolor": "#EBF0F8",
            "ticks": ""
           }
          },
          "scene": {
           "xaxis": {
            "backgroundcolor": "white",
            "gridcolor": "#DFE8F3",
            "gridwidth": 2,
            "linecolor": "#EBF0F8",
            "showbackground": true,
            "ticks": "",
            "zerolinecolor": "#EBF0F8"
           },
           "yaxis": {
            "backgroundcolor": "white",
            "gridcolor": "#DFE8F3",
            "gridwidth": 2,
            "linecolor": "#EBF0F8",
            "showbackground": true,
            "ticks": "",
            "zerolinecolor": "#EBF0F8"
           },
           "zaxis": {
            "backgroundcolor": "white",
            "gridcolor": "#DFE8F3",
            "gridwidth": 2,
            "linecolor": "#EBF0F8",
            "showbackground": true,
            "ticks": "",
            "zerolinecolor": "#EBF0F8"
           }
          },
          "shapedefaults": {
           "line": {
            "color": "#2a3f5f"
           }
          },
          "ternary": {
           "aaxis": {
            "gridcolor": "#DFE8F3",
            "linecolor": "#A2B1C6",
            "ticks": ""
           },
           "baxis": {
            "gridcolor": "#DFE8F3",
            "linecolor": "#A2B1C6",
            "ticks": ""
           },
           "bgcolor": "white",
           "caxis": {
            "gridcolor": "#DFE8F3",
            "linecolor": "#A2B1C6",
            "ticks": ""
           }
          },
          "title": {
           "x": 0.05
          },
          "xaxis": {
           "automargin": true,
           "gridcolor": "#EBF0F8",
           "linecolor": "#EBF0F8",
           "ticks": "",
           "title": {
            "standoff": 15
           },
           "zerolinecolor": "#EBF0F8",
           "zerolinewidth": 2
          },
          "yaxis": {
           "automargin": true,
           "gridcolor": "#EBF0F8",
           "linecolor": "#EBF0F8",
           "ticks": "",
           "title": {
            "standoff": 15
           },
           "zerolinecolor": "#EBF0F8",
           "zerolinewidth": 2
          }
         }
        },
        "title": {
         "text": "Andamento Prezzi Bitcoin, Transazioni di Vendita e Acquisto"
        },
        "width": 1200,
        "xaxis": {
         "rangeslider": {
          "visible": true
         },
         "title": {
          "text": "Data"
         },
         "type": "date"
        },
        "yaxis": {
         "title": {
          "text": "Prezzo (€)"
         }
        }
       }
      }
     },
     "metadata": {},
     "output_type": "display_data"
    }
   ],
   "source": [
    "crea_grafico_transazioni(df_transazioni)"
   ]
  },
  {
   "cell_type": "markdown",
   "metadata": {},
   "source": [
    "### Grafico interattivo temporale"
   ]
  },
  {
   "cell_type": "code",
   "execution_count": 73,
   "metadata": {},
   "outputs": [
    {
     "data": {
      "text/html": [
       "\n",
       "        <iframe\n",
       "            width=\"100%\"\n",
       "            height=\"650\"\n",
       "            src=\"http://127.0.0.1:8050/\"\n",
       "            frameborder=\"0\"\n",
       "            allowfullscreen\n",
       "            \n",
       "        ></iframe>\n",
       "        "
      ],
      "text/plain": [
       "<IPython.lib.display.IFrame at 0x1e42e2511b0>"
      ]
     },
     "metadata": {},
     "output_type": "display_data"
    }
   ],
   "source": [
    "import dash\n",
    "from dash import dcc, html\n",
    "from dash.dependencies import Input, Output, State\n",
    "import plotly.graph_objects as go\n",
    "import pandas as pd\n",
    "\n",
    "# Funzione per calcolare la dimensione dei pallini\n",
    "def calcola_dimensione(quantita, max_quantita, min_size=10, max_size=50):\n",
    "    return min_size + (max_size - min_size) * (quantita / max_quantita) if max_quantita != 0 else min_size\n",
    "\n",
    "# Aggiungi colonne necessarie per dimensioni pallini\n",
    "max_quantita_vendita = df_transazioni[df_transazioni['azione'] == 'Vendita']['liquidità_spesa_o_guadagnata'].max()\n",
    "max_quantita_acquisto = df_transazioni[df_transazioni['azione'] == 'Acquisto']['liquidità_spesa_o_guadagnata'].max()\n",
    "\n",
    "df_transazioni['dimensioni_vendite'] = df_transazioni.apply(\n",
    "    lambda row: calcola_dimensione(row['liquidità_spesa_o_guadagnata'], max_quantita_vendita)\n",
    "    if row['azione'] == 'Vendita' else 0, axis=1\n",
    ")\n",
    "df_transazioni['dimensioni_acquisti'] = df_transazioni.apply(\n",
    "    lambda row: calcola_dimensione(row['liquidità_spesa_o_guadagnata'], max_quantita_acquisto)\n",
    "    if row['azione'] == 'Acquisto' else 0, axis=1\n",
    ")\n",
    "\n",
    "# App Dash\n",
    "app = dash.Dash(__name__)\n",
    "\n",
    "# Layout Dash\n",
    "app.layout = html.Div([\n",
    "    html.H1(\"Grafico Interattivo delle Transazioni\"),\n",
    "    dcc.Graph(id='grafico-transazioni'),\n",
    "    dcc.Slider(\n",
    "        id='slider-giorno',\n",
    "        min=0,\n",
    "        max=len(df_transazioni) - 1,\n",
    "        value=0,\n",
    "        marks={i: str(df_transazioni['timestamp'].iloc[i].date()) for i in range(0, len(df_transazioni), 10)},\n",
    "        step=1\n",
    "    ),\n",
    "    html.Div([\n",
    "        html.Button(\"Giorno precedente\", id='btn-prev', n_clicks=0),\n",
    "        html.Button(\"Giorno successivo\", id='btn-next', n_clicks=0),\n",
    "    ], style={'marginTop': '20px', 'display': 'flex', 'gap': '10px'})\n",
    "])\n",
    "\n",
    "# Callback per aggiornare il grafico in base al giorno selezionato\n",
    "@app.callback(\n",
    "    Output('grafico-transazioni', 'figure'),\n",
    "    Input('slider-giorno', 'value')\n",
    ")\n",
    "def aggiorna_grafico(giorno):\n",
    "    # Filtra i dati fino al giorno corrente\n",
    "    dati_fino_a_giorno = df_transazioni.iloc[:giorno + 1]\n",
    "    dati_giorno_corrente = df_transazioni.iloc[giorno:giorno + 1]\n",
    "\n",
    "    # Linea dei prezzi\n",
    "    trace_prezzo = go.Scatter(\n",
    "        x=dati_fino_a_giorno['timestamp'],\n",
    "        y=dati_fino_a_giorno['prezzo'],\n",
    "        mode='lines',\n",
    "        name='Prezzi Bitcoin',\n",
    "        line=dict(color='blue', width=2)\n",
    "    )\n",
    "\n",
    "    # Pallini per le vendite\n",
    "    vendite = dati_fino_a_giorno[dati_fino_a_giorno['azione'] == 'Vendita']\n",
    "    trace_vendite = go.Scatter(\n",
    "        x=vendite['timestamp'],\n",
    "        y=vendite['prezzo'],\n",
    "        mode='markers',\n",
    "        name='Vendite',\n",
    "        marker=dict(color='red', size=vendite['dimensioni_vendite'], opacity=0.7)\n",
    "    )\n",
    "\n",
    "    # Pallini per gli acquisti\n",
    "    acquisti = dati_fino_a_giorno[dati_fino_a_giorno['azione'] == 'Acquisto']\n",
    "    trace_acquisti = go.Scatter(\n",
    "        x=acquisti['timestamp'],\n",
    "        y=acquisti['prezzo'],\n",
    "        mode='markers',\n",
    "        name='Acquisti',\n",
    "        marker=dict(color='green', size=acquisti['dimensioni_acquisti'], opacity=0.7)\n",
    "    )\n",
    "\n",
    "    # Linea orizzontale per prezzo_TS del giorno corrente\n",
    "    trace_TS = None\n",
    "    if pd.notna(dati_giorno_corrente['prezzo_TS'].iloc[0]):\n",
    "        trace_TS = go.Scatter(\n",
    "            x=[dati_fino_a_giorno['timestamp'].min(), dati_fino_a_giorno['timestamp'].max()],\n",
    "            y=[dati_giorno_corrente['prezzo_TS'].iloc[0]] * 2,\n",
    "            mode='lines',\n",
    "            name='Prezzo_TS',\n",
    "            line=dict(color='purple', dash='dash')\n",
    "        )\n",
    "\n",
    "    # Linea orizzontale per prezzo_TS_inverso del giorno corrente\n",
    "    trace_TS_inverso = None\n",
    "    if pd.notna(dati_giorno_corrente['prezzo_TS_inverso'].iloc[0]):\n",
    "        trace_TS_inverso = go.Scatter(\n",
    "            x=[dati_fino_a_giorno['timestamp'].min(), dati_fino_a_giorno['timestamp'].max()],\n",
    "            y=[dati_giorno_corrente['prezzo_TS_inverso'].iloc[0]] * 2,\n",
    "            mode='lines',\n",
    "            name='Prezzo_TS_inverso',\n",
    "            line=dict(color='orange', dash='dash')\n",
    "        )\n",
    "\n",
    "    # Crea la figura\n",
    "    figure = go.Figure(data=[trace_prezzo, trace_vendite, trace_acquisti])\n",
    "    if trace_TS:\n",
    "        figure.add_trace(trace_TS)\n",
    "    if trace_TS_inverso:\n",
    "        figure.add_trace(trace_TS_inverso)\n",
    "\n",
    "    # Configurazione layout\n",
    "    figure.update_layout(\n",
    "        title='Grafico Interattivo delle Transazioni',\n",
    "        xaxis_title=f\"Date fino al {dati_giorno_corrente['timestamp'].iloc[0]}\",\n",
    "        yaxis_title='Prezzo (€)',\n",
    "        hovermode='closest',\n",
    "        template='plotly_white'\n",
    "    )\n",
    "\n",
    "    return figure\n",
    "\n",
    "# Callback per gestire i pulsanti\n",
    "@app.callback(\n",
    "    Output('slider-giorno', 'value'),\n",
    "    [Input('btn-prev', 'n_clicks'),\n",
    "     Input('btn-next', 'n_clicks')],\n",
    "    State('slider-giorno', 'value')\n",
    ")\n",
    "def aggiorna_slider(btn_prev, btn_next, slider_value):\n",
    "    ctx = dash.callback_context\n",
    "\n",
    "    if not ctx.triggered:\n",
    "        return slider_value\n",
    "\n",
    "    trigger_id = ctx.triggered[0]['prop_id'].split('.')[0]\n",
    "\n",
    "    if trigger_id == 'btn-prev':\n",
    "        return max(slider_value - 1, 0)\n",
    "    elif trigger_id == 'btn-next':\n",
    "        return min(slider_value + 1, len(df_transazioni) - 1)\n",
    "\n",
    "    return slider_value\n",
    "\n",
    "# Avvia l'app Dash\n",
    "if __name__ == '__main__':\n",
    "    app.run_server(debug=True)"
   ]
  },
  {
   "cell_type": "code",
   "execution_count": 74,
   "metadata": {},
   "outputs": [],
   "source": [
    "# crea_grafico_interattivo(df_transazioni)"
   ]
  }
 ],
 "metadata": {
  "kernelspec": {
   "display_name": "myenv",
   "language": "python",
   "name": "python3"
  },
  "language_info": {
   "codemirror_mode": {
    "name": "ipython",
    "version": 3
   },
   "file_extension": ".py",
   "mimetype": "text/x-python",
   "name": "python",
   "nbconvert_exporter": "python",
   "pygments_lexer": "ipython3",
   "version": "3.10.9"
  }
 },
 "nbformat": 4,
 "nbformat_minor": 2
}
