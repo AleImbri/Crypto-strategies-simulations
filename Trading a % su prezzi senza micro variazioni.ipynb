{
 "cells": [
  {
   "cell_type": "code",
   "execution_count": 200,
   "metadata": {},
   "outputs": [],
   "source": [
    "import numpy as np\n",
    "import pandas as pd\n",
    "import plotly.graph_objects as go\n",
    "import matplotlib.pyplot as plt"
   ]
  },
  {
   "cell_type": "code",
   "execution_count": 201,
   "metadata": {},
   "outputs": [],
   "source": [
    "import warnings\n",
    "warnings.simplefilter(action='ignore', category=FutureWarning)\n",
    "\n",
    "# Sopprimi i RuntimeWarning\n",
    "warnings.filterwarnings(\"ignore\", category=RuntimeWarning)"
   ]
  },
  {
   "cell_type": "markdown",
   "metadata": {},
   "source": [
    "## Studio algoritmi per trovare i prezzi di riferimento per il calcolo delle variazioni di prezzo"
   ]
  },
  {
   "cell_type": "code",
   "execution_count": 202,
   "metadata": {},
   "outputs": [],
   "source": [
    "# Funzione per generare prezzi casuali basati su una distribuzione delle variazioni\n",
    "def genera_prezzi(num_giorni, distribuzione_variazioni):\n",
    "    np.random.seed(0)  # Per riproducibilità\n",
    "    prezzi = [100]  # Prezzo iniziale\n",
    "    variazioni = np.random.choice(list(distribuzione_variazioni.keys()), \n",
    "                                  size=num_giorni-1, \n",
    "                                  p=list(distribuzione_variazioni.values()))\n",
    "    \n",
    "    for variazione in variazioni:\n",
    "        prezzi.append(prezzi[-1] * (1 + variazione))\n",
    "    \n",
    "    return pd.DataFrame({'Timestamp': pd.date_range(start='2023-01-01', periods=num_giorni, freq='D'), \n",
    "                         'Price': prezzi})"
   ]
  },
  {
   "cell_type": "code",
   "execution_count": 203,
   "metadata": {},
   "outputs": [
    {
     "data": {
      "application/vnd.plotly.v1+json": {
       "config": {
        "plotlyServerURL": "https://plot.ly"
       },
       "data": [
        {
         "line": {
          "color": "blue",
          "width": 2
         },
         "mode": "lines",
         "name": "Prezzi",
         "type": "scatter",
         "x": [
          "2023-01-01T00:00:00",
          "2023-01-02T00:00:00",
          "2023-01-03T00:00:00",
          "2023-01-04T00:00:00",
          "2023-01-05T00:00:00",
          "2023-01-06T00:00:00",
          "2023-01-07T00:00:00",
          "2023-01-08T00:00:00",
          "2023-01-09T00:00:00",
          "2023-01-10T00:00:00",
          "2023-01-11T00:00:00",
          "2023-01-12T00:00:00",
          "2023-01-13T00:00:00",
          "2023-01-14T00:00:00",
          "2023-01-15T00:00:00",
          "2023-01-16T00:00:00",
          "2023-01-17T00:00:00",
          "2023-01-18T00:00:00",
          "2023-01-19T00:00:00",
          "2023-01-20T00:00:00",
          "2023-01-21T00:00:00",
          "2023-01-22T00:00:00",
          "2023-01-23T00:00:00",
          "2023-01-24T00:00:00",
          "2023-01-25T00:00:00",
          "2023-01-26T00:00:00",
          "2023-01-27T00:00:00",
          "2023-01-28T00:00:00",
          "2023-01-29T00:00:00",
          "2023-01-30T00:00:00",
          "2023-01-31T00:00:00",
          "2023-02-01T00:00:00",
          "2023-02-02T00:00:00",
          "2023-02-03T00:00:00",
          "2023-02-04T00:00:00",
          "2023-02-05T00:00:00",
          "2023-02-06T00:00:00",
          "2023-02-07T00:00:00",
          "2023-02-08T00:00:00",
          "2023-02-09T00:00:00",
          "2023-02-10T00:00:00",
          "2023-02-11T00:00:00",
          "2023-02-12T00:00:00",
          "2023-02-13T00:00:00",
          "2023-02-14T00:00:00",
          "2023-02-15T00:00:00",
          "2023-02-16T00:00:00",
          "2023-02-17T00:00:00",
          "2023-02-18T00:00:00",
          "2023-02-19T00:00:00",
          "2023-02-20T00:00:00",
          "2023-02-21T00:00:00",
          "2023-02-22T00:00:00",
          "2023-02-23T00:00:00",
          "2023-02-24T00:00:00",
          "2023-02-25T00:00:00",
          "2023-02-26T00:00:00",
          "2023-02-27T00:00:00",
          "2023-02-28T00:00:00",
          "2023-03-01T00:00:00",
          "2023-03-02T00:00:00",
          "2023-03-03T00:00:00",
          "2023-03-04T00:00:00",
          "2023-03-05T00:00:00",
          "2023-03-06T00:00:00",
          "2023-03-07T00:00:00",
          "2023-03-08T00:00:00",
          "2023-03-09T00:00:00",
          "2023-03-10T00:00:00",
          "2023-03-11T00:00:00",
          "2023-03-12T00:00:00",
          "2023-03-13T00:00:00",
          "2023-03-14T00:00:00",
          "2023-03-15T00:00:00",
          "2023-03-16T00:00:00",
          "2023-03-17T00:00:00",
          "2023-03-18T00:00:00",
          "2023-03-19T00:00:00",
          "2023-03-20T00:00:00",
          "2023-03-21T00:00:00",
          "2023-03-22T00:00:00",
          "2023-03-23T00:00:00",
          "2023-03-24T00:00:00",
          "2023-03-25T00:00:00",
          "2023-03-26T00:00:00",
          "2023-03-27T00:00:00",
          "2023-03-28T00:00:00",
          "2023-03-29T00:00:00",
          "2023-03-30T00:00:00",
          "2023-03-31T00:00:00",
          "2023-04-01T00:00:00",
          "2023-04-02T00:00:00",
          "2023-04-03T00:00:00",
          "2023-04-04T00:00:00",
          "2023-04-05T00:00:00",
          "2023-04-06T00:00:00",
          "2023-04-07T00:00:00",
          "2023-04-08T00:00:00",
          "2023-04-09T00:00:00",
          "2023-04-10T00:00:00"
         ],
         "y": [
          100,
          101,
          103.02,
          104.0502,
          105.09070200000001,
          104.03979498000001,
          105.0801929298,
          104.029391000502,
          106.10997882051204,
          111.41547776153764,
          110.30132298392226,
          112.5073494436007,
          113.63242293803671,
          114.76874716741708,
          120.50718452578793,
          114.48182529949854,
          108.75773403452361,
          103.31984733279742,
          105.38624427945338,
          107.49396916504244,
          109.6438485483433,
          115.12604097576047,
          117.42856179527568,
          116.25427617732292,
          118.57936170086938,
          116.207774466852,
          117.36985221152052,
          115.0224551672901,
          120.77357792565462,
          121.98131370491117,
          120.76150056786206,
          118.34627055650482,
          120.71319596763492,
          119.50606400795857,
          120.70112464803816,
          114.66606841563625,
          115.8127290997926,
          116.97085639079053,
          118.14056495469843,
          124.04759320243336,
          125.2880691344577,
          124.03518844311313,
          122.794836558682,
          124.02278492426882,
          117.82164567805538,
          118.99986213483594,
          120.1898607561843,
          117.78606354106061,
          115.4303422702394,
          114.276038847537,
          113.13327845906163,
          114.26461124365224,
          113.12196513121572,
          118.77806338777651,
          116.40250212002098,
          114.07445207762056,
          111.79296303606814,
          112.91089266642882,
          110.65267481310025,
          109.54614806496924,
          107.35522510366985,
          105.20812060159645,
          103.10395818956452,
          104.13499777146016,
          102.05229781603096,
          100.01125185971034,
          99.01113934111324,
          100.9913621279355,
          95.94179402153873,
          97.8606299019695,
          92.96759840687102,
          97.61597832721458,
          96.63981854394243,
          101.47180947113955,
          102.48652756585095,
          104.53625811716798,
          99.30944521130957,
          97.32325630708337,
          95.3767911809417,
          93.46925535732287,
          91.59987025017641,
          90.68387154767464,
          89.77703283219789,
          85.28818119058799,
          86.14106300249387,
          87.0024736325188,
          85.26242415986842,
          86.1150484014671,
          81.80929598139375,
          82.62738894120768,
          86.75875838826808,
          85.8911708043854,
          86.75008251242924,
          85.01508086218065,
          86.71538247942426,
          84.98107482983578,
          83.28145333323906,
          84.11426786657145,
          79.90855447324287,
          81.50672556270773
         ]
        },
        {
         "hoverinfo": "text+name",
         "marker": {
          "color": "green",
          "size": 10
         },
         "mode": "markers+text",
         "name": "Riferimento Discesa",
         "text": [
          "86.76"
         ],
         "textposition": "top center",
         "type": "scatter",
         "x": [
          "2023-04-01T00:00:00"
         ],
         "y": [
          86.75875838826808
         ]
        },
        {
         "hoverinfo": "text+name",
         "marker": {
          "color": "green",
          "size": 10
         },
         "mode": "markers+text",
         "name": "Riferimento Discesa",
         "text": [
          "104.54"
         ],
         "textposition": "top center",
         "type": "scatter",
         "x": [
          "2023-03-17T00:00:00"
         ],
         "y": [
          104.53625811716798
         ]
        },
        {
         "hoverinfo": "text+name",
         "marker": {
          "color": "green",
          "size": 10
         },
         "mode": "markers+text",
         "name": "Riferimento Discesa",
         "text": [
          "97.62"
         ],
         "textposition": "top center",
         "type": "scatter",
         "x": [
          "2023-03-13T00:00:00"
         ],
         "y": [
          97.61597832721458
         ]
        },
        {
         "hoverinfo": "text+name",
         "marker": {
          "color": "green",
          "size": 10
         },
         "mode": "markers+text",
         "name": "Riferimento Discesa",
         "text": [
          "118.78"
         ],
         "textposition": "top center",
         "type": "scatter",
         "x": [
          "2023-02-23T00:00:00"
         ],
         "y": [
          118.77806338777651
         ]
        },
        {
         "hoverinfo": "text+name",
         "marker": {
          "color": "green",
          "size": 10
         },
         "mode": "markers+text",
         "name": "Riferimento Discesa",
         "text": [
          "125.29"
         ],
         "textposition": "top center",
         "type": "scatter",
         "x": [
          "2023-02-10T00:00:00"
         ],
         "y": [
          125.2880691344577
         ]
        },
        {
         "hoverinfo": "text+name",
         "marker": {
          "color": "green",
          "size": 10
         },
         "mode": "markers+text",
         "name": "Riferimento Discesa",
         "text": [
          "121.98"
         ],
         "textposition": "top center",
         "type": "scatter",
         "x": [
          "2023-01-30T00:00:00"
         ],
         "y": [
          121.98131370491117
         ]
        },
        {
         "hoverinfo": "text+name",
         "marker": {
          "color": "green",
          "size": 10
         },
         "mode": "markers+text",
         "name": "Riferimento Discesa",
         "text": [
          "117.43"
         ],
         "textposition": "top center",
         "type": "scatter",
         "x": [
          "2023-01-23T00:00:00"
         ],
         "y": [
          117.42856179527568
         ]
        },
        {
         "hoverinfo": "text+name",
         "marker": {
          "color": "green",
          "size": 10
         },
         "mode": "markers+text",
         "name": "Riferimento Discesa",
         "text": [
          "120.51"
         ],
         "textposition": "top center",
         "type": "scatter",
         "x": [
          "2023-01-15T00:00:00"
         ],
         "y": [
          120.50718452578793
         ]
        },
        {
         "hoverinfo": "text+name",
         "marker": {
          "color": "green",
          "size": 10
         },
         "mode": "markers+text",
         "name": "Riferimento Discesa",
         "text": [
          "111.42"
         ],
         "textposition": "top center",
         "type": "scatter",
         "x": [
          "2023-01-10T00:00:00"
         ],
         "y": [
          111.41547776153764
         ]
        },
        {
         "hoverinfo": "text+name",
         "marker": {
          "color": "green",
          "size": 10
         },
         "mode": "markers+text",
         "name": "Riferimento Discesa",
         "text": [
          "105.09"
         ],
         "textposition": "top center",
         "type": "scatter",
         "x": [
          "2023-01-05T00:00:00"
         ],
         "y": [
          105.09070200000001
         ]
        },
        {
         "hoverinfo": "text+name",
         "marker": {
          "color": "red",
          "size": 10
         },
         "mode": "markers+text",
         "name": "Riferimento Salita",
         "text": [
          "79.91"
         ],
         "textposition": "top center",
         "type": "scatter",
         "x": [
          "2023-04-09T00:00:00"
         ],
         "y": [
          79.90855447324287
         ]
        },
        {
         "hoverinfo": "text+name",
         "marker": {
          "color": "red",
          "size": 10
         },
         "mode": "markers+text",
         "name": "Riferimento Salita",
         "text": [
          "81.81"
         ],
         "textposition": "top center",
         "type": "scatter",
         "x": [
          "2023-03-30T00:00:00"
         ],
         "y": [
          81.80929598139375
         ]
        },
        {
         "hoverinfo": "text+name",
         "marker": {
          "color": "red",
          "size": 10
         },
         "mode": "markers+text",
         "name": "Riferimento Salita",
         "text": [
          "85.29"
         ],
         "textposition": "top center",
         "type": "scatter",
         "x": [
          "2023-03-25T00:00:00"
         ],
         "y": [
          85.28818119058799
         ]
        },
        {
         "hoverinfo": "text+name",
         "marker": {
          "color": "red",
          "size": 10
         },
         "mode": "markers+text",
         "name": "Riferimento Salita",
         "text": [
          "92.97"
         ],
         "textposition": "top center",
         "type": "scatter",
         "x": [
          "2023-03-12T00:00:00"
         ],
         "y": [
          92.96759840687102
         ]
        },
        {
         "hoverinfo": "text+name",
         "marker": {
          "color": "red",
          "size": 10
         },
         "mode": "markers+text",
         "name": "Riferimento Salita",
         "text": [
          "95.94"
         ],
         "textposition": "top center",
         "type": "scatter",
         "x": [
          "2023-03-10T00:00:00"
         ],
         "y": [
          95.94179402153873
         ]
        },
        {
         "hoverinfo": "text+name",
         "marker": {
          "color": "red",
          "size": 10
         },
         "mode": "markers+text",
         "name": "Riferimento Salita",
         "text": [
          "103.10"
         ],
         "textposition": "top center",
         "type": "scatter",
         "x": [
          "2023-03-04T00:00:00"
         ],
         "y": [
          103.10395818956452
         ]
        },
        {
         "hoverinfo": "text+name",
         "marker": {
          "color": "red",
          "size": 10
         },
         "mode": "markers+text",
         "name": "Riferimento Salita",
         "text": [
          "111.79"
         ],
         "textposition": "top center",
         "type": "scatter",
         "x": [
          "2023-02-26T00:00:00"
         ],
         "y": [
          111.79296303606814
         ]
        },
        {
         "hoverinfo": "text+name",
         "marker": {
          "color": "red",
          "size": 10
         },
         "mode": "markers+text",
         "name": "Riferimento Salita",
         "text": [
          "113.13"
         ],
         "textposition": "top center",
         "type": "scatter",
         "x": [
          "2023-02-20T00:00:00"
         ],
         "y": [
          113.13327845906163
         ]
        },
        {
         "hoverinfo": "text+name",
         "marker": {
          "color": "red",
          "size": 10
         },
         "mode": "markers+text",
         "name": "Riferimento Salita",
         "text": [
          "117.82"
         ],
         "textposition": "top center",
         "type": "scatter",
         "x": [
          "2023-02-14T00:00:00"
         ],
         "y": [
          117.82164567805538
         ]
        },
        {
         "hoverinfo": "text+name",
         "marker": {
          "color": "red",
          "size": 10
         },
         "mode": "markers+text",
         "name": "Riferimento Salita",
         "text": [
          "114.67"
         ],
         "textposition": "top center",
         "type": "scatter",
         "x": [
          "2023-02-05T00:00:00"
         ],
         "y": [
          114.66606841563625
         ]
        },
        {
         "hoverinfo": "text+name",
         "marker": {
          "color": "red",
          "size": 10
         },
         "mode": "markers+text",
         "name": "Riferimento Salita",
         "text": [
          "103.32"
         ],
         "textposition": "top center",
         "type": "scatter",
         "x": [
          "2023-01-18T00:00:00"
         ],
         "y": [
          103.31984733279742
         ]
        }
       ],
       "layout": {
        "height": 1120,
        "hovermode": "closest",
        "showlegend": false,
        "template": {
         "data": {
          "bar": [
           {
            "error_x": {
             "color": "#2a3f5f"
            },
            "error_y": {
             "color": "#2a3f5f"
            },
            "marker": {
             "line": {
              "color": "white",
              "width": 0.5
             },
             "pattern": {
              "fillmode": "overlay",
              "size": 10,
              "solidity": 0.2
             }
            },
            "type": "bar"
           }
          ],
          "barpolar": [
           {
            "marker": {
             "line": {
              "color": "white",
              "width": 0.5
             },
             "pattern": {
              "fillmode": "overlay",
              "size": 10,
              "solidity": 0.2
             }
            },
            "type": "barpolar"
           }
          ],
          "carpet": [
           {
            "aaxis": {
             "endlinecolor": "#2a3f5f",
             "gridcolor": "#C8D4E3",
             "linecolor": "#C8D4E3",
             "minorgridcolor": "#C8D4E3",
             "startlinecolor": "#2a3f5f"
            },
            "baxis": {
             "endlinecolor": "#2a3f5f",
             "gridcolor": "#C8D4E3",
             "linecolor": "#C8D4E3",
             "minorgridcolor": "#C8D4E3",
             "startlinecolor": "#2a3f5f"
            },
            "type": "carpet"
           }
          ],
          "choropleth": [
           {
            "colorbar": {
             "outlinewidth": 0,
             "ticks": ""
            },
            "type": "choropleth"
           }
          ],
          "contour": [
           {
            "colorbar": {
             "outlinewidth": 0,
             "ticks": ""
            },
            "colorscale": [
             [
              0,
              "#0d0887"
             ],
             [
              0.1111111111111111,
              "#46039f"
             ],
             [
              0.2222222222222222,
              "#7201a8"
             ],
             [
              0.3333333333333333,
              "#9c179e"
             ],
             [
              0.4444444444444444,
              "#bd3786"
             ],
             [
              0.5555555555555556,
              "#d8576b"
             ],
             [
              0.6666666666666666,
              "#ed7953"
             ],
             [
              0.7777777777777778,
              "#fb9f3a"
             ],
             [
              0.8888888888888888,
              "#fdca26"
             ],
             [
              1,
              "#f0f921"
             ]
            ],
            "type": "contour"
           }
          ],
          "contourcarpet": [
           {
            "colorbar": {
             "outlinewidth": 0,
             "ticks": ""
            },
            "type": "contourcarpet"
           }
          ],
          "heatmap": [
           {
            "colorbar": {
             "outlinewidth": 0,
             "ticks": ""
            },
            "colorscale": [
             [
              0,
              "#0d0887"
             ],
             [
              0.1111111111111111,
              "#46039f"
             ],
             [
              0.2222222222222222,
              "#7201a8"
             ],
             [
              0.3333333333333333,
              "#9c179e"
             ],
             [
              0.4444444444444444,
              "#bd3786"
             ],
             [
              0.5555555555555556,
              "#d8576b"
             ],
             [
              0.6666666666666666,
              "#ed7953"
             ],
             [
              0.7777777777777778,
              "#fb9f3a"
             ],
             [
              0.8888888888888888,
              "#fdca26"
             ],
             [
              1,
              "#f0f921"
             ]
            ],
            "type": "heatmap"
           }
          ],
          "heatmapgl": [
           {
            "colorbar": {
             "outlinewidth": 0,
             "ticks": ""
            },
            "colorscale": [
             [
              0,
              "#0d0887"
             ],
             [
              0.1111111111111111,
              "#46039f"
             ],
             [
              0.2222222222222222,
              "#7201a8"
             ],
             [
              0.3333333333333333,
              "#9c179e"
             ],
             [
              0.4444444444444444,
              "#bd3786"
             ],
             [
              0.5555555555555556,
              "#d8576b"
             ],
             [
              0.6666666666666666,
              "#ed7953"
             ],
             [
              0.7777777777777778,
              "#fb9f3a"
             ],
             [
              0.8888888888888888,
              "#fdca26"
             ],
             [
              1,
              "#f0f921"
             ]
            ],
            "type": "heatmapgl"
           }
          ],
          "histogram": [
           {
            "marker": {
             "pattern": {
              "fillmode": "overlay",
              "size": 10,
              "solidity": 0.2
             }
            },
            "type": "histogram"
           }
          ],
          "histogram2d": [
           {
            "colorbar": {
             "outlinewidth": 0,
             "ticks": ""
            },
            "colorscale": [
             [
              0,
              "#0d0887"
             ],
             [
              0.1111111111111111,
              "#46039f"
             ],
             [
              0.2222222222222222,
              "#7201a8"
             ],
             [
              0.3333333333333333,
              "#9c179e"
             ],
             [
              0.4444444444444444,
              "#bd3786"
             ],
             [
              0.5555555555555556,
              "#d8576b"
             ],
             [
              0.6666666666666666,
              "#ed7953"
             ],
             [
              0.7777777777777778,
              "#fb9f3a"
             ],
             [
              0.8888888888888888,
              "#fdca26"
             ],
             [
              1,
              "#f0f921"
             ]
            ],
            "type": "histogram2d"
           }
          ],
          "histogram2dcontour": [
           {
            "colorbar": {
             "outlinewidth": 0,
             "ticks": ""
            },
            "colorscale": [
             [
              0,
              "#0d0887"
             ],
             [
              0.1111111111111111,
              "#46039f"
             ],
             [
              0.2222222222222222,
              "#7201a8"
             ],
             [
              0.3333333333333333,
              "#9c179e"
             ],
             [
              0.4444444444444444,
              "#bd3786"
             ],
             [
              0.5555555555555556,
              "#d8576b"
             ],
             [
              0.6666666666666666,
              "#ed7953"
             ],
             [
              0.7777777777777778,
              "#fb9f3a"
             ],
             [
              0.8888888888888888,
              "#fdca26"
             ],
             [
              1,
              "#f0f921"
             ]
            ],
            "type": "histogram2dcontour"
           }
          ],
          "mesh3d": [
           {
            "colorbar": {
             "outlinewidth": 0,
             "ticks": ""
            },
            "type": "mesh3d"
           }
          ],
          "parcoords": [
           {
            "line": {
             "colorbar": {
              "outlinewidth": 0,
              "ticks": ""
             }
            },
            "type": "parcoords"
           }
          ],
          "pie": [
           {
            "automargin": true,
            "type": "pie"
           }
          ],
          "scatter": [
           {
            "fillpattern": {
             "fillmode": "overlay",
             "size": 10,
             "solidity": 0.2
            },
            "type": "scatter"
           }
          ],
          "scatter3d": [
           {
            "line": {
             "colorbar": {
              "outlinewidth": 0,
              "ticks": ""
             }
            },
            "marker": {
             "colorbar": {
              "outlinewidth": 0,
              "ticks": ""
             }
            },
            "type": "scatter3d"
           }
          ],
          "scattercarpet": [
           {
            "marker": {
             "colorbar": {
              "outlinewidth": 0,
              "ticks": ""
             }
            },
            "type": "scattercarpet"
           }
          ],
          "scattergeo": [
           {
            "marker": {
             "colorbar": {
              "outlinewidth": 0,
              "ticks": ""
             }
            },
            "type": "scattergeo"
           }
          ],
          "scattergl": [
           {
            "marker": {
             "colorbar": {
              "outlinewidth": 0,
              "ticks": ""
             }
            },
            "type": "scattergl"
           }
          ],
          "scattermapbox": [
           {
            "marker": {
             "colorbar": {
              "outlinewidth": 0,
              "ticks": ""
             }
            },
            "type": "scattermapbox"
           }
          ],
          "scatterpolar": [
           {
            "marker": {
             "colorbar": {
              "outlinewidth": 0,
              "ticks": ""
             }
            },
            "type": "scatterpolar"
           }
          ],
          "scatterpolargl": [
           {
            "marker": {
             "colorbar": {
              "outlinewidth": 0,
              "ticks": ""
             }
            },
            "type": "scatterpolargl"
           }
          ],
          "scatterternary": [
           {
            "marker": {
             "colorbar": {
              "outlinewidth": 0,
              "ticks": ""
             }
            },
            "type": "scatterternary"
           }
          ],
          "surface": [
           {
            "colorbar": {
             "outlinewidth": 0,
             "ticks": ""
            },
            "colorscale": [
             [
              0,
              "#0d0887"
             ],
             [
              0.1111111111111111,
              "#46039f"
             ],
             [
              0.2222222222222222,
              "#7201a8"
             ],
             [
              0.3333333333333333,
              "#9c179e"
             ],
             [
              0.4444444444444444,
              "#bd3786"
             ],
             [
              0.5555555555555556,
              "#d8576b"
             ],
             [
              0.6666666666666666,
              "#ed7953"
             ],
             [
              0.7777777777777778,
              "#fb9f3a"
             ],
             [
              0.8888888888888888,
              "#fdca26"
             ],
             [
              1,
              "#f0f921"
             ]
            ],
            "type": "surface"
           }
          ],
          "table": [
           {
            "cells": {
             "fill": {
              "color": "#EBF0F8"
             },
             "line": {
              "color": "white"
             }
            },
            "header": {
             "fill": {
              "color": "#C8D4E3"
             },
             "line": {
              "color": "white"
             }
            },
            "type": "table"
           }
          ]
         },
         "layout": {
          "annotationdefaults": {
           "arrowcolor": "#2a3f5f",
           "arrowhead": 0,
           "arrowwidth": 1
          },
          "autotypenumbers": "strict",
          "coloraxis": {
           "colorbar": {
            "outlinewidth": 0,
            "ticks": ""
           }
          },
          "colorscale": {
           "diverging": [
            [
             0,
             "#8e0152"
            ],
            [
             0.1,
             "#c51b7d"
            ],
            [
             0.2,
             "#de77ae"
            ],
            [
             0.3,
             "#f1b6da"
            ],
            [
             0.4,
             "#fde0ef"
            ],
            [
             0.5,
             "#f7f7f7"
            ],
            [
             0.6,
             "#e6f5d0"
            ],
            [
             0.7,
             "#b8e186"
            ],
            [
             0.8,
             "#7fbc41"
            ],
            [
             0.9,
             "#4d9221"
            ],
            [
             1,
             "#276419"
            ]
           ],
           "sequential": [
            [
             0,
             "#0d0887"
            ],
            [
             0.1111111111111111,
             "#46039f"
            ],
            [
             0.2222222222222222,
             "#7201a8"
            ],
            [
             0.3333333333333333,
             "#9c179e"
            ],
            [
             0.4444444444444444,
             "#bd3786"
            ],
            [
             0.5555555555555556,
             "#d8576b"
            ],
            [
             0.6666666666666666,
             "#ed7953"
            ],
            [
             0.7777777777777778,
             "#fb9f3a"
            ],
            [
             0.8888888888888888,
             "#fdca26"
            ],
            [
             1,
             "#f0f921"
            ]
           ],
           "sequentialminus": [
            [
             0,
             "#0d0887"
            ],
            [
             0.1111111111111111,
             "#46039f"
            ],
            [
             0.2222222222222222,
             "#7201a8"
            ],
            [
             0.3333333333333333,
             "#9c179e"
            ],
            [
             0.4444444444444444,
             "#bd3786"
            ],
            [
             0.5555555555555556,
             "#d8576b"
            ],
            [
             0.6666666666666666,
             "#ed7953"
            ],
            [
             0.7777777777777778,
             "#fb9f3a"
            ],
            [
             0.8888888888888888,
             "#fdca26"
            ],
            [
             1,
             "#f0f921"
            ]
           ]
          },
          "colorway": [
           "#636efa",
           "#EF553B",
           "#00cc96",
           "#ab63fa",
           "#FFA15A",
           "#19d3f3",
           "#FF6692",
           "#B6E880",
           "#FF97FF",
           "#FECB52"
          ],
          "font": {
           "color": "#2a3f5f"
          },
          "geo": {
           "bgcolor": "white",
           "lakecolor": "white",
           "landcolor": "white",
           "showlakes": true,
           "showland": true,
           "subunitcolor": "#C8D4E3"
          },
          "hoverlabel": {
           "align": "left"
          },
          "hovermode": "closest",
          "mapbox": {
           "style": "light"
          },
          "paper_bgcolor": "white",
          "plot_bgcolor": "white",
          "polar": {
           "angularaxis": {
            "gridcolor": "#EBF0F8",
            "linecolor": "#EBF0F8",
            "ticks": ""
           },
           "bgcolor": "white",
           "radialaxis": {
            "gridcolor": "#EBF0F8",
            "linecolor": "#EBF0F8",
            "ticks": ""
           }
          },
          "scene": {
           "xaxis": {
            "backgroundcolor": "white",
            "gridcolor": "#DFE8F3",
            "gridwidth": 2,
            "linecolor": "#EBF0F8",
            "showbackground": true,
            "ticks": "",
            "zerolinecolor": "#EBF0F8"
           },
           "yaxis": {
            "backgroundcolor": "white",
            "gridcolor": "#DFE8F3",
            "gridwidth": 2,
            "linecolor": "#EBF0F8",
            "showbackground": true,
            "ticks": "",
            "zerolinecolor": "#EBF0F8"
           },
           "zaxis": {
            "backgroundcolor": "white",
            "gridcolor": "#DFE8F3",
            "gridwidth": 2,
            "linecolor": "#EBF0F8",
            "showbackground": true,
            "ticks": "",
            "zerolinecolor": "#EBF0F8"
           }
          },
          "shapedefaults": {
           "line": {
            "color": "#2a3f5f"
           }
          },
          "ternary": {
           "aaxis": {
            "gridcolor": "#DFE8F3",
            "linecolor": "#A2B1C6",
            "ticks": ""
           },
           "baxis": {
            "gridcolor": "#DFE8F3",
            "linecolor": "#A2B1C6",
            "ticks": ""
           },
           "bgcolor": "white",
           "caxis": {
            "gridcolor": "#DFE8F3",
            "linecolor": "#A2B1C6",
            "ticks": ""
           }
          },
          "title": {
           "x": 0.05
          },
          "xaxis": {
           "automargin": true,
           "gridcolor": "#EBF0F8",
           "linecolor": "#EBF0F8",
           "ticks": "",
           "title": {
            "standoff": 15
           },
           "zerolinecolor": "#EBF0F8",
           "zerolinewidth": 2
          },
          "yaxis": {
           "automargin": true,
           "gridcolor": "#EBF0F8",
           "linecolor": "#EBF0F8",
           "ticks": "",
           "title": {
            "standoff": 15
           },
           "zerolinecolor": "#EBF0F8",
           "zerolinewidth": 2
          }
         }
        },
        "title": {
         "text": "Prezzi generati con punti di riferimento per le discese (in verde) e per le salite (in rosso)"
        },
        "width": 1600,
        "xaxis": {
         "rangeslider": {
          "visible": true
         },
         "title": {
          "text": "Data"
         },
         "type": "date"
        },
        "yaxis": {
         "title": {
          "text": "Prezzo"
         }
        }
       }
      }
     },
     "metadata": {},
     "output_type": "display_data"
    }
   ],
   "source": [
    "# Distribuzione delle variazioni (esempio)\n",
    "distribuzione_variazioni = {\n",
    "    -0.05: 0.1,\n",
    "    -0.02: 0.2,\n",
    "    -0.01: 0.2,\n",
    "    0.01: 0.2,\n",
    "    0.02: 0.2,\n",
    "    0.05: 0.1\n",
    "}\n",
    "\n",
    "# Genera prezzi\n",
    "num_giorni = 100\n",
    "dati = genera_prezzi(num_giorni, distribuzione_variazioni)\n",
    "\n",
    "# Calcola variazioni\n",
    "dati['Variazione'] = dati['Price'] / dati['Price'].shift(1)\n",
    "\n",
    "# Parametri\n",
    "soglia_calcolo_variazioni_discesa = 0.05\n",
    "soglia_calcolo_variazioni_salita = 0.05\n",
    "\n",
    "prezzi_riferimento_discesa = []\n",
    "variazione_cumulata = 1\n",
    "gia_trovato = False\n",
    "cont = 0\n",
    "for j in range(len(dati), 0, -1):\n",
    "    variazione_giorno_precedente = dati['Variazione'].iloc[j-1]\n",
    "    if pd.isna(variazione_giorno_precedente):\n",
    "        continue\n",
    "    if variazione_giorno_precedente < 1:\n",
    "        variazione_cumulata = 1\n",
    "        cont = 0\n",
    "        gia_trovato = False\n",
    "        continue\n",
    "    else:\n",
    "        variazione_cumulata *= variazione_giorno_precedente\n",
    "        if variazione_cumulata != variazione_giorno_precedente:\n",
    "            cont += 1\n",
    "        if variazione_cumulata - 1 >= soglia_calcolo_variazioni_discesa and not gia_trovato:\n",
    "            prezzo_riferimento = dati['Price'].iloc[j+cont-1]\n",
    "            prezzi_riferimento_discesa.append((dati['Timestamp'].iloc[j+cont-1], prezzo_riferimento))\n",
    "            variazione_cumulata = 1\n",
    "            cont = 0\n",
    "            gia_trovato = True\n",
    "\n",
    "prezzi_riferimento_salita = []\n",
    "variazione_cumulata = 1\n",
    "gia_trovato = False\n",
    "cont = 0\n",
    "for j in range(len(dati), 0, -1):\n",
    "    variazione_giorno_precedente = dati['Variazione'].iloc[j-1]\n",
    "    if pd.isna(variazione_giorno_precedente):\n",
    "        continue\n",
    "    if variazione_giorno_precedente > 1:\n",
    "        variazione_cumulata = 1\n",
    "        cont = 0\n",
    "        gia_trovato = False\n",
    "        continue\n",
    "    else:\n",
    "        variazione_cumulata *= variazione_giorno_precedente\n",
    "        if variazione_cumulata != variazione_giorno_precedente:\n",
    "            cont += 1\n",
    "        if 1 - variazione_cumulata >= soglia_calcolo_variazioni_salita and not gia_trovato:\n",
    "            prezzo_riferimento = dati['Price'].iloc[j+cont-1]\n",
    "            prezzi_riferimento_salita.append((dati['Timestamp'].iloc[j+cont-1], prezzo_riferimento))\n",
    "            variazione_cumulata = 1\n",
    "            cont = 0\n",
    "            gia_trovato = True\n",
    "\n",
    "\n",
    "\n",
    "\n",
    "# Creazione del grafico con Plotly\n",
    "fig = go.Figure()\n",
    "\n",
    "# Linea dell'andamento dei prezzi\n",
    "fig.add_trace(go.Scatter(x=dati['Timestamp'], y=dati['Price'], \n",
    "                         mode='lines', name='Prezzi',\n",
    "                         line=dict(color='blue', width=2)))\n",
    "\n",
    "# Aggiungi punti di riferimento discesa (in verde)\n",
    "for timestamp, prezzo_riferimento in prezzi_riferimento_discesa:\n",
    "    fig.add_trace(go.Scatter(\n",
    "        x=[timestamp], y=[prezzo_riferimento],\n",
    "        mode='markers+text', name='Riferimento Discesa',\n",
    "        marker=dict(color='green', size=10),\n",
    "        text=[f'{prezzo_riferimento:.2f}'],\n",
    "        textposition='top center',\n",
    "        hoverinfo='text+name'  # Mostra testo e nome al passaggio del mouse\n",
    "    ))\n",
    "\n",
    "# Aggiungi punti di riferimento salita (in rosso)\n",
    "for timestamp, prezzo_riferimento in prezzi_riferimento_salita:\n",
    "    fig.add_trace(go.Scatter(\n",
    "        x=[timestamp], y=[prezzo_riferimento],\n",
    "        mode='markers+text', name='Riferimento Salita',\n",
    "        marker=dict(color='red', size=10),\n",
    "        text=[f'{prezzo_riferimento:.2f}'],\n",
    "        textposition='top center',\n",
    "        hoverinfo='text+name'  # Mostra testo e nome al passaggio del mouse\n",
    "    ))\n",
    "\n",
    "# Configurazione del layout del grafico\n",
    "fig.update_layout(\n",
    "    title='Prezzi generati con punti di riferimento per le discese (in verde) e per le salite (in rosso)',\n",
    "    xaxis_title='Data',\n",
    "    yaxis_title='Prezzo',\n",
    "    hovermode='closest',\n",
    "    template='plotly_white',\n",
    "    width=1600,\n",
    "    height=7/10 * 1600,\n",
    "    showlegend=False,\n",
    "    # legend=dict(yanchor=\"top\", y=0.99, xanchor=\"left\", x=0.01),\n",
    "    \n",
    "    # Aggiungi il range slider per l'asse X\n",
    "    xaxis=dict(\n",
    "        rangeslider=dict(visible=True),\n",
    "        type=\"date\"\n",
    "    )\n",
    ")\n",
    "\n",
    "# Mostra il grafico\n",
    "fig.show()"
   ]
  },
  {
   "cell_type": "code",
   "execution_count": 204,
   "metadata": {},
   "outputs": [
    {
     "data": {
      "text/html": [
       "<div>\n",
       "<style scoped>\n",
       "    .dataframe tbody tr th:only-of-type {\n",
       "        vertical-align: middle;\n",
       "    }\n",
       "\n",
       "    .dataframe tbody tr th {\n",
       "        vertical-align: top;\n",
       "    }\n",
       "\n",
       "    .dataframe thead th {\n",
       "        text-align: right;\n",
       "    }\n",
       "</style>\n",
       "<table border=\"1\" class=\"dataframe\">\n",
       "  <thead>\n",
       "    <tr style=\"text-align: right;\">\n",
       "      <th></th>\n",
       "      <th>Timestamp</th>\n",
       "      <th>Price</th>\n",
       "      <th>Variazione</th>\n",
       "    </tr>\n",
       "  </thead>\n",
       "  <tbody>\n",
       "    <tr>\n",
       "      <th>0</th>\n",
       "      <td>2023-01-01</td>\n",
       "      <td>100.000000</td>\n",
       "      <td>NaN</td>\n",
       "    </tr>\n",
       "    <tr>\n",
       "      <th>1</th>\n",
       "      <td>2023-01-02</td>\n",
       "      <td>101.000000</td>\n",
       "      <td>1.01</td>\n",
       "    </tr>\n",
       "    <tr>\n",
       "      <th>2</th>\n",
       "      <td>2023-01-03</td>\n",
       "      <td>103.020000</td>\n",
       "      <td>1.02</td>\n",
       "    </tr>\n",
       "    <tr>\n",
       "      <th>3</th>\n",
       "      <td>2023-01-04</td>\n",
       "      <td>104.050200</td>\n",
       "      <td>1.01</td>\n",
       "    </tr>\n",
       "    <tr>\n",
       "      <th>4</th>\n",
       "      <td>2023-01-05</td>\n",
       "      <td>105.090702</td>\n",
       "      <td>1.01</td>\n",
       "    </tr>\n",
       "    <tr>\n",
       "      <th>5</th>\n",
       "      <td>2023-01-06</td>\n",
       "      <td>104.039795</td>\n",
       "      <td>0.99</td>\n",
       "    </tr>\n",
       "    <tr>\n",
       "      <th>6</th>\n",
       "      <td>2023-01-07</td>\n",
       "      <td>105.080193</td>\n",
       "      <td>1.01</td>\n",
       "    </tr>\n",
       "    <tr>\n",
       "      <th>7</th>\n",
       "      <td>2023-01-08</td>\n",
       "      <td>104.029391</td>\n",
       "      <td>0.99</td>\n",
       "    </tr>\n",
       "    <tr>\n",
       "      <th>8</th>\n",
       "      <td>2023-01-09</td>\n",
       "      <td>106.109979</td>\n",
       "      <td>1.02</td>\n",
       "    </tr>\n",
       "    <tr>\n",
       "      <th>9</th>\n",
       "      <td>2023-01-10</td>\n",
       "      <td>111.415478</td>\n",
       "      <td>1.05</td>\n",
       "    </tr>\n",
       "    <tr>\n",
       "      <th>10</th>\n",
       "      <td>2023-01-11</td>\n",
       "      <td>110.301323</td>\n",
       "      <td>0.99</td>\n",
       "    </tr>\n",
       "    <tr>\n",
       "      <th>11</th>\n",
       "      <td>2023-01-12</td>\n",
       "      <td>112.507349</td>\n",
       "      <td>1.02</td>\n",
       "    </tr>\n",
       "    <tr>\n",
       "      <th>12</th>\n",
       "      <td>2023-01-13</td>\n",
       "      <td>113.632423</td>\n",
       "      <td>1.01</td>\n",
       "    </tr>\n",
       "    <tr>\n",
       "      <th>13</th>\n",
       "      <td>2023-01-14</td>\n",
       "      <td>114.768747</td>\n",
       "      <td>1.01</td>\n",
       "    </tr>\n",
       "    <tr>\n",
       "      <th>14</th>\n",
       "      <td>2023-01-15</td>\n",
       "      <td>120.507185</td>\n",
       "      <td>1.05</td>\n",
       "    </tr>\n",
       "    <tr>\n",
       "      <th>15</th>\n",
       "      <td>2023-01-16</td>\n",
       "      <td>114.481825</td>\n",
       "      <td>0.95</td>\n",
       "    </tr>\n",
       "    <tr>\n",
       "      <th>16</th>\n",
       "      <td>2023-01-17</td>\n",
       "      <td>108.757734</td>\n",
       "      <td>0.95</td>\n",
       "    </tr>\n",
       "    <tr>\n",
       "      <th>17</th>\n",
       "      <td>2023-01-18</td>\n",
       "      <td>103.319847</td>\n",
       "      <td>0.95</td>\n",
       "    </tr>\n",
       "    <tr>\n",
       "      <th>18</th>\n",
       "      <td>2023-01-19</td>\n",
       "      <td>105.386244</td>\n",
       "      <td>1.02</td>\n",
       "    </tr>\n",
       "    <tr>\n",
       "      <th>19</th>\n",
       "      <td>2023-01-20</td>\n",
       "      <td>107.493969</td>\n",
       "      <td>1.02</td>\n",
       "    </tr>\n",
       "  </tbody>\n",
       "</table>\n",
       "</div>"
      ],
      "text/plain": [
       "    Timestamp       Price  Variazione\n",
       "0  2023-01-01  100.000000         NaN\n",
       "1  2023-01-02  101.000000        1.01\n",
       "2  2023-01-03  103.020000        1.02\n",
       "3  2023-01-04  104.050200        1.01\n",
       "4  2023-01-05  105.090702        1.01\n",
       "5  2023-01-06  104.039795        0.99\n",
       "6  2023-01-07  105.080193        1.01\n",
       "7  2023-01-08  104.029391        0.99\n",
       "8  2023-01-09  106.109979        1.02\n",
       "9  2023-01-10  111.415478        1.05\n",
       "10 2023-01-11  110.301323        0.99\n",
       "11 2023-01-12  112.507349        1.02\n",
       "12 2023-01-13  113.632423        1.01\n",
       "13 2023-01-14  114.768747        1.01\n",
       "14 2023-01-15  120.507185        1.05\n",
       "15 2023-01-16  114.481825        0.95\n",
       "16 2023-01-17  108.757734        0.95\n",
       "17 2023-01-18  103.319847        0.95\n",
       "18 2023-01-19  105.386244        1.02\n",
       "19 2023-01-20  107.493969        1.02"
      ]
     },
     "execution_count": 204,
     "metadata": {},
     "output_type": "execute_result"
    }
   ],
   "source": [
    "dati[:20]"
   ]
  },
  {
   "cell_type": "markdown",
   "metadata": {},
   "source": [
    "## Lettura dati Bitcoin"
   ]
  },
  {
   "cell_type": "code",
   "execution_count": 205,
   "metadata": {},
   "outputs": [
    {
     "data": {
      "text/html": [
       "<div>\n",
       "<style scoped>\n",
       "    .dataframe tbody tr th:only-of-type {\n",
       "        vertical-align: middle;\n",
       "    }\n",
       "\n",
       "    .dataframe tbody tr th {\n",
       "        vertical-align: top;\n",
       "    }\n",
       "\n",
       "    .dataframe thead th {\n",
       "        text-align: right;\n",
       "    }\n",
       "</style>\n",
       "<table border=\"1\" class=\"dataframe\">\n",
       "  <thead>\n",
       "    <tr style=\"text-align: right;\">\n",
       "      <th></th>\n",
       "      <th>Timestamp</th>\n",
       "      <th>Price</th>\n",
       "    </tr>\n",
       "  </thead>\n",
       "  <tbody>\n",
       "    <tr>\n",
       "      <th>0</th>\n",
       "      <td>2014-09-17</td>\n",
       "      <td>355.957367</td>\n",
       "    </tr>\n",
       "    <tr>\n",
       "      <th>1</th>\n",
       "      <td>2014-09-18</td>\n",
       "      <td>328.539368</td>\n",
       "    </tr>\n",
       "    <tr>\n",
       "      <th>2</th>\n",
       "      <td>2014-09-19</td>\n",
       "      <td>307.761139</td>\n",
       "    </tr>\n",
       "    <tr>\n",
       "      <th>3</th>\n",
       "      <td>2014-09-20</td>\n",
       "      <td>318.758972</td>\n",
       "    </tr>\n",
       "    <tr>\n",
       "      <th>4</th>\n",
       "      <td>2014-09-21</td>\n",
       "      <td>310.632446</td>\n",
       "    </tr>\n",
       "    <tr>\n",
       "      <th>...</th>\n",
       "      <td>...</td>\n",
       "      <td>...</td>\n",
       "    </tr>\n",
       "    <tr>\n",
       "      <th>3503</th>\n",
       "      <td>2024-04-20</td>\n",
       "      <td>59876.710938</td>\n",
       "    </tr>\n",
       "    <tr>\n",
       "      <th>3504</th>\n",
       "      <td>2024-04-21</td>\n",
       "      <td>60956.074219</td>\n",
       "    </tr>\n",
       "    <tr>\n",
       "      <th>3505</th>\n",
       "      <td>2024-04-22</td>\n",
       "      <td>60919.242188</td>\n",
       "    </tr>\n",
       "    <tr>\n",
       "      <th>3506</th>\n",
       "      <td>2024-04-23</td>\n",
       "      <td>62729.296875</td>\n",
       "    </tr>\n",
       "    <tr>\n",
       "      <th>3507</th>\n",
       "      <td>2024-04-24</td>\n",
       "      <td>62048.164062</td>\n",
       "    </tr>\n",
       "  </tbody>\n",
       "</table>\n",
       "<p>3508 rows × 2 columns</p>\n",
       "</div>"
      ],
      "text/plain": [
       "      Timestamp         Price\n",
       "0    2014-09-17    355.957367\n",
       "1    2014-09-18    328.539368\n",
       "2    2014-09-19    307.761139\n",
       "3    2014-09-20    318.758972\n",
       "4    2014-09-21    310.632446\n",
       "...         ...           ...\n",
       "3503 2024-04-20  59876.710938\n",
       "3504 2024-04-21  60956.074219\n",
       "3505 2024-04-22  60919.242188\n",
       "3506 2024-04-23  62729.296875\n",
       "3507 2024-04-24  62048.164062\n",
       "\n",
       "[3508 rows x 2 columns]"
      ]
     },
     "execution_count": 205,
     "metadata": {},
     "output_type": "execute_result"
    }
   ],
   "source": [
    "dati = pd.read_csv('Bitcoin (€) da yfinance dal 17-09-2014 al 24-04-2024.csv')\n",
    "dati = dati[['Date', 'Close']]\n",
    "dati = dati.rename(columns = {'Date':'Timestamp', 'Close': 'Price'})\n",
    "dati['Timestamp'] = pd.to_datetime(dati['Timestamp'])\n",
    "dati['Timestamp'] = dati['Timestamp'].dt.strftime('%Y-%m-%d')\n",
    "dati['Timestamp'] = pd.to_datetime(dati['Timestamp'], format='%Y-%m-%d')\n",
    "dati"
   ]
  },
  {
   "cell_type": "code",
   "execution_count": 206,
   "metadata": {},
   "outputs": [],
   "source": [
    "# dati = pd.read_csv('Bitcoin (€) da yfinance dal 06-05-2022 alle 21 al 05-05-2024 alle 19 con granularità oraria.csv')\n",
    "# dati = dati[['Datetime', 'Close']]\n",
    "# dati = dati.rename(columns = {'Datetime':'Timestamp', 'Close': 'Price'})\n",
    "# dati['Timestamp'] = pd.to_datetime(dati['Timestamp'])\n",
    "# dati['Timestamp'] = dati['Timestamp'].dt.strftime('%Y-%m-%d %H')\n",
    "# dati['Timestamp'] = pd.to_datetime(dati['Timestamp'], format='%Y-%m-%d %H')\n",
    "# dati"
   ]
  },
  {
   "cell_type": "code",
   "execution_count": 207,
   "metadata": {},
   "outputs": [
    {
     "data": {
      "text/html": [
       "<div>\n",
       "<style scoped>\n",
       "    .dataframe tbody tr th:only-of-type {\n",
       "        vertical-align: middle;\n",
       "    }\n",
       "\n",
       "    .dataframe tbody tr th {\n",
       "        vertical-align: top;\n",
       "    }\n",
       "\n",
       "    .dataframe thead th {\n",
       "        text-align: right;\n",
       "    }\n",
       "</style>\n",
       "<table border=\"1\" class=\"dataframe\">\n",
       "  <thead>\n",
       "    <tr style=\"text-align: right;\">\n",
       "      <th></th>\n",
       "      <th>Timestamp</th>\n",
       "      <th>Price</th>\n",
       "    </tr>\n",
       "  </thead>\n",
       "  <tbody>\n",
       "    <tr>\n",
       "      <th>0</th>\n",
       "      <td>2021-05-01</td>\n",
       "      <td>48110.046875</td>\n",
       "    </tr>\n",
       "    <tr>\n",
       "      <th>1</th>\n",
       "      <td>2021-05-02</td>\n",
       "      <td>47088.570312</td>\n",
       "    </tr>\n",
       "    <tr>\n",
       "      <th>2</th>\n",
       "      <td>2021-05-03</td>\n",
       "      <td>47432.769531</td>\n",
       "    </tr>\n",
       "    <tr>\n",
       "      <th>3</th>\n",
       "      <td>2021-05-04</td>\n",
       "      <td>44387.261719</td>\n",
       "    </tr>\n",
       "    <tr>\n",
       "      <th>4</th>\n",
       "      <td>2021-05-05</td>\n",
       "      <td>47823.058594</td>\n",
       "    </tr>\n",
       "    <tr>\n",
       "      <th>...</th>\n",
       "      <td>...</td>\n",
       "      <td>...</td>\n",
       "    </tr>\n",
       "    <tr>\n",
       "      <th>87</th>\n",
       "      <td>2021-07-27</td>\n",
       "      <td>33336.066406</td>\n",
       "    </tr>\n",
       "    <tr>\n",
       "      <th>88</th>\n",
       "      <td>2021-07-28</td>\n",
       "      <td>33764.222656</td>\n",
       "    </tr>\n",
       "    <tr>\n",
       "      <th>89</th>\n",
       "      <td>2021-07-29</td>\n",
       "      <td>33643.082031</td>\n",
       "    </tr>\n",
       "    <tr>\n",
       "      <th>90</th>\n",
       "      <td>2021-07-30</td>\n",
       "      <td>35590.078125</td>\n",
       "    </tr>\n",
       "    <tr>\n",
       "      <th>91</th>\n",
       "      <td>2021-07-31</td>\n",
       "      <td>35077.269531</td>\n",
       "    </tr>\n",
       "  </tbody>\n",
       "</table>\n",
       "<p>92 rows × 2 columns</p>\n",
       "</div>"
      ],
      "text/plain": [
       "    Timestamp         Price\n",
       "0  2021-05-01  48110.046875\n",
       "1  2021-05-02  47088.570312\n",
       "2  2021-05-03  47432.769531\n",
       "3  2021-05-04  44387.261719\n",
       "4  2021-05-05  47823.058594\n",
       "..        ...           ...\n",
       "87 2021-07-27  33336.066406\n",
       "88 2021-07-28  33764.222656\n",
       "89 2021-07-29  33643.082031\n",
       "90 2021-07-30  35590.078125\n",
       "91 2021-07-31  35077.269531\n",
       "\n",
       "[92 rows x 2 columns]"
      ]
     },
     "execution_count": 207,
     "metadata": {},
     "output_type": "execute_result"
    }
   ],
   "source": [
    "# Bull market\n",
    "# data_inizio = '2020-12-01'\n",
    "# data_fine = '2021-04-30'\n",
    "\n",
    "# Mercato laterale\n",
    "# data_inizio = '2022-07-01'\n",
    "# data_fine = '2022-10-31'\n",
    "\n",
    "# Bear market\n",
    "data_inizio = '2021-05-01'\n",
    "data_fine = '2021-07-31'\n",
    "\n",
    "indice_inizio = dati[dati['Timestamp'] == data_inizio].index[0]\n",
    "indice_fine = dati[dati['Timestamp'] == data_fine].index[0]\n",
    "dati = dati[indice_inizio:indice_fine + 1].reset_index(drop=True)\n",
    "dati"
   ]
  },
  {
   "cell_type": "code",
   "execution_count": 208,
   "metadata": {},
   "outputs": [],
   "source": [
    "# data_inizio = '2023-06-01 00'\n",
    "# data_fine = '2023-12-01 00'\n",
    "# indice_inizio = dati[dati['Timestamp'] == data_inizio].index[0]\n",
    "# indice_fine = dati[dati['Timestamp'] == data_fine].index[0]\n",
    "# dati = dati[indice_inizio:indice_fine + 1].reset_index(drop=True)\n",
    "# dati"
   ]
  },
  {
   "cell_type": "code",
   "execution_count": 209,
   "metadata": {},
   "outputs": [],
   "source": [
    "dati['Variazione'] = dati['Price'] / dati['Price'].shift(1)"
   ]
  },
  {
   "cell_type": "markdown",
   "metadata": {},
   "source": [
    "### Eventuale cambio dati"
   ]
  },
  {
   "cell_type": "code",
   "execution_count": 210,
   "metadata": {},
   "outputs": [],
   "source": [
    "def calcola_prezzo(t):\n",
    "    return dati['Price'][t] #1000 - t + 100 * math.sin(2*math.pi * t / 4)"
   ]
  },
  {
   "cell_type": "code",
   "execution_count": 211,
   "metadata": {},
   "outputs": [
    {
     "data": {
      "text/html": [
       "<div>\n",
       "<style scoped>\n",
       "    .dataframe tbody tr th:only-of-type {\n",
       "        vertical-align: middle;\n",
       "    }\n",
       "\n",
       "    .dataframe tbody tr th {\n",
       "        vertical-align: top;\n",
       "    }\n",
       "\n",
       "    .dataframe thead th {\n",
       "        text-align: right;\n",
       "    }\n",
       "</style>\n",
       "<table border=\"1\" class=\"dataframe\">\n",
       "  <thead>\n",
       "    <tr style=\"text-align: right;\">\n",
       "      <th></th>\n",
       "      <th>Timestamp</th>\n",
       "      <th>Price</th>\n",
       "      <th>Variazione</th>\n",
       "    </tr>\n",
       "  </thead>\n",
       "  <tbody>\n",
       "    <tr>\n",
       "      <th>0</th>\n",
       "      <td>2021-05-01</td>\n",
       "      <td>48110.046875</td>\n",
       "      <td>NaN</td>\n",
       "    </tr>\n",
       "    <tr>\n",
       "      <th>1</th>\n",
       "      <td>2021-05-02</td>\n",
       "      <td>47088.570312</td>\n",
       "      <td>0.978768</td>\n",
       "    </tr>\n",
       "    <tr>\n",
       "      <th>2</th>\n",
       "      <td>2021-05-03</td>\n",
       "      <td>47432.769531</td>\n",
       "      <td>1.007310</td>\n",
       "    </tr>\n",
       "    <tr>\n",
       "      <th>3</th>\n",
       "      <td>2021-05-04</td>\n",
       "      <td>44387.261719</td>\n",
       "      <td>0.935793</td>\n",
       "    </tr>\n",
       "    <tr>\n",
       "      <th>4</th>\n",
       "      <td>2021-05-05</td>\n",
       "      <td>47823.058594</td>\n",
       "      <td>1.077405</td>\n",
       "    </tr>\n",
       "    <tr>\n",
       "      <th>...</th>\n",
       "      <td>...</td>\n",
       "      <td>...</td>\n",
       "      <td>...</td>\n",
       "    </tr>\n",
       "    <tr>\n",
       "      <th>87</th>\n",
       "      <td>2021-07-27</td>\n",
       "      <td>33336.066406</td>\n",
       "      <td>1.053977</td>\n",
       "    </tr>\n",
       "    <tr>\n",
       "      <th>88</th>\n",
       "      <td>2021-07-28</td>\n",
       "      <td>33764.222656</td>\n",
       "      <td>1.012844</td>\n",
       "    </tr>\n",
       "    <tr>\n",
       "      <th>89</th>\n",
       "      <td>2021-07-29</td>\n",
       "      <td>33643.082031</td>\n",
       "      <td>0.996412</td>\n",
       "    </tr>\n",
       "    <tr>\n",
       "      <th>90</th>\n",
       "      <td>2021-07-30</td>\n",
       "      <td>35590.078125</td>\n",
       "      <td>1.057872</td>\n",
       "    </tr>\n",
       "    <tr>\n",
       "      <th>91</th>\n",
       "      <td>2021-07-31</td>\n",
       "      <td>35077.269531</td>\n",
       "      <td>0.985591</td>\n",
       "    </tr>\n",
       "  </tbody>\n",
       "</table>\n",
       "<p>92 rows × 3 columns</p>\n",
       "</div>"
      ],
      "text/plain": [
       "    Timestamp         Price  Variazione\n",
       "0  2021-05-01  48110.046875         NaN\n",
       "1  2021-05-02  47088.570312    0.978768\n",
       "2  2021-05-03  47432.769531    1.007310\n",
       "3  2021-05-04  44387.261719    0.935793\n",
       "4  2021-05-05  47823.058594    1.077405\n",
       "..        ...           ...         ...\n",
       "87 2021-07-27  33336.066406    1.053977\n",
       "88 2021-07-28  33764.222656    1.012844\n",
       "89 2021-07-29  33643.082031    0.996412\n",
       "90 2021-07-30  35590.078125    1.057872\n",
       "91 2021-07-31  35077.269531    0.985591\n",
       "\n",
       "[92 rows x 3 columns]"
      ]
     },
     "execution_count": 211,
     "metadata": {},
     "output_type": "execute_result"
    }
   ],
   "source": [
    "dati['Price'] = dati.index.map(calcola_prezzo)\n",
    "dati"
   ]
  },
  {
   "cell_type": "markdown",
   "metadata": {},
   "source": [
    "## Algoritmo"
   ]
  },
  {
   "cell_type": "code",
   "execution_count": 212,
   "metadata": {},
   "outputs": [],
   "source": [
    "# Funzione per calcolare l'ultimo prezzo di riferimento discesa\n",
    "def calcola_prezzo_riferimento_discesa(dati, soglia_discesa):\n",
    "    variazione_cumulata = 1\n",
    "    cont = 0\n",
    "\n",
    "    for j in range(len(dati), 0, -1):\n",
    "        variazione_giorno_precedente = dati['Variazione'].iloc[j-1]\n",
    "\n",
    "        if pd.isna(variazione_giorno_precedente):\n",
    "            continue\n",
    "\n",
    "        if variazione_giorno_precedente < 1:  # Prezzo in discesa\n",
    "            variazione_cumulata = 1\n",
    "            cont = 0\n",
    "        else:\n",
    "            variazione_cumulata *= variazione_giorno_precedente\n",
    "            if variazione_cumulata != variazione_giorno_precedente:\n",
    "                cont += 1\n",
    "            if variazione_cumulata - 1 >= soglia_discesa:\n",
    "                # Se la variazione supera la soglia, restituisci il riferimento\n",
    "                if j + cont - 1 == len(dati) - 1:\n",
    "                    # Se il riferimento è l'ultimo giorno, restituisci None\n",
    "                    return None, None\n",
    "                return dati['Timestamp'].iloc[j+cont-1], dati['Price'].iloc[j+cont-1]\n",
    "\n",
    "    # Se non si è trovata una variazione che supera la soglia, ritorna il primo giorno\n",
    "    return dati['Timestamp'].iloc[0], dati['Price'].iloc[0]\n",
    "\n",
    "# Funzione per calcolare l'ultimo prezzo di riferimento salita\n",
    "def calcola_prezzo_riferimento_salita(dati, soglia_salita):\n",
    "    variazione_cumulata = 1\n",
    "    cont = 0\n",
    "\n",
    "    for j in range(len(dati), 0, -1):\n",
    "        variazione_giorno_precedente = dati['Variazione'].iloc[j-1]\n",
    "\n",
    "        if pd.isna(variazione_giorno_precedente):\n",
    "            continue\n",
    "\n",
    "        if variazione_giorno_precedente > 1:  # Prezzo in salita\n",
    "            variazione_cumulata = 1\n",
    "            cont = 0\n",
    "        else:\n",
    "            variazione_cumulata *= variazione_giorno_precedente\n",
    "            if variazione_cumulata != variazione_giorno_precedente:\n",
    "                cont += 1\n",
    "            if 1 - variazione_cumulata >= soglia_salita:\n",
    "                # Se la variazione supera la soglia o il prezzo di riferimento è superiore al prezzo attuale, restituisci il riferimento\n",
    "                if j + cont - 1 == len(dati) - 1:\n",
    "                    # Se il riferimento è l'ultimo giorno, restituisci None\n",
    "                    return None, None\n",
    "                return dati['Timestamp'].iloc[j+cont-1], dati['Price'].iloc[j+cont-1]\n",
    "\n",
    "    # Se non si è trovata una variazione che supera la soglia, ritorna il primo giorno\n",
    "    return dati['Timestamp'].iloc[0], dati['Price'].iloc[0]\n",
    "\n",
    "def calcola_percentuale(variazione, coefficienti):\n",
    "    return sum([c * variazione ** i for i, c in enumerate(coefficienti)])"
   ]
  },
  {
   "cell_type": "code",
   "execution_count": 224,
   "metadata": {},
   "outputs": [
    {
     "data": {
      "text/html": [
       "<div>\n",
       "<style scoped>\n",
       "    .dataframe tbody tr th:only-of-type {\n",
       "        vertical-align: middle;\n",
       "    }\n",
       "\n",
       "    .dataframe tbody tr th {\n",
       "        vertical-align: top;\n",
       "    }\n",
       "\n",
       "    .dataframe thead th {\n",
       "        text-align: right;\n",
       "    }\n",
       "</style>\n",
       "<table border=\"1\" class=\"dataframe\">\n",
       "  <thead>\n",
       "    <tr style=\"text-align: right;\">\n",
       "      <th></th>\n",
       "      <th>data</th>\n",
       "      <th>prezzo</th>\n",
       "      <th>variazione_giornaliera_prezzo_percentuale</th>\n",
       "      <th>timestamp_riferimento_discesa</th>\n",
       "      <th>prezzo_riferimento_discesa</th>\n",
       "      <th>variazione_rispetto_riferimento_discesa</th>\n",
       "      <th>timestamp_riferimento_salita</th>\n",
       "      <th>prezzo_riferimento_salita</th>\n",
       "      <th>variazione_rispetto_riferimento_salita</th>\n",
       "      <th>azione</th>\n",
       "      <th>Percentuale Liquidità Usata</th>\n",
       "      <th>Percentuale Bitcoin Usata</th>\n",
       "      <th>quantità_euro</th>\n",
       "      <th>Bitcoin Acquistati/Venduti</th>\n",
       "      <th>Liquidità</th>\n",
       "      <th>Bitcoin</th>\n",
       "      <th>valore_totale_portafoglio</th>\n",
       "    </tr>\n",
       "  </thead>\n",
       "  <tbody>\n",
       "    <tr>\n",
       "      <th>0</th>\n",
       "      <td>2021-05-02</td>\n",
       "      <td>47088.570312</td>\n",
       "      <td>-2.12%</td>\n",
       "      <td>2021-05-01</td>\n",
       "      <td>48110.046875</td>\n",
       "      <td>-2.12%</td>\n",
       "      <td>2021-05-01</td>\n",
       "      <td>48110.046875</td>\n",
       "      <td>-2.12%</td>\n",
       "      <td>-</td>\n",
       "      <td>0</td>\n",
       "      <td>0</td>\n",
       "      <td>0</td>\n",
       "      <td>0</td>\n",
       "      <td>1000</td>\n",
       "      <td>0</td>\n",
       "      <td>1000.000000</td>\n",
       "    </tr>\n",
       "    <tr>\n",
       "      <th>1</th>\n",
       "      <td>2021-05-03</td>\n",
       "      <td>47432.769531</td>\n",
       "      <td>0.73%</td>\n",
       "      <td>2021-05-01</td>\n",
       "      <td>48110.046875</td>\n",
       "      <td>-1.41%</td>\n",
       "      <td>2021-05-01</td>\n",
       "      <td>48110.046875</td>\n",
       "      <td>-1.41%</td>\n",
       "      <td>-</td>\n",
       "      <td>0</td>\n",
       "      <td>0</td>\n",
       "      <td>0</td>\n",
       "      <td>0</td>\n",
       "      <td>1000</td>\n",
       "      <td>0</td>\n",
       "      <td>1000.000000</td>\n",
       "    </tr>\n",
       "    <tr>\n",
       "      <th>2</th>\n",
       "      <td>2021-05-04</td>\n",
       "      <td>44387.261719</td>\n",
       "      <td>-6.42%</td>\n",
       "      <td>2021-05-01</td>\n",
       "      <td>48110.046875</td>\n",
       "      <td>-7.74%</td>\n",
       "      <td>NaT</td>\n",
       "      <td>NaN</td>\n",
       "      <td>None</td>\n",
       "      <td>Acquisto</td>\n",
       "      <td>0.154761</td>\n",
       "      <td>0</td>\n",
       "      <td>154.761236</td>\n",
       "      <td>0.003487</td>\n",
       "      <td>845.238764</td>\n",
       "      <td>0.003487</td>\n",
       "      <td>1000.000000</td>\n",
       "    </tr>\n",
       "    <tr>\n",
       "      <th>3</th>\n",
       "      <td>2021-05-05</td>\n",
       "      <td>47823.058594</td>\n",
       "      <td>7.74%</td>\n",
       "      <td>NaT</td>\n",
       "      <td>NaN</td>\n",
       "      <td>None</td>\n",
       "      <td>2021-05-04</td>\n",
       "      <td>44387.261719</td>\n",
       "      <td>7.74%</td>\n",
       "      <td>Vendita</td>\n",
       "      <td>0</td>\n",
       "      <td>0.541835</td>\n",
       "      <td>166.740532</td>\n",
       "      <td>0.003487</td>\n",
       "      <td>1011.979297</td>\n",
       "      <td>0.0</td>\n",
       "      <td>1011.979297</td>\n",
       "    </tr>\n",
       "    <tr>\n",
       "      <th>4</th>\n",
       "      <td>2021-05-06</td>\n",
       "      <td>46742.558594</td>\n",
       "      <td>-2.26%</td>\n",
       "      <td>2021-05-05</td>\n",
       "      <td>47823.058594</td>\n",
       "      <td>-2.26%</td>\n",
       "      <td>2021-05-04</td>\n",
       "      <td>44387.261719</td>\n",
       "      <td>5.31%</td>\n",
       "      <td>-</td>\n",
       "      <td>0</td>\n",
       "      <td>0</td>\n",
       "      <td>0</td>\n",
       "      <td>0</td>\n",
       "      <td>1011.979297</td>\n",
       "      <td>0.0</td>\n",
       "      <td>1011.979297</td>\n",
       "    </tr>\n",
       "    <tr>\n",
       "      <th>...</th>\n",
       "      <td>...</td>\n",
       "      <td>...</td>\n",
       "      <td>...</td>\n",
       "      <td>...</td>\n",
       "      <td>...</td>\n",
       "      <td>...</td>\n",
       "      <td>...</td>\n",
       "      <td>...</td>\n",
       "      <td>...</td>\n",
       "      <td>...</td>\n",
       "      <td>...</td>\n",
       "      <td>...</td>\n",
       "      <td>...</td>\n",
       "      <td>...</td>\n",
       "      <td>...</td>\n",
       "      <td>...</td>\n",
       "      <td>...</td>\n",
       "    </tr>\n",
       "    <tr>\n",
       "      <th>86</th>\n",
       "      <td>2021-07-27</td>\n",
       "      <td>33336.066406</td>\n",
       "      <td>5.4%</td>\n",
       "      <td>NaT</td>\n",
       "      <td>NaN</td>\n",
       "      <td>None</td>\n",
       "      <td>2021-07-20</td>\n",
       "      <td>25299.851562</td>\n",
       "      <td>31.76%</td>\n",
       "      <td>-</td>\n",
       "      <td>0</td>\n",
       "      <td>0</td>\n",
       "      <td>0</td>\n",
       "      <td>0</td>\n",
       "      <td>1068.597003</td>\n",
       "      <td>0.0</td>\n",
       "      <td>1068.597003</td>\n",
       "    </tr>\n",
       "    <tr>\n",
       "      <th>87</th>\n",
       "      <td>2021-07-28</td>\n",
       "      <td>33764.222656</td>\n",
       "      <td>1.28%</td>\n",
       "      <td>NaT</td>\n",
       "      <td>NaN</td>\n",
       "      <td>None</td>\n",
       "      <td>2021-07-20</td>\n",
       "      <td>25299.851562</td>\n",
       "      <td>33.46%</td>\n",
       "      <td>-</td>\n",
       "      <td>0</td>\n",
       "      <td>0</td>\n",
       "      <td>0</td>\n",
       "      <td>0</td>\n",
       "      <td>1068.597003</td>\n",
       "      <td>0.0</td>\n",
       "      <td>1068.597003</td>\n",
       "    </tr>\n",
       "    <tr>\n",
       "      <th>88</th>\n",
       "      <td>2021-07-29</td>\n",
       "      <td>33643.082031</td>\n",
       "      <td>-0.36%</td>\n",
       "      <td>2021-07-28</td>\n",
       "      <td>33764.222656</td>\n",
       "      <td>-0.36%</td>\n",
       "      <td>2021-07-20</td>\n",
       "      <td>25299.851562</td>\n",
       "      <td>32.98%</td>\n",
       "      <td>-</td>\n",
       "      <td>0</td>\n",
       "      <td>0</td>\n",
       "      <td>0</td>\n",
       "      <td>0</td>\n",
       "      <td>1068.597003</td>\n",
       "      <td>0.0</td>\n",
       "      <td>1068.597003</td>\n",
       "    </tr>\n",
       "    <tr>\n",
       "      <th>89</th>\n",
       "      <td>2021-07-30</td>\n",
       "      <td>35590.078125</td>\n",
       "      <td>5.79%</td>\n",
       "      <td>NaT</td>\n",
       "      <td>NaN</td>\n",
       "      <td>None</td>\n",
       "      <td>2021-07-20</td>\n",
       "      <td>25299.851562</td>\n",
       "      <td>40.67%</td>\n",
       "      <td>-</td>\n",
       "      <td>0</td>\n",
       "      <td>0</td>\n",
       "      <td>0</td>\n",
       "      <td>0</td>\n",
       "      <td>1068.597003</td>\n",
       "      <td>0.0</td>\n",
       "      <td>1068.597003</td>\n",
       "    </tr>\n",
       "    <tr>\n",
       "      <th>90</th>\n",
       "      <td>2021-07-31</td>\n",
       "      <td>35077.269531</td>\n",
       "      <td>-1.44%</td>\n",
       "      <td>2021-07-30</td>\n",
       "      <td>35590.078125</td>\n",
       "      <td>-1.44%</td>\n",
       "      <td>2021-07-20</td>\n",
       "      <td>25299.851562</td>\n",
       "      <td>38.65%</td>\n",
       "      <td>-</td>\n",
       "      <td>0</td>\n",
       "      <td>0</td>\n",
       "      <td>0</td>\n",
       "      <td>0</td>\n",
       "      <td>1068.597003</td>\n",
       "      <td>0.0</td>\n",
       "      <td>1068.597003</td>\n",
       "    </tr>\n",
       "  </tbody>\n",
       "</table>\n",
       "<p>91 rows × 17 columns</p>\n",
       "</div>"
      ],
      "text/plain": [
       "         data        prezzo variazione_giornaliera_prezzo_percentuale  \\\n",
       "0  2021-05-02  47088.570312                                    -2.12%   \n",
       "1  2021-05-03  47432.769531                                     0.73%   \n",
       "2  2021-05-04  44387.261719                                    -6.42%   \n",
       "3  2021-05-05  47823.058594                                     7.74%   \n",
       "4  2021-05-06  46742.558594                                    -2.26%   \n",
       "..        ...           ...                                       ...   \n",
       "86 2021-07-27  33336.066406                                      5.4%   \n",
       "87 2021-07-28  33764.222656                                     1.28%   \n",
       "88 2021-07-29  33643.082031                                    -0.36%   \n",
       "89 2021-07-30  35590.078125                                     5.79%   \n",
       "90 2021-07-31  35077.269531                                    -1.44%   \n",
       "\n",
       "   timestamp_riferimento_discesa  prezzo_riferimento_discesa  \\\n",
       "0                     2021-05-01                48110.046875   \n",
       "1                     2021-05-01                48110.046875   \n",
       "2                     2021-05-01                48110.046875   \n",
       "3                            NaT                         NaN   \n",
       "4                     2021-05-05                47823.058594   \n",
       "..                           ...                         ...   \n",
       "86                           NaT                         NaN   \n",
       "87                           NaT                         NaN   \n",
       "88                    2021-07-28                33764.222656   \n",
       "89                           NaT                         NaN   \n",
       "90                    2021-07-30                35590.078125   \n",
       "\n",
       "   variazione_rispetto_riferimento_discesa timestamp_riferimento_salita  \\\n",
       "0                                   -2.12%                   2021-05-01   \n",
       "1                                   -1.41%                   2021-05-01   \n",
       "2                                   -7.74%                          NaT   \n",
       "3                                     None                   2021-05-04   \n",
       "4                                   -2.26%                   2021-05-04   \n",
       "..                                     ...                          ...   \n",
       "86                                    None                   2021-07-20   \n",
       "87                                    None                   2021-07-20   \n",
       "88                                  -0.36%                   2021-07-20   \n",
       "89                                    None                   2021-07-20   \n",
       "90                                  -1.44%                   2021-07-20   \n",
       "\n",
       "    prezzo_riferimento_salita variazione_rispetto_riferimento_salita  \\\n",
       "0                48110.046875                                 -2.12%   \n",
       "1                48110.046875                                 -1.41%   \n",
       "2                         NaN                                   None   \n",
       "3                44387.261719                                  7.74%   \n",
       "4                44387.261719                                  5.31%   \n",
       "..                        ...                                    ...   \n",
       "86               25299.851562                                 31.76%   \n",
       "87               25299.851562                                 33.46%   \n",
       "88               25299.851562                                 32.98%   \n",
       "89               25299.851562                                 40.67%   \n",
       "90               25299.851562                                 38.65%   \n",
       "\n",
       "      azione Percentuale Liquidità Usata Percentuale Bitcoin Usata  \\\n",
       "0          -                           0                         0   \n",
       "1          -                           0                         0   \n",
       "2   Acquisto                    0.154761                         0   \n",
       "3    Vendita                           0                  0.541835   \n",
       "4          -                           0                         0   \n",
       "..       ...                         ...                       ...   \n",
       "86         -                           0                         0   \n",
       "87         -                           0                         0   \n",
       "88         -                           0                         0   \n",
       "89         -                           0                         0   \n",
       "90         -                           0                         0   \n",
       "\n",
       "   quantità_euro Bitcoin Acquistati/Venduti    Liquidità   Bitcoin  \\\n",
       "0              0                          0         1000         0   \n",
       "1              0                          0         1000         0   \n",
       "2     154.761236                   0.003487   845.238764  0.003487   \n",
       "3     166.740532                   0.003487  1011.979297       0.0   \n",
       "4              0                          0  1011.979297       0.0   \n",
       "..           ...                        ...          ...       ...   \n",
       "86             0                          0  1068.597003       0.0   \n",
       "87             0                          0  1068.597003       0.0   \n",
       "88             0                          0  1068.597003       0.0   \n",
       "89             0                          0  1068.597003       0.0   \n",
       "90             0                          0  1068.597003       0.0   \n",
       "\n",
       "    valore_totale_portafoglio  \n",
       "0                 1000.000000  \n",
       "1                 1000.000000  \n",
       "2                 1000.000000  \n",
       "3                 1011.979297  \n",
       "4                 1011.979297  \n",
       "..                        ...  \n",
       "86                1068.597003  \n",
       "87                1068.597003  \n",
       "88                1068.597003  \n",
       "89                1068.597003  \n",
       "90                1068.597003  \n",
       "\n",
       "[91 rows x 17 columns]"
      ]
     },
     "execution_count": 224,
     "metadata": {},
     "output_type": "execute_result"
    }
   ],
   "source": [
    "# Parametri della strategia\n",
    "inverti_riferimento_acquisto = False # Se è True, la variazione percentuale viene calcolata \"dall'alto in basso\" (ad esempio, se il prezzo passa da 80 a 40 la variazione % è considerata del -50%); se è False, la variazione percentuale viene calcolata \"dal basso all'alto\" (ad esempio, se il prezzo passa da 80 a 40 la variazione % è considerata del +100% perchè da 40 a 80 c'è il 100%); la percentuale di acquisto sarà poi una funzione del modulo di questa variazione % attraverso la function calcola_percentuale\n",
    "inverti_riferimento_vendita = False # Se è True, la variazione percentuale viene calcolata \"dal basso all'alto\" (ad esempio, se il prezzo passa da 70 a 140 la variazione % è considerata del +100%); se è False, la variazione percentuale viene calcolata \"dall'alto al basso\" (ad esempio, se il prezzo passa da 70 a 140 la variazione % è considerata del -50% perchè da 140 a 70 c'è il -50%); la percentuale di vendita sarà poi una funzione del modulo di questa variazione % attraverso la function calcola_percentuale\n",
    "acquisto_rispetto_liquidità_iniziale = True\n",
    "vendita_rispetto_massimo_btc_posseduti = True\n",
    "compra_pure = True\n",
    "vendi_pure = True\n",
    "soglia_vendita = -np.inf # La vendita avviene solo se il prezzo è superiore almeno di questa percentuale rispetto al prezzo medio pesato degli ultimi acquisti consecutivi, dove i pesi sono gli euro spesi\n",
    "coefficienti_acquisto = [0, 2]\n",
    "coefficienti_vendita = [0, 7]\n",
    "compra_solo_in_discesa = True\n",
    "vendi_solo_in_salita = False\n",
    "soglia_acquisto_rispetto_riferimento = 0.05 # L'acquisto avviene solo se il prezzo è sceso almeno di questa percentuale rispetto al prezzo_riferimento_discesa\n",
    "soglia_vendita_rispetto_riferimento = 0.05 # La vendita avviene solo se il prezzo è salito almeno di questa percentuale rispetto al prezzo_riferimento_salita\n",
    "# Parametri per le soglie\n",
    "soglia_calcolo_variazioni_discesa = 0.05\n",
    "soglia_calcolo_variazioni_salita = 0.05\n",
    "\n",
    "# Parametri iniziali\n",
    "liquidità_iniziale = 1000  # Euro iniziali\n",
    "bitcoin_iniziali = 0\n",
    "liquidità = liquidità_iniziale\n",
    "bitcoin = bitcoin_iniziali\n",
    "valore_totale_portafoglio = liquidità + bitcoin * dati['Price'][0]\n",
    "\n",
    "# Calcolo variazioni giornaliere\n",
    "dati['Variazione'] = dati['Price'] / dati['Price'].shift(1)\n",
    "\n",
    "# Inizializza la lista delle transazioni\n",
    "df_transazioni = pd.DataFrame(columns=['data', 'prezzo', 'variazione_giornaliera_prezzo_percentuale', 'timestamp_riferimento_discesa', 'prezzo_riferimento_discesa', 'variazione_rispetto_riferimento_discesa', 'timestamp_riferimento_salita', 'prezzo_riferimento_salita', 'variazione_rispetto_riferimento_salita', 'azione', 'Percentuale Liquidità Usata', 'Percentuale Bitcoin Usata', 'quantità_euro', 'Bitcoin Acquistati/Venduti', 'Liquidità', 'Bitcoin', 'valore_totale_portafoglio'])\n",
    "\n",
    "# Variabili per tenere traccia degli acquisti consecutivi\n",
    "acquisti_consecutivi = []\n",
    "quantità_euro_totale = 0  # Somma totale degli euro spesi negli acquisti consecutivi\n",
    "\n",
    "liquidità_iniziale_in_btc = liquidità_iniziale / dati['Price'].iloc[0]\n",
    "\n",
    "\n",
    "# Simulazione del trading giorno per giorno\n",
    "for i in range(1, len(dati)):\n",
    "    data_odierna = dati['Timestamp'].iloc[i]\n",
    "    prezzo_attuale = dati['Price'].iloc[i]\n",
    "    variazione_giornaliera_prezzo_percentuale = (dati['Variazione'].iloc[i] - 1) * 100\n",
    "    \n",
    "    # Calcola i prezzi di riferimento discesa e salita\n",
    "    timestamp_riferimento_discesa, prezzo_riferimento_discesa = calcola_prezzo_riferimento_discesa(dati.iloc[:i+1], soglia_calcolo_variazioni_discesa)\n",
    "    timestamp_riferimento_salita, prezzo_riferimento_salita = calcola_prezzo_riferimento_salita(dati.iloc[:i+1], soglia_calcolo_variazioni_salita)\n",
    "\n",
    "    # Scegli il prezzo di riferimento più recente (se esiste)\n",
    "    prezzo_riferimento = None\n",
    "    if prezzo_riferimento_discesa is not None and prezzo_riferimento_salita is not None:\n",
    "        if timestamp_riferimento_discesa > timestamp_riferimento_salita:\n",
    "            prezzo_riferimento = prezzo_riferimento_discesa\n",
    "            tipo_riferimento = 'discesa'\n",
    "        else:\n",
    "            prezzo_riferimento = prezzo_riferimento_salita\n",
    "            tipo_riferimento = 'salita'\n",
    "    elif prezzo_riferimento_discesa is not None:\n",
    "        prezzo_riferimento = prezzo_riferimento_discesa\n",
    "        tipo_riferimento = 'discesa'\n",
    "    elif prezzo_riferimento_salita is not None:\n",
    "        prezzo_riferimento = prezzo_riferimento_salita\n",
    "        tipo_riferimento = 'salita'\n",
    "\n",
    "    # Se nessun riferimento è disponibile, passa al giorno successivo\n",
    "    if prezzo_riferimento is None:\n",
    "        continue\n",
    "\n",
    "    # Variabili per tracciare l'azione e la transazione\n",
    "    azione = '-'\n",
    "    percentuale_liquidità_usata = 0\n",
    "    percentuale_bitcoin_usata = 0\n",
    "    euro_spesi_o_ricavati = 0\n",
    "    bitcoin_acquistati_o_venduti = 0\n",
    "\n",
    "    # Logica di acquisto o vendita in base al riferimento più recente\n",
    "    if tipo_riferimento == 'discesa':  # Logica di acquisto\n",
    "        if inverti_riferimento_acquisto:\n",
    "            variazione_percentuale = (prezzo_attuale - prezzo_riferimento_discesa) / prezzo_attuale\n",
    "        else:\n",
    "            variazione_percentuale = (prezzo_riferimento_discesa - prezzo_attuale) / prezzo_riferimento_discesa\n",
    "\n",
    "        percentuale_acquisto = calcola_percentuale(abs(variazione_percentuale), coefficienti_acquisto)\n",
    "        liquidità_da_usare = liquidità_iniziale if acquisto_rispetto_liquidità_iniziale else liquidità\n",
    "        euro_da_spendere = liquidità_da_usare * percentuale_acquisto\n",
    "\n",
    "        if euro_da_spendere > liquidità:\n",
    "            if compra_pure:\n",
    "                euro_da_spendere = liquidità  # Usa tutto\n",
    "            else:\n",
    "                euro_da_spendere = 0  # Non fare niente\n",
    "\n",
    "        if euro_da_spendere > 0 and (compra_solo_in_discesa and variazione_giornaliera_prezzo_percentuale < 0 or not compra_solo_in_discesa) and prezzo_attuale < prezzo_riferimento_discesa * (1 - soglia_acquisto_rispetto_riferimento):\n",
    "            bitcoin_acquistati = euro_da_spendere / prezzo_attuale\n",
    "            liquidità -= euro_da_spendere\n",
    "            bitcoin += bitcoin_acquistati\n",
    "            azione = 'Acquisto'\n",
    "            percentuale_liquidità_usata = percentuale_acquisto\n",
    "            euro_spesi_o_ricavati = euro_da_spendere\n",
    "            bitcoin_acquistati_o_venduti = bitcoin_acquistati\n",
    "            \n",
    "            # Aggiungi questo acquisto alla lista degli acquisti consecutivi\n",
    "            acquisti_consecutivi.append((prezzo_attuale, euro_da_spendere))\n",
    "            quantità_euro_totale += euro_da_spendere\n",
    "\n",
    "    elif tipo_riferimento == 'salita':  # Logica di vendita\n",
    "        if inverti_riferimento_vendita:\n",
    "            variazione_percentuale = (prezzo_riferimento_salita - prezzo_attuale) / prezzo_attuale\n",
    "        else:\n",
    "            variazione_percentuale = (prezzo_attuale - prezzo_riferimento_salita) / prezzo_riferimento_salita\n",
    "\n",
    "        percentuale_vendita = calcola_percentuale(abs(variazione_percentuale), coefficienti_vendita)\n",
    "        bitcoin_da_usare = liquidità_iniziale_in_btc if vendita_rispetto_massimo_btc_posseduti else bitcoin\n",
    "        bitcoin_da_vendere = bitcoin_da_usare * percentuale_vendita\n",
    "\n",
    "        # Controllo del prezzo di vendita rispetto alla media pesata degli acquisti consecutivi\n",
    "        if acquisti_consecutivi:\n",
    "            # Calcolo della media pesata dei prezzi di acquisto\n",
    "            somma_pesata = sum(prezzo * euro for prezzo, euro in acquisti_consecutivi)\n",
    "            media_pesata_acquisti = somma_pesata / quantità_euro_totale\n",
    "\n",
    "            # Verifica che il prezzo attuale sia superiore alla soglia rispetto alla media pesata\n",
    "            if prezzo_attuale <= media_pesata_acquisti * (1 + soglia_vendita):\n",
    "                # Se non soddisfa la soglia di vendita, non fare niente\n",
    "                bitcoin_da_vendere = 0\n",
    "\n",
    "        if bitcoin_da_vendere > bitcoin:\n",
    "            if vendi_pure:\n",
    "                bitcoin_da_vendere = bitcoin  # Vendi tutto\n",
    "            else:\n",
    "                bitcoin_da_vendere = 0  # Non fare niente\n",
    "\n",
    "        if bitcoin_da_vendere > 0 and (vendi_solo_in_salita and variazione_giornaliera_prezzo_percentuale > 0 or not vendi_solo_in_salita) and prezzo_attuale > prezzo_riferimento_salita * (1 + soglia_vendita_rispetto_riferimento):\n",
    "            euro_ricavati = bitcoin_da_vendere * prezzo_attuale\n",
    "            bitcoin -= bitcoin_da_vendere\n",
    "            liquidità += euro_ricavati\n",
    "            azione = 'Vendita'\n",
    "            percentuale_bitcoin_usata = percentuale_vendita\n",
    "            euro_spesi_o_ricavati = euro_ricavati\n",
    "            bitcoin_acquistati_o_venduti = bitcoin_da_vendere\n",
    "\n",
    "            # Reset degli acquisti consecutivi dopo una vendita\n",
    "            acquisti_consecutivi = []\n",
    "            quantità_euro_totale = 0\n",
    "\n",
    "    # Aggiorna il valore totale del portafoglio\n",
    "    valore_totale_portafoglio = liquidità + (bitcoin * prezzo_attuale)\n",
    "\n",
    "    variazione_perc_rispetto_riferimento_discesa = (prezzo_attuale / prezzo_riferimento_discesa - 1) * 100 if prezzo_riferimento_discesa else None\n",
    "    variazione_perc_rispetto_riferimento_salita = (prezzo_attuale / prezzo_riferimento_salita - 1) * 100 if prezzo_riferimento_salita else None\n",
    "\n",
    "    # Aggiungi la transazione al dataframe\n",
    "    nuova_transazione = pd.DataFrame([{\n",
    "        'data': data_odierna,\n",
    "        'prezzo': prezzo_attuale,\n",
    "        'variazione_giornaliera_prezzo_percentuale': str(round(variazione_giornaliera_prezzo_percentuale, 2)) + '%' if variazione_giornaliera_prezzo_percentuale else None,\n",
    "        'timestamp_riferimento_discesa': timestamp_riferimento_discesa,\n",
    "        'prezzo_riferimento_discesa': prezzo_riferimento_discesa,\n",
    "        'variazione_rispetto_riferimento_discesa': str(round(variazione_perc_rispetto_riferimento_discesa, 2)) + '%' if variazione_perc_rispetto_riferimento_discesa else None,\n",
    "        'timestamp_riferimento_salita': timestamp_riferimento_salita,\n",
    "        'prezzo_riferimento_salita': prezzo_riferimento_salita,\n",
    "        'variazione_rispetto_riferimento_salita': str(round(variazione_perc_rispetto_riferimento_salita, 2)) + '%' if variazione_perc_rispetto_riferimento_salita else None,\n",
    "        'azione': azione,\n",
    "        'Percentuale Liquidità Usata': percentuale_liquidità_usata,\n",
    "        'Percentuale Bitcoin Usata': percentuale_bitcoin_usata,\n",
    "        'quantità_euro': euro_spesi_o_ricavati,\n",
    "        'Bitcoin Acquistati/Venduti': bitcoin_acquistati_o_venduti,\n",
    "        'Liquidità': liquidità,\n",
    "        'Bitcoin': bitcoin,\n",
    "        'valore_totale_portafoglio': valore_totale_portafoglio\n",
    "    }])\n",
    "\n",
    "    df_transazioni = pd.concat([df_transazioni, nuova_transazione], ignore_index=True)\n",
    "\n",
    "# Visualizza il DataFrame delle transazioni\n",
    "df_transazioni"
   ]
  },
  {
   "cell_type": "code",
   "execution_count": 225,
   "metadata": {},
   "outputs": [
    {
     "data": {
      "text/html": [
       "<div>\n",
       "<style scoped>\n",
       "    .dataframe tbody tr th:only-of-type {\n",
       "        vertical-align: middle;\n",
       "    }\n",
       "\n",
       "    .dataframe tbody tr th {\n",
       "        vertical-align: top;\n",
       "    }\n",
       "\n",
       "    .dataframe thead th {\n",
       "        text-align: right;\n",
       "    }\n",
       "</style>\n",
       "<table border=\"1\" class=\"dataframe\">\n",
       "  <thead>\n",
       "    <tr style=\"text-align: right;\">\n",
       "      <th></th>\n",
       "      <th>data</th>\n",
       "      <th>prezzo</th>\n",
       "      <th>variazione_giornaliera_prezzo_percentuale</th>\n",
       "      <th>timestamp_riferimento_discesa</th>\n",
       "      <th>prezzo_riferimento_discesa</th>\n",
       "      <th>variazione_rispetto_riferimento_discesa</th>\n",
       "      <th>timestamp_riferimento_salita</th>\n",
       "      <th>prezzo_riferimento_salita</th>\n",
       "      <th>variazione_rispetto_riferimento_salita</th>\n",
       "      <th>azione</th>\n",
       "      <th>Percentuale Liquidità Usata</th>\n",
       "      <th>Percentuale Bitcoin Usata</th>\n",
       "      <th>quantità_euro</th>\n",
       "      <th>Bitcoin Acquistati/Venduti</th>\n",
       "      <th>Liquidità</th>\n",
       "      <th>Bitcoin</th>\n",
       "      <th>valore_totale_portafoglio</th>\n",
       "    </tr>\n",
       "  </thead>\n",
       "  <tbody>\n",
       "    <tr>\n",
       "      <th>2</th>\n",
       "      <td>2021-05-04</td>\n",
       "      <td>44387.261719</td>\n",
       "      <td>-6.42%</td>\n",
       "      <td>2021-05-01</td>\n",
       "      <td>48110.046875</td>\n",
       "      <td>-7.74%</td>\n",
       "      <td>NaT</td>\n",
       "      <td>NaN</td>\n",
       "      <td>None</td>\n",
       "      <td>Acquisto</td>\n",
       "      <td>0.154761</td>\n",
       "      <td>0</td>\n",
       "      <td>154.761236</td>\n",
       "      <td>0.003487</td>\n",
       "      <td>845.238764</td>\n",
       "      <td>0.003487</td>\n",
       "      <td>1000.000000</td>\n",
       "    </tr>\n",
       "    <tr>\n",
       "      <th>3</th>\n",
       "      <td>2021-05-05</td>\n",
       "      <td>47823.058594</td>\n",
       "      <td>7.74%</td>\n",
       "      <td>NaT</td>\n",
       "      <td>NaN</td>\n",
       "      <td>None</td>\n",
       "      <td>2021-05-04</td>\n",
       "      <td>44387.261719</td>\n",
       "      <td>7.74%</td>\n",
       "      <td>Vendita</td>\n",
       "      <td>0</td>\n",
       "      <td>0.541835</td>\n",
       "      <td>166.740532</td>\n",
       "      <td>0.003487</td>\n",
       "      <td>1011.979297</td>\n",
       "      <td>0.0</td>\n",
       "      <td>1011.979297</td>\n",
       "    </tr>\n",
       "    <tr>\n",
       "      <th>10</th>\n",
       "      <td>2021-05-12</td>\n",
       "      <td>40695.511719</td>\n",
       "      <td>-12.84%</td>\n",
       "      <td>2021-05-05</td>\n",
       "      <td>47823.058594</td>\n",
       "      <td>-14.9%</td>\n",
       "      <td>NaT</td>\n",
       "      <td>NaN</td>\n",
       "      <td>None</td>\n",
       "      <td>Acquisto</td>\n",
       "      <td>0.29808</td>\n",
       "      <td>0</td>\n",
       "      <td>298.079926</td>\n",
       "      <td>0.007325</td>\n",
       "      <td>713.899371</td>\n",
       "      <td>0.007325</td>\n",
       "      <td>1011.979297</td>\n",
       "    </tr>\n",
       "    <tr>\n",
       "      <th>13</th>\n",
       "      <td>2021-05-15</td>\n",
       "      <td>38498.738281</td>\n",
       "      <td>-6.27%</td>\n",
       "      <td>2021-05-05</td>\n",
       "      <td>47823.058594</td>\n",
       "      <td>-19.5%</td>\n",
       "      <td>NaT</td>\n",
       "      <td>NaN</td>\n",
       "      <td>None</td>\n",
       "      <td>Acquisto</td>\n",
       "      <td>0.389951</td>\n",
       "      <td>0</td>\n",
       "      <td>389.950814</td>\n",
       "      <td>0.010129</td>\n",
       "      <td>323.948557</td>\n",
       "      <td>0.017454</td>\n",
       "      <td>995.888724</td>\n",
       "    </tr>\n",
       "    <tr>\n",
       "      <th>14</th>\n",
       "      <td>2021-05-16</td>\n",
       "      <td>38235.890625</td>\n",
       "      <td>-0.68%</td>\n",
       "      <td>2021-05-05</td>\n",
       "      <td>47823.058594</td>\n",
       "      <td>-20.05%</td>\n",
       "      <td>NaT</td>\n",
       "      <td>NaN</td>\n",
       "      <td>None</td>\n",
       "      <td>Acquisto</td>\n",
       "      <td>0.400943</td>\n",
       "      <td>0</td>\n",
       "      <td>323.948557</td>\n",
       "      <td>0.008472</td>\n",
       "      <td>0.0</td>\n",
       "      <td>0.025926</td>\n",
       "      <td>991.301096</td>\n",
       "    </tr>\n",
       "    <tr>\n",
       "      <th>18</th>\n",
       "      <td>2021-05-20</td>\n",
       "      <td>33359.136719</td>\n",
       "      <td>9.72%</td>\n",
       "      <td>NaT</td>\n",
       "      <td>NaN</td>\n",
       "      <td>None</td>\n",
       "      <td>2021-05-19</td>\n",
       "      <td>30403.203125</td>\n",
       "      <td>9.72%</td>\n",
       "      <td>Vendita</td>\n",
       "      <td>0</td>\n",
       "      <td>0.680571</td>\n",
       "      <td>471.902627</td>\n",
       "      <td>0.014146</td>\n",
       "      <td>471.902627</td>\n",
       "      <td>0.01178</td>\n",
       "      <td>864.866707</td>\n",
       "    </tr>\n",
       "    <tr>\n",
       "      <th>19</th>\n",
       "      <td>2021-05-21</td>\n",
       "      <td>30627.822266</td>\n",
       "      <td>-8.19%</td>\n",
       "      <td>2021-05-20</td>\n",
       "      <td>33359.136719</td>\n",
       "      <td>-8.19%</td>\n",
       "      <td>NaT</td>\n",
       "      <td>NaN</td>\n",
       "      <td>None</td>\n",
       "      <td>Acquisto</td>\n",
       "      <td>0.163752</td>\n",
       "      <td>0</td>\n",
       "      <td>163.752106</td>\n",
       "      <td>0.005347</td>\n",
       "      <td>308.150521</td>\n",
       "      <td>0.017126</td>\n",
       "      <td>832.692359</td>\n",
       "    </tr>\n",
       "    <tr>\n",
       "      <th>21</th>\n",
       "      <td>2021-05-23</td>\n",
       "      <td>28545.537109</td>\n",
       "      <td>-7.37%</td>\n",
       "      <td>2021-05-20</td>\n",
       "      <td>33359.136719</td>\n",
       "      <td>-14.43%</td>\n",
       "      <td>NaT</td>\n",
       "      <td>NaN</td>\n",
       "      <td>None</td>\n",
       "      <td>Acquisto</td>\n",
       "      <td>0.288593</td>\n",
       "      <td>0</td>\n",
       "      <td>288.592577</td>\n",
       "      <td>0.01011</td>\n",
       "      <td>19.557944</td>\n",
       "      <td>0.027236</td>\n",
       "      <td>797.030480</td>\n",
       "    </tr>\n",
       "    <tr>\n",
       "      <th>22</th>\n",
       "      <td>2021-05-24</td>\n",
       "      <td>31689.203125</td>\n",
       "      <td>11.01%</td>\n",
       "      <td>NaT</td>\n",
       "      <td>NaN</td>\n",
       "      <td>None</td>\n",
       "      <td>2021-05-23</td>\n",
       "      <td>28545.537109</td>\n",
       "      <td>11.01%</td>\n",
       "      <td>Vendita</td>\n",
       "      <td>0</td>\n",
       "      <td>0.770897</td>\n",
       "      <td>507.77552</td>\n",
       "      <td>0.016024</td>\n",
       "      <td>527.333464</td>\n",
       "      <td>0.011213</td>\n",
       "      <td>882.652060</td>\n",
       "    </tr>\n",
       "    <tr>\n",
       "      <th>26</th>\n",
       "      <td>2021-05-28</td>\n",
       "      <td>29278.320312</td>\n",
       "      <td>-7.12%</td>\n",
       "      <td>2021-05-24</td>\n",
       "      <td>31689.203125</td>\n",
       "      <td>-7.61%</td>\n",
       "      <td>NaT</td>\n",
       "      <td>NaN</td>\n",
       "      <td>None</td>\n",
       "      <td>Acquisto</td>\n",
       "      <td>0.152158</td>\n",
       "      <td>0</td>\n",
       "      <td>152.157995</td>\n",
       "      <td>0.005197</td>\n",
       "      <td>375.175469</td>\n",
       "      <td>0.01641</td>\n",
       "      <td>855.619777</td>\n",
       "    </tr>\n",
       "    <tr>\n",
       "      <th>27</th>\n",
       "      <td>2021-05-29</td>\n",
       "      <td>28391.164062</td>\n",
       "      <td>-3.03%</td>\n",
       "      <td>2021-05-24</td>\n",
       "      <td>31689.203125</td>\n",
       "      <td>-10.41%</td>\n",
       "      <td>NaT</td>\n",
       "      <td>NaN</td>\n",
       "      <td>None</td>\n",
       "      <td>Acquisto</td>\n",
       "      <td>0.208149</td>\n",
       "      <td>0</td>\n",
       "      <td>208.149069</td>\n",
       "      <td>0.007331</td>\n",
       "      <td>167.0264</td>\n",
       "      <td>0.023741</td>\n",
       "      <td>841.061935</td>\n",
       "    </tr>\n",
       "    <tr>\n",
       "      <th>29</th>\n",
       "      <td>2021-05-31</td>\n",
       "      <td>30519.308594</td>\n",
       "      <td>4.27%</td>\n",
       "      <td>NaT</td>\n",
       "      <td>NaN</td>\n",
       "      <td>None</td>\n",
       "      <td>2021-05-29</td>\n",
       "      <td>28391.164062</td>\n",
       "      <td>7.5%</td>\n",
       "      <td>Vendita</td>\n",
       "      <td>0</td>\n",
       "      <td>0.524706</td>\n",
       "      <td>332.854836</td>\n",
       "      <td>0.010906</td>\n",
       "      <td>499.881235</td>\n",
       "      <td>0.012835</td>\n",
       "      <td>891.586283</td>\n",
       "    </tr>\n",
       "    <tr>\n",
       "      <th>32</th>\n",
       "      <td>2021-06-03</td>\n",
       "      <td>32321.550781</td>\n",
       "      <td>5.03%</td>\n",
       "      <td>NaT</td>\n",
       "      <td>NaN</td>\n",
       "      <td>None</td>\n",
       "      <td>2021-05-29</td>\n",
       "      <td>28391.164062</td>\n",
       "      <td>13.84%</td>\n",
       "      <td>Vendita</td>\n",
       "      <td>0</td>\n",
       "      <td>0.969059</td>\n",
       "      <td>414.836219</td>\n",
       "      <td>0.012835</td>\n",
       "      <td>914.717454</td>\n",
       "      <td>0.0</td>\n",
       "      <td>914.717454</td>\n",
       "    </tr>\n",
       "    <tr>\n",
       "      <th>33</th>\n",
       "      <td>2021-06-04</td>\n",
       "      <td>30322.699219</td>\n",
       "      <td>-6.18%</td>\n",
       "      <td>2021-06-03</td>\n",
       "      <td>32321.550781</td>\n",
       "      <td>-6.18%</td>\n",
       "      <td>NaT</td>\n",
       "      <td>NaN</td>\n",
       "      <td>None</td>\n",
       "      <td>Acquisto</td>\n",
       "      <td>0.123685</td>\n",
       "      <td>0</td>\n",
       "      <td>123.685375</td>\n",
       "      <td>0.004079</td>\n",
       "      <td>791.032079</td>\n",
       "      <td>0.004079</td>\n",
       "      <td>914.717454</td>\n",
       "    </tr>\n",
       "    <tr>\n",
       "      <th>34</th>\n",
       "      <td>2021-06-05</td>\n",
       "      <td>29221.080078</td>\n",
       "      <td>-3.63%</td>\n",
       "      <td>2021-06-03</td>\n",
       "      <td>32321.550781</td>\n",
       "      <td>-9.59%</td>\n",
       "      <td>NaT</td>\n",
       "      <td>NaN</td>\n",
       "      <td>None</td>\n",
       "      <td>Acquisto</td>\n",
       "      <td>0.191852</td>\n",
       "      <td>0</td>\n",
       "      <td>191.851605</td>\n",
       "      <td>0.006566</td>\n",
       "      <td>599.180474</td>\n",
       "      <td>0.010644</td>\n",
       "      <td>910.223983</td>\n",
       "    </tr>\n",
       "    <tr>\n",
       "      <th>36</th>\n",
       "      <td>2021-06-07</td>\n",
       "      <td>27526.492188</td>\n",
       "      <td>-6.61%</td>\n",
       "      <td>2021-06-03</td>\n",
       "      <td>32321.550781</td>\n",
       "      <td>-14.84%</td>\n",
       "      <td>NaT</td>\n",
       "      <td>NaN</td>\n",
       "      <td>None</td>\n",
       "      <td>Acquisto</td>\n",
       "      <td>0.29671</td>\n",
       "      <td>0</td>\n",
       "      <td>296.709686</td>\n",
       "      <td>0.010779</td>\n",
       "      <td>302.470788</td>\n",
       "      <td>0.021424</td>\n",
       "      <td>892.185958</td>\n",
       "    </tr>\n",
       "    <tr>\n",
       "      <th>37</th>\n",
       "      <td>2021-06-08</td>\n",
       "      <td>27497.933594</td>\n",
       "      <td>-0.1%</td>\n",
       "      <td>2021-06-03</td>\n",
       "      <td>32321.550781</td>\n",
       "      <td>-14.92%</td>\n",
       "      <td>NaT</td>\n",
       "      <td>NaN</td>\n",
       "      <td>None</td>\n",
       "      <td>Acquisto</td>\n",
       "      <td>0.298477</td>\n",
       "      <td>0</td>\n",
       "      <td>298.476841</td>\n",
       "      <td>0.010855</td>\n",
       "      <td>3.993947</td>\n",
       "      <td>0.032278</td>\n",
       "      <td>891.574132</td>\n",
       "    </tr>\n",
       "    <tr>\n",
       "      <th>38</th>\n",
       "      <td>2021-06-09</td>\n",
       "      <td>30664.527344</td>\n",
       "      <td>11.52%</td>\n",
       "      <td>NaT</td>\n",
       "      <td>NaN</td>\n",
       "      <td>None</td>\n",
       "      <td>2021-06-08</td>\n",
       "      <td>27497.933594</td>\n",
       "      <td>11.52%</td>\n",
       "      <td>Vendita</td>\n",
       "      <td>0</td>\n",
       "      <td>0.806103</td>\n",
       "      <td>513.796127</td>\n",
       "      <td>0.016755</td>\n",
       "      <td>517.790074</td>\n",
       "      <td>0.015523</td>\n",
       "      <td>993.785662</td>\n",
       "    </tr>\n",
       "    <tr>\n",
       "      <th>42</th>\n",
       "      <td>2021-06-13</td>\n",
       "      <td>32286.505859</td>\n",
       "      <td>9.97%</td>\n",
       "      <td>NaT</td>\n",
       "      <td>NaN</td>\n",
       "      <td>None</td>\n",
       "      <td>2021-06-08</td>\n",
       "      <td>27497.933594</td>\n",
       "      <td>17.41%</td>\n",
       "      <td>Vendita</td>\n",
       "      <td>0</td>\n",
       "      <td>1.219001</td>\n",
       "      <td>501.173038</td>\n",
       "      <td>0.015523</td>\n",
       "      <td>1018.963112</td>\n",
       "      <td>0.0</td>\n",
       "      <td>1018.963112</td>\n",
       "    </tr>\n",
       "    <tr>\n",
       "      <th>47</th>\n",
       "      <td>2021-06-18</td>\n",
       "      <td>30165.855469</td>\n",
       "      <td>-5.56%</td>\n",
       "      <td>2021-06-15</td>\n",
       "      <td>33325.593750</td>\n",
       "      <td>-9.48%</td>\n",
       "      <td>NaT</td>\n",
       "      <td>NaN</td>\n",
       "      <td>None</td>\n",
       "      <td>Acquisto</td>\n",
       "      <td>0.189628</td>\n",
       "      <td>0</td>\n",
       "      <td>189.628326</td>\n",
       "      <td>0.006286</td>\n",
       "      <td>829.334786</td>\n",
       "      <td>0.006286</td>\n",
       "      <td>1018.963112</td>\n",
       "    </tr>\n",
       "    <tr>\n",
       "      <th>48</th>\n",
       "      <td>2021-06-19</td>\n",
       "      <td>30019.226562</td>\n",
       "      <td>-0.49%</td>\n",
       "      <td>2021-06-15</td>\n",
       "      <td>33325.593750</td>\n",
       "      <td>-9.92%</td>\n",
       "      <td>NaT</td>\n",
       "      <td>NaN</td>\n",
       "      <td>None</td>\n",
       "      <td>Acquisto</td>\n",
       "      <td>0.198428</td>\n",
       "      <td>0</td>\n",
       "      <td>198.428104</td>\n",
       "      <td>0.00661</td>\n",
       "      <td>630.906682</td>\n",
       "      <td>0.012896</td>\n",
       "      <td>1018.041375</td>\n",
       "    </tr>\n",
       "    <tr>\n",
       "      <th>50</th>\n",
       "      <td>2021-06-21</td>\n",
       "      <td>26591.064453</td>\n",
       "      <td>-11.57%</td>\n",
       "      <td>2021-06-15</td>\n",
       "      <td>33325.593750</td>\n",
       "      <td>-20.21%</td>\n",
       "      <td>NaT</td>\n",
       "      <td>NaN</td>\n",
       "      <td>None</td>\n",
       "      <td>Acquisto</td>\n",
       "      <td>0.404166</td>\n",
       "      <td>0</td>\n",
       "      <td>404.1656</td>\n",
       "      <td>0.015199</td>\n",
       "      <td>226.741082</td>\n",
       "      <td>0.028096</td>\n",
       "      <td>973.831026</td>\n",
       "    </tr>\n",
       "    <tr>\n",
       "      <th>52</th>\n",
       "      <td>2021-06-23</td>\n",
       "      <td>28266.576172</td>\n",
       "      <td>3.8%</td>\n",
       "      <td>NaT</td>\n",
       "      <td>NaN</td>\n",
       "      <td>None</td>\n",
       "      <td>2021-06-21</td>\n",
       "      <td>26591.064453</td>\n",
       "      <td>6.3%</td>\n",
       "      <td>Vendita</td>\n",
       "      <td>0</td>\n",
       "      <td>0.441072</td>\n",
       "      <td>259.147614</td>\n",
       "      <td>0.009168</td>\n",
       "      <td>485.888696</td>\n",
       "      <td>0.018928</td>\n",
       "      <td>1020.905409</td>\n",
       "    </tr>\n",
       "    <tr>\n",
       "      <th>53</th>\n",
       "      <td>2021-06-24</td>\n",
       "      <td>29059.703125</td>\n",
       "      <td>2.81%</td>\n",
       "      <td>NaT</td>\n",
       "      <td>NaN</td>\n",
       "      <td>None</td>\n",
       "      <td>2021-06-21</td>\n",
       "      <td>26591.064453</td>\n",
       "      <td>9.28%</td>\n",
       "      <td>Vendita</td>\n",
       "      <td>0</td>\n",
       "      <td>0.64986</td>\n",
       "      <td>392.532155</td>\n",
       "      <td>0.013508</td>\n",
       "      <td>878.420851</td>\n",
       "      <td>0.00542</td>\n",
       "      <td>1035.917350</td>\n",
       "    </tr>\n",
       "    <tr>\n",
       "      <th>54</th>\n",
       "      <td>2021-06-25</td>\n",
       "      <td>26502.841797</td>\n",
       "      <td>-8.8%</td>\n",
       "      <td>2021-06-24</td>\n",
       "      <td>29059.703125</td>\n",
       "      <td>-8.8%</td>\n",
       "      <td>NaT</td>\n",
       "      <td>NaN</td>\n",
       "      <td>None</td>\n",
       "      <td>Acquisto</td>\n",
       "      <td>0.175973</td>\n",
       "      <td>0</td>\n",
       "      <td>175.972983</td>\n",
       "      <td>0.00664</td>\n",
       "      <td>702.447867</td>\n",
       "      <td>0.01206</td>\n",
       "      <td>1022.059786</td>\n",
       "    </tr>\n",
       "    <tr>\n",
       "      <th>56</th>\n",
       "      <td>2021-06-27</td>\n",
       "      <td>29013.742188</td>\n",
       "      <td>7.6%</td>\n",
       "      <td>NaT</td>\n",
       "      <td>NaN</td>\n",
       "      <td>None</td>\n",
       "      <td>2021-06-25</td>\n",
       "      <td>26502.841797</td>\n",
       "      <td>9.47%</td>\n",
       "      <td>Vendita</td>\n",
       "      <td>0</td>\n",
       "      <td>0.663186</td>\n",
       "      <td>349.892206</td>\n",
       "      <td>0.01206</td>\n",
       "      <td>1052.340074</td>\n",
       "      <td>0.0</td>\n",
       "      <td>1052.340074</td>\n",
       "    </tr>\n",
       "    <tr>\n",
       "      <th>67</th>\n",
       "      <td>2021-07-08</td>\n",
       "      <td>27752.710938</td>\n",
       "      <td>-3.33%</td>\n",
       "      <td>2021-07-04</td>\n",
       "      <td>29764.078125</td>\n",
       "      <td>-6.76%</td>\n",
       "      <td>2021-07-01</td>\n",
       "      <td>28341.414062</td>\n",
       "      <td>-2.08%</td>\n",
       "      <td>Acquisto</td>\n",
       "      <td>0.135154</td>\n",
       "      <td>0</td>\n",
       "      <td>135.154005</td>\n",
       "      <td>0.00487</td>\n",
       "      <td>917.186068</td>\n",
       "      <td>0.00487</td>\n",
       "      <td>1052.340074</td>\n",
       "    </tr>\n",
       "    <tr>\n",
       "      <th>69</th>\n",
       "      <td>2021-07-10</td>\n",
       "      <td>28223.070312</td>\n",
       "      <td>-0.81%</td>\n",
       "      <td>2021-07-04</td>\n",
       "      <td>29764.078125</td>\n",
       "      <td>-5.18%</td>\n",
       "      <td>2021-07-01</td>\n",
       "      <td>28341.414062</td>\n",
       "      <td>-0.42%</td>\n",
       "      <td>Acquisto</td>\n",
       "      <td>0.103548</td>\n",
       "      <td>0</td>\n",
       "      <td>103.548163</td>\n",
       "      <td>0.003669</td>\n",
       "      <td>813.637905</td>\n",
       "      <td>0.008539</td>\n",
       "      <td>1054.630695</td>\n",
       "    </tr>\n",
       "    <tr>\n",
       "      <th>71</th>\n",
       "      <td>2021-07-12</td>\n",
       "      <td>27948.556641</td>\n",
       "      <td>-3.09%</td>\n",
       "      <td>2021-07-04</td>\n",
       "      <td>29764.078125</td>\n",
       "      <td>-6.1%</td>\n",
       "      <td>2021-07-01</td>\n",
       "      <td>28341.414062</td>\n",
       "      <td>-1.39%</td>\n",
       "      <td>Acquisto</td>\n",
       "      <td>0.121994</td>\n",
       "      <td>0</td>\n",
       "      <td>121.994135</td>\n",
       "      <td>0.004365</td>\n",
       "      <td>691.64377</td>\n",
       "      <td>0.012904</td>\n",
       "      <td>1052.286662</td>\n",
       "    </tr>\n",
       "    <tr>\n",
       "      <th>72</th>\n",
       "      <td>2021-07-13</td>\n",
       "      <td>27772.195312</td>\n",
       "      <td>-0.63%</td>\n",
       "      <td>2021-07-04</td>\n",
       "      <td>29764.078125</td>\n",
       "      <td>-6.69%</td>\n",
       "      <td>2021-07-01</td>\n",
       "      <td>28341.414062</td>\n",
       "      <td>-2.01%</td>\n",
       "      <td>Acquisto</td>\n",
       "      <td>0.133845</td>\n",
       "      <td>0</td>\n",
       "      <td>133.844751</td>\n",
       "      <td>0.004819</td>\n",
       "      <td>557.799019</td>\n",
       "      <td>0.017723</td>\n",
       "      <td>1050.010929</td>\n",
       "    </tr>\n",
       "    <tr>\n",
       "      <th>73</th>\n",
       "      <td>2021-07-14</td>\n",
       "      <td>27737.478516</td>\n",
       "      <td>-0.13%</td>\n",
       "      <td>2021-07-04</td>\n",
       "      <td>29764.078125</td>\n",
       "      <td>-6.81%</td>\n",
       "      <td>2021-07-01</td>\n",
       "      <td>28341.414062</td>\n",
       "      <td>-2.13%</td>\n",
       "      <td>Acquisto</td>\n",
       "      <td>0.136178</td>\n",
       "      <td>0</td>\n",
       "      <td>136.177549</td>\n",
       "      <td>0.00491</td>\n",
       "      <td>421.62147</td>\n",
       "      <td>0.022633</td>\n",
       "      <td>1049.395636</td>\n",
       "    </tr>\n",
       "    <tr>\n",
       "      <th>74</th>\n",
       "      <td>2021-07-15</td>\n",
       "      <td>26906.457031</td>\n",
       "      <td>-3.0%</td>\n",
       "      <td>2021-07-04</td>\n",
       "      <td>29764.078125</td>\n",
       "      <td>-9.6%</td>\n",
       "      <td>NaT</td>\n",
       "      <td>NaN</td>\n",
       "      <td>None</td>\n",
       "      <td>Acquisto</td>\n",
       "      <td>0.192018</td>\n",
       "      <td>0</td>\n",
       "      <td>192.018115</td>\n",
       "      <td>0.007137</td>\n",
       "      <td>229.603354</td>\n",
       "      <td>0.029769</td>\n",
       "      <td>1030.587372</td>\n",
       "    </tr>\n",
       "    <tr>\n",
       "      <th>75</th>\n",
       "      <td>2021-07-16</td>\n",
       "      <td>26616.242188</td>\n",
       "      <td>-1.08%</td>\n",
       "      <td>2021-07-04</td>\n",
       "      <td>29764.078125</td>\n",
       "      <td>-10.58%</td>\n",
       "      <td>NaT</td>\n",
       "      <td>NaN</td>\n",
       "      <td>None</td>\n",
       "      <td>Acquisto</td>\n",
       "      <td>0.211519</td>\n",
       "      <td>0</td>\n",
       "      <td>211.519129</td>\n",
       "      <td>0.007947</td>\n",
       "      <td>18.084225</td>\n",
       "      <td>0.037716</td>\n",
       "      <td>1021.947905</td>\n",
       "    </tr>\n",
       "    <tr>\n",
       "      <th>79</th>\n",
       "      <td>2021-07-20</td>\n",
       "      <td>25299.851562</td>\n",
       "      <td>-3.19%</td>\n",
       "      <td>2021-07-04</td>\n",
       "      <td>29764.078125</td>\n",
       "      <td>-15.0%</td>\n",
       "      <td>NaT</td>\n",
       "      <td>NaN</td>\n",
       "      <td>None</td>\n",
       "      <td>Acquisto</td>\n",
       "      <td>0.299974</td>\n",
       "      <td>0</td>\n",
       "      <td>18.084225</td>\n",
       "      <td>0.000715</td>\n",
       "      <td>0.0</td>\n",
       "      <td>0.038431</td>\n",
       "      <td>972.298645</td>\n",
       "    </tr>\n",
       "    <tr>\n",
       "      <th>80</th>\n",
       "      <td>2021-07-21</td>\n",
       "      <td>27227.458984</td>\n",
       "      <td>7.62%</td>\n",
       "      <td>NaT</td>\n",
       "      <td>NaN</td>\n",
       "      <td>None</td>\n",
       "      <td>2021-07-20</td>\n",
       "      <td>25299.851562</td>\n",
       "      <td>7.62%</td>\n",
       "      <td>Vendita</td>\n",
       "      <td>0</td>\n",
       "      <td>0.533333</td>\n",
       "      <td>301.835272</td>\n",
       "      <td>0.011086</td>\n",
       "      <td>301.835272</td>\n",
       "      <td>0.027345</td>\n",
       "      <td>1046.378529</td>\n",
       "    </tr>\n",
       "    <tr>\n",
       "      <th>81</th>\n",
       "      <td>2021-07-22</td>\n",
       "      <td>27447.947266</td>\n",
       "      <td>0.81%</td>\n",
       "      <td>NaT</td>\n",
       "      <td>NaN</td>\n",
       "      <td>None</td>\n",
       "      <td>2021-07-20</td>\n",
       "      <td>25299.851562</td>\n",
       "      <td>8.49%</td>\n",
       "      <td>Vendita</td>\n",
       "      <td>0</td>\n",
       "      <td>0.594338</td>\n",
       "      <td>339.08438</td>\n",
       "      <td>0.012354</td>\n",
       "      <td>640.919651</td>\n",
       "      <td>0.014992</td>\n",
       "      <td>1052.407849</td>\n",
       "    </tr>\n",
       "    <tr>\n",
       "      <th>82</th>\n",
       "      <td>2021-07-23</td>\n",
       "      <td>28527.830078</td>\n",
       "      <td>3.93%</td>\n",
       "      <td>NaT</td>\n",
       "      <td>NaN</td>\n",
       "      <td>None</td>\n",
       "      <td>2021-07-20</td>\n",
       "      <td>25299.851562</td>\n",
       "      <td>12.76%</td>\n",
       "      <td>Vendita</td>\n",
       "      <td>0</td>\n",
       "      <td>0.893122</td>\n",
       "      <td>427.677352</td>\n",
       "      <td>0.014992</td>\n",
       "      <td>1068.597003</td>\n",
       "      <td>0.0</td>\n",
       "      <td>1068.597003</td>\n",
       "    </tr>\n",
       "  </tbody>\n",
       "</table>\n",
       "</div>"
      ],
      "text/plain": [
       "         data        prezzo variazione_giornaliera_prezzo_percentuale  \\\n",
       "2  2021-05-04  44387.261719                                    -6.42%   \n",
       "3  2021-05-05  47823.058594                                     7.74%   \n",
       "10 2021-05-12  40695.511719                                   -12.84%   \n",
       "13 2021-05-15  38498.738281                                    -6.27%   \n",
       "14 2021-05-16  38235.890625                                    -0.68%   \n",
       "18 2021-05-20  33359.136719                                     9.72%   \n",
       "19 2021-05-21  30627.822266                                    -8.19%   \n",
       "21 2021-05-23  28545.537109                                    -7.37%   \n",
       "22 2021-05-24  31689.203125                                    11.01%   \n",
       "26 2021-05-28  29278.320312                                    -7.12%   \n",
       "27 2021-05-29  28391.164062                                    -3.03%   \n",
       "29 2021-05-31  30519.308594                                     4.27%   \n",
       "32 2021-06-03  32321.550781                                     5.03%   \n",
       "33 2021-06-04  30322.699219                                    -6.18%   \n",
       "34 2021-06-05  29221.080078                                    -3.63%   \n",
       "36 2021-06-07  27526.492188                                    -6.61%   \n",
       "37 2021-06-08  27497.933594                                     -0.1%   \n",
       "38 2021-06-09  30664.527344                                    11.52%   \n",
       "42 2021-06-13  32286.505859                                     9.97%   \n",
       "47 2021-06-18  30165.855469                                    -5.56%   \n",
       "48 2021-06-19  30019.226562                                    -0.49%   \n",
       "50 2021-06-21  26591.064453                                   -11.57%   \n",
       "52 2021-06-23  28266.576172                                      3.8%   \n",
       "53 2021-06-24  29059.703125                                     2.81%   \n",
       "54 2021-06-25  26502.841797                                     -8.8%   \n",
       "56 2021-06-27  29013.742188                                      7.6%   \n",
       "67 2021-07-08  27752.710938                                    -3.33%   \n",
       "69 2021-07-10  28223.070312                                    -0.81%   \n",
       "71 2021-07-12  27948.556641                                    -3.09%   \n",
       "72 2021-07-13  27772.195312                                    -0.63%   \n",
       "73 2021-07-14  27737.478516                                    -0.13%   \n",
       "74 2021-07-15  26906.457031                                     -3.0%   \n",
       "75 2021-07-16  26616.242188                                    -1.08%   \n",
       "79 2021-07-20  25299.851562                                    -3.19%   \n",
       "80 2021-07-21  27227.458984                                     7.62%   \n",
       "81 2021-07-22  27447.947266                                     0.81%   \n",
       "82 2021-07-23  28527.830078                                     3.93%   \n",
       "\n",
       "   timestamp_riferimento_discesa  prezzo_riferimento_discesa  \\\n",
       "2                     2021-05-01                48110.046875   \n",
       "3                            NaT                         NaN   \n",
       "10                    2021-05-05                47823.058594   \n",
       "13                    2021-05-05                47823.058594   \n",
       "14                    2021-05-05                47823.058594   \n",
       "18                           NaT                         NaN   \n",
       "19                    2021-05-20                33359.136719   \n",
       "21                    2021-05-20                33359.136719   \n",
       "22                           NaT                         NaN   \n",
       "26                    2021-05-24                31689.203125   \n",
       "27                    2021-05-24                31689.203125   \n",
       "29                           NaT                         NaN   \n",
       "32                           NaT                         NaN   \n",
       "33                    2021-06-03                32321.550781   \n",
       "34                    2021-06-03                32321.550781   \n",
       "36                    2021-06-03                32321.550781   \n",
       "37                    2021-06-03                32321.550781   \n",
       "38                           NaT                         NaN   \n",
       "42                           NaT                         NaN   \n",
       "47                    2021-06-15                33325.593750   \n",
       "48                    2021-06-15                33325.593750   \n",
       "50                    2021-06-15                33325.593750   \n",
       "52                           NaT                         NaN   \n",
       "53                           NaT                         NaN   \n",
       "54                    2021-06-24                29059.703125   \n",
       "56                           NaT                         NaN   \n",
       "67                    2021-07-04                29764.078125   \n",
       "69                    2021-07-04                29764.078125   \n",
       "71                    2021-07-04                29764.078125   \n",
       "72                    2021-07-04                29764.078125   \n",
       "73                    2021-07-04                29764.078125   \n",
       "74                    2021-07-04                29764.078125   \n",
       "75                    2021-07-04                29764.078125   \n",
       "79                    2021-07-04                29764.078125   \n",
       "80                           NaT                         NaN   \n",
       "81                           NaT                         NaN   \n",
       "82                           NaT                         NaN   \n",
       "\n",
       "   variazione_rispetto_riferimento_discesa timestamp_riferimento_salita  \\\n",
       "2                                   -7.74%                          NaT   \n",
       "3                                     None                   2021-05-04   \n",
       "10                                  -14.9%                          NaT   \n",
       "13                                  -19.5%                          NaT   \n",
       "14                                 -20.05%                          NaT   \n",
       "18                                    None                   2021-05-19   \n",
       "19                                  -8.19%                          NaT   \n",
       "21                                 -14.43%                          NaT   \n",
       "22                                    None                   2021-05-23   \n",
       "26                                  -7.61%                          NaT   \n",
       "27                                 -10.41%                          NaT   \n",
       "29                                    None                   2021-05-29   \n",
       "32                                    None                   2021-05-29   \n",
       "33                                  -6.18%                          NaT   \n",
       "34                                  -9.59%                          NaT   \n",
       "36                                 -14.84%                          NaT   \n",
       "37                                 -14.92%                          NaT   \n",
       "38                                    None                   2021-06-08   \n",
       "42                                    None                   2021-06-08   \n",
       "47                                  -9.48%                          NaT   \n",
       "48                                  -9.92%                          NaT   \n",
       "50                                 -20.21%                          NaT   \n",
       "52                                    None                   2021-06-21   \n",
       "53                                    None                   2021-06-21   \n",
       "54                                   -8.8%                          NaT   \n",
       "56                                    None                   2021-06-25   \n",
       "67                                  -6.76%                   2021-07-01   \n",
       "69                                  -5.18%                   2021-07-01   \n",
       "71                                   -6.1%                   2021-07-01   \n",
       "72                                  -6.69%                   2021-07-01   \n",
       "73                                  -6.81%                   2021-07-01   \n",
       "74                                   -9.6%                          NaT   \n",
       "75                                 -10.58%                          NaT   \n",
       "79                                  -15.0%                          NaT   \n",
       "80                                    None                   2021-07-20   \n",
       "81                                    None                   2021-07-20   \n",
       "82                                    None                   2021-07-20   \n",
       "\n",
       "    prezzo_riferimento_salita variazione_rispetto_riferimento_salita  \\\n",
       "2                         NaN                                   None   \n",
       "3                44387.261719                                  7.74%   \n",
       "10                        NaN                                   None   \n",
       "13                        NaN                                   None   \n",
       "14                        NaN                                   None   \n",
       "18               30403.203125                                  9.72%   \n",
       "19                        NaN                                   None   \n",
       "21                        NaN                                   None   \n",
       "22               28545.537109                                 11.01%   \n",
       "26                        NaN                                   None   \n",
       "27                        NaN                                   None   \n",
       "29               28391.164062                                   7.5%   \n",
       "32               28391.164062                                 13.84%   \n",
       "33                        NaN                                   None   \n",
       "34                        NaN                                   None   \n",
       "36                        NaN                                   None   \n",
       "37                        NaN                                   None   \n",
       "38               27497.933594                                 11.52%   \n",
       "42               27497.933594                                 17.41%   \n",
       "47                        NaN                                   None   \n",
       "48                        NaN                                   None   \n",
       "50                        NaN                                   None   \n",
       "52               26591.064453                                   6.3%   \n",
       "53               26591.064453                                  9.28%   \n",
       "54                        NaN                                   None   \n",
       "56               26502.841797                                  9.47%   \n",
       "67               28341.414062                                 -2.08%   \n",
       "69               28341.414062                                 -0.42%   \n",
       "71               28341.414062                                 -1.39%   \n",
       "72               28341.414062                                 -2.01%   \n",
       "73               28341.414062                                 -2.13%   \n",
       "74                        NaN                                   None   \n",
       "75                        NaN                                   None   \n",
       "79                        NaN                                   None   \n",
       "80               25299.851562                                  7.62%   \n",
       "81               25299.851562                                  8.49%   \n",
       "82               25299.851562                                 12.76%   \n",
       "\n",
       "      azione Percentuale Liquidità Usata Percentuale Bitcoin Usata  \\\n",
       "2   Acquisto                    0.154761                         0   \n",
       "3    Vendita                           0                  0.541835   \n",
       "10  Acquisto                     0.29808                         0   \n",
       "13  Acquisto                    0.389951                         0   \n",
       "14  Acquisto                    0.400943                         0   \n",
       "18   Vendita                           0                  0.680571   \n",
       "19  Acquisto                    0.163752                         0   \n",
       "21  Acquisto                    0.288593                         0   \n",
       "22   Vendita                           0                  0.770897   \n",
       "26  Acquisto                    0.152158                         0   \n",
       "27  Acquisto                    0.208149                         0   \n",
       "29   Vendita                           0                  0.524706   \n",
       "32   Vendita                           0                  0.969059   \n",
       "33  Acquisto                    0.123685                         0   \n",
       "34  Acquisto                    0.191852                         0   \n",
       "36  Acquisto                     0.29671                         0   \n",
       "37  Acquisto                    0.298477                         0   \n",
       "38   Vendita                           0                  0.806103   \n",
       "42   Vendita                           0                  1.219001   \n",
       "47  Acquisto                    0.189628                         0   \n",
       "48  Acquisto                    0.198428                         0   \n",
       "50  Acquisto                    0.404166                         0   \n",
       "52   Vendita                           0                  0.441072   \n",
       "53   Vendita                           0                   0.64986   \n",
       "54  Acquisto                    0.175973                         0   \n",
       "56   Vendita                           0                  0.663186   \n",
       "67  Acquisto                    0.135154                         0   \n",
       "69  Acquisto                    0.103548                         0   \n",
       "71  Acquisto                    0.121994                         0   \n",
       "72  Acquisto                    0.133845                         0   \n",
       "73  Acquisto                    0.136178                         0   \n",
       "74  Acquisto                    0.192018                         0   \n",
       "75  Acquisto                    0.211519                         0   \n",
       "79  Acquisto                    0.299974                         0   \n",
       "80   Vendita                           0                  0.533333   \n",
       "81   Vendita                           0                  0.594338   \n",
       "82   Vendita                           0                  0.893122   \n",
       "\n",
       "   quantità_euro Bitcoin Acquistati/Venduti    Liquidità   Bitcoin  \\\n",
       "2     154.761236                   0.003487   845.238764  0.003487   \n",
       "3     166.740532                   0.003487  1011.979297       0.0   \n",
       "10    298.079926                   0.007325   713.899371  0.007325   \n",
       "13    389.950814                   0.010129   323.948557  0.017454   \n",
       "14    323.948557                   0.008472          0.0  0.025926   \n",
       "18    471.902627                   0.014146   471.902627   0.01178   \n",
       "19    163.752106                   0.005347   308.150521  0.017126   \n",
       "21    288.592577                    0.01011    19.557944  0.027236   \n",
       "22     507.77552                   0.016024   527.333464  0.011213   \n",
       "26    152.157995                   0.005197   375.175469   0.01641   \n",
       "27    208.149069                   0.007331     167.0264  0.023741   \n",
       "29    332.854836                   0.010906   499.881235  0.012835   \n",
       "32    414.836219                   0.012835   914.717454       0.0   \n",
       "33    123.685375                   0.004079   791.032079  0.004079   \n",
       "34    191.851605                   0.006566   599.180474  0.010644   \n",
       "36    296.709686                   0.010779   302.470788  0.021424   \n",
       "37    298.476841                   0.010855     3.993947  0.032278   \n",
       "38    513.796127                   0.016755   517.790074  0.015523   \n",
       "42    501.173038                   0.015523  1018.963112       0.0   \n",
       "47    189.628326                   0.006286   829.334786  0.006286   \n",
       "48    198.428104                    0.00661   630.906682  0.012896   \n",
       "50      404.1656                   0.015199   226.741082  0.028096   \n",
       "52    259.147614                   0.009168   485.888696  0.018928   \n",
       "53    392.532155                   0.013508   878.420851   0.00542   \n",
       "54    175.972983                    0.00664   702.447867   0.01206   \n",
       "56    349.892206                    0.01206  1052.340074       0.0   \n",
       "67    135.154005                    0.00487   917.186068   0.00487   \n",
       "69    103.548163                   0.003669   813.637905  0.008539   \n",
       "71    121.994135                   0.004365    691.64377  0.012904   \n",
       "72    133.844751                   0.004819   557.799019  0.017723   \n",
       "73    136.177549                    0.00491    421.62147  0.022633   \n",
       "74    192.018115                   0.007137   229.603354  0.029769   \n",
       "75    211.519129                   0.007947    18.084225  0.037716   \n",
       "79     18.084225                   0.000715          0.0  0.038431   \n",
       "80    301.835272                   0.011086   301.835272  0.027345   \n",
       "81     339.08438                   0.012354   640.919651  0.014992   \n",
       "82    427.677352                   0.014992  1068.597003       0.0   \n",
       "\n",
       "    valore_totale_portafoglio  \n",
       "2                 1000.000000  \n",
       "3                 1011.979297  \n",
       "10                1011.979297  \n",
       "13                 995.888724  \n",
       "14                 991.301096  \n",
       "18                 864.866707  \n",
       "19                 832.692359  \n",
       "21                 797.030480  \n",
       "22                 882.652060  \n",
       "26                 855.619777  \n",
       "27                 841.061935  \n",
       "29                 891.586283  \n",
       "32                 914.717454  \n",
       "33                 914.717454  \n",
       "34                 910.223983  \n",
       "36                 892.185958  \n",
       "37                 891.574132  \n",
       "38                 993.785662  \n",
       "42                1018.963112  \n",
       "47                1018.963112  \n",
       "48                1018.041375  \n",
       "50                 973.831026  \n",
       "52                1020.905409  \n",
       "53                1035.917350  \n",
       "54                1022.059786  \n",
       "56                1052.340074  \n",
       "67                1052.340074  \n",
       "69                1054.630695  \n",
       "71                1052.286662  \n",
       "72                1050.010929  \n",
       "73                1049.395636  \n",
       "74                1030.587372  \n",
       "75                1021.947905  \n",
       "79                 972.298645  \n",
       "80                1046.378529  \n",
       "81                1052.407849  \n",
       "82                1068.597003  "
      ]
     },
     "execution_count": 225,
     "metadata": {},
     "output_type": "execute_result"
    }
   ],
   "source": [
    "df_transazioni[df_transazioni['azione'] != '-']"
   ]
  },
  {
   "cell_type": "code",
   "execution_count": 226,
   "metadata": {},
   "outputs": [],
   "source": [
    "# etichette = False\n",
    "\n",
    "# # Preparazione dei dati per il grafico\n",
    "# acquisti = df_transazioni[df_transazioni['azione'].isin(['Acquisto'])]\n",
    "# vendite = df_transazioni[df_transazioni['azione'].isin(['Vendita'])]\n",
    "\n",
    "# # Calcolo delle dimensioni dei punti\n",
    "# max_acquisto = acquisti['quantità_euro'].max()\n",
    "# max_vendita = vendite['quantità_euro'].max()\n",
    "\n",
    "# def calcola_dimensione(quantita, max_quantita, min_size=20, max_size=200):\n",
    "#     return min_size + (max_size - min_size) * (quantita / max_quantita)\n",
    "\n",
    "# dimensioni_acquisti = acquisti['quantità_euro'].apply(lambda x: calcola_dimensione(x, max_acquisto))\n",
    "# dimensioni_vendite = vendite['quantità_euro'].apply(lambda x: calcola_dimensione(x, max_vendita))\n",
    "\n",
    "# # Creazione del grafico\n",
    "# plt.figure(figsize=(20, 14))\n",
    "# plt.grid()\n",
    "# plt.plot(dati['Timestamp'], dati['Price'], label='Prezzi')\n",
    "# if not acquisti.empty:\n",
    "#     plt.scatter(acquisti['data'], acquisti['prezzo'], s=dimensioni_acquisti, color='green', alpha=0.6, label='Acquisti')\n",
    "#     if etichette:\n",
    "#         for i, row in acquisti.iterrows():\n",
    "#             plt.text(row['data'], row['prezzo'], f\"+{row['quantità_euro']:.2f} €\", \n",
    "#                      color='black', ha='center', va='bottom')\n",
    "# if not vendite.empty:\n",
    "#     plt.scatter(vendite['data'], vendite['prezzo'], s=dimensioni_vendite, color='red', alpha=0.6, label='Vendite')\n",
    "#     if etichette:\n",
    "#         for i, row in vendite.iterrows():\n",
    "#             plt.text(row['data'], row['prezzo'], f\"-{row['quantità_euro']:.2f} €\", \n",
    "#                      color='black', ha='center', va='top')\n",
    "\n",
    "# plt.xlabel('data')\n",
    "# plt.ylabel('prezzo')\n",
    "# plt.title('Andamento dei prezzi e transazioni')\n",
    "# plt.legend()\n",
    "# plt.show()"
   ]
  },
  {
   "cell_type": "markdown",
   "metadata": {},
   "source": [
    "### Risultati"
   ]
  },
  {
   "cell_type": "code",
   "execution_count": 227,
   "metadata": {},
   "outputs": [
    {
     "name": "stderr",
     "output_type": "stream",
     "text": [
      "C:\\Users\\Alessandro\\AppData\\Local\\Temp\\ipykernel_216900\\2681241263.py:6: SettingWithCopyWarning:\n",
      "\n",
      "\n",
      "A value is trying to be set on a copy of a slice from a DataFrame.\n",
      "Try using .loc[row_indexer,col_indexer] = value instead\n",
      "\n",
      "See the caveats in the documentation: https://pandas.pydata.org/pandas-docs/stable/user_guide/indexing.html#returning-a-view-versus-a-copy\n",
      "\n",
      "C:\\Users\\Alessandro\\AppData\\Local\\Temp\\ipykernel_216900\\2681241263.py:9: SettingWithCopyWarning:\n",
      "\n",
      "\n",
      "A value is trying to be set on a copy of a slice from a DataFrame.\n",
      "Try using .loc[row_indexer,col_indexer] = value instead\n",
      "\n",
      "See the caveats in the documentation: https://pandas.pydata.org/pandas-docs/stable/user_guide/indexing.html#returning-a-view-versus-a-copy\n",
      "\n",
      "C:\\Users\\Alessandro\\AppData\\Local\\Temp\\ipykernel_216900\\2681241263.py:12: SettingWithCopyWarning:\n",
      "\n",
      "\n",
      "A value is trying to be set on a copy of a slice from a DataFrame.\n",
      "Try using .loc[row_indexer,col_indexer] = value instead\n",
      "\n",
      "See the caveats in the documentation: https://pandas.pydata.org/pandas-docs/stable/user_guide/indexing.html#returning-a-view-versus-a-copy\n",
      "\n",
      "C:\\Users\\Alessandro\\AppData\\Local\\Temp\\ipykernel_216900\\2681241263.py:15: SettingWithCopyWarning:\n",
      "\n",
      "\n",
      "A value is trying to be set on a copy of a slice from a DataFrame.\n",
      "Try using .loc[row_indexer,col_indexer] = value instead\n",
      "\n",
      "See the caveats in the documentation: https://pandas.pydata.org/pandas-docs/stable/user_guide/indexing.html#returning-a-view-versus-a-copy\n",
      "\n"
     ]
    },
    {
     "data": {
      "application/vnd.plotly.v1+json": {
       "config": {
        "plotlyServerURL": "https://plot.ly"
       },
       "data": [
        {
         "hoverinfo": "text",
         "line": {
          "color": "blue",
          "width": 2
         },
         "mode": "lines",
         "name": "Prezzi",
         "text": [
          "Timestamp: 2021-05-02 00:00:00<br>Prezzo: 47088.57 €<br>Variazione giornaliera: -2.12%<br>Timestamp riferimento discesa: 2021-05-01 00:00:00<br>Prezzo riferimento discesa: 48110.05<br>Variazione rispetto riferimento discesa: -2.12%<br>Timestamp riferimento salita: 2021-05-01 00:00:00<br>Prezzo riferimento salita: 48110.05<br>Variazione rispetto riferimento salita: -2.12%",
          "Timestamp: 2021-05-03 00:00:00<br>Prezzo: 47432.77 €<br>Variazione giornaliera: 0.73%<br>Timestamp riferimento discesa: 2021-05-01 00:00:00<br>Prezzo riferimento discesa: 48110.05<br>Variazione rispetto riferimento discesa: -1.41%<br>Timestamp riferimento salita: 2021-05-01 00:00:00<br>Prezzo riferimento salita: 48110.05<br>Variazione rispetto riferimento salita: -1.41%",
          "Timestamp: 2021-05-04 00:00:00<br>Prezzo: 44387.26 €<br>Variazione giornaliera: -6.42%<br>Timestamp riferimento discesa: 2021-05-01 00:00:00<br>Prezzo riferimento discesa: 48110.05<br>Variazione rispetto riferimento discesa: -7.74%<br>Timestamp riferimento salita: NaT<br>Prezzo riferimento salita: nan<br>Variazione rispetto riferimento salita: None",
          "Timestamp: 2021-05-05 00:00:00<br>Prezzo: 47823.06 €<br>Variazione giornaliera: 7.74%<br>Timestamp riferimento discesa: NaT<br>Prezzo riferimento discesa: nan<br>Variazione rispetto riferimento discesa: None<br>Timestamp riferimento salita: 2021-05-04 00:00:00<br>Prezzo riferimento salita: 44387.26<br>Variazione rispetto riferimento salita: 7.74%",
          "Timestamp: 2021-05-06 00:00:00<br>Prezzo: 46742.56 €<br>Variazione giornaliera: -2.26%<br>Timestamp riferimento discesa: 2021-05-05 00:00:00<br>Prezzo riferimento discesa: 47823.06<br>Variazione rispetto riferimento discesa: -2.26%<br>Timestamp riferimento salita: 2021-05-04 00:00:00<br>Prezzo riferimento salita: 44387.26<br>Variazione rispetto riferimento salita: 5.31%",
          "Timestamp: 2021-05-07 00:00:00<br>Prezzo: 47155.51 €<br>Variazione giornaliera: 0.88%<br>Timestamp riferimento discesa: 2021-05-05 00:00:00<br>Prezzo riferimento discesa: 47823.06<br>Variazione rispetto riferimento discesa: -1.4%<br>Timestamp riferimento salita: 2021-05-04 00:00:00<br>Prezzo riferimento salita: 44387.26<br>Variazione rispetto riferimento salita: 6.24%",
          "Timestamp: 2021-05-08 00:00:00<br>Prezzo: 48345.46 €<br>Variazione giornaliera: 2.52%<br>Timestamp riferimento discesa: 2021-05-05 00:00:00<br>Prezzo riferimento discesa: 47823.06<br>Variazione rispetto riferimento discesa: 1.09%<br>Timestamp riferimento salita: 2021-05-04 00:00:00<br>Prezzo riferimento salita: 44387.26<br>Variazione rispetto riferimento salita: 8.92%",
          "Timestamp: 2021-05-09 00:00:00<br>Prezzo: 47846.52 €<br>Variazione giornaliera: -1.03%<br>Timestamp riferimento discesa: 2021-05-05 00:00:00<br>Prezzo riferimento discesa: 47823.06<br>Variazione rispetto riferimento discesa: 0.05%<br>Timestamp riferimento salita: 2021-05-04 00:00:00<br>Prezzo riferimento salita: 44387.26<br>Variazione rispetto riferimento salita: 7.79%",
          "Timestamp: 2021-05-10 00:00:00<br>Prezzo: 46010.48 €<br>Variazione giornaliera: -3.84%<br>Timestamp riferimento discesa: 2021-05-05 00:00:00<br>Prezzo riferimento discesa: 47823.06<br>Variazione rispetto riferimento discesa: -3.79%<br>Timestamp riferimento salita: 2021-05-04 00:00:00<br>Prezzo riferimento salita: 44387.26<br>Variazione rispetto riferimento salita: 3.66%",
          "Timestamp: 2021-05-11 00:00:00<br>Prezzo: 46692.53 €<br>Variazione giornaliera: 1.48%<br>Timestamp riferimento discesa: 2021-05-05 00:00:00<br>Prezzo riferimento discesa: 47823.06<br>Variazione rispetto riferimento discesa: -2.36%<br>Timestamp riferimento salita: 2021-05-04 00:00:00<br>Prezzo riferimento salita: 44387.26<br>Variazione rispetto riferimento salita: 5.19%",
          "Timestamp: 2021-05-12 00:00:00<br>Prezzo: 40695.51 €<br>Variazione giornaliera: -12.84%<br>Timestamp riferimento discesa: 2021-05-05 00:00:00<br>Prezzo riferimento discesa: 47823.06<br>Variazione rispetto riferimento discesa: -14.9%<br>Timestamp riferimento salita: NaT<br>Prezzo riferimento salita: nan<br>Variazione rispetto riferimento salita: None",
          "Timestamp: 2021-05-13 00:00:00<br>Prezzo: 41166.70 €<br>Variazione giornaliera: 1.16%<br>Timestamp riferimento discesa: 2021-05-05 00:00:00<br>Prezzo riferimento discesa: 47823.06<br>Variazione rispetto riferimento discesa: -13.92%<br>Timestamp riferimento salita: 2021-05-12 00:00:00<br>Prezzo riferimento salita: 40695.51<br>Variazione rispetto riferimento salita: 1.16%",
          "Timestamp: 2021-05-14 00:00:00<br>Prezzo: 41072.78 €<br>Variazione giornaliera: -0.23%<br>Timestamp riferimento discesa: 2021-05-05 00:00:00<br>Prezzo riferimento discesa: 47823.06<br>Variazione rispetto riferimento discesa: -14.12%<br>Timestamp riferimento salita: 2021-05-12 00:00:00<br>Prezzo riferimento salita: 40695.51<br>Variazione rispetto riferimento salita: 0.93%",
          "Timestamp: 2021-05-15 00:00:00<br>Prezzo: 38498.74 €<br>Variazione giornaliera: -6.27%<br>Timestamp riferimento discesa: 2021-05-05 00:00:00<br>Prezzo riferimento discesa: 47823.06<br>Variazione rispetto riferimento discesa: -19.5%<br>Timestamp riferimento salita: NaT<br>Prezzo riferimento salita: nan<br>Variazione rispetto riferimento salita: None",
          "Timestamp: 2021-05-16 00:00:00<br>Prezzo: 38235.89 €<br>Variazione giornaliera: -0.68%<br>Timestamp riferimento discesa: 2021-05-05 00:00:00<br>Prezzo riferimento discesa: 47823.06<br>Variazione rispetto riferimento discesa: -20.05%<br>Timestamp riferimento salita: NaT<br>Prezzo riferimento salita: nan<br>Variazione rispetto riferimento salita: None",
          "Timestamp: 2021-05-17 00:00:00<br>Prezzo: 35814.09 €<br>Variazione giornaliera: -6.33%<br>Timestamp riferimento discesa: 2021-05-05 00:00:00<br>Prezzo riferimento discesa: 47823.06<br>Variazione rispetto riferimento discesa: -25.11%<br>Timestamp riferimento salita: NaT<br>Prezzo riferimento salita: nan<br>Variazione rispetto riferimento salita: None",
          "Timestamp: 2021-05-18 00:00:00<br>Prezzo: 35106.80 €<br>Variazione giornaliera: -1.97%<br>Timestamp riferimento discesa: 2021-05-05 00:00:00<br>Prezzo riferimento discesa: 47823.06<br>Variazione rispetto riferimento discesa: -26.59%<br>Timestamp riferimento salita: NaT<br>Prezzo riferimento salita: nan<br>Variazione rispetto riferimento salita: None",
          "Timestamp: 2021-05-19 00:00:00<br>Prezzo: 30403.20 €<br>Variazione giornaliera: -13.4%<br>Timestamp riferimento discesa: 2021-05-05 00:00:00<br>Prezzo riferimento discesa: 47823.06<br>Variazione rispetto riferimento discesa: -36.43%<br>Timestamp riferimento salita: NaT<br>Prezzo riferimento salita: nan<br>Variazione rispetto riferimento salita: None",
          "Timestamp: 2021-05-20 00:00:00<br>Prezzo: 33359.14 €<br>Variazione giornaliera: 9.72%<br>Timestamp riferimento discesa: NaT<br>Prezzo riferimento discesa: nan<br>Variazione rispetto riferimento discesa: None<br>Timestamp riferimento salita: 2021-05-19 00:00:00<br>Prezzo riferimento salita: 30403.20<br>Variazione rispetto riferimento salita: 9.72%",
          "Timestamp: 2021-05-21 00:00:00<br>Prezzo: 30627.82 €<br>Variazione giornaliera: -8.19%<br>Timestamp riferimento discesa: 2021-05-20 00:00:00<br>Prezzo riferimento discesa: 33359.14<br>Variazione rispetto riferimento discesa: -8.19%<br>Timestamp riferimento salita: NaT<br>Prezzo riferimento salita: nan<br>Variazione rispetto riferimento salita: None",
          "Timestamp: 2021-05-22 00:00:00<br>Prezzo: 30818.25 €<br>Variazione giornaliera: 0.62%<br>Timestamp riferimento discesa: 2021-05-20 00:00:00<br>Prezzo riferimento discesa: 33359.14<br>Variazione rispetto riferimento discesa: -7.62%<br>Timestamp riferimento salita: 2021-05-21 00:00:00<br>Prezzo riferimento salita: 30627.82<br>Variazione rispetto riferimento salita: 0.62%",
          "Timestamp: 2021-05-23 00:00:00<br>Prezzo: 28545.54 €<br>Variazione giornaliera: -7.37%<br>Timestamp riferimento discesa: 2021-05-20 00:00:00<br>Prezzo riferimento discesa: 33359.14<br>Variazione rispetto riferimento discesa: -14.43%<br>Timestamp riferimento salita: NaT<br>Prezzo riferimento salita: nan<br>Variazione rispetto riferimento salita: None",
          "Timestamp: 2021-05-24 00:00:00<br>Prezzo: 31689.20 €<br>Variazione giornaliera: 11.01%<br>Timestamp riferimento discesa: NaT<br>Prezzo riferimento discesa: nan<br>Variazione rispetto riferimento discesa: None<br>Timestamp riferimento salita: 2021-05-23 00:00:00<br>Prezzo riferimento salita: 28545.54<br>Variazione rispetto riferimento salita: 11.01%",
          "Timestamp: 2021-05-25 00:00:00<br>Prezzo: 31356.95 €<br>Variazione giornaliera: -1.05%<br>Timestamp riferimento discesa: 2021-05-24 00:00:00<br>Prezzo riferimento discesa: 31689.20<br>Variazione rispetto riferimento discesa: -1.05%<br>Timestamp riferimento salita: 2021-05-23 00:00:00<br>Prezzo riferimento salita: 28545.54<br>Variazione rispetto riferimento salita: 9.85%",
          "Timestamp: 2021-05-26 00:00:00<br>Prezzo: 32229.53 €<br>Variazione giornaliera: 2.78%<br>Timestamp riferimento discesa: 2021-05-24 00:00:00<br>Prezzo riferimento discesa: 31689.20<br>Variazione rispetto riferimento discesa: 1.71%<br>Timestamp riferimento salita: 2021-05-23 00:00:00<br>Prezzo riferimento salita: 28545.54<br>Variazione rispetto riferimento salita: 12.91%",
          "Timestamp: 2021-05-27 00:00:00<br>Prezzo: 31524.04 €<br>Variazione giornaliera: -2.19%<br>Timestamp riferimento discesa: 2021-05-24 00:00:00<br>Prezzo riferimento discesa: 31689.20<br>Variazione rispetto riferimento discesa: -0.52%<br>Timestamp riferimento salita: 2021-05-23 00:00:00<br>Prezzo riferimento salita: 28545.54<br>Variazione rispetto riferimento salita: 10.43%",
          "Timestamp: 2021-05-28 00:00:00<br>Prezzo: 29278.32 €<br>Variazione giornaliera: -7.12%<br>Timestamp riferimento discesa: 2021-05-24 00:00:00<br>Prezzo riferimento discesa: 31689.20<br>Variazione rispetto riferimento discesa: -7.61%<br>Timestamp riferimento salita: NaT<br>Prezzo riferimento salita: nan<br>Variazione rispetto riferimento salita: None",
          "Timestamp: 2021-05-29 00:00:00<br>Prezzo: 28391.16 €<br>Variazione giornaliera: -3.03%<br>Timestamp riferimento discesa: 2021-05-24 00:00:00<br>Prezzo riferimento discesa: 31689.20<br>Variazione rispetto riferimento discesa: -10.41%<br>Timestamp riferimento salita: NaT<br>Prezzo riferimento salita: nan<br>Variazione rispetto riferimento salita: None",
          "Timestamp: 2021-05-30 00:00:00<br>Prezzo: 29269.52 €<br>Variazione giornaliera: 3.09%<br>Timestamp riferimento discesa: 2021-05-24 00:00:00<br>Prezzo riferimento discesa: 31689.20<br>Variazione rispetto riferimento discesa: -7.64%<br>Timestamp riferimento salita: 2021-05-29 00:00:00<br>Prezzo riferimento salita: 28391.16<br>Variazione rispetto riferimento salita: 3.09%",
          "Timestamp: 2021-05-31 00:00:00<br>Prezzo: 30519.31 €<br>Variazione giornaliera: 4.27%<br>Timestamp riferimento discesa: NaT<br>Prezzo riferimento discesa: nan<br>Variazione rispetto riferimento discesa: None<br>Timestamp riferimento salita: 2021-05-29 00:00:00<br>Prezzo riferimento salita: 28391.16<br>Variazione rispetto riferimento salita: 7.5%",
          "Timestamp: 2021-06-01 00:00:00<br>Prezzo: 30026.79 €<br>Variazione giornaliera: -1.61%<br>Timestamp riferimento discesa: 2021-05-31 00:00:00<br>Prezzo riferimento discesa: 30519.31<br>Variazione rispetto riferimento discesa: -1.61%<br>Timestamp riferimento salita: 2021-05-29 00:00:00<br>Prezzo riferimento salita: 28391.16<br>Variazione rispetto riferimento salita: 5.76%",
          "Timestamp: 2021-06-02 00:00:00<br>Prezzo: 30775.01 €<br>Variazione giornaliera: 2.49%<br>Timestamp riferimento discesa: 2021-05-31 00:00:00<br>Prezzo riferimento discesa: 30519.31<br>Variazione rispetto riferimento discesa: 0.84%<br>Timestamp riferimento salita: 2021-05-29 00:00:00<br>Prezzo riferimento salita: 28391.16<br>Variazione rispetto riferimento salita: 8.4%",
          "Timestamp: 2021-06-03 00:00:00<br>Prezzo: 32321.55 €<br>Variazione giornaliera: 5.03%<br>Timestamp riferimento discesa: NaT<br>Prezzo riferimento discesa: nan<br>Variazione rispetto riferimento discesa: None<br>Timestamp riferimento salita: 2021-05-29 00:00:00<br>Prezzo riferimento salita: 28391.16<br>Variazione rispetto riferimento salita: 13.84%",
          "Timestamp: 2021-06-04 00:00:00<br>Prezzo: 30322.70 €<br>Variazione giornaliera: -6.18%<br>Timestamp riferimento discesa: 2021-06-03 00:00:00<br>Prezzo riferimento discesa: 32321.55<br>Variazione rispetto riferimento discesa: -6.18%<br>Timestamp riferimento salita: NaT<br>Prezzo riferimento salita: nan<br>Variazione rispetto riferimento salita: None",
          "Timestamp: 2021-06-05 00:00:00<br>Prezzo: 29221.08 €<br>Variazione giornaliera: -3.63%<br>Timestamp riferimento discesa: 2021-06-03 00:00:00<br>Prezzo riferimento discesa: 32321.55<br>Variazione rispetto riferimento discesa: -9.59%<br>Timestamp riferimento salita: NaT<br>Prezzo riferimento salita: nan<br>Variazione rispetto riferimento salita: None",
          "Timestamp: 2021-06-06 00:00:00<br>Prezzo: 29474.39 €<br>Variazione giornaliera: 0.87%<br>Timestamp riferimento discesa: 2021-06-03 00:00:00<br>Prezzo riferimento discesa: 32321.55<br>Variazione rispetto riferimento discesa: -8.81%<br>Timestamp riferimento salita: 2021-06-05 00:00:00<br>Prezzo riferimento salita: 29221.08<br>Variazione rispetto riferimento salita: 0.87%",
          "Timestamp: 2021-06-07 00:00:00<br>Prezzo: 27526.49 €<br>Variazione giornaliera: -6.61%<br>Timestamp riferimento discesa: 2021-06-03 00:00:00<br>Prezzo riferimento discesa: 32321.55<br>Variazione rispetto riferimento discesa: -14.84%<br>Timestamp riferimento salita: NaT<br>Prezzo riferimento salita: nan<br>Variazione rispetto riferimento salita: None",
          "Timestamp: 2021-06-08 00:00:00<br>Prezzo: 27497.93 €<br>Variazione giornaliera: -0.1%<br>Timestamp riferimento discesa: 2021-06-03 00:00:00<br>Prezzo riferimento discesa: 32321.55<br>Variazione rispetto riferimento discesa: -14.92%<br>Timestamp riferimento salita: NaT<br>Prezzo riferimento salita: nan<br>Variazione rispetto riferimento salita: None",
          "Timestamp: 2021-06-09 00:00:00<br>Prezzo: 30664.53 €<br>Variazione giornaliera: 11.52%<br>Timestamp riferimento discesa: NaT<br>Prezzo riferimento discesa: nan<br>Variazione rispetto riferimento discesa: None<br>Timestamp riferimento salita: 2021-06-08 00:00:00<br>Prezzo riferimento salita: 27497.93<br>Variazione rispetto riferimento salita: 11.52%",
          "Timestamp: 2021-06-10 00:00:00<br>Prezzo: 30150.49 €<br>Variazione giornaliera: -1.68%<br>Timestamp riferimento discesa: 2021-06-09 00:00:00<br>Prezzo riferimento discesa: 30664.53<br>Variazione rispetto riferimento discesa: -1.68%<br>Timestamp riferimento salita: 2021-06-08 00:00:00<br>Prezzo riferimento salita: 27497.93<br>Variazione rispetto riferimento salita: 9.65%",
          "Timestamp: 2021-06-11 00:00:00<br>Prezzo: 30832.05 €<br>Variazione giornaliera: 2.26%<br>Timestamp riferimento discesa: 2021-06-09 00:00:00<br>Prezzo riferimento discesa: 30664.53<br>Variazione rispetto riferimento discesa: 0.55%<br>Timestamp riferimento salita: 2021-06-08 00:00:00<br>Prezzo riferimento salita: 27497.93<br>Variazione rispetto riferimento salita: 12.12%",
          "Timestamp: 2021-06-12 00:00:00<br>Prezzo: 29360.51 €<br>Variazione giornaliera: -4.77%<br>Timestamp riferimento discesa: 2021-06-09 00:00:00<br>Prezzo riferimento discesa: 30664.53<br>Variazione rispetto riferimento discesa: -4.25%<br>Timestamp riferimento salita: 2021-06-08 00:00:00<br>Prezzo riferimento salita: 27497.93<br>Variazione rispetto riferimento salita: 6.77%",
          "Timestamp: 2021-06-13 00:00:00<br>Prezzo: 32286.51 €<br>Variazione giornaliera: 9.97%<br>Timestamp riferimento discesa: NaT<br>Prezzo riferimento discesa: nan<br>Variazione rispetto riferimento discesa: None<br>Timestamp riferimento salita: 2021-06-08 00:00:00<br>Prezzo riferimento salita: 27497.93<br>Variazione rispetto riferimento salita: 17.41%",
          "Timestamp: 2021-06-14 00:00:00<br>Prezzo: 33178.52 €<br>Variazione giornaliera: 2.76%<br>Timestamp riferimento discesa: NaT<br>Prezzo riferimento discesa: nan<br>Variazione rispetto riferimento discesa: None<br>Timestamp riferimento salita: 2021-06-08 00:00:00<br>Prezzo riferimento salita: 27497.93<br>Variazione rispetto riferimento salita: 20.66%",
          "Timestamp: 2021-06-15 00:00:00<br>Prezzo: 33325.59 €<br>Variazione giornaliera: 0.44%<br>Timestamp riferimento discesa: NaT<br>Prezzo riferimento discesa: nan<br>Variazione rispetto riferimento discesa: None<br>Timestamp riferimento salita: 2021-06-08 00:00:00<br>Prezzo riferimento salita: 27497.93<br>Variazione rispetto riferimento salita: 21.19%",
          "Timestamp: 2021-06-16 00:00:00<br>Prezzo: 31969.33 €<br>Variazione giornaliera: -4.07%<br>Timestamp riferimento discesa: 2021-06-15 00:00:00<br>Prezzo riferimento discesa: 33325.59<br>Variazione rispetto riferimento discesa: -4.07%<br>Timestamp riferimento salita: 2021-06-08 00:00:00<br>Prezzo riferimento salita: 27497.93<br>Variazione rispetto riferimento salita: 16.26%",
          "Timestamp: 2021-06-17 00:00:00<br>Prezzo: 31943.06 €<br>Variazione giornaliera: -0.08%<br>Timestamp riferimento discesa: 2021-06-15 00:00:00<br>Prezzo riferimento discesa: 33325.59<br>Variazione rispetto riferimento discesa: -4.15%<br>Timestamp riferimento salita: 2021-06-08 00:00:00<br>Prezzo riferimento salita: 27497.93<br>Variazione rispetto riferimento salita: 16.17%",
          "Timestamp: 2021-06-18 00:00:00<br>Prezzo: 30165.86 €<br>Variazione giornaliera: -5.56%<br>Timestamp riferimento discesa: 2021-06-15 00:00:00<br>Prezzo riferimento discesa: 33325.59<br>Variazione rispetto riferimento discesa: -9.48%<br>Timestamp riferimento salita: NaT<br>Prezzo riferimento salita: nan<br>Variazione rispetto riferimento salita: None",
          "Timestamp: 2021-06-19 00:00:00<br>Prezzo: 30019.23 €<br>Variazione giornaliera: -0.49%<br>Timestamp riferimento discesa: 2021-06-15 00:00:00<br>Prezzo riferimento discesa: 33325.59<br>Variazione rispetto riferimento discesa: -9.92%<br>Timestamp riferimento salita: NaT<br>Prezzo riferimento salita: nan<br>Variazione rispetto riferimento salita: None",
          "Timestamp: 2021-06-20 00:00:00<br>Prezzo: 30071.78 €<br>Variazione giornaliera: 0.18%<br>Timestamp riferimento discesa: 2021-06-15 00:00:00<br>Prezzo riferimento discesa: 33325.59<br>Variazione rispetto riferimento discesa: -9.76%<br>Timestamp riferimento salita: 2021-06-19 00:00:00<br>Prezzo riferimento salita: 30019.23<br>Variazione rispetto riferimento salita: 0.18%",
          "Timestamp: 2021-06-21 00:00:00<br>Prezzo: 26591.06 €<br>Variazione giornaliera: -11.57%<br>Timestamp riferimento discesa: 2021-06-15 00:00:00<br>Prezzo riferimento discesa: 33325.59<br>Variazione rispetto riferimento discesa: -20.21%<br>Timestamp riferimento salita: NaT<br>Prezzo riferimento salita: nan<br>Variazione rispetto riferimento salita: None",
          "Timestamp: 2021-06-22 00:00:00<br>Prezzo: 27232.40 €<br>Variazione giornaliera: 2.41%<br>Timestamp riferimento discesa: 2021-06-15 00:00:00<br>Prezzo riferimento discesa: 33325.59<br>Variazione rispetto riferimento discesa: -18.28%<br>Timestamp riferimento salita: 2021-06-21 00:00:00<br>Prezzo riferimento salita: 26591.06<br>Variazione rispetto riferimento salita: 2.41%",
          "Timestamp: 2021-06-23 00:00:00<br>Prezzo: 28266.58 €<br>Variazione giornaliera: 3.8%<br>Timestamp riferimento discesa: NaT<br>Prezzo riferimento discesa: nan<br>Variazione rispetto riferimento discesa: None<br>Timestamp riferimento salita: 2021-06-21 00:00:00<br>Prezzo riferimento salita: 26591.06<br>Variazione rispetto riferimento salita: 6.3%",
          "Timestamp: 2021-06-24 00:00:00<br>Prezzo: 29059.70 €<br>Variazione giornaliera: 2.81%<br>Timestamp riferimento discesa: NaT<br>Prezzo riferimento discesa: nan<br>Variazione rispetto riferimento discesa: None<br>Timestamp riferimento salita: 2021-06-21 00:00:00<br>Prezzo riferimento salita: 26591.06<br>Variazione rispetto riferimento salita: 9.28%",
          "Timestamp: 2021-06-25 00:00:00<br>Prezzo: 26502.84 €<br>Variazione giornaliera: -8.8%<br>Timestamp riferimento discesa: 2021-06-24 00:00:00<br>Prezzo riferimento discesa: 29059.70<br>Variazione rispetto riferimento discesa: -8.8%<br>Timestamp riferimento salita: NaT<br>Prezzo riferimento salita: nan<br>Variazione rispetto riferimento salita: None",
          "Timestamp: 2021-06-26 00:00:00<br>Prezzo: 26965.50 €<br>Variazione giornaliera: 1.75%<br>Timestamp riferimento discesa: 2021-06-24 00:00:00<br>Prezzo riferimento discesa: 29059.70<br>Variazione rispetto riferimento discesa: -7.21%<br>Timestamp riferimento salita: 2021-06-25 00:00:00<br>Prezzo riferimento salita: 26502.84<br>Variazione rispetto riferimento salita: 1.75%",
          "Timestamp: 2021-06-27 00:00:00<br>Prezzo: 29013.74 €<br>Variazione giornaliera: 7.6%<br>Timestamp riferimento discesa: NaT<br>Prezzo riferimento discesa: nan<br>Variazione rispetto riferimento discesa: None<br>Timestamp riferimento salita: 2021-06-25 00:00:00<br>Prezzo riferimento salita: 26502.84<br>Variazione rispetto riferimento salita: 9.47%",
          "Timestamp: 2021-06-28 00:00:00<br>Prezzo: 28866.30 €<br>Variazione giornaliera: -0.51%<br>Timestamp riferimento discesa: 2021-06-27 00:00:00<br>Prezzo riferimento discesa: 29013.74<br>Variazione rispetto riferimento discesa: -0.51%<br>Timestamp riferimento salita: 2021-06-25 00:00:00<br>Prezzo riferimento salita: 26502.84<br>Variazione rispetto riferimento salita: 8.92%",
          "Timestamp: 2021-06-29 00:00:00<br>Prezzo: 30139.98 €<br>Variazione giornaliera: 4.41%<br>Timestamp riferimento discesa: 2021-06-27 00:00:00<br>Prezzo riferimento discesa: 29013.74<br>Variazione rispetto riferimento discesa: 3.88%<br>Timestamp riferimento salita: 2021-06-25 00:00:00<br>Prezzo riferimento salita: 26502.84<br>Variazione rispetto riferimento salita: 13.72%",
          "Timestamp: 2021-06-30 00:00:00<br>Prezzo: 29555.05 €<br>Variazione giornaliera: -1.94%<br>Timestamp riferimento discesa: 2021-06-27 00:00:00<br>Prezzo riferimento discesa: 29013.74<br>Variazione rispetto riferimento discesa: 1.87%<br>Timestamp riferimento salita: 2021-06-25 00:00:00<br>Prezzo riferimento salita: 26502.84<br>Variazione rispetto riferimento salita: 11.52%",
          "Timestamp: 2021-07-01 00:00:00<br>Prezzo: 28341.41 €<br>Variazione giornaliera: -4.11%<br>Timestamp riferimento discesa: 2021-06-27 00:00:00<br>Prezzo riferimento discesa: 29013.74<br>Variazione rispetto riferimento discesa: -2.32%<br>Timestamp riferimento salita: NaT<br>Prezzo riferimento salita: nan<br>Variazione rispetto riferimento salita: None",
          "Timestamp: 2021-07-02 00:00:00<br>Prezzo: 28569.31 €<br>Variazione giornaliera: 0.8%<br>Timestamp riferimento discesa: 2021-06-27 00:00:00<br>Prezzo riferimento discesa: 29013.74<br>Variazione rispetto riferimento discesa: -1.53%<br>Timestamp riferimento salita: 2021-07-01 00:00:00<br>Prezzo riferimento salita: 28341.41<br>Variazione rispetto riferimento salita: 0.8%",
          "Timestamp: 2021-07-03 00:00:00<br>Prezzo: 29219.55 €<br>Variazione giornaliera: 2.28%<br>Timestamp riferimento discesa: 2021-06-27 00:00:00<br>Prezzo riferimento discesa: 29013.74<br>Variazione rispetto riferimento discesa: 0.71%<br>Timestamp riferimento salita: 2021-07-01 00:00:00<br>Prezzo riferimento salita: 28341.41<br>Variazione rispetto riferimento salita: 3.1%",
          "Timestamp: 2021-07-04 00:00:00<br>Prezzo: 29764.08 €<br>Variazione giornaliera: 1.86%<br>Timestamp riferimento discesa: NaT<br>Prezzo riferimento discesa: nan<br>Variazione rispetto riferimento discesa: None<br>Timestamp riferimento salita: 2021-07-01 00:00:00<br>Prezzo riferimento salita: 28341.41<br>Variazione rispetto riferimento salita: 5.02%",
          "Timestamp: 2021-07-05 00:00:00<br>Prezzo: 28444.03 €<br>Variazione giornaliera: -4.44%<br>Timestamp riferimento discesa: 2021-07-04 00:00:00<br>Prezzo riferimento discesa: 29764.08<br>Variazione rispetto riferimento discesa: -4.44%<br>Timestamp riferimento salita: 2021-07-01 00:00:00<br>Prezzo riferimento salita: 28341.41<br>Variazione rispetto riferimento salita: 0.36%",
          "Timestamp: 2021-07-06 00:00:00<br>Prezzo: 28957.70 €<br>Variazione giornaliera: 1.81%<br>Timestamp riferimento discesa: 2021-07-04 00:00:00<br>Prezzo riferimento discesa: 29764.08<br>Variazione rispetto riferimento discesa: -2.71%<br>Timestamp riferimento salita: 2021-07-01 00:00:00<br>Prezzo riferimento salita: 28341.41<br>Variazione rispetto riferimento salita: 2.17%",
          "Timestamp: 2021-07-07 00:00:00<br>Prezzo: 28707.89 €<br>Variazione giornaliera: -0.86%<br>Timestamp riferimento discesa: 2021-07-04 00:00:00<br>Prezzo riferimento discesa: 29764.08<br>Variazione rispetto riferimento discesa: -3.55%<br>Timestamp riferimento salita: 2021-07-01 00:00:00<br>Prezzo riferimento salita: 28341.41<br>Variazione rispetto riferimento salita: 1.29%",
          "Timestamp: 2021-07-08 00:00:00<br>Prezzo: 27752.71 €<br>Variazione giornaliera: -3.33%<br>Timestamp riferimento discesa: 2021-07-04 00:00:00<br>Prezzo riferimento discesa: 29764.08<br>Variazione rispetto riferimento discesa: -6.76%<br>Timestamp riferimento salita: 2021-07-01 00:00:00<br>Prezzo riferimento salita: 28341.41<br>Variazione rispetto riferimento salita: -2.08%",
          "Timestamp: 2021-07-09 00:00:00<br>Prezzo: 28454.88 €<br>Variazione giornaliera: 2.53%<br>Timestamp riferimento discesa: 2021-07-04 00:00:00<br>Prezzo riferimento discesa: 29764.08<br>Variazione rispetto riferimento discesa: -4.4%<br>Timestamp riferimento salita: 2021-07-01 00:00:00<br>Prezzo riferimento salita: 28341.41<br>Variazione rispetto riferimento salita: 0.4%",
          "Timestamp: 2021-07-10 00:00:00<br>Prezzo: 28223.07 €<br>Variazione giornaliera: -0.81%<br>Timestamp riferimento discesa: 2021-07-04 00:00:00<br>Prezzo riferimento discesa: 29764.08<br>Variazione rispetto riferimento discesa: -5.18%<br>Timestamp riferimento salita: 2021-07-01 00:00:00<br>Prezzo riferimento salita: 28341.41<br>Variazione rispetto riferimento salita: -0.42%",
          "Timestamp: 2021-07-11 00:00:00<br>Prezzo: 28840.89 €<br>Variazione giornaliera: 2.19%<br>Timestamp riferimento discesa: 2021-07-04 00:00:00<br>Prezzo riferimento discesa: 29764.08<br>Variazione rispetto riferimento discesa: -3.1%<br>Timestamp riferimento salita: 2021-07-01 00:00:00<br>Prezzo riferimento salita: 28341.41<br>Variazione rispetto riferimento salita: 1.76%",
          "Timestamp: 2021-07-12 00:00:00<br>Prezzo: 27948.56 €<br>Variazione giornaliera: -3.09%<br>Timestamp riferimento discesa: 2021-07-04 00:00:00<br>Prezzo riferimento discesa: 29764.08<br>Variazione rispetto riferimento discesa: -6.1%<br>Timestamp riferimento salita: 2021-07-01 00:00:00<br>Prezzo riferimento salita: 28341.41<br>Variazione rispetto riferimento salita: -1.39%",
          "Timestamp: 2021-07-13 00:00:00<br>Prezzo: 27772.20 €<br>Variazione giornaliera: -0.63%<br>Timestamp riferimento discesa: 2021-07-04 00:00:00<br>Prezzo riferimento discesa: 29764.08<br>Variazione rispetto riferimento discesa: -6.69%<br>Timestamp riferimento salita: 2021-07-01 00:00:00<br>Prezzo riferimento salita: 28341.41<br>Variazione rispetto riferimento salita: -2.01%",
          "Timestamp: 2021-07-14 00:00:00<br>Prezzo: 27737.48 €<br>Variazione giornaliera: -0.13%<br>Timestamp riferimento discesa: 2021-07-04 00:00:00<br>Prezzo riferimento discesa: 29764.08<br>Variazione rispetto riferimento discesa: -6.81%<br>Timestamp riferimento salita: 2021-07-01 00:00:00<br>Prezzo riferimento salita: 28341.41<br>Variazione rispetto riferimento salita: -2.13%",
          "Timestamp: 2021-07-15 00:00:00<br>Prezzo: 26906.46 €<br>Variazione giornaliera: -3.0%<br>Timestamp riferimento discesa: 2021-07-04 00:00:00<br>Prezzo riferimento discesa: 29764.08<br>Variazione rispetto riferimento discesa: -9.6%<br>Timestamp riferimento salita: NaT<br>Prezzo riferimento salita: nan<br>Variazione rispetto riferimento salita: None",
          "Timestamp: 2021-07-16 00:00:00<br>Prezzo: 26616.24 €<br>Variazione giornaliera: -1.08%<br>Timestamp riferimento discesa: 2021-07-04 00:00:00<br>Prezzo riferimento discesa: 29764.08<br>Variazione rispetto riferimento discesa: -10.58%<br>Timestamp riferimento salita: NaT<br>Prezzo riferimento salita: nan<br>Variazione rispetto riferimento salita: None",
          "Timestamp: 2021-07-17 00:00:00<br>Prezzo: 26710.71 €<br>Variazione giornaliera: 0.35%<br>Timestamp riferimento discesa: 2021-07-04 00:00:00<br>Prezzo riferimento discesa: 29764.08<br>Variazione rispetto riferimento discesa: -10.26%<br>Timestamp riferimento salita: 2021-07-16 00:00:00<br>Prezzo riferimento salita: 26616.24<br>Variazione rispetto riferimento salita: 0.35%",
          "Timestamp: 2021-07-18 00:00:00<br>Prezzo: 26917.81 €<br>Variazione giornaliera: 0.78%<br>Timestamp riferimento discesa: 2021-07-04 00:00:00<br>Prezzo riferimento discesa: 29764.08<br>Variazione rispetto riferimento discesa: -9.56%<br>Timestamp riferimento salita: 2021-07-16 00:00:00<br>Prezzo riferimento salita: 26616.24<br>Variazione rispetto riferimento salita: 1.13%",
          "Timestamp: 2021-07-19 00:00:00<br>Prezzo: 26134.54 €<br>Variazione giornaliera: -2.91%<br>Timestamp riferimento discesa: 2021-07-04 00:00:00<br>Prezzo riferimento discesa: 29764.08<br>Variazione rispetto riferimento discesa: -12.19%<br>Timestamp riferimento salita: 2021-07-16 00:00:00<br>Prezzo riferimento salita: 26616.24<br>Variazione rispetto riferimento salita: -1.81%",
          "Timestamp: 2021-07-20 00:00:00<br>Prezzo: 25299.85 €<br>Variazione giornaliera: -3.19%<br>Timestamp riferimento discesa: 2021-07-04 00:00:00<br>Prezzo riferimento discesa: 29764.08<br>Variazione rispetto riferimento discesa: -15.0%<br>Timestamp riferimento salita: NaT<br>Prezzo riferimento salita: nan<br>Variazione rispetto riferimento salita: None",
          "Timestamp: 2021-07-21 00:00:00<br>Prezzo: 27227.46 €<br>Variazione giornaliera: 7.62%<br>Timestamp riferimento discesa: NaT<br>Prezzo riferimento discesa: nan<br>Variazione rispetto riferimento discesa: None<br>Timestamp riferimento salita: 2021-07-20 00:00:00<br>Prezzo riferimento salita: 25299.85<br>Variazione rispetto riferimento salita: 7.62%",
          "Timestamp: 2021-07-22 00:00:00<br>Prezzo: 27447.95 €<br>Variazione giornaliera: 0.81%<br>Timestamp riferimento discesa: NaT<br>Prezzo riferimento discesa: nan<br>Variazione rispetto riferimento discesa: None<br>Timestamp riferimento salita: 2021-07-20 00:00:00<br>Prezzo riferimento salita: 25299.85<br>Variazione rispetto riferimento salita: 8.49%",
          "Timestamp: 2021-07-23 00:00:00<br>Prezzo: 28527.83 €<br>Variazione giornaliera: 3.93%<br>Timestamp riferimento discesa: NaT<br>Prezzo riferimento discesa: nan<br>Variazione rispetto riferimento discesa: None<br>Timestamp riferimento salita: 2021-07-20 00:00:00<br>Prezzo riferimento salita: 25299.85<br>Variazione rispetto riferimento salita: 12.76%",
          "Timestamp: 2021-07-24 00:00:00<br>Prezzo: 29132.26 €<br>Variazione giornaliera: 2.12%<br>Timestamp riferimento discesa: NaT<br>Prezzo riferimento discesa: nan<br>Variazione rispetto riferimento discesa: None<br>Timestamp riferimento salita: 2021-07-20 00:00:00<br>Prezzo riferimento salita: 25299.85<br>Variazione rispetto riferimento salita: 15.15%",
          "Timestamp: 2021-07-25 00:00:00<br>Prezzo: 30026.52 €<br>Variazione giornaliera: 3.07%<br>Timestamp riferimento discesa: NaT<br>Prezzo riferimento discesa: nan<br>Variazione rispetto riferimento discesa: None<br>Timestamp riferimento salita: 2021-07-20 00:00:00<br>Prezzo riferimento salita: 25299.85<br>Variazione rispetto riferimento salita: 18.68%",
          "Timestamp: 2021-07-26 00:00:00<br>Prezzo: 31628.85 €<br>Variazione giornaliera: 5.34%<br>Timestamp riferimento discesa: NaT<br>Prezzo riferimento discesa: nan<br>Variazione rispetto riferimento discesa: None<br>Timestamp riferimento salita: 2021-07-20 00:00:00<br>Prezzo riferimento salita: 25299.85<br>Variazione rispetto riferimento salita: 25.02%",
          "Timestamp: 2021-07-27 00:00:00<br>Prezzo: 33336.07 €<br>Variazione giornaliera: 5.4%<br>Timestamp riferimento discesa: NaT<br>Prezzo riferimento discesa: nan<br>Variazione rispetto riferimento discesa: None<br>Timestamp riferimento salita: 2021-07-20 00:00:00<br>Prezzo riferimento salita: 25299.85<br>Variazione rispetto riferimento salita: 31.76%",
          "Timestamp: 2021-07-28 00:00:00<br>Prezzo: 33764.22 €<br>Variazione giornaliera: 1.28%<br>Timestamp riferimento discesa: NaT<br>Prezzo riferimento discesa: nan<br>Variazione rispetto riferimento discesa: None<br>Timestamp riferimento salita: 2021-07-20 00:00:00<br>Prezzo riferimento salita: 25299.85<br>Variazione rispetto riferimento salita: 33.46%",
          "Timestamp: 2021-07-29 00:00:00<br>Prezzo: 33643.08 €<br>Variazione giornaliera: -0.36%<br>Timestamp riferimento discesa: 2021-07-28 00:00:00<br>Prezzo riferimento discesa: 33764.22<br>Variazione rispetto riferimento discesa: -0.36%<br>Timestamp riferimento salita: 2021-07-20 00:00:00<br>Prezzo riferimento salita: 25299.85<br>Variazione rispetto riferimento salita: 32.98%",
          "Timestamp: 2021-07-30 00:00:00<br>Prezzo: 35590.08 €<br>Variazione giornaliera: 5.79%<br>Timestamp riferimento discesa: NaT<br>Prezzo riferimento discesa: nan<br>Variazione rispetto riferimento discesa: None<br>Timestamp riferimento salita: 2021-07-20 00:00:00<br>Prezzo riferimento salita: 25299.85<br>Variazione rispetto riferimento salita: 40.67%",
          "Timestamp: 2021-07-31 00:00:00<br>Prezzo: 35077.27 €<br>Variazione giornaliera: -1.44%<br>Timestamp riferimento discesa: 2021-07-30 00:00:00<br>Prezzo riferimento discesa: 35590.08<br>Variazione rispetto riferimento discesa: -1.44%<br>Timestamp riferimento salita: 2021-07-20 00:00:00<br>Prezzo riferimento salita: 25299.85<br>Variazione rispetto riferimento salita: 38.65%"
         ],
         "type": "scatter",
         "x": [
          "2021-05-02T00:00:00",
          "2021-05-03T00:00:00",
          "2021-05-04T00:00:00",
          "2021-05-05T00:00:00",
          "2021-05-06T00:00:00",
          "2021-05-07T00:00:00",
          "2021-05-08T00:00:00",
          "2021-05-09T00:00:00",
          "2021-05-10T00:00:00",
          "2021-05-11T00:00:00",
          "2021-05-12T00:00:00",
          "2021-05-13T00:00:00",
          "2021-05-14T00:00:00",
          "2021-05-15T00:00:00",
          "2021-05-16T00:00:00",
          "2021-05-17T00:00:00",
          "2021-05-18T00:00:00",
          "2021-05-19T00:00:00",
          "2021-05-20T00:00:00",
          "2021-05-21T00:00:00",
          "2021-05-22T00:00:00",
          "2021-05-23T00:00:00",
          "2021-05-24T00:00:00",
          "2021-05-25T00:00:00",
          "2021-05-26T00:00:00",
          "2021-05-27T00:00:00",
          "2021-05-28T00:00:00",
          "2021-05-29T00:00:00",
          "2021-05-30T00:00:00",
          "2021-05-31T00:00:00",
          "2021-06-01T00:00:00",
          "2021-06-02T00:00:00",
          "2021-06-03T00:00:00",
          "2021-06-04T00:00:00",
          "2021-06-05T00:00:00",
          "2021-06-06T00:00:00",
          "2021-06-07T00:00:00",
          "2021-06-08T00:00:00",
          "2021-06-09T00:00:00",
          "2021-06-10T00:00:00",
          "2021-06-11T00:00:00",
          "2021-06-12T00:00:00",
          "2021-06-13T00:00:00",
          "2021-06-14T00:00:00",
          "2021-06-15T00:00:00",
          "2021-06-16T00:00:00",
          "2021-06-17T00:00:00",
          "2021-06-18T00:00:00",
          "2021-06-19T00:00:00",
          "2021-06-20T00:00:00",
          "2021-06-21T00:00:00",
          "2021-06-22T00:00:00",
          "2021-06-23T00:00:00",
          "2021-06-24T00:00:00",
          "2021-06-25T00:00:00",
          "2021-06-26T00:00:00",
          "2021-06-27T00:00:00",
          "2021-06-28T00:00:00",
          "2021-06-29T00:00:00",
          "2021-06-30T00:00:00",
          "2021-07-01T00:00:00",
          "2021-07-02T00:00:00",
          "2021-07-03T00:00:00",
          "2021-07-04T00:00:00",
          "2021-07-05T00:00:00",
          "2021-07-06T00:00:00",
          "2021-07-07T00:00:00",
          "2021-07-08T00:00:00",
          "2021-07-09T00:00:00",
          "2021-07-10T00:00:00",
          "2021-07-11T00:00:00",
          "2021-07-12T00:00:00",
          "2021-07-13T00:00:00",
          "2021-07-14T00:00:00",
          "2021-07-15T00:00:00",
          "2021-07-16T00:00:00",
          "2021-07-17T00:00:00",
          "2021-07-18T00:00:00",
          "2021-07-19T00:00:00",
          "2021-07-20T00:00:00",
          "2021-07-21T00:00:00",
          "2021-07-22T00:00:00",
          "2021-07-23T00:00:00",
          "2021-07-24T00:00:00",
          "2021-07-25T00:00:00",
          "2021-07-26T00:00:00",
          "2021-07-27T00:00:00",
          "2021-07-28T00:00:00",
          "2021-07-29T00:00:00",
          "2021-07-30T00:00:00",
          "2021-07-31T00:00:00"
         ],
         "y": [
          47088.5703125,
          47432.76953125,
          44387.26171875,
          47823.05859375,
          46742.55859375,
          47155.5078125,
          48345.46484375,
          47846.5234375,
          46010.484375,
          46692.53125,
          40695.51171875,
          41166.6953125,
          41072.77734375,
          38498.73828125,
          38235.890625,
          35814.0859375,
          35106.796875,
          30403.203125,
          33359.13671875,
          30627.822265625,
          30818.25,
          28545.537109375,
          31689.203125,
          31356.951171875,
          32229.533203125,
          31524.041015625,
          29278.3203125,
          28391.1640625,
          29269.517578125,
          30519.30859375,
          30026.794921875,
          30775.01171875,
          32321.55078125,
          30322.69921875,
          29221.080078125,
          29474.392578125,
          27526.4921875,
          27497.93359375,
          30664.52734375,
          30150.48828125,
          30832.0546875,
          29360.513671875,
          32286.505859375,
          33178.515625,
          33325.59375,
          31969.333984375,
          31943.0625,
          30165.85546875,
          30019.2265625,
          30071.78125,
          26591.064453125,
          27232.396484375,
          28266.576171875,
          29059.703125,
          26502.841796875,
          26965.501953125,
          29013.7421875,
          28866.302734375,
          30139.98046875,
          29555.0546875,
          28341.4140625,
          28569.314453125,
          29219.5546875,
          29764.078125,
          28444.033203125,
          28957.701171875,
          28707.89453125,
          27752.7109375,
          28454.8828125,
          28223.0703125,
          28840.88671875,
          27948.556640625,
          27772.1953125,
          27737.478515625,
          26906.45703125,
          26616.2421875,
          26710.71484375,
          26917.8125,
          26134.5390625,
          25299.8515625,
          27227.458984375,
          27447.947265625,
          28527.830078125,
          29132.255859375,
          30026.51953125,
          31628.84765625,
          33336.06640625,
          33764.22265625,
          33643.08203125,
          35590.078125,
          35077.26953125
         ]
        },
        {
         "hoverinfo": "text",
         "marker": {
          "color": "green",
          "opacity": 0.7,
          "size": [
           25.316616344649617,
           39.50077152939293,
           48.593172101157194,
           42.06097272108151,
           26.20643680915802,
           38.561814918332814,
           25.058975375252714,
           30.60037458946755,
           22.241059097910806,
           28.98742548987761,
           39.3651598373948,
           39.54005398181528,
           28.767389030239737,
           29.638297150384314,
           50,
           27.415928858464966,
           23.376101813166937,
           20.248092701813388,
           22.07367822738332,
           23.246525778822924,
           23.477401281074815,
           29.003904871771937,
           30.93390717160926,
           11.789783732952147
          ]
         },
         "mode": "markers",
         "name": "Acquisti",
         "text": [
          "Timestamp: 2021-05-04 00:00:00<br>Prezzo: 44387.26 €<br>Euro usati: 154.76 €<br>Variazione giornaliera: -6.42%<br>Timestamp riferimento discesa: 2021-05-01 00:00:00<br>Prezzo riferimento discesa: 48110.05<br>Variazione rispetto riferimento discesa: -7.74%<br>Timestamp riferimento salita: NaT<br>Prezzo riferimento salita: nan<br>Variazione rispetto riferimento salita: None",
          "Timestamp: 2021-05-12 00:00:00<br>Prezzo: 40695.51 €<br>Euro usati: 298.08 €<br>Variazione giornaliera: -12.84%<br>Timestamp riferimento discesa: 2021-05-05 00:00:00<br>Prezzo riferimento discesa: 47823.06<br>Variazione rispetto riferimento discesa: -14.9%<br>Timestamp riferimento salita: NaT<br>Prezzo riferimento salita: nan<br>Variazione rispetto riferimento salita: None",
          "Timestamp: 2021-05-15 00:00:00<br>Prezzo: 38498.74 €<br>Euro usati: 389.95 €<br>Variazione giornaliera: -6.27%<br>Timestamp riferimento discesa: 2021-05-05 00:00:00<br>Prezzo riferimento discesa: 47823.06<br>Variazione rispetto riferimento discesa: -19.5%<br>Timestamp riferimento salita: NaT<br>Prezzo riferimento salita: nan<br>Variazione rispetto riferimento salita: None",
          "Timestamp: 2021-05-16 00:00:00<br>Prezzo: 38235.89 €<br>Euro usati: 323.95 €<br>Variazione giornaliera: -0.68%<br>Timestamp riferimento discesa: 2021-05-05 00:00:00<br>Prezzo riferimento discesa: 47823.06<br>Variazione rispetto riferimento discesa: -20.05%<br>Timestamp riferimento salita: NaT<br>Prezzo riferimento salita: nan<br>Variazione rispetto riferimento salita: None",
          "Timestamp: 2021-05-21 00:00:00<br>Prezzo: 30627.82 €<br>Euro usati: 163.75 €<br>Variazione giornaliera: -8.19%<br>Timestamp riferimento discesa: 2021-05-20 00:00:00<br>Prezzo riferimento discesa: 33359.14<br>Variazione rispetto riferimento discesa: -8.19%<br>Timestamp riferimento salita: NaT<br>Prezzo riferimento salita: nan<br>Variazione rispetto riferimento salita: None",
          "Timestamp: 2021-05-23 00:00:00<br>Prezzo: 28545.54 €<br>Euro usati: 288.59 €<br>Variazione giornaliera: -7.37%<br>Timestamp riferimento discesa: 2021-05-20 00:00:00<br>Prezzo riferimento discesa: 33359.14<br>Variazione rispetto riferimento discesa: -14.43%<br>Timestamp riferimento salita: NaT<br>Prezzo riferimento salita: nan<br>Variazione rispetto riferimento salita: None",
          "Timestamp: 2021-05-28 00:00:00<br>Prezzo: 29278.32 €<br>Euro usati: 152.16 €<br>Variazione giornaliera: -7.12%<br>Timestamp riferimento discesa: 2021-05-24 00:00:00<br>Prezzo riferimento discesa: 31689.20<br>Variazione rispetto riferimento discesa: -7.61%<br>Timestamp riferimento salita: NaT<br>Prezzo riferimento salita: nan<br>Variazione rispetto riferimento salita: None",
          "Timestamp: 2021-05-29 00:00:00<br>Prezzo: 28391.16 €<br>Euro usati: 208.15 €<br>Variazione giornaliera: -3.03%<br>Timestamp riferimento discesa: 2021-05-24 00:00:00<br>Prezzo riferimento discesa: 31689.20<br>Variazione rispetto riferimento discesa: -10.41%<br>Timestamp riferimento salita: NaT<br>Prezzo riferimento salita: nan<br>Variazione rispetto riferimento salita: None",
          "Timestamp: 2021-06-04 00:00:00<br>Prezzo: 30322.70 €<br>Euro usati: 123.69 €<br>Variazione giornaliera: -6.18%<br>Timestamp riferimento discesa: 2021-06-03 00:00:00<br>Prezzo riferimento discesa: 32321.55<br>Variazione rispetto riferimento discesa: -6.18%<br>Timestamp riferimento salita: NaT<br>Prezzo riferimento salita: nan<br>Variazione rispetto riferimento salita: None",
          "Timestamp: 2021-06-05 00:00:00<br>Prezzo: 29221.08 €<br>Euro usati: 191.85 €<br>Variazione giornaliera: -3.63%<br>Timestamp riferimento discesa: 2021-06-03 00:00:00<br>Prezzo riferimento discesa: 32321.55<br>Variazione rispetto riferimento discesa: -9.59%<br>Timestamp riferimento salita: NaT<br>Prezzo riferimento salita: nan<br>Variazione rispetto riferimento salita: None",
          "Timestamp: 2021-06-07 00:00:00<br>Prezzo: 27526.49 €<br>Euro usati: 296.71 €<br>Variazione giornaliera: -6.61%<br>Timestamp riferimento discesa: 2021-06-03 00:00:00<br>Prezzo riferimento discesa: 32321.55<br>Variazione rispetto riferimento discesa: -14.84%<br>Timestamp riferimento salita: NaT<br>Prezzo riferimento salita: nan<br>Variazione rispetto riferimento salita: None",
          "Timestamp: 2021-06-08 00:00:00<br>Prezzo: 27497.93 €<br>Euro usati: 298.48 €<br>Variazione giornaliera: -0.1%<br>Timestamp riferimento discesa: 2021-06-03 00:00:00<br>Prezzo riferimento discesa: 32321.55<br>Variazione rispetto riferimento discesa: -14.92%<br>Timestamp riferimento salita: NaT<br>Prezzo riferimento salita: nan<br>Variazione rispetto riferimento salita: None",
          "Timestamp: 2021-06-18 00:00:00<br>Prezzo: 30165.86 €<br>Euro usati: 189.63 €<br>Variazione giornaliera: -5.56%<br>Timestamp riferimento discesa: 2021-06-15 00:00:00<br>Prezzo riferimento discesa: 33325.59<br>Variazione rispetto riferimento discesa: -9.48%<br>Timestamp riferimento salita: NaT<br>Prezzo riferimento salita: nan<br>Variazione rispetto riferimento salita: None",
          "Timestamp: 2021-06-19 00:00:00<br>Prezzo: 30019.23 €<br>Euro usati: 198.43 €<br>Variazione giornaliera: -0.49%<br>Timestamp riferimento discesa: 2021-06-15 00:00:00<br>Prezzo riferimento discesa: 33325.59<br>Variazione rispetto riferimento discesa: -9.92%<br>Timestamp riferimento salita: NaT<br>Prezzo riferimento salita: nan<br>Variazione rispetto riferimento salita: None",
          "Timestamp: 2021-06-21 00:00:00<br>Prezzo: 26591.06 €<br>Euro usati: 404.17 €<br>Variazione giornaliera: -11.57%<br>Timestamp riferimento discesa: 2021-06-15 00:00:00<br>Prezzo riferimento discesa: 33325.59<br>Variazione rispetto riferimento discesa: -20.21%<br>Timestamp riferimento salita: NaT<br>Prezzo riferimento salita: nan<br>Variazione rispetto riferimento salita: None",
          "Timestamp: 2021-06-25 00:00:00<br>Prezzo: 26502.84 €<br>Euro usati: 175.97 €<br>Variazione giornaliera: -8.8%<br>Timestamp riferimento discesa: 2021-06-24 00:00:00<br>Prezzo riferimento discesa: 29059.70<br>Variazione rispetto riferimento discesa: -8.8%<br>Timestamp riferimento salita: NaT<br>Prezzo riferimento salita: nan<br>Variazione rispetto riferimento salita: None",
          "Timestamp: 2021-07-08 00:00:00<br>Prezzo: 27752.71 €<br>Euro usati: 135.15 €<br>Variazione giornaliera: -3.33%<br>Timestamp riferimento discesa: 2021-07-04 00:00:00<br>Prezzo riferimento discesa: 29764.08<br>Variazione rispetto riferimento discesa: -6.76%<br>Timestamp riferimento salita: 2021-07-01 00:00:00<br>Prezzo riferimento salita: 28341.41<br>Variazione rispetto riferimento salita: -2.08%",
          "Timestamp: 2021-07-10 00:00:00<br>Prezzo: 28223.07 €<br>Euro usati: 103.55 €<br>Variazione giornaliera: -0.81%<br>Timestamp riferimento discesa: 2021-07-04 00:00:00<br>Prezzo riferimento discesa: 29764.08<br>Variazione rispetto riferimento discesa: -5.18%<br>Timestamp riferimento salita: 2021-07-01 00:00:00<br>Prezzo riferimento salita: 28341.41<br>Variazione rispetto riferimento salita: -0.42%",
          "Timestamp: 2021-07-12 00:00:00<br>Prezzo: 27948.56 €<br>Euro usati: 121.99 €<br>Variazione giornaliera: -3.09%<br>Timestamp riferimento discesa: 2021-07-04 00:00:00<br>Prezzo riferimento discesa: 29764.08<br>Variazione rispetto riferimento discesa: -6.1%<br>Timestamp riferimento salita: 2021-07-01 00:00:00<br>Prezzo riferimento salita: 28341.41<br>Variazione rispetto riferimento salita: -1.39%",
          "Timestamp: 2021-07-13 00:00:00<br>Prezzo: 27772.20 €<br>Euro usati: 133.84 €<br>Variazione giornaliera: -0.63%<br>Timestamp riferimento discesa: 2021-07-04 00:00:00<br>Prezzo riferimento discesa: 29764.08<br>Variazione rispetto riferimento discesa: -6.69%<br>Timestamp riferimento salita: 2021-07-01 00:00:00<br>Prezzo riferimento salita: 28341.41<br>Variazione rispetto riferimento salita: -2.01%",
          "Timestamp: 2021-07-14 00:00:00<br>Prezzo: 27737.48 €<br>Euro usati: 136.18 €<br>Variazione giornaliera: -0.13%<br>Timestamp riferimento discesa: 2021-07-04 00:00:00<br>Prezzo riferimento discesa: 29764.08<br>Variazione rispetto riferimento discesa: -6.81%<br>Timestamp riferimento salita: 2021-07-01 00:00:00<br>Prezzo riferimento salita: 28341.41<br>Variazione rispetto riferimento salita: -2.13%",
          "Timestamp: 2021-07-15 00:00:00<br>Prezzo: 26906.46 €<br>Euro usati: 192.02 €<br>Variazione giornaliera: -3.0%<br>Timestamp riferimento discesa: 2021-07-04 00:00:00<br>Prezzo riferimento discesa: 29764.08<br>Variazione rispetto riferimento discesa: -9.6%<br>Timestamp riferimento salita: NaT<br>Prezzo riferimento salita: nan<br>Variazione rispetto riferimento salita: None",
          "Timestamp: 2021-07-16 00:00:00<br>Prezzo: 26616.24 €<br>Euro usati: 211.52 €<br>Variazione giornaliera: -1.08%<br>Timestamp riferimento discesa: 2021-07-04 00:00:00<br>Prezzo riferimento discesa: 29764.08<br>Variazione rispetto riferimento discesa: -10.58%<br>Timestamp riferimento salita: NaT<br>Prezzo riferimento salita: nan<br>Variazione rispetto riferimento salita: None",
          "Timestamp: 2021-07-20 00:00:00<br>Prezzo: 25299.85 €<br>Euro usati: 18.08 €<br>Variazione giornaliera: -3.19%<br>Timestamp riferimento discesa: 2021-07-04 00:00:00<br>Prezzo riferimento discesa: 29764.08<br>Variazione rispetto riferimento discesa: -15.0%<br>Timestamp riferimento salita: NaT<br>Prezzo riferimento salita: nan<br>Variazione rispetto riferimento salita: None"
         ],
         "type": "scatter",
         "x": [
          "2021-05-04T00:00:00",
          "2021-05-12T00:00:00",
          "2021-05-15T00:00:00",
          "2021-05-16T00:00:00",
          "2021-05-21T00:00:00",
          "2021-05-23T00:00:00",
          "2021-05-28T00:00:00",
          "2021-05-29T00:00:00",
          "2021-06-04T00:00:00",
          "2021-06-05T00:00:00",
          "2021-06-07T00:00:00",
          "2021-06-08T00:00:00",
          "2021-06-18T00:00:00",
          "2021-06-19T00:00:00",
          "2021-06-21T00:00:00",
          "2021-06-25T00:00:00",
          "2021-07-08T00:00:00",
          "2021-07-10T00:00:00",
          "2021-07-12T00:00:00",
          "2021-07-13T00:00:00",
          "2021-07-14T00:00:00",
          "2021-07-15T00:00:00",
          "2021-07-16T00:00:00",
          "2021-07-20T00:00:00"
         ],
         "y": [
          44387.26171875,
          40695.51171875,
          38498.73828125,
          38235.890625,
          30627.822265625,
          28545.537109375,
          29278.3203125,
          28391.1640625,
          30322.69921875,
          29221.080078125,
          27526.4921875,
          27497.93359375,
          30165.85546875,
          30019.2265625,
          26591.064453125,
          26502.841796875,
          27752.7109375,
          28223.0703125,
          27948.556640625,
          27772.1953125,
          27737.478515625,
          26906.45703125,
          26616.2421875,
          25299.8515625
         ]
        },
        {
         "hoverinfo": "text",
         "marker": {
          "color": "red",
          "opacity": 0.7,
          "size": [
           22.98106572679776,
           46.73851183573862,
           49.53128433477267,
           35.91337832253566,
           42.29578400135282,
           50,
           49.01726867849256,
           30.1751317322451,
           40.55937047590294,
           37.2397698585512,
           33.498446631521276,
           36.39836010559169,
           43.29549048311026
          ]
         },
         "mode": "markers",
         "name": "Vendite",
         "text": [
          "Timestamp: 2021-05-05 00:00:00<br>Prezzo: 47823.06 €<br>Euro usati: 166.74 €<br>Variazione giornaliera: 7.74%<br>Timestamp riferimento discesa: NaT<br>Prezzo riferimento discesa: nan<br>Variazione rispetto riferimento discesa: None<br>Timestamp riferimento salita: 2021-05-04 00:00:00<br>Prezzo riferimento salita: 44387.26<br>Variazione rispetto riferimento salita: 7.74%",
          "Timestamp: 2021-05-20 00:00:00<br>Prezzo: 33359.14 €<br>Euro usati: 471.90 €<br>Variazione giornaliera: 9.72%<br>Timestamp riferimento discesa: NaT<br>Prezzo riferimento discesa: nan<br>Variazione rispetto riferimento discesa: None<br>Timestamp riferimento salita: 2021-05-19 00:00:00<br>Prezzo riferimento salita: 30403.20<br>Variazione rispetto riferimento salita: 9.72%",
          "Timestamp: 2021-05-24 00:00:00<br>Prezzo: 31689.20 €<br>Euro usati: 507.78 €<br>Variazione giornaliera: 11.01%<br>Timestamp riferimento discesa: NaT<br>Prezzo riferimento discesa: nan<br>Variazione rispetto riferimento discesa: None<br>Timestamp riferimento salita: 2021-05-23 00:00:00<br>Prezzo riferimento salita: 28545.54<br>Variazione rispetto riferimento salita: 11.01%",
          "Timestamp: 2021-05-31 00:00:00<br>Prezzo: 30519.31 €<br>Euro usati: 332.85 €<br>Variazione giornaliera: 4.27%<br>Timestamp riferimento discesa: NaT<br>Prezzo riferimento discesa: nan<br>Variazione rispetto riferimento discesa: None<br>Timestamp riferimento salita: 2021-05-29 00:00:00<br>Prezzo riferimento salita: 28391.16<br>Variazione rispetto riferimento salita: 7.5%",
          "Timestamp: 2021-06-03 00:00:00<br>Prezzo: 32321.55 €<br>Euro usati: 414.84 €<br>Variazione giornaliera: 5.03%<br>Timestamp riferimento discesa: NaT<br>Prezzo riferimento discesa: nan<br>Variazione rispetto riferimento discesa: None<br>Timestamp riferimento salita: 2021-05-29 00:00:00<br>Prezzo riferimento salita: 28391.16<br>Variazione rispetto riferimento salita: 13.84%",
          "Timestamp: 2021-06-09 00:00:00<br>Prezzo: 30664.53 €<br>Euro usati: 513.80 €<br>Variazione giornaliera: 11.52%<br>Timestamp riferimento discesa: NaT<br>Prezzo riferimento discesa: nan<br>Variazione rispetto riferimento discesa: None<br>Timestamp riferimento salita: 2021-06-08 00:00:00<br>Prezzo riferimento salita: 27497.93<br>Variazione rispetto riferimento salita: 11.52%",
          "Timestamp: 2021-06-13 00:00:00<br>Prezzo: 32286.51 €<br>Euro usati: 501.17 €<br>Variazione giornaliera: 9.97%<br>Timestamp riferimento discesa: NaT<br>Prezzo riferimento discesa: nan<br>Variazione rispetto riferimento discesa: None<br>Timestamp riferimento salita: 2021-06-08 00:00:00<br>Prezzo riferimento salita: 27497.93<br>Variazione rispetto riferimento salita: 17.41%",
          "Timestamp: 2021-06-23 00:00:00<br>Prezzo: 28266.58 €<br>Euro usati: 259.15 €<br>Variazione giornaliera: 3.8%<br>Timestamp riferimento discesa: NaT<br>Prezzo riferimento discesa: nan<br>Variazione rispetto riferimento discesa: None<br>Timestamp riferimento salita: 2021-06-21 00:00:00<br>Prezzo riferimento salita: 26591.06<br>Variazione rispetto riferimento salita: 6.3%",
          "Timestamp: 2021-06-24 00:00:00<br>Prezzo: 29059.70 €<br>Euro usati: 392.53 €<br>Variazione giornaliera: 2.81%<br>Timestamp riferimento discesa: NaT<br>Prezzo riferimento discesa: nan<br>Variazione rispetto riferimento discesa: None<br>Timestamp riferimento salita: 2021-06-21 00:00:00<br>Prezzo riferimento salita: 26591.06<br>Variazione rispetto riferimento salita: 9.28%",
          "Timestamp: 2021-06-27 00:00:00<br>Prezzo: 29013.74 €<br>Euro usati: 349.89 €<br>Variazione giornaliera: 7.6%<br>Timestamp riferimento discesa: NaT<br>Prezzo riferimento discesa: nan<br>Variazione rispetto riferimento discesa: None<br>Timestamp riferimento salita: 2021-06-25 00:00:00<br>Prezzo riferimento salita: 26502.84<br>Variazione rispetto riferimento salita: 9.47%",
          "Timestamp: 2021-07-21 00:00:00<br>Prezzo: 27227.46 €<br>Euro usati: 301.84 €<br>Variazione giornaliera: 7.62%<br>Timestamp riferimento discesa: NaT<br>Prezzo riferimento discesa: nan<br>Variazione rispetto riferimento discesa: None<br>Timestamp riferimento salita: 2021-07-20 00:00:00<br>Prezzo riferimento salita: 25299.85<br>Variazione rispetto riferimento salita: 7.62%",
          "Timestamp: 2021-07-22 00:00:00<br>Prezzo: 27447.95 €<br>Euro usati: 339.08 €<br>Variazione giornaliera: 0.81%<br>Timestamp riferimento discesa: NaT<br>Prezzo riferimento discesa: nan<br>Variazione rispetto riferimento discesa: None<br>Timestamp riferimento salita: 2021-07-20 00:00:00<br>Prezzo riferimento salita: 25299.85<br>Variazione rispetto riferimento salita: 8.49%",
          "Timestamp: 2021-07-23 00:00:00<br>Prezzo: 28527.83 €<br>Euro usati: 427.68 €<br>Variazione giornaliera: 3.93%<br>Timestamp riferimento discesa: NaT<br>Prezzo riferimento discesa: nan<br>Variazione rispetto riferimento discesa: None<br>Timestamp riferimento salita: 2021-07-20 00:00:00<br>Prezzo riferimento salita: 25299.85<br>Variazione rispetto riferimento salita: 12.76%"
         ],
         "type": "scatter",
         "x": [
          "2021-05-05T00:00:00",
          "2021-05-20T00:00:00",
          "2021-05-24T00:00:00",
          "2021-05-31T00:00:00",
          "2021-06-03T00:00:00",
          "2021-06-09T00:00:00",
          "2021-06-13T00:00:00",
          "2021-06-23T00:00:00",
          "2021-06-24T00:00:00",
          "2021-06-27T00:00:00",
          "2021-07-21T00:00:00",
          "2021-07-22T00:00:00",
          "2021-07-23T00:00:00"
         ],
         "y": [
          47823.05859375,
          33359.13671875,
          31689.203125,
          30519.30859375,
          32321.55078125,
          30664.52734375,
          32286.505859375,
          28266.576171875,
          29059.703125,
          29013.7421875,
          27227.458984375,
          27447.947265625,
          28527.830078125
         ]
        }
       ],
       "layout": {
        "height": 1120,
        "hovermode": "closest",
        "legend": {
         "x": 0.01,
         "xanchor": "left",
         "y": 0.99,
         "yanchor": "top"
        },
        "template": {
         "data": {
          "bar": [
           {
            "error_x": {
             "color": "#2a3f5f"
            },
            "error_y": {
             "color": "#2a3f5f"
            },
            "marker": {
             "line": {
              "color": "white",
              "width": 0.5
             },
             "pattern": {
              "fillmode": "overlay",
              "size": 10,
              "solidity": 0.2
             }
            },
            "type": "bar"
           }
          ],
          "barpolar": [
           {
            "marker": {
             "line": {
              "color": "white",
              "width": 0.5
             },
             "pattern": {
              "fillmode": "overlay",
              "size": 10,
              "solidity": 0.2
             }
            },
            "type": "barpolar"
           }
          ],
          "carpet": [
           {
            "aaxis": {
             "endlinecolor": "#2a3f5f",
             "gridcolor": "#C8D4E3",
             "linecolor": "#C8D4E3",
             "minorgridcolor": "#C8D4E3",
             "startlinecolor": "#2a3f5f"
            },
            "baxis": {
             "endlinecolor": "#2a3f5f",
             "gridcolor": "#C8D4E3",
             "linecolor": "#C8D4E3",
             "minorgridcolor": "#C8D4E3",
             "startlinecolor": "#2a3f5f"
            },
            "type": "carpet"
           }
          ],
          "choropleth": [
           {
            "colorbar": {
             "outlinewidth": 0,
             "ticks": ""
            },
            "type": "choropleth"
           }
          ],
          "contour": [
           {
            "colorbar": {
             "outlinewidth": 0,
             "ticks": ""
            },
            "colorscale": [
             [
              0,
              "#0d0887"
             ],
             [
              0.1111111111111111,
              "#46039f"
             ],
             [
              0.2222222222222222,
              "#7201a8"
             ],
             [
              0.3333333333333333,
              "#9c179e"
             ],
             [
              0.4444444444444444,
              "#bd3786"
             ],
             [
              0.5555555555555556,
              "#d8576b"
             ],
             [
              0.6666666666666666,
              "#ed7953"
             ],
             [
              0.7777777777777778,
              "#fb9f3a"
             ],
             [
              0.8888888888888888,
              "#fdca26"
             ],
             [
              1,
              "#f0f921"
             ]
            ],
            "type": "contour"
           }
          ],
          "contourcarpet": [
           {
            "colorbar": {
             "outlinewidth": 0,
             "ticks": ""
            },
            "type": "contourcarpet"
           }
          ],
          "heatmap": [
           {
            "colorbar": {
             "outlinewidth": 0,
             "ticks": ""
            },
            "colorscale": [
             [
              0,
              "#0d0887"
             ],
             [
              0.1111111111111111,
              "#46039f"
             ],
             [
              0.2222222222222222,
              "#7201a8"
             ],
             [
              0.3333333333333333,
              "#9c179e"
             ],
             [
              0.4444444444444444,
              "#bd3786"
             ],
             [
              0.5555555555555556,
              "#d8576b"
             ],
             [
              0.6666666666666666,
              "#ed7953"
             ],
             [
              0.7777777777777778,
              "#fb9f3a"
             ],
             [
              0.8888888888888888,
              "#fdca26"
             ],
             [
              1,
              "#f0f921"
             ]
            ],
            "type": "heatmap"
           }
          ],
          "heatmapgl": [
           {
            "colorbar": {
             "outlinewidth": 0,
             "ticks": ""
            },
            "colorscale": [
             [
              0,
              "#0d0887"
             ],
             [
              0.1111111111111111,
              "#46039f"
             ],
             [
              0.2222222222222222,
              "#7201a8"
             ],
             [
              0.3333333333333333,
              "#9c179e"
             ],
             [
              0.4444444444444444,
              "#bd3786"
             ],
             [
              0.5555555555555556,
              "#d8576b"
             ],
             [
              0.6666666666666666,
              "#ed7953"
             ],
             [
              0.7777777777777778,
              "#fb9f3a"
             ],
             [
              0.8888888888888888,
              "#fdca26"
             ],
             [
              1,
              "#f0f921"
             ]
            ],
            "type": "heatmapgl"
           }
          ],
          "histogram": [
           {
            "marker": {
             "pattern": {
              "fillmode": "overlay",
              "size": 10,
              "solidity": 0.2
             }
            },
            "type": "histogram"
           }
          ],
          "histogram2d": [
           {
            "colorbar": {
             "outlinewidth": 0,
             "ticks": ""
            },
            "colorscale": [
             [
              0,
              "#0d0887"
             ],
             [
              0.1111111111111111,
              "#46039f"
             ],
             [
              0.2222222222222222,
              "#7201a8"
             ],
             [
              0.3333333333333333,
              "#9c179e"
             ],
             [
              0.4444444444444444,
              "#bd3786"
             ],
             [
              0.5555555555555556,
              "#d8576b"
             ],
             [
              0.6666666666666666,
              "#ed7953"
             ],
             [
              0.7777777777777778,
              "#fb9f3a"
             ],
             [
              0.8888888888888888,
              "#fdca26"
             ],
             [
              1,
              "#f0f921"
             ]
            ],
            "type": "histogram2d"
           }
          ],
          "histogram2dcontour": [
           {
            "colorbar": {
             "outlinewidth": 0,
             "ticks": ""
            },
            "colorscale": [
             [
              0,
              "#0d0887"
             ],
             [
              0.1111111111111111,
              "#46039f"
             ],
             [
              0.2222222222222222,
              "#7201a8"
             ],
             [
              0.3333333333333333,
              "#9c179e"
             ],
             [
              0.4444444444444444,
              "#bd3786"
             ],
             [
              0.5555555555555556,
              "#d8576b"
             ],
             [
              0.6666666666666666,
              "#ed7953"
             ],
             [
              0.7777777777777778,
              "#fb9f3a"
             ],
             [
              0.8888888888888888,
              "#fdca26"
             ],
             [
              1,
              "#f0f921"
             ]
            ],
            "type": "histogram2dcontour"
           }
          ],
          "mesh3d": [
           {
            "colorbar": {
             "outlinewidth": 0,
             "ticks": ""
            },
            "type": "mesh3d"
           }
          ],
          "parcoords": [
           {
            "line": {
             "colorbar": {
              "outlinewidth": 0,
              "ticks": ""
             }
            },
            "type": "parcoords"
           }
          ],
          "pie": [
           {
            "automargin": true,
            "type": "pie"
           }
          ],
          "scatter": [
           {
            "fillpattern": {
             "fillmode": "overlay",
             "size": 10,
             "solidity": 0.2
            },
            "type": "scatter"
           }
          ],
          "scatter3d": [
           {
            "line": {
             "colorbar": {
              "outlinewidth": 0,
              "ticks": ""
             }
            },
            "marker": {
             "colorbar": {
              "outlinewidth": 0,
              "ticks": ""
             }
            },
            "type": "scatter3d"
           }
          ],
          "scattercarpet": [
           {
            "marker": {
             "colorbar": {
              "outlinewidth": 0,
              "ticks": ""
             }
            },
            "type": "scattercarpet"
           }
          ],
          "scattergeo": [
           {
            "marker": {
             "colorbar": {
              "outlinewidth": 0,
              "ticks": ""
             }
            },
            "type": "scattergeo"
           }
          ],
          "scattergl": [
           {
            "marker": {
             "colorbar": {
              "outlinewidth": 0,
              "ticks": ""
             }
            },
            "type": "scattergl"
           }
          ],
          "scattermapbox": [
           {
            "marker": {
             "colorbar": {
              "outlinewidth": 0,
              "ticks": ""
             }
            },
            "type": "scattermapbox"
           }
          ],
          "scatterpolar": [
           {
            "marker": {
             "colorbar": {
              "outlinewidth": 0,
              "ticks": ""
             }
            },
            "type": "scatterpolar"
           }
          ],
          "scatterpolargl": [
           {
            "marker": {
             "colorbar": {
              "outlinewidth": 0,
              "ticks": ""
             }
            },
            "type": "scatterpolargl"
           }
          ],
          "scatterternary": [
           {
            "marker": {
             "colorbar": {
              "outlinewidth": 0,
              "ticks": ""
             }
            },
            "type": "scatterternary"
           }
          ],
          "surface": [
           {
            "colorbar": {
             "outlinewidth": 0,
             "ticks": ""
            },
            "colorscale": [
             [
              0,
              "#0d0887"
             ],
             [
              0.1111111111111111,
              "#46039f"
             ],
             [
              0.2222222222222222,
              "#7201a8"
             ],
             [
              0.3333333333333333,
              "#9c179e"
             ],
             [
              0.4444444444444444,
              "#bd3786"
             ],
             [
              0.5555555555555556,
              "#d8576b"
             ],
             [
              0.6666666666666666,
              "#ed7953"
             ],
             [
              0.7777777777777778,
              "#fb9f3a"
             ],
             [
              0.8888888888888888,
              "#fdca26"
             ],
             [
              1,
              "#f0f921"
             ]
            ],
            "type": "surface"
           }
          ],
          "table": [
           {
            "cells": {
             "fill": {
              "color": "#EBF0F8"
             },
             "line": {
              "color": "white"
             }
            },
            "header": {
             "fill": {
              "color": "#C8D4E3"
             },
             "line": {
              "color": "white"
             }
            },
            "type": "table"
           }
          ]
         },
         "layout": {
          "annotationdefaults": {
           "arrowcolor": "#2a3f5f",
           "arrowhead": 0,
           "arrowwidth": 1
          },
          "autotypenumbers": "strict",
          "coloraxis": {
           "colorbar": {
            "outlinewidth": 0,
            "ticks": ""
           }
          },
          "colorscale": {
           "diverging": [
            [
             0,
             "#8e0152"
            ],
            [
             0.1,
             "#c51b7d"
            ],
            [
             0.2,
             "#de77ae"
            ],
            [
             0.3,
             "#f1b6da"
            ],
            [
             0.4,
             "#fde0ef"
            ],
            [
             0.5,
             "#f7f7f7"
            ],
            [
             0.6,
             "#e6f5d0"
            ],
            [
             0.7,
             "#b8e186"
            ],
            [
             0.8,
             "#7fbc41"
            ],
            [
             0.9,
             "#4d9221"
            ],
            [
             1,
             "#276419"
            ]
           ],
           "sequential": [
            [
             0,
             "#0d0887"
            ],
            [
             0.1111111111111111,
             "#46039f"
            ],
            [
             0.2222222222222222,
             "#7201a8"
            ],
            [
             0.3333333333333333,
             "#9c179e"
            ],
            [
             0.4444444444444444,
             "#bd3786"
            ],
            [
             0.5555555555555556,
             "#d8576b"
            ],
            [
             0.6666666666666666,
             "#ed7953"
            ],
            [
             0.7777777777777778,
             "#fb9f3a"
            ],
            [
             0.8888888888888888,
             "#fdca26"
            ],
            [
             1,
             "#f0f921"
            ]
           ],
           "sequentialminus": [
            [
             0,
             "#0d0887"
            ],
            [
             0.1111111111111111,
             "#46039f"
            ],
            [
             0.2222222222222222,
             "#7201a8"
            ],
            [
             0.3333333333333333,
             "#9c179e"
            ],
            [
             0.4444444444444444,
             "#bd3786"
            ],
            [
             0.5555555555555556,
             "#d8576b"
            ],
            [
             0.6666666666666666,
             "#ed7953"
            ],
            [
             0.7777777777777778,
             "#fb9f3a"
            ],
            [
             0.8888888888888888,
             "#fdca26"
            ],
            [
             1,
             "#f0f921"
            ]
           ]
          },
          "colorway": [
           "#636efa",
           "#EF553B",
           "#00cc96",
           "#ab63fa",
           "#FFA15A",
           "#19d3f3",
           "#FF6692",
           "#B6E880",
           "#FF97FF",
           "#FECB52"
          ],
          "font": {
           "color": "#2a3f5f"
          },
          "geo": {
           "bgcolor": "white",
           "lakecolor": "white",
           "landcolor": "white",
           "showlakes": true,
           "showland": true,
           "subunitcolor": "#C8D4E3"
          },
          "hoverlabel": {
           "align": "left"
          },
          "hovermode": "closest",
          "mapbox": {
           "style": "light"
          },
          "paper_bgcolor": "white",
          "plot_bgcolor": "white",
          "polar": {
           "angularaxis": {
            "gridcolor": "#EBF0F8",
            "linecolor": "#EBF0F8",
            "ticks": ""
           },
           "bgcolor": "white",
           "radialaxis": {
            "gridcolor": "#EBF0F8",
            "linecolor": "#EBF0F8",
            "ticks": ""
           }
          },
          "scene": {
           "xaxis": {
            "backgroundcolor": "white",
            "gridcolor": "#DFE8F3",
            "gridwidth": 2,
            "linecolor": "#EBF0F8",
            "showbackground": true,
            "ticks": "",
            "zerolinecolor": "#EBF0F8"
           },
           "yaxis": {
            "backgroundcolor": "white",
            "gridcolor": "#DFE8F3",
            "gridwidth": 2,
            "linecolor": "#EBF0F8",
            "showbackground": true,
            "ticks": "",
            "zerolinecolor": "#EBF0F8"
           },
           "zaxis": {
            "backgroundcolor": "white",
            "gridcolor": "#DFE8F3",
            "gridwidth": 2,
            "linecolor": "#EBF0F8",
            "showbackground": true,
            "ticks": "",
            "zerolinecolor": "#EBF0F8"
           }
          },
          "shapedefaults": {
           "line": {
            "color": "#2a3f5f"
           }
          },
          "ternary": {
           "aaxis": {
            "gridcolor": "#DFE8F3",
            "linecolor": "#A2B1C6",
            "ticks": ""
           },
           "baxis": {
            "gridcolor": "#DFE8F3",
            "linecolor": "#A2B1C6",
            "ticks": ""
           },
           "bgcolor": "white",
           "caxis": {
            "gridcolor": "#DFE8F3",
            "linecolor": "#A2B1C6",
            "ticks": ""
           }
          },
          "title": {
           "x": 0.05
          },
          "xaxis": {
           "automargin": true,
           "gridcolor": "#EBF0F8",
           "linecolor": "#EBF0F8",
           "ticks": "",
           "title": {
            "standoff": 15
           },
           "zerolinecolor": "#EBF0F8",
           "zerolinewidth": 2
          },
          "yaxis": {
           "automargin": true,
           "gridcolor": "#EBF0F8",
           "linecolor": "#EBF0F8",
           "ticks": "",
           "title": {
            "standoff": 15
           },
           "zerolinecolor": "#EBF0F8",
           "zerolinewidth": 2
          }
         }
        },
        "title": {
         "text": "Andamento dei prezzi e transazioni"
        },
        "width": 1600,
        "xaxis": {
         "rangeslider": {
          "visible": true
         },
         "title": {
          "text": "Data"
         },
         "type": "date"
        },
        "yaxis": {
         "title": {
          "text": "Prezzo (€)"
         }
        }
       }
      }
     },
     "metadata": {},
     "output_type": "display_data"
    }
   ],
   "source": [
    "# Preparazione dei dati per il grafico\n",
    "acquisti = df_transazioni[df_transazioni['azione'] == 'Acquisto']\n",
    "vendite = df_transazioni[df_transazioni['azione'] == 'Vendita']\n",
    "\n",
    "# Conversione della colonna 'quantità_euro' in numerico, forzando la conversione e sostituendo eventuali errori con NaN\n",
    "vendite['quantità_euro'] = pd.to_numeric(vendite['quantità_euro'], errors='coerce')\n",
    "\n",
    "# Sostituzione dei valori NaN con un numero ragionevole (ad esempio, 0 o un valore di default)\n",
    "vendite['quantità_euro'] = vendite['quantità_euro'].fillna(0)\n",
    "\n",
    "# Conversione della colonna 'quantità_euro' in numerico, forzando la conversione e sostituendo eventuali errori con NaN\n",
    "acquisti['quantità_euro'] = pd.to_numeric(acquisti['quantità_euro'], errors='coerce')\n",
    "\n",
    "# Sostituzione dei valori NaN con un numero ragionevole (ad esempio, 0 o un valore di default)\n",
    "acquisti['quantità_euro'] = acquisti['quantità_euro'].fillna(0)\n",
    "\n",
    "\n",
    "# Calcolo delle dimensioni dei punti\n",
    "max_acquisto = acquisti['quantità_euro'].max()\n",
    "max_vendita = vendite['quantità_euro'].max()\n",
    "\n",
    "def calcola_dimensione(quantita, max_quantita, min_size=10, max_size=50):\n",
    "    return min_size + (max_size - min_size) * (quantita / max_quantita)\n",
    "\n",
    "# Dimensioni dei punti per acquisti e vendite\n",
    "dimensioni_acquisti = acquisti['quantità_euro'].apply(lambda x: calcola_dimensione(x, max_acquisto))\n",
    "dimensioni_vendite = vendite['quantità_euro'].apply(lambda x: calcola_dimensione(x, max_vendita))\n",
    "\n",
    "# Creazione del grafico dei prezzi con le transazioni\n",
    "fig = go.Figure()\n",
    "\n",
    "# Linea dell'andamento dei prezzi\n",
    "fig.add_trace(go.Scatter(x=df_transazioni['data'], y=df_transazioni['prezzo'], \n",
    "                         mode='lines', name='Prezzi',\n",
    "                         line=dict(color='blue', width=2),\n",
    "                         text=[f\"Timestamp: {data}<br>Prezzo: {p:.2f} €<br>Variazione giornaliera: {v}<br>Timestamp riferimento discesa: {trd}<br>Prezzo riferimento discesa: {prd:.2f}<br>Variazione rispetto riferimento discesa: {vrrd}<br>Timestamp riferimento salita: {trs}<br>Prezzo riferimento salita: {prs:.2f}<br>Variazione rispetto riferimento salita: {vrrs}\" for data, p, v, trd, prd, vrrd, trs, prs, vrrs in zip(df_transazioni['data'], df_transazioni['prezzo'], df_transazioni['variazione_giornaliera_prezzo_percentuale'], df_transazioni['timestamp_riferimento_discesa'], df_transazioni['prezzo_riferimento_discesa'], df_transazioni['variazione_rispetto_riferimento_discesa'], df_transazioni['timestamp_riferimento_salita'], df_transazioni['prezzo_riferimento_salita'], df_transazioni['variazione_rispetto_riferimento_salita'])],\n",
    "                         hoverinfo='text'))\n",
    "\n",
    "# Scatter plot per gli acquisti\n",
    "fig.add_trace(go.Scatter(x=acquisti['data'], y=acquisti['prezzo'],\n",
    "                         mode='markers', name='Acquisti',\n",
    "                         marker=dict(color='green', size=dimensioni_acquisti, opacity=0.7),\n",
    "                         text=[f\"Timestamp: {data}<br>Prezzo: {p:.2f} €<br>Euro usati: {e:.2f} €<br>Variazione giornaliera: {v}<br>Timestamp riferimento discesa: {trd}<br>Prezzo riferimento discesa: {prd:.2f}<br>Variazione rispetto riferimento discesa: {vrrd}<br>Timestamp riferimento salita: {trs}<br>Prezzo riferimento salita: {prs:.2f}<br>Variazione rispetto riferimento salita: {vrrs}\" for data, p, e, v, trd, prd, vrrd, trs, prs, vrrs in zip(acquisti['data'], acquisti['prezzo'], acquisti['quantità_euro'], acquisti['variazione_giornaliera_prezzo_percentuale'], acquisti['timestamp_riferimento_discesa'], acquisti['prezzo_riferimento_discesa'], acquisti['variazione_rispetto_riferimento_discesa'], acquisti['timestamp_riferimento_salita'], acquisti['prezzo_riferimento_salita'], acquisti['variazione_rispetto_riferimento_salita'])],\n",
    "                         hoverinfo='text'))\n",
    "\n",
    "# Scatter plot per le vendite\n",
    "fig.add_trace(go.Scatter(x=vendite['data'], y=vendite['prezzo'],\n",
    "                         mode='markers', name='Vendite',\n",
    "                         marker=dict(color='red', size=dimensioni_vendite, opacity=0.7),\n",
    "                         text=[f\"Timestamp: {data}<br>Prezzo: {p:.2f} €<br>Euro usati: {e:.2f} €<br>Variazione giornaliera: {v}<br>Timestamp riferimento discesa: {trd}<br>Prezzo riferimento discesa: {prd:.2f}<br>Variazione rispetto riferimento discesa: {vrrd}<br>Timestamp riferimento salita: {trs}<br>Prezzo riferimento salita: {prs:.2f}<br>Variazione rispetto riferimento salita: {vrrs}\" for data, p, e, v, trd, prd, vrrd, trs, prs, vrrs in zip(vendite['data'], vendite['prezzo'], vendite['quantità_euro'], vendite['variazione_giornaliera_prezzo_percentuale'], vendite['timestamp_riferimento_discesa'], vendite['prezzo_riferimento_discesa'], vendite['variazione_rispetto_riferimento_discesa'], vendite['timestamp_riferimento_salita'], vendite['prezzo_riferimento_salita'], vendite['variazione_rispetto_riferimento_salita'])],\n",
    "                         hoverinfo='text'))\n",
    "\n",
    "# Configurazione del layout con range slider sull'asse X\n",
    "fig.update_layout(\n",
    "    title='Andamento dei prezzi e transazioni',\n",
    "    xaxis_title='Data',\n",
    "    yaxis_title='Prezzo (€)',\n",
    "    hovermode='closest',\n",
    "    template='plotly_white',\n",
    "    legend=dict(yanchor=\"top\", y=0.99, xanchor=\"left\", x=0.01),\n",
    "    width = 1600,\n",
    "    height = 7/10 * 1600,\n",
    "    \n",
    "    # Aggiunta del range slider\n",
    "    xaxis=dict(\n",
    "        rangeslider=dict(visible=True),  # Abilita il range slider\n",
    "        type=\"date\"  # Imposta l'asse x come asse temporale\n",
    "    )\n",
    ")\n",
    "\n",
    "# Mostra il grafico\n",
    "fig.show()"
   ]
  },
  {
   "cell_type": "code",
   "execution_count": 228,
   "metadata": {},
   "outputs": [
    {
     "data": {
      "text/html": [
       "<div>\n",
       "<style scoped>\n",
       "    .dataframe tbody tr th:only-of-type {\n",
       "        vertical-align: middle;\n",
       "    }\n",
       "\n",
       "    .dataframe tbody tr th {\n",
       "        vertical-align: top;\n",
       "    }\n",
       "\n",
       "    .dataframe thead th {\n",
       "        text-align: right;\n",
       "    }\n",
       "</style>\n",
       "<table border=\"1\" class=\"dataframe\">\n",
       "  <thead>\n",
       "    <tr style=\"text-align: right;\">\n",
       "      <th></th>\n",
       "      <th>Timestamp</th>\n",
       "      <th>Price</th>\n",
       "      <th>Variazione</th>\n",
       "    </tr>\n",
       "  </thead>\n",
       "  <tbody>\n",
       "    <tr>\n",
       "      <th>0</th>\n",
       "      <td>2021-05-01</td>\n",
       "      <td>48110.046875</td>\n",
       "      <td>NaN</td>\n",
       "    </tr>\n",
       "    <tr>\n",
       "      <th>1</th>\n",
       "      <td>2021-05-02</td>\n",
       "      <td>47088.570312</td>\n",
       "      <td>0.978768</td>\n",
       "    </tr>\n",
       "    <tr>\n",
       "      <th>2</th>\n",
       "      <td>2021-05-03</td>\n",
       "      <td>47432.769531</td>\n",
       "      <td>1.007310</td>\n",
       "    </tr>\n",
       "    <tr>\n",
       "      <th>3</th>\n",
       "      <td>2021-05-04</td>\n",
       "      <td>44387.261719</td>\n",
       "      <td>0.935793</td>\n",
       "    </tr>\n",
       "    <tr>\n",
       "      <th>4</th>\n",
       "      <td>2021-05-05</td>\n",
       "      <td>47823.058594</td>\n",
       "      <td>1.077405</td>\n",
       "    </tr>\n",
       "    <tr>\n",
       "      <th>...</th>\n",
       "      <td>...</td>\n",
       "      <td>...</td>\n",
       "      <td>...</td>\n",
       "    </tr>\n",
       "    <tr>\n",
       "      <th>87</th>\n",
       "      <td>2021-07-27</td>\n",
       "      <td>33336.066406</td>\n",
       "      <td>1.053977</td>\n",
       "    </tr>\n",
       "    <tr>\n",
       "      <th>88</th>\n",
       "      <td>2021-07-28</td>\n",
       "      <td>33764.222656</td>\n",
       "      <td>1.012844</td>\n",
       "    </tr>\n",
       "    <tr>\n",
       "      <th>89</th>\n",
       "      <td>2021-07-29</td>\n",
       "      <td>33643.082031</td>\n",
       "      <td>0.996412</td>\n",
       "    </tr>\n",
       "    <tr>\n",
       "      <th>90</th>\n",
       "      <td>2021-07-30</td>\n",
       "      <td>35590.078125</td>\n",
       "      <td>1.057872</td>\n",
       "    </tr>\n",
       "    <tr>\n",
       "      <th>91</th>\n",
       "      <td>2021-07-31</td>\n",
       "      <td>35077.269531</td>\n",
       "      <td>0.985591</td>\n",
       "    </tr>\n",
       "  </tbody>\n",
       "</table>\n",
       "<p>92 rows × 3 columns</p>\n",
       "</div>"
      ],
      "text/plain": [
       "    Timestamp         Price  Variazione\n",
       "0  2021-05-01  48110.046875         NaN\n",
       "1  2021-05-02  47088.570312    0.978768\n",
       "2  2021-05-03  47432.769531    1.007310\n",
       "3  2021-05-04  44387.261719    0.935793\n",
       "4  2021-05-05  47823.058594    1.077405\n",
       "..        ...           ...         ...\n",
       "87 2021-07-27  33336.066406    1.053977\n",
       "88 2021-07-28  33764.222656    1.012844\n",
       "89 2021-07-29  33643.082031    0.996412\n",
       "90 2021-07-30  35590.078125    1.057872\n",
       "91 2021-07-31  35077.269531    0.985591\n",
       "\n",
       "[92 rows x 3 columns]"
      ]
     },
     "execution_count": 228,
     "metadata": {},
     "output_type": "execute_result"
    }
   ],
   "source": [
    "dati"
   ]
  },
  {
   "cell_type": "code",
   "execution_count": 229,
   "metadata": {},
   "outputs": [
    {
     "data": {
      "image/png": "[encoded data removed]",
      "text/plain": [
       "<Figure size 1000x600 with 1 Axes>"
      ]
     },
     "metadata": {},
     "output_type": "display_data"
    }
   ],
   "source": [
    "# Assicurati che la colonna 'Data' sia in formato datetime\n",
    "df_transazioni['data'] = pd.to_datetime(df_transazioni['data'])\n",
    "\n",
    "# Crea il plot dell'equity line\n",
    "plt.figure(figsize=(10, 6))\n",
    "plt.plot(df_transazioni['data'], df_transazioni['valore_totale_portafoglio'], label='Equity Line', color='b', linewidth=2)\n",
    "\n",
    "# Aggiungi titolo e etichette agli assi\n",
    "plt.title('Equity Line del Portafoglio', fontsize=16)\n",
    "plt.xlabel('Data', fontsize=12)\n",
    "plt.ylabel('Valore Totale Portafoglio (€)', fontsize=12)\n",
    "\n",
    "# Aggiungi una griglia per una migliore leggibilità\n",
    "plt.grid(True)\n",
    "\n",
    "# Aggiungi una legenda\n",
    "plt.legend()\n",
    "\n",
    "# Mostra il grafico\n",
    "plt.xticks(rotation=45)  # Ruota le etichette dell'asse x per migliore leggibilità\n",
    "plt.tight_layout()  # Migliora il layout del grafico\n",
    "plt.show()"
   ]
  },
  {
   "cell_type": "code",
   "execution_count": 230,
   "metadata": {},
   "outputs": [],
   "source": [
    "def calcola_rendimento_portafoglio_ideale(capitale_iniziale, bitcoin_iniziali, lista_prezzi, min_acquisto, min_vendita, perc_commissione_acquisto, perc_commissione_vendita):\n",
    "    capitale = capitale_iniziale\n",
    "    bitcoin = bitcoin_iniziali\n",
    "    comprato = False\n",
    "\n",
    "    for i in range(len(lista_prezzi) - 1):\n",
    "        # Compra al minimo\n",
    "        if lista_prezzi[i] < lista_prezzi[i + 1] and not comprato and capitale >= min_acquisto:\n",
    "            bitcoin_acquistati = (capitale * (1 - perc_commissione_acquisto)) / lista_prezzi[i]\n",
    "            bitcoin += bitcoin_acquistati\n",
    "            capitale = 0\n",
    "            comprato = True\n",
    "            # print(f'Bitcoin posseduti: {bitcoin}')\n",
    "        # Vende al massimo\n",
    "        elif lista_prezzi[i] > lista_prezzi[i + 1] and comprato and bitcoin * lista_prezzi[i] >= min_vendita:\n",
    "            capitale_vendita = bitcoin * lista_prezzi[i] * (1 - perc_commissione_vendita)\n",
    "            capitale += capitale_vendita\n",
    "            bitcoin = 0\n",
    "            comprato = False\n",
    "            # print(f'Capitale posseduto: {capitale}')\n",
    "\n",
    "    # Vende i bitcoin rimasti all'ultimo prezzo\n",
    "    if comprato and bitcoin * lista_prezzi.iloc[-1] >= min_vendita:\n",
    "        capitale += bitcoin * lista_prezzi.iloc[-1] * (1 - perc_commissione_vendita)\n",
    "        bitcoin = 0\n",
    "        # print(f'Capitale posseduto: {capitale}')\n",
    "        # print(f'Bitcoin posseduti: {bitcoin}')\n",
    "\n",
    "    valore_iniziale = capitale_iniziale + bitcoin_iniziali * lista_prezzi[0]\n",
    "    valore_finale = capitale + bitcoin * lista_prezzi.iloc[-1]\n",
    "\n",
    "    rendimento = valore_finale / valore_iniziale\n",
    "\n",
    "    return [rendimento, valore_finale]"
   ]
  },
  {
   "cell_type": "code",
   "execution_count": 231,
   "metadata": {},
   "outputs": [
    {
     "name": "stdout",
     "output_type": "stream",
     "text": [
      "Rendimento ideale: 4.389151536150224\n",
      "Portafoglio finale ideale in euro: 4389.151536150223\n"
     ]
    }
   ],
   "source": [
    "rendimento_ideale, portafoglio_finale_ideale = calcola_rendimento_portafoglio_ideale(liquidità_iniziale, bitcoin_iniziali, dati['Price'], 0, 0, 0, 0)\n",
    "print('Rendimento ideale:', rendimento_ideale)\n",
    "print('Portafoglio finale ideale in euro:', portafoglio_finale_ideale)"
   ]
  },
  {
   "cell_type": "code",
   "execution_count": 232,
   "metadata": {},
   "outputs": [],
   "source": [
    "valore_iniziale = df_transazioni['valore_totale_portafoglio'].iloc[0]\n",
    "valore_finale = df_transazioni['valore_totale_portafoglio'].iloc[-1]\n",
    "rendimento = valore_finale / valore_iniziale"
   ]
  },
  {
   "cell_type": "code",
   "execution_count": 233,
   "metadata": {},
   "outputs": [
    {
     "name": "stdout",
     "output_type": "stream",
     "text": [
      "Rendimento del portafoglio: 1.0685970029917649\n",
      "Punteggio rendimento: 24.35%\n",
      "Valore finale del portafoglio in euro: 1068.5970029917648\n"
     ]
    }
   ],
   "source": [
    "print(f\"Rendimento del portafoglio: {rendimento}\")\n",
    "print(f'Punteggio rendimento: {round(rendimento / rendimento_ideale *100, 2)}%')\n",
    "print(f\"Valore finale del portafoglio in euro: {df_transazioni['valore_totale_portafoglio'].iloc[-1]}\")"
   ]
  },
  {
   "cell_type": "code",
   "execution_count": 234,
   "metadata": {},
   "outputs": [],
   "source": [
    "# periodo 1: Dicembre 2020 - Aprile 2021; periodo 2: Maggio 2021 - Luglio 2021; periodo 3: Luglio 2022 - Ottobre 2022\n",
    "\n",
    "# Set 1:\n",
    "# inverti_riferimento_acquisto = False\n",
    "# inverti_riferimento_vendita = True\n",
    "# acquisto_rispetto_liquidità_iniziale = True\n",
    "# compra_pure = False\n",
    "# vendi_pure = True\n",
    "# soglia_vendita = -np.inf (nessuna soglia specifica per la vendita)\n",
    "# coefficienti_acquisto = [0, 1.5] (più conservativo)\n",
    "# coefficienti_vendita = [0, 1.5] (più conservativo)\n",
    "# compra_solo_in_discesa = True (acquisti solo in discesa)\n",
    "# vendi_solo_in_salita = True (vendite solo in salita)\n",
    "# soglia_acquisto_rispetto_riferimento = 0.15 (acquisti solo se sceso almeno del 15% rispetto al riferimento)\n",
    "# soglia_vendita_rispetto_riferimento = 0.1 (vendite se salito del 10% rispetto al riferimento)\n",
    "# soglia_calcolo_variazioni_discesa = 0.1 (soglia per individuare trend ribassisti)\n",
    "# soglia_calcolo_variazioni_salita = 0.1 (soglia per individuare trend rialzisti)\n",
    "\n",
    "# Set 2:\n",
    "# inverti_riferimento_acquisto = True\n",
    "# inverti_riferimento_vendita = False\n",
    "# acquisto_rispetto_liquidità_iniziale = False\n",
    "# compra_pure = True\n",
    "# vendi_pure = True\n",
    "# soglia_vendita = 0.05 (vendite solo se sopra il 5% rispetto alla media degli acquisti)\n",
    "# coefficienti_acquisto = [0, 2.5] (aggressivo, acquisti maggiori)\n",
    "# coefficienti_vendita = [0, 2.5] (aggressivo, vendite maggiori)\n",
    "# compra_solo_in_discesa = False (puoi comprare anche in salita)\n",
    "# vendi_solo_in_salita = False (puoi vendere anche in discesa)\n",
    "# soglia_acquisto_rispetto_riferimento = 0.1 (acquisti se sceso del 10%)\n",
    "# soglia_vendita_rispetto_riferimento = 0.1 (vendite se salito del 10%)\n",
    "# soglia_calcolo_variazioni_discesa = 0.05 (individua trend ribassisti con soglia bassa)\n",
    "# soglia_calcolo_variazioni_salita = 0.05 (trend rialzisti con soglia bassa)\n",
    "\n",
    "# Set 3:\n",
    "# inverti_riferimento_acquisto = False\n",
    "# inverti_riferimento_vendita = True\n",
    "# acquisto_rispetto_liquidità_iniziale = True\n",
    "# compra_pure = True\n",
    "# vendi_pure = False\n",
    "# soglia_vendita = 0.1 (vendite se sopra il 10% rispetto alla media degli acquisti)\n",
    "# coefficienti_acquisto = [0, 2] (bilanciato)\n",
    "# coefficienti_vendita = [0, 2] (bilanciato)\n",
    "# compra_solo_in_discesa = True\n",
    "# vendi_solo_in_salita = True\n",
    "# soglia_acquisto_rispetto_riferimento = 0.05\n",
    "# soglia_vendita_rispetto_riferimento = 0.05\n",
    "# soglia_calcolo_variazioni_discesa = 0.1\n",
    "# soglia_calcolo_variazioni_salita = 0.1\n",
    "\n",
    "# Set 4:\n",
    "# inverti_riferimento_acquisto = True\n",
    "# inverti_riferimento_vendita = True\n",
    "# acquisto_rispetto_liquidità_iniziale = False\n",
    "# compra_pure = True\n",
    "# vendi_pure = True\n",
    "# soglia_vendita = 0.15 (vendite sopra il 15% rispetto alla media degli acquisti)\n",
    "# coefficienti_acquisto = [0, 3] (speculativo, acquisti aggressivi)\n",
    "# coefficienti_vendita = [0, 3] (speculativo, vendite aggressive)\n",
    "# compra_solo_in_discesa = False\n",
    "# vendi_solo_in_salita = False\n",
    "# soglia_acquisto_rispetto_riferimento = 0.15\n",
    "# soglia_vendita_rispetto_riferimento = 0.15\n",
    "# soglia_calcolo_variazioni_discesa = 0.15\n",
    "# soglia_calcolo_variazioni_salita = 0.15\n",
    "\n",
    "# Risultati:\n",
    "# Set 1: 33%, -2%, 7%\n",
    "# Set 2: 44%, -9%, 6%\n",
    "# Set 3: 88%, -5%, 6%\n",
    "# Set 4: 26%, 15%, 0%"
   ]
  },
  {
   "cell_type": "markdown",
   "metadata": {},
   "source": [
    "## Algoritmo con variabili dinamiche tramite grid search integrata"
   ]
  },
  {
   "cell_type": "code",
   "execution_count": null,
   "metadata": {},
   "outputs": [],
   "source": []
  }
 ],
 "metadata": {
  "kernelspec": {
   "display_name": "Python 3",
   "language": "python",
   "name": "python3"
  },
  "language_info": {
   "codemirror_mode": {
    "name": "ipython",
    "version": 3
   },
   "file_extension": ".py",
   "mimetype": "text/x-python",
   "name": "python",
   "nbconvert_exporter": "python",
   "pygments_lexer": "ipython3",
   "version": "3.10.9"
  }
 },
 "nbformat": 4,
 "nbformat_minor": 2
}
