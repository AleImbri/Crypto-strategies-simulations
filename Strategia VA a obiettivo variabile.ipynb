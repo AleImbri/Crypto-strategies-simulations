{
 "cells": [
  {
   "cell_type": "markdown",
   "metadata": {},
   "source": [
    "# Importazione librerie"
   ]
  },
  {
   "cell_type": "code",
   "execution_count": 67,
   "metadata": {},
   "outputs": [],
   "source": [
    "import pandas as pd\n",
    "import matplotlib.pyplot as plt\n",
    "import plotly.graph_objects as go"
   ]
  },
  {
   "cell_type": "markdown",
   "metadata": {},
   "source": [
    "# Lettura dati Bitcoin"
   ]
  },
  {
   "cell_type": "code",
   "execution_count": 68,
   "metadata": {},
   "outputs": [
    {
     "data": {
      "text/html": [
       "<div>\n",
       "<style scoped>\n",
       "    .dataframe tbody tr th:only-of-type {\n",
       "        vertical-align: middle;\n",
       "    }\n",
       "\n",
       "    .dataframe tbody tr th {\n",
       "        vertical-align: top;\n",
       "    }\n",
       "\n",
       "    .dataframe thead th {\n",
       "        text-align: right;\n",
       "    }\n",
       "</style>\n",
       "<table border=\"1\" class=\"dataframe\">\n",
       "  <thead>\n",
       "    <tr style=\"text-align: right;\">\n",
       "      <th></th>\n",
       "      <th>Timestamp</th>\n",
       "      <th>Price</th>\n",
       "    </tr>\n",
       "  </thead>\n",
       "  <tbody>\n",
       "    <tr>\n",
       "      <th>0</th>\n",
       "      <td>2014-09-17</td>\n",
       "      <td>355.957367</td>\n",
       "    </tr>\n",
       "    <tr>\n",
       "      <th>1</th>\n",
       "      <td>2014-09-18</td>\n",
       "      <td>328.539368</td>\n",
       "    </tr>\n",
       "    <tr>\n",
       "      <th>2</th>\n",
       "      <td>2014-09-19</td>\n",
       "      <td>307.761139</td>\n",
       "    </tr>\n",
       "    <tr>\n",
       "      <th>3</th>\n",
       "      <td>2014-09-20</td>\n",
       "      <td>318.758972</td>\n",
       "    </tr>\n",
       "    <tr>\n",
       "      <th>4</th>\n",
       "      <td>2014-09-21</td>\n",
       "      <td>310.632446</td>\n",
       "    </tr>\n",
       "    <tr>\n",
       "      <th>...</th>\n",
       "      <td>...</td>\n",
       "      <td>...</td>\n",
       "    </tr>\n",
       "    <tr>\n",
       "      <th>3503</th>\n",
       "      <td>2024-04-20</td>\n",
       "      <td>59876.710938</td>\n",
       "    </tr>\n",
       "    <tr>\n",
       "      <th>3504</th>\n",
       "      <td>2024-04-21</td>\n",
       "      <td>60956.074219</td>\n",
       "    </tr>\n",
       "    <tr>\n",
       "      <th>3505</th>\n",
       "      <td>2024-04-22</td>\n",
       "      <td>60919.242188</td>\n",
       "    </tr>\n",
       "    <tr>\n",
       "      <th>3506</th>\n",
       "      <td>2024-04-23</td>\n",
       "      <td>62729.296875</td>\n",
       "    </tr>\n",
       "    <tr>\n",
       "      <th>3507</th>\n",
       "      <td>2024-04-24</td>\n",
       "      <td>62048.164062</td>\n",
       "    </tr>\n",
       "  </tbody>\n",
       "</table>\n",
       "<p>3508 rows × 2 columns</p>\n",
       "</div>"
      ],
      "text/plain": [
       "      Timestamp         Price\n",
       "0    2014-09-17    355.957367\n",
       "1    2014-09-18    328.539368\n",
       "2    2014-09-19    307.761139\n",
       "3    2014-09-20    318.758972\n",
       "4    2014-09-21    310.632446\n",
       "...         ...           ...\n",
       "3503 2024-04-20  59876.710938\n",
       "3504 2024-04-21  60956.074219\n",
       "3505 2024-04-22  60919.242188\n",
       "3506 2024-04-23  62729.296875\n",
       "3507 2024-04-24  62048.164062\n",
       "\n",
       "[3508 rows x 2 columns]"
      ]
     },
     "execution_count": 68,
     "metadata": {},
     "output_type": "execute_result"
    }
   ],
   "source": [
    "dati = pd.read_csv('Bitcoin (€) da yfinance dal 17-09-2014 al 24-04-2024.csv')\n",
    "dati = dati[['Date', 'Close']]\n",
    "dati = dati.rename(columns = {'Date':'Timestamp', 'Close': 'Price'})\n",
    "dati['Timestamp'] = pd.to_datetime(dati['Timestamp'])\n",
    "dati['Timestamp'] = dati['Timestamp'].dt.strftime('%Y-%m-%d')\n",
    "dati['Timestamp'] = pd.to_datetime(dati['Timestamp'], format='%Y-%m-%d')\n",
    "dati"
   ]
  },
  {
   "cell_type": "code",
   "execution_count": 69,
   "metadata": {},
   "outputs": [],
   "source": [
    "# dati = pd.read_csv('Bitcoin (€) da yfinance dal 06-05-2022 alle 21 al 05-05-2024 alle 19 con granularità oraria.csv')\n",
    "# dati = dati[['Datetime', 'Close']]\n",
    "# dati = dati.rename(columns = {'Datetime':'Timestamp', 'Close': 'Price'})\n",
    "# dati['Timestamp'] = pd.to_datetime(dati['Timestamp'])\n",
    "# dati['Timestamp'] = dati['Timestamp'].dt.strftime('%Y-%m-%d %H')\n",
    "# dati['Timestamp'] = pd.to_datetime(dati['Timestamp'], format='%Y-%m-%d %H')\n",
    "# dati"
   ]
  },
  {
   "cell_type": "code",
   "execution_count": 70,
   "metadata": {},
   "outputs": [
    {
     "data": {
      "text/html": [
       "<div>\n",
       "<style scoped>\n",
       "    .dataframe tbody tr th:only-of-type {\n",
       "        vertical-align: middle;\n",
       "    }\n",
       "\n",
       "    .dataframe tbody tr th {\n",
       "        vertical-align: top;\n",
       "    }\n",
       "\n",
       "    .dataframe thead th {\n",
       "        text-align: right;\n",
       "    }\n",
       "</style>\n",
       "<table border=\"1\" class=\"dataframe\">\n",
       "  <thead>\n",
       "    <tr style=\"text-align: right;\">\n",
       "      <th></th>\n",
       "      <th>Timestamp</th>\n",
       "      <th>Price</th>\n",
       "    </tr>\n",
       "  </thead>\n",
       "  <tbody>\n",
       "    <tr>\n",
       "      <th>0</th>\n",
       "      <td>2020-02-29</td>\n",
       "      <td>7798.025879</td>\n",
       "    </tr>\n",
       "    <tr>\n",
       "      <th>1</th>\n",
       "      <td>2020-03-01</td>\n",
       "      <td>7748.164551</td>\n",
       "    </tr>\n",
       "    <tr>\n",
       "      <th>2</th>\n",
       "      <td>2020-03-02</td>\n",
       "      <td>7959.358398</td>\n",
       "    </tr>\n",
       "    <tr>\n",
       "      <th>3</th>\n",
       "      <td>2020-03-03</td>\n",
       "      <td>7862.485352</td>\n",
       "    </tr>\n",
       "    <tr>\n",
       "      <th>4</th>\n",
       "      <td>2020-03-04</td>\n",
       "      <td>7861.055176</td>\n",
       "    </tr>\n",
       "    <tr>\n",
       "      <th>...</th>\n",
       "      <td>...</td>\n",
       "      <td>...</td>\n",
       "    </tr>\n",
       "    <tr>\n",
       "      <th>181</th>\n",
       "      <td>2020-08-28</td>\n",
       "      <td>9695.468750</td>\n",
       "    </tr>\n",
       "    <tr>\n",
       "      <th>182</th>\n",
       "      <td>2020-08-29</td>\n",
       "      <td>9664.351562</td>\n",
       "    </tr>\n",
       "    <tr>\n",
       "      <th>183</th>\n",
       "      <td>2020-08-30</td>\n",
       "      <td>9824.922852</td>\n",
       "    </tr>\n",
       "    <tr>\n",
       "      <th>184</th>\n",
       "      <td>2020-08-31</td>\n",
       "      <td>9785.023438</td>\n",
       "    </tr>\n",
       "    <tr>\n",
       "      <th>185</th>\n",
       "      <td>2020-09-01</td>\n",
       "      <td>10038.563477</td>\n",
       "    </tr>\n",
       "  </tbody>\n",
       "</table>\n",
       "<p>186 rows × 2 columns</p>\n",
       "</div>"
      ],
      "text/plain": [
       "     Timestamp         Price\n",
       "0   2020-02-29   7798.025879\n",
       "1   2020-03-01   7748.164551\n",
       "2   2020-03-02   7959.358398\n",
       "3   2020-03-03   7862.485352\n",
       "4   2020-03-04   7861.055176\n",
       "..         ...           ...\n",
       "181 2020-08-28   9695.468750\n",
       "182 2020-08-29   9664.351562\n",
       "183 2020-08-30   9824.922852\n",
       "184 2020-08-31   9785.023438\n",
       "185 2020-09-01  10038.563477\n",
       "\n",
       "[186 rows x 2 columns]"
      ]
     },
     "execution_count": 70,
     "metadata": {},
     "output_type": "execute_result"
    }
   ],
   "source": [
    "# Bull market\n",
    "# data_inizio = '2020-12-01'\n",
    "# data_fine = '2021-04-30'\n",
    "\n",
    "# Mercato laterale\n",
    "# data_inizio = '2022-07-01'\n",
    "# data_fine = '2022-10-31'\n",
    "\n",
    "# Bear market\n",
    "# data_inizio = '2021-05-01'\n",
    "# data_fine = '2021-07-31'\n",
    "\n",
    "# Periodo personale\n",
    "data_inizio = '2020-02-29'\n",
    "data_fine = '2020-09-01'\n",
    "\n",
    "indice_inizio = dati[dati['Timestamp'] == data_inizio].index[0]\n",
    "indice_fine = dati[dati['Timestamp'] == data_fine].index[0]\n",
    "dati = dati[indice_inizio:indice_fine + 1].reset_index(drop=True)\n",
    "dati"
   ]
  },
  {
   "cell_type": "code",
   "execution_count": 71,
   "metadata": {},
   "outputs": [],
   "source": [
    "# data_inizio = '2023-06-01 00'\n",
    "# data_fine = '2023-12-01 00'\n",
    "# indice_inizio = dati[dati['Timestamp'] == data_inizio].index[0]\n",
    "# indice_fine = dati[dati['Timestamp'] == data_fine].index[0]\n",
    "# dati = dati[indice_inizio:indice_fine + 1].reset_index(drop=True)\n",
    "# dati"
   ]
  },
  {
   "cell_type": "markdown",
   "metadata": {},
   "source": [
    "# Strategia"
   ]
  },
  {
   "cell_type": "code",
   "execution_count": 72,
   "metadata": {},
   "outputs": [],
   "source": [
    "def strategia_value_averaging_obiettivo_variabile(\n",
    "    dati, liquidita_iniziale, bitcoin_iniziali, obiettivo_0, timeframe,\n",
    "    acquisto_attivo, vendita_attiva,\n",
    "    acquisto_rispetto_precedente, vendita_rispetto_precedente\n",
    "):\n",
    "    # Inizializzazione delle variabili\n",
    "    liquidita = liquidita_iniziale\n",
    "    bitcoin = bitcoin_iniziali\n",
    "    obiettivo = obiettivo_0\n",
    "    ultima_variabile = dati.iloc[0][\"Price\"]\n",
    "    prezzo_inizio_discesa = ultima_variabile\n",
    "    prezzo_inizio_salita = ultima_variabile\n",
    "\n",
    "    # Lista per tracciare tutte le transazioni giornaliere\n",
    "    transazioni = []\n",
    "\n",
    "    for i, row in dati.iterrows():\n",
    "        timestamp = row[\"Timestamp\"]\n",
    "        prezzo = row[\"Price\"]\n",
    "        azione = '-'\n",
    "        fattore_variabile = prezzo / ultima_variabile\n",
    "        fattore_variabile_cumulativo = None\n",
    "        liquidita_transazione = '-'\n",
    "        bitcoin_transazione = '-'\n",
    "\n",
    "        # Controllo se è un giorno di ribilanciamento\n",
    "        if i % timeframe == 0:\n",
    "            # Determina fattore cumulativo rispetto alla discesa o salita\n",
    "            if prezzo < ultima_variabile:\n",
    "                if not acquisto_rispetto_precedente:\n",
    "                    fattore_variabile_cumulativo = prezzo_inizio_discesa / prezzo\n",
    "                else:\n",
    "                    prezzo_inizio_discesa = prezzo\n",
    "                    fattore_variabile_cumulativo = 1 / fattore_variabile\n",
    "                obiettivo *= fattore_variabile_cumulativo\n",
    "\n",
    "            elif prezzo > ultima_variabile:\n",
    "                if not vendita_rispetto_precedente:\n",
    "                    fattore_variabile_cumulativo = prezzo / prezzo_inizio_salita\n",
    "                else:\n",
    "                    prezzo_inizio_salita = prezzo\n",
    "                    fattore_variabile_cumulativo = fattore_variabile\n",
    "                obiettivo /= fattore_variabile_cumulativo\n",
    "\n",
    "            controvalore_bitcoin = bitcoin * prezzo\n",
    "            liquidita_necessaria = obiettivo - controvalore_bitcoin\n",
    "\n",
    "            # Se è il momento di acquistare\n",
    "            if liquidita_necessaria > 0 and acquisto_attivo and liquidita >= liquidita_necessaria:\n",
    "                acquisto_btc = liquidita_necessaria / prezzo\n",
    "                liquidita -= liquidita_necessaria\n",
    "                bitcoin += acquisto_btc\n",
    "                azione = 'Acquisto' if acquisto_btc > 0 else '-'\n",
    "                liquidita_transazione = -liquidita_necessaria\n",
    "                bitcoin_transazione = acquisto_btc\n",
    "\n",
    "            # Se è il momento di vendere\n",
    "            elif liquidita_necessaria < 0 and vendita_attiva and -liquidita_necessaria / prezzo <= bitcoin:\n",
    "                vendita_btc = -liquidita_necessaria / prezzo\n",
    "                liquidita += -liquidita_necessaria\n",
    "                bitcoin -= vendita_btc\n",
    "                azione = 'Vendita' if vendita_btc > 0 else '-'\n",
    "                liquidita_transazione = -liquidita_necessaria\n",
    "                bitcoin_transazione = -vendita_btc\n",
    "\n",
    "            ultima_variabile = prezzo\n",
    "\n",
    "        # Calcolo del valore totale del portafoglio\n",
    "        valore_totale_portafoglio = liquidita + bitcoin * prezzo\n",
    "\n",
    "        # Salvataggio della transazione del giorno\n",
    "        transazioni.append({\n",
    "            \"timestamp\": timestamp,\n",
    "            \"prezzo\": prezzo,\n",
    "            \"obiettivo\": obiettivo,\n",
    "            \"azione\": azione,\n",
    "            \"liquidita_transazione\": liquidita_transazione,\n",
    "            \"bitcoin_transazione\": bitcoin_transazione,\n",
    "            \"fattore_di_variazione\": fattore_variabile,\n",
    "            \"fattore_di_variazione_cumulativa\": fattore_variabile_cumulativo or fattore_variabile,\n",
    "            \"liquidità\": liquidita,\n",
    "            \"bitcoin\": bitcoin,\n",
    "            \"controvalore_bitcoin\": controvalore_bitcoin,\n",
    "            \"valore_totale_portafoglio\": valore_totale_portafoglio\n",
    "        })\n",
    "\n",
    "    # Creazione del DataFrame finale\n",
    "    df_transazioni = pd.DataFrame(transazioni)\n",
    "    return df_transazioni"
   ]
  },
  {
   "cell_type": "code",
   "execution_count": 73,
   "metadata": {},
   "outputs": [
    {
     "data": {
      "text/html": [
       "<div>\n",
       "<style scoped>\n",
       "    .dataframe tbody tr th:only-of-type {\n",
       "        vertical-align: middle;\n",
       "    }\n",
       "\n",
       "    .dataframe tbody tr th {\n",
       "        vertical-align: top;\n",
       "    }\n",
       "\n",
       "    .dataframe thead th {\n",
       "        text-align: right;\n",
       "    }\n",
       "</style>\n",
       "<table border=\"1\" class=\"dataframe\">\n",
       "  <thead>\n",
       "    <tr style=\"text-align: right;\">\n",
       "      <th></th>\n",
       "      <th>timestamp</th>\n",
       "      <th>prezzo</th>\n",
       "      <th>obiettivo</th>\n",
       "      <th>azione</th>\n",
       "      <th>liquidita_transazione</th>\n",
       "      <th>bitcoin_transazione</th>\n",
       "      <th>fattore_di_variazione</th>\n",
       "      <th>fattore_di_variazione_cumulativa</th>\n",
       "      <th>liquidità</th>\n",
       "      <th>bitcoin</th>\n",
       "      <th>controvalore_bitcoin</th>\n",
       "      <th>valore_totale_portafoglio</th>\n",
       "    </tr>\n",
       "  </thead>\n",
       "  <tbody>\n",
       "    <tr>\n",
       "      <th>0</th>\n",
       "      <td>2020-02-29</td>\n",
       "      <td>7798.025879</td>\n",
       "      <td>50.000000</td>\n",
       "      <td>Acquisto</td>\n",
       "      <td>-50.0</td>\n",
       "      <td>0.006412</td>\n",
       "      <td>1.000000</td>\n",
       "      <td>1.000000</td>\n",
       "      <td>950.000000</td>\n",
       "      <td>0.006412</td>\n",
       "      <td>0.000000</td>\n",
       "      <td>1000.000000</td>\n",
       "    </tr>\n",
       "    <tr>\n",
       "      <th>1</th>\n",
       "      <td>2020-03-01</td>\n",
       "      <td>7748.164551</td>\n",
       "      <td>50.321762</td>\n",
       "      <td>Acquisto</td>\n",
       "      <td>-0.641467</td>\n",
       "      <td>0.000083</td>\n",
       "      <td>0.993606</td>\n",
       "      <td>1.006435</td>\n",
       "      <td>949.358533</td>\n",
       "      <td>0.006495</td>\n",
       "      <td>49.680295</td>\n",
       "      <td>999.680295</td>\n",
       "    </tr>\n",
       "    <tr>\n",
       "      <th>2</th>\n",
       "      <td>2020-03-02</td>\n",
       "      <td>7959.358398</td>\n",
       "      <td>49.301763</td>\n",
       "      <td>Vendita</td>\n",
       "      <td>2.391633</td>\n",
       "      <td>-0.0003</td>\n",
       "      <td>1.027257</td>\n",
       "      <td>1.020689</td>\n",
       "      <td>951.750166</td>\n",
       "      <td>0.006194</td>\n",
       "      <td>51.693396</td>\n",
       "      <td>1001.051929</td>\n",
       "    </tr>\n",
       "    <tr>\n",
       "      <th>3</th>\n",
       "      <td>2020-03-03</td>\n",
       "      <td>7862.485352</td>\n",
       "      <td>48.897570</td>\n",
       "      <td>Acquisto</td>\n",
       "      <td>-0.195856</td>\n",
       "      <td>0.000025</td>\n",
       "      <td>0.987829</td>\n",
       "      <td>0.991802</td>\n",
       "      <td>951.554310</td>\n",
       "      <td>0.006219</td>\n",
       "      <td>48.701713</td>\n",
       "      <td>1000.451879</td>\n",
       "    </tr>\n",
       "    <tr>\n",
       "      <th>4</th>\n",
       "      <td>2020-03-04</td>\n",
       "      <td>7861.055176</td>\n",
       "      <td>48.505513</td>\n",
       "      <td>Vendita</td>\n",
       "      <td>0.383162</td>\n",
       "      <td>-0.000049</td>\n",
       "      <td>0.999818</td>\n",
       "      <td>0.991982</td>\n",
       "      <td>951.937472</td>\n",
       "      <td>0.006170</td>\n",
       "      <td>48.888675</td>\n",
       "      <td>1000.442985</td>\n",
       "    </tr>\n",
       "    <tr>\n",
       "      <th>...</th>\n",
       "      <td>...</td>\n",
       "      <td>...</td>\n",
       "      <td>...</td>\n",
       "      <td>...</td>\n",
       "      <td>...</td>\n",
       "      <td>...</td>\n",
       "      <td>...</td>\n",
       "      <td>...</td>\n",
       "      <td>...</td>\n",
       "      <td>...</td>\n",
       "      <td>...</td>\n",
       "      <td>...</td>\n",
       "    </tr>\n",
       "    <tr>\n",
       "      <th>181</th>\n",
       "      <td>2020-08-28</td>\n",
       "      <td>9695.468750</td>\n",
       "      <td>17.799848</td>\n",
       "      <td>Vendita</td>\n",
       "      <td>4.59535</td>\n",
       "      <td>-0.000474</td>\n",
       "      <td>1.011939</td>\n",
       "      <td>1.243323</td>\n",
       "      <td>1988.656660</td>\n",
       "      <td>0.001836</td>\n",
       "      <td>22.395198</td>\n",
       "      <td>2006.456507</td>\n",
       "    </tr>\n",
       "    <tr>\n",
       "      <th>182</th>\n",
       "      <td>2020-08-29</td>\n",
       "      <td>9664.351562</td>\n",
       "      <td>14.362440</td>\n",
       "      <td>Vendita</td>\n",
       "      <td>3.38028</td>\n",
       "      <td>-0.00035</td>\n",
       "      <td>0.996791</td>\n",
       "      <td>0.806886</td>\n",
       "      <td>1992.036939</td>\n",
       "      <td>0.001486</td>\n",
       "      <td>17.742720</td>\n",
       "      <td>2006.399380</td>\n",
       "    </tr>\n",
       "    <tr>\n",
       "      <th>183</th>\n",
       "      <td>2020-08-30</td>\n",
       "      <td>9824.922852</td>\n",
       "      <td>11.399447</td>\n",
       "      <td>Vendita</td>\n",
       "      <td>3.201623</td>\n",
       "      <td>-0.000326</td>\n",
       "      <td>1.016615</td>\n",
       "      <td>1.259924</td>\n",
       "      <td>1995.238562</td>\n",
       "      <td>0.001160</td>\n",
       "      <td>14.601070</td>\n",
       "      <td>2006.638009</td>\n",
       "    </tr>\n",
       "    <tr>\n",
       "      <th>184</th>\n",
       "      <td>2020-08-31</td>\n",
       "      <td>9785.023438</td>\n",
       "      <td>9.084616</td>\n",
       "      <td>Vendita</td>\n",
       "      <td>2.268537</td>\n",
       "      <td>-0.000232</td>\n",
       "      <td>0.995939</td>\n",
       "      <td>0.796935</td>\n",
       "      <td>1997.507099</td>\n",
       "      <td>0.000928</td>\n",
       "      <td>11.353153</td>\n",
       "      <td>2006.591715</td>\n",
       "    </tr>\n",
       "    <tr>\n",
       "      <th>185</th>\n",
       "      <td>2020-09-01</td>\n",
       "      <td>10038.563477</td>\n",
       "      <td>7.056993</td>\n",
       "      <td>Vendita</td>\n",
       "      <td>2.263015</td>\n",
       "      <td>-0.000225</td>\n",
       "      <td>1.025911</td>\n",
       "      <td>1.287321</td>\n",
       "      <td>1999.770114</td>\n",
       "      <td>0.000703</td>\n",
       "      <td>9.320008</td>\n",
       "      <td>2006.827107</td>\n",
       "    </tr>\n",
       "  </tbody>\n",
       "</table>\n",
       "<p>186 rows × 12 columns</p>\n",
       "</div>"
      ],
      "text/plain": [
       "     timestamp        prezzo  obiettivo    azione liquidita_transazione  \\\n",
       "0   2020-02-29   7798.025879  50.000000  Acquisto                 -50.0   \n",
       "1   2020-03-01   7748.164551  50.321762  Acquisto             -0.641467   \n",
       "2   2020-03-02   7959.358398  49.301763   Vendita              2.391633   \n",
       "3   2020-03-03   7862.485352  48.897570  Acquisto             -0.195856   \n",
       "4   2020-03-04   7861.055176  48.505513   Vendita              0.383162   \n",
       "..         ...           ...        ...       ...                   ...   \n",
       "181 2020-08-28   9695.468750  17.799848   Vendita               4.59535   \n",
       "182 2020-08-29   9664.351562  14.362440   Vendita               3.38028   \n",
       "183 2020-08-30   9824.922852  11.399447   Vendita              3.201623   \n",
       "184 2020-08-31   9785.023438   9.084616   Vendita              2.268537   \n",
       "185 2020-09-01  10038.563477   7.056993   Vendita              2.263015   \n",
       "\n",
       "    bitcoin_transazione  fattore_di_variazione  \\\n",
       "0              0.006412               1.000000   \n",
       "1              0.000083               0.993606   \n",
       "2               -0.0003               1.027257   \n",
       "3              0.000025               0.987829   \n",
       "4             -0.000049               0.999818   \n",
       "..                  ...                    ...   \n",
       "181           -0.000474               1.011939   \n",
       "182            -0.00035               0.996791   \n",
       "183           -0.000326               1.016615   \n",
       "184           -0.000232               0.995939   \n",
       "185           -0.000225               1.025911   \n",
       "\n",
       "     fattore_di_variazione_cumulativa    liquidità   bitcoin  \\\n",
       "0                            1.000000   950.000000  0.006412   \n",
       "1                            1.006435   949.358533  0.006495   \n",
       "2                            1.020689   951.750166  0.006194   \n",
       "3                            0.991802   951.554310  0.006219   \n",
       "4                            0.991982   951.937472  0.006170   \n",
       "..                                ...          ...       ...   \n",
       "181                          1.243323  1988.656660  0.001836   \n",
       "182                          0.806886  1992.036939  0.001486   \n",
       "183                          1.259924  1995.238562  0.001160   \n",
       "184                          0.796935  1997.507099  0.000928   \n",
       "185                          1.287321  1999.770114  0.000703   \n",
       "\n",
       "     controvalore_bitcoin  valore_totale_portafoglio  \n",
       "0                0.000000                1000.000000  \n",
       "1               49.680295                 999.680295  \n",
       "2               51.693396                1001.051929  \n",
       "3               48.701713                1000.451879  \n",
       "4               48.888675                1000.442985  \n",
       "..                    ...                        ...  \n",
       "181             22.395198                2006.456507  \n",
       "182             17.742720                2006.399380  \n",
       "183             14.601070                2006.638009  \n",
       "184             11.353153                2006.591715  \n",
       "185              9.320008                2006.827107  \n",
       "\n",
       "[186 rows x 12 columns]"
      ]
     },
     "execution_count": 73,
     "metadata": {},
     "output_type": "execute_result"
    }
   ],
   "source": [
    "liquidita_iniziale = 1000\n",
    "bitcoin_iniziali = 0\n",
    "obiettivo_0 = 50\n",
    "timeframe = 1\n",
    "acquisto_attivo = True\n",
    "vendita_attiva = True\n",
    "acquisto_rispetto_precedente = False\n",
    "vendita_rispetto_precedente = False\n",
    "\n",
    "df_transazioni = strategia_value_averaging_obiettivo_variabile(dati, liquidita_iniziale, bitcoin_iniziali, obiettivo_0, timeframe, acquisto_attivo, vendita_attiva, acquisto_rispetto_precedente, vendita_rispetto_precedente)\n",
    "df_transazioni"
   ]
  },
  {
   "cell_type": "code",
   "execution_count": 74,
   "metadata": {},
   "outputs": [],
   "source": [
    "def plot_transazioni(df_transazioni, colonne):\n",
    "    \"\"\"\n",
    "    Plotta le colonne specificate nel DataFrame df_transazioni.\n",
    "    \n",
    "    Args:\n",
    "    - df_transazioni: DataFrame contenente le transazioni con una colonna Timestamp.\n",
    "    - colonne: Lista di nomi delle colonne da plottare.\n",
    "    \"\"\"\n",
    "    plt.figure(figsize=(12, 6))\n",
    "    \n",
    "    # Converte Timestamp in formato datetime se non lo è già\n",
    "    if not pd.api.types.is_datetime64_any_dtype(df_transazioni[\"timestamp\"]):\n",
    "        df_transazioni[\"timestamp\"] = pd.to_datetime(df_transazioni[\"timestamp\"])\n",
    "    \n",
    "    # Plotta ogni colonna nell'elenco\n",
    "    for colonna in colonne:\n",
    "        if colonna in df_transazioni.columns:\n",
    "            plt.plot(df_transazioni[\"timestamp\"], df_transazioni[colonna], label=colonna)\n",
    "        else:\n",
    "            print(f\"Colonna '{colonna}' non trovata nel DataFrame\")\n",
    "    \n",
    "    # Configurazione del grafico\n",
    "    plt.xlabel(\"Timestamp\")\n",
    "    plt.ylabel(\"€\")\n",
    "    plt.title(\"Andamento delle colonne selezionate nel tempo\")\n",
    "    plt.legend()\n",
    "    plt.grid()\n",
    "    plt.show()"
   ]
  },
  {
   "cell_type": "code",
   "execution_count": 75,
   "metadata": {},
   "outputs": [
    {
     "data": {
      "image/png": "[encoded data removed]",
      "text/plain": [
       "<Figure size 1200x600 with 1 Axes>"
      ]
     },
     "metadata": {},
     "output_type": "display_data"
    }
   ],
   "source": [
    "plot_transazioni(df_transazioni, [\"obiettivo\", \"liquidità\", \"controvalore_bitcoin\", \"valore_totale_portafoglio\"])"
   ]
  },
  {
   "cell_type": "code",
   "execution_count": 76,
   "metadata": {},
   "outputs": [
    {
     "data": {
      "application/vnd.plotly.v1+json": {
       "config": {
        "plotlyServerURL": "https://plot.ly"
       },
       "data": [
        {
         "hoverinfo": "text",
         "line": {
          "color": "blue",
          "width": 2
         },
         "mode": "lines",
         "name": "Prezzi",
         "text": [
          "Timestamp: 2020-02-29 00:00:00<br>Prezzo: 7798.03 €<br>Fattore di variazione: 1.0<br>Fattore di variazione cumulativa: 1.0<br>Obiettivo: 50.00 €<br>Valore totale portafoglio: 1000.00 €",
          "Timestamp: 2020-03-01 00:00:00<br>Prezzo: 7748.16 €<br>Fattore di variazione: 0.9936059037377812<br>Fattore di variazione cumulativa: 1.0064352438307433<br>Obiettivo: 50.32 €<br>Valore totale portafoglio: 999.68 €",
          "Timestamp: 2020-03-02 00:00:00<br>Prezzo: 7959.36 €<br>Fattore di variazione: 1.0272572744515287<br>Fattore di variazione cumulativa: 1.0206888925526212<br>Obiettivo: 49.30 €<br>Valore totale portafoglio: 1001.05 €",
          "Timestamp: 2020-03-03 00:00:00<br>Prezzo: 7862.49 €<br>Fattore di variazione: 0.987829038218204<br>Fattore di variazione cumulativa: 0.9918016416216991<br>Obiettivo: 48.90 €<br>Valore totale portafoglio: 1000.45 €",
          "Timestamp: 2020-03-04 00:00:00<br>Prezzo: 7861.06 €<br>Fattore di variazione: 0.9998181013105524<br>Fattore di variazione cumulativa: 0.9919820818623454<br>Obiettivo: 48.51 €<br>Valore totale portafoglio: 1000.44 €",
          "Timestamp: 2020-03-05 00:00:00<br>Prezzo: 8089.79 €<br>Fattore di variazione: 1.0290967245384484<br>Fattore di variazione cumulativa: 1.037414630117536<br>Obiettivo: 46.76 €<br>Valore totale portafoglio: 1001.85 €",
          "Timestamp: 2020-03-06 00:00:00<br>Prezzo: 8082.74 €<br>Fattore di variazione: 0.999128977379245<br>Fattore di variazione cumulativa: 0.9647750792266822<br>Obiettivo: 45.11 €<br>Valore totale portafoglio: 1001.81 €",
          "Timestamp: 2020-03-07 00:00:00<br>Prezzo: 7894.34 €<br>Fattore di variazione: 0.9766915672145947<br>Fattore di variazione cumulativa: 0.9877991288264145<br>Obiettivo: 44.56 €<br>Valore totale portafoglio: 1000.76 €",
          "Timestamp: 2020-03-08 00:00:00<br>Prezzo: 7121.03 €<br>Fattore di variazione: 0.902042576963728<br>Fattore di variazione cumulativa: 1.0950692950119303<br>Obiettivo: 48.79 €<br>Valore totale portafoglio: 996.40 €",
          "Timestamp: 2020-03-09 00:00:00<br>Prezzo: 6952.21 €<br>Fattore di variazione: 0.9762916283309556<br>Fattore di variazione cumulativa: 1.1216620764064464<br>Obiettivo: 54.73 €<br>Valore totale portafoglio: 995.24 €",
          "Timestamp: 2020-03-10 00:00:00<br>Prezzo: 6989.21 €<br>Fattore di variazione: 1.0053227540325202<br>Fattore di variazione cumulativa: 0.8962795258740929<br>Obiettivo: 61.07 €<br>Valore totale portafoglio: 995.53 €",
          "Timestamp: 2020-03-11 00:00:00<br>Prezzo: 7024.83 €<br>Fattore di variazione: 1.005095954255387<br>Fattore di variazione cumulativa: 0.9008469253379872<br>Obiettivo: 67.79 €<br>Valore totale portafoglio: 995.84 €",
          "Timestamp: 2020-03-12 00:00:00<br>Prezzo: 4444.24 €<br>Fattore di variazione: 0.6326471672354617<br>Fattore di variazione cumulativa: 1.7546376001752622<br>Obiettivo: 118.94 €<br>Valore totale portafoglio: 970.94 €",
          "Timestamp: 2020-03-13 00:00:00<br>Prezzo: 4993.68 €<br>Fattore di variazione: 1.1236297487595308<br>Fattore di variazione cumulativa: 0.6403771061598685<br>Obiettivo: 185.74 €<br>Valore totale portafoglio: 985.65 €",
          "Timestamp: 2020-03-14 00:00:00<br>Prezzo: 4666.31 €<br>Fattore di variazione: 0.9344435654031646<br>Fattore di variazione cumulativa: 1.671133421691099<br>Obiettivo: 310.39 €<br>Valore totale portafoglio: 973.47 €",
          "Timestamp: 2020-03-15 00:00:00<br>Prezzo: 4834.84 €<br>Fattore di variazione: 1.036115556554516<br>Fattore di variazione cumulativa: 0.6200076804795284<br>Obiettivo: 500.62 €<br>Valore totale portafoglio: 984.68 €",
          "Timestamp: 2020-03-16 00:00:00<br>Prezzo: 4493.09 €<br>Fattore di variazione: 0.9293157851788534<br>Fattore di variazione cumulativa: 1.735559937043074<br>Obiettivo: 868.86 €<br>Valore totale portafoglio: 949.29 €",
          "Timestamp: 2020-03-17 00:00:00<br>Prezzo: 4744.93 €<br>Fattore di variazione: 1.0560515731243956<br>Fattore di variazione cumulativa: 0.6084788837218855<br>Obiettivo: 1427.92 €<br>Valore totale portafoglio: 997.99 €",
          "Timestamp: 2020-03-18 00:00:00<br>Prezzo: 4780.42 €<br>Fattore di variazione: 1.0074788850156289<br>Fattore di variazione cumulativa: 0.6130296273276796<br>Obiettivo: 2329.28 €<br>Valore totale portafoglio: 1004.86 €",
          "Timestamp: 2020-03-19 00:00:00<br>Prezzo: 5808.23 €<br>Fattore di variazione: 1.2150039906838421<br>Fattore di variazione cumulativa: 0.7448334436105593<br>Obiettivo: 3127.24 €<br>Valore totale portafoglio: 1203.61 €",
          "Timestamp: 2020-03-20 00:00:00<br>Prezzo: 5759.61 €<br>Fattore di variazione: 0.9916285113998388<br>Fattore di variazione cumulativa: 1.3539163295021268<br>Obiettivo: 4234.03 €<br>Valore totale portafoglio: 1194.21 €",
          "Timestamp: 2020-03-21 00:00:00<br>Prezzo: 5746.33 €<br>Fattore di variazione: 0.9976956808321694<br>Fattore di variazione cumulativa: 1.3570433905986612<br>Obiettivo: 5745.76 €<br>Valore totale portafoglio: 1191.64 €",
          "Timestamp: 2020-03-22 00:00:00<br>Prezzo: 5452.09 €<br>Fattore di variazione: 0.9487948075599137<br>Fattore di variazione cumulativa: 1.4302812154807958<br>Obiettivo: 8218.05 €<br>Valore totale portafoglio: 1134.74 €",
          "Timestamp: 2020-03-23 00:00:00<br>Prezzo: 5960.81 €<br>Fattore di variazione: 1.0933063439838093<br>Fattore di variazione cumulativa: 0.7643995685256127<br>Obiettivo: 10750.99 €<br>Valore totale portafoglio: 1233.12 €",
          "Timestamp: 2020-03-24 00:00:00<br>Prezzo: 6236.60 €<br>Fattore di variazione: 1.0462670631584863<br>Fattore di variazione cumulativa: 0.799766091640907<br>Obiettivo: 13442.66 €<br>Valore totale portafoglio: 1286.45 €",
          "Timestamp: 2020-03-25 00:00:00<br>Prezzo: 6135.97 €<br>Fattore di variazione: 0.9838649290862044<br>Fattore di variazione cumulativa: 1.2708711854026717<br>Obiettivo: 17083.89 €<br>Valore totale portafoglio: 1266.99 €",
          "Timestamp: 2020-03-26 00:00:00<br>Prezzo: 6079.74 €<br>Fattore di variazione: 0.990835449017321<br>Fattore di variazione cumulativa: 1.282625875631601<br>Obiettivo: 21912.25 €<br>Valore totale portafoglio: 1256.11 €",
          "Timestamp: 2020-03-27 00:00:00<br>Prezzo: 5793.70 €<br>Fattore di variazione: 0.9529533386800316<br>Fattore di variazione cumulativa: 1.3459482469605595<br>Obiettivo: 29492.75 €<br>Valore totale portafoglio: 1200.80 €",
          "Timestamp: 2020-03-28 00:00:00<br>Prezzo: 5589.10 €<br>Fattore di variazione: 0.9646858718035286<br>Fattore di variazione cumulativa: 1.3952191965289609<br>Obiettivo: 41148.85 €<br>Valore totale portafoglio: 1161.24 €",
          "Timestamp: 2020-03-29 00:00:00<br>Prezzo: 5315.30 €<br>Fattore di variazione: 0.9510110788586121<br>Fattore di variazione cumulativa: 1.4670903710222598<br>Obiettivo: 60369.08 €<br>Valore totale portafoglio: 1108.29 €",
          "Timestamp: 2020-03-30 00:00:00<br>Prezzo: 5830.16 €<br>Fattore di variazione: 1.096863004657012<br>Fattore di variazione cumulativa: 0.7476451528290821<br>Obiettivo: 80745.63 €<br>Valore totale portafoglio: 1207.85 €",
          "Timestamp: 2020-03-31 00:00:00<br>Prezzo: 5839.28 €<br>Fattore di variazione: 1.0015645518988021<br>Fattore di variazione cumulativa: 0.7488148824725709<br>Obiettivo: 107831.23 €<br>Valore totale portafoglio: 1209.61 €",
          "Timestamp: 2020-04-01 00:00:00<br>Prezzo: 6032.15 €<br>Fattore di variazione: 1.0330304583863938<br>Fattore di variazione cumulativa: 0.7735485812871935<br>Obiettivo: 139398.14 €<br>Valore totale portafoglio: 1246.91 €",
          "Timestamp: 2020-04-02 00:00:00<br>Prezzo: 6264.63 €<br>Fattore di variazione: 1.038540221519661<br>Fattore di variazione cumulativa: 0.8033613149662214<br>Obiettivo: 173518.61 €<br>Valore totale portafoglio: 1291.87 €",
          "Timestamp: 2020-04-03 00:00:00<br>Prezzo: 6232.12 €<br>Fattore di variazione: 0.9948102750381197<br>Fattore di variazione cumulativa: 1.2512636344141674<br>Obiettivo: 217117.52 €<br>Valore totale portafoglio: 1285.58 €",
          "Timestamp: 2020-04-04 00:00:00<br>Prezzo: 6355.88 €<br>Fattore di variazione: 1.019858763150804<br>Fattore di variazione cumulativa: 0.8150630571376708<br>Obiettivo: 266381.26 €<br>Valore totale portafoglio: 1309.51 €",
          "Timestamp: 2020-04-05 00:00:00<br>Prezzo: 6284.36 €<br>Fattore di variazione: 0.988747275838206<br>Fattore di variazione cumulativa: 1.240862016974955<br>Obiettivo: 330542.39 €<br>Valore totale portafoglio: 1295.68 €",
          "Timestamp: 2020-04-06 00:00:00<br>Prezzo: 6732.45 €<br>Fattore di variazione: 1.071301740827558<br>Fattore di variazione cumulativa: 0.8633528355064323<br>Obiettivo: 382858.98 €<br>Valore totale portafoglio: 1382.33 €",
          "Timestamp: 2020-04-07 00:00:00<br>Prezzo: 6586.58 €<br>Fattore di variazione: 0.9783343594632251<br>Fattore di variazione cumulativa: 1.1839254978343619<br>Obiettivo: 453276.51 €<br>Valore totale portafoglio: 1354.13 €",
          "Timestamp: 2020-04-08 00:00:00<br>Prezzo: 6752.57 €<br>Fattore di variazione: 1.0252005178020014<br>Fattore di variazione cumulativa: 0.8659333038077984<br>Obiettivo: 523454.30 €<br>Valore totale portafoglio: 1386.22 €",
          "Timestamp: 2020-04-09 00:00:00<br>Prezzo: 6683.56 €<br>Fattore di variazione: 0.9897799333355701<br>Fattore di variazione cumulativa: 1.1667475895548252<br>Obiettivo: 610739.04 €<br>Valore totale portafoglio: 1372.88 €",
          "Timestamp: 2020-04-10 00:00:00<br>Prezzo: 6277.59 €<br>Fattore di variazione: 0.9392592509253409<br>Fattore di variazione cumulativa: 1.242199731762415<br>Obiettivo: 758659.87 €<br>Valore totale portafoglio: 1294.37 €",
          "Timestamp: 2020-04-11 00:00:00<br>Prezzo: 6272.31 €<br>Fattore di variazione: 0.9991580920892003<br>Fattore di variazione cumulativa: 1.2432464307675517<br>Obiettivo: 943201.17 €<br>Valore totale portafoglio: 1293.35 €",
          "Timestamp: 2020-04-12 00:00:00<br>Prezzo: 6377.30 €<br>Fattore di variazione: 1.0167389230737254<br>Fattore di variazione cumulativa: 0.8178096457079826<br>Obiettivo: 1153326.06 €<br>Valore totale portafoglio: 1313.66 €",
          "Timestamp: 2020-04-13 00:00:00<br>Prezzo: 6267.41 €<br>Fattore di variazione: 0.9827677082229515<br>Fattore di variazione cumulativa: 1.2442191846051223<br>Obiettivo: 1434990.41 €<br>Valore totale portafoglio: 1292.40 €",
          "Timestamp: 2020-04-14 00:00:00<br>Prezzo: 6229.05 €<br>Fattore di variazione: 0.993879466604174<br>Fattore di variazione cumulativa: 1.2518813663152673<br>Obiettivo: 1796437.75 €<br>Valore totale portafoglio: 1284.99 €",
          "Timestamp: 2020-04-15 00:00:00<br>Prezzo: 6091.08 €<br>Fattore di variazione: 0.9778513665151561<br>Fattore di variazione cumulativa: 1.2802368633759678<br>Obiettivo: 2299865.83 €<br>Valore totale portafoglio: 1258.31 €",
          "Timestamp: 2020-04-16 00:00:00<br>Prezzo: 6554.14 €<br>Fattore di variazione: 1.0760217637004927<br>Fattore di variazione cumulativa: 0.8404864712792582<br>Obiettivo: 2736350.80 €<br>Valore totale portafoglio: 1347.85 €",
          "Timestamp: 2020-04-17 00:00:00<br>Prezzo: 6526.13 €<br>Fattore di variazione: 0.9957266214845724<br>Fattore di variazione cumulativa: 1.1948933777900548<br>Obiettivo: 3269647.45 €<br>Valore totale portafoglio: 1342.43 €",
          "Timestamp: 2020-04-18 00:00:00<br>Prezzo: 6673.71 €<br>Fattore di variazione: 1.022614703459083<br>Fattore di variazione cumulativa: 0.8558208811487432<br>Obiettivo: 3820481.04 €<br>Valore totale portafoglio: 1370.97 €",
          "Timestamp: 2020-04-19 00:00:00<br>Prezzo: 6616.67 €<br>Fattore di variazione: 0.9914517845456079<br>Fattore di variazione cumulativa: 1.1785432438954375<br>Obiettivo: 4502602.12 €<br>Valore totale portafoglio: 1359.94 €",
          "Timestamp: 2020-04-20 00:00:00<br>Prezzo: 6334.22 €<br>Fattore di variazione: 0.9573136308725674<br>Fattore di variazione cumulativa: 1.2310941846939176<br>Obiettivo: 5543127.29 €<br>Valore totale portafoglio: 1305.33 €",
          "Timestamp: 2020-04-21 00:00:00<br>Prezzo: 6337.51 €<br>Fattore di variazione: 1.000519483923287<br>Fattore di variazione cumulativa: 0.8127075055366639<br>Obiettivo: 6820568.60 €<br>Valore totale portafoglio: 1305.96 €",
          "Timestamp: 2020-04-22 00:00:00<br>Prezzo: 6585.74 €<br>Fattore di variazione: 1.0391672725706589<br>Fattore di variazione cumulativa: 0.8445390419262387<br>Obiettivo: 8076084.42 €<br>Valore totale portafoglio: 1353.96 €",
          "Timestamp: 2020-04-23 00:00:00<br>Prezzo: 6895.33 €<br>Fattore di variazione: 1.0470102516461428<br>Fattore di variazione cumulativa: 0.8842410348121836<br>Obiettivo: 9133351.77 €<br>Valore totale portafoglio: 1413.83 €",
          "Timestamp: 2020-04-24 00:00:00<br>Prezzo: 6977.33 €<br>Fattore di variazione: 1.0118910367736904<br>Fattore di variazione cumulativa: 0.8947555774739413<br>Obiettivo: 10207649.99 €<br>Valore totale portafoglio: 1429.69 €",
          "Timestamp: 2020-04-25 00:00:00<br>Prezzo: 6994.92 €<br>Fattore di variazione: 1.002520860325639<br>Fattore di variazione cumulativa: 0.8970111313103395<br>Obiettivo: 11379624.66 €<br>Valore totale portafoglio: 1433.09 €",
          "Timestamp: 2020-04-26 00:00:00<br>Prezzo: 7097.45 €<br>Fattore di variazione: 1.0146582464887306<br>Fattore di variazione cumulativa: 0.9101597415762215<br>Obiettivo: 12502887.29 €<br>Valore totale portafoglio: 1452.91 €",
          "Timestamp: 2020-04-27 00:00:00<br>Prezzo: 7201.93 €<br>Fattore di variazione: 1.0147215356309238<br>Fattore di variazione cumulativa: 0.9235586906416682<br>Obiettivo: 13537729.02 €<br>Valore totale portafoglio: 1473.12 €",
          "Timestamp: 2020-04-28 00:00:00<br>Prezzo: 7206.94 €<br>Fattore di variazione: 1.000694664695806<br>Fattore di variazione cumulativa: 0.9242002542585617<br>Obiettivo: 14648047.28 €<br>Valore totale portafoglio: 1474.09 €",
          "Timestamp: 2020-04-29 00:00:00<br>Prezzo: 8091.74 €<br>Fattore di variazione: 1.1227715834785927<br>Fattore di variazione cumulativa: 1.0376657829252032<br>Obiettivo: 14116344.13 €<br>Valore totale portafoglio: 1645.19 €",
          "Timestamp: 2020-04-30 00:00:00<br>Prezzo: 7911.76 €<br>Fattore di variazione: 0.9777573388869938<br>Fattore di variazione cumulativa: 0.9856243392545588<br>Obiettivo: 13913412.35 €<br>Valore totale portafoglio: 1610.38 €",
          "Timestamp: 2020-05-01 00:00:00<br>Prezzo: 7990.96 €<br>Fattore di variazione: 1.01000981899355<br>Fattore di variazione cumulativa: 1.0247411501195622<br>Obiettivo: 13577489.64 €<br>Valore totale portafoglio: 1625.70 €",
          "Timestamp: 2020-05-02 00:00:00<br>Prezzo: 8101.85 €<br>Fattore di variazione: 1.0138775625429182<br>Fattore di variazione cumulativa: 1.0389620595206481<br>Obiettivo: 13068320.95 €<br>Valore totale portafoglio: 1647.14 €",
          "Timestamp: 2020-05-03 00:00:00<br>Prezzo: 8119.24 €<br>Fattore di variazione: 1.002146379152869<br>Fattore di variazione cumulativa: 1.0411920660258251<br>Obiettivo: 12551306.69 €<br>Valore totale portafoglio: 1650.51 €",
          "Timestamp: 2020-05-04 00:00:00<br>Prezzo: 8173.67 €<br>Fattore di variazione: 1.0067036083080265<br>Fattore di variazione cumulativa: 1.0481718098098871<br>Obiettivo: 11974474.58 €<br>Valore totale portafoglio: 1661.03 €",
          "Timestamp: 2020-05-05 00:00:00<br>Prezzo: 8307.33 €<br>Fattore di variazione: 1.0163525248215646<br>Fattore di variazione cumulativa: 1.0653120653470678<br>Obiettivo: 11240344.47 €<br>Valore totale portafoglio: 1686.88 €",
          "Timestamp: 2020-05-06 00:00:00<br>Prezzo: 8582.73 €<br>Fattore di variazione: 1.0331518412471477<br>Fattore di variazione cumulativa: 1.1006291218161248<br>Obiettivo: 10212654.06 €<br>Valore totale portafoglio: 1740.13 €",
          "Timestamp: 2020-05-07 00:00:00<br>Prezzo: 9183.60 €<br>Fattore di variazione: 1.0700086019352077<br>Fattore di variazione cumulativa: 1.1776826278836472<br>Obiettivo: 8671821.95 €<br>Valore totale portafoglio: 1856.33 €",
          "Timestamp: 2020-05-08 00:00:00<br>Prezzo: 8973.58 €<br>Fattore di variazione: 0.9771308099973565<br>Fattore di variazione cumulativa: 0.8689984942774709<br>Obiettivo: 7535800.21 €<br>Valore totale portafoglio: 1815.71 €",
          "Timestamp: 2020-05-09 00:00:00<br>Prezzo: 8745.18 €<br>Fattore di variazione: 0.9745480002925254<br>Fattore di variazione cumulativa: 0.891693886824074<br>Obiettivo: 6719626.98 €<br>Valore totale portafoglio: 1771.55 €",
          "Timestamp: 2020-05-10 00:00:00<br>Prezzo: 8078.63 €<br>Fattore di variazione: 0.9237806930981086<br>Fattore di variazione cumulativa: 0.9652657751847744<br>Obiettivo: 6486225.95 €<br>Valore totale portafoglio: 1642.65 €",
          "Timestamp: 2020-05-11 00:00:00<br>Prezzo: 7958.57 €<br>Fattore di variazione: 0.9851386240561821<br>Fattore di variazione cumulativa: 0.9798273579107235<br>Obiettivo: 6355381.63 €<br>Valore totale portafoglio: 1619.44 €",
          "Timestamp: 2020-05-12 00:00:00<br>Prezzo: 8117.51 €<br>Fattore di variazione: 1.019970545710532<br>Fattore di variazione cumulativa: 1.0409696539657818<br>Obiettivo: 6105251.59 €<br>Valore totale portafoglio: 1650.17 €",
          "Timestamp: 2020-05-13 00:00:00<br>Prezzo: 8566.41 €<br>Fattore di variazione: 1.055300930419196<br>Fattore di variazione cumulativa: 1.098536244368238<br>Obiettivo: 5557624.18 €<br>Valore totale portafoglio: 1736.98 €",
          "Timestamp: 2020-05-14 00:00:00<br>Prezzo: 9006.84 €<br>Fattore di variazione: 1.0514126298106432<br>Fattore di variazione cumulativa: 1.1550148816335164<br>Obiettivo: 4811733.83 €<br>Valore totale portafoglio: 1822.14 €",
          "Timestamp: 2020-05-15 00:00:00<br>Prezzo: 8619.98 €<br>Fattore di variazione: 0.9570487910658138<br>Fattore di variazione cumulativa: 0.9046453206864818<br>Obiettivo: 4352912.49 €<br>Valore totale portafoglio: 1747.34 €",
          "Timestamp: 2020-05-16 00:00:00<br>Prezzo: 8665.09 €<br>Fattore di variazione: 1.0052333439939747<br>Fattore di variazione cumulativa: 1.111190563867796<br>Obiettivo: 3917341.12 €<br>Valore totale portafoglio: 1756.06 €",
          "Timestamp: 2020-05-17 00:00:00<br>Prezzo: 8938.74 €<br>Fattore di variazione: 1.0315806675378436<br>Fattore di variazione cumulativa: 1.1462827036364935<br>Obiettivo: 3417430.19 €<br>Valore totale portafoglio: 1808.98 €",
          "Timestamp: 2020-05-18 00:00:00<br>Prezzo: 8911.89 €<br>Fattore di variazione: 0.9969956098759001<br>Fattore di variazione cumulativa: 0.8750140262106044<br>Obiettivo: 2990299.35 €<br>Valore totale portafoglio: 1803.78 €",
          "Timestamp: 2020-05-19 00:00:00<br>Prezzo: 8904.07 €<br>Fattore di variazione: 0.9991233618372232<br>Fattore di variazione cumulativa: 0.8757817699323914<br>Obiettivo: 2618849.66 €<br>Valore totale portafoglio: 1802.27 €",
          "Timestamp: 2020-05-20 00:00:00<br>Prezzo: 8673.23 €<br>Fattore di variazione: 0.9740739294643472<br>Fattore di variazione cumulativa: 0.8990916843591044<br>Obiettivo: 2354585.95 €<br>Valore totale portafoglio: 1757.63 €",
          "Timestamp: 2020-05-21 00:00:00<br>Prezzo: 8294.29 €<br>Fattore di variazione: 0.9563098499062759<br>Fattore di variazione cumulativa: 0.9401677546740952<br>Obiettivo: 2213705.79 €<br>Valore totale portafoglio: 1684.36 €",
          "Timestamp: 2020-05-22 00:00:00<br>Prezzo: 8424.00 €<br>Fattore di variazione: 1.0156377544562778<br>Fattore di variazione cumulativa: 1.0802729081134503<br>Obiettivo: 2049209.76 €<br>Valore totale portafoglio: 1709.44 €",
          "Timestamp: 2020-05-23 00:00:00<br>Prezzo: 8448.50 €<br>Fattore di variazione: 1.002908706202473<br>Fattore di variazione cumulativa: 1.0834151046216438<br>Obiettivo: 1891435.47 €<br>Valore totale portafoglio: 1714.18 €",
          "Timestamp: 2020-05-24 00:00:00<br>Prezzo: 8058.64 €<br>Fattore di variazione: 0.9538546568287197<br>Fattore di variazione cumulativa: 0.9676602685575914<br>Obiettivo: 1830266.96 €<br>Valore totale portafoglio: 1638.79 €",
          "Timestamp: 2020-05-25 00:00:00<br>Prezzo: 8170.75 €<br>Fattore di variazione: 1.0139117594754514<br>Fattore di variazione cumulativa: 1.0477972408506584<br>Obiettivo: 1746775.89 €<br>Valore totale portafoglio: 1660.47 €",
          "Timestamp: 2020-05-26 00:00:00<br>Prezzo: 8047.23 €<br>Fattore di variazione: 0.9848828375990576<br>Fattore di variazione cumulativa: 0.9690321363192043<br>Obiettivo: 1692681.97 €<br>Valore totale portafoglio: 1636.58 €",
          "Timestamp: 2020-05-27 00:00:00<br>Prezzo: 8334.07 €<br>Fattore di variazione: 1.0356442948825688<br>Fattore di variazione cumulativa: 1.068740917939405<br>Obiettivo: 1583809.46 €<br>Valore totale portafoglio: 1692.05 €",
          "Timestamp: 2020-05-28 00:00:00<br>Prezzo: 8599.19 €<br>Fattore di variazione: 1.0318117216288045<br>Fattore di variazione cumulativa: 1.1027394065142062<br>Obiettivo: 1436249.99 €<br>Valore totale portafoglio: 1743.32 €",
          "Timestamp: 2020-05-29 00:00:00<br>Prezzo: 8499.88 €<br>Fattore di variazione: 0.9884517426524639<br>Fattore di variazione cumulativa: 0.9174272468307819<br>Obiettivo: 1317654.87 €<br>Valore totale portafoglio: 1724.11 €",
          "Timestamp: 2020-05-30 00:00:00<br>Prezzo: 8735.17 €<br>Fattore di variazione: 1.0276815563446287<br>Fattore di variazione cumulativa: 1.1201777142489677<br>Obiettivo: 1176290.92 €<br>Valore totale portafoglio: 1769.61 €",
          "Timestamp: 2020-05-31 00:00:00<br>Prezzo: 8510.14 €<br>Fattore di variazione: 0.9742378241527302<br>Fattore di variazione cumulativa: 0.9163219395617428<br>Obiettivo: 1077861.17 €<br>Valore totale portafoglio: 1726.10 €",
          "Timestamp: 2020-06-01 00:00:00<br>Prezzo: 9138.79 €<br>Fattore di variazione: 1.07387076603605<br>Fattore di variazione cumulativa: 1.1719361063750797<br>Obiettivo: 919726.91 €<br>Valore totale portafoglio: 1847.66 €",
          "Timestamp: 2020-06-02 00:00:00<br>Prezzo: 8519.60 €<br>Fattore di variazione: 0.9322458925773438<br>Fattore di variazione cumulativa: 0.9153044772232404<br>Obiettivo: 841830.16 €<br>Valore totale portafoglio: 1727.92 €",
          "Timestamp: 2020-06-03 00:00:00<br>Prezzo: 8595.48 €<br>Fattore di variazione: 1.0089071978806217<br>Fattore di variazione cumulativa: 1.1022640257822665<br>Obiettivo: 763728.23 €<br>Valore totale portafoglio: 1742.60 €",
          "Timestamp: 2020-06-04 00:00:00<br>Prezzo: 8642.15 €<br>Fattore di variazione: 1.005429473032428<br>Fattore di variazione cumulativa: 1.108248738584867<br>Obiettivo: 689130.71 €<br>Valore totale portafoglio: 1751.62 €",
          "Timestamp: 2020-06-05 00:00:00<br>Prezzo: 8560.42 €<br>Fattore di variazione: 0.990543036922497<br>Fattore di variazione cumulativa: 0.9109392286496475<br>Obiettivo: 627756.19 €<br>Valore totale portafoglio: 1735.82 €",
          "Timestamp: 2020-06-06 00:00:00<br>Prezzo: 8549.51 €<br>Fattore di variazione: 0.998725169903195<br>Fattore di variazione cumulativa: 0.9121020037353654<br>Obiettivo: 572577.68 €<br>Valore totale portafoglio: 1733.71 €",
          "Timestamp: 2020-06-07 00:00:00<br>Prezzo: 8621.27 €<br>Fattore di variazione: 1.0083936637912965<br>Fattore di variazione cumulativa: 1.1055711528552554<br>Obiettivo: 517902.15 €<br>Valore totale portafoglio: 1747.59 €",
          "Timestamp: 2020-06-08 00:00:00<br>Prezzo: 8644.08 €<br>Fattore di variazione: 1.0026459578375302<br>Fattore di variazione cumulativa: 1.1084964475121<br>Obiettivo: 467211.38 €<br>Valore totale portafoglio: 1752.00 €",
          "Timestamp: 2020-06-09 00:00:00<br>Prezzo: 8643.34 €<br>Fattore di variazione: 0.9999143652032606<br>Fattore di variazione cumulativa: 0.9022001327791979<br>Obiettivo: 421518.17 €<br>Valore totale portafoglio: 1751.85 €",
          "Timestamp: 2020-06-10 00:00:00<br>Prezzo: 8683.82 €<br>Fattore di variazione: 1.0046826360241081<br>Fattore di variazione cumulativa: 1.113591762538558<br>Obiettivo: 378521.27 €<br>Valore totale portafoglio: 1759.68 €",
          "Timestamp: 2020-06-11 00:00:00<br>Prezzo: 8257.71 €<br>Fattore di variazione: 0.950930750883721<br>Fattore di variazione cumulativa: 0.9443328523276191<br>Obiettivo: 357450.07 €<br>Valore totale portafoglio: 1677.28 €",
          "Timestamp: 2020-06-12 00:00:00<br>Prezzo: 8422.06 €<br>Fattore di variazione: 1.0199029221511056<br>Fattore di variazione cumulativa: 1.08002482349017<br>Obiettivo: 330964.68 €<br>Valore totale portafoglio: 1709.06 €",
          "Timestamp: 2020-06-13 00:00:00<br>Prezzo: 8418.42 €<br>Fattore di variazione: 0.9995680754287561<br>Fattore di variazione cumulativa: 0.9263047380501239<br>Obiettivo: 306574.15 €<br>Valore totale portafoglio: 1708.36 €",
          "Timestamp: 2020-06-14 00:00:00<br>Prezzo: 8342.95 €<br>Fattore di variazione: 0.9910345914014393<br>Fattore di variazione cumulativa: 0.934684567104989<br>Obiettivo: 286550.13 €<br>Valore totale portafoglio: 1693.76 €",
          "Timestamp: 2020-06-15 00:00:00<br>Prezzo: 8335.82 €<br>Fattore di variazione: 0.9991456342954262<br>Fattore di variazione cumulativa: 0.9354838123914802<br>Obiettivo: 268063.01 €<br>Valore totale portafoglio: 1692.39 €",
          "Timestamp: 2020-06-16 00:00:00<br>Prezzo: 8466.18 €<br>Fattore di variazione: 1.0156383389131127<br>Fattore di variazione cumulativa: 1.0856824302675263<br>Obiettivo: 246907.38 €<br>Valore totale portafoglio: 1717.59 €",
          "Timestamp: 2020-06-17 00:00:00<br>Prezzo: 8432.17 €<br>Fattore di variazione: 0.995983444237227<br>Fattore di variazione cumulativa: 0.9247941438039541<br>Obiettivo: 228338.50 €<br>Valore totale portafoglio: 1711.02 €",
          "Timestamp: 2020-06-18 00:00:00<br>Prezzo: 8397.58 €<br>Fattore di variazione: 0.9958976423430205<br>Fattore di variazione cumulativa: 0.928603607925225<br>Obiettivo: 212035.96 €<br>Valore totale portafoglio: 1704.33 €",
          "Timestamp: 2020-06-19 00:00:00<br>Prezzo: 8308.08 €<br>Fattore di variazione: 0.9893414736964516<br>Fattore di variazione cumulativa: 0.9386077836762535<br>Obiettivo: 199018.60 €<br>Valore totale portafoglio: 1687.02 €",
          "Timestamp: 2020-06-20 00:00:00<br>Prezzo: 8349.33 €<br>Fattore di variazione: 1.0049651653235139<br>Fattore di variazione cumulativa: 1.0706976681861275<br>Obiettivo: 185877.49 €<br>Valore totale portafoglio: 1695.00 €",
          "Timestamp: 2020-06-21 00:00:00<br>Prezzo: 8324.28 €<br>Fattore di variazione: 0.9970003667959809<br>Fattore di variazione cumulativa: 0.9367804636895115<br>Obiettivo: 174126.40 €<br>Valore totale portafoglio: 1690.16 €",
          "Timestamp: 2020-06-22 00:00:00<br>Prezzo: 8554.97 €<br>Fattore di variazione: 1.0277122443678874<br>Fattore di variazione cumulativa: 1.0970683999111603<br>Obiettivo: 158719.73 €<br>Valore totale portafoglio: 1734.76 €",
          "Timestamp: 2020-06-23 00:00:00<br>Prezzo: 8512.66 €<br>Fattore di variazione: 0.995054157472238<br>Fattore di variazione cumulativa: 0.9160508365301665<br>Obiettivo: 145395.34 €<br>Valore totale portafoglio: 1726.58 €",
          "Timestamp: 2020-06-24 00:00:00<br>Prezzo: 8278.50 €<br>Fattore di variazione: 0.9724927038784164<br>Fattore di variazione cumulativa: 0.9419616547012096<br>Obiettivo: 136956.84 €<br>Valore totale portafoglio: 1681.30 €",
          "Timestamp: 2020-06-25 00:00:00<br>Prezzo: 8257.80 €<br>Fattore di variazione: 0.9975002300293258<br>Fattore di variazione cumulativa: 0.9443222430871185<br>Obiettivo: 129331.39 €<br>Valore totale portafoglio: 1677.30 €",
          "Timestamp: 2020-06-26 00:00:00<br>Prezzo: 8167.83 €<br>Fattore di variazione: 0.9891051182777083<br>Fattore di variazione cumulativa: 0.954723846471881<br>Obiettivo: 123475.76 €<br>Valore totale portafoglio: 1659.90 €",
          "Timestamp: 2020-06-27 00:00:00<br>Prezzo: 8063.25 €<br>Fattore di variazione: 0.9871958073913701<br>Fattore di variazione cumulativa: 0.9671068690969271<br>Obiettivo: 119414.26 €<br>Valore totale portafoglio: 1639.68 €",
          "Timestamp: 2020-06-28 00:00:00<br>Prezzo: 8146.46 €<br>Fattore di variazione: 1.0103189873472913<br>Fattore di variazione cumulativa: 1.0446818439938443<br>Obiettivo: 114306.82 €<br>Valore totale portafoglio: 1655.77 €",
          "Timestamp: 2020-06-29 00:00:00<br>Prezzo: 8171.96 €<br>Fattore di variazione: 1.0031302554276442<br>Fattore di variazione cumulativa: 1.0479519650061673<br>Obiettivo: 109076.39 €<br>Valore totale portafoglio: 1660.70 €",
          "Timestamp: 2020-06-30 00:00:00<br>Prezzo: 8133.87 €<br>Fattore di variazione: 0.9953387773915019<br>Fattore di variazione cumulativa: 0.9587109761728729<br>Obiettivo: 104572.73 €<br>Valore totale portafoglio: 1653.33 €",
          "Timestamp: 2020-07-01 00:00:00<br>Prezzo: 8201.65 €<br>Fattore di variazione: 1.008333215273047<br>Fattore di variazione cumulativa: 1.0517593313662306<br>Obiettivo: 99426.48 €<br>Valore totale portafoglio: 1666.44 €",
          "Timestamp: 2020-07-02 00:00:00<br>Prezzo: 8118.01 €<br>Fattore di variazione: 0.9898025072614278<br>Fattore di variazione cumulativa: 0.9605833985186174<br>Obiettivo: 95507.43 €<br>Valore totale portafoglio: 1650.27 €",
          "Timestamp: 2020-07-03 00:00:00<br>Prezzo: 8079.52 €<br>Fattore di variazione: 0.9952589021144091<br>Fattore di variazione cumulativa: 0.9651593132981536<br>Obiettivo: 92179.89 €<br>Valore totale portafoglio: 1642.82 €",
          "Timestamp: 2020-07-04 00:00:00<br>Prezzo: 8121.38 €<br>Fattore di variazione: 1.0051801970174283<br>Fattore di variazione cumulativa: 1.041465572748311<br>Obiettivo: 88509.78 €<br>Valore totale portafoglio: 1650.92 €",
          "Timestamp: 2020-07-05 00:00:00<br>Prezzo: 8067.41 €<br>Fattore di variazione: 0.9933547278933385<br>Fattore di variazione cumulativa: 0.9666087420513036<br>Obiettivo: 85554.32 €<br>Valore totale portafoglio: 1640.48 €",
          "Timestamp: 2020-07-06 00:00:00<br>Prezzo: 8287.68 €<br>Fattore di variazione: 1.0273035747563755<br>Fattore di variazione cumulativa: 1.0627915205652572<br>Obiettivo: 80499.63 €<br>Valore totale portafoglio: 1683.08 €",
          "Timestamp: 2020-07-07 00:00:00<br>Prezzo: 8205.98 €<br>Fattore di variazione: 0.9901429079794216<br>Fattore di variazione cumulativa: 0.9502853588993454<br>Obiettivo: 76497.62 €<br>Valore totale portafoglio: 1667.28 €",
          "Timestamp: 2020-07-08 00:00:00<br>Prezzo: 8316.37 €<br>Fattore di variazione: 1.0134513842616983<br>Fattore di variazione cumulativa: 1.0664705867251434<br>Obiettivo: 71729.70 €<br>Valore totale portafoglio: 1688.62 €",
          "Timestamp: 2020-07-09 00:00:00<br>Prezzo: 8218.99 €<br>Fattore di variazione: 0.9882911587868329<br>Fattore di variazione cumulativa: 0.9487814994951431<br>Obiettivo: 68055.82 €<br>Valore totale portafoglio: 1669.79 €",
          "Timestamp: 2020-07-10 00:00:00<br>Prezzo: 8210.90 €<br>Fattore di variazione: 0.9990157131813875<br>Fattore di variazione cumulativa: 0.9497162927234923<br>Obiettivo: 64633.72 €<br>Valore totale portafoglio: 1668.23 €",
          "Timestamp: 2020-07-11 00:00:00<br>Prezzo: 8177.30 €<br>Fattore di variazione: 0.9959078073854283<br>Fattore di variazione cumulativa: 0.9536186840595183<br>Obiettivo: 61635.92 €<br>Valore totale portafoglio: 1661.73 €",
          "Timestamp: 2020-07-12 00:00:00<br>Prezzo: 8201.41 €<br>Fattore di variazione: 1.0029483295923893<br>Fattore di variazione cumulativa: 1.0517288999863936<br>Obiettivo: 58604.38 €<br>Valore totale portafoglio: 1666.39 €",
          "Timestamp: 2020-07-13 00:00:00<br>Prezzo: 8146.83 €<br>Fattore di variazione: 0.9933453342562247<br>Fattore di variazione cumulativa: 0.9571851139645152<br>Obiettivo: 56095.24 €<br>Valore totale portafoglio: 1655.84 €",
          "Timestamp: 2020-07-14 00:00:00<br>Prezzo: 8101.29 €<br>Fattore di variazione: 0.9944097323591641<br>Fattore di variazione cumulativa: 0.9625661161759387<br>Obiettivo: 53995.38 €<br>Valore totale portafoglio: 1647.03 €",
          "Timestamp: 2020-07-15 00:00:00<br>Prezzo: 8051.53 €<br>Fattore di variazione: 0.9938577359082597<br>Fattore di variazione cumulativa: 0.9685149910276399<br>Obiettivo: 52295.33 €<br>Valore totale portafoglio: 1637.41 €",
          "Timestamp: 2020-07-16 00:00:00<br>Prezzo: 8017.41 €<br>Fattore di variazione: 0.995762644538686<br>Fattore di variazione cumulativa: 0.972636397177091<br>Obiettivo: 50864.34 €<br>Valore totale portafoglio: 1630.81 €",
          "Timestamp: 2020-07-17 00:00:00<br>Prezzo: 8007.91 €<br>Fattore di variazione: 0.9988146525341758<br>Fattore di variazione cumulativa: 0.9737906774888957<br>Obiettivo: 49531.22 €<br>Valore totale portafoglio: 1628.98 €",
          "Timestamp: 2020-07-18 00:00:00<br>Prezzo: 8013.51 €<br>Fattore di variazione: 1.000699564852735<br>Fattore di variazione cumulativa: 1.0276331330602064<br>Obiettivo: 48199.33 €<br>Valore totale portafoglio: 1630.06 €",
          "Timestamp: 2020-07-19 00:00:00<br>Prezzo: 8026.40 €<br>Fattore di variazione: 1.0016087334937558<br>Fattore di variazione cumulativa: 1.0292863209006535<br>Obiettivo: 46827.91 €<br>Valore totale portafoglio: 1632.55 €",
          "Timestamp: 2020-07-20 00:00:00<br>Prezzo: 7998.32 €<br>Fattore di variazione: 0.9965015357642351<br>Fattore di variazione cumulativa: 0.9749578189075564<br>Obiettivo: 45655.24 €<br>Valore totale portafoglio: 1627.12 €",
          "Timestamp: 2020-07-21 00:00:00<br>Prezzo: 8126.14 €<br>Fattore di variazione: 1.015981075618773<br>Fattore di variazione cumulativa: 1.0420769554493992<br>Obiettivo: 43811.77 €<br>Valore totale portafoglio: 1651.84 €",
          "Timestamp: 2020-07-22 00:00:00<br>Prezzo: 8235.91 €<br>Fattore di variazione: 1.013507294436522<br>Fattore di variazione cumulativa: 1.0561525957121685<br>Obiettivo: 41482.42 €<br>Valore totale portafoglio: 1673.07 €",
          "Timestamp: 2020-07-23 00:00:00<br>Prezzo: 8262.81 €<br>Fattore di variazione: 1.0032670636279999<br>Fattore di variazione cumulativa: 1.0596031134432373<br>Obiettivo: 39149.02 €<br>Valore totale portafoglio: 1678.27 €",
          "Timestamp: 2020-07-24 00:00:00<br>Prezzo: 8181.61 €<br>Fattore di variazione: 0.9901730503763095<br>Fattore di variazione cumulativa: 0.9531158073677248<br>Obiettivo: 37313.55 €<br>Valore totale portafoglio: 1662.57 €",
          "Timestamp: 2020-07-25 00:00:00<br>Prezzo: 8302.23 €<br>Fattore di variazione: 1.0147419906939303<br>Fattore di variazione cumulativa: 1.0646576028325478<br>Obiettivo: 35047.47 €<br>Valore totale portafoglio: 1685.89 €",
          "Timestamp: 2020-07-26 00:00:00<br>Prezzo: 8499.58 €<br>Fattore di variazione: 1.0237715052236194<br>Fattore di variazione cumulativa: 1.0899661165996477<br>Obiettivo: 32154.64 €<br>Valore totale portafoglio: 1724.05 €",
          "Timestamp: 2020-07-27 00:00:00<br>Prezzo: 9340.19 €<br>Fattore di variazione: 1.0988993716834028<br>Fattore di variazione cumulativa: 1.1977630806875512<br>Obiettivo: 26845.57 €<br>Valore totale portafoglio: 1886.61 €",
          "Timestamp: 2020-07-28 00:00:00<br>Prezzo: 9311.41 €<br>Fattore di variazione: 0.9969189757967921<br>Fattore di variazione cumulativa: 0.8374699157325878<br>Obiettivo: 22482.36 €<br>Valore totale portafoglio: 1881.04 €",
          "Timestamp: 2020-07-29 00:00:00<br>Prezzo: 9420.31 €<br>Fattore di variazione: 1.0116955801454952<br>Fattore di variazione cumulativa: 1.2080381171191101<br>Obiettivo: 18610.64 €<br>Valore totale portafoglio: 1902.10 €",
          "Timestamp: 2020-07-30 00:00:00<br>Prezzo: 9356.71 €<br>Fattore di variazione: 0.9932482584176481<br>Fattore di variazione cumulativa: 0.8334154553623894<br>Obiettivo: 15510.39 €<br>Valore totale portafoglio: 1889.80 €",
          "Timestamp: 2020-07-31 00:00:00<br>Prezzo: 9613.43 €<br>Fattore di variazione: 1.0274371769086978<br>Fattore di variazione cumulativa: 1.2328031239376802<br>Obiettivo: 12581.40 €<br>Valore totale portafoglio: 1939.45 €",
          "Timestamp: 2020-08-01 00:00:00<br>Prezzo: 9983.69 €<br>Fattore di variazione: 1.038515248594775<br>Fattore di variazione cumulativa: 1.2802848427245552<br>Obiettivo: 9827.03 €<br>Valore totale portafoglio: 2011.05 €",
          "Timestamp: 2020-08-02 00:00:00<br>Prezzo: 9382.73 €<br>Fattore di variazione: 0.9398051686426588<br>Fattore di variazione cumulativa: 0.8311043719900462<br>Obiettivo: 8167.29 €<br>Valore totale portafoglio: 1894.83 €",
          "Timestamp: 2020-08-03 00:00:00<br>Prezzo: 9563.89 €<br>Fattore di variazione: 1.019308563680791<br>Fattore di variazione cumulativa: 1.2264507299367196<br>Obiettivo: 6659.29 €<br>Valore totale portafoglio: 1929.87 €",
          "Timestamp: 2020-08-04 00:00:00<br>Prezzo: 9484.98 €<br>Fattore di variazione: 0.9917488544358523<br>Fattore di variazione cumulativa: 0.8221445580961102<br>Obiettivo: 5474.90 €<br>Valore totale portafoglio: 1914.61 €",
          "Timestamp: 2020-08-05 00:00:00<br>Prezzo: 9894.44 €<br>Fattore di variazione: 1.0431686771263904<br>Fattore di variazione cumulativa: 1.2688385112493101<br>Obiettivo: 4314.89 €<br>Valore totale portafoglio: 1993.79 €",
          "Timestamp: 2020-08-06 00:00:00<br>Prezzo: 9919.75 €<br>Fattore di variazione: 1.0025581573923632<br>Fattore di variazione cumulativa: 1.2720843998665778<br>Obiettivo: 3391.98 €<br>Valore totale portafoglio: 1998.68 €",
          "Timestamp: 2020-08-07 00:00:00<br>Prezzo: 9841.05 €<br>Fattore di variazione: 0.992066999408633<br>Fattore di variazione cumulativa: 0.7923974513257054<br>Obiettivo: 2687.80 €<br>Valore totale portafoglio: 1983.46 €",
          "Timestamp: 2020-08-08 00:00:00<br>Prezzo: 9970.48 €<br>Fattore di variazione: 1.0131512212819405<br>Fattore di variazione cumulativa: 1.2785897021588184<br>Obiettivo: 2102.16 €<br>Valore totale portafoglio: 2008.49 €",
          "Timestamp: 2020-08-09 00:00:00<br>Prezzo: 9910.37 €<br>Fattore di variazione: 0.9939713609527034<br>Fattore di variazione cumulativa: 0.7868553940909417<br>Obiettivo: 1654.10 €<br>Valore totale portafoglio: 1996.87 €",
          "Timestamp: 2020-08-10 00:00:00<br>Prezzo: 10118.96 €<br>Fattore di variazione: 1.0210482315315323<br>Fattore di variazione cumulativa: 1.2976313553917422<br>Obiettivo: 1274.70 €<br>Valore totale portafoglio: 2031.68 €",
          "Timestamp: 2020-08-11 00:00:00<br>Prezzo: 9722.77 €<br>Fattore di variazione: 0.9608467355825011<br>Fattore di variazione cumulativa: 0.8020372697433609<br>Obiettivo: 1022.36 €<br>Valore totale portafoglio: 1981.77 €",
          "Timestamp: 2020-08-12 00:00:00<br>Prezzo: 9823.36 €<br>Fattore di variazione: 1.0103459992794381<br>Fattore di variazione cumulativa: 1.2597245008361428<br>Obiettivo: 811.57 €<br>Valore totale portafoglio: 1992.35 €",
          "Timestamp: 2020-08-13 00:00:00<br>Prezzo: 9972.73 €<br>Fattore di variazione: 1.015204801610478<br>Fattore di variazione cumulativa: 1.2788783619552149<br>Obiettivo: 634.60 €<br>Valore totale portafoglio: 2004.69 €",
          "Timestamp: 2020-08-14 00:00:00<br>Prezzo: 9937.87 €<br>Fattore di variazione: 0.996504822919384<br>Fattore di variazione cumulativa: 0.784677781753215<br>Obiettivo: 497.96 €<br>Valore totale portafoglio: 2002.47 €",
          "Timestamp: 2020-08-15 00:00:00<br>Prezzo: 10019.67 €<br>Fattore di variazione: 1.008231022056077<br>Fattore di variazione cumulativa: 1.2848981397222365<br>Obiettivo: 387.54 €<br>Valore totale portafoglio: 2006.57 €",
          "Timestamp: 2020-08-16 00:00:00<br>Prezzo: 10034.04 €<br>Fattore di variazione: 1.0014344832103184<br>Fattore di variazione cumulativa: 1.2867413045306375<br>Obiettivo: 301.18 €<br>Valore totale portafoglio: 2007.13 €",
          "Timestamp: 2020-08-17 00:00:00<br>Prezzo: 10319.69 €<br>Fattore di variazione: 1.0284678359089892<br>Fattore di variazione cumulativa: 1.3233720448453343<br>Obiettivo: 227.59 €<br>Valore totale portafoglio: 2015.70 €",
          "Timestamp: 2020-08-18 00:00:00<br>Prezzo: 10034.48 €<br>Fattore di variazione: 0.972362544218699<br>Fattore di variazione cumulativa: 0.7771231068813808<br>Obiettivo: 176.86 €<br>Valore totale portafoglio: 2009.41 €",
          "Timestamp: 2020-08-19 00:00:00<br>Prezzo: 9927.80 €<br>Fattore di variazione: 0.9893687847964056<br>Fattore di variazione cumulativa: 0.7854736462514317<br>Obiettivo: 138.92 €<br>Valore totale portafoglio: 2007.53 €",
          "Timestamp: 2020-08-20 00:00:00<br>Prezzo: 10006.64 €<br>Fattore di variazione: 1.0079410249862581<br>Fattore di variazione cumulativa: 1.2832270437035316<br>Obiettivo: 108.26 €<br>Valore totale portafoglio: 2008.63 €",
          "Timestamp: 2020-08-21 00:00:00<br>Prezzo: 9827.89 €<br>Fattore di variazione: 0.9821372473759361<br>Fattore di variazione cumulativa: 0.7934586781224237<br>Obiettivo: 85.90 €<br>Valore totale portafoglio: 2006.70 €",
          "Timestamp: 2020-08-22 00:00:00<br>Prezzo: 9904.05 €<br>Fattore di variazione: 1.007749289753602<br>Fattore di variazione cumulativa: 1.270071545676781<br>Obiettivo: 67.63 €<br>Valore totale portafoglio: 2007.37 €",
          "Timestamp: 2020-08-23 00:00:00<br>Prezzo: 9887.04 €<br>Fattore di variazione: 0.9982828403939834<br>Fattore di variazione cumulativa: 0.7887115625296007<br>Obiettivo: 53.34 €<br>Valore totale portafoglio: 2007.25 €",
          "Timestamp: 2020-08-24 00:00:00<br>Prezzo: 9983.13 €<br>Fattore di variazione: 1.0097179735198358<br>Fattore di variazione cumulativa: 1.2802119576913653<br>Obiettivo: 41.67 €<br>Valore totale portafoglio: 2007.77 €",
          "Timestamp: 2020-08-25 00:00:00<br>Prezzo: 9603.43 €<br>Fattore di variazione: 0.9619661927582686<br>Fattore di variazione cumulativa: 0.812004266460794<br>Obiettivo: 33.83 €<br>Valore totale portafoglio: 2006.18 €",
          "Timestamp: 2020-08-26 00:00:00<br>Prezzo: 9703.13 €<br>Fattore di variazione: 1.0103816263558185<br>Fattore di variazione cumulativa: 1.244305809820031<br>Obiettivo: 27.19 €<br>Valore totale portafoglio: 2006.53 €",
          "Timestamp: 2020-08-27 00:00:00<br>Prezzo: 9581.08 €<br>Fattore di variazione: 0.9874214020042665<br>Fattore di variazione cumulativa: 0.813898662759225<br>Obiettivo: 22.13 €<br>Valore totale portafoglio: 2006.19 €",
          "Timestamp: 2020-08-28 00:00:00<br>Prezzo: 9695.47 €<br>Fattore di variazione: 1.011939325797116<br>Fattore di variazione cumulativa: 1.2433234898881722<br>Obiettivo: 17.80 €<br>Valore totale portafoglio: 2006.46 €",
          "Timestamp: 2020-08-29 00:00:00<br>Prezzo: 9664.35 €<br>Fattore di variazione: 0.9967905432627999<br>Fattore di variazione cumulativa: 0.8068855761792089<br>Obiettivo: 14.36 €<br>Valore totale portafoglio: 2006.40 €",
          "Timestamp: 2020-08-30 00:00:00<br>Prezzo: 9824.92 €<br>Fattore di variazione: 1.0166148021441557<br>Fattore di variazione cumulativa: 1.259924371133344<br>Obiettivo: 11.40 €<br>Valore totale portafoglio: 2006.64 €",
          "Timestamp: 2020-08-31 00:00:00<br>Prezzo: 9785.02 €<br>Fattore di variazione: 0.9959389590467721<br>Fattore di variazione cumulativa: 0.7969348186761817<br>Obiettivo: 9.08 €<br>Valore totale portafoglio: 2006.59 €",
          "Timestamp: 2020-09-01 00:00:00<br>Prezzo: 10038.56 €<br>Fattore di variazione: 1.0259110303293537<br>Fattore di variazione cumulativa: 1.2873211287637465<br>Obiettivo: 7.06 €<br>Valore totale portafoglio: 2006.83 €"
         ],
         "type": "scatter",
         "x": [
          "2020-02-29T00:00:00",
          "2020-03-01T00:00:00",
          "2020-03-02T00:00:00",
          "2020-03-03T00:00:00",
          "2020-03-04T00:00:00",
          "2020-03-05T00:00:00",
          "2020-03-06T00:00:00",
          "2020-03-07T00:00:00",
          "2020-03-08T00:00:00",
          "2020-03-09T00:00:00",
          "2020-03-10T00:00:00",
          "2020-03-11T00:00:00",
          "2020-03-12T00:00:00",
          "2020-03-13T00:00:00",
          "2020-03-14T00:00:00",
          "2020-03-15T00:00:00",
          "2020-03-16T00:00:00",
          "2020-03-17T00:00:00",
          "2020-03-18T00:00:00",
          "2020-03-19T00:00:00",
          "2020-03-20T00:00:00",
          "2020-03-21T00:00:00",
          "2020-03-22T00:00:00",
          "2020-03-23T00:00:00",
          "2020-03-24T00:00:00",
          "2020-03-25T00:00:00",
          "2020-03-26T00:00:00",
          "2020-03-27T00:00:00",
          "2020-03-28T00:00:00",
          "2020-03-29T00:00:00",
          "2020-03-30T00:00:00",
          "2020-03-31T00:00:00",
          "2020-04-01T00:00:00",
          "2020-04-02T00:00:00",
          "2020-04-03T00:00:00",
          "2020-04-04T00:00:00",
          "2020-04-05T00:00:00",
          "2020-04-06T00:00:00",
          "2020-04-07T00:00:00",
          "2020-04-08T00:00:00",
          "2020-04-09T00:00:00",
          "2020-04-10T00:00:00",
          "2020-04-11T00:00:00",
          "2020-04-12T00:00:00",
          "2020-04-13T00:00:00",
          "2020-04-14T00:00:00",
          "2020-04-15T00:00:00",
          "2020-04-16T00:00:00",
          "2020-04-17T00:00:00",
          "2020-04-18T00:00:00",
          "2020-04-19T00:00:00",
          "2020-04-20T00:00:00",
          "2020-04-21T00:00:00",
          "2020-04-22T00:00:00",
          "2020-04-23T00:00:00",
          "2020-04-24T00:00:00",
          "2020-04-25T00:00:00",
          "2020-04-26T00:00:00",
          "2020-04-27T00:00:00",
          "2020-04-28T00:00:00",
          "2020-04-29T00:00:00",
          "2020-04-30T00:00:00",
          "2020-05-01T00:00:00",
          "2020-05-02T00:00:00",
          "2020-05-03T00:00:00",
          "2020-05-04T00:00:00",
          "2020-05-05T00:00:00",
          "2020-05-06T00:00:00",
          "2020-05-07T00:00:00",
          "2020-05-08T00:00:00",
          "2020-05-09T00:00:00",
          "2020-05-10T00:00:00",
          "2020-05-11T00:00:00",
          "2020-05-12T00:00:00",
          "2020-05-13T00:00:00",
          "2020-05-14T00:00:00",
          "2020-05-15T00:00:00",
          "2020-05-16T00:00:00",
          "2020-05-17T00:00:00",
          "2020-05-18T00:00:00",
          "2020-05-19T00:00:00",
          "2020-05-20T00:00:00",
          "2020-05-21T00:00:00",
          "2020-05-22T00:00:00",
          "2020-05-23T00:00:00",
          "2020-05-24T00:00:00",
          "2020-05-25T00:00:00",
          "2020-05-26T00:00:00",
          "2020-05-27T00:00:00",
          "2020-05-28T00:00:00",
          "2020-05-29T00:00:00",
          "2020-05-30T00:00:00",
          "2020-05-31T00:00:00",
          "2020-06-01T00:00:00",
          "2020-06-02T00:00:00",
          "2020-06-03T00:00:00",
          "2020-06-04T00:00:00",
          "2020-06-05T00:00:00",
          "2020-06-06T00:00:00",
          "2020-06-07T00:00:00",
          "2020-06-08T00:00:00",
          "2020-06-09T00:00:00",
          "2020-06-10T00:00:00",
          "2020-06-11T00:00:00",
          "2020-06-12T00:00:00",
          "2020-06-13T00:00:00",
          "2020-06-14T00:00:00",
          "2020-06-15T00:00:00",
          "2020-06-16T00:00:00",
          "2020-06-17T00:00:00",
          "2020-06-18T00:00:00",
          "2020-06-19T00:00:00",
          "2020-06-20T00:00:00",
          "2020-06-21T00:00:00",
          "2020-06-22T00:00:00",
          "2020-06-23T00:00:00",
          "2020-06-24T00:00:00",
          "2020-06-25T00:00:00",
          "2020-06-26T00:00:00",
          "2020-06-27T00:00:00",
          "2020-06-28T00:00:00",
          "2020-06-29T00:00:00",
          "2020-06-30T00:00:00",
          "2020-07-01T00:00:00",
          "2020-07-02T00:00:00",
          "2020-07-03T00:00:00",
          "2020-07-04T00:00:00",
          "2020-07-05T00:00:00",
          "2020-07-06T00:00:00",
          "2020-07-07T00:00:00",
          "2020-07-08T00:00:00",
          "2020-07-09T00:00:00",
          "2020-07-10T00:00:00",
          "2020-07-11T00:00:00",
          "2020-07-12T00:00:00",
          "2020-07-13T00:00:00",
          "2020-07-14T00:00:00",
          "2020-07-15T00:00:00",
          "2020-07-16T00:00:00",
          "2020-07-17T00:00:00",
          "2020-07-18T00:00:00",
          "2020-07-19T00:00:00",
          "2020-07-20T00:00:00",
          "2020-07-21T00:00:00",
          "2020-07-22T00:00:00",
          "2020-07-23T00:00:00",
          "2020-07-24T00:00:00",
          "2020-07-25T00:00:00",
          "2020-07-26T00:00:00",
          "2020-07-27T00:00:00",
          "2020-07-28T00:00:00",
          "2020-07-29T00:00:00",
          "2020-07-30T00:00:00",
          "2020-07-31T00:00:00",
          "2020-08-01T00:00:00",
          "2020-08-02T00:00:00",
          "2020-08-03T00:00:00",
          "2020-08-04T00:00:00",
          "2020-08-05T00:00:00",
          "2020-08-06T00:00:00",
          "2020-08-07T00:00:00",
          "2020-08-08T00:00:00",
          "2020-08-09T00:00:00",
          "2020-08-10T00:00:00",
          "2020-08-11T00:00:00",
          "2020-08-12T00:00:00",
          "2020-08-13T00:00:00",
          "2020-08-14T00:00:00",
          "2020-08-15T00:00:00",
          "2020-08-16T00:00:00",
          "2020-08-17T00:00:00",
          "2020-08-18T00:00:00",
          "2020-08-19T00:00:00",
          "2020-08-20T00:00:00",
          "2020-08-21T00:00:00",
          "2020-08-22T00:00:00",
          "2020-08-23T00:00:00",
          "2020-08-24T00:00:00",
          "2020-08-25T00:00:00",
          "2020-08-26T00:00:00",
          "2020-08-27T00:00:00",
          "2020-08-28T00:00:00",
          "2020-08-29T00:00:00",
          "2020-08-30T00:00:00",
          "2020-08-31T00:00:00",
          "2020-09-01T00:00:00"
         ],
         "y": [
          7798.02587890625,
          7748.16455078125,
          7959.3583984375,
          7862.4853515625,
          7861.05517578125,
          8089.7861328125,
          8082.73974609375,
          7894.34375,
          7121.0341796875,
          6952.2060546875,
          6989.2109375,
          7024.82763671875,
          4444.2373046875,
          4993.67724609375,
          4666.3095703125,
          4834.8359375,
          4493.08935546875,
          4744.93408203125,
          4780.4208984375,
          5808.23046875,
          5759.60693359375,
          5746.3349609375,
          5452.0927734375,
          5960.8076171875,
          6236.5966796875,
          6135.96875,
          6079.7353515625,
          5793.7041015625,
          5589.1044921875,
          5315.30029296875,
          5830.15625,
          5839.27783203125,
          6032.15185546875,
          6264.63232421875,
          6232.12060546875,
          6355.8828125,
          6284.36181640625,
          6732.44775390625,
          6586.5849609375,
          6752.5703125,
          6683.55859375,
          6277.59423828125,
          6272.30908203125,
          6377.30078125,
          6267.4052734375,
          6229.04541015625,
          6091.08056640625,
          6554.13525390625,
          6526.126953125,
          6673.71337890625,
          6616.6650390625,
          6334.2236328125,
          6337.51416015625,
          6585.7373046875,
          6895.33447265625,
          6977.3271484375,
          6994.916015625,
          7097.44921875,
          7201.9345703125,
          7206.9375,
          8091.74462890625,
          7911.7626953125,
          7990.9580078125,
          8101.85302734375,
          8119.24267578125,
          8173.6708984375,
          8307.3310546875,
          8582.734375,
          9183.599609375,
          8973.578125,
          8745.1826171875,
          8078.630859375,
          7958.5712890625,
          8117.50830078125,
          8566.4140625,
          9006.8359375,
          8619.9814453125,
          8665.0927734375,
          8938.7421875,
          8911.88671875,
          8904.07421875,
          8673.2265625,
          8294.2919921875,
          8423.99609375,
          8448.4990234375,
          8058.64013671875,
          8170.75,
          8047.2314453125,
          8334.0693359375,
          8599.1904296875,
          8499.884765625,
          8735.1748046875,
          8510.1376953125,
          9138.7880859375,
          8519.59765625,
          8595.4833984375,
          8642.15234375,
          8560.423828125,
          8549.5107421875,
          8621.2724609375,
          8644.083984375,
          8643.34375,
          8683.8173828125,
          8257.708984375,
          8422.0615234375,
          8418.423828125,
          8342.94921875,
          8335.8212890625,
          8466.1796875,
          8432.1748046875,
          8397.5830078125,
          8308.0771484375,
          8349.328125,
          8324.283203125,
          8554.9677734375,
          8512.65625,
          8278.49609375,
          8257.8017578125,
          8167.833984375,
          8063.25146484375,
          8146.4560546875,
          8171.95654296875,
          8133.865234375,
          8201.646484375,
          8118.01025390625,
          8079.52197265625,
          8121.37548828125,
          8067.40673828125,
          8287.67578125,
          8205.9833984375,
          8316.365234375,
          8218.990234375,
          8210.900390625,
          8177.2998046875,
          8201.4091796875,
          8146.83154296875,
          8101.28857421875,
          8051.5283203125,
          8017.4111328125,
          8007.90771484375,
          8013.509765625,
          8026.4013671875,
          7998.3212890625,
          8126.14306640625,
          8235.9052734375,
          8262.8125,
          8181.6142578125,
          8302.2275390625,
          8499.583984375,
          9340.1875,
          9311.41015625,
          9420.3125,
          9356.708984375,
          9613.4306640625,
          9983.6943359375,
          9382.7275390625,
          9563.89453125,
          9484.9814453125,
          9894.435546875,
          9919.7470703125,
          9841.0537109375,
          9970.4755859375,
          9910.3671875,
          10118.962890625,
          9722.7724609375,
          9823.3642578125,
          9972.7265625,
          9937.8701171875,
          10019.6689453125,
          10034.0419921875,
          10319.689453125,
          10034.4794921875,
          9927.80078125,
          10006.6376953125,
          9827.8916015625,
          9904.05078125,
          9887.0439453125,
          9983.1259765625,
          9603.4296875,
          9703.12890625,
          9581.0771484375,
          9695.46875,
          9664.3515625,
          9824.9228515625,
          9785.0234375,
          10038.5634765625
         ]
        },
        {
         "hoverinfo": "text",
         "marker": {
          "color": "green",
          "opacity": 0.7,
          "size": [
           14.955130723284906,
           10.063571057254107,
           10.019409876613764,
           10.049655648034197,
           10.852385373025003,
           10.702969192987533,
           10.598816335827726,
           10.635252246869754,
           17.537318680027738,
           15.16225922856857,
           23.560136095622937,
           27.74154373684573,
           50
          ]
         },
         "mode": "markers",
         "name": "Acquisti",
         "text": [
          "Timestamp: 2020-02-29 00:00:00<br>Prezzo: 7798.03 €<br>Liquidità spesa: -50.00 €<br>Bitcoin acquistati: 0.006411879208461026",
          "Timestamp: 2020-03-01 00:00:00<br>Prezzo: 7748.16 €<br>Liquidità spesa: -0.64 €<br>Bitcoin acquistati: 8.278954330976709e-05",
          "Timestamp: 2020-03-03 00:00:00<br>Prezzo: 7862.49 €<br>Liquidità spesa: -0.20 €<br>Bitcoin acquistati: 2.4910234354330488e-05",
          "Timestamp: 2020-03-07 00:00:00<br>Prezzo: 7894.34 €<br>Liquidità spesa: -0.50 €<br>Bitcoin acquistati: 6.346985538761768e-05",
          "Timestamp: 2020-03-08 00:00:00<br>Prezzo: 7121.03 €<br>Liquidità spesa: -8.60 €<br>Bitcoin acquistati: 0.0012078355454909397",
          "Timestamp: 2020-03-09 00:00:00<br>Prezzo: 6952.21 €<br>Liquidità spesa: -7.09 €<br>Bitcoin acquistati: 0.0010203015474986113",
          "Timestamp: 2020-03-10 00:00:00<br>Prezzo: 6989.21 €<br>Liquidità spesa: -6.04 €<br>Bitcoin acquistati: 0.0008645306198301635",
          "Timestamp: 2020-03-11 00:00:00<br>Prezzo: 7024.83 €<br>Liquidità spesa: -6.41 €<br>Bitcoin acquistati: 0.0009124843511245248",
          "Timestamp: 2020-03-12 00:00:00<br>Prezzo: 4444.24 €<br>Liquidità spesa: -76.06 €<br>Bitcoin acquistati: 0.017113330012036528",
          "Timestamp: 2020-03-13 00:00:00<br>Prezzo: 4993.68 €<br>Liquidità spesa: -52.09 €<br>Bitcoin acquistati: 0.010431198936049008",
          "Timestamp: 2020-03-14 00:00:00<br>Prezzo: 4666.31 €<br>Liquidità spesa: -136.83 €<br>Bitcoin acquistati: 0.029322796690224317",
          "Timestamp: 2020-03-15 00:00:00<br>Prezzo: 4834.84 €<br>Liquidità spesa: -179.02 €<br>Bitcoin acquistati: 0.037027513819601364",
          "Timestamp: 2020-03-16 00:00:00<br>Prezzo: 4493.09 €<br>Liquidità spesa: -403.62 €<br>Bitcoin acquistati: 0.0898317424650076"
         ],
         "type": "scatter",
         "x": [
          "2020-02-29T00:00:00",
          "2020-03-01T00:00:00",
          "2020-03-03T00:00:00",
          "2020-03-07T00:00:00",
          "2020-03-08T00:00:00",
          "2020-03-09T00:00:00",
          "2020-03-10T00:00:00",
          "2020-03-11T00:00:00",
          "2020-03-12T00:00:00",
          "2020-03-13T00:00:00",
          "2020-03-14T00:00:00",
          "2020-03-15T00:00:00",
          "2020-03-16T00:00:00"
         ],
         "y": [
          7798.02587890625,
          7748.16455078125,
          7862.4853515625,
          7894.34375,
          7121.0341796875,
          6952.2060546875,
          6989.2109375,
          7024.82763671875,
          4444.2373046875,
          4993.67724609375,
          4666.3095703125,
          4834.8359375,
          4493.08935546875
         ]
        },
        {
         "hoverinfo": "text",
         "marker": {
          "color": "red",
          "opacity": 0.7,
          "size": [
           10.230959805794203,
           10.037001953656356,
           10.30523005223321,
           10.155116012754837,
           35.33344329711554,
           50,
           29.549136811136286,
           31.37701443116495,
           28.28219486255142,
           22.981424005729814,
           21.058165977040446,
           18.393619592293803,
           17.935100446051894,
           14.29099432030819,
           13.48246760974094,
           13.067565684160527,
           11.97256309594599,
           11.828220647804164,
           11.368788094294661,
           11.177589165579652,
           10.603422911840989,
           10.675434120723018,
           10.455646840224697,
           10.443772579315924,
           10.32643332472601,
           10.309180486027444,
           10.219072443237302,
           10.218539166543694
          ]
         },
         "mode": "markers",
         "name": "Vendite",
         "text": [
          "Timestamp: 2020-03-02 00:00:00<br>Prezzo: 7959.36 €<br>Liquidità guadagnata: 2.39 €<br>Bitcoin venduti: -0.00030048062255103015",
          "Timestamp: 2020-03-04 00:00:00<br>Prezzo: 7861.06 €<br>Liquidità guadagnata: 0.38 €<br>Bitcoin venduti: -4.8741841804423585e-05",
          "Timestamp: 2020-03-05 00:00:00<br>Prezzo: 8089.79 €<br>Liquidità guadagnata: 3.16 €<br>Bitcoin venduti: -0.00039070446646723915",
          "Timestamp: 2020-03-06 00:00:00<br>Prezzo: 8082.74 €<br>Liquidità guadagnata: 1.61 €<br>Bitcoin venduti: -0.00019872667349306967",
          "Timestamp: 2020-08-09 00:00:00<br>Prezzo: 9910.37 €<br>Liquidità guadagnata: 262.33 €<br>Bitcoin venduti: -0.02647052789510139",
          "Timestamp: 2020-08-10 00:00:00<br>Prezzo: 10118.96 €<br>Liquidità guadagnata: 414.21 €<br>Bitcoin venduti: -0.0409338047408098",
          "Timestamp: 2020-08-11 00:00:00<br>Prezzo: 9722.77 €<br>Liquidità guadagnata: 202.44 €<br>Bitcoin venduti: -0.02082071259245384",
          "Timestamp: 2020-08-12 00:00:00<br>Prezzo: 9823.36 €<br>Liquidità guadagnata: 221.36 €<br>Bitcoin venduti: -0.0225343444048957",
          "Timestamp: 2020-08-13 00:00:00<br>Prezzo: 9972.73 €<br>Liquidità guadagnata: 189.32 €<br>Bitcoin venduti: -0.018983336563782923",
          "Timestamp: 2020-08-14 00:00:00<br>Prezzo: 9937.87 €<br>Liquidità guadagnata: 134.43 €<br>Bitcoin venduti: -0.013526553181205903",
          "Timestamp: 2020-08-15 00:00:00<br>Prezzo: 10019.67 €<br>Liquidità guadagnata: 114.51 €<br>Bitcoin venduti: -0.011428463805326272",
          "Timestamp: 2020-08-16 00:00:00<br>Prezzo: 10034.04 €<br>Liquidità guadagnata: 86.92 €<br>Bitcoin venduti: -0.008662265562148634",
          "Timestamp: 2020-08-17 00:00:00<br>Prezzo: 10319.69 €<br>Liquidità guadagnata: 82.17 €<br>Bitcoin venduti: -0.007962398801541194",
          "Timestamp: 2020-08-18 00:00:00<br>Prezzo: 10034.48 €<br>Liquidità guadagnata: 44.43 €<br>Bitcoin venduti: -0.0044281386988542105",
          "Timestamp: 2020-08-19 00:00:00<br>Prezzo: 9927.80 €<br>Liquidità guadagnata: 36.06 €<br>Bitcoin venduti: -0.0036323873751106664",
          "Timestamp: 2020-08-20 00:00:00<br>Prezzo: 10006.64 €<br>Liquidità guadagnata: 31.77 €<br>Bitcoin venduti: -0.0031744158613895043",
          "Timestamp: 2020-08-21 00:00:00<br>Prezzo: 9827.89 €<br>Liquidità guadagnata: 20.43 €<br>Bitcoin venduti: -0.00207839778822933",
          "Timestamp: 2020-08-22 00:00:00<br>Prezzo: 9904.05 €<br>Liquidità guadagnata: 18.93 €<br>Bitcoin venduti: -0.0019114981259339293",
          "Timestamp: 2020-08-23 00:00:00<br>Prezzo: 9887.04 €<br>Liquidità guadagnata: 14.17 €<br>Bitcoin venduti: -0.0014335996294446887",
          "Timestamp: 2020-08-24 00:00:00<br>Prezzo: 9983.13 €<br>Liquidità guadagnata: 12.19 €<br>Bitcoin venduti: -0.001221477229258928",
          "Timestamp: 2020-08-25 00:00:00<br>Prezzo: 9603.43 €<br>Liquidità guadagnata: 6.25 €<br>Bitcoin venduti: -0.0006506591787871013",
          "Timestamp: 2020-08-26 00:00:00<br>Prezzo: 9703.13 €<br>Liquidità guadagnata: 6.99 €<br>Bitcoin venduti: -0.0007208241366020111",
          "Timestamp: 2020-08-27 00:00:00<br>Prezzo: 9581.08 €<br>Liquidità guadagnata: 4.72 €<br>Bitcoin venduti: -0.0004924613499004981",
          "Timestamp: 2020-08-28 00:00:00<br>Prezzo: 9695.47 €<br>Liquidità guadagnata: 4.60 €<br>Bitcoin venduti: -0.0004739688262125443",
          "Timestamp: 2020-08-29 00:00:00<br>Prezzo: 9664.35 €<br>Liquidità guadagnata: 3.38 €<br>Bitcoin venduti: -0.00034976785513125103",
          "Timestamp: 2020-08-30 00:00:00<br>Prezzo: 9824.92 €<br>Liquidità guadagnata: 3.20 €<br>Bitcoin venduti: -0.00032586750255430186",
          "Timestamp: 2020-08-31 00:00:00<br>Prezzo: 9785.02 €<br>Liquidità guadagnata: 2.27 €<br>Bitcoin venduti: -0.00023183767193653005",
          "Timestamp: 2020-09-01 00:00:00<br>Prezzo: 10038.56 €<br>Liquidità guadagnata: 2.26 €<br>Bitcoin venduti: -0.00022543214242866662"
         ],
         "type": "scatter",
         "x": [
          "2020-03-02T00:00:00",
          "2020-03-04T00:00:00",
          "2020-03-05T00:00:00",
          "2020-03-06T00:00:00",
          "2020-08-09T00:00:00",
          "2020-08-10T00:00:00",
          "2020-08-11T00:00:00",
          "2020-08-12T00:00:00",
          "2020-08-13T00:00:00",
          "2020-08-14T00:00:00",
          "2020-08-15T00:00:00",
          "2020-08-16T00:00:00",
          "2020-08-17T00:00:00",
          "2020-08-18T00:00:00",
          "2020-08-19T00:00:00",
          "2020-08-20T00:00:00",
          "2020-08-21T00:00:00",
          "2020-08-22T00:00:00",
          "2020-08-23T00:00:00",
          "2020-08-24T00:00:00",
          "2020-08-25T00:00:00",
          "2020-08-26T00:00:00",
          "2020-08-27T00:00:00",
          "2020-08-28T00:00:00",
          "2020-08-29T00:00:00",
          "2020-08-30T00:00:00",
          "2020-08-31T00:00:00",
          "2020-09-01T00:00:00"
         ],
         "y": [
          7959.3583984375,
          7861.05517578125,
          8089.7861328125,
          8082.73974609375,
          9910.3671875,
          10118.962890625,
          9722.7724609375,
          9823.3642578125,
          9972.7265625,
          9937.8701171875,
          10019.6689453125,
          10034.0419921875,
          10319.689453125,
          10034.4794921875,
          9927.80078125,
          10006.6376953125,
          9827.8916015625,
          9904.05078125,
          9887.0439453125,
          9983.1259765625,
          9603.4296875,
          9703.12890625,
          9581.0771484375,
          9695.46875,
          9664.3515625,
          9824.9228515625,
          9785.0234375,
          10038.5634765625
         ]
        }
       ],
       "layout": {
        "height": 1120,
        "hovermode": "closest",
        "legend": {
         "x": 0.01,
         "xanchor": "left",
         "y": 0.99,
         "yanchor": "top"
        },
        "template": {
         "data": {
          "bar": [
           {
            "error_x": {
             "color": "#2a3f5f"
            },
            "error_y": {
             "color": "#2a3f5f"
            },
            "marker": {
             "line": {
              "color": "white",
              "width": 0.5
             },
             "pattern": {
              "fillmode": "overlay",
              "size": 10,
              "solidity": 0.2
             }
            },
            "type": "bar"
           }
          ],
          "barpolar": [
           {
            "marker": {
             "line": {
              "color": "white",
              "width": 0.5
             },
             "pattern": {
              "fillmode": "overlay",
              "size": 10,
              "solidity": 0.2
             }
            },
            "type": "barpolar"
           }
          ],
          "carpet": [
           {
            "aaxis": {
             "endlinecolor": "#2a3f5f",
             "gridcolor": "#C8D4E3",
             "linecolor": "#C8D4E3",
             "minorgridcolor": "#C8D4E3",
             "startlinecolor": "#2a3f5f"
            },
            "baxis": {
             "endlinecolor": "#2a3f5f",
             "gridcolor": "#C8D4E3",
             "linecolor": "#C8D4E3",
             "minorgridcolor": "#C8D4E3",
             "startlinecolor": "#2a3f5f"
            },
            "type": "carpet"
           }
          ],
          "choropleth": [
           {
            "colorbar": {
             "outlinewidth": 0,
             "ticks": ""
            },
            "type": "choropleth"
           }
          ],
          "contour": [
           {
            "colorbar": {
             "outlinewidth": 0,
             "ticks": ""
            },
            "colorscale": [
             [
              0,
              "#0d0887"
             ],
             [
              0.1111111111111111,
              "#46039f"
             ],
             [
              0.2222222222222222,
              "#7201a8"
             ],
             [
              0.3333333333333333,
              "#9c179e"
             ],
             [
              0.4444444444444444,
              "#bd3786"
             ],
             [
              0.5555555555555556,
              "#d8576b"
             ],
             [
              0.6666666666666666,
              "#ed7953"
             ],
             [
              0.7777777777777778,
              "#fb9f3a"
             ],
             [
              0.8888888888888888,
              "#fdca26"
             ],
             [
              1,
              "#f0f921"
             ]
            ],
            "type": "contour"
           }
          ],
          "contourcarpet": [
           {
            "colorbar": {
             "outlinewidth": 0,
             "ticks": ""
            },
            "type": "contourcarpet"
           }
          ],
          "heatmap": [
           {
            "colorbar": {
             "outlinewidth": 0,
             "ticks": ""
            },
            "colorscale": [
             [
              0,
              "#0d0887"
             ],
             [
              0.1111111111111111,
              "#46039f"
             ],
             [
              0.2222222222222222,
              "#7201a8"
             ],
             [
              0.3333333333333333,
              "#9c179e"
             ],
             [
              0.4444444444444444,
              "#bd3786"
             ],
             [
              0.5555555555555556,
              "#d8576b"
             ],
             [
              0.6666666666666666,
              "#ed7953"
             ],
             [
              0.7777777777777778,
              "#fb9f3a"
             ],
             [
              0.8888888888888888,
              "#fdca26"
             ],
             [
              1,
              "#f0f921"
             ]
            ],
            "type": "heatmap"
           }
          ],
          "heatmapgl": [
           {
            "colorbar": {
             "outlinewidth": 0,
             "ticks": ""
            },
            "colorscale": [
             [
              0,
              "#0d0887"
             ],
             [
              0.1111111111111111,
              "#46039f"
             ],
             [
              0.2222222222222222,
              "#7201a8"
             ],
             [
              0.3333333333333333,
              "#9c179e"
             ],
             [
              0.4444444444444444,
              "#bd3786"
             ],
             [
              0.5555555555555556,
              "#d8576b"
             ],
             [
              0.6666666666666666,
              "#ed7953"
             ],
             [
              0.7777777777777778,
              "#fb9f3a"
             ],
             [
              0.8888888888888888,
              "#fdca26"
             ],
             [
              1,
              "#f0f921"
             ]
            ],
            "type": "heatmapgl"
           }
          ],
          "histogram": [
           {
            "marker": {
             "pattern": {
              "fillmode": "overlay",
              "size": 10,
              "solidity": 0.2
             }
            },
            "type": "histogram"
           }
          ],
          "histogram2d": [
           {
            "colorbar": {
             "outlinewidth": 0,
             "ticks": ""
            },
            "colorscale": [
             [
              0,
              "#0d0887"
             ],
             [
              0.1111111111111111,
              "#46039f"
             ],
             [
              0.2222222222222222,
              "#7201a8"
             ],
             [
              0.3333333333333333,
              "#9c179e"
             ],
             [
              0.4444444444444444,
              "#bd3786"
             ],
             [
              0.5555555555555556,
              "#d8576b"
             ],
             [
              0.6666666666666666,
              "#ed7953"
             ],
             [
              0.7777777777777778,
              "#fb9f3a"
             ],
             [
              0.8888888888888888,
              "#fdca26"
             ],
             [
              1,
              "#f0f921"
             ]
            ],
            "type": "histogram2d"
           }
          ],
          "histogram2dcontour": [
           {
            "colorbar": {
             "outlinewidth": 0,
             "ticks": ""
            },
            "colorscale": [
             [
              0,
              "#0d0887"
             ],
             [
              0.1111111111111111,
              "#46039f"
             ],
             [
              0.2222222222222222,
              "#7201a8"
             ],
             [
              0.3333333333333333,
              "#9c179e"
             ],
             [
              0.4444444444444444,
              "#bd3786"
             ],
             [
              0.5555555555555556,
              "#d8576b"
             ],
             [
              0.6666666666666666,
              "#ed7953"
             ],
             [
              0.7777777777777778,
              "#fb9f3a"
             ],
             [
              0.8888888888888888,
              "#fdca26"
             ],
             [
              1,
              "#f0f921"
             ]
            ],
            "type": "histogram2dcontour"
           }
          ],
          "mesh3d": [
           {
            "colorbar": {
             "outlinewidth": 0,
             "ticks": ""
            },
            "type": "mesh3d"
           }
          ],
          "parcoords": [
           {
            "line": {
             "colorbar": {
              "outlinewidth": 0,
              "ticks": ""
             }
            },
            "type": "parcoords"
           }
          ],
          "pie": [
           {
            "automargin": true,
            "type": "pie"
           }
          ],
          "scatter": [
           {
            "fillpattern": {
             "fillmode": "overlay",
             "size": 10,
             "solidity": 0.2
            },
            "type": "scatter"
           }
          ],
          "scatter3d": [
           {
            "line": {
             "colorbar": {
              "outlinewidth": 0,
              "ticks": ""
             }
            },
            "marker": {
             "colorbar": {
              "outlinewidth": 0,
              "ticks": ""
             }
            },
            "type": "scatter3d"
           }
          ],
          "scattercarpet": [
           {
            "marker": {
             "colorbar": {
              "outlinewidth": 0,
              "ticks": ""
             }
            },
            "type": "scattercarpet"
           }
          ],
          "scattergeo": [
           {
            "marker": {
             "colorbar": {
              "outlinewidth": 0,
              "ticks": ""
             }
            },
            "type": "scattergeo"
           }
          ],
          "scattergl": [
           {
            "marker": {
             "colorbar": {
              "outlinewidth": 0,
              "ticks": ""
             }
            },
            "type": "scattergl"
           }
          ],
          "scattermapbox": [
           {
            "marker": {
             "colorbar": {
              "outlinewidth": 0,
              "ticks": ""
             }
            },
            "type": "scattermapbox"
           }
          ],
          "scatterpolar": [
           {
            "marker": {
             "colorbar": {
              "outlinewidth": 0,
              "ticks": ""
             }
            },
            "type": "scatterpolar"
           }
          ],
          "scatterpolargl": [
           {
            "marker": {
             "colorbar": {
              "outlinewidth": 0,
              "ticks": ""
             }
            },
            "type": "scatterpolargl"
           }
          ],
          "scatterternary": [
           {
            "marker": {
             "colorbar": {
              "outlinewidth": 0,
              "ticks": ""
             }
            },
            "type": "scatterternary"
           }
          ],
          "surface": [
           {
            "colorbar": {
             "outlinewidth": 0,
             "ticks": ""
            },
            "colorscale": [
             [
              0,
              "#0d0887"
             ],
             [
              0.1111111111111111,
              "#46039f"
             ],
             [
              0.2222222222222222,
              "#7201a8"
             ],
             [
              0.3333333333333333,
              "#9c179e"
             ],
             [
              0.4444444444444444,
              "#bd3786"
             ],
             [
              0.5555555555555556,
              "#d8576b"
             ],
             [
              0.6666666666666666,
              "#ed7953"
             ],
             [
              0.7777777777777778,
              "#fb9f3a"
             ],
             [
              0.8888888888888888,
              "#fdca26"
             ],
             [
              1,
              "#f0f921"
             ]
            ],
            "type": "surface"
           }
          ],
          "table": [
           {
            "cells": {
             "fill": {
              "color": "#EBF0F8"
             },
             "line": {
              "color": "white"
             }
            },
            "header": {
             "fill": {
              "color": "#C8D4E3"
             },
             "line": {
              "color": "white"
             }
            },
            "type": "table"
           }
          ]
         },
         "layout": {
          "annotationdefaults": {
           "arrowcolor": "#2a3f5f",
           "arrowhead": 0,
           "arrowwidth": 1
          },
          "autotypenumbers": "strict",
          "coloraxis": {
           "colorbar": {
            "outlinewidth": 0,
            "ticks": ""
           }
          },
          "colorscale": {
           "diverging": [
            [
             0,
             "#8e0152"
            ],
            [
             0.1,
             "#c51b7d"
            ],
            [
             0.2,
             "#de77ae"
            ],
            [
             0.3,
             "#f1b6da"
            ],
            [
             0.4,
             "#fde0ef"
            ],
            [
             0.5,
             "#f7f7f7"
            ],
            [
             0.6,
             "#e6f5d0"
            ],
            [
             0.7,
             "#b8e186"
            ],
            [
             0.8,
             "#7fbc41"
            ],
            [
             0.9,
             "#4d9221"
            ],
            [
             1,
             "#276419"
            ]
           ],
           "sequential": [
            [
             0,
             "#0d0887"
            ],
            [
             0.1111111111111111,
             "#46039f"
            ],
            [
             0.2222222222222222,
             "#7201a8"
            ],
            [
             0.3333333333333333,
             "#9c179e"
            ],
            [
             0.4444444444444444,
             "#bd3786"
            ],
            [
             0.5555555555555556,
             "#d8576b"
            ],
            [
             0.6666666666666666,
             "#ed7953"
            ],
            [
             0.7777777777777778,
             "#fb9f3a"
            ],
            [
             0.8888888888888888,
             "#fdca26"
            ],
            [
             1,
             "#f0f921"
            ]
           ],
           "sequentialminus": [
            [
             0,
             "#0d0887"
            ],
            [
             0.1111111111111111,
             "#46039f"
            ],
            [
             0.2222222222222222,
             "#7201a8"
            ],
            [
             0.3333333333333333,
             "#9c179e"
            ],
            [
             0.4444444444444444,
             "#bd3786"
            ],
            [
             0.5555555555555556,
             "#d8576b"
            ],
            [
             0.6666666666666666,
             "#ed7953"
            ],
            [
             0.7777777777777778,
             "#fb9f3a"
            ],
            [
             0.8888888888888888,
             "#fdca26"
            ],
            [
             1,
             "#f0f921"
            ]
           ]
          },
          "colorway": [
           "#636efa",
           "#EF553B",
           "#00cc96",
           "#ab63fa",
           "#FFA15A",
           "#19d3f3",
           "#FF6692",
           "#B6E880",
           "#FF97FF",
           "#FECB52"
          ],
          "font": {
           "color": "#2a3f5f"
          },
          "geo": {
           "bgcolor": "white",
           "lakecolor": "white",
           "landcolor": "white",
           "showlakes": true,
           "showland": true,
           "subunitcolor": "#C8D4E3"
          },
          "hoverlabel": {
           "align": "left"
          },
          "hovermode": "closest",
          "mapbox": {
           "style": "light"
          },
          "paper_bgcolor": "white",
          "plot_bgcolor": "white",
          "polar": {
           "angularaxis": {
            "gridcolor": "#EBF0F8",
            "linecolor": "#EBF0F8",
            "ticks": ""
           },
           "bgcolor": "white",
           "radialaxis": {
            "gridcolor": "#EBF0F8",
            "linecolor": "#EBF0F8",
            "ticks": ""
           }
          },
          "scene": {
           "xaxis": {
            "backgroundcolor": "white",
            "gridcolor": "#DFE8F3",
            "gridwidth": 2,
            "linecolor": "#EBF0F8",
            "showbackground": true,
            "ticks": "",
            "zerolinecolor": "#EBF0F8"
           },
           "yaxis": {
            "backgroundcolor": "white",
            "gridcolor": "#DFE8F3",
            "gridwidth": 2,
            "linecolor": "#EBF0F8",
            "showbackground": true,
            "ticks": "",
            "zerolinecolor": "#EBF0F8"
           },
           "zaxis": {
            "backgroundcolor": "white",
            "gridcolor": "#DFE8F3",
            "gridwidth": 2,
            "linecolor": "#EBF0F8",
            "showbackground": true,
            "ticks": "",
            "zerolinecolor": "#EBF0F8"
           }
          },
          "shapedefaults": {
           "line": {
            "color": "#2a3f5f"
           }
          },
          "ternary": {
           "aaxis": {
            "gridcolor": "#DFE8F3",
            "linecolor": "#A2B1C6",
            "ticks": ""
           },
           "baxis": {
            "gridcolor": "#DFE8F3",
            "linecolor": "#A2B1C6",
            "ticks": ""
           },
           "bgcolor": "white",
           "caxis": {
            "gridcolor": "#DFE8F3",
            "linecolor": "#A2B1C6",
            "ticks": ""
           }
          },
          "title": {
           "x": 0.05
          },
          "xaxis": {
           "automargin": true,
           "gridcolor": "#EBF0F8",
           "linecolor": "#EBF0F8",
           "ticks": "",
           "title": {
            "standoff": 15
           },
           "zerolinecolor": "#EBF0F8",
           "zerolinewidth": 2
          },
          "yaxis": {
           "automargin": true,
           "gridcolor": "#EBF0F8",
           "linecolor": "#EBF0F8",
           "ticks": "",
           "title": {
            "standoff": 15
           },
           "zerolinecolor": "#EBF0F8",
           "zerolinewidth": 2
          }
         }
        },
        "title": {
         "text": "Andamento dei prezzi e transazioni"
        },
        "width": 1000,
        "xaxis": {
         "rangeslider": {
          "visible": true
         },
         "title": {
          "text": "Data"
         },
         "type": "date"
        },
        "yaxis": {
         "title": {
          "text": "Prezzo (€)"
         }
        }
       }
      }
     },
     "metadata": {},
     "output_type": "display_data"
    }
   ],
   "source": [
    "# Filtraggio delle transazioni per Acquisti e Vendite\n",
    "acquisti = df_transazioni[df_transazioni['azione'] == 'Acquisto']\n",
    "vendite = df_transazioni[df_transazioni['azione'] == 'Vendita']\n",
    "\n",
    "# Calcolo delle dimensioni dei punti in base alla liquidità transatta in ogni operazione\n",
    "max_acquisto = acquisti['liquidita_transazione'].abs().max()\n",
    "max_vendita = vendite['liquidita_transazione'].abs().max()\n",
    "\n",
    "def calcola_dimensione(quantita, max_quantita, min_size=10, max_size=50):\n",
    "    return min_size + (max_size - min_size) * (quantita / max_quantita) if pd.notna(quantita) and max_quantita != 0 else None\n",
    "\n",
    "# Dimensioni dei punti per acquisti e vendite\n",
    "dimensioni_acquisti = acquisti['liquidita_transazione'].abs().apply(lambda x: calcola_dimensione(x, max_acquisto))\n",
    "dimensioni_vendite = vendite['liquidita_transazione'].abs().apply(lambda x: calcola_dimensione(x, max_vendita))\n",
    "\n",
    "# Funzione per formattare i valori\n",
    "def safe_format(value, precision=2):\n",
    "    return f\"{value:.{precision}f}\" if pd.notna(value) else \"None\"\n",
    "\n",
    "# Creazione del grafico dei prezzi con le transazioni\n",
    "fig = go.Figure()\n",
    "\n",
    "# Linea dell'andamento dei prezzi\n",
    "fig.add_trace(go.Scatter(\n",
    "    x=df_transazioni['timestamp'], \n",
    "    y=df_transazioni['prezzo'],\n",
    "    mode='lines',\n",
    "    name='Prezzi',\n",
    "    line=dict(color='blue', width=2),\n",
    "    text=[\n",
    "        f\"Timestamp: {data}<br>Prezzo: {safe_format(p)} €<br>Fattore di variazione: {fv or 'None'}<br>Fattore di variazione cumulativa: {fvc or 'None'}<br>Obiettivo: {safe_format(obj)} €<br>Valore totale portafoglio: {safe_format(val)} €\"\n",
    "        for data, p, fv, fvc, obj, val in zip(\n",
    "            df_transazioni['timestamp'], \n",
    "            df_transazioni['prezzo'], \n",
    "            df_transazioni['fattore_di_variazione'], \n",
    "            df_transazioni['fattore_di_variazione_cumulativa'], \n",
    "            df_transazioni['obiettivo'], \n",
    "            df_transazioni['valore_totale_portafoglio']\n",
    "        )\n",
    "    ],\n",
    "    hoverinfo='text'\n",
    "))\n",
    "\n",
    "# Scatter plot per gli acquisti\n",
    "if len(acquisti) > 0:\n",
    "    fig.add_trace(go.Scatter(\n",
    "        x=acquisti['timestamp'], \n",
    "        y=acquisti['prezzo'],\n",
    "        mode='markers', \n",
    "        name='Acquisti',\n",
    "        marker=dict(color='green', size=dimensioni_acquisti, opacity=0.7),\n",
    "        text=[\n",
    "            f\"Timestamp: {data}<br>Prezzo: {safe_format(p)} €<br>Liquidità spesa: {safe_format(euro)} €<br>Bitcoin acquistati: {btc or 'None'}\"\n",
    "            for data, p, euro, btc in zip(\n",
    "                acquisti['timestamp'], \n",
    "                acquisti['prezzo'], \n",
    "                acquisti['liquidita_transazione'], \n",
    "                acquisti['bitcoin_transazione']\n",
    "            )\n",
    "        ],\n",
    "        hoverinfo='text'\n",
    "    ))\n",
    "\n",
    "# Scatter plot per le vendite\n",
    "if len(vendite) > 0:\n",
    "    fig.add_trace(go.Scatter(\n",
    "        x=vendite['timestamp'], \n",
    "        y=vendite['prezzo'],\n",
    "        mode='markers', \n",
    "        name='Vendite',\n",
    "        marker=dict(color='red', size=dimensioni_vendite, opacity=0.7),\n",
    "        text=[\n",
    "            f\"Timestamp: {data}<br>Prezzo: {safe_format(p)} €<br>Liquidità guadagnata: {safe_format(euro)} €<br>Bitcoin venduti: {btc or 'None'}\"\n",
    "            for data, p, euro, btc in zip(\n",
    "                vendite['timestamp'], \n",
    "                vendite['prezzo'], \n",
    "                vendite['liquidita_transazione'], \n",
    "                vendite['bitcoin_transazione']\n",
    "            )\n",
    "        ],\n",
    "        hoverinfo='text'\n",
    "    ))\n",
    "\n",
    "# Configurazione del layout con range slider sull'asse X\n",
    "fig.update_layout(\n",
    "    title='Andamento dei prezzi e transazioni',\n",
    "    xaxis_title='Data',\n",
    "    yaxis_title='Prezzo (€)',\n",
    "    hovermode='closest',\n",
    "    template='plotly_white',\n",
    "    legend=dict(yanchor=\"top\", y=0.99, xanchor=\"left\", x=0.01),\n",
    "    width=1000,\n",
    "    height=7 / 10 * 1600,\n",
    "    \n",
    "    # Aggiunta del range slider\n",
    "    xaxis=dict(\n",
    "        rangeslider=dict(visible=True),  # Abilita il range slider\n",
    "        type=\"date\"  # Imposta l'asse x come asse temporale\n",
    "    )\n",
    ")\n",
    "\n",
    "# Mostra il grafico\n",
    "fig.show()"
   ]
  }
 ],
 "metadata": {
  "kernelspec": {
   "display_name": "myenv",
   "language": "python",
   "name": "python3"
  },
  "language_info": {
   "codemirror_mode": {
    "name": "ipython",
    "version": 3
   },
   "file_extension": ".py",
   "mimetype": "text/x-python",
   "name": "python",
   "nbconvert_exporter": "python",
   "pygments_lexer": "ipython3",
   "version": "3.10.9"
  }
 },
 "nbformat": 4,
 "nbformat_minor": 2
}
