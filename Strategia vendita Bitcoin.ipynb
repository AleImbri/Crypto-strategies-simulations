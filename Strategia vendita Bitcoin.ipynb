{
 "cells": [
  {
   "cell_type": "code",
   "execution_count": 12,
   "metadata": {},
   "outputs": [],
   "source": [
    "import pandas as pd\n",
    "import matplotlib.pyplot as plt\n",
    "import plotly.graph_objects as go"
   ]
  },
  {
   "cell_type": "code",
   "execution_count": 13,
   "metadata": {},
   "outputs": [
    {
     "data": {
      "text/html": [
       "<div>\n",
       "<style scoped>\n",
       "    .dataframe tbody tr th:only-of-type {\n",
       "        vertical-align: middle;\n",
       "    }\n",
       "\n",
       "    .dataframe tbody tr th {\n",
       "        vertical-align: top;\n",
       "    }\n",
       "\n",
       "    .dataframe thead th {\n",
       "        text-align: right;\n",
       "    }\n",
       "</style>\n",
       "<table border=\"1\" class=\"dataframe\">\n",
       "  <thead>\n",
       "    <tr style=\"text-align: right;\">\n",
       "      <th></th>\n",
       "      <th>Timestamp</th>\n",
       "      <th>Price</th>\n",
       "    </tr>\n",
       "  </thead>\n",
       "  <tbody>\n",
       "    <tr>\n",
       "      <th>0</th>\n",
       "      <td>2014-09-17</td>\n",
       "      <td>355.957367</td>\n",
       "    </tr>\n",
       "    <tr>\n",
       "      <th>1</th>\n",
       "      <td>2014-09-18</td>\n",
       "      <td>328.539368</td>\n",
       "    </tr>\n",
       "    <tr>\n",
       "      <th>2</th>\n",
       "      <td>2014-09-19</td>\n",
       "      <td>307.761139</td>\n",
       "    </tr>\n",
       "    <tr>\n",
       "      <th>3</th>\n",
       "      <td>2014-09-20</td>\n",
       "      <td>318.758972</td>\n",
       "    </tr>\n",
       "    <tr>\n",
       "      <th>4</th>\n",
       "      <td>2014-09-21</td>\n",
       "      <td>310.632446</td>\n",
       "    </tr>\n",
       "    <tr>\n",
       "      <th>...</th>\n",
       "      <td>...</td>\n",
       "      <td>...</td>\n",
       "    </tr>\n",
       "    <tr>\n",
       "      <th>3503</th>\n",
       "      <td>2024-04-20</td>\n",
       "      <td>59876.710938</td>\n",
       "    </tr>\n",
       "    <tr>\n",
       "      <th>3504</th>\n",
       "      <td>2024-04-21</td>\n",
       "      <td>60956.074219</td>\n",
       "    </tr>\n",
       "    <tr>\n",
       "      <th>3505</th>\n",
       "      <td>2024-04-22</td>\n",
       "      <td>60919.242188</td>\n",
       "    </tr>\n",
       "    <tr>\n",
       "      <th>3506</th>\n",
       "      <td>2024-04-23</td>\n",
       "      <td>62729.296875</td>\n",
       "    </tr>\n",
       "    <tr>\n",
       "      <th>3507</th>\n",
       "      <td>2024-04-24</td>\n",
       "      <td>62048.164062</td>\n",
       "    </tr>\n",
       "  </tbody>\n",
       "</table>\n",
       "<p>3508 rows × 2 columns</p>\n",
       "</div>"
      ],
      "text/plain": [
       "      Timestamp         Price\n",
       "0    2014-09-17    355.957367\n",
       "1    2014-09-18    328.539368\n",
       "2    2014-09-19    307.761139\n",
       "3    2014-09-20    318.758972\n",
       "4    2014-09-21    310.632446\n",
       "...         ...           ...\n",
       "3503 2024-04-20  59876.710938\n",
       "3504 2024-04-21  60956.074219\n",
       "3505 2024-04-22  60919.242188\n",
       "3506 2024-04-23  62729.296875\n",
       "3507 2024-04-24  62048.164062\n",
       "\n",
       "[3508 rows x 2 columns]"
      ]
     },
     "execution_count": 13,
     "metadata": {},
     "output_type": "execute_result"
    }
   ],
   "source": [
    "dati = pd.read_csv('Bitcoin (€) da yfinance dal 17-09-2014 al 24-04-2024.csv')\n",
    "dati = dati[['Date', 'Close']]\n",
    "dati = dati.rename(columns = {'Date':'Timestamp', 'Close': 'Price'})\n",
    "dati['Timestamp'] = pd.to_datetime(dati['Timestamp'])\n",
    "dati['Timestamp'] = dati['Timestamp'].dt.strftime('%Y-%m-%d')\n",
    "dati['Timestamp'] = pd.to_datetime(dati['Timestamp'], format='%Y-%m-%d')\n",
    "dati"
   ]
  },
  {
   "cell_type": "code",
   "execution_count": 14,
   "metadata": {},
   "outputs": [
    {
     "data": {
      "text/html": [
       "<div>\n",
       "<style scoped>\n",
       "    .dataframe tbody tr th:only-of-type {\n",
       "        vertical-align: middle;\n",
       "    }\n",
       "\n",
       "    .dataframe tbody tr th {\n",
       "        vertical-align: top;\n",
       "    }\n",
       "\n",
       "    .dataframe thead th {\n",
       "        text-align: right;\n",
       "    }\n",
       "</style>\n",
       "<table border=\"1\" class=\"dataframe\">\n",
       "  <thead>\n",
       "    <tr style=\"text-align: right;\">\n",
       "      <th></th>\n",
       "      <th>Timestamp</th>\n",
       "      <th>Price</th>\n",
       "    </tr>\n",
       "  </thead>\n",
       "  <tbody>\n",
       "    <tr>\n",
       "      <th>0</th>\n",
       "      <td>2021-02-01</td>\n",
       "      <td>27790.582031</td>\n",
       "    </tr>\n",
       "    <tr>\n",
       "      <th>1</th>\n",
       "      <td>2021-02-02</td>\n",
       "      <td>29501.521484</td>\n",
       "    </tr>\n",
       "    <tr>\n",
       "      <th>2</th>\n",
       "      <td>2021-02-03</td>\n",
       "      <td>31119.447266</td>\n",
       "    </tr>\n",
       "    <tr>\n",
       "      <th>3</th>\n",
       "      <td>2021-02-04</td>\n",
       "      <td>30859.554688</td>\n",
       "    </tr>\n",
       "    <tr>\n",
       "      <th>4</th>\n",
       "      <td>2021-02-05</td>\n",
       "      <td>31658.248047</td>\n",
       "    </tr>\n",
       "    <tr>\n",
       "      <th>...</th>\n",
       "      <td>...</td>\n",
       "      <td>...</td>\n",
       "    </tr>\n",
       "    <tr>\n",
       "      <th>146</th>\n",
       "      <td>2021-06-27</td>\n",
       "      <td>29013.742188</td>\n",
       "    </tr>\n",
       "    <tr>\n",
       "      <th>147</th>\n",
       "      <td>2021-06-28</td>\n",
       "      <td>28866.302734</td>\n",
       "    </tr>\n",
       "    <tr>\n",
       "      <th>148</th>\n",
       "      <td>2021-06-29</td>\n",
       "      <td>30139.980469</td>\n",
       "    </tr>\n",
       "    <tr>\n",
       "      <th>149</th>\n",
       "      <td>2021-06-30</td>\n",
       "      <td>29555.054688</td>\n",
       "    </tr>\n",
       "    <tr>\n",
       "      <th>150</th>\n",
       "      <td>2021-07-01</td>\n",
       "      <td>28341.414062</td>\n",
       "    </tr>\n",
       "  </tbody>\n",
       "</table>\n",
       "<p>151 rows × 2 columns</p>\n",
       "</div>"
      ],
      "text/plain": [
       "     Timestamp         Price\n",
       "0   2021-02-01  27790.582031\n",
       "1   2021-02-02  29501.521484\n",
       "2   2021-02-03  31119.447266\n",
       "3   2021-02-04  30859.554688\n",
       "4   2021-02-05  31658.248047\n",
       "..         ...           ...\n",
       "146 2021-06-27  29013.742188\n",
       "147 2021-06-28  28866.302734\n",
       "148 2021-06-29  30139.980469\n",
       "149 2021-06-30  29555.054688\n",
       "150 2021-07-01  28341.414062\n",
       "\n",
       "[151 rows x 2 columns]"
      ]
     },
     "execution_count": 14,
     "metadata": {},
     "output_type": "execute_result"
    }
   ],
   "source": [
    "data_inizio = '2021-02-01'\n",
    "data_fine = '2021-07-01'\n",
    "indice_inizio = dati[dati['Timestamp'] == data_inizio].index[0]\n",
    "indice_fine = dati[dati['Timestamp'] == data_fine].index[0]\n",
    "dati = dati[indice_inizio:indice_fine + 1].reset_index(drop=True)\n",
    "dati"
   ]
  },
  {
   "cell_type": "code",
   "execution_count": 15,
   "metadata": {},
   "outputs": [],
   "source": [
    "# Parametri di input\n",
    "bitcoin_iniziali = 0.02478146   # Quantità iniziale di Bitcoin posseduti\n",
    "liquidità_iniziale = 0  # Liquidità iniziale in euro\n",
    "prezzo_medio_acquisti = 15000  # Prezzo medio ponderato degli acquisti\n",
    "prezzo_medio_vendite = 20000   # Prezzo medio ponderato delle vendite\n",
    "pct_paracadute = 0.05  # Percentuale di paracadute (ad es., 5%)\n",
    "soglia_sopportabile = 0.3  # Percentuale di discesa sopportabile (es. 20%)\n",
    "vendita_rispetto_inizio = True  # Se vendere rispetto ai BTC iniziali\n",
    "\n",
    "# Calcola la base di riferimento per il prezzo (prezzo medio vendite + pct_paracadute)\n",
    "base_di_riferimento = prezzo_medio_vendite * (1 + pct_paracadute)"
   ]
  },
  {
   "cell_type": "code",
   "execution_count": 16,
   "metadata": {},
   "outputs": [
    {
     "data": {
      "image/png": "[encoded data removed]",
      "text/plain": [
       "<Figure size 1400x700 with 1 Axes>"
      ]
     },
     "metadata": {},
     "output_type": "display_data"
    }
   ],
   "source": [
    "# Creazione del grafico\n",
    "plt.figure(figsize=(14, 7))\n",
    "plt.plot(dati[\"Timestamp\"], dati[\"Price\"], color=\"blue\", label=\"Prezzo Bitcoin\")\n",
    "\n",
    "# Linea verde per il prezzo medio di acquisto\n",
    "plt.axhline(y=prezzo_medio_acquisti, color=\"green\", linestyle=\"--\", linewidth=1.5, label=\"Prezzo Medio Pesato Acquisto\")\n",
    "\n",
    "# Linea rossa per il prezzo medio di vendita\n",
    "plt.axhline(y=prezzo_medio_vendite, color=\"red\", linestyle=\"--\", linewidth=1.5, label=\"Prezzo Medio Pesato Vendita\")\n",
    "\n",
    "# Linea rossa per il prezzo medio di vendita\n",
    "plt.axhline(y=base_di_riferimento, color=\"purple\", linestyle=\"--\", linewidth=1.5, label=\"Prezzo Paracadute\")\n",
    "\n",
    "# Dettagli del grafico\n",
    "plt.title(\"Andamento del Prezzo di Bitcoin con soglie di Acquisto e Vendita e Paracadute\")\n",
    "plt.xlabel(\"Data\")\n",
    "plt.ylabel(\"Prezzo in Euro\")\n",
    "# plt.legend()\n",
    "plt.grid()\n",
    "\n",
    "# Mostra il grafico\n",
    "plt.show()"
   ]
  },
  {
   "cell_type": "code",
   "execution_count": 191,
   "metadata": {},
   "outputs": [
    {
     "data": {
      "text/html": [
       "<div>\n",
       "<style scoped>\n",
       "    .dataframe tbody tr th:only-of-type {\n",
       "        vertical-align: middle;\n",
       "    }\n",
       "\n",
       "    .dataframe tbody tr th {\n",
       "        vertical-align: top;\n",
       "    }\n",
       "\n",
       "    .dataframe thead th {\n",
       "        text-align: right;\n",
       "    }\n",
       "</style>\n",
       "<table border=\"1\" class=\"dataframe\">\n",
       "  <thead>\n",
       "    <tr style=\"text-align: right;\">\n",
       "      <th></th>\n",
       "      <th>Timestamp</th>\n",
       "      <th>prezzo</th>\n",
       "      <th>variazione % prezzo</th>\n",
       "      <th>% discesa relativa</th>\n",
       "      <th>azione</th>\n",
       "      <th>quantità BTC venduta</th>\n",
       "      <th>% BTC venduta attuali</th>\n",
       "      <th>% BTC venduta iniziali</th>\n",
       "      <th>liquidità guadagnata</th>\n",
       "      <th>liquidità</th>\n",
       "      <th>bitcoin</th>\n",
       "      <th>valore_totale_portafoglio</th>\n",
       "    </tr>\n",
       "  </thead>\n",
       "  <tbody>\n",
       "    <tr>\n",
       "      <th>0</th>\n",
       "      <td>2021-02-02</td>\n",
       "      <td>29501.521484</td>\n",
       "      <td>0.061565</td>\n",
       "      <td>-</td>\n",
       "      <td>-</td>\n",
       "      <td>0.0</td>\n",
       "      <td>-</td>\n",
       "      <td>-</td>\n",
       "      <td>0.0</td>\n",
       "      <td>0.000000</td>\n",
       "      <td>0.024781</td>\n",
       "      <td>731.090775</td>\n",
       "    </tr>\n",
       "    <tr>\n",
       "      <th>1</th>\n",
       "      <td>2021-02-03</td>\n",
       "      <td>31119.447266</td>\n",
       "      <td>0.054842</td>\n",
       "      <td>-</td>\n",
       "      <td>-</td>\n",
       "      <td>0.0</td>\n",
       "      <td>-</td>\n",
       "      <td>-</td>\n",
       "      <td>0.0</td>\n",
       "      <td>0.000000</td>\n",
       "      <td>0.024781</td>\n",
       "      <td>771.185338</td>\n",
       "    </tr>\n",
       "    <tr>\n",
       "      <th>2</th>\n",
       "      <td>2021-02-04</td>\n",
       "      <td>30859.554688</td>\n",
       "      <td>-0.008351</td>\n",
       "      <td>0.025682</td>\n",
       "      <td>-</td>\n",
       "      <td>0.0</td>\n",
       "      <td>-</td>\n",
       "      <td>-</td>\n",
       "      <td>0.0</td>\n",
       "      <td>0.000000</td>\n",
       "      <td>0.024781</td>\n",
       "      <td>764.744820</td>\n",
       "    </tr>\n",
       "    <tr>\n",
       "      <th>3</th>\n",
       "      <td>2021-02-05</td>\n",
       "      <td>31658.248047</td>\n",
       "      <td>0.025882</td>\n",
       "      <td>-</td>\n",
       "      <td>-</td>\n",
       "      <td>0.0</td>\n",
       "      <td>-</td>\n",
       "      <td>-</td>\n",
       "      <td>0.0</td>\n",
       "      <td>0.000000</td>\n",
       "      <td>0.024781</td>\n",
       "      <td>784.537608</td>\n",
       "    </tr>\n",
       "    <tr>\n",
       "      <th>4</th>\n",
       "      <td>2021-02-06</td>\n",
       "      <td>32588.472656</td>\n",
       "      <td>0.029383</td>\n",
       "      <td>-</td>\n",
       "      <td>-</td>\n",
       "      <td>0.0</td>\n",
       "      <td>-</td>\n",
       "      <td>-</td>\n",
       "      <td>0.0</td>\n",
       "      <td>0.000000</td>\n",
       "      <td>0.024781</td>\n",
       "      <td>807.589932</td>\n",
       "    </tr>\n",
       "    <tr>\n",
       "      <th>...</th>\n",
       "      <td>...</td>\n",
       "      <td>...</td>\n",
       "      <td>...</td>\n",
       "      <td>...</td>\n",
       "      <td>...</td>\n",
       "      <td>...</td>\n",
       "      <td>...</td>\n",
       "      <td>...</td>\n",
       "      <td>...</td>\n",
       "      <td>...</td>\n",
       "      <td>...</td>\n",
       "      <td>...</td>\n",
       "    </tr>\n",
       "    <tr>\n",
       "      <th>145</th>\n",
       "      <td>2021-06-27</td>\n",
       "      <td>29013.742188</td>\n",
       "      <td>0.075958</td>\n",
       "      <td>-</td>\n",
       "      <td>-</td>\n",
       "      <td>0.0</td>\n",
       "      <td>-</td>\n",
       "      <td>-</td>\n",
       "      <td>0.0</td>\n",
       "      <td>953.093882</td>\n",
       "      <td>0.000000</td>\n",
       "      <td>953.093882</td>\n",
       "    </tr>\n",
       "    <tr>\n",
       "      <th>146</th>\n",
       "      <td>2021-06-28</td>\n",
       "      <td>28866.302734</td>\n",
       "      <td>-0.005082</td>\n",
       "      <td>0.755124</td>\n",
       "      <td>-</td>\n",
       "      <td>0.0</td>\n",
       "      <td>-</td>\n",
       "      <td>-</td>\n",
       "      <td>0.0</td>\n",
       "      <td>953.093882</td>\n",
       "      <td>0.000000</td>\n",
       "      <td>953.093882</td>\n",
       "    </tr>\n",
       "    <tr>\n",
       "      <th>147</th>\n",
       "      <td>2021-06-29</td>\n",
       "      <td>30139.980469</td>\n",
       "      <td>0.044123</td>\n",
       "      <td>-</td>\n",
       "      <td>-</td>\n",
       "      <td>0.0</td>\n",
       "      <td>-</td>\n",
       "      <td>-</td>\n",
       "      <td>0.0</td>\n",
       "      <td>953.093882</td>\n",
       "      <td>0.000000</td>\n",
       "      <td>953.093882</td>\n",
       "    </tr>\n",
       "    <tr>\n",
       "      <th>148</th>\n",
       "      <td>2021-06-30</td>\n",
       "      <td>29555.054688</td>\n",
       "      <td>-0.019407</td>\n",
       "      <td>0.733683</td>\n",
       "      <td>-</td>\n",
       "      <td>0.0</td>\n",
       "      <td>-</td>\n",
       "      <td>-</td>\n",
       "      <td>0.0</td>\n",
       "      <td>953.093882</td>\n",
       "      <td>0.000000</td>\n",
       "      <td>953.093882</td>\n",
       "    </tr>\n",
       "    <tr>\n",
       "      <th>149</th>\n",
       "      <td>2021-07-01</td>\n",
       "      <td>28341.414062</td>\n",
       "      <td>-0.041064</td>\n",
       "      <td>0.771464</td>\n",
       "      <td>-</td>\n",
       "      <td>0.0</td>\n",
       "      <td>-</td>\n",
       "      <td>-</td>\n",
       "      <td>0.0</td>\n",
       "      <td>953.093882</td>\n",
       "      <td>0.000000</td>\n",
       "      <td>953.093882</td>\n",
       "    </tr>\n",
       "  </tbody>\n",
       "</table>\n",
       "<p>150 rows × 12 columns</p>\n",
       "</div>"
      ],
      "text/plain": [
       "     Timestamp        prezzo  variazione % prezzo % discesa relativa azione  \\\n",
       "0   2021-02-02  29501.521484             0.061565                  -      -   \n",
       "1   2021-02-03  31119.447266             0.054842                  -      -   \n",
       "2   2021-02-04  30859.554688            -0.008351           0.025682      -   \n",
       "3   2021-02-05  31658.248047             0.025882                  -      -   \n",
       "4   2021-02-06  32588.472656             0.029383                  -      -   \n",
       "..         ...           ...                  ...                ...    ...   \n",
       "145 2021-06-27  29013.742188             0.075958                  -      -   \n",
       "146 2021-06-28  28866.302734            -0.005082           0.755124      -   \n",
       "147 2021-06-29  30139.980469             0.044123                  -      -   \n",
       "148 2021-06-30  29555.054688            -0.019407           0.733683      -   \n",
       "149 2021-07-01  28341.414062            -0.041064           0.771464      -   \n",
       "\n",
       "     quantità BTC venduta % BTC venduta attuali % BTC venduta iniziali  \\\n",
       "0                     0.0                     -                      -   \n",
       "1                     0.0                     -                      -   \n",
       "2                     0.0                     -                      -   \n",
       "3                     0.0                     -                      -   \n",
       "4                     0.0                     -                      -   \n",
       "..                    ...                   ...                    ...   \n",
       "145                   0.0                     -                      -   \n",
       "146                   0.0                     -                      -   \n",
       "147                   0.0                     -                      -   \n",
       "148                   0.0                     -                      -   \n",
       "149                   0.0                     -                      -   \n",
       "\n",
       "     liquidità guadagnata   liquidità   bitcoin  valore_totale_portafoglio  \n",
       "0                     0.0    0.000000  0.024781                 731.090775  \n",
       "1                     0.0    0.000000  0.024781                 771.185338  \n",
       "2                     0.0    0.000000  0.024781                 764.744820  \n",
       "3                     0.0    0.000000  0.024781                 784.537608  \n",
       "4                     0.0    0.000000  0.024781                 807.589932  \n",
       "..                    ...         ...       ...                        ...  \n",
       "145                   0.0  953.093882  0.000000                 953.093882  \n",
       "146                   0.0  953.093882  0.000000                 953.093882  \n",
       "147                   0.0  953.093882  0.000000                 953.093882  \n",
       "148                   0.0  953.093882  0.000000                 953.093882  \n",
       "149                   0.0  953.093882  0.000000                 953.093882  \n",
       "\n",
       "[150 rows x 12 columns]"
      ]
     },
     "execution_count": 191,
     "metadata": {},
     "output_type": "execute_result"
    }
   ],
   "source": [
    "# Variabili iniziali\n",
    "btc_posseduti = bitcoin_iniziali\n",
    "liquidità = liquidità_iniziale\n",
    "massimo_prezzo_raggiunto = dati['Price'].iloc[0]  # Per tenere traccia del massimo raggiunto\n",
    "\n",
    "# DataFrame per registrare le transazioni giornaliere\n",
    "transazioni = []\n",
    "\n",
    "# Itera sulle righe del DataFrame (supponendo ordinato per data)\n",
    "for i in range(1, len(dati)):\n",
    "    # Aggiorna il massimo prezzo raggiunto\n",
    "    prezzo_attuale = dati[\"Price\"].iloc[i]\n",
    "    massimo_prezzo_raggiunto = max(massimo_prezzo_raggiunto, prezzo_attuale)\n",
    "\n",
    "    azione = \"-\"\n",
    "    btc_da_vendere = 0\n",
    "    liquidità_guadagnata = 0\n",
    "    pct_btc_venduta_attuali = '-'\n",
    "    pct_btc_venduta_iniziali = '-'\n",
    "\n",
    "    # Calcola la percentuale attuale di discesa rispetto alla base di riferimento\n",
    "    if massimo_prezzo_raggiunto > base_di_riferimento:\n",
    "        percentuale_discesa_relativa = (massimo_prezzo_raggiunto - prezzo_attuale) / (massimo_prezzo_raggiunto - base_di_riferimento)\n",
    "    else:\n",
    "        percentuale_discesa_relativa = 0\n",
    "    \n",
    "    # Controlla se il prezzo attuale è in discesa rispetto al prezzo di ieri\n",
    "    prezzo_ieri = dati[\"Price\"].iloc[i - 1]\n",
    "    prezzo_in_discesa = prezzo_attuale < prezzo_ieri\n",
    "    variazione_prezzo = (prezzo_attuale - prezzo_ieri) / prezzo_ieri if prezzo_ieri > 0 else 0\n",
    "\n",
    "    # Condizione di vendita\n",
    "    if percentuale_discesa_relativa > soglia_sopportabile and prezzo_in_discesa:\n",
    "        # Calcola la percentuale di BTC da vendere\n",
    "        percentuale_da_vendere = percentuale_discesa_relativa if percentuale_discesa_relativa <= 1 else 1\n",
    "        \n",
    "        if vendita_rispetto_inizio:\n",
    "            # Calcola la quantità di BTC da vendere rispetto ai BTC iniziali\n",
    "            btc_da_vendere = bitcoin_iniziali * percentuale_da_vendere\n",
    "        else:\n",
    "            # Calcola la quantità di BTC da vendere rispetto ai BTC attualmente posseduti\n",
    "            btc_da_vendere = btc_posseduti * percentuale_da_vendere\n",
    "\n",
    "        # Verifica di non vendere più BTC di quanti ne possieda\n",
    "        if btc_da_vendere > btc_posseduti:\n",
    "            btc_da_vendere = btc_posseduti\n",
    "\n",
    "        if btc_posseduti > 0:\n",
    "            # Effettua la vendita\n",
    "            liquidità_guadagnata = btc_da_vendere * prezzo_attuale\n",
    "            liquidità += liquidità_guadagnata\n",
    "            btc_posseduti_prima = btc_posseduti\n",
    "            btc_posseduti -= btc_da_vendere\n",
    "            azione = \"Vendita\"\n",
    "\n",
    "            # Calcola le percentuali di BTC venduta\n",
    "            pct_btc_venduta_attuali = (btc_da_vendere / btc_posseduti_prima)\n",
    "            pct_btc_venduta_iniziali = (btc_da_vendere / bitcoin_iniziali)\n",
    "\n",
    "    # Valore totale del portafoglio\n",
    "    valore_totale_portafoglio = liquidità + (btc_posseduti * prezzo_attuale)\n",
    "\n",
    "    # Registra i dati nel dataframe delle transazioni\n",
    "    transazioni.append({\n",
    "        \"Timestamp\": dati[\"Timestamp\"].iloc[i],\n",
    "        \"prezzo\": prezzo_attuale,\n",
    "        \"variazione % prezzo\": variazione_prezzo,  # Convertito in percentuale\n",
    "        \"% discesa relativa\": percentuale_discesa_relativa if prezzo_in_discesa else \"-\",\n",
    "        \"azione\": azione,\n",
    "        \"quantità BTC venduta\": btc_da_vendere,\n",
    "        \"% BTC venduta attuali\": pct_btc_venduta_attuali,\n",
    "        \"% BTC venduta iniziali\": pct_btc_venduta_iniziali,\n",
    "        \"liquidità guadagnata\": liquidità_guadagnata,\n",
    "        \"liquidità\": liquidità,\n",
    "        \"bitcoin\": btc_posseduti,\n",
    "        \"valore_totale_portafoglio\": valore_totale_portafoglio\n",
    "    })\n",
    "\n",
    "# Crea un DataFrame dalle transazioni\n",
    "df_transazioni = pd.DataFrame(transazioni)\n",
    "\n",
    "# Mostra le prime righe del DataFrame delle transazioni\n",
    "df_transazioni"
   ]
  },
  {
   "cell_type": "code",
   "execution_count": 192,
   "metadata": {},
   "outputs": [
    {
     "data": {
      "text/plain": [
       "np.float64(1.303660112604986)"
      ]
     },
     "execution_count": 192,
     "metadata": {},
     "output_type": "execute_result"
    }
   ],
   "source": [
    "df_transazioni['valore_totale_portafoglio'].iloc[-1] / df_transazioni['valore_totale_portafoglio'].iloc[0]"
   ]
  },
  {
   "cell_type": "code",
   "execution_count": 193,
   "metadata": {},
   "outputs": [
    {
     "data": {
      "text/html": [
       "<div>\n",
       "<style scoped>\n",
       "    .dataframe tbody tr th:only-of-type {\n",
       "        vertical-align: middle;\n",
       "    }\n",
       "\n",
       "    .dataframe tbody tr th {\n",
       "        vertical-align: top;\n",
       "    }\n",
       "\n",
       "    .dataframe thead th {\n",
       "        text-align: right;\n",
       "    }\n",
       "</style>\n",
       "<table border=\"1\" class=\"dataframe\">\n",
       "  <thead>\n",
       "    <tr style=\"text-align: right;\">\n",
       "      <th></th>\n",
       "      <th>Timestamp</th>\n",
       "      <th>prezzo</th>\n",
       "      <th>variazione % prezzo</th>\n",
       "      <th>% discesa relativa</th>\n",
       "      <th>azione</th>\n",
       "      <th>quantità BTC venduta</th>\n",
       "      <th>% BTC venduta attuali</th>\n",
       "      <th>% BTC venduta iniziali</th>\n",
       "      <th>liquidità guadagnata</th>\n",
       "      <th>liquidità</th>\n",
       "      <th>bitcoin</th>\n",
       "      <th>valore_totale_portafoglio</th>\n",
       "    </tr>\n",
       "  </thead>\n",
       "  <tbody>\n",
       "    <tr>\n",
       "      <th>0</th>\n",
       "      <td>2021-02-02</td>\n",
       "      <td>29501.521484</td>\n",
       "      <td>0.061565</td>\n",
       "      <td>-</td>\n",
       "      <td>-</td>\n",
       "      <td>0.000000</td>\n",
       "      <td>-</td>\n",
       "      <td>-</td>\n",
       "      <td>0.000000</td>\n",
       "      <td>0.000000</td>\n",
       "      <td>0.024781</td>\n",
       "      <td>731.090775</td>\n",
       "    </tr>\n",
       "    <tr>\n",
       "      <th>1</th>\n",
       "      <td>2021-02-03</td>\n",
       "      <td>31119.447266</td>\n",
       "      <td>0.054842</td>\n",
       "      <td>-</td>\n",
       "      <td>-</td>\n",
       "      <td>0.000000</td>\n",
       "      <td>-</td>\n",
       "      <td>-</td>\n",
       "      <td>0.000000</td>\n",
       "      <td>0.000000</td>\n",
       "      <td>0.024781</td>\n",
       "      <td>771.185338</td>\n",
       "    </tr>\n",
       "    <tr>\n",
       "      <th>2</th>\n",
       "      <td>2021-02-04</td>\n",
       "      <td>30859.554688</td>\n",
       "      <td>-0.008351</td>\n",
       "      <td>0.025682</td>\n",
       "      <td>-</td>\n",
       "      <td>0.000000</td>\n",
       "      <td>-</td>\n",
       "      <td>-</td>\n",
       "      <td>0.000000</td>\n",
       "      <td>0.000000</td>\n",
       "      <td>0.024781</td>\n",
       "      <td>764.744820</td>\n",
       "    </tr>\n",
       "    <tr>\n",
       "      <th>3</th>\n",
       "      <td>2021-02-05</td>\n",
       "      <td>31658.248047</td>\n",
       "      <td>0.025882</td>\n",
       "      <td>-</td>\n",
       "      <td>-</td>\n",
       "      <td>0.000000</td>\n",
       "      <td>-</td>\n",
       "      <td>-</td>\n",
       "      <td>0.000000</td>\n",
       "      <td>0.000000</td>\n",
       "      <td>0.024781</td>\n",
       "      <td>784.537608</td>\n",
       "    </tr>\n",
       "    <tr>\n",
       "      <th>4</th>\n",
       "      <td>2021-02-06</td>\n",
       "      <td>32588.472656</td>\n",
       "      <td>0.029383</td>\n",
       "      <td>-</td>\n",
       "      <td>-</td>\n",
       "      <td>0.000000</td>\n",
       "      <td>-</td>\n",
       "      <td>-</td>\n",
       "      <td>0.000000</td>\n",
       "      <td>0.000000</td>\n",
       "      <td>0.024781</td>\n",
       "      <td>807.589932</td>\n",
       "    </tr>\n",
       "    <tr>\n",
       "      <th>5</th>\n",
       "      <td>2021-02-07</td>\n",
       "      <td>32288.650391</td>\n",
       "      <td>-0.009200</td>\n",
       "      <td>0.025872</td>\n",
       "      <td>-</td>\n",
       "      <td>0.000000</td>\n",
       "      <td>-</td>\n",
       "      <td>-</td>\n",
       "      <td>0.000000</td>\n",
       "      <td>0.000000</td>\n",
       "      <td>0.024781</td>\n",
       "      <td>800.159898</td>\n",
       "    </tr>\n",
       "    <tr>\n",
       "      <th>6</th>\n",
       "      <td>2021-02-08</td>\n",
       "      <td>38329.667969</td>\n",
       "      <td>0.187094</td>\n",
       "      <td>-</td>\n",
       "      <td>-</td>\n",
       "      <td>0.000000</td>\n",
       "      <td>-</td>\n",
       "      <td>-</td>\n",
       "      <td>0.000000</td>\n",
       "      <td>0.000000</td>\n",
       "      <td>0.024781</td>\n",
       "      <td>949.865134</td>\n",
       "    </tr>\n",
       "    <tr>\n",
       "      <th>7</th>\n",
       "      <td>2021-02-09</td>\n",
       "      <td>38362.296875</td>\n",
       "      <td>0.000851</td>\n",
       "      <td>-</td>\n",
       "      <td>-</td>\n",
       "      <td>0.000000</td>\n",
       "      <td>-</td>\n",
       "      <td>-</td>\n",
       "      <td>0.000000</td>\n",
       "      <td>0.000000</td>\n",
       "      <td>0.024781</td>\n",
       "      <td>950.673726</td>\n",
       "    </tr>\n",
       "    <tr>\n",
       "      <th>8</th>\n",
       "      <td>2021-02-10</td>\n",
       "      <td>37065.046875</td>\n",
       "      <td>-0.033816</td>\n",
       "      <td>0.074716</td>\n",
       "      <td>-</td>\n",
       "      <td>0.000000</td>\n",
       "      <td>-</td>\n",
       "      <td>-</td>\n",
       "      <td>0.000000</td>\n",
       "      <td>0.000000</td>\n",
       "      <td>0.024781</td>\n",
       "      <td>918.525977</td>\n",
       "    </tr>\n",
       "    <tr>\n",
       "      <th>9</th>\n",
       "      <td>2021-02-11</td>\n",
       "      <td>39494.441406</td>\n",
       "      <td>0.065544</td>\n",
       "      <td>-</td>\n",
       "      <td>-</td>\n",
       "      <td>0.000000</td>\n",
       "      <td>-</td>\n",
       "      <td>-</td>\n",
       "      <td>0.000000</td>\n",
       "      <td>0.000000</td>\n",
       "      <td>0.024781</td>\n",
       "      <td>978.729920</td>\n",
       "    </tr>\n",
       "    <tr>\n",
       "      <th>10</th>\n",
       "      <td>2021-02-12</td>\n",
       "      <td>39194.921875</td>\n",
       "      <td>-0.007584</td>\n",
       "      <td>0.016195</td>\n",
       "      <td>-</td>\n",
       "      <td>0.000000</td>\n",
       "      <td>-</td>\n",
       "      <td>-</td>\n",
       "      <td>0.000000</td>\n",
       "      <td>0.000000</td>\n",
       "      <td>0.024781</td>\n",
       "      <td>971.307389</td>\n",
       "    </tr>\n",
       "    <tr>\n",
       "      <th>11</th>\n",
       "      <td>2021-02-13</td>\n",
       "      <td>38864.359375</td>\n",
       "      <td>-0.008434</td>\n",
       "      <td>0.034069</td>\n",
       "      <td>-</td>\n",
       "      <td>0.000000</td>\n",
       "      <td>-</td>\n",
       "      <td>-</td>\n",
       "      <td>0.000000</td>\n",
       "      <td>0.000000</td>\n",
       "      <td>0.024781</td>\n",
       "      <td>963.115567</td>\n",
       "    </tr>\n",
       "    <tr>\n",
       "      <th>12</th>\n",
       "      <td>2021-02-14</td>\n",
       "      <td>40194.054688</td>\n",
       "      <td>0.034214</td>\n",
       "      <td>-</td>\n",
       "      <td>-</td>\n",
       "      <td>0.000000</td>\n",
       "      <td>-</td>\n",
       "      <td>-</td>\n",
       "      <td>0.000000</td>\n",
       "      <td>0.000000</td>\n",
       "      <td>0.024781</td>\n",
       "      <td>996.067358</td>\n",
       "    </tr>\n",
       "    <tr>\n",
       "      <th>13</th>\n",
       "      <td>2021-02-15</td>\n",
       "      <td>39518.808594</td>\n",
       "      <td>-0.016800</td>\n",
       "      <td>0.03518</td>\n",
       "      <td>-</td>\n",
       "      <td>0.000000</td>\n",
       "      <td>-</td>\n",
       "      <td>-</td>\n",
       "      <td>0.000000</td>\n",
       "      <td>0.000000</td>\n",
       "      <td>0.024781</td>\n",
       "      <td>979.333774</td>\n",
       "    </tr>\n",
       "    <tr>\n",
       "      <th>14</th>\n",
       "      <td>2021-02-16</td>\n",
       "      <td>40700.742188</td>\n",
       "      <td>0.029908</td>\n",
       "      <td>-</td>\n",
       "      <td>-</td>\n",
       "      <td>0.000000</td>\n",
       "      <td>-</td>\n",
       "      <td>-</td>\n",
       "      <td>0.000000</td>\n",
       "      <td>0.000000</td>\n",
       "      <td>0.024781</td>\n",
       "      <td>1008.623814</td>\n",
       "    </tr>\n",
       "    <tr>\n",
       "      <th>15</th>\n",
       "      <td>2021-02-17</td>\n",
       "      <td>43293.167969</td>\n",
       "      <td>0.063695</td>\n",
       "      <td>-</td>\n",
       "      <td>-</td>\n",
       "      <td>0.000000</td>\n",
       "      <td>-</td>\n",
       "      <td>-</td>\n",
       "      <td>0.000000</td>\n",
       "      <td>0.000000</td>\n",
       "      <td>0.024781</td>\n",
       "      <td>1072.867910</td>\n",
       "    </tr>\n",
       "    <tr>\n",
       "      <th>16</th>\n",
       "      <td>2021-02-18</td>\n",
       "      <td>42739.449219</td>\n",
       "      <td>-0.012790</td>\n",
       "      <td>0.024838</td>\n",
       "      <td>-</td>\n",
       "      <td>0.000000</td>\n",
       "      <td>-</td>\n",
       "      <td>-</td>\n",
       "      <td>0.000000</td>\n",
       "      <td>0.000000</td>\n",
       "      <td>0.024781</td>\n",
       "      <td>1059.145951</td>\n",
       "    </tr>\n",
       "    <tr>\n",
       "      <th>17</th>\n",
       "      <td>2021-02-19</td>\n",
       "      <td>46119.000000</td>\n",
       "      <td>0.079073</td>\n",
       "      <td>-</td>\n",
       "      <td>-</td>\n",
       "      <td>0.000000</td>\n",
       "      <td>-</td>\n",
       "      <td>-</td>\n",
       "      <td>0.000000</td>\n",
       "      <td>0.000000</td>\n",
       "      <td>0.024781</td>\n",
       "      <td>1142.896154</td>\n",
       "    </tr>\n",
       "    <tr>\n",
       "      <th>18</th>\n",
       "      <td>2021-02-20</td>\n",
       "      <td>46293.437500</td>\n",
       "      <td>0.003782</td>\n",
       "      <td>-</td>\n",
       "      <td>-</td>\n",
       "      <td>0.000000</td>\n",
       "      <td>-</td>\n",
       "      <td>-</td>\n",
       "      <td>0.000000</td>\n",
       "      <td>0.000000</td>\n",
       "      <td>0.024781</td>\n",
       "      <td>1147.218970</td>\n",
       "    </tr>\n",
       "    <tr>\n",
       "      <th>19</th>\n",
       "      <td>2021-02-21</td>\n",
       "      <td>47456.125000</td>\n",
       "      <td>0.025116</td>\n",
       "      <td>-</td>\n",
       "      <td>-</td>\n",
       "      <td>0.000000</td>\n",
       "      <td>-</td>\n",
       "      <td>-</td>\n",
       "      <td>0.000000</td>\n",
       "      <td>0.000000</td>\n",
       "      <td>0.024781</td>\n",
       "      <td>1176.032063</td>\n",
       "    </tr>\n",
       "    <tr>\n",
       "      <th>20</th>\n",
       "      <td>2021-02-22</td>\n",
       "      <td>44563.242188</td>\n",
       "      <td>-0.060959</td>\n",
       "      <td>0.109346</td>\n",
       "      <td>-</td>\n",
       "      <td>0.000000</td>\n",
       "      <td>-</td>\n",
       "      <td>-</td>\n",
       "      <td>0.000000</td>\n",
       "      <td>0.000000</td>\n",
       "      <td>0.024781</td>\n",
       "      <td>1104.342204</td>\n",
       "    </tr>\n",
       "    <tr>\n",
       "      <th>21</th>\n",
       "      <td>2021-02-23</td>\n",
       "      <td>40181.332031</td>\n",
       "      <td>-0.098330</td>\n",
       "      <td>0.274976</td>\n",
       "      <td>-</td>\n",
       "      <td>0.000000</td>\n",
       "      <td>-</td>\n",
       "      <td>-</td>\n",
       "      <td>0.000000</td>\n",
       "      <td>0.000000</td>\n",
       "      <td>0.024781</td>\n",
       "      <td>995.752072</td>\n",
       "    </tr>\n",
       "    <tr>\n",
       "      <th>22</th>\n",
       "      <td>2021-02-24</td>\n",
       "      <td>40844.414062</td>\n",
       "      <td>0.016502</td>\n",
       "      <td>-</td>\n",
       "      <td>-</td>\n",
       "      <td>0.000000</td>\n",
       "      <td>-</td>\n",
       "      <td>-</td>\n",
       "      <td>0.000000</td>\n",
       "      <td>0.000000</td>\n",
       "      <td>0.024781</td>\n",
       "      <td>1012.184213</td>\n",
       "    </tr>\n",
       "    <tr>\n",
       "      <th>23</th>\n",
       "      <td>2021-02-25</td>\n",
       "      <td>38735.164062</td>\n",
       "      <td>-0.051641</td>\n",
       "      <td>0.329639</td>\n",
       "      <td>Vendita</td>\n",
       "      <td>0.008169</td>\n",
       "      <td>0.329639</td>\n",
       "      <td>0.329639</td>\n",
       "      <td>316.424714</td>\n",
       "      <td>316.424714</td>\n",
       "      <td>0.016613</td>\n",
       "      <td>959.913919</td>\n",
       "    </tr>\n",
       "    <tr>\n",
       "      <th>24</th>\n",
       "      <td>2021-02-26</td>\n",
       "      <td>38385.910156</td>\n",
       "      <td>-0.009016</td>\n",
       "      <td>0.34284</td>\n",
       "      <td>Vendita</td>\n",
       "      <td>0.008496</td>\n",
       "      <td>0.511425</td>\n",
       "      <td>0.34284</td>\n",
       "      <td>326.129491</td>\n",
       "      <td>642.554205</td>\n",
       "      <td>0.008116</td>\n",
       "      <td>954.111927</td>\n",
       "    </tr>\n",
       "    <tr>\n",
       "      <th>25</th>\n",
       "      <td>2021-02-27</td>\n",
       "      <td>38260.480469</td>\n",
       "      <td>-0.003268</td>\n",
       "      <td>0.347581</td>\n",
       "      <td>Vendita</td>\n",
       "      <td>0.008116</td>\n",
       "      <td>1.0</td>\n",
       "      <td>0.327521</td>\n",
       "      <td>310.539677</td>\n",
       "      <td>953.093882</td>\n",
       "      <td>0.000000</td>\n",
       "      <td>953.093882</td>\n",
       "    </tr>\n",
       "    <tr>\n",
       "      <th>26</th>\n",
       "      <td>2021-02-28</td>\n",
       "      <td>37332.503906</td>\n",
       "      <td>-0.024254</td>\n",
       "      <td>0.382657</td>\n",
       "      <td>-</td>\n",
       "      <td>0.000000</td>\n",
       "      <td>-</td>\n",
       "      <td>-</td>\n",
       "      <td>0.000000</td>\n",
       "      <td>953.093882</td>\n",
       "      <td>0.000000</td>\n",
       "      <td>953.093882</td>\n",
       "    </tr>\n",
       "    <tr>\n",
       "      <th>27</th>\n",
       "      <td>2021-03-01</td>\n",
       "      <td>41192.191406</td>\n",
       "      <td>0.103387</td>\n",
       "      <td>-</td>\n",
       "      <td>-</td>\n",
       "      <td>0.000000</td>\n",
       "      <td>-</td>\n",
       "      <td>-</td>\n",
       "      <td>0.000000</td>\n",
       "      <td>953.093882</td>\n",
       "      <td>0.000000</td>\n",
       "      <td>953.093882</td>\n",
       "    </tr>\n",
       "    <tr>\n",
       "      <th>28</th>\n",
       "      <td>2021-03-02</td>\n",
       "      <td>40032.695312</td>\n",
       "      <td>-0.028148</td>\n",
       "      <td>0.280594</td>\n",
       "      <td>-</td>\n",
       "      <td>0.000000</td>\n",
       "      <td>-</td>\n",
       "      <td>-</td>\n",
       "      <td>0.000000</td>\n",
       "      <td>953.093882</td>\n",
       "      <td>0.000000</td>\n",
       "      <td>953.093882</td>\n",
       "    </tr>\n",
       "    <tr>\n",
       "      <th>29</th>\n",
       "      <td>2021-03-03</td>\n",
       "      <td>41952.804688</td>\n",
       "      <td>0.047964</td>\n",
       "      <td>-</td>\n",
       "      <td>-</td>\n",
       "      <td>0.000000</td>\n",
       "      <td>-</td>\n",
       "      <td>-</td>\n",
       "      <td>0.000000</td>\n",
       "      <td>953.093882</td>\n",
       "      <td>0.000000</td>\n",
       "      <td>953.093882</td>\n",
       "    </tr>\n",
       "    <tr>\n",
       "      <th>30</th>\n",
       "      <td>2021-03-04</td>\n",
       "      <td>40578.535156</td>\n",
       "      <td>-0.032758</td>\n",
       "      <td>0.259962</td>\n",
       "      <td>-</td>\n",
       "      <td>0.000000</td>\n",
       "      <td>-</td>\n",
       "      <td>-</td>\n",
       "      <td>0.000000</td>\n",
       "      <td>953.093882</td>\n",
       "      <td>0.000000</td>\n",
       "      <td>953.093882</td>\n",
       "    </tr>\n",
       "    <tr>\n",
       "      <th>31</th>\n",
       "      <td>2021-03-05</td>\n",
       "      <td>41076.527344</td>\n",
       "      <td>0.012272</td>\n",
       "      <td>-</td>\n",
       "      <td>-</td>\n",
       "      <td>0.000000</td>\n",
       "      <td>-</td>\n",
       "      <td>-</td>\n",
       "      <td>0.000000</td>\n",
       "      <td>953.093882</td>\n",
       "      <td>0.000000</td>\n",
       "      <td>953.093882</td>\n",
       "    </tr>\n",
       "    <tr>\n",
       "      <th>32</th>\n",
       "      <td>2021-03-06</td>\n",
       "      <td>41047.320312</td>\n",
       "      <td>-0.000711</td>\n",
       "      <td>0.242243</td>\n",
       "      <td>-</td>\n",
       "      <td>0.000000</td>\n",
       "      <td>-</td>\n",
       "      <td>-</td>\n",
       "      <td>0.000000</td>\n",
       "      <td>953.093882</td>\n",
       "      <td>0.000000</td>\n",
       "      <td>953.093882</td>\n",
       "    </tr>\n",
       "    <tr>\n",
       "      <th>33</th>\n",
       "      <td>2021-03-07</td>\n",
       "      <td>42935.992188</td>\n",
       "      <td>0.046012</td>\n",
       "      <td>-</td>\n",
       "      <td>-</td>\n",
       "      <td>0.000000</td>\n",
       "      <td>-</td>\n",
       "      <td>-</td>\n",
       "      <td>0.000000</td>\n",
       "      <td>953.093882</td>\n",
       "      <td>0.000000</td>\n",
       "      <td>953.093882</td>\n",
       "    </tr>\n",
       "    <tr>\n",
       "      <th>34</th>\n",
       "      <td>2021-03-08</td>\n",
       "      <td>44086.503906</td>\n",
       "      <td>0.026796</td>\n",
       "      <td>-</td>\n",
       "      <td>-</td>\n",
       "      <td>0.000000</td>\n",
       "      <td>-</td>\n",
       "      <td>-</td>\n",
       "      <td>0.000000</td>\n",
       "      <td>953.093882</td>\n",
       "      <td>0.000000</td>\n",
       "      <td>953.093882</td>\n",
       "    </tr>\n",
       "    <tr>\n",
       "      <th>35</th>\n",
       "      <td>2021-03-09</td>\n",
       "      <td>46082.246094</td>\n",
       "      <td>0.045269</td>\n",
       "      <td>-</td>\n",
       "      <td>-</td>\n",
       "      <td>0.000000</td>\n",
       "      <td>-</td>\n",
       "      <td>-</td>\n",
       "      <td>0.000000</td>\n",
       "      <td>953.093882</td>\n",
       "      <td>0.000000</td>\n",
       "      <td>953.093882</td>\n",
       "    </tr>\n",
       "    <tr>\n",
       "      <th>36</th>\n",
       "      <td>2021-03-10</td>\n",
       "      <td>46969.328125</td>\n",
       "      <td>0.019250</td>\n",
       "      <td>-</td>\n",
       "      <td>-</td>\n",
       "      <td>0.000000</td>\n",
       "      <td>-</td>\n",
       "      <td>-</td>\n",
       "      <td>0.000000</td>\n",
       "      <td>953.093882</td>\n",
       "      <td>0.000000</td>\n",
       "      <td>953.093882</td>\n",
       "    </tr>\n",
       "    <tr>\n",
       "      <th>37</th>\n",
       "      <td>2021-03-11</td>\n",
       "      <td>48247.394531</td>\n",
       "      <td>0.027211</td>\n",
       "      <td>-</td>\n",
       "      <td>-</td>\n",
       "      <td>0.000000</td>\n",
       "      <td>-</td>\n",
       "      <td>-</td>\n",
       "      <td>0.000000</td>\n",
       "      <td>953.093882</td>\n",
       "      <td>0.000000</td>\n",
       "      <td>953.093882</td>\n",
       "    </tr>\n",
       "    <tr>\n",
       "      <th>38</th>\n",
       "      <td>2021-03-12</td>\n",
       "      <td>47962.937500</td>\n",
       "      <td>-0.005896</td>\n",
       "      <td>0.01044</td>\n",
       "      <td>-</td>\n",
       "      <td>0.000000</td>\n",
       "      <td>-</td>\n",
       "      <td>-</td>\n",
       "      <td>0.000000</td>\n",
       "      <td>953.093882</td>\n",
       "      <td>0.000000</td>\n",
       "      <td>953.093882</td>\n",
       "    </tr>\n",
       "    <tr>\n",
       "      <th>39</th>\n",
       "      <td>2021-03-13</td>\n",
       "      <td>51235.535156</td>\n",
       "      <td>0.068232</td>\n",
       "      <td>-</td>\n",
       "      <td>-</td>\n",
       "      <td>0.000000</td>\n",
       "      <td>-</td>\n",
       "      <td>-</td>\n",
       "      <td>0.000000</td>\n",
       "      <td>953.093882</td>\n",
       "      <td>0.000000</td>\n",
       "      <td>953.093882</td>\n",
       "    </tr>\n",
       "    <tr>\n",
       "      <th>40</th>\n",
       "      <td>2021-03-14</td>\n",
       "      <td>49624.296875</td>\n",
       "      <td>-0.031448</td>\n",
       "      <td>0.05329</td>\n",
       "      <td>-</td>\n",
       "      <td>0.000000</td>\n",
       "      <td>-</td>\n",
       "      <td>-</td>\n",
       "      <td>0.000000</td>\n",
       "      <td>953.093882</td>\n",
       "      <td>0.000000</td>\n",
       "      <td>953.093882</td>\n",
       "    </tr>\n",
       "    <tr>\n",
       "      <th>41</th>\n",
       "      <td>2021-03-15</td>\n",
       "      <td>46876.453125</td>\n",
       "      <td>-0.055373</td>\n",
       "      <td>0.144171</td>\n",
       "      <td>-</td>\n",
       "      <td>0.000000</td>\n",
       "      <td>-</td>\n",
       "      <td>-</td>\n",
       "      <td>0.000000</td>\n",
       "      <td>953.093882</td>\n",
       "      <td>0.000000</td>\n",
       "      <td>953.093882</td>\n",
       "    </tr>\n",
       "    <tr>\n",
       "      <th>42</th>\n",
       "      <td>2021-03-16</td>\n",
       "      <td>47727.082031</td>\n",
       "      <td>0.018146</td>\n",
       "      <td>-</td>\n",
       "      <td>-</td>\n",
       "      <td>0.000000</td>\n",
       "      <td>-</td>\n",
       "      <td>-</td>\n",
       "      <td>0.000000</td>\n",
       "      <td>953.093882</td>\n",
       "      <td>0.000000</td>\n",
       "      <td>953.093882</td>\n",
       "    </tr>\n",
       "    <tr>\n",
       "      <th>43</th>\n",
       "      <td>2021-03-17</td>\n",
       "      <td>49129.878906</td>\n",
       "      <td>0.029392</td>\n",
       "      <td>-</td>\n",
       "      <td>-</td>\n",
       "      <td>0.000000</td>\n",
       "      <td>-</td>\n",
       "      <td>-</td>\n",
       "      <td>0.000000</td>\n",
       "      <td>953.093882</td>\n",
       "      <td>0.000000</td>\n",
       "      <td>953.093882</td>\n",
       "    </tr>\n",
       "    <tr>\n",
       "      <th>44</th>\n",
       "      <td>2021-03-18</td>\n",
       "      <td>48546.066406</td>\n",
       "      <td>-0.011883</td>\n",
       "      <td>0.088951</td>\n",
       "      <td>-</td>\n",
       "      <td>0.000000</td>\n",
       "      <td>-</td>\n",
       "      <td>-</td>\n",
       "      <td>0.000000</td>\n",
       "      <td>953.093882</td>\n",
       "      <td>0.000000</td>\n",
       "      <td>953.093882</td>\n",
       "    </tr>\n",
       "    <tr>\n",
       "      <th>45</th>\n",
       "      <td>2021-03-19</td>\n",
       "      <td>48839.941406</td>\n",
       "      <td>0.006054</td>\n",
       "      <td>-</td>\n",
       "      <td>-</td>\n",
       "      <td>0.000000</td>\n",
       "      <td>-</td>\n",
       "      <td>-</td>\n",
       "      <td>0.000000</td>\n",
       "      <td>953.093882</td>\n",
       "      <td>0.000000</td>\n",
       "      <td>953.093882</td>\n",
       "    </tr>\n",
       "    <tr>\n",
       "      <th>46</th>\n",
       "      <td>2021-03-20</td>\n",
       "      <td>48812.308594</td>\n",
       "      <td>-0.000566</td>\n",
       "      <td>0.080145</td>\n",
       "      <td>-</td>\n",
       "      <td>0.000000</td>\n",
       "      <td>-</td>\n",
       "      <td>-</td>\n",
       "      <td>0.000000</td>\n",
       "      <td>953.093882</td>\n",
       "      <td>0.000000</td>\n",
       "      <td>953.093882</td>\n",
       "    </tr>\n",
       "    <tr>\n",
       "      <th>47</th>\n",
       "      <td>2021-03-21</td>\n",
       "      <td>48405.210938</td>\n",
       "      <td>-0.008340</td>\n",
       "      <td>0.093609</td>\n",
       "      <td>-</td>\n",
       "      <td>0.000000</td>\n",
       "      <td>-</td>\n",
       "      <td>-</td>\n",
       "      <td>0.000000</td>\n",
       "      <td>953.093882</td>\n",
       "      <td>0.000000</td>\n",
       "      <td>953.093882</td>\n",
       "    </tr>\n",
       "    <tr>\n",
       "      <th>48</th>\n",
       "      <td>2021-03-22</td>\n",
       "      <td>45699.406250</td>\n",
       "      <td>-0.055899</td>\n",
       "      <td>0.1831</td>\n",
       "      <td>-</td>\n",
       "      <td>0.000000</td>\n",
       "      <td>-</td>\n",
       "      <td>-</td>\n",
       "      <td>0.000000</td>\n",
       "      <td>953.093882</td>\n",
       "      <td>0.000000</td>\n",
       "      <td>953.093882</td>\n",
       "    </tr>\n",
       "    <tr>\n",
       "      <th>49</th>\n",
       "      <td>2021-03-23</td>\n",
       "      <td>46230.269531</td>\n",
       "      <td>0.011616</td>\n",
       "      <td>-</td>\n",
       "      <td>-</td>\n",
       "      <td>0.000000</td>\n",
       "      <td>-</td>\n",
       "      <td>-</td>\n",
       "      <td>0.000000</td>\n",
       "      <td>953.093882</td>\n",
       "      <td>0.000000</td>\n",
       "      <td>953.093882</td>\n",
       "    </tr>\n",
       "  </tbody>\n",
       "</table>\n",
       "</div>"
      ],
      "text/plain": [
       "    Timestamp        prezzo  variazione % prezzo % discesa relativa   azione  \\\n",
       "0  2021-02-02  29501.521484             0.061565                  -        -   \n",
       "1  2021-02-03  31119.447266             0.054842                  -        -   \n",
       "2  2021-02-04  30859.554688            -0.008351           0.025682        -   \n",
       "3  2021-02-05  31658.248047             0.025882                  -        -   \n",
       "4  2021-02-06  32588.472656             0.029383                  -        -   \n",
       "5  2021-02-07  32288.650391            -0.009200           0.025872        -   \n",
       "6  2021-02-08  38329.667969             0.187094                  -        -   \n",
       "7  2021-02-09  38362.296875             0.000851                  -        -   \n",
       "8  2021-02-10  37065.046875            -0.033816           0.074716        -   \n",
       "9  2021-02-11  39494.441406             0.065544                  -        -   \n",
       "10 2021-02-12  39194.921875            -0.007584           0.016195        -   \n",
       "11 2021-02-13  38864.359375            -0.008434           0.034069        -   \n",
       "12 2021-02-14  40194.054688             0.034214                  -        -   \n",
       "13 2021-02-15  39518.808594            -0.016800            0.03518        -   \n",
       "14 2021-02-16  40700.742188             0.029908                  -        -   \n",
       "15 2021-02-17  43293.167969             0.063695                  -        -   \n",
       "16 2021-02-18  42739.449219            -0.012790           0.024838        -   \n",
       "17 2021-02-19  46119.000000             0.079073                  -        -   \n",
       "18 2021-02-20  46293.437500             0.003782                  -        -   \n",
       "19 2021-02-21  47456.125000             0.025116                  -        -   \n",
       "20 2021-02-22  44563.242188            -0.060959           0.109346        -   \n",
       "21 2021-02-23  40181.332031            -0.098330           0.274976        -   \n",
       "22 2021-02-24  40844.414062             0.016502                  -        -   \n",
       "23 2021-02-25  38735.164062            -0.051641           0.329639  Vendita   \n",
       "24 2021-02-26  38385.910156            -0.009016            0.34284  Vendita   \n",
       "25 2021-02-27  38260.480469            -0.003268           0.347581  Vendita   \n",
       "26 2021-02-28  37332.503906            -0.024254           0.382657        -   \n",
       "27 2021-03-01  41192.191406             0.103387                  -        -   \n",
       "28 2021-03-02  40032.695312            -0.028148           0.280594        -   \n",
       "29 2021-03-03  41952.804688             0.047964                  -        -   \n",
       "30 2021-03-04  40578.535156            -0.032758           0.259962        -   \n",
       "31 2021-03-05  41076.527344             0.012272                  -        -   \n",
       "32 2021-03-06  41047.320312            -0.000711           0.242243        -   \n",
       "33 2021-03-07  42935.992188             0.046012                  -        -   \n",
       "34 2021-03-08  44086.503906             0.026796                  -        -   \n",
       "35 2021-03-09  46082.246094             0.045269                  -        -   \n",
       "36 2021-03-10  46969.328125             0.019250                  -        -   \n",
       "37 2021-03-11  48247.394531             0.027211                  -        -   \n",
       "38 2021-03-12  47962.937500            -0.005896            0.01044        -   \n",
       "39 2021-03-13  51235.535156             0.068232                  -        -   \n",
       "40 2021-03-14  49624.296875            -0.031448            0.05329        -   \n",
       "41 2021-03-15  46876.453125            -0.055373           0.144171        -   \n",
       "42 2021-03-16  47727.082031             0.018146                  -        -   \n",
       "43 2021-03-17  49129.878906             0.029392                  -        -   \n",
       "44 2021-03-18  48546.066406            -0.011883           0.088951        -   \n",
       "45 2021-03-19  48839.941406             0.006054                  -        -   \n",
       "46 2021-03-20  48812.308594            -0.000566           0.080145        -   \n",
       "47 2021-03-21  48405.210938            -0.008340           0.093609        -   \n",
       "48 2021-03-22  45699.406250            -0.055899             0.1831        -   \n",
       "49 2021-03-23  46230.269531             0.011616                  -        -   \n",
       "\n",
       "    quantità BTC venduta % BTC venduta attuali % BTC venduta iniziali  \\\n",
       "0               0.000000                     -                      -   \n",
       "1               0.000000                     -                      -   \n",
       "2               0.000000                     -                      -   \n",
       "3               0.000000                     -                      -   \n",
       "4               0.000000                     -                      -   \n",
       "5               0.000000                     -                      -   \n",
       "6               0.000000                     -                      -   \n",
       "7               0.000000                     -                      -   \n",
       "8               0.000000                     -                      -   \n",
       "9               0.000000                     -                      -   \n",
       "10              0.000000                     -                      -   \n",
       "11              0.000000                     -                      -   \n",
       "12              0.000000                     -                      -   \n",
       "13              0.000000                     -                      -   \n",
       "14              0.000000                     -                      -   \n",
       "15              0.000000                     -                      -   \n",
       "16              0.000000                     -                      -   \n",
       "17              0.000000                     -                      -   \n",
       "18              0.000000                     -                      -   \n",
       "19              0.000000                     -                      -   \n",
       "20              0.000000                     -                      -   \n",
       "21              0.000000                     -                      -   \n",
       "22              0.000000                     -                      -   \n",
       "23              0.008169              0.329639               0.329639   \n",
       "24              0.008496              0.511425                0.34284   \n",
       "25              0.008116                   1.0               0.327521   \n",
       "26              0.000000                     -                      -   \n",
       "27              0.000000                     -                      -   \n",
       "28              0.000000                     -                      -   \n",
       "29              0.000000                     -                      -   \n",
       "30              0.000000                     -                      -   \n",
       "31              0.000000                     -                      -   \n",
       "32              0.000000                     -                      -   \n",
       "33              0.000000                     -                      -   \n",
       "34              0.000000                     -                      -   \n",
       "35              0.000000                     -                      -   \n",
       "36              0.000000                     -                      -   \n",
       "37              0.000000                     -                      -   \n",
       "38              0.000000                     -                      -   \n",
       "39              0.000000                     -                      -   \n",
       "40              0.000000                     -                      -   \n",
       "41              0.000000                     -                      -   \n",
       "42              0.000000                     -                      -   \n",
       "43              0.000000                     -                      -   \n",
       "44              0.000000                     -                      -   \n",
       "45              0.000000                     -                      -   \n",
       "46              0.000000                     -                      -   \n",
       "47              0.000000                     -                      -   \n",
       "48              0.000000                     -                      -   \n",
       "49              0.000000                     -                      -   \n",
       "\n",
       "    liquidità guadagnata   liquidità   bitcoin  valore_totale_portafoglio  \n",
       "0               0.000000    0.000000  0.024781                 731.090775  \n",
       "1               0.000000    0.000000  0.024781                 771.185338  \n",
       "2               0.000000    0.000000  0.024781                 764.744820  \n",
       "3               0.000000    0.000000  0.024781                 784.537608  \n",
       "4               0.000000    0.000000  0.024781                 807.589932  \n",
       "5               0.000000    0.000000  0.024781                 800.159898  \n",
       "6               0.000000    0.000000  0.024781                 949.865134  \n",
       "7               0.000000    0.000000  0.024781                 950.673726  \n",
       "8               0.000000    0.000000  0.024781                 918.525977  \n",
       "9               0.000000    0.000000  0.024781                 978.729920  \n",
       "10              0.000000    0.000000  0.024781                 971.307389  \n",
       "11              0.000000    0.000000  0.024781                 963.115567  \n",
       "12              0.000000    0.000000  0.024781                 996.067358  \n",
       "13              0.000000    0.000000  0.024781                 979.333774  \n",
       "14              0.000000    0.000000  0.024781                1008.623814  \n",
       "15              0.000000    0.000000  0.024781                1072.867910  \n",
       "16              0.000000    0.000000  0.024781                1059.145951  \n",
       "17              0.000000    0.000000  0.024781                1142.896154  \n",
       "18              0.000000    0.000000  0.024781                1147.218970  \n",
       "19              0.000000    0.000000  0.024781                1176.032063  \n",
       "20              0.000000    0.000000  0.024781                1104.342204  \n",
       "21              0.000000    0.000000  0.024781                 995.752072  \n",
       "22              0.000000    0.000000  0.024781                1012.184213  \n",
       "23            316.424714  316.424714  0.016613                 959.913919  \n",
       "24            326.129491  642.554205  0.008116                 954.111927  \n",
       "25            310.539677  953.093882  0.000000                 953.093882  \n",
       "26              0.000000  953.093882  0.000000                 953.093882  \n",
       "27              0.000000  953.093882  0.000000                 953.093882  \n",
       "28              0.000000  953.093882  0.000000                 953.093882  \n",
       "29              0.000000  953.093882  0.000000                 953.093882  \n",
       "30              0.000000  953.093882  0.000000                 953.093882  \n",
       "31              0.000000  953.093882  0.000000                 953.093882  \n",
       "32              0.000000  953.093882  0.000000                 953.093882  \n",
       "33              0.000000  953.093882  0.000000                 953.093882  \n",
       "34              0.000000  953.093882  0.000000                 953.093882  \n",
       "35              0.000000  953.093882  0.000000                 953.093882  \n",
       "36              0.000000  953.093882  0.000000                 953.093882  \n",
       "37              0.000000  953.093882  0.000000                 953.093882  \n",
       "38              0.000000  953.093882  0.000000                 953.093882  \n",
       "39              0.000000  953.093882  0.000000                 953.093882  \n",
       "40              0.000000  953.093882  0.000000                 953.093882  \n",
       "41              0.000000  953.093882  0.000000                 953.093882  \n",
       "42              0.000000  953.093882  0.000000                 953.093882  \n",
       "43              0.000000  953.093882  0.000000                 953.093882  \n",
       "44              0.000000  953.093882  0.000000                 953.093882  \n",
       "45              0.000000  953.093882  0.000000                 953.093882  \n",
       "46              0.000000  953.093882  0.000000                 953.093882  \n",
       "47              0.000000  953.093882  0.000000                 953.093882  \n",
       "48              0.000000  953.093882  0.000000                 953.093882  \n",
       "49              0.000000  953.093882  0.000000                 953.093882  "
      ]
     },
     "execution_count": 193,
     "metadata": {},
     "output_type": "execute_result"
    }
   ],
   "source": [
    "df_transazioni[:50]"
   ]
  },
  {
   "cell_type": "code",
   "execution_count": 194,
   "metadata": {},
   "outputs": [
    {
     "data": {
      "application/vnd.plotly.v1+json": {
       "config": {
        "plotlyServerURL": "https://plot.ly"
       },
       "data": [
        {
         "hoverinfo": "x+y",
         "line": {
          "color": "blue",
          "width": 2
         },
         "mode": "lines",
         "name": "Prezzi Bitcoin",
         "type": "scatter",
         "x": [
          "2021-02-02T00:00:00",
          "2021-02-03T00:00:00",
          "2021-02-04T00:00:00",
          "2021-02-05T00:00:00",
          "2021-02-06T00:00:00",
          "2021-02-07T00:00:00",
          "2021-02-08T00:00:00",
          "2021-02-09T00:00:00",
          "2021-02-10T00:00:00",
          "2021-02-11T00:00:00",
          "2021-02-12T00:00:00",
          "2021-02-13T00:00:00",
          "2021-02-14T00:00:00",
          "2021-02-15T00:00:00",
          "2021-02-16T00:00:00",
          "2021-02-17T00:00:00",
          "2021-02-18T00:00:00",
          "2021-02-19T00:00:00",
          "2021-02-20T00:00:00",
          "2021-02-21T00:00:00",
          "2021-02-22T00:00:00",
          "2021-02-23T00:00:00",
          "2021-02-24T00:00:00",
          "2021-02-25T00:00:00",
          "2021-02-26T00:00:00",
          "2021-02-27T00:00:00",
          "2021-02-28T00:00:00",
          "2021-03-01T00:00:00",
          "2021-03-02T00:00:00",
          "2021-03-03T00:00:00",
          "2021-03-04T00:00:00",
          "2021-03-05T00:00:00",
          "2021-03-06T00:00:00",
          "2021-03-07T00:00:00",
          "2021-03-08T00:00:00",
          "2021-03-09T00:00:00",
          "2021-03-10T00:00:00",
          "2021-03-11T00:00:00",
          "2021-03-12T00:00:00",
          "2021-03-13T00:00:00",
          "2021-03-14T00:00:00",
          "2021-03-15T00:00:00",
          "2021-03-16T00:00:00",
          "2021-03-17T00:00:00",
          "2021-03-18T00:00:00",
          "2021-03-19T00:00:00",
          "2021-03-20T00:00:00",
          "2021-03-21T00:00:00",
          "2021-03-22T00:00:00",
          "2021-03-23T00:00:00",
          "2021-03-24T00:00:00",
          "2021-03-25T00:00:00",
          "2021-03-26T00:00:00",
          "2021-03-27T00:00:00",
          "2021-03-28T00:00:00",
          "2021-03-29T00:00:00",
          "2021-03-30T00:00:00",
          "2021-03-31T00:00:00",
          "2021-04-01T00:00:00",
          "2021-04-02T00:00:00",
          "2021-04-03T00:00:00",
          "2021-04-04T00:00:00",
          "2021-04-05T00:00:00",
          "2021-04-06T00:00:00",
          "2021-04-07T00:00:00",
          "2021-04-08T00:00:00",
          "2021-04-09T00:00:00",
          "2021-04-10T00:00:00",
          "2021-04-11T00:00:00",
          "2021-04-12T00:00:00",
          "2021-04-13T00:00:00",
          "2021-04-14T00:00:00",
          "2021-04-15T00:00:00",
          "2021-04-16T00:00:00",
          "2021-04-17T00:00:00",
          "2021-04-18T00:00:00",
          "2021-04-19T00:00:00",
          "2021-04-20T00:00:00",
          "2021-04-21T00:00:00",
          "2021-04-22T00:00:00",
          "2021-04-23T00:00:00",
          "2021-04-24T00:00:00",
          "2021-04-25T00:00:00",
          "2021-04-26T00:00:00",
          "2021-04-27T00:00:00",
          "2021-04-28T00:00:00",
          "2021-04-29T00:00:00",
          "2021-04-30T00:00:00",
          "2021-05-01T00:00:00",
          "2021-05-02T00:00:00",
          "2021-05-03T00:00:00",
          "2021-05-04T00:00:00",
          "2021-05-05T00:00:00",
          "2021-05-06T00:00:00",
          "2021-05-07T00:00:00",
          "2021-05-08T00:00:00",
          "2021-05-09T00:00:00",
          "2021-05-10T00:00:00",
          "2021-05-11T00:00:00",
          "2021-05-12T00:00:00",
          "2021-05-13T00:00:00",
          "2021-05-14T00:00:00",
          "2021-05-15T00:00:00",
          "2021-05-16T00:00:00",
          "2021-05-17T00:00:00",
          "2021-05-18T00:00:00",
          "2021-05-19T00:00:00",
          "2021-05-20T00:00:00",
          "2021-05-21T00:00:00",
          "2021-05-22T00:00:00",
          "2021-05-23T00:00:00",
          "2021-05-24T00:00:00",
          "2021-05-25T00:00:00",
          "2021-05-26T00:00:00",
          "2021-05-27T00:00:00",
          "2021-05-28T00:00:00",
          "2021-05-29T00:00:00",
          "2021-05-30T00:00:00",
          "2021-05-31T00:00:00",
          "2021-06-01T00:00:00",
          "2021-06-02T00:00:00",
          "2021-06-03T00:00:00",
          "2021-06-04T00:00:00",
          "2021-06-05T00:00:00",
          "2021-06-06T00:00:00",
          "2021-06-07T00:00:00",
          "2021-06-08T00:00:00",
          "2021-06-09T00:00:00",
          "2021-06-10T00:00:00",
          "2021-06-11T00:00:00",
          "2021-06-12T00:00:00",
          "2021-06-13T00:00:00",
          "2021-06-14T00:00:00",
          "2021-06-15T00:00:00",
          "2021-06-16T00:00:00",
          "2021-06-17T00:00:00",
          "2021-06-18T00:00:00",
          "2021-06-19T00:00:00",
          "2021-06-20T00:00:00",
          "2021-06-21T00:00:00",
          "2021-06-22T00:00:00",
          "2021-06-23T00:00:00",
          "2021-06-24T00:00:00",
          "2021-06-25T00:00:00",
          "2021-06-26T00:00:00",
          "2021-06-27T00:00:00",
          "2021-06-28T00:00:00",
          "2021-06-29T00:00:00",
          "2021-06-30T00:00:00",
          "2021-07-01T00:00:00"
         ],
         "y": [
          29501.521484375,
          31119.447265625,
          30859.5546875,
          31658.248046875,
          32588.47265625,
          32288.650390625,
          38329.66796875,
          38362.296875,
          37065.046875,
          39494.44140625,
          39194.921875,
          38864.359375,
          40194.0546875,
          39518.80859375,
          40700.7421875,
          43293.16796875,
          42739.44921875,
          46119,
          46293.4375,
          47456.125,
          44563.2421875,
          40181.33203125,
          40844.4140625,
          38735.1640625,
          38385.91015625,
          38260.48046875,
          37332.50390625,
          41192.19140625,
          40032.6953125,
          41952.8046875,
          40578.53515625,
          41076.52734375,
          41047.3203125,
          42935.9921875,
          44086.50390625,
          46082.24609375,
          46969.328125,
          48247.39453125,
          47962.9375,
          51235.53515625,
          49624.296875,
          46876.453125,
          47727.08203125,
          49129.87890625,
          48546.06640625,
          48839.94140625,
          48812.30859375,
          48405.2109375,
          45699.40625,
          46230.26953125,
          44675.62890625,
          43907.328125,
          46749.44140625,
          47458.4296875,
          47471.80078125,
          49071.7890625,
          50257.0859375,
          50240.55859375,
          50172.63671875,
          50497.2734375,
          48985.828125,
          49933.19921875,
          49976.84375,
          49008.61328125,
          47210.01953125,
          48948.37890625,
          48942.109375,
          50242.22265625,
          50609.1953125,
          50273.60546875,
          53123.62890625,
          52664.09375,
          52896.38671875,
          51386.25,
          50646.05078125,
          46968.79296875,
          46276.83203125,
          46933.71875,
          44784.20703125,
          43083.34375,
          42231.40625,
          41374.1015625,
          40534.26171875,
          44721.85546875,
          45522.515625,
          45178.68359375,
          44170.96875,
          48047.05078125,
          48110.046875,
          47088.5703125,
          47432.76953125,
          44387.26171875,
          47823.05859375,
          46742.55859375,
          47155.5078125,
          48345.46484375,
          47846.5234375,
          46010.484375,
          46692.53125,
          40695.51171875,
          41166.6953125,
          41072.77734375,
          38498.73828125,
          38235.890625,
          35814.0859375,
          35106.796875,
          30403.203125,
          33359.13671875,
          30627.822265625,
          30818.25,
          28545.537109375,
          31689.203125,
          31356.951171875,
          32229.533203125,
          31524.041015625,
          29278.3203125,
          28391.1640625,
          29269.517578125,
          30519.30859375,
          30026.794921875,
          30775.01171875,
          32321.55078125,
          30322.69921875,
          29221.080078125,
          29474.392578125,
          27526.4921875,
          27497.93359375,
          30664.52734375,
          30150.48828125,
          30832.0546875,
          29360.513671875,
          32286.505859375,
          33178.515625,
          33325.59375,
          31969.333984375,
          31943.0625,
          30165.85546875,
          30019.2265625,
          30071.78125,
          26591.064453125,
          27232.396484375,
          28266.576171875,
          29059.703125,
          26502.841796875,
          26965.501953125,
          29013.7421875,
          28866.302734375,
          30139.98046875,
          29555.0546875,
          28341.4140625
         ]
        },
        {
         "hoverinfo": "text",
         "marker": {
          "color": "red",
          "opacity": 0.7,
          "size": [
           48.45977669871554,
           50,
           48.212762841977195
          ]
         },
         "mode": "markers",
         "name": "Vendite",
         "text": [
          "Timestamp: 2021-02-25 00:00:00<br>Prezzo: 38735.16 €<br>Variazione % prezzo: -5.16 %<br>% discesa relativa: 32.96 %<br>Quantità BTC venduta: 0.0082<br>% BTC venduta attuali: 32.96 %<br>% BTC venduta iniziali: 32.96 %<br>Liquidità guadagnata: 316.42 €<br>Liquidità totale: 316.42 €<br>BTC rimanenti: 0.0166<br>Valore totale portafoglio: 959.91 €",
          "Timestamp: 2021-02-26 00:00:00<br>Prezzo: 38385.91 €<br>Variazione % prezzo: -0.90 %<br>% discesa relativa: 34.28 %<br>Quantità BTC venduta: 0.0085<br>% BTC venduta attuali: 51.14 %<br>% BTC venduta iniziali: 34.28 %<br>Liquidità guadagnata: 326.13 €<br>Liquidità totale: 642.55 €<br>BTC rimanenti: 0.0081<br>Valore totale portafoglio: 954.11 €",
          "Timestamp: 2021-02-27 00:00:00<br>Prezzo: 38260.48 €<br>Variazione % prezzo: -0.33 %<br>% discesa relativa: 34.76 %<br>Quantità BTC venduta: 0.0081<br>% BTC venduta attuali: 100.00 %<br>% BTC venduta iniziali: 32.75 %<br>Liquidità guadagnata: 310.54 €<br>Liquidità totale: 953.09 €<br>BTC rimanenti: 0.0000<br>Valore totale portafoglio: 953.09 €"
         ],
         "type": "scatter",
         "x": [
          "2021-02-25T00:00:00",
          "2021-02-26T00:00:00",
          "2021-02-27T00:00:00"
         ],
         "y": [
          38735.1640625,
          38385.91015625,
          38260.48046875
         ]
        }
       ],
       "layout": {
        "height": 800,
        "hovermode": "closest",
        "legend": {
         "x": 0.01,
         "xanchor": "left",
         "y": 0.99,
         "yanchor": "top"
        },
        "shapes": [
         {
          "line": {
           "color": "green",
           "dash": "dash",
           "width": 2
          },
          "name": "Prezzo Medio Acquisto",
          "type": "line",
          "x0": 0,
          "x1": 1,
          "xref": "x domain",
          "y0": 15000,
          "y1": 15000,
          "yref": "y"
         },
         {
          "line": {
           "color": "red",
           "dash": "dash",
           "width": 2
          },
          "name": "Prezzo Medio Vendita",
          "type": "line",
          "x0": 0,
          "x1": 1,
          "xref": "x domain",
          "y0": 20000,
          "y1": 20000,
          "yref": "y"
         },
         {
          "line": {
           "color": "purple",
           "dash": "dash",
           "width": 2
          },
          "name": "Base di Riferimento",
          "type": "line",
          "x0": 0,
          "x1": 1,
          "xref": "x domain",
          "y0": 21000,
          "y1": 21000,
          "yref": "y"
         }
        ],
        "template": {
         "data": {
          "bar": [
           {
            "error_x": {
             "color": "#2a3f5f"
            },
            "error_y": {
             "color": "#2a3f5f"
            },
            "marker": {
             "line": {
              "color": "white",
              "width": 0.5
             },
             "pattern": {
              "fillmode": "overlay",
              "size": 10,
              "solidity": 0.2
             }
            },
            "type": "bar"
           }
          ],
          "barpolar": [
           {
            "marker": {
             "line": {
              "color": "white",
              "width": 0.5
             },
             "pattern": {
              "fillmode": "overlay",
              "size": 10,
              "solidity": 0.2
             }
            },
            "type": "barpolar"
           }
          ],
          "carpet": [
           {
            "aaxis": {
             "endlinecolor": "#2a3f5f",
             "gridcolor": "#C8D4E3",
             "linecolor": "#C8D4E3",
             "minorgridcolor": "#C8D4E3",
             "startlinecolor": "#2a3f5f"
            },
            "baxis": {
             "endlinecolor": "#2a3f5f",
             "gridcolor": "#C8D4E3",
             "linecolor": "#C8D4E3",
             "minorgridcolor": "#C8D4E3",
             "startlinecolor": "#2a3f5f"
            },
            "type": "carpet"
           }
          ],
          "choropleth": [
           {
            "colorbar": {
             "outlinewidth": 0,
             "ticks": ""
            },
            "type": "choropleth"
           }
          ],
          "contour": [
           {
            "colorbar": {
             "outlinewidth": 0,
             "ticks": ""
            },
            "colorscale": [
             [
              0,
              "#0d0887"
             ],
             [
              0.1111111111111111,
              "#46039f"
             ],
             [
              0.2222222222222222,
              "#7201a8"
             ],
             [
              0.3333333333333333,
              "#9c179e"
             ],
             [
              0.4444444444444444,
              "#bd3786"
             ],
             [
              0.5555555555555556,
              "#d8576b"
             ],
             [
              0.6666666666666666,
              "#ed7953"
             ],
             [
              0.7777777777777778,
              "#fb9f3a"
             ],
             [
              0.8888888888888888,
              "#fdca26"
             ],
             [
              1,
              "#f0f921"
             ]
            ],
            "type": "contour"
           }
          ],
          "contourcarpet": [
           {
            "colorbar": {
             "outlinewidth": 0,
             "ticks": ""
            },
            "type": "contourcarpet"
           }
          ],
          "heatmap": [
           {
            "colorbar": {
             "outlinewidth": 0,
             "ticks": ""
            },
            "colorscale": [
             [
              0,
              "#0d0887"
             ],
             [
              0.1111111111111111,
              "#46039f"
             ],
             [
              0.2222222222222222,
              "#7201a8"
             ],
             [
              0.3333333333333333,
              "#9c179e"
             ],
             [
              0.4444444444444444,
              "#bd3786"
             ],
             [
              0.5555555555555556,
              "#d8576b"
             ],
             [
              0.6666666666666666,
              "#ed7953"
             ],
             [
              0.7777777777777778,
              "#fb9f3a"
             ],
             [
              0.8888888888888888,
              "#fdca26"
             ],
             [
              1,
              "#f0f921"
             ]
            ],
            "type": "heatmap"
           }
          ],
          "heatmapgl": [
           {
            "colorbar": {
             "outlinewidth": 0,
             "ticks": ""
            },
            "colorscale": [
             [
              0,
              "#0d0887"
             ],
             [
              0.1111111111111111,
              "#46039f"
             ],
             [
              0.2222222222222222,
              "#7201a8"
             ],
             [
              0.3333333333333333,
              "#9c179e"
             ],
             [
              0.4444444444444444,
              "#bd3786"
             ],
             [
              0.5555555555555556,
              "#d8576b"
             ],
             [
              0.6666666666666666,
              "#ed7953"
             ],
             [
              0.7777777777777778,
              "#fb9f3a"
             ],
             [
              0.8888888888888888,
              "#fdca26"
             ],
             [
              1,
              "#f0f921"
             ]
            ],
            "type": "heatmapgl"
           }
          ],
          "histogram": [
           {
            "marker": {
             "pattern": {
              "fillmode": "overlay",
              "size": 10,
              "solidity": 0.2
             }
            },
            "type": "histogram"
           }
          ],
          "histogram2d": [
           {
            "colorbar": {
             "outlinewidth": 0,
             "ticks": ""
            },
            "colorscale": [
             [
              0,
              "#0d0887"
             ],
             [
              0.1111111111111111,
              "#46039f"
             ],
             [
              0.2222222222222222,
              "#7201a8"
             ],
             [
              0.3333333333333333,
              "#9c179e"
             ],
             [
              0.4444444444444444,
              "#bd3786"
             ],
             [
              0.5555555555555556,
              "#d8576b"
             ],
             [
              0.6666666666666666,
              "#ed7953"
             ],
             [
              0.7777777777777778,
              "#fb9f3a"
             ],
             [
              0.8888888888888888,
              "#fdca26"
             ],
             [
              1,
              "#f0f921"
             ]
            ],
            "type": "histogram2d"
           }
          ],
          "histogram2dcontour": [
           {
            "colorbar": {
             "outlinewidth": 0,
             "ticks": ""
            },
            "colorscale": [
             [
              0,
              "#0d0887"
             ],
             [
              0.1111111111111111,
              "#46039f"
             ],
             [
              0.2222222222222222,
              "#7201a8"
             ],
             [
              0.3333333333333333,
              "#9c179e"
             ],
             [
              0.4444444444444444,
              "#bd3786"
             ],
             [
              0.5555555555555556,
              "#d8576b"
             ],
             [
              0.6666666666666666,
              "#ed7953"
             ],
             [
              0.7777777777777778,
              "#fb9f3a"
             ],
             [
              0.8888888888888888,
              "#fdca26"
             ],
             [
              1,
              "#f0f921"
             ]
            ],
            "type": "histogram2dcontour"
           }
          ],
          "mesh3d": [
           {
            "colorbar": {
             "outlinewidth": 0,
             "ticks": ""
            },
            "type": "mesh3d"
           }
          ],
          "parcoords": [
           {
            "line": {
             "colorbar": {
              "outlinewidth": 0,
              "ticks": ""
             }
            },
            "type": "parcoords"
           }
          ],
          "pie": [
           {
            "automargin": true,
            "type": "pie"
           }
          ],
          "scatter": [
           {
            "fillpattern": {
             "fillmode": "overlay",
             "size": 10,
             "solidity": 0.2
            },
            "type": "scatter"
           }
          ],
          "scatter3d": [
           {
            "line": {
             "colorbar": {
              "outlinewidth": 0,
              "ticks": ""
             }
            },
            "marker": {
             "colorbar": {
              "outlinewidth": 0,
              "ticks": ""
             }
            },
            "type": "scatter3d"
           }
          ],
          "scattercarpet": [
           {
            "marker": {
             "colorbar": {
              "outlinewidth": 0,
              "ticks": ""
             }
            },
            "type": "scattercarpet"
           }
          ],
          "scattergeo": [
           {
            "marker": {
             "colorbar": {
              "outlinewidth": 0,
              "ticks": ""
             }
            },
            "type": "scattergeo"
           }
          ],
          "scattergl": [
           {
            "marker": {
             "colorbar": {
              "outlinewidth": 0,
              "ticks": ""
             }
            },
            "type": "scattergl"
           }
          ],
          "scattermapbox": [
           {
            "marker": {
             "colorbar": {
              "outlinewidth": 0,
              "ticks": ""
             }
            },
            "type": "scattermapbox"
           }
          ],
          "scatterpolar": [
           {
            "marker": {
             "colorbar": {
              "outlinewidth": 0,
              "ticks": ""
             }
            },
            "type": "scatterpolar"
           }
          ],
          "scatterpolargl": [
           {
            "marker": {
             "colorbar": {
              "outlinewidth": 0,
              "ticks": ""
             }
            },
            "type": "scatterpolargl"
           }
          ],
          "scatterternary": [
           {
            "marker": {
             "colorbar": {
              "outlinewidth": 0,
              "ticks": ""
             }
            },
            "type": "scatterternary"
           }
          ],
          "surface": [
           {
            "colorbar": {
             "outlinewidth": 0,
             "ticks": ""
            },
            "colorscale": [
             [
              0,
              "#0d0887"
             ],
             [
              0.1111111111111111,
              "#46039f"
             ],
             [
              0.2222222222222222,
              "#7201a8"
             ],
             [
              0.3333333333333333,
              "#9c179e"
             ],
             [
              0.4444444444444444,
              "#bd3786"
             ],
             [
              0.5555555555555556,
              "#d8576b"
             ],
             [
              0.6666666666666666,
              "#ed7953"
             ],
             [
              0.7777777777777778,
              "#fb9f3a"
             ],
             [
              0.8888888888888888,
              "#fdca26"
             ],
             [
              1,
              "#f0f921"
             ]
            ],
            "type": "surface"
           }
          ],
          "table": [
           {
            "cells": {
             "fill": {
              "color": "#EBF0F8"
             },
             "line": {
              "color": "white"
             }
            },
            "header": {
             "fill": {
              "color": "#C8D4E3"
             },
             "line": {
              "color": "white"
             }
            },
            "type": "table"
           }
          ]
         },
         "layout": {
          "annotationdefaults": {
           "arrowcolor": "#2a3f5f",
           "arrowhead": 0,
           "arrowwidth": 1
          },
          "autotypenumbers": "strict",
          "coloraxis": {
           "colorbar": {
            "outlinewidth": 0,
            "ticks": ""
           }
          },
          "colorscale": {
           "diverging": [
            [
             0,
             "#8e0152"
            ],
            [
             0.1,
             "#c51b7d"
            ],
            [
             0.2,
             "#de77ae"
            ],
            [
             0.3,
             "#f1b6da"
            ],
            [
             0.4,
             "#fde0ef"
            ],
            [
             0.5,
             "#f7f7f7"
            ],
            [
             0.6,
             "#e6f5d0"
            ],
            [
             0.7,
             "#b8e186"
            ],
            [
             0.8,
             "#7fbc41"
            ],
            [
             0.9,
             "#4d9221"
            ],
            [
             1,
             "#276419"
            ]
           ],
           "sequential": [
            [
             0,
             "#0d0887"
            ],
            [
             0.1111111111111111,
             "#46039f"
            ],
            [
             0.2222222222222222,
             "#7201a8"
            ],
            [
             0.3333333333333333,
             "#9c179e"
            ],
            [
             0.4444444444444444,
             "#bd3786"
            ],
            [
             0.5555555555555556,
             "#d8576b"
            ],
            [
             0.6666666666666666,
             "#ed7953"
            ],
            [
             0.7777777777777778,
             "#fb9f3a"
            ],
            [
             0.8888888888888888,
             "#fdca26"
            ],
            [
             1,
             "#f0f921"
            ]
           ],
           "sequentialminus": [
            [
             0,
             "#0d0887"
            ],
            [
             0.1111111111111111,
             "#46039f"
            ],
            [
             0.2222222222222222,
             "#7201a8"
            ],
            [
             0.3333333333333333,
             "#9c179e"
            ],
            [
             0.4444444444444444,
             "#bd3786"
            ],
            [
             0.5555555555555556,
             "#d8576b"
            ],
            [
             0.6666666666666666,
             "#ed7953"
            ],
            [
             0.7777777777777778,
             "#fb9f3a"
            ],
            [
             0.8888888888888888,
             "#fdca26"
            ],
            [
             1,
             "#f0f921"
            ]
           ]
          },
          "colorway": [
           "#636efa",
           "#EF553B",
           "#00cc96",
           "#ab63fa",
           "#FFA15A",
           "#19d3f3",
           "#FF6692",
           "#B6E880",
           "#FF97FF",
           "#FECB52"
          ],
          "font": {
           "color": "#2a3f5f"
          },
          "geo": {
           "bgcolor": "white",
           "lakecolor": "white",
           "landcolor": "white",
           "showlakes": true,
           "showland": true,
           "subunitcolor": "#C8D4E3"
          },
          "hoverlabel": {
           "align": "left"
          },
          "hovermode": "closest",
          "mapbox": {
           "style": "light"
          },
          "paper_bgcolor": "white",
          "plot_bgcolor": "white",
          "polar": {
           "angularaxis": {
            "gridcolor": "#EBF0F8",
            "linecolor": "#EBF0F8",
            "ticks": ""
           },
           "bgcolor": "white",
           "radialaxis": {
            "gridcolor": "#EBF0F8",
            "linecolor": "#EBF0F8",
            "ticks": ""
           }
          },
          "scene": {
           "xaxis": {
            "backgroundcolor": "white",
            "gridcolor": "#DFE8F3",
            "gridwidth": 2,
            "linecolor": "#EBF0F8",
            "showbackground": true,
            "ticks": "",
            "zerolinecolor": "#EBF0F8"
           },
           "yaxis": {
            "backgroundcolor": "white",
            "gridcolor": "#DFE8F3",
            "gridwidth": 2,
            "linecolor": "#EBF0F8",
            "showbackground": true,
            "ticks": "",
            "zerolinecolor": "#EBF0F8"
           },
           "zaxis": {
            "backgroundcolor": "white",
            "gridcolor": "#DFE8F3",
            "gridwidth": 2,
            "linecolor": "#EBF0F8",
            "showbackground": true,
            "ticks": "",
            "zerolinecolor": "#EBF0F8"
           }
          },
          "shapedefaults": {
           "line": {
            "color": "#2a3f5f"
           }
          },
          "ternary": {
           "aaxis": {
            "gridcolor": "#DFE8F3",
            "linecolor": "#A2B1C6",
            "ticks": ""
           },
           "baxis": {
            "gridcolor": "#DFE8F3",
            "linecolor": "#A2B1C6",
            "ticks": ""
           },
           "bgcolor": "white",
           "caxis": {
            "gridcolor": "#DFE8F3",
            "linecolor": "#A2B1C6",
            "ticks": ""
           }
          },
          "title": {
           "x": 0.05
          },
          "xaxis": {
           "automargin": true,
           "gridcolor": "#EBF0F8",
           "linecolor": "#EBF0F8",
           "ticks": "",
           "title": {
            "standoff": 15
           },
           "zerolinecolor": "#EBF0F8",
           "zerolinewidth": 2
          },
          "yaxis": {
           "automargin": true,
           "gridcolor": "#EBF0F8",
           "linecolor": "#EBF0F8",
           "ticks": "",
           "title": {
            "standoff": 15
           },
           "zerolinecolor": "#EBF0F8",
           "zerolinewidth": 2
          }
         }
        },
        "title": {
         "text": "Andamento Prezzi Bitcoin e Transazioni di Vendita"
        },
        "width": 1200,
        "xaxis": {
         "rangeslider": {
          "visible": true
         },
         "title": {
          "text": "Data"
         },
         "type": "date"
        },
        "yaxis": {
         "title": {
          "text": "Prezzo (€)"
         }
        }
       }
      }
     },
     "metadata": {},
     "output_type": "display_data"
    }
   ],
   "source": [
    "# Supponiamo che df_transazioni sia già creato e contenga tutte le colonne richieste\n",
    "# Se ci sono NaN, conviene sistemarli per evitare problemi\n",
    "df_transazioni['quantità BTC venduta'] = pd.to_numeric(df_transazioni['quantità BTC venduta'], errors='coerce')\n",
    "\n",
    "# Filtro solo le transazioni di vendita\n",
    "vendite = df_transazioni[df_transazioni['azione'] == 'Vendita']\n",
    "\n",
    "# Calcolo della dimensione dei punti per le vendite\n",
    "max_quantita_vendita = vendite['quantità BTC venduta'].max()\n",
    "\n",
    "def calcola_dimensione(quantita, max_quantita, min_size=10, max_size=50):\n",
    "    return min_size + (max_size - min_size) * (quantita / max_quantita) if max_quantita != 0 else min_size\n",
    "\n",
    "# Applica la funzione di dimensione per ogni punto vendita\n",
    "dimensioni_vendite = vendite['quantità BTC venduta'].apply(lambda x: calcola_dimensione(x, max_quantita_vendita))\n",
    "\n",
    "# Funzione per formattare in modo sicuro i prezzi e altri valori\n",
    "def safe_format(value, precision=2):\n",
    "    return f\"{value:.{precision}f}\" if pd.notna(value) else \"None\"\n",
    "\n",
    "# Creazione del grafico dei prezzi con le vendite\n",
    "fig = go.Figure()\n",
    "\n",
    "# Linea dell'andamento dei prezzi\n",
    "fig.add_trace(go.Scatter(\n",
    "    x=df_transazioni['Timestamp'],\n",
    "    y=df_transazioni['prezzo'],\n",
    "    mode='lines',\n",
    "    name='Prezzi Bitcoin',\n",
    "    line=dict(color='blue', width=2),\n",
    "    hoverinfo='x+y'\n",
    "))\n",
    "\n",
    "# Scatter plot per le vendite con dimensione in base alla quantità BTC venduta\n",
    "fig.add_trace(go.Scatter(\n",
    "    x=vendite['Timestamp'],\n",
    "    y=vendite['prezzo'],\n",
    "    mode='markers',\n",
    "    name='Vendite',\n",
    "    marker=dict(color='red', size=dimensioni_vendite, opacity=0.7),\n",
    "    text=[\n",
    "        f\"Timestamp: {timestamp}<br>Prezzo: {safe_format(prezzo)} €<br>Variazione % prezzo: {safe_format(var_prezzo * 100, 2)} %<br>% discesa relativa: {round(desc * 100, 2) or 'None'} %<br>Quantità BTC venduta: {safe_format(qta, 4)}<br>% BTC venduta attuali: {safe_format(pct_attuali * 100, 2)} %<br>% BTC venduta iniziali: {safe_format(pct_iniziali * 100, 2)} %<br>Liquidità guadagnata: {safe_format(liquid_guad, 2)} €<br>Liquidità totale: {safe_format(liquid_tot, 2)} €<br>BTC rimanenti: {safe_format(btc_posseduti, 4)}<br>Valore totale portafoglio: {safe_format(valore_port, 2)} €\"\n",
    "        for timestamp, prezzo, var_prezzo, desc, qta, pct_attuali, pct_iniziali, liquid_guad, liquid_tot, btc_posseduti, valore_port in zip(\n",
    "            vendite['Timestamp'],\n",
    "            vendite['prezzo'],\n",
    "            vendite['variazione % prezzo'],\n",
    "            vendite['% discesa relativa'],\n",
    "            vendite['quantità BTC venduta'],\n",
    "            vendite['% BTC venduta attuali'],\n",
    "            vendite['% BTC venduta iniziali'],\n",
    "            vendite['liquidità guadagnata'],\n",
    "            vendite['liquidità'],\n",
    "            vendite['bitcoin'],\n",
    "            vendite['valore_totale_portafoglio']\n",
    "        )\n",
    "    ],\n",
    "    hoverinfo='text'\n",
    "))\n",
    "\n",
    "# Aggiunta delle linee orizzontali\n",
    "fig.add_hline(y=prezzo_medio_acquisti, line=dict(color='green', width=2, dash='dash'), name='Prezzo Medio Acquisto')\n",
    "fig.add_hline(y=prezzo_medio_vendite, line=dict(color='red', width=2, dash='dash'), name='Prezzo Medio Vendita')\n",
    "fig.add_hline(y=base_di_riferimento, line=dict(color='purple', width=2, dash='dash'), name='Base di Riferimento')\n",
    "\n",
    "# Configurazione del layout con range slider sull'asse X\n",
    "fig.update_layout(\n",
    "    title='Andamento Prezzi Bitcoin e Transazioni di Vendita',\n",
    "    xaxis_title='Data',\n",
    "    yaxis_title='Prezzo (€)',\n",
    "    hovermode='closest',\n",
    "    template='plotly_white',\n",
    "    legend=dict(yanchor=\"top\", y=0.99, xanchor=\"left\", x=0.01),\n",
    "    width=1200,\n",
    "    height=800,\n",
    "    xaxis=dict(\n",
    "        rangeslider=dict(visible=True),  # Abilita il range slider\n",
    "        type=\"date\"  # Imposta l'asse x come asse temporale\n",
    "    )\n",
    ")\n",
    "\n",
    "# Mostra il grafico interattivo\n",
    "fig.show()"
   ]
  }
 ],
 "metadata": {
  "kernelspec": {
   "display_name": "myenv",
   "language": "python",
   "name": "python3"
  },
  "language_info": {
   "codemirror_mode": {
    "name": "ipython",
    "version": 3
   },
   "file_extension": ".py",
   "mimetype": "text/x-python",
   "name": "python",
   "nbconvert_exporter": "python",
   "pygments_lexer": "ipython3",
   "version": "3.10.9"
  }
 },
 "nbformat": 4,
 "nbformat_minor": 2
}
